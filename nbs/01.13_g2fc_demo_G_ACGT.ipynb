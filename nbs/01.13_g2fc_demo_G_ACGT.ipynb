{
 "cells": [
  {
   "cell_type": "markdown",
   "id": "7aadccc0",
   "metadata": {},
   "source": [
    "# G only ACGT Probabilities\n",
    "\n",
    "> "
   ]
  },
  {
   "cell_type": "code",
   "execution_count": null,
   "id": "17bcbcbf",
   "metadata": {},
   "outputs": [],
   "source": [
    "# Hacky way to schedule. Here I'm setting these to sleep until the gpus should be free.\n",
    "# At the end of the notebooks  os._exit(00) will kill the kernel freeing the gpu. \n",
    "#                          Hours to wait\n",
    "# import time; time.sleep( 6 * (60*60))"
   ]
  },
  {
   "cell_type": "code",
   "execution_count": null,
   "id": "0bc2f33b",
   "metadata": {},
   "outputs": [],
   "source": [
    "import os\n",
    "\n",
    "import numpy as np\n",
    "import pandas as pd\n",
    "pd.set_option('display.max_columns', None)\n",
    "\n",
    "import plotly.express as px\n",
    "import plotly.io as pio\n",
    "pio.templates.default = \"plotly_white\"\n",
    "\n",
    "import hilbertcurve\n",
    "from hilbertcurve.hilbertcurve import HilbertCurve\n",
    "\n",
    "from EnvDL.core import * # includes remove_matching_files\n",
    "from EnvDL.dna import *\n",
    "from EnvDL.dlfn import *\n",
    "\n",
    "from tqdm import tqdm"
   ]
  },
  {
   "cell_type": "code",
   "execution_count": null,
   "id": "bb4600ed",
   "metadata": {},
   "outputs": [],
   "source": [
    "cache_path = '../nbs_artifacts/01.13_g2fc_demo_G_ACGT/'\n",
    "ensure_dir_path_exists(dir_path = cache_path)"
   ]
  },
  {
   "cell_type": "markdown",
   "id": "517af1f8",
   "metadata": {},
   "source": [
    "## Load data"
   ]
  },
  {
   "cell_type": "code",
   "execution_count": null,
   "id": "75e59a4c",
   "metadata": {},
   "outputs": [],
   "source": [
    "load_from = '../nbs_artifacts/01.03_g2fc_prep_matrices/'\n",
    "# phno = pd.read_csv(load_from+'phno.csv')\n",
    "phno_geno = pd.read_csv(load_from+'phno_geno.csv')\n",
    "phno = phno_geno\n",
    "\n",
    "obs_geno_lookup = np.load(load_from+'obs_geno_lookup.npy') # Phno_Idx\tGeno_Idx\tIs_Phno_Idx\n",
    "YMat = np.load(load_from+'YMat.npy')\n",
    "# GMat = np.load(load_from+'GMat.npy')\n",
    "# ACGT_OneHot = np.load(load_from+'ACGT_OneHot.npy')\n",
    "ACGT = np.load(load_from+'ACGT.npy')\n",
    "# ACGT_hilb = np.load(load_from+'ACGT_hilb.npy')\n",
    "# SMat = np.load(load_from+'SMat3.npy')\n",
    "# WMat = np.load(load_from+'WMat3.npy')\n",
    "# MMat = np.load(load_from+'MMat3.npy')"
   ]
  },
  {
   "cell_type": "code",
   "execution_count": null,
   "id": "0ea0cacd",
   "metadata": {},
   "outputs": [
    {
     "name": "stdout",
     "output_type": "stream",
     "text": [
      "Using cuda device\n"
     ]
    }
   ],
   "source": [
    "# dataloader_batch_size = 8 #16 #64\n",
    "# run_epochs = 200\n",
    "\n",
    "use_gpu_num = 0\n",
    "\n",
    "# Imports --------------------------------------------------------------------\n",
    "import torch\n",
    "from torch.utils.data import Dataset\n",
    "from torch.utils.data import DataLoader\n",
    "from torch import nn\n",
    "\n",
    "device = \"cuda\" if torch.cuda.is_available() else \"cpu\"\n",
    "if use_gpu_num in [0, 1]: \n",
    "    torch.cuda.set_device(use_gpu_num)\n",
    "print(f\"Using {device} device\")"
   ]
  },
  {
   "cell_type": "markdown",
   "id": "02205e69",
   "metadata": {},
   "source": [
    "## One Hot Encoded"
   ]
  },
  {
   "cell_type": "code",
   "execution_count": null,
   "id": "c63e7e11",
   "metadata": {},
   "outputs": [],
   "source": [
    "rng = np.random.default_rng(9230473) # note, must use rng.shuffle(arr) below for this to take effect."
   ]
  },
  {
   "cell_type": "code",
   "execution_count": null,
   "id": "50a91e51",
   "metadata": {},
   "outputs": [
    {
     "data": {
      "text/html": [
       "<div>\n",
       "<style scoped>\n",
       "    .dataframe tbody tr th:only-of-type {\n",
       "        vertical-align: middle;\n",
       "    }\n",
       "\n",
       "    .dataframe tbody tr th {\n",
       "        vertical-align: top;\n",
       "    }\n",
       "\n",
       "    .dataframe thead th {\n",
       "        text-align: right;\n",
       "    }\n",
       "</style>\n",
       "<table border=\"1\" class=\"dataframe\">\n",
       "  <thead>\n",
       "    <tr style=\"text-align: right;\">\n",
       "      <th></th>\n",
       "      <th>Hybrid</th>\n",
       "      <th>n</th>\n",
       "      <th>pct</th>\n",
       "      <th>pct_cumsum</th>\n",
       "      <th>random_order</th>\n",
       "    </tr>\n",
       "  </thead>\n",
       "  <tbody>\n",
       "    <tr>\n",
       "      <th>0</th>\n",
       "      <td>2369/DK3IIH6</td>\n",
       "      <td>113</td>\n",
       "      <td>0.000849</td>\n",
       "      <td>NaN</td>\n",
       "      <td>0</td>\n",
       "    </tr>\n",
       "    <tr>\n",
       "      <th>1</th>\n",
       "      <td>2369/PHN82</td>\n",
       "      <td>62</td>\n",
       "      <td>0.000466</td>\n",
       "      <td>NaN</td>\n",
       "      <td>0</td>\n",
       "    </tr>\n",
       "    <tr>\n",
       "      <th>2</th>\n",
       "      <td>2369/PHZ51</td>\n",
       "      <td>108</td>\n",
       "      <td>0.000812</td>\n",
       "      <td>NaN</td>\n",
       "      <td>0</td>\n",
       "    </tr>\n",
       "    <tr>\n",
       "      <th>3</th>\n",
       "      <td>2FACC/DK3IIH6</td>\n",
       "      <td>40</td>\n",
       "      <td>0.000301</td>\n",
       "      <td>NaN</td>\n",
       "      <td>0</td>\n",
       "    </tr>\n",
       "    <tr>\n",
       "      <th>4</th>\n",
       "      <td>4N506/DK3IIH6</td>\n",
       "      <td>37</td>\n",
       "      <td>0.000278</td>\n",
       "      <td>NaN</td>\n",
       "      <td>0</td>\n",
       "    </tr>\n",
       "    <tr>\n",
       "      <th>...</th>\n",
       "      <td>...</td>\n",
       "      <td>...</td>\n",
       "      <td>...</td>\n",
       "      <td>...</td>\n",
       "      <td>...</td>\n",
       "    </tr>\n",
       "    <tr>\n",
       "      <th>4921</th>\n",
       "      <td>Z037E0054/LH162</td>\n",
       "      <td>10</td>\n",
       "      <td>0.000075</td>\n",
       "      <td>NaN</td>\n",
       "      <td>0</td>\n",
       "    </tr>\n",
       "    <tr>\n",
       "      <th>4922</th>\n",
       "      <td>Z037E0054/PHZ51</td>\n",
       "      <td>23</td>\n",
       "      <td>0.000173</td>\n",
       "      <td>NaN</td>\n",
       "      <td>0</td>\n",
       "    </tr>\n",
       "    <tr>\n",
       "      <th>4923</th>\n",
       "      <td>Z038E0057/DK3IIH6</td>\n",
       "      <td>37</td>\n",
       "      <td>0.000278</td>\n",
       "      <td>NaN</td>\n",
       "      <td>0</td>\n",
       "    </tr>\n",
       "    <tr>\n",
       "      <th>4924</th>\n",
       "      <td>Z038E0057/LH162</td>\n",
       "      <td>11</td>\n",
       "      <td>0.000083</td>\n",
       "      <td>NaN</td>\n",
       "      <td>0</td>\n",
       "    </tr>\n",
       "    <tr>\n",
       "      <th>4925</th>\n",
       "      <td>Z038E0057/PHZ51</td>\n",
       "      <td>36</td>\n",
       "      <td>0.000271</td>\n",
       "      <td>NaN</td>\n",
       "      <td>0</td>\n",
       "    </tr>\n",
       "  </tbody>\n",
       "</table>\n",
       "<p>4926 rows × 5 columns</p>\n",
       "</div>"
      ],
      "text/plain": [
       "                 Hybrid    n       pct  pct_cumsum  random_order\n",
       "0          2369/DK3IIH6  113  0.000849         NaN             0\n",
       "1            2369/PHN82   62  0.000466         NaN             0\n",
       "2            2369/PHZ51  108  0.000812         NaN             0\n",
       "3         2FACC/DK3IIH6   40  0.000301         NaN             0\n",
       "4         4N506/DK3IIH6   37  0.000278         NaN             0\n",
       "...                 ...  ...       ...         ...           ...\n",
       "4921    Z037E0054/LH162   10  0.000075         NaN             0\n",
       "4922    Z037E0054/PHZ51   23  0.000173         NaN             0\n",
       "4923  Z038E0057/DK3IIH6   37  0.000278         NaN             0\n",
       "4924    Z038E0057/LH162   11  0.000083         NaN             0\n",
       "4925    Z038E0057/PHZ51   36  0.000271         NaN             0\n",
       "\n",
       "[4926 rows x 5 columns]"
      ]
     },
     "execution_count": null,
     "metadata": {},
     "output_type": "execute_result"
    }
   ],
   "source": [
    "pct_cumsum_thresh = .9\n",
    "\n",
    "# make a df to aid in creating train/test splits\n",
    "# the plan is to shuffle the rows of the df, calculate the cumulative sum of the percents obs, then \n",
    "# the entries above and below a given percent will be the train/test.\n",
    "obs_per_hybrid = phno.assign(n = 1).groupby('Hybrid').count().reset_index()\n",
    "obs_per_hybrid = obs_per_hybrid.loc[:, ['Hybrid', 'n']]\n",
    "obs_per_hybrid['pct'] = obs_per_hybrid.n / obs_per_hybrid.n.sum()\n",
    "obs_per_hybrid['pct_cumsum'] = np.nan\n",
    "obs_per_hybrid['random_order'] = 0\n",
    "\n",
    "obs_per_hybrid"
   ]
  },
  {
   "cell_type": "code",
   "execution_count": null,
   "id": "f9ca1bfb",
   "metadata": {},
   "outputs": [
    {
     "data": {
      "text/html": [
       "<div>\n",
       "<style scoped>\n",
       "    .dataframe tbody tr th:only-of-type {\n",
       "        vertical-align: middle;\n",
       "    }\n",
       "\n",
       "    .dataframe tbody tr th {\n",
       "        vertical-align: top;\n",
       "    }\n",
       "\n",
       "    .dataframe thead th {\n",
       "        text-align: right;\n",
       "    }\n",
       "</style>\n",
       "<table border=\"1\" class=\"dataframe\">\n",
       "  <thead>\n",
       "    <tr style=\"text-align: right;\">\n",
       "      <th></th>\n",
       "      <th>Hybrid</th>\n",
       "      <th>n</th>\n",
       "      <th>pct</th>\n",
       "      <th>pct_cumsum</th>\n",
       "      <th>random_order</th>\n",
       "    </tr>\n",
       "  </thead>\n",
       "  <tbody>\n",
       "    <tr>\n",
       "      <th>1738</th>\n",
       "      <td>MOG_MO45-074-1-1-1-1-B/LH185</td>\n",
       "      <td>13</td>\n",
       "      <td>0.000098</td>\n",
       "      <td>0.000098</td>\n",
       "      <td>0</td>\n",
       "    </tr>\n",
       "    <tr>\n",
       "      <th>1196</th>\n",
       "      <td>M0276/LH198</td>\n",
       "      <td>21</td>\n",
       "      <td>0.000158</td>\n",
       "      <td>0.000256</td>\n",
       "      <td>1</td>\n",
       "    </tr>\n",
       "    <tr>\n",
       "      <th>256</th>\n",
       "      <td>CG102/DK3IIH6</td>\n",
       "      <td>64</td>\n",
       "      <td>0.000481</td>\n",
       "      <td>0.000737</td>\n",
       "      <td>2</td>\n",
       "    </tr>\n",
       "    <tr>\n",
       "      <th>4735</th>\n",
       "      <td>Z022E0023/PB80</td>\n",
       "      <td>13</td>\n",
       "      <td>0.000098</td>\n",
       "      <td>0.000834</td>\n",
       "      <td>3</td>\n",
       "    </tr>\n",
       "    <tr>\n",
       "      <th>1647</th>\n",
       "      <td>MO44_PHW65_0416/LH195</td>\n",
       "      <td>47</td>\n",
       "      <td>0.000353</td>\n",
       "      <td>0.001187</td>\n",
       "      <td>4</td>\n",
       "    </tr>\n",
       "    <tr>\n",
       "      <th>...</th>\n",
       "      <td>...</td>\n",
       "      <td>...</td>\n",
       "      <td>...</td>\n",
       "      <td>...</td>\n",
       "      <td>...</td>\n",
       "    </tr>\n",
       "    <tr>\n",
       "      <th>194</th>\n",
       "      <td>BGEM-0211-N/LH195</td>\n",
       "      <td>45</td>\n",
       "      <td>0.000338</td>\n",
       "      <td>0.999557</td>\n",
       "      <td>4921</td>\n",
       "    </tr>\n",
       "    <tr>\n",
       "      <th>106</th>\n",
       "      <td>B73_PHG39-15/LH82</td>\n",
       "      <td>8</td>\n",
       "      <td>0.000060</td>\n",
       "      <td>0.999617</td>\n",
       "      <td>4922</td>\n",
       "    </tr>\n",
       "    <tr>\n",
       "      <th>2682</th>\n",
       "      <td>PHW52/PHK76</td>\n",
       "      <td>28</td>\n",
       "      <td>0.000210</td>\n",
       "      <td>0.999827</td>\n",
       "      <td>4923</td>\n",
       "    </tr>\n",
       "    <tr>\n",
       "      <th>3249</th>\n",
       "      <td>W10001_0013/PHB47</td>\n",
       "      <td>12</td>\n",
       "      <td>0.000090</td>\n",
       "      <td>0.999917</td>\n",
       "      <td>4924</td>\n",
       "    </tr>\n",
       "    <tr>\n",
       "      <th>1330</th>\n",
       "      <td>MO44_LH145_0081/PB80</td>\n",
       "      <td>11</td>\n",
       "      <td>0.000083</td>\n",
       "      <td>1.000000</td>\n",
       "      <td>4925</td>\n",
       "    </tr>\n",
       "  </tbody>\n",
       "</table>\n",
       "<p>4926 rows × 5 columns</p>\n",
       "</div>"
      ],
      "text/plain": [
       "                            Hybrid   n       pct  pct_cumsum  random_order\n",
       "1738  MOG_MO45-074-1-1-1-1-B/LH185  13  0.000098    0.000098             0\n",
       "1196                   M0276/LH198  21  0.000158    0.000256             1\n",
       "256                  CG102/DK3IIH6  64  0.000481    0.000737             2\n",
       "4735                Z022E0023/PB80  13  0.000098    0.000834             3\n",
       "1647         MO44_PHW65_0416/LH195  47  0.000353    0.001187             4\n",
       "...                            ...  ..       ...         ...           ...\n",
       "194              BGEM-0211-N/LH195  45  0.000338    0.999557          4921\n",
       "106              B73_PHG39-15/LH82   8  0.000060    0.999617          4922\n",
       "2682                   PHW52/PHK76  28  0.000210    0.999827          4923\n",
       "3249             W10001_0013/PHB47  12  0.000090    0.999917          4924\n",
       "1330          MO44_LH145_0081/PB80  11  0.000083    1.000000          4925\n",
       "\n",
       "[4926 rows x 5 columns]"
      ]
     },
     "execution_count": null,
     "metadata": {},
     "output_type": "execute_result"
    }
   ],
   "source": [
    "# fill in the random values to sort on\n",
    "arr = np.arange(obs_per_hybrid.shape[0])\n",
    "rng.shuffle(arr)\n",
    "obs_per_hybrid.random_order = arr\n",
    "\n",
    "obs_per_hybrid = obs_per_hybrid.sort_values('random_order')\n",
    "obs_per_hybrid['pct_cumsum'] = obs_per_hybrid.pct.cumsum()\n",
    "obs_per_hybrid"
   ]
  },
  {
   "cell_type": "code",
   "execution_count": null,
   "id": "16bce9d8",
   "metadata": {},
   "outputs": [],
   "source": [
    "# Convert back into phno indices\n",
    "train_hybrids = list(obs_per_hybrid.loc[(obs_per_hybrid.pct_cumsum <= pct_cumsum_thresh), 'Hybrid'])\n",
    "test_hybrids  = list(obs_per_hybrid.loc[(obs_per_hybrid.pct_cumsum >  pct_cumsum_thresh), 'Hybrid'])\n",
    "\n",
    "train_idx = phno.loc[(phno.Hybrid.isin(train_hybrids)), ].index\n",
    "test_idx  = phno.loc[(phno.Hybrid.isin(test_hybrids)), ].index"
   ]
  },
  {
   "cell_type": "code",
   "execution_count": null,
   "id": "c2d0163e",
   "metadata": {},
   "outputs": [
    {
     "data": {
      "text/plain": [
       "[119735, 13322]"
      ]
     },
     "execution_count": null,
     "metadata": {},
     "output_type": "execute_result"
    }
   ],
   "source": [
    "[len(train_idx), len(test_idx)]"
   ]
  },
  {
   "cell_type": "code",
   "execution_count": null,
   "id": "cbaedf07",
   "metadata": {},
   "outputs": [],
   "source": [
    "# confirm all observation idxs are have genomic information\n",
    "assert [] == [e for e in list(train_idx)+list(test_idx) if e not in obs_geno_lookup[:, 0]]"
   ]
  },
  {
   "cell_type": "code",
   "execution_count": null,
   "id": "02004189",
   "metadata": {},
   "outputs": [],
   "source": [
    "YMat_cs = calc_cs(YMat[train_idx])\n",
    "y_cs = apply_cs(YMat, YMat_cs)"
   ]
  },
  {
   "cell_type": "code",
   "execution_count": null,
   "id": "f15ee06c",
   "metadata": {},
   "outputs": [],
   "source": [
    "training_dataloader = DataLoader(\n",
    "    ACGTDataset(y = torch.from_numpy(y_cs[train_idx])[:, None].to(torch.float), \n",
    "                G = torch.from_numpy(ACGT).to(torch.float), \n",
    "                idx_original = torch.from_numpy(np.array(train_idx)),\n",
    "                idx_lookup   = torch.from_numpy(np.asarray(obs_geno_lookup)),\n",
    "                use_gpu_num = 0,\n",
    "                device = 'cuda'\n",
    "               ),\n",
    "    batch_size = 50,\n",
    "    shuffle = True\n",
    ")"
   ]
  },
  {
   "cell_type": "code",
   "execution_count": null,
   "id": "08eaaff0",
   "metadata": {},
   "outputs": [],
   "source": [
    "testing_dataloader = DataLoader(\n",
    "    ACGTDataset(y = torch.from_numpy(y_cs[test_idx])[:, None].to(torch.float), \n",
    "                G = torch.from_numpy(ACGT).to(torch.float), \n",
    "                idx_original = torch.from_numpy(np.array(test_idx)),\n",
    "                idx_lookup   = torch.from_numpy(np.asarray(obs_geno_lookup)),\n",
    "                use_gpu_num = 0,\n",
    "                device = 'cuda'\n",
    "               ),\n",
    "    batch_size = 50,\n",
    "    shuffle = True\n",
    ")"
   ]
  },
  {
   "cell_type": "code",
   "execution_count": null,
   "id": "82b8b1fa",
   "metadata": {},
   "outputs": [
    {
     "data": {
      "text/plain": [
       "torch.Size([50, 4, 125891])"
      ]
     },
     "execution_count": null,
     "metadata": {},
     "output_type": "execute_result"
    }
   ],
   "source": [
    "next(iter(training_dataloader))[0].shape"
   ]
  },
  {
   "cell_type": "code",
   "execution_count": null,
   "id": "788ba1e2",
   "metadata": {},
   "outputs": [
    {
     "data": {
      "text/plain": [
       "tensor([[ 0.0137],\n",
       "        [ 0.0207],\n",
       "        [-0.0065],\n",
       "        [ 0.0310],\n",
       "        [ 0.0284]], device='cuda:0', grad_fn=<AddmmBackward0>)"
      ]
     },
     "execution_count": null,
     "metadata": {},
     "output_type": "execute_result"
    }
   ],
   "source": [
    "class NeuralNetwork(nn.Module):\n",
    "    def __init__(self):\n",
    "        super(NeuralNetwork, self).__init__()    \n",
    "\n",
    "        def Linear_block(in_size, out_size, drop_pr):\n",
    "            block = nn.Sequential(\n",
    "                nn.Linear(in_size, out_size),\n",
    "                nn.ReLU(),\n",
    "                nn.Dropout(drop_pr)\n",
    "            )\n",
    "            return(block)         \n",
    "        \n",
    "        self.x_network = nn.Sequential(\n",
    "            nn.Flatten(),\n",
    "            Linear_block(in_size = 4*125891, out_size = 512, drop_pr = 0.3),\n",
    "            Linear_block(in_size = 512, out_size = 256, drop_pr = 0.3),\n",
    "            Linear_block(in_size = 256, out_size = 128, drop_pr = 0.3),\n",
    "            Linear_block(in_size = 128, out_size = 32, drop_pr = 0.3),\n",
    "            Linear_block(in_size = 32, out_size = 16, drop_pr = 0.3),\n",
    "            nn.Linear(16, 1)\n",
    "        )\n",
    "        \n",
    "    def forward(self, x):\n",
    "        x_out = self.x_network(x)\n",
    "        return x_out\n",
    "\n",
    "model = NeuralNetwork().to(device)\n",
    "\n",
    "model(next(iter(training_dataloader))[0][0:5])"
   ]
  },
  {
   "cell_type": "code",
   "execution_count": null,
   "id": "654b3bf7",
   "metadata": {},
   "outputs": [],
   "source": [
    "# # small scale test\n",
    "# model, loss_df = train_nn(\n",
    "#     cache_path,\n",
    "#     training_dataloader,\n",
    "#     testing_dataloader,\n",
    "#     model,\n",
    "#     learning_rate = 1e-3,\n",
    "#     batch_size = 50, #dataloader_batch_size,\n",
    "#     epochs = 1 #(run_epochs - epochs_run)\n",
    "# )\n",
    "\n",
    "# loss_df"
   ]
  },
  {
   "cell_type": "code",
   "execution_count": null,
   "id": "3e9cbc7b",
   "metadata": {},
   "outputs": [
    {
     "data": {
      "text/html": [
       "<div>\n",
       "<style scoped>\n",
       "    .dataframe tbody tr th:only-of-type {\n",
       "        vertical-align: middle;\n",
       "    }\n",
       "\n",
       "    .dataframe tbody tr th {\n",
       "        vertical-align: top;\n",
       "    }\n",
       "\n",
       "    .dataframe thead th {\n",
       "        text-align: right;\n",
       "    }\n",
       "</style>\n",
       "<table border=\"1\" class=\"dataframe\">\n",
       "  <thead>\n",
       "    <tr style=\"text-align: right;\">\n",
       "      <th></th>\n",
       "      <th>Hours</th>\n",
       "      <th>Iterations</th>\n",
       "    </tr>\n",
       "  </thead>\n",
       "  <tbody>\n",
       "    <tr>\n",
       "      <th>0</th>\n",
       "      <td>1</td>\n",
       "      <td>28</td>\n",
       "    </tr>\n",
       "    <tr>\n",
       "      <th>1</th>\n",
       "      <td>2</td>\n",
       "      <td>56</td>\n",
       "    </tr>\n",
       "    <tr>\n",
       "      <th>2</th>\n",
       "      <td>4</td>\n",
       "      <td>113</td>\n",
       "    </tr>\n",
       "    <tr>\n",
       "      <th>3</th>\n",
       "      <td>8</td>\n",
       "      <td>226</td>\n",
       "    </tr>\n",
       "    <tr>\n",
       "      <th>4</th>\n",
       "      <td>12</td>\n",
       "      <td>340</td>\n",
       "    </tr>\n",
       "    <tr>\n",
       "      <th>5</th>\n",
       "      <td>24</td>\n",
       "      <td>680</td>\n",
       "    </tr>\n",
       "  </tbody>\n",
       "</table>\n",
       "</div>"
      ],
      "text/plain": [
       "   Hours  Iterations\n",
       "0      1          28\n",
       "1      2          56\n",
       "2      4         113\n",
       "3      8         226\n",
       "4     12         340\n",
       "5     24         680"
      ]
     },
     "execution_count": null,
     "metadata": {},
     "output_type": "execute_result"
    }
   ],
   "source": [
    "estimate_iterations(sec_per_it = 127)"
   ]
  },
  {
   "cell_type": "code",
   "execution_count": null,
   "id": "3ee74b6c",
   "metadata": {},
   "outputs": [],
   "source": [
    "# remove_matching_files(\n",
    "#     cache_path,\n",
    "#     match_regex_list = ['model\\.pt'],\n",
    "#     dry_run = False\n",
    "# )"
   ]
  },
  {
   "cell_type": "code",
   "execution_count": null,
   "id": "3174cd52",
   "metadata": {},
   "outputs": [],
   "source": [
    "dataloader_batch_size = 50\n",
    "run_epochs = 100\n",
    "\n",
    "# don't run if either of these exist because there may be cases where we want the results but not the model\n",
    "import re\n",
    "\n",
    "if not os.path.exists(cache_path+'/model.pt'): \n",
    "    # Shared setup (train from scratch and load latest)\n",
    "    model = NeuralNetwork()\n",
    "\n",
    "    # find the biggest model to save\n",
    "    saved_models = os.listdir(cache_path)\n",
    "    saved_models = [e for e in saved_models if re.match('model*', e)]\n",
    "\n",
    "    if saved_models == []:\n",
    "        epochs_run = 0\n",
    "    else:\n",
    "        saved_models = [e for e in saved_models if e != 'model.pt']\n",
    "        # if there are saved models reload and resume training\n",
    "        saved_models_numbers = [int(e.replace('model_', ''\n",
    "                                    ).replace('.pt', ''\n",
    "                                    ).split('_')[0]) for e in saved_models]\n",
    "        # saved_models\n",
    "        epochs_run = max(saved_models_numbers)+1 # add 1 to account for 0 index\n",
    "        latest_model = [e for e in saved_models if re.match(\n",
    "            '^model_'+str(epochs_run-1)+'_.*\\.pt$', e)][0] # subtract 1 to convert back\n",
    "        model.load_state_dict(torch.load(cache_path+latest_model))\n",
    "        print('Resuming Training: '+str(epochs_run)+'/'+str(run_epochs)+' epochs run.')\n",
    "    \n",
    "    model.to(device)    \n",
    "\n",
    "    model, loss_df = train_nn(\n",
    "        cache_path,\n",
    "        training_dataloader,\n",
    "        testing_dataloader,\n",
    "        model,\n",
    "        learning_rate = 1e-3,\n",
    "        batch_size = dataloader_batch_size,\n",
    "        epochs = (run_epochs - epochs_run)\n",
    "    )\n",
    "    \n",
    "    # experimental outputs:\n",
    "    # 1. Model\n",
    "    torch.save(model.state_dict(), cache_path+'/model.pt') # convention is to use .pt or .pth\n",
    "\n",
    "    # 2. loss_df    \n",
    "    # If this is resuming training, load and extend the existing loss dataframe\n",
    "    if os.path.exists(cache_path+'/loss_df.csv'):\n",
    "        loss_df_on_disk = pd.read_csv(cache_path+'/loss_df.csv')\n",
    "        epoch_offset = 1 + loss_df_on_disk['Epoch'].max()\n",
    "        loss_df['Epoch'] = loss_df['Epoch'] + epoch_offset\n",
    "        loss_df = pd.concat([loss_df_on_disk, loss_df])\n",
    "    loss_df.to_csv(cache_path+'/loss_df.csv', index=False)  \n",
    "    \n",
    "    # 3. predictions \n",
    "    yhats = pd.concat([\n",
    "        yhat_loop(testing_dataloader, model).assign(Split = 'Test'),\n",
    "        yhat_loop(training_dataloader, model).assign(Split = 'Train')], axis = 0)\n",
    "\n",
    "    yhats.to_csv(cache_path+'/yhats.csv', index=False)"
   ]
  },
  {
   "cell_type": "markdown",
   "id": "4764b227",
   "metadata": {},
   "source": [
    "### Standard Visualizations"
   ]
  },
  {
   "cell_type": "code",
   "execution_count": null,
   "id": "9bddb930",
   "metadata": {},
   "outputs": [],
   "source": []
  },
  {
   "cell_type": "code",
   "execution_count": null,
   "id": "26be3103",
   "metadata": {},
   "outputs": [],
   "source": []
  },
  {
   "cell_type": "code",
   "execution_count": null,
   "id": "b0001b87",
   "metadata": {},
   "outputs": [],
   "source": []
  },
  {
   "cell_type": "code",
   "execution_count": null,
   "id": "ad680db4",
   "metadata": {},
   "outputs": [],
   "source": [
    "scale_dict = {'y1':YMat_cs}\n",
    "import plotly.graph_objects as go"
   ]
  },
  {
   "cell_type": "code",
   "execution_count": null,
   "id": "7dba19b3",
   "metadata": {},
   "outputs": [
    {
     "data": {
      "application/vnd.plotly.v1+json": {
       "config": {
        "plotlyServerURL": "https://plot.ly"
       },
       "data": [
        {
         "mode": "lines",
         "name": "Test",
         "type": "scatter",
         "x": [
          0,
          1,
          2,
          3,
          4,
          5,
          6,
          7,
          8,
          9,
          10,
          11,
          12,
          13,
          14,
          15,
          16,
          17,
          18,
          19,
          20,
          21,
          22,
          23,
          24,
          25,
          26,
          27,
          28,
          29,
          30,
          31,
          32,
          33,
          34,
          35,
          36,
          37,
          38,
          39,
          40,
          41,
          42,
          43,
          44,
          45,
          46,
          47,
          48,
          49,
          50,
          51,
          52,
          53,
          54,
          55,
          56,
          57,
          58,
          59,
          60,
          61,
          62,
          63,
          64,
          65,
          66,
          67,
          68,
          69,
          70,
          71,
          72,
          73,
          74,
          75,
          76,
          77,
          78,
          79,
          80,
          81,
          82,
          83,
          84,
          85,
          86,
          87,
          88,
          89,
          90,
          91,
          92,
          93,
          94,
          95,
          96,
          97,
          98,
          99
         ],
         "y": [
          12.452034892188424,
          12.413199219512013,
          12.385313966587818,
          12.371590405155,
          12.336534235495243,
          12.344721313119491,
          12.328081188782335,
          12.351049487432125,
          12.322961145909943,
          12.341769717627228,
          12.311761436652363,
          12.329647924057664,
          12.334658225949951,
          12.305806464119843,
          12.314279580158358,
          12.308539259354077,
          12.327225947815787,
          12.317948598824485,
          12.300472771628119,
          12.29019061741838,
          12.301194423098302,
          12.2997963326977,
          12.30268907222229,
          12.302340813904857,
          12.283135223730781,
          12.304770445722552,
          12.305304252045378,
          12.297252655523742,
          12.295510694299931,
          12.306037512226688,
          12.2954213758972,
          12.301173659669837,
          12.29619337680455,
          12.311129393492672,
          12.307915173408336,
          12.296472395429156,
          12.289482978715245,
          12.298520301173095,
          12.302540746697666,
          12.286196375198427,
          12.30316594200143,
          12.280474072915602,
          12.292530490441669,
          12.30921474544315,
          12.285688777207522,
          12.29037038536684,
          12.294059938216451,
          12.286279593807802,
          12.292362649935297,
          12.301309365660435,
          12.295779176704547,
          12.28875191512985,
          12.293901088202212,
          12.281225028530411,
          12.295426250704583,
          12.288966108368129,
          12.3073879997729,
          12.282830945593762,
          12.277301064979078,
          12.284569446357882,
          12.305566091372844,
          12.283879644523013,
          12.2959295315835,
          12.294570186265933,
          12.30552698633497,
          12.295519931465025,
          12.28497913830841,
          12.291496914307794,
          12.28716143892253,
          12.299236576111133,
          12.281418811256838,
          12.310302884563757,
          12.295111824790462,
          12.289216198890312,
          12.295979611222116,
          12.303187902933283,
          12.329444086391648,
          12.30534680246104,
          12.286030706486613,
          12.309317460935983,
          12.285254563082235,
          12.287341777302213,
          12.291986169013523,
          12.310934543302405,
          12.289421447887637,
          12.292758968926773,
          12.286755615648634,
          12.288585905566947,
          12.278088216834698,
          12.294018102683165,
          12.28437013695055,
          12.282224183731461,
          12.29582103100643,
          12.282882574646921,
          12.291116504046608,
          12.293845674260789,
          12.289311223281059,
          12.309524052558153,
          12.295051502861462,
          12.29416912116601
         ]
        },
        {
         "mode": "lines",
         "name": "Train",
         "type": "scatter",
         "x": [
          0,
          1,
          2,
          3,
          4,
          5,
          6,
          7,
          8,
          9,
          10,
          11,
          12,
          13,
          14,
          15,
          16,
          17,
          18,
          19,
          20,
          21,
          22,
          23,
          24,
          25,
          26,
          27,
          28,
          29,
          30,
          31,
          32,
          33,
          34,
          35,
          36,
          37,
          38,
          39,
          40,
          41,
          42,
          43,
          44,
          45,
          46,
          47,
          48,
          49,
          50,
          51,
          52,
          53,
          54,
          55,
          56,
          57,
          58,
          59,
          60,
          61,
          62,
          63,
          64,
          65,
          66,
          67,
          68,
          69,
          70,
          71,
          72,
          73,
          74,
          75,
          76,
          77,
          78,
          79,
          80,
          81,
          82,
          83,
          84,
          85,
          86,
          87,
          88,
          89,
          90,
          91,
          92,
          93,
          94,
          95,
          96,
          97,
          98,
          99
         ],
         "y": [
          12.438915944217259,
          12.394332527853585,
          12.367176055008951,
          12.357953108277156,
          12.337945674678636,
          12.328958867644435,
          12.323038004612457,
          12.318138652473076,
          12.303306457451361,
          12.304149893135826,
          12.29981904255507,
          12.295851287228723,
          12.29214658876283,
          12.28124860325871,
          12.28022994429618,
          12.28406967201489,
          12.285907434200706,
          12.285805168455342,
          12.276248507287248,
          12.270612928728513,
          12.264832720639115,
          12.271078116879512,
          12.261525792505076,
          12.257444217008256,
          12.261049116483964,
          12.2563816808626,
          12.258059665533773,
          12.24835921760351,
          12.258551451592808,
          12.256795470219727,
          12.257375878362296,
          12.248845919525767,
          12.251906726580458,
          12.25110872778907,
          12.243672208128379,
          12.255202507275792,
          12.246735493703017,
          12.253818197713079,
          12.238878976433817,
          12.243662863911725,
          12.239356912816797,
          12.236782060864122,
          12.236991813373814,
          12.241339633125218,
          12.234926278782822,
          12.229480130042951,
          12.236649837752134,
          12.232110429103482,
          12.243672273338827,
          12.23902044288421,
          12.229166372991978,
          12.233488455157623,
          12.224640419245931,
          12.236384332101126,
          12.24062437828921,
          12.224695491225637,
          12.224623111324554,
          12.2268134849339,
          12.235584310777405,
          12.220018142644939,
          12.228222417379584,
          12.22189818529159,
          12.226218993874005,
          12.215502875756115,
          12.223028609324382,
          12.219246777578782,
          12.222309008955172,
          12.223348832256566,
          12.226870975302496,
          12.220294760701774,
          12.214662437324664,
          12.222828979859235,
          12.220662534787238,
          12.216596549069589,
          12.216942618607748,
          12.225434235567587,
          12.227052173553329,
          12.219469354324612,
          12.216138346503921,
          12.216490248605087,
          12.212866543197748,
          12.21592500092089,
          12.21037537160159,
          12.215354011131712,
          12.209915561631966,
          12.212236445215787,
          12.210948504185213,
          12.212600933531219,
          12.205447022250354,
          12.223810143672505,
          12.208267776756411,
          12.206468112113518,
          12.207031237096754,
          12.209565148278633,
          12.210955792143855,
          12.206603965273843,
          12.206496324969907,
          12.208225046806596,
          12.203856738574457,
          12.203552749944194
         ]
        },
        {
         "mode": "lines",
         "name": "Naieve Test",
         "type": "scatter",
         "x": [
          0,
          1,
          2,
          3,
          4,
          5,
          6,
          7,
          8,
          9,
          10,
          11,
          12,
          13,
          14,
          15,
          16,
          17,
          18,
          19,
          20,
          21,
          22,
          23,
          24,
          25,
          26,
          27,
          28,
          29,
          30,
          31,
          32,
          33,
          34,
          35,
          36,
          37,
          38,
          39,
          40,
          41,
          42,
          43,
          44,
          45,
          46,
          47,
          48,
          49,
          50,
          51,
          52,
          53,
          54,
          55,
          56,
          57,
          58,
          59,
          60,
          61,
          62,
          63,
          64,
          65,
          66,
          67,
          68,
          69,
          70,
          71,
          72,
          73,
          74,
          75,
          76,
          77,
          78,
          79,
          80,
          81,
          82,
          83,
          84,
          85,
          86,
          87,
          88,
          89,
          90,
          91,
          92,
          93,
          94,
          95,
          96,
          97,
          98,
          99
         ],
         "y": [
          12.61497439323459,
          12.61497439323459,
          12.61497439323459,
          12.61497439323459,
          12.61497439323459,
          12.61497439323459,
          12.61497439323459,
          12.61497439323459,
          12.61497439323459,
          12.61497439323459,
          12.61497439323459,
          12.61497439323459,
          12.61497439323459,
          12.61497439323459,
          12.61497439323459,
          12.61497439323459,
          12.61497439323459,
          12.61497439323459,
          12.61497439323459,
          12.61497439323459,
          12.61497439323459,
          12.61497439323459,
          12.61497439323459,
          12.61497439323459,
          12.61497439323459,
          12.61497439323459,
          12.61497439323459,
          12.61497439323459,
          12.61497439323459,
          12.61497439323459,
          12.61497439323459,
          12.61497439323459,
          12.61497439323459,
          12.61497439323459,
          12.61497439323459,
          12.61497439323459,
          12.61497439323459,
          12.61497439323459,
          12.61497439323459,
          12.61497439323459,
          12.61497439323459,
          12.61497439323459,
          12.61497439323459,
          12.61497439323459,
          12.61497439323459,
          12.61497439323459,
          12.61497439323459,
          12.61497439323459,
          12.61497439323459,
          12.61497439323459,
          12.61497439323459,
          12.61497439323459,
          12.61497439323459,
          12.61497439323459,
          12.61497439323459,
          12.61497439323459,
          12.61497439323459,
          12.61497439323459,
          12.61497439323459,
          12.61497439323459,
          12.61497439323459,
          12.61497439323459,
          12.61497439323459,
          12.61497439323459,
          12.61497439323459,
          12.61497439323459,
          12.61497439323459,
          12.61497439323459,
          12.61497439323459,
          12.61497439323459,
          12.61497439323459,
          12.61497439323459,
          12.61497439323459,
          12.61497439323459,
          12.61497439323459,
          12.61497439323459,
          12.61497439323459,
          12.61497439323459,
          12.61497439323459,
          12.61497439323459,
          12.61497439323459,
          12.61497439323459,
          12.61497439323459,
          12.61497439323459,
          12.61497439323459,
          12.61497439323459,
          12.61497439323459,
          12.61497439323459,
          12.61497439323459,
          12.61497439323459,
          12.61497439323459,
          12.61497439323459,
          12.61497439323459,
          12.61497439323459,
          12.61497439323459,
          12.61497439323459,
          12.61497439323459,
          12.61497439323459,
          12.61497439323459,
          12.61497439323459
         ]
        },
        {
         "mode": "lines",
         "name": "Naieve Train",
         "type": "scatter",
         "x": [
          0,
          1,
          2,
          3,
          4,
          5,
          6,
          7,
          8,
          9,
          10,
          11,
          12,
          13,
          14,
          15,
          16,
          17,
          18,
          19,
          20,
          21,
          22,
          23,
          24,
          25,
          26,
          27,
          28,
          29,
          30,
          31,
          32,
          33,
          34,
          35,
          36,
          37,
          38,
          39,
          40,
          41,
          42,
          43,
          44,
          45,
          46,
          47,
          48,
          49,
          50,
          51,
          52,
          53,
          54,
          55,
          56,
          57,
          58,
          59,
          60,
          61,
          62,
          63,
          64,
          65,
          66,
          67,
          68,
          69,
          70,
          71,
          72,
          73,
          74,
          75,
          76,
          77,
          78,
          79,
          80,
          81,
          82,
          83,
          84,
          85,
          86,
          87,
          88,
          89,
          90,
          91,
          92,
          93,
          94,
          95,
          96,
          97,
          98,
          99
         ],
         "y": [
          12.603480712144691,
          12.603480712144691,
          12.603480712144691,
          12.603480712144691,
          12.603480712144691,
          12.603480712144691,
          12.603480712144691,
          12.603480712144691,
          12.603480712144691,
          12.603480712144691,
          12.603480712144691,
          12.603480712144691,
          12.603480712144691,
          12.603480712144691,
          12.603480712144691,
          12.603480712144691,
          12.603480712144691,
          12.603480712144691,
          12.603480712144691,
          12.603480712144691,
          12.603480712144691,
          12.603480712144691,
          12.603480712144691,
          12.603480712144691,
          12.603480712144691,
          12.603480712144691,
          12.603480712144691,
          12.603480712144691,
          12.603480712144691,
          12.603480712144691,
          12.603480712144691,
          12.603480712144691,
          12.603480712144691,
          12.603480712144691,
          12.603480712144691,
          12.603480712144691,
          12.603480712144691,
          12.603480712144691,
          12.603480712144691,
          12.603480712144691,
          12.603480712144691,
          12.603480712144691,
          12.603480712144691,
          12.603480712144691,
          12.603480712144691,
          12.603480712144691,
          12.603480712144691,
          12.603480712144691,
          12.603480712144691,
          12.603480712144691,
          12.603480712144691,
          12.603480712144691,
          12.603480712144691,
          12.603480712144691,
          12.603480712144691,
          12.603480712144691,
          12.603480712144691,
          12.603480712144691,
          12.603480712144691,
          12.603480712144691,
          12.603480712144691,
          12.603480712144691,
          12.603480712144691,
          12.603480712144691,
          12.603480712144691,
          12.603480712144691,
          12.603480712144691,
          12.603480712144691,
          12.603480712144691,
          12.603480712144691,
          12.603480712144691,
          12.603480712144691,
          12.603480712144691,
          12.603480712144691,
          12.603480712144691,
          12.603480712144691,
          12.603480712144691,
          12.603480712144691,
          12.603480712144691,
          12.603480712144691,
          12.603480712144691,
          12.603480712144691,
          12.603480712144691,
          12.603480712144691,
          12.603480712144691,
          12.603480712144691,
          12.603480712144691,
          12.603480712144691,
          12.603480712144691,
          12.603480712144691,
          12.603480712144691,
          12.603480712144691,
          12.603480712144691,
          12.603480712144691,
          12.603480712144691,
          12.603480712144691,
          12.603480712144691,
          12.603480712144691,
          12.603480712144691,
          12.603480712144691
         ]
        }
       ],
       "layout": {
        "template": {
         "data": {
          "bar": [
           {
            "error_x": {
             "color": "#2a3f5f"
            },
            "error_y": {
             "color": "#2a3f5f"
            },
            "marker": {
             "line": {
              "color": "white",
              "width": 0.5
             },
             "pattern": {
              "fillmode": "overlay",
              "size": 10,
              "solidity": 0.2
             }
            },
            "type": "bar"
           }
          ],
          "barpolar": [
           {
            "marker": {
             "line": {
              "color": "white",
              "width": 0.5
             },
             "pattern": {
              "fillmode": "overlay",
              "size": 10,
              "solidity": 0.2
             }
            },
            "type": "barpolar"
           }
          ],
          "carpet": [
           {
            "aaxis": {
             "endlinecolor": "#2a3f5f",
             "gridcolor": "#C8D4E3",
             "linecolor": "#C8D4E3",
             "minorgridcolor": "#C8D4E3",
             "startlinecolor": "#2a3f5f"
            },
            "baxis": {
             "endlinecolor": "#2a3f5f",
             "gridcolor": "#C8D4E3",
             "linecolor": "#C8D4E3",
             "minorgridcolor": "#C8D4E3",
             "startlinecolor": "#2a3f5f"
            },
            "type": "carpet"
           }
          ],
          "choropleth": [
           {
            "colorbar": {
             "outlinewidth": 0,
             "ticks": ""
            },
            "type": "choropleth"
           }
          ],
          "contour": [
           {
            "colorbar": {
             "outlinewidth": 0,
             "ticks": ""
            },
            "colorscale": [
             [
              0,
              "#0d0887"
             ],
             [
              0.1111111111111111,
              "#46039f"
             ],
             [
              0.2222222222222222,
              "#7201a8"
             ],
             [
              0.3333333333333333,
              "#9c179e"
             ],
             [
              0.4444444444444444,
              "#bd3786"
             ],
             [
              0.5555555555555556,
              "#d8576b"
             ],
             [
              0.6666666666666666,
              "#ed7953"
             ],
             [
              0.7777777777777778,
              "#fb9f3a"
             ],
             [
              0.8888888888888888,
              "#fdca26"
             ],
             [
              1,
              "#f0f921"
             ]
            ],
            "type": "contour"
           }
          ],
          "contourcarpet": [
           {
            "colorbar": {
             "outlinewidth": 0,
             "ticks": ""
            },
            "type": "contourcarpet"
           }
          ],
          "heatmap": [
           {
            "colorbar": {
             "outlinewidth": 0,
             "ticks": ""
            },
            "colorscale": [
             [
              0,
              "#0d0887"
             ],
             [
              0.1111111111111111,
              "#46039f"
             ],
             [
              0.2222222222222222,
              "#7201a8"
             ],
             [
              0.3333333333333333,
              "#9c179e"
             ],
             [
              0.4444444444444444,
              "#bd3786"
             ],
             [
              0.5555555555555556,
              "#d8576b"
             ],
             [
              0.6666666666666666,
              "#ed7953"
             ],
             [
              0.7777777777777778,
              "#fb9f3a"
             ],
             [
              0.8888888888888888,
              "#fdca26"
             ],
             [
              1,
              "#f0f921"
             ]
            ],
            "type": "heatmap"
           }
          ],
          "heatmapgl": [
           {
            "colorbar": {
             "outlinewidth": 0,
             "ticks": ""
            },
            "colorscale": [
             [
              0,
              "#0d0887"
             ],
             [
              0.1111111111111111,
              "#46039f"
             ],
             [
              0.2222222222222222,
              "#7201a8"
             ],
             [
              0.3333333333333333,
              "#9c179e"
             ],
             [
              0.4444444444444444,
              "#bd3786"
             ],
             [
              0.5555555555555556,
              "#d8576b"
             ],
             [
              0.6666666666666666,
              "#ed7953"
             ],
             [
              0.7777777777777778,
              "#fb9f3a"
             ],
             [
              0.8888888888888888,
              "#fdca26"
             ],
             [
              1,
              "#f0f921"
             ]
            ],
            "type": "heatmapgl"
           }
          ],
          "histogram": [
           {
            "marker": {
             "pattern": {
              "fillmode": "overlay",
              "size": 10,
              "solidity": 0.2
             }
            },
            "type": "histogram"
           }
          ],
          "histogram2d": [
           {
            "colorbar": {
             "outlinewidth": 0,
             "ticks": ""
            },
            "colorscale": [
             [
              0,
              "#0d0887"
             ],
             [
              0.1111111111111111,
              "#46039f"
             ],
             [
              0.2222222222222222,
              "#7201a8"
             ],
             [
              0.3333333333333333,
              "#9c179e"
             ],
             [
              0.4444444444444444,
              "#bd3786"
             ],
             [
              0.5555555555555556,
              "#d8576b"
             ],
             [
              0.6666666666666666,
              "#ed7953"
             ],
             [
              0.7777777777777778,
              "#fb9f3a"
             ],
             [
              0.8888888888888888,
              "#fdca26"
             ],
             [
              1,
              "#f0f921"
             ]
            ],
            "type": "histogram2d"
           }
          ],
          "histogram2dcontour": [
           {
            "colorbar": {
             "outlinewidth": 0,
             "ticks": ""
            },
            "colorscale": [
             [
              0,
              "#0d0887"
             ],
             [
              0.1111111111111111,
              "#46039f"
             ],
             [
              0.2222222222222222,
              "#7201a8"
             ],
             [
              0.3333333333333333,
              "#9c179e"
             ],
             [
              0.4444444444444444,
              "#bd3786"
             ],
             [
              0.5555555555555556,
              "#d8576b"
             ],
             [
              0.6666666666666666,
              "#ed7953"
             ],
             [
              0.7777777777777778,
              "#fb9f3a"
             ],
             [
              0.8888888888888888,
              "#fdca26"
             ],
             [
              1,
              "#f0f921"
             ]
            ],
            "type": "histogram2dcontour"
           }
          ],
          "mesh3d": [
           {
            "colorbar": {
             "outlinewidth": 0,
             "ticks": ""
            },
            "type": "mesh3d"
           }
          ],
          "parcoords": [
           {
            "line": {
             "colorbar": {
              "outlinewidth": 0,
              "ticks": ""
             }
            },
            "type": "parcoords"
           }
          ],
          "pie": [
           {
            "automargin": true,
            "type": "pie"
           }
          ],
          "scatter": [
           {
            "fillpattern": {
             "fillmode": "overlay",
             "size": 10,
             "solidity": 0.2
            },
            "type": "scatter"
           }
          ],
          "scatter3d": [
           {
            "line": {
             "colorbar": {
              "outlinewidth": 0,
              "ticks": ""
             }
            },
            "marker": {
             "colorbar": {
              "outlinewidth": 0,
              "ticks": ""
             }
            },
            "type": "scatter3d"
           }
          ],
          "scattercarpet": [
           {
            "marker": {
             "colorbar": {
              "outlinewidth": 0,
              "ticks": ""
             }
            },
            "type": "scattercarpet"
           }
          ],
          "scattergeo": [
           {
            "marker": {
             "colorbar": {
              "outlinewidth": 0,
              "ticks": ""
             }
            },
            "type": "scattergeo"
           }
          ],
          "scattergl": [
           {
            "marker": {
             "colorbar": {
              "outlinewidth": 0,
              "ticks": ""
             }
            },
            "type": "scattergl"
           }
          ],
          "scattermapbox": [
           {
            "marker": {
             "colorbar": {
              "outlinewidth": 0,
              "ticks": ""
             }
            },
            "type": "scattermapbox"
           }
          ],
          "scatterpolar": [
           {
            "marker": {
             "colorbar": {
              "outlinewidth": 0,
              "ticks": ""
             }
            },
            "type": "scatterpolar"
           }
          ],
          "scatterpolargl": [
           {
            "marker": {
             "colorbar": {
              "outlinewidth": 0,
              "ticks": ""
             }
            },
            "type": "scatterpolargl"
           }
          ],
          "scatterternary": [
           {
            "marker": {
             "colorbar": {
              "outlinewidth": 0,
              "ticks": ""
             }
            },
            "type": "scatterternary"
           }
          ],
          "surface": [
           {
            "colorbar": {
             "outlinewidth": 0,
             "ticks": ""
            },
            "colorscale": [
             [
              0,
              "#0d0887"
             ],
             [
              0.1111111111111111,
              "#46039f"
             ],
             [
              0.2222222222222222,
              "#7201a8"
             ],
             [
              0.3333333333333333,
              "#9c179e"
             ],
             [
              0.4444444444444444,
              "#bd3786"
             ],
             [
              0.5555555555555556,
              "#d8576b"
             ],
             [
              0.6666666666666666,
              "#ed7953"
             ],
             [
              0.7777777777777778,
              "#fb9f3a"
             ],
             [
              0.8888888888888888,
              "#fdca26"
             ],
             [
              1,
              "#f0f921"
             ]
            ],
            "type": "surface"
           }
          ],
          "table": [
           {
            "cells": {
             "fill": {
              "color": "#EBF0F8"
             },
             "line": {
              "color": "white"
             }
            },
            "header": {
             "fill": {
              "color": "#C8D4E3"
             },
             "line": {
              "color": "white"
             }
            },
            "type": "table"
           }
          ]
         },
         "layout": {
          "annotationdefaults": {
           "arrowcolor": "#2a3f5f",
           "arrowhead": 0,
           "arrowwidth": 1
          },
          "autotypenumbers": "strict",
          "coloraxis": {
           "colorbar": {
            "outlinewidth": 0,
            "ticks": ""
           }
          },
          "colorscale": {
           "diverging": [
            [
             0,
             "#8e0152"
            ],
            [
             0.1,
             "#c51b7d"
            ],
            [
             0.2,
             "#de77ae"
            ],
            [
             0.3,
             "#f1b6da"
            ],
            [
             0.4,
             "#fde0ef"
            ],
            [
             0.5,
             "#f7f7f7"
            ],
            [
             0.6,
             "#e6f5d0"
            ],
            [
             0.7,
             "#b8e186"
            ],
            [
             0.8,
             "#7fbc41"
            ],
            [
             0.9,
             "#4d9221"
            ],
            [
             1,
             "#276419"
            ]
           ],
           "sequential": [
            [
             0,
             "#0d0887"
            ],
            [
             0.1111111111111111,
             "#46039f"
            ],
            [
             0.2222222222222222,
             "#7201a8"
            ],
            [
             0.3333333333333333,
             "#9c179e"
            ],
            [
             0.4444444444444444,
             "#bd3786"
            ],
            [
             0.5555555555555556,
             "#d8576b"
            ],
            [
             0.6666666666666666,
             "#ed7953"
            ],
            [
             0.7777777777777778,
             "#fb9f3a"
            ],
            [
             0.8888888888888888,
             "#fdca26"
            ],
            [
             1,
             "#f0f921"
            ]
           ],
           "sequentialminus": [
            [
             0,
             "#0d0887"
            ],
            [
             0.1111111111111111,
             "#46039f"
            ],
            [
             0.2222222222222222,
             "#7201a8"
            ],
            [
             0.3333333333333333,
             "#9c179e"
            ],
            [
             0.4444444444444444,
             "#bd3786"
            ],
            [
             0.5555555555555556,
             "#d8576b"
            ],
            [
             0.6666666666666666,
             "#ed7953"
            ],
            [
             0.7777777777777778,
             "#fb9f3a"
            ],
            [
             0.8888888888888888,
             "#fdca26"
            ],
            [
             1,
             "#f0f921"
            ]
           ]
          },
          "colorway": [
           "#636efa",
           "#EF553B",
           "#00cc96",
           "#ab63fa",
           "#FFA15A",
           "#19d3f3",
           "#FF6692",
           "#B6E880",
           "#FF97FF",
           "#FECB52"
          ],
          "font": {
           "color": "#2a3f5f"
          },
          "geo": {
           "bgcolor": "white",
           "lakecolor": "white",
           "landcolor": "white",
           "showlakes": true,
           "showland": true,
           "subunitcolor": "#C8D4E3"
          },
          "hoverlabel": {
           "align": "left"
          },
          "hovermode": "closest",
          "mapbox": {
           "style": "light"
          },
          "paper_bgcolor": "white",
          "plot_bgcolor": "white",
          "polar": {
           "angularaxis": {
            "gridcolor": "#EBF0F8",
            "linecolor": "#EBF0F8",
            "ticks": ""
           },
           "bgcolor": "white",
           "radialaxis": {
            "gridcolor": "#EBF0F8",
            "linecolor": "#EBF0F8",
            "ticks": ""
           }
          },
          "scene": {
           "xaxis": {
            "backgroundcolor": "white",
            "gridcolor": "#DFE8F3",
            "gridwidth": 2,
            "linecolor": "#EBF0F8",
            "showbackground": true,
            "ticks": "",
            "zerolinecolor": "#EBF0F8"
           },
           "yaxis": {
            "backgroundcolor": "white",
            "gridcolor": "#DFE8F3",
            "gridwidth": 2,
            "linecolor": "#EBF0F8",
            "showbackground": true,
            "ticks": "",
            "zerolinecolor": "#EBF0F8"
           },
           "zaxis": {
            "backgroundcolor": "white",
            "gridcolor": "#DFE8F3",
            "gridwidth": 2,
            "linecolor": "#EBF0F8",
            "showbackground": true,
            "ticks": "",
            "zerolinecolor": "#EBF0F8"
           }
          },
          "shapedefaults": {
           "line": {
            "color": "#2a3f5f"
           }
          },
          "ternary": {
           "aaxis": {
            "gridcolor": "#DFE8F3",
            "linecolor": "#A2B1C6",
            "ticks": ""
           },
           "baxis": {
            "gridcolor": "#DFE8F3",
            "linecolor": "#A2B1C6",
            "ticks": ""
           },
           "bgcolor": "white",
           "caxis": {
            "gridcolor": "#DFE8F3",
            "linecolor": "#A2B1C6",
            "ticks": ""
           }
          },
          "title": {
           "x": 0.05
          },
          "xaxis": {
           "automargin": true,
           "gridcolor": "#EBF0F8",
           "linecolor": "#EBF0F8",
           "ticks": "",
           "title": {
            "standoff": 15
           },
           "zerolinecolor": "#EBF0F8",
           "zerolinewidth": 2
          },
          "yaxis": {
           "automargin": true,
           "gridcolor": "#EBF0F8",
           "linecolor": "#EBF0F8",
           "ticks": "",
           "title": {
            "standoff": 15
           },
           "zerolinecolor": "#EBF0F8",
           "zerolinewidth": 2
          }
         }
        }
       }
      },
      "text/html": [
       "<div>                            <div id=\"8d5af44f-781a-45cd-841b-bd3d46a8c785\" class=\"plotly-graph-div\" style=\"height:525px; width:100%;\"></div>            <script type=\"text/javascript\">                require([\"plotly\"], function(Plotly) {                    window.PLOTLYENV=window.PLOTLYENV || {};                                    if (document.getElementById(\"8d5af44f-781a-45cd-841b-bd3d46a8c785\")) {                    Plotly.newPlot(                        \"8d5af44f-781a-45cd-841b-bd3d46a8c785\",                        [{\"mode\":\"lines\",\"name\":\"Test\",\"x\":[0,1,2,3,4,5,6,7,8,9,10,11,12,13,14,15,16,17,18,19,20,21,22,23,24,25,26,27,28,29,30,31,32,33,34,35,36,37,38,39,40,41,42,43,44,45,46,47,48,49,50,51,52,53,54,55,56,57,58,59,60,61,62,63,64,65,66,67,68,69,70,71,72,73,74,75,76,77,78,79,80,81,82,83,84,85,86,87,88,89,90,91,92,93,94,95,96,97,98,99],\"y\":[12.452034892188424,12.413199219512013,12.385313966587818,12.371590405155,12.336534235495243,12.344721313119491,12.328081188782335,12.351049487432125,12.322961145909943,12.341769717627228,12.311761436652363,12.329647924057664,12.334658225949951,12.305806464119843,12.314279580158358,12.308539259354077,12.327225947815787,12.317948598824485,12.300472771628119,12.29019061741838,12.301194423098302,12.2997963326977,12.30268907222229,12.302340813904857,12.283135223730781,12.304770445722552,12.305304252045378,12.297252655523742,12.295510694299931,12.306037512226688,12.2954213758972,12.301173659669837,12.29619337680455,12.311129393492672,12.307915173408336,12.296472395429156,12.289482978715245,12.298520301173095,12.302540746697666,12.286196375198427,12.30316594200143,12.280474072915602,12.292530490441669,12.30921474544315,12.285688777207522,12.29037038536684,12.294059938216451,12.286279593807802,12.292362649935297,12.301309365660435,12.295779176704547,12.28875191512985,12.293901088202212,12.281225028530411,12.295426250704583,12.288966108368129,12.3073879997729,12.282830945593762,12.277301064979078,12.284569446357882,12.305566091372844,12.283879644523013,12.2959295315835,12.294570186265933,12.30552698633497,12.295519931465025,12.28497913830841,12.291496914307794,12.28716143892253,12.299236576111133,12.281418811256838,12.310302884563757,12.295111824790462,12.289216198890312,12.295979611222116,12.303187902933283,12.329444086391648,12.30534680246104,12.286030706486613,12.309317460935983,12.285254563082235,12.287341777302213,12.291986169013523,12.310934543302405,12.289421447887637,12.292758968926773,12.286755615648634,12.288585905566947,12.278088216834698,12.294018102683165,12.28437013695055,12.282224183731461,12.29582103100643,12.282882574646921,12.291116504046608,12.293845674260789,12.289311223281059,12.309524052558153,12.295051502861462,12.29416912116601],\"type\":\"scatter\"},{\"mode\":\"lines\",\"name\":\"Train\",\"x\":[0,1,2,3,4,5,6,7,8,9,10,11,12,13,14,15,16,17,18,19,20,21,22,23,24,25,26,27,28,29,30,31,32,33,34,35,36,37,38,39,40,41,42,43,44,45,46,47,48,49,50,51,52,53,54,55,56,57,58,59,60,61,62,63,64,65,66,67,68,69,70,71,72,73,74,75,76,77,78,79,80,81,82,83,84,85,86,87,88,89,90,91,92,93,94,95,96,97,98,99],\"y\":[12.438915944217259,12.394332527853585,12.367176055008951,12.357953108277156,12.337945674678636,12.328958867644435,12.323038004612457,12.318138652473076,12.303306457451361,12.304149893135826,12.29981904255507,12.295851287228723,12.29214658876283,12.28124860325871,12.28022994429618,12.28406967201489,12.285907434200706,12.285805168455342,12.276248507287248,12.270612928728513,12.264832720639115,12.271078116879512,12.261525792505076,12.257444217008256,12.261049116483964,12.2563816808626,12.258059665533773,12.24835921760351,12.258551451592808,12.256795470219727,12.257375878362296,12.248845919525767,12.251906726580458,12.25110872778907,12.243672208128379,12.255202507275792,12.246735493703017,12.253818197713079,12.238878976433817,12.243662863911725,12.239356912816797,12.236782060864122,12.236991813373814,12.241339633125218,12.234926278782822,12.229480130042951,12.236649837752134,12.232110429103482,12.243672273338827,12.23902044288421,12.229166372991978,12.233488455157623,12.224640419245931,12.236384332101126,12.24062437828921,12.224695491225637,12.224623111324554,12.2268134849339,12.235584310777405,12.220018142644939,12.228222417379584,12.22189818529159,12.226218993874005,12.215502875756115,12.223028609324382,12.219246777578782,12.222309008955172,12.223348832256566,12.226870975302496,12.220294760701774,12.214662437324664,12.222828979859235,12.220662534787238,12.216596549069589,12.216942618607748,12.225434235567587,12.227052173553329,12.219469354324612,12.216138346503921,12.216490248605087,12.212866543197748,12.21592500092089,12.21037537160159,12.215354011131712,12.209915561631966,12.212236445215787,12.210948504185213,12.212600933531219,12.205447022250354,12.223810143672505,12.208267776756411,12.206468112113518,12.207031237096754,12.209565148278633,12.210955792143855,12.206603965273843,12.206496324969907,12.208225046806596,12.203856738574457,12.203552749944194],\"type\":\"scatter\"},{\"mode\":\"lines\",\"name\":\"Naieve Test\",\"x\":[0,1,2,3,4,5,6,7,8,9,10,11,12,13,14,15,16,17,18,19,20,21,22,23,24,25,26,27,28,29,30,31,32,33,34,35,36,37,38,39,40,41,42,43,44,45,46,47,48,49,50,51,52,53,54,55,56,57,58,59,60,61,62,63,64,65,66,67,68,69,70,71,72,73,74,75,76,77,78,79,80,81,82,83,84,85,86,87,88,89,90,91,92,93,94,95,96,97,98,99],\"y\":[12.61497439323459,12.61497439323459,12.61497439323459,12.61497439323459,12.61497439323459,12.61497439323459,12.61497439323459,12.61497439323459,12.61497439323459,12.61497439323459,12.61497439323459,12.61497439323459,12.61497439323459,12.61497439323459,12.61497439323459,12.61497439323459,12.61497439323459,12.61497439323459,12.61497439323459,12.61497439323459,12.61497439323459,12.61497439323459,12.61497439323459,12.61497439323459,12.61497439323459,12.61497439323459,12.61497439323459,12.61497439323459,12.61497439323459,12.61497439323459,12.61497439323459,12.61497439323459,12.61497439323459,12.61497439323459,12.61497439323459,12.61497439323459,12.61497439323459,12.61497439323459,12.61497439323459,12.61497439323459,12.61497439323459,12.61497439323459,12.61497439323459,12.61497439323459,12.61497439323459,12.61497439323459,12.61497439323459,12.61497439323459,12.61497439323459,12.61497439323459,12.61497439323459,12.61497439323459,12.61497439323459,12.61497439323459,12.61497439323459,12.61497439323459,12.61497439323459,12.61497439323459,12.61497439323459,12.61497439323459,12.61497439323459,12.61497439323459,12.61497439323459,12.61497439323459,12.61497439323459,12.61497439323459,12.61497439323459,12.61497439323459,12.61497439323459,12.61497439323459,12.61497439323459,12.61497439323459,12.61497439323459,12.61497439323459,12.61497439323459,12.61497439323459,12.61497439323459,12.61497439323459,12.61497439323459,12.61497439323459,12.61497439323459,12.61497439323459,12.61497439323459,12.61497439323459,12.61497439323459,12.61497439323459,12.61497439323459,12.61497439323459,12.61497439323459,12.61497439323459,12.61497439323459,12.61497439323459,12.61497439323459,12.61497439323459,12.61497439323459,12.61497439323459,12.61497439323459,12.61497439323459,12.61497439323459,12.61497439323459],\"type\":\"scatter\"},{\"mode\":\"lines\",\"name\":\"Naieve Train\",\"x\":[0,1,2,3,4,5,6,7,8,9,10,11,12,13,14,15,16,17,18,19,20,21,22,23,24,25,26,27,28,29,30,31,32,33,34,35,36,37,38,39,40,41,42,43,44,45,46,47,48,49,50,51,52,53,54,55,56,57,58,59,60,61,62,63,64,65,66,67,68,69,70,71,72,73,74,75,76,77,78,79,80,81,82,83,84,85,86,87,88,89,90,91,92,93,94,95,96,97,98,99],\"y\":[12.603480712144691,12.603480712144691,12.603480712144691,12.603480712144691,12.603480712144691,12.603480712144691,12.603480712144691,12.603480712144691,12.603480712144691,12.603480712144691,12.603480712144691,12.603480712144691,12.603480712144691,12.603480712144691,12.603480712144691,12.603480712144691,12.603480712144691,12.603480712144691,12.603480712144691,12.603480712144691,12.603480712144691,12.603480712144691,12.603480712144691,12.603480712144691,12.603480712144691,12.603480712144691,12.603480712144691,12.603480712144691,12.603480712144691,12.603480712144691,12.603480712144691,12.603480712144691,12.603480712144691,12.603480712144691,12.603480712144691,12.603480712144691,12.603480712144691,12.603480712144691,12.603480712144691,12.603480712144691,12.603480712144691,12.603480712144691,12.603480712144691,12.603480712144691,12.603480712144691,12.603480712144691,12.603480712144691,12.603480712144691,12.603480712144691,12.603480712144691,12.603480712144691,12.603480712144691,12.603480712144691,12.603480712144691,12.603480712144691,12.603480712144691,12.603480712144691,12.603480712144691,12.603480712144691,12.603480712144691,12.603480712144691,12.603480712144691,12.603480712144691,12.603480712144691,12.603480712144691,12.603480712144691,12.603480712144691,12.603480712144691,12.603480712144691,12.603480712144691,12.603480712144691,12.603480712144691,12.603480712144691,12.603480712144691,12.603480712144691,12.603480712144691,12.603480712144691,12.603480712144691,12.603480712144691,12.603480712144691,12.603480712144691,12.603480712144691,12.603480712144691,12.603480712144691,12.603480712144691,12.603480712144691,12.603480712144691,12.603480712144691,12.603480712144691,12.603480712144691,12.603480712144691,12.603480712144691,12.603480712144691,12.603480712144691,12.603480712144691,12.603480712144691,12.603480712144691,12.603480712144691,12.603480712144691,12.603480712144691],\"type\":\"scatter\"}],                        {\"template\":{\"data\":{\"histogram2dcontour\":[{\"type\":\"histogram2dcontour\",\"colorbar\":{\"outlinewidth\":0,\"ticks\":\"\"},\"colorscale\":[[0.0,\"#0d0887\"],[0.1111111111111111,\"#46039f\"],[0.2222222222222222,\"#7201a8\"],[0.3333333333333333,\"#9c179e\"],[0.4444444444444444,\"#bd3786\"],[0.5555555555555556,\"#d8576b\"],[0.6666666666666666,\"#ed7953\"],[0.7777777777777778,\"#fb9f3a\"],[0.8888888888888888,\"#fdca26\"],[1.0,\"#f0f921\"]]}],\"choropleth\":[{\"type\":\"choropleth\",\"colorbar\":{\"outlinewidth\":0,\"ticks\":\"\"}}],\"histogram2d\":[{\"type\":\"histogram2d\",\"colorbar\":{\"outlinewidth\":0,\"ticks\":\"\"},\"colorscale\":[[0.0,\"#0d0887\"],[0.1111111111111111,\"#46039f\"],[0.2222222222222222,\"#7201a8\"],[0.3333333333333333,\"#9c179e\"],[0.4444444444444444,\"#bd3786\"],[0.5555555555555556,\"#d8576b\"],[0.6666666666666666,\"#ed7953\"],[0.7777777777777778,\"#fb9f3a\"],[0.8888888888888888,\"#fdca26\"],[1.0,\"#f0f921\"]]}],\"heatmap\":[{\"type\":\"heatmap\",\"colorbar\":{\"outlinewidth\":0,\"ticks\":\"\"},\"colorscale\":[[0.0,\"#0d0887\"],[0.1111111111111111,\"#46039f\"],[0.2222222222222222,\"#7201a8\"],[0.3333333333333333,\"#9c179e\"],[0.4444444444444444,\"#bd3786\"],[0.5555555555555556,\"#d8576b\"],[0.6666666666666666,\"#ed7953\"],[0.7777777777777778,\"#fb9f3a\"],[0.8888888888888888,\"#fdca26\"],[1.0,\"#f0f921\"]]}],\"heatmapgl\":[{\"type\":\"heatmapgl\",\"colorbar\":{\"outlinewidth\":0,\"ticks\":\"\"},\"colorscale\":[[0.0,\"#0d0887\"],[0.1111111111111111,\"#46039f\"],[0.2222222222222222,\"#7201a8\"],[0.3333333333333333,\"#9c179e\"],[0.4444444444444444,\"#bd3786\"],[0.5555555555555556,\"#d8576b\"],[0.6666666666666666,\"#ed7953\"],[0.7777777777777778,\"#fb9f3a\"],[0.8888888888888888,\"#fdca26\"],[1.0,\"#f0f921\"]]}],\"contourcarpet\":[{\"type\":\"contourcarpet\",\"colorbar\":{\"outlinewidth\":0,\"ticks\":\"\"}}],\"contour\":[{\"type\":\"contour\",\"colorbar\":{\"outlinewidth\":0,\"ticks\":\"\"},\"colorscale\":[[0.0,\"#0d0887\"],[0.1111111111111111,\"#46039f\"],[0.2222222222222222,\"#7201a8\"],[0.3333333333333333,\"#9c179e\"],[0.4444444444444444,\"#bd3786\"],[0.5555555555555556,\"#d8576b\"],[0.6666666666666666,\"#ed7953\"],[0.7777777777777778,\"#fb9f3a\"],[0.8888888888888888,\"#fdca26\"],[1.0,\"#f0f921\"]]}],\"surface\":[{\"type\":\"surface\",\"colorbar\":{\"outlinewidth\":0,\"ticks\":\"\"},\"colorscale\":[[0.0,\"#0d0887\"],[0.1111111111111111,\"#46039f\"],[0.2222222222222222,\"#7201a8\"],[0.3333333333333333,\"#9c179e\"],[0.4444444444444444,\"#bd3786\"],[0.5555555555555556,\"#d8576b\"],[0.6666666666666666,\"#ed7953\"],[0.7777777777777778,\"#fb9f3a\"],[0.8888888888888888,\"#fdca26\"],[1.0,\"#f0f921\"]]}],\"mesh3d\":[{\"type\":\"mesh3d\",\"colorbar\":{\"outlinewidth\":0,\"ticks\":\"\"}}],\"scatter\":[{\"fillpattern\":{\"fillmode\":\"overlay\",\"size\":10,\"solidity\":0.2},\"type\":\"scatter\"}],\"parcoords\":[{\"type\":\"parcoords\",\"line\":{\"colorbar\":{\"outlinewidth\":0,\"ticks\":\"\"}}}],\"scatterpolargl\":[{\"type\":\"scatterpolargl\",\"marker\":{\"colorbar\":{\"outlinewidth\":0,\"ticks\":\"\"}}}],\"bar\":[{\"error_x\":{\"color\":\"#2a3f5f\"},\"error_y\":{\"color\":\"#2a3f5f\"},\"marker\":{\"line\":{\"color\":\"white\",\"width\":0.5},\"pattern\":{\"fillmode\":\"overlay\",\"size\":10,\"solidity\":0.2}},\"type\":\"bar\"}],\"scattergeo\":[{\"type\":\"scattergeo\",\"marker\":{\"colorbar\":{\"outlinewidth\":0,\"ticks\":\"\"}}}],\"scatterpolar\":[{\"type\":\"scatterpolar\",\"marker\":{\"colorbar\":{\"outlinewidth\":0,\"ticks\":\"\"}}}],\"histogram\":[{\"marker\":{\"pattern\":{\"fillmode\":\"overlay\",\"size\":10,\"solidity\":0.2}},\"type\":\"histogram\"}],\"scattergl\":[{\"type\":\"scattergl\",\"marker\":{\"colorbar\":{\"outlinewidth\":0,\"ticks\":\"\"}}}],\"scatter3d\":[{\"type\":\"scatter3d\",\"line\":{\"colorbar\":{\"outlinewidth\":0,\"ticks\":\"\"}},\"marker\":{\"colorbar\":{\"outlinewidth\":0,\"ticks\":\"\"}}}],\"scattermapbox\":[{\"type\":\"scattermapbox\",\"marker\":{\"colorbar\":{\"outlinewidth\":0,\"ticks\":\"\"}}}],\"scatterternary\":[{\"type\":\"scatterternary\",\"marker\":{\"colorbar\":{\"outlinewidth\":0,\"ticks\":\"\"}}}],\"scattercarpet\":[{\"type\":\"scattercarpet\",\"marker\":{\"colorbar\":{\"outlinewidth\":0,\"ticks\":\"\"}}}],\"carpet\":[{\"aaxis\":{\"endlinecolor\":\"#2a3f5f\",\"gridcolor\":\"#C8D4E3\",\"linecolor\":\"#C8D4E3\",\"minorgridcolor\":\"#C8D4E3\",\"startlinecolor\":\"#2a3f5f\"},\"baxis\":{\"endlinecolor\":\"#2a3f5f\",\"gridcolor\":\"#C8D4E3\",\"linecolor\":\"#C8D4E3\",\"minorgridcolor\":\"#C8D4E3\",\"startlinecolor\":\"#2a3f5f\"},\"type\":\"carpet\"}],\"table\":[{\"cells\":{\"fill\":{\"color\":\"#EBF0F8\"},\"line\":{\"color\":\"white\"}},\"header\":{\"fill\":{\"color\":\"#C8D4E3\"},\"line\":{\"color\":\"white\"}},\"type\":\"table\"}],\"barpolar\":[{\"marker\":{\"line\":{\"color\":\"white\",\"width\":0.5},\"pattern\":{\"fillmode\":\"overlay\",\"size\":10,\"solidity\":0.2}},\"type\":\"barpolar\"}],\"pie\":[{\"automargin\":true,\"type\":\"pie\"}]},\"layout\":{\"autotypenumbers\":\"strict\",\"colorway\":[\"#636efa\",\"#EF553B\",\"#00cc96\",\"#ab63fa\",\"#FFA15A\",\"#19d3f3\",\"#FF6692\",\"#B6E880\",\"#FF97FF\",\"#FECB52\"],\"font\":{\"color\":\"#2a3f5f\"},\"hovermode\":\"closest\",\"hoverlabel\":{\"align\":\"left\"},\"paper_bgcolor\":\"white\",\"plot_bgcolor\":\"white\",\"polar\":{\"bgcolor\":\"white\",\"angularaxis\":{\"gridcolor\":\"#EBF0F8\",\"linecolor\":\"#EBF0F8\",\"ticks\":\"\"},\"radialaxis\":{\"gridcolor\":\"#EBF0F8\",\"linecolor\":\"#EBF0F8\",\"ticks\":\"\"}},\"ternary\":{\"bgcolor\":\"white\",\"aaxis\":{\"gridcolor\":\"#DFE8F3\",\"linecolor\":\"#A2B1C6\",\"ticks\":\"\"},\"baxis\":{\"gridcolor\":\"#DFE8F3\",\"linecolor\":\"#A2B1C6\",\"ticks\":\"\"},\"caxis\":{\"gridcolor\":\"#DFE8F3\",\"linecolor\":\"#A2B1C6\",\"ticks\":\"\"}},\"coloraxis\":{\"colorbar\":{\"outlinewidth\":0,\"ticks\":\"\"}},\"colorscale\":{\"sequential\":[[0.0,\"#0d0887\"],[0.1111111111111111,\"#46039f\"],[0.2222222222222222,\"#7201a8\"],[0.3333333333333333,\"#9c179e\"],[0.4444444444444444,\"#bd3786\"],[0.5555555555555556,\"#d8576b\"],[0.6666666666666666,\"#ed7953\"],[0.7777777777777778,\"#fb9f3a\"],[0.8888888888888888,\"#fdca26\"],[1.0,\"#f0f921\"]],\"sequentialminus\":[[0.0,\"#0d0887\"],[0.1111111111111111,\"#46039f\"],[0.2222222222222222,\"#7201a8\"],[0.3333333333333333,\"#9c179e\"],[0.4444444444444444,\"#bd3786\"],[0.5555555555555556,\"#d8576b\"],[0.6666666666666666,\"#ed7953\"],[0.7777777777777778,\"#fb9f3a\"],[0.8888888888888888,\"#fdca26\"],[1.0,\"#f0f921\"]],\"diverging\":[[0,\"#8e0152\"],[0.1,\"#c51b7d\"],[0.2,\"#de77ae\"],[0.3,\"#f1b6da\"],[0.4,\"#fde0ef\"],[0.5,\"#f7f7f7\"],[0.6,\"#e6f5d0\"],[0.7,\"#b8e186\"],[0.8,\"#7fbc41\"],[0.9,\"#4d9221\"],[1,\"#276419\"]]},\"xaxis\":{\"gridcolor\":\"#EBF0F8\",\"linecolor\":\"#EBF0F8\",\"ticks\":\"\",\"title\":{\"standoff\":15},\"zerolinecolor\":\"#EBF0F8\",\"automargin\":true,\"zerolinewidth\":2},\"yaxis\":{\"gridcolor\":\"#EBF0F8\",\"linecolor\":\"#EBF0F8\",\"ticks\":\"\",\"title\":{\"standoff\":15},\"zerolinecolor\":\"#EBF0F8\",\"automargin\":true,\"zerolinewidth\":2},\"scene\":{\"xaxis\":{\"backgroundcolor\":\"white\",\"gridcolor\":\"#DFE8F3\",\"linecolor\":\"#EBF0F8\",\"showbackground\":true,\"ticks\":\"\",\"zerolinecolor\":\"#EBF0F8\",\"gridwidth\":2},\"yaxis\":{\"backgroundcolor\":\"white\",\"gridcolor\":\"#DFE8F3\",\"linecolor\":\"#EBF0F8\",\"showbackground\":true,\"ticks\":\"\",\"zerolinecolor\":\"#EBF0F8\",\"gridwidth\":2},\"zaxis\":{\"backgroundcolor\":\"white\",\"gridcolor\":\"#DFE8F3\",\"linecolor\":\"#EBF0F8\",\"showbackground\":true,\"ticks\":\"\",\"zerolinecolor\":\"#EBF0F8\",\"gridwidth\":2}},\"shapedefaults\":{\"line\":{\"color\":\"#2a3f5f\"}},\"annotationdefaults\":{\"arrowcolor\":\"#2a3f5f\",\"arrowhead\":0,\"arrowwidth\":1},\"geo\":{\"bgcolor\":\"white\",\"landcolor\":\"white\",\"subunitcolor\":\"#C8D4E3\",\"showland\":true,\"showlakes\":true,\"lakecolor\":\"white\"},\"title\":{\"x\":0.05},\"mapbox\":{\"style\":\"light\"}}}},                        {\"responsive\": true}                    ).then(function(){\n",
       "                            \n",
       "var gd = document.getElementById('8d5af44f-781a-45cd-841b-bd3d46a8c785');\n",
       "var x = new MutationObserver(function (mutations, observer) {{\n",
       "        var display = window.getComputedStyle(gd).display;\n",
       "        if (!display || display === 'none') {{\n",
       "            console.log([gd, 'removed!']);\n",
       "            Plotly.purge(gd);\n",
       "            observer.disconnect();\n",
       "        }}\n",
       "}});\n",
       "\n",
       "// Listen for the removal of the full notebook cells\n",
       "var notebookContainer = gd.closest('#notebook-container');\n",
       "if (notebookContainer) {{\n",
       "    x.observe(notebookContainer, {childList: true});\n",
       "}}\n",
       "\n",
       "// Listen for the clearing of the current output cell\n",
       "var outputEl = gd.closest('.output');\n",
       "if (outputEl) {{\n",
       "    x.observe(outputEl, {childList: true});\n",
       "}}\n",
       "\n",
       "                        })                };                });            </script>        </div>"
      ]
     },
     "metadata": {},
     "output_type": "display_data"
    }
   ],
   "source": [
    "naieve_yhat = training_dataloader.dataset.y.mean()\n",
    "\n",
    "naieve_MSE_Train = reverse_cs( \n",
    "    np.array(((naieve_yhat - training_dataloader.dataset.y)**2)).mean(),\n",
    "    scale_dict['y1']\n",
    ")\n",
    "\n",
    "naieve_MSE_Test = reverse_cs( \n",
    "    np.array(((naieve_yhat - testing_dataloader.dataset.y)**2)).mean(),\n",
    "    scale_dict['y1']\n",
    ")\n",
    "\n",
    "naieve_MSE_Train, naieve_MSE_Test\n",
    "\n",
    "\n",
    "\n",
    "loss_df = pd.read_csv(cache_path+'/loss_df.csv')\n",
    "\n",
    "loss_df.TrainMSE = reverse_cs(loss_df.TrainMSE, scale_dict['y1'])\n",
    "loss_df.TestMSE  = reverse_cs(loss_df.TestMSE , scale_dict['y1'])\n",
    "\n",
    "\n",
    "fig = go.Figure()\n",
    "fig.add_trace(go.Scatter(x=loss_df.Epoch, y=loss_df.TestMSE,\n",
    "                    mode='lines', name='Test'))\n",
    "fig.add_trace(go.Scatter(x=loss_df.Epoch, y=loss_df.TrainMSE,\n",
    "                    mode='lines', name='Train'))\n",
    "\n",
    "fig.add_trace(go.Scatter(x=loss_df.Epoch, y=[naieve_MSE_Test  for e in range(len(loss_df.Epoch))], \n",
    "                         mode='lines', name='Naieve Test'))\n",
    "fig.add_trace(go.Scatter(x=loss_df.Epoch, y=[naieve_MSE_Train for e in range(len(loss_df.Epoch))], \n",
    "                         mode='lines', name='Naieve Train'))\n",
    "fig.show()"
   ]
  },
  {
   "cell_type": "code",
   "execution_count": null,
   "id": "e6b66997",
   "metadata": {},
   "outputs": [],
   "source": [
    "yhats = pd.read_csv(cache_path+'/yhats.csv')\n",
    "\n",
    "# px.scatter(yhats, x = 'y_true', y = 'y_pred', color = 'Split')"
   ]
  },
  {
   "cell_type": "code",
   "execution_count": null,
   "id": "923b6dab",
   "metadata": {},
   "outputs": [],
   "source": [
    "yhats.y_true = reverse_cs(yhats.y_true, scale_dict['y1'])\n",
    "yhats.y_pred = reverse_cs(yhats.y_pred, scale_dict['y1'])\n",
    "\n",
    "# px.scatter(yhats, x = 'y_true', y = 'y_pred', color = 'Split', trendline=\"ols\")"
   ]
  },
  {
   "cell_type": "code",
   "execution_count": null,
   "id": "8460bc23",
   "metadata": {},
   "outputs": [],
   "source": [
    "yhats['Error'] = yhats.y_pred - yhats.y_true\n",
    "\n",
    "px.histogram(yhats, x = 'Error', color = 'Split',\n",
    "             marginal=\"box\", # can be `rug`, `violin`\n",
    "             nbins= 50)"
   ]
  },
  {
   "cell_type": "code",
   "execution_count": null,
   "id": "68e8b25a",
   "metadata": {},
   "outputs": [],
   "source": [
    "os._exit(00)"
   ]
  }
 ],
 "metadata": {
  "kernelspec": {
   "display_name": "python3",
   "language": "python",
   "name": "python3"
  }
 },
 "nbformat": 4,
 "nbformat_minor": 5
}
