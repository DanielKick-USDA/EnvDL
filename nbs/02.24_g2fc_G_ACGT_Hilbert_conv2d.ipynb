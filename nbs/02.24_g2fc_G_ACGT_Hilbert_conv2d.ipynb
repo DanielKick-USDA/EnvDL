{
 "cells": [
  {
   "cell_type": "markdown",
   "id": "7aadccc0",
   "metadata": {},
   "source": [
    "# Y~G ACGT Probabilities 2d (resnet)\n",
    "\n",
    "> "
   ]
  },
  {
   "cell_type": "code",
   "execution_count": 1,
   "id": "0bc2f33b",
   "metadata": {},
   "outputs": [],
   "source": [
    "import numpy as np\n",
    "import pandas as pd\n",
    "\n",
    "from EnvDL.core import ensure_dir_path_exists \n",
    "from EnvDL.dlfn import g2fc_datawrapper, BigDataset, plDNN_general\n",
    "from EnvDL.dlfn import ResNet1d, BasicBlock1d\n",
    "from EnvDL.dlfn import LSUV_\n",
    "\n",
    "import torch\n",
    "import torch.nn.functional as F # F.mse_loss\n",
    "from torch.utils.data import Dataset\n",
    "from torch.utils.data import DataLoader\n",
    "from torch import nn\n",
    "\n",
    "import lightning.pytorch as pl\n",
    "from lightning.pytorch.loggers import TensorBoardLogger"
   ]
  },
  {
   "cell_type": "code",
   "execution_count": 2,
   "id": "54470e8f",
   "metadata": {},
   "outputs": [],
   "source": [
    "# Run settings: \n",
    "max_epoch = 20\n",
    "batch_size = 24"
   ]
  },
  {
   "cell_type": "code",
   "execution_count": 3,
   "id": "5f4d25c1",
   "metadata": {},
   "outputs": [
    {
     "name": "stdout",
     "output_type": "stream",
     "text": [
      "Using cuda device\n"
     ]
    }
   ],
   "source": [
    "use_gpu_num = 0\n",
    "\n",
    "device = \"cuda\" if torch.cuda.is_available() else \"cpu\"\n",
    "if use_gpu_num in [0, 1]: \n",
    "    torch.cuda.set_device(use_gpu_num)\n",
    "print(f\"Using {device} device\")"
   ]
  },
  {
   "cell_type": "code",
   "execution_count": 4,
   "id": "bb4600ed",
   "metadata": {},
   "outputs": [],
   "source": [
    "cache_path = '../nbs_artifacts/02.24_g2fc_G_ACGT_Hilbert_conv2d/'\n",
    "ensure_dir_path_exists(dir_path = cache_path)"
   ]
  },
  {
   "cell_type": "markdown",
   "id": "517af1f8",
   "metadata": {},
   "source": [
    "## Load data"
   ]
  },
  {
   "cell_type": "code",
   "execution_count": 5,
   "id": "792586b5",
   "metadata": {},
   "outputs": [
    {
     "name": "stdout",
     "output_type": "stream",
     "text": [
      "Loading and storing default `phno`.\n"
     ]
    }
   ],
   "source": [
    "X = g2fc_datawrapper()\n",
    "X.set_split()\n",
    "X.load_all(name_list = ['obs_geno_lookup', 'YMat', 'ACGT_hilb',], store=True) \n",
    "\n",
    "X.calc_cs('YMat', version = 'np', filter = 'val:train')"
   ]
  },
  {
   "cell_type": "code",
   "execution_count": 6,
   "id": "a29cb007",
   "metadata": {},
   "outputs": [],
   "source": [
    "training_dataloader = DataLoader(BigDataset(\n",
    "    lookups_are_filtered = False,\n",
    "    lookup_obs  = X.get('val:train',       ops_string='   asarray from_numpy      '),\n",
    "    lookup_geno = X.get('obs_geno_lookup', ops_string='   asarray from_numpy      '),\n",
    "    y =           X.get('YMat',            ops_string='cs asarray from_numpy float')[:, None],\n",
    "    G =           X.get('ACGT_hilb',       ops_string='           from_numpy float'),\n",
    "    G_type = 'hilbert',\n",
    "    send_batch_to_gpu = 'cuda:0'\n",
    "    ),\n",
    "    batch_size = batch_size,\n",
    "    shuffle = True\n",
    ")\n",
    "\n",
    "\n",
    "validation_dataloader = DataLoader(BigDataset(\n",
    "    lookups_are_filtered = False,\n",
    "    lookup_obs =  X.get('val:test',        ops_string='   asarray from_numpy      '),\n",
    "    lookup_geno = X.get('obs_geno_lookup', ops_string='   asarray from_numpy      '),\n",
    "    y =           X.get('YMat',            ops_string='cs asarray from_numpy float')[:, None],\n",
    "    G =           X.get('ACGT_hilb',       ops_string='           from_numpy float'),\n",
    "    G_type = 'hilbert',\n",
    "    send_batch_to_gpu = 'cuda:0'\n",
    "    ),\n",
    "    batch_size = batch_size,\n",
    "    shuffle = False\n",
    ")"
   ]
  },
  {
   "cell_type": "markdown",
   "id": "36ad865a",
   "metadata": {},
   "source": [
    "## Test Models"
   ]
  },
  {
   "cell_type": "code",
   "execution_count": 23,
   "id": "2cf76c08",
   "metadata": {},
   "outputs": [],
   "source": [
    "class NeuralNetwork(nn.Module):\n",
    "    def __init__(self):\n",
    "        super(NeuralNetwork, self).__init__()    \n",
    "\n",
    "#         def Linear_block(in_size, out_size, drop_pr):\n",
    "#             block = nn.Sequential(\n",
    "#                 nn.Linear(in_size, out_size),\n",
    "#                 nn.ReLU(),\n",
    "#                 nn.Dropout(drop_pr)\n",
    "#             )\n",
    "#             return(block)         \n",
    "        \n",
    "        \n",
    "#         def Conv1D_Max_block(in_channels, out_channels, kernel_size, stride):\n",
    "#             block = nn.Sequential(\n",
    "#                 nn.Conv1d(\n",
    "#                     in_channels= in_channels, # second channel\n",
    "#                     out_channels= out_channels,\n",
    "#                     kernel_size= kernel_size,\n",
    "#                     stride= stride\n",
    "#                 ), \n",
    "#                 nn.MaxPool1d((kernel_size,), stride=stride)\n",
    "#             )\n",
    "#             return(block)\n",
    "        \n",
    "        self.x_network = nn.Sequential(\n",
    "            nn.Conv2d(\n",
    "                    in_channels= 4, \n",
    "                    out_channels= 4,\n",
    "                    kernel_size= (3, 3),\n",
    "                    stride= 2,\n",
    "                    padding = 1,\n",
    "                    bias = True\n",
    "                ),\n",
    "            nn.Conv2d(\n",
    "                    in_channels= 4, \n",
    "                    out_channels= 4,\n",
    "                    kernel_size= (3, 3),\n",
    "                    stride= 2,\n",
    "                    padding = 1,\n",
    "                    bias = True\n",
    "                ),\n",
    "            nn.Conv2d(\n",
    "                    in_channels= 4, \n",
    "                    out_channels= 4,\n",
    "                    kernel_size= (3, 3),\n",
    "                    stride= 2,\n",
    "                    padding = 1,\n",
    "                    bias = True\n",
    "                ),\n",
    "            nn.Conv2d(\n",
    "                    in_channels= 4, \n",
    "                    out_channels= 4,\n",
    "                    kernel_size= (3, 3),\n",
    "                    stride= 2,\n",
    "                    padding = 1,\n",
    "                    bias = True\n",
    "                ),\n",
    "            nn.Conv2d(\n",
    "                    in_channels= 4, \n",
    "                    out_channels= 4,\n",
    "                    kernel_size= (3, 3),\n",
    "                    stride= 2,\n",
    "                    padding = 1,\n",
    "                    bias = True\n",
    "                )\n",
    "        )\n",
    "        \n",
    "        self.x_pred = nn.Sequential(\n",
    "            nn.Flatten(),            \n",
    "            nn.Linear(512, 1)\n",
    "        )\n",
    "        \n",
    "    def forward(self, x):\n",
    "        out = self.x_network(x)\n",
    "        pred = self.x_pred(out)\n",
    "        return pred#, out\n",
    "\n",
    "model = NeuralNetwork().to(device)\n",
    "\n",
    "# model(next(iter(training_dataloader))[0])[0].shape\n",
    "\n",
    "# torch.Size([50, 4, 256, 512])"
   ]
  },
  {
   "cell_type": "code",
   "execution_count": 26,
   "id": "8883eaa8",
   "metadata": {},
   "outputs": [
    {
     "name": "stdout",
     "output_type": "stream",
     "text": [
      "Applying orthogonal init (zero init if dim < 2) to params in 6 module(s).\n",
      "Applying LSUV to 6 module(s) (up to 10 iters per module):\n",
      "Module  0 after  2 itr(s) | Mean:  0.316 | Std: 1.000 | <class 'torch.nn.modules.conv.Conv2d'>\n",
      "Module  1 after  1 itr(s) | Mean: -0.202 | Std: 0.937 | <class 'torch.nn.modules.conv.Conv2d'>\n",
      "Module  2 after  1 itr(s) | Mean: -0.233 | Std: 0.907 | <class 'torch.nn.modules.conv.Conv2d'>\n",
      "Module  3 after  1 itr(s) | Mean:  0.119 | Std: 0.941 | <class 'torch.nn.modules.conv.Conv2d'>\n",
      "Module  4 after  2 itr(s) | Mean: -0.010 | Std: 1.000 | <class 'torch.nn.modules.conv.Conv2d'>\n",
      "Module  5 after  2 itr(s) | Mean:  0.124 | Std: 1.000 | <class 'torch.nn.modules.linear.Linear'>\n"
     ]
    }
   ],
   "source": [
    "LSUV_(model, next(iter(training_dataloader))[1])"
   ]
  },
  {
   "cell_type": "code",
   "execution_count": 27,
   "id": "3d96a8c1",
   "metadata": {},
   "outputs": [
    {
     "name": "stderr",
     "output_type": "stream",
     "text": [
      "/home/kickd/miniconda3/envs/fastai/lib/python3.11/site-packages/lightning/fabric/plugins/environments/slurm.py:191: The `srun` command is available on your system but is not used. HINT: If your intention is to run Lightning on SLURM, prepend your python command with `srun` like so: srun python /home/kickd/miniconda3/envs/fastai/lib/python3.11/si ...\n",
      "GPU available: True (cuda), used: True\n",
      "TPU available: False, using: 0 TPU cores\n",
      "IPU available: False, using: 0 IPUs\n",
      "HPU available: False, using: 0 HPUs\n",
      "You are using a CUDA device ('NVIDIA GeForce RTX 4090') that has Tensor Cores. To properly utilize them, you should set `torch.set_float32_matmul_precision('medium' | 'high')` which will trade-off precision for performance. For more details, read https://pytorch.org/docs/stable/generated/torch.set_float32_matmul_precision.html#torch.set_float32_matmul_precision\n",
      "LOCAL_RANK: 0 - CUDA_VISIBLE_DEVICES: [0]\n",
      "\n",
      "  | Name | Type          | Params\n",
      "---------------------------------------\n",
      "0 | mod  | NeuralNetwork | 1.3 K \n",
      "---------------------------------------\n",
      "1.3 K     Trainable params\n",
      "0         Non-trainable params\n",
      "1.3 K     Total params\n",
      "0.005     Total estimated model params size (MB)\n"
     ]
    },
    {
     "data": {
      "application/vnd.jupyter.widget-view+json": {
       "model_id": "e1617e3a21fd4f28b8f0be477dce9477",
       "version_major": 2,
       "version_minor": 0
      },
      "text/plain": [
       "Sanity Checking: |          | 0/? [00:00<?, ?it/s]"
      ]
     },
     "metadata": {},
     "output_type": "display_data"
    },
    {
     "name": "stderr",
     "output_type": "stream",
     "text": [
      "/home/kickd/miniconda3/envs/fastai/lib/python3.11/site-packages/lightning/pytorch/trainer/connectors/data_connector.py:441: The 'val_dataloader' does not have many workers which may be a bottleneck. Consider increasing the value of the `num_workers` argument` to `num_workers=31` in the `DataLoader` to improve performance.\n",
      "/home/kickd/miniconda3/envs/fastai/lib/python3.11/site-packages/lightning/pytorch/trainer/connectors/data_connector.py:441: The 'train_dataloader' does not have many workers which may be a bottleneck. Consider increasing the value of the `num_workers` argument` to `num_workers=31` in the `DataLoader` to improve performance.\n"
     ]
    },
    {
     "data": {
      "application/vnd.jupyter.widget-view+json": {
       "model_id": "d7e52301b66c490695e485fb4749283c",
       "version_major": 2,
       "version_minor": 0
      },
      "text/plain": [
       "Training: |          | 0/? [00:00<?, ?it/s]"
      ]
     },
     "metadata": {},
     "output_type": "display_data"
    },
    {
     "data": {
      "application/vnd.jupyter.widget-view+json": {
       "model_id": "872c998493e248afb8ab82ffa08a9b74",
       "version_major": 2,
       "version_minor": 0
      },
      "text/plain": [
       "Validation: |          | 0/? [00:00<?, ?it/s]"
      ]
     },
     "metadata": {},
     "output_type": "display_data"
    },
    {
     "data": {
      "application/vnd.jupyter.widget-view+json": {
       "model_id": "b736176dbff6441ba0a8a3d2f527c56f",
       "version_major": 2,
       "version_minor": 0
      },
      "text/plain": [
       "Validation: |          | 0/? [00:00<?, ?it/s]"
      ]
     },
     "metadata": {},
     "output_type": "display_data"
    },
    {
     "data": {
      "application/vnd.jupyter.widget-view+json": {
       "model_id": "33a759d369024f1b82e65f80ae248640",
       "version_major": 2,
       "version_minor": 0
      },
      "text/plain": [
       "Validation: |          | 0/? [00:00<?, ?it/s]"
      ]
     },
     "metadata": {},
     "output_type": "display_data"
    },
    {
     "data": {
      "application/vnd.jupyter.widget-view+json": {
       "model_id": "74ffbf862050410c8e6650df594b7a03",
       "version_major": 2,
       "version_minor": 0
      },
      "text/plain": [
       "Validation: |          | 0/? [00:00<?, ?it/s]"
      ]
     },
     "metadata": {},
     "output_type": "display_data"
    },
    {
     "data": {
      "application/vnd.jupyter.widget-view+json": {
       "model_id": "5c9e9a2300424b49b4965b2fedf5ed66",
       "version_major": 2,
       "version_minor": 0
      },
      "text/plain": [
       "Validation: |          | 0/? [00:00<?, ?it/s]"
      ]
     },
     "metadata": {},
     "output_type": "display_data"
    }
   ],
   "source": [
    "DNNG = plDNN_general(model)     \n",
    "optimizer = DNNG.configure_optimizers()\n",
    "\n",
    "logger = TensorBoardLogger(\"tb_logs\", name=\"g-acgt-hilb\")\n",
    "trainer = pl.Trainer(max_epochs=max_epoch, logger=logger)\n",
    "\n",
    "trainer.fit(model=DNNG, train_dataloaders=training_dataloader, val_dataloaders=validation_dataloader)"
   ]
  },
  {
   "cell_type": "code",
   "execution_count": null,
   "id": "952cfd54",
   "metadata": {},
   "outputs": [],
   "source": [
    "# torch.save(DNNG.mod, cache_path+'g-acgt-hilb'+'.pt')"
   ]
  }
 ],
 "metadata": {
  "kernelspec": {
   "display_name": "python3",
   "language": "python",
   "name": "python3"
  },
  "language_info": {
   "codemirror_mode": {
    "name": "ipython",
    "version": 3
   },
   "file_extension": ".py",
   "mimetype": "text/x-python",
   "name": "python",
   "nbconvert_exporter": "python",
   "pygments_lexer": "ipython3",
   "version": "3.11.5"
  }
 },
 "nbformat": 4,
 "nbformat_minor": 5
}
