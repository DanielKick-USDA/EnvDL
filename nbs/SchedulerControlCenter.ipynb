{
 "cells": [
  {
   "cell_type": "code",
   "execution_count": 18,
   "metadata": {},
   "outputs": [],
   "source": [
    "import os, subprocess, re, json,  time"
   ]
  },
  {
   "cell_type": "code",
   "execution_count": 19,
   "metadata": {},
   "outputs": [],
   "source": [
    "def write_ctrl_json(data: dict, write_dir = './SchedulerFiles'):\n",
    "    ctrl_files = [e for e in os.listdir(write_dir) if (re.match('ctrl.json', e) or re.match('ctrl\\d+.json', e))]\n",
    "    # find the next number to write to. In case 'ctrl.json' and 'ctrl0.json' exist, I'll write to 1\n",
    "    max_num = [e.replace('ctrl', '').replace('.json', '') for e in  ctrl_files]\n",
    "    max_num = [int(e) for e in max_num if e != '']\n",
    "    if max_num == []: max_num = 0\n",
    "    else: max_num = max(max_num)\n",
    "\n",
    "    with open(f'{write_dir}/ctrl{max_num+1}.json', 'w', encoding='utf-8') as f:\n",
    "        json.dump(data, f, ensure_ascii=False, indent=4)"
   ]
  },
  {
   "cell_type": "code",
   "execution_count": 20,
   "metadata": {},
   "outputs": [],
   "source": [
    "# write_ctrl_json(data = {\n",
    "#      'ipynb_names_add':[\n",
    "#          '../02.40_g2fc_G_ACGT_VNN_baseline.ipynb',   \n",
    "#          '../02.40_g2fc_G_ACGT_VNN_baseline_rx.ipynb', \n",
    "#          '../02.40_g2fc_G_ACGT_VNN_baseline_ry.ipynb',\n",
    "#          ],\n",
    "#     }, write_dir = './SchedulerFiles2')"
   ]
  },
  {
   "cell_type": "code",
   "execution_count": null,
   "metadata": {},
   "outputs": [],
   "source": []
  },
  {
   "cell_type": "code",
   "execution_count": 22,
   "metadata": {},
   "outputs": [
    {
     "name": "stdout",
     "output_type": "stream",
     "text": [
      "02.40_g2fc_G_ACGT_VNN_baseline.ipynb ./SchedulerFiles3\n",
      "02.40_g2fc_G_ACGT_VNN_baseline_rx.ipynb ./SchedulerFiles4\n",
      "02.40_g2fc_G_ACGT_VNN_baseline_ry.ipynb ./SchedulerFiles5\n",
      "02.40_g2fc_G_ACGT_VNN_rep2.ipynb ./SchedulerFiles6\n",
      "02.40_g2fc_G_ACGT_VNN_rep2_rx.ipynb ./SchedulerFiles7\n",
      "02.40_g2fc_G_ACGT_VNN_rep2_ry.ipynb ./SchedulerFiles3\n"
     ]
    }
   ],
   "source": [
    "# Distribute jobs over a set of Scheduler Files\n",
    "run_ipynbs = [\n",
    "    '02.40_g2fc_G_ACGT_VNN_baseline.ipynb',   \n",
    "    '02.40_g2fc_G_ACGT_VNN_baseline_rx.ipynb', \n",
    "    '02.40_g2fc_G_ACGT_VNN_baseline_ry.ipynb',\n",
    "    \n",
    "    '02.40_g2fc_G_ACGT_VNN_rep2.ipynb',   \n",
    "    '02.40_g2fc_G_ACGT_VNN_rep2_rx.ipynb', \n",
    "    '02.40_g2fc_G_ACGT_VNN_rep2_ry.ipynb',\n",
    "    ]\n",
    "max_jobs = 5\n",
    "use_schl = [i for i in range(3, 10)] # allowed schedulers 0-9\n",
    "\n",
    "idx_schl = [(i%max_jobs) for i in range(len(use_schl))]\n",
    "\n",
    "for i in range(len(run_ipynbs)):\n",
    "    print(run_ipynbs[i], f'./SchedulerFiles{use_schl[idx_schl[i]]}')\n",
    "    write_ctrl_json(data = {'ipynb_names_add':['../'+run_ipynbs[i]]}, \n",
    "                    write_dir = f'./SchedulerFiles{use_schl[idx_schl[i]]}')"
   ]
  },
  {
   "cell_type": "code",
   "execution_count": null,
   "metadata": {},
   "outputs": [],
   "source": [
    "\n",
    "\n",
    "\n"
   ]
  },
  {
   "cell_type": "code",
   "execution_count": null,
   "metadata": {},
   "outputs": [],
   "source": []
  },
  {
   "cell_type": "code",
   "execution_count": null,
   "metadata": {},
   "outputs": [],
   "source": []
  },
  {
   "cell_type": "code",
   "execution_count": null,
   "metadata": {},
   "outputs": [],
   "source": []
  }
 ],
 "metadata": {
  "kernelspec": {
   "display_name": "fastai",
   "language": "python",
   "name": "python3"
  },
  "language_info": {
   "codemirror_mode": {
    "name": "ipython",
    "version": 3
   },
   "file_extension": ".py",
   "mimetype": "text/x-python",
   "name": "python",
   "nbconvert_exporter": "python",
   "pygments_lexer": "ipython3",
   "version": "3.11.5"
  }
 },
 "nbformat": 4,
 "nbformat_minor": 2
}
