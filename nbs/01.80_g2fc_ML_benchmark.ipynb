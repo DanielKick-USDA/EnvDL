{
 "cells": [
  {
   "cell_type": "markdown",
   "id": "7aadccc0",
   "metadata": {},
   "source": [
    "# Create Benchmark Models:\n",
    "\n",
    "> "
   ]
  },
  {
   "cell_type": "code",
   "execution_count": null,
   "id": "0bc2f33b",
   "metadata": {},
   "outputs": [],
   "source": [
    "import os\n",
    "\n",
    "import numpy as np\n",
    "import pandas as pd\n",
    "pd.set_option('display.max_columns', None)\n",
    "\n",
    "import plotly.express as px\n",
    "\n",
    "import hilbertcurve\n",
    "from hilbertcurve.hilbertcurve import HilbertCurve\n",
    "\n",
    "from EnvDL.core import * # includes remove_matching_files\n",
    "# from EnvDL.dna import *\n",
    "# from EnvDL.dlfn import *\n",
    "\n",
    "from tqdm import tqdm"
   ]
  },
  {
   "cell_type": "code",
   "execution_count": null,
   "id": "d95bf196",
   "metadata": {},
   "outputs": [],
   "source": [
    "from sklearn.metrics import mean_squared_error # if squared=False; RMSE\n",
    "from sklearn.ensemble import RandomForestRegressor\n",
    "from xgboost import XGBRegressor\n",
    "\n",
    "import optuna\n",
    "\n",
    "from joblib import Parallel, delayed # Oputna has parallelism built in but for training replicates of the selected model\n",
    "# I'll run them through Parallel"
   ]
  },
  {
   "cell_type": "code",
   "execution_count": null,
   "id": "bb4600ed",
   "metadata": {},
   "outputs": [],
   "source": [
    "cache_path = '../nbs_artifacts/01.80_g2fc_ML_benchrmark/'\n",
    "ensure_dir_path_exists(dir_path = cache_path)"
   ]
  },
  {
   "cell_type": "markdown",
   "id": "517af1f8",
   "metadata": {},
   "source": [
    "## Load data"
   ]
  },
  {
   "cell_type": "code",
   "execution_count": null,
   "id": "75e59a4c",
   "metadata": {},
   "outputs": [],
   "source": [
    "# load_from = '../nbs_artifacts/01.03_g2fc_prep_matrices/'\n",
    "# # phno = pd.read_csv(load_from+'phno.csv')\n",
    "# phno_geno = pd.read_csv(load_from+'phno_geno_filter.csv')\n",
    "# phno = phno_geno\n",
    "\n",
    "# obs_geno_lookup = np.load(load_from+'obs_geno_lookup.npy') # Phno_Idx\tGeno_Idx\tIs_Phno_Idx\n",
    "# YMat = np.load(load_from+'YMat.npy')\n",
    "# GMat = np.load(load_from+'GMat.npy')\n",
    "# # ACGT_OneHot = np.load(load_from+'ACGT_OneHot.npy')\n",
    "# # ACGT = np.load(load_from+'ACGT.npy')\n",
    "# # ACGT_hilb = np.load(load_from+'ACGT_hilb.npy')\n",
    "# SMat = np.load(load_from+'SMat.npy')\n",
    "# WMat = np.load(load_from+'WMat.npy')\n",
    "# MMat = np.load(load_from+'MMat.npy')"
   ]
  },
  {
   "cell_type": "code",
   "execution_count": null,
   "id": "68c2d2cf",
   "metadata": {},
   "outputs": [],
   "source": [
    "# GMatNames = np.load(load_from+'GMatNames.npy')\n",
    "# SMatNames = np.load(load_from+'SMatNames.npy')\n",
    "# WMatNames = np.load(load_from+'WMatNames.npy')\n",
    "# MMatNames = np.load(load_from+'MMatNames.npy')"
   ]
  },
  {
   "cell_type": "markdown",
   "id": "c35f342b",
   "metadata": {},
   "source": [
    "## SKlearn modeling"
   ]
  },
  {
   "cell_type": "code",
   "execution_count": null,
   "id": "f0671c80",
   "metadata": {},
   "outputs": [],
   "source": [
    "# # transform to panel data\n",
    "# def wthr_rank_3to2(x_3d):\n",
    "#     n_obs, n_days, n_metrics = x_3d.shape\n",
    "#     return(x_3d.reshape(n_obs, (n_days*n_metrics)))\n",
    "\n",
    "# def wthr_features_rank_2to3(x_3d, feature_import):\n",
    "#     n_obs, n_days, n_metrics = x_3d.shape\n",
    "#     return(feature_import.reshape(n_days, n_metrics))\n",
    "\n",
    "# def y_rank_2to1(y_2d):\n",
    "#     n_obs = y_2d.shape[0]\n",
    "#     return(y_2d.reshape(n_obs, ))"
   ]
  },
  {
   "cell_type": "code",
   "execution_count": null,
   "id": "4849722e",
   "metadata": {},
   "outputs": [],
   "source": [
    "# Placeholder training/testing setup"
   ]
  },
  {
   "cell_type": "code",
   "execution_count": null,
   "id": "c5235378",
   "metadata": {},
   "outputs": [],
   "source": [
    "# GMat.shape"
   ]
  },
  {
   "cell_type": "code",
   "execution_count": null,
   "id": "9b2a7781",
   "metadata": {},
   "outputs": [],
   "source": [
    "# may need to expand matrices for sklearn... "
   ]
  },
  {
   "cell_type": "code",
   "execution_count": null,
   "id": "3ea87f5a",
   "metadata": {},
   "outputs": [],
   "source": [
    "# YMat.shape"
   ]
  },
  {
   "cell_type": "code",
   "execution_count": null,
   "id": "daf74b69",
   "metadata": {},
   "outputs": [],
   "source": [
    "# obs_geno_lookup.shape"
   ]
  },
  {
   "cell_type": "code",
   "execution_count": null,
   "id": "9f817b2c",
   "metadata": {},
   "outputs": [],
   "source": [
    "# okay_phno_idx = obs_geno_lookup[:, 0]\n",
    "# np.random.shuffle(okay_phno_idx)\n",
    "# test_idx  = okay_phno_idx[0:1000]\n",
    "# train_idx = okay_phno_idx[1000:-1]"
   ]
  },
  {
   "cell_type": "code",
   "execution_count": null,
   "id": "694907f1",
   "metadata": {},
   "outputs": [],
   "source": [
    "# obs_geno_lookup"
   ]
  },
  {
   "cell_type": "code",
   "execution_count": null,
   "id": "0ba68791",
   "metadata": {},
   "outputs": [],
   "source": [
    "# regr = RandomForestRegressor(max_depth= 16, \n",
    "#                              random_state=0,\n",
    "#                              n_estimators = 20)\n",
    "\n",
    "#                                  # phno indexes\n",
    "#                                  # |          geno indexes\n",
    "# rf = regr.fit(GMat[obs_geno_lookup[train_idx, 1], :], # inflate deduplicated GMat to match what sklearn expects.\n",
    "#               YMat[train_idx])"
   ]
  },
  {
   "cell_type": "code",
   "execution_count": null,
   "id": "658cf6c0",
   "metadata": {},
   "outputs": [],
   "source": [
    "# print([\n",
    "#         mean_squared_error(YMat[train_idx], rf.predict(GMat[obs_geno_lookup[train_idx, 1], :]), squared=False), \n",
    "#         mean_squared_error(YMat[test_idx],  rf.predict(GMat[obs_geno_lookup[test_idx, 1], :]), squared=False)\n",
    "#     ])"
   ]
  },
  {
   "cell_type": "code",
   "execution_count": null,
   "id": "206dd013",
   "metadata": {},
   "outputs": [],
   "source": []
  },
  {
   "cell_type": "code",
   "execution_count": null,
   "id": "97f5af6d",
   "metadata": {},
   "outputs": [],
   "source": [
    "# yhats = pd.concat([\n",
    "#     pd.DataFrame(zip(YMat[test_idx],\n",
    "#                  rf.predict(GMat[obs_geno_lookup[test_idx, 1], :])), \n",
    "#                  columns = ['y_true', 'y_pred']).assign(Split = 'Test'),\n",
    "#     pd.DataFrame(zip(YMat[train_idx],\n",
    "#                  rf.predict(GMat[obs_geno_lookup[train_idx, 1], :])), \n",
    "#                  columns = ['y_true', 'y_pred']).assign(Split = 'Train')\n",
    "# ])\n",
    "\n",
    "# # px.scatter(yhats, x = 'y_true', y = 'y_pred', color = 'Split', trendline=\"ols\")"
   ]
  },
  {
   "cell_type": "code",
   "execution_count": null,
   "id": "bd0cdcfa",
   "metadata": {},
   "outputs": [],
   "source": []
  },
  {
   "cell_type": "code",
   "execution_count": null,
   "id": "799075bc",
   "metadata": {},
   "outputs": [],
   "source": [
    "# px.bar(pd.DataFrame(dict(cols=GMatNames, imp=rf.feature_importances_)), x = 'cols', y = 'imp')"
   ]
  },
  {
   "cell_type": "code",
   "execution_count": null,
   "id": "ef98730c",
   "metadata": {},
   "outputs": [],
   "source": [
    "#  yhats['Error'] = yhats.y_pred - yhats.y_true\n",
    "\n",
    "# px.histogram(yhats, x = 'Error', color = 'Split',\n",
    "#              marginal=\"box\", # can be `rug`, `violin`\n",
    "#              nbins= 50)"
   ]
  }
 ],
 "metadata": {
  "kernelspec": {
   "display_name": "python3",
   "language": "python",
   "name": "python3"
  }
 },
 "nbformat": 4,
 "nbformat_minor": 5
}
