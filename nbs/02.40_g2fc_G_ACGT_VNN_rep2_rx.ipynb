{
 "cells": [
  {
   "cell_type": "markdown",
   "id": "7aadccc0",
   "metadata": {},
   "source": [
    "# G only KEGG based network architecture\n",
    "\n",
    "> "
   ]
  },
  {
   "cell_type": "code",
   "execution_count": 7,
   "id": "392ee9d5",
   "metadata": {},
   "outputs": [],
   "source": [
    "import numpy as np\n",
    "import pandas as pd\n",
    "\n",
    "from EnvDL.core import ensure_dir_path_exists \n",
    "from EnvDL.dlfn import g2fc_datawrapper, BigDataset, plDNN_general\n",
    "from EnvDL.dlfn import ResNet2d, BasicBlock2d\n",
    "from EnvDL.dlfn import LSUV_\n",
    "\n",
    "import torch\n",
    "import torch.nn.functional as F # F.mse_loss\n",
    "from torch.utils.data import Dataset\n",
    "from torch.utils.data import DataLoader\n",
    "from torch import nn\n",
    "\n",
    "import lightning.pytorch as pl\n",
    "from lightning.pytorch.loggers import TensorBoardLogger\n",
    "\n",
    "from EnvDL.dlfn import kegg_connections_build, kegg_connections_clean, kegg_connections_append_y_hat, kegg_connections_sanitize_names\n",
    "from EnvDL.dlfn import VNNHelper, VisableNeuralNetwork, Linear_block_reps\n",
    "from EnvDL.dlfn import plDNN_general, BigDataset\n",
    "from EnvDL.dlfn import reverse_edge_dict, reverse_node_props\n",
    "from EnvDL.dlfn import VNNVAEHelper, plVNNVAE\n",
    "from EnvDL.dlfn import kegg_connections_build, kegg_connections_clean, kegg_connections_append_y_hat, kegg_connections_sanitize_names\n",
    "from EnvDL.dlfn import VNNHelper, VisableNeuralNetwork, Linear_block_reps\n",
    "from EnvDL.dlfn import ListDataset, plVNN\n",
    "from EnvDL.dlfn import plDNN_general, BigDataset"
   ]
  },
  {
   "cell_type": "code",
   "execution_count": 8,
   "id": "302bf05a",
   "metadata": {},
   "outputs": [],
   "source": [
    "cache_path = '../nbs_artifacts/02.40_g2fc_G_ACGT_VNN_baseline_ry/'\n",
    "save_prefix = [e for e in cache_path.split('/') if e != ''][-1]\n",
    "\n",
    "# Run settings: \n",
    "max_epoch  = 40\n",
    "batch_size = 48\n",
    "\n",
    "# VNN settings:\n",
    "default_out_nodes_inp   = 4\n",
    "default_out_nodes_edge  = 32\n",
    "default_out_nodes_out   = 1\n",
    "\n",
    "default_drop_nodes_inp  = 0.0\n",
    "default_drop_nodes_edge = 0.0\n",
    "default_drop_nodes_out  = 0.0\n",
    "\n",
    "default_reps_nodes_inp  = 1\n",
    "default_reps_nodes_edge = 2\n",
    "default_reps_nodes_out  = 1"
   ]
  },
  {
   "cell_type": "code",
   "execution_count": 9,
   "id": "ce01a01c",
   "metadata": {},
   "outputs": [
    {
     "name": "stdout",
     "output_type": "stream",
     "text": [
      "Using cuda device\n"
     ]
    }
   ],
   "source": [
    "use_gpu_num = 0\n",
    "\n",
    "device = \"cuda\" if torch.cuda.is_available() else \"cpu\"\n",
    "if use_gpu_num in [0, 1]: \n",
    "    torch.cuda.set_device(use_gpu_num)\n",
    "print(f\"Using {device} device\")"
   ]
  },
  {
   "cell_type": "code",
   "execution_count": 10,
   "id": "b6fba3df",
   "metadata": {},
   "outputs": [],
   "source": [
    "ensure_dir_path_exists(dir_path = cache_path)"
   ]
  },
  {
   "cell_type": "code",
   "execution_count": 11,
   "id": "199df0ad",
   "metadata": {},
   "outputs": [],
   "source": []
  },
  {
   "cell_type": "markdown",
   "id": "0452d33b",
   "metadata": {},
   "source": [
    "## Fit Using VNNHelper"
   ]
  },
  {
   "cell_type": "code",
   "execution_count": 12,
   "id": "ed8e82fe",
   "metadata": {},
   "outputs": [
    {
     "name": "stdout",
     "output_type": "stream",
     "text": [
      "Loading and storing default `phno`.\n",
      "Retaining 43.53%, 6067/13939 Entries\n"
     ]
    }
   ],
   "source": [
    "\n",
    "# Same setup as above to create kegg_gene_brite\n",
    "X = g2fc_datawrapper()\n",
    "X.set_split()\n",
    "X.load_all(name_list = ['obs_geno_lookup', 'YMat', 'KEGG_slices',], store=True) \n",
    "X.calc_cs('YMat', version = 'np', filter = 'val:train')\n",
    "ACGT_gene_slice_list =     X.get('KEGG_slices', ops_string='')\n",
    "parsed_kegg_gene_entries = X.get('KEGG_entries')\n",
    "\n",
    "\n",
    "# Restrict to only those with pathway\n",
    "kegg_gene_brite = [e for e in parsed_kegg_gene_entries if 'BRITE' in e.keys()]\n",
    "\n",
    "# also require to have a non-empty path\n",
    "kegg_gene_brite = [e for e in kegg_gene_brite if not e['BRITE']['BRITE_PATHS'] == []]\n",
    "\n",
    "print('Retaining '+ str(round(len(kegg_gene_brite)/len(parsed_kegg_gene_entries), 4)*100)+'%, '+str(len(kegg_gene_brite)\n",
    "    )+'/'+str(len(parsed_kegg_gene_entries)\n",
    "    )+' Entries'\n",
    "    )\n",
    "# kegg_gene_brite[1]['BRITE']['BRITE_PATHS']"
   ]
  },
  {
   "cell_type": "code",
   "execution_count": 13,
   "id": "46dcf6a2",
   "metadata": {},
   "outputs": [
    {
     "name": "stderr",
     "output_type": "stream",
     "text": [
      "100%|██████████| 6/6 [00:00<00:00, 37008.56it/s]\n"
     ]
    }
   ],
   "source": [
    "kegg_connections = kegg_connections_build(kegg_gene_brite = kegg_gene_brite, \n",
    "                                          n_genes = 6067) \n",
    "kegg_connections = kegg_connections_clean(         kegg_connections = kegg_connections)\n",
    "kegg_connections = kegg_connections_append_y_hat(  kegg_connections = kegg_connections)\n",
    "kegg_connections = kegg_connections_sanitize_names(kegg_connections = kegg_connections, \n",
    "                                                   replace_chars = {'.':'_'})"
   ]
  },
  {
   "cell_type": "code",
   "execution_count": 14,
   "id": "db7ac803",
   "metadata": {},
   "outputs": [
    {
     "data": {
      "text/plain": [
       "{'100278565': 0,\n",
       " '100383860': 1,\n",
       " '100383837': 3,\n",
       " '100191673': 8,\n",
       " '100275685': 9,\n",
       " '103630585': 13}"
      ]
     },
     "execution_count": 14,
     "metadata": {},
     "output_type": "execute_result"
    }
   ],
   "source": [
    "# initialize helper for input nodes\n",
    "myvnn = VNNHelper(edge_dict = kegg_connections)\n",
    "\n",
    "myvnn.nodes_inp[0:10]\n",
    "\n",
    "# Get a mapping of brite names to tensor list index\n",
    "find_names = myvnn.nodes_inp # e.g. ['100383860', '100278565', ... ]\n",
    "lookup_dict = {}\n",
    "\n",
    "# the only difference lookup_dict and brite_node_to_list_idx_dict above is that this is made using the full set of genes in the list \n",
    "# whereas that is made using kegg_gene_brite which is a subset\n",
    "for i in range(len(parsed_kegg_gene_entries)):\n",
    "    if 'BRITE' not in parsed_kegg_gene_entries[i].keys():\n",
    "        pass\n",
    "    elif parsed_kegg_gene_entries[i]['BRITE']['BRITE_PATHS'] == []:\n",
    "        pass\n",
    "    else:\n",
    "        name = parsed_kegg_gene_entries[i]['BRITE']['BRITE_PATHS'][0][-1]\n",
    "        if name in find_names:\n",
    "            lookup_dict[name] = i\n",
    "lookup_dict    "
   ]
  },
  {
   "cell_type": "code",
   "execution_count": 15,
   "id": "d2afc0e9",
   "metadata": {},
   "outputs": [],
   "source": [
    "# if permuting gene identities\n",
    "torch.manual_seed(5461)\n",
    "\n",
    "keys = [e for e in lookup_dict.keys()]\n",
    "\n",
    "# vals = [lookup_dict[e] for e in lookup_dict.keys()]\n",
    "# dict(zip(keys, [int(i) for i in torch.randperm(len(keys))]))\n",
    "\n",
    "idx = torch.tensor([lookup_dict[e] for e in myvnn.nodes_inp])\n",
    "idx = idx[torch.randperm(idx.shape[0])]\n",
    "idx = [int(i) for i in idx]\n",
    "temp = dict(zip(myvnn.nodes_inp, idx))\n",
    "\n",
    "randomized_lookup_dict = {}\n",
    "for e in lookup_dict.keys():\n",
    "    if e not in temp.keys():\n",
    "        randomized_lookup_dict[e] = lookup_dict[e]\n",
    "    else:\n",
    "        randomized_lookup_dict[e] = temp[e]\n",
    "\n",
    "lookup_dict = randomized_lookup_dict"
   ]
  },
  {
   "cell_type": "code",
   "execution_count": 16,
   "id": "b4cd30b9",
   "metadata": {},
   "outputs": [],
   "source": [
    "brite_node_to_list_idx_dict = {}\n",
    "for i in range(len(kegg_gene_brite)):\n",
    "    brite_node_to_list_idx_dict[str(kegg_gene_brite[i]['BRITE']['BRITE_PATHS'][0][-1])] = i        \n",
    "\n",
    "# Get the input sizes for the graph\n",
    "size_in_zip = zip(myvnn.nodes_inp, [np.prod(ACGT_gene_slice_list[lookup_dict[e]].shape[1:]) for e  in myvnn.nodes_inp])\n"
   ]
  },
  {
   "cell_type": "code",
   "execution_count": 17,
   "id": "4fd0d299",
   "metadata": {},
   "outputs": [],
   "source": [
    "\n",
    "# init input node sizes\n",
    "myvnn.set_node_props(key = 'inp', node_val_zip = size_in_zip)\n",
    "\n",
    "# init node output sizes\n",
    "myvnn.set_node_props(key = 'out', node_val_zip = zip(myvnn.nodes_inp, [default_out_nodes_inp  for e in myvnn.nodes_inp]))\n",
    "myvnn.set_node_props(key = 'out', node_val_zip = zip(myvnn.nodes_edge,[default_out_nodes_edge for e in myvnn.nodes_edge]))\n",
    "myvnn.set_node_props(key = 'out', node_val_zip = zip(myvnn.nodes_out, [default_out_nodes_out  for e in myvnn.nodes_out]))\n",
    "\n",
    "\n",
    "# # options should be controlled by node_props\n",
    "myvnn.set_node_props(key = 'flatten', node_val_zip = zip(\n",
    "    myvnn.nodes_inp, \n",
    "    [True for e in myvnn.nodes_inp]))\n",
    "\n",
    "myvnn.set_node_props(key = 'reps', node_val_zip = zip(myvnn.nodes_inp, [default_reps_nodes_inp  for e in myvnn.nodes_inp]))\n",
    "myvnn.set_node_props(key = 'reps', node_val_zip = zip(myvnn.nodes_edge,[default_reps_nodes_edge for e in myvnn.nodes_edge]))\n",
    "myvnn.set_node_props(key = 'reps', node_val_zip = zip(myvnn.nodes_out, [default_reps_nodes_out  for e in myvnn.nodes_out]))\n",
    "\n",
    "myvnn.set_node_props(key = 'drop', node_val_zip = zip(myvnn.nodes_inp, [default_drop_nodes_inp  for e in myvnn.nodes_inp]))\n",
    "myvnn.set_node_props(key = 'drop', node_val_zip = zip(myvnn.nodes_edge,[default_drop_nodes_edge for e in myvnn.nodes_edge]))\n",
    "myvnn.set_node_props(key = 'drop', node_val_zip = zip(myvnn.nodes_out, [default_drop_nodes_out  for e in myvnn.nodes_out]))\n",
    "\n",
    "# init edge node input size (propagate forward input/edge outpus)\n",
    "myvnn.calc_edge_inp()\n",
    "\n",
    "# myvnn.mk_digraph(include = ['node_name', 'inp_size', 'out_size'])\n",
    "# myvnn.mk_digraph(include = [''])"
   ]
  },
  {
   "cell_type": "code",
   "execution_count": 18,
   "id": "9e23192c",
   "metadata": {},
   "outputs": [],
   "source": []
  },
  {
   "cell_type": "code",
   "execution_count": 19,
   "id": "742569ad",
   "metadata": {},
   "outputs": [],
   "source": [
    "vals = X.get('KEGG_slices', ops_string='asarray from_numpy float')"
   ]
  },
  {
   "cell_type": "code",
   "execution_count": 20,
   "id": "a15d4301",
   "metadata": {},
   "outputs": [],
   "source": [
    "# restrict to the tensors that will be used\n",
    "vals = [vals[lookup_dict[i]] for i in myvnn.nodes_inp]\n",
    "# send to gpu\n",
    "vals = [val.to('cuda') for val in vals]"
   ]
  },
  {
   "cell_type": "code",
   "execution_count": 21,
   "id": "b1f2556d",
   "metadata": {},
   "outputs": [],
   "source": [
    "# replace lookup so that it matches the lenght of the input tensors\n",
    "new_lookup_dict = {}\n",
    "for i in range(len(myvnn.nodes_inp)):\n",
    "    new_lookup_dict[myvnn.nodes_inp[i]] = i\n",
    "    # print((myvnn.nodes_inp[i], i))\n",
    "    # break"
   ]
  },
  {
   "cell_type": "code",
   "execution_count": 22,
   "id": "db30b932",
   "metadata": {},
   "outputs": [],
   "source": [
    "model = VisableNeuralNetwork(\n",
    "    node_props = myvnn.node_props,\n",
    "    Linear_block = Linear_block_reps,\n",
    "    edge_dict = myvnn.edge_dict,\n",
    "    dependancy_order = myvnn.dependancy_order,\n",
    "    node_to_inp_num_dict = new_lookup_dict\n",
    ")\n",
    "model = model.to('cuda')\n",
    "# # with torch.no_grad(): print(model(vals))"
   ]
  },
  {
   "cell_type": "code",
   "execution_count": 23,
   "id": "42d26433",
   "metadata": {},
   "outputs": [],
   "source": [
    "# # if randomizing y\n",
    "# torch.manual_seed(2608434)\n",
    "\n",
    "# y_trn = X.get('YMat', ops_string='cs filter:val:train asarray from_numpy float')\n",
    "# y_trn = y_trn[torch.randperm(y_trn.shape[0])]\n",
    "\n",
    "\n",
    "# y_val = X.get('YMat', ops_string='cs filter:val:train asarray from_numpy float')\n",
    "# y_val = y_val[torch.randperm(y_val.shape[0])]\n"
   ]
  },
  {
   "cell_type": "code",
   "execution_count": 24,
   "id": "2020e3e5",
   "metadata": {},
   "outputs": [],
   "source": [
    "\n",
    "training_dataloader = DataLoader(BigDataset(\n",
    "    lookups_are_filtered = True,\n",
    "    lookup_obs =  X.get('val:train',       ops_string='                   asarray from_numpy'), \n",
    "    lookup_geno = X.get('obs_geno_lookup', ops_string='   filter:val:train asarray from_numpy'),\n",
    "    y =           X.get('YMat',            ops_string='cs filter:val:train asarray from_numpy float cuda:0'),\n",
    "    G =           vals,\n",
    "    G_type = 'list',\n",
    "    # send_batch_to_gpu = 'cuda:0'\n",
    "    ),\n",
    "    batch_size = batch_size,\n",
    "    shuffle = True\n",
    ")\n",
    "\n",
    "validation_dataloader = DataLoader(BigDataset(\n",
    "    lookups_are_filtered = True,\n",
    "    lookup_obs =  X.get('val:test',        ops_string='                   asarray from_numpy'), \n",
    "    lookup_geno = X.get('obs_geno_lookup', ops_string='   filter:val:test asarray from_numpy'),\n",
    "    y =           X.get('YMat',            ops_string='cs filter:val:test asarray from_numpy float cuda:0'),\n",
    "    G =           vals,\n",
    "    G_type = 'list',\n",
    "    # send_batch_to_gpu = 'cuda:0'\n",
    "    ),\n",
    "    batch_size = batch_size,\n",
    "    shuffle = False\n",
    ")\n"
   ]
  },
  {
   "cell_type": "code",
   "execution_count": 25,
   "id": "98873813",
   "metadata": {},
   "outputs": [
    {
     "name": "stdout",
     "output_type": "stream",
     "text": [
      "Applying orthogonal init (zero init if dim < 2) to params in 52 module(s).\n",
      "Applying LSUV to 52 module(s) (up to 10 iters per module):\n",
      "Module  0 after  2 itr(s) | Mean:  0.045 | Std: 1.000 | <class 'torch.nn.modules.linear.Linear'>\n",
      "Module  1 after  2 itr(s) | Mean: -0.149 | Std: 1.000 | <class 'torch.nn.modules.linear.Linear'>\n",
      "Module  2 after  2 itr(s) | Mean: -0.089 | Std: 1.000 | <class 'torch.nn.modules.linear.Linear'>\n",
      "Module  3 after  2 itr(s) | Mean: -0.239 | Std: 1.000 | <class 'torch.nn.modules.linear.Linear'>\n",
      "Module  4 after  2 itr(s) | Mean:  0.416 | Std: 1.000 | <class 'torch.nn.modules.linear.Linear'>\n",
      "Module  5 after  2 itr(s) | Mean: -0.405 | Std: 1.000 | <class 'torch.nn.modules.linear.Linear'>\n",
      "Module  6 after  2 itr(s) | Mean:  0.053 | Std: 1.000 | <class 'torch.nn.modules.linear.Linear'>\n",
      "Module  7 after  2 itr(s) | Mean: -0.016 | Std: 1.000 | <class 'torch.nn.modules.linear.Linear'>\n",
      "Module  8 after  2 itr(s) | Mean: -0.377 | Std: 1.000 | <class 'torch.nn.modules.linear.Linear'>\n",
      "Module  9 after  2 itr(s) | Mean: -0.005 | Std: 1.000 | <class 'torch.nn.modules.linear.Linear'>\n",
      "Module 10 after  2 itr(s) | Mean: -0.132 | Std: 1.000 | <class 'torch.nn.modules.linear.Linear'>\n",
      "Module 11 after  2 itr(s) | Mean: -0.136 | Std: 1.000 | <class 'torch.nn.modules.linear.Linear'>\n",
      "Module 12 after  2 itr(s) | Mean: -0.215 | Std: 1.000 | <class 'torch.nn.modules.linear.Linear'>\n",
      "Module 13 after  2 itr(s) | Mean: -0.164 | Std: 1.000 | <class 'torch.nn.modules.linear.Linear'>\n",
      "Module 14 after  2 itr(s) | Mean: -0.175 | Std: 1.000 | <class 'torch.nn.modules.linear.Linear'>\n",
      "Module 15 after  2 itr(s) | Mean:  0.101 | Std: 1.000 | <class 'torch.nn.modules.linear.Linear'>\n",
      "Module 16 after  2 itr(s) | Mean: -0.002 | Std: 1.000 | <class 'torch.nn.modules.linear.Linear'>\n",
      "Module 17 after  2 itr(s) | Mean: -0.106 | Std: 1.000 | <class 'torch.nn.modules.linear.Linear'>\n",
      "Module 18 after  2 itr(s) | Mean:  0.013 | Std: 1.000 | <class 'torch.nn.modules.linear.Linear'>\n",
      "Module 19 after  2 itr(s) | Mean: -0.116 | Std: 1.000 | <class 'torch.nn.modules.linear.Linear'>\n",
      "Module 20 after  2 itr(s) | Mean: -0.193 | Std: 1.000 | <class 'torch.nn.modules.linear.Linear'>\n",
      "Module 21 after  2 itr(s) | Mean: -0.187 | Std: 1.000 | <class 'torch.nn.modules.linear.Linear'>\n",
      "Module 22 after  2 itr(s) | Mean: -0.007 | Std: 1.000 | <class 'torch.nn.modules.linear.Linear'>\n",
      "Module 23 after  2 itr(s) | Mean:  0.036 | Std: 1.000 | <class 'torch.nn.modules.linear.Linear'>\n",
      "Module 24 after  2 itr(s) | Mean: -0.075 | Std: 1.000 | <class 'torch.nn.modules.linear.Linear'>\n",
      "Module 25 after  2 itr(s) | Mean: -0.025 | Std: 1.000 | <class 'torch.nn.modules.linear.Linear'>\n",
      "Module 26 after  2 itr(s) | Mean:  0.160 | Std: 1.000 | <class 'torch.nn.modules.linear.Linear'>\n",
      "Module 27 after  2 itr(s) | Mean: -0.008 | Std: 1.000 | <class 'torch.nn.modules.linear.Linear'>\n",
      "Module 28 after  2 itr(s) | Mean: -0.260 | Std: 1.000 | <class 'torch.nn.modules.linear.Linear'>\n",
      "Module 29 after  2 itr(s) | Mean:  0.129 | Std: 1.000 | <class 'torch.nn.modules.linear.Linear'>\n",
      "Module 30 after  2 itr(s) | Mean:  0.172 | Std: 1.000 | <class 'torch.nn.modules.linear.Linear'>\n",
      "Module 31 after  2 itr(s) | Mean:  0.057 | Std: 1.000 | <class 'torch.nn.modules.linear.Linear'>\n",
      "Module 32 after  2 itr(s) | Mean:  0.111 | Std: 1.000 | <class 'torch.nn.modules.linear.Linear'>\n",
      "Module 33 after  2 itr(s) | Mean: -0.034 | Std: 1.000 | <class 'torch.nn.modules.linear.Linear'>\n",
      "Module 34 after  2 itr(s) | Mean:  0.066 | Std: 1.000 | <class 'torch.nn.modules.linear.Linear'>\n",
      "Module 35 after  2 itr(s) | Mean:  0.045 | Std: 1.000 | <class 'torch.nn.modules.linear.Linear'>\n",
      "Module 36 after  2 itr(s) | Mean: -0.172 | Std: 1.000 | <class 'torch.nn.modules.linear.Linear'>\n",
      "Module 37 after  2 itr(s) | Mean:  0.277 | Std: 1.000 | <class 'torch.nn.modules.linear.Linear'>\n",
      "Module 38 after  2 itr(s) | Mean: -0.042 | Std: 1.000 | <class 'torch.nn.modules.linear.Linear'>\n",
      "Module 39 after  2 itr(s) | Mean: -0.106 | Std: 1.000 | <class 'torch.nn.modules.linear.Linear'>\n",
      "Module 40 after  2 itr(s) | Mean:  0.220 | Std: 1.000 | <class 'torch.nn.modules.linear.Linear'>\n",
      "Module 41 after  2 itr(s) | Mean: -0.098 | Std: 1.000 | <class 'torch.nn.modules.linear.Linear'>\n",
      "Module 42 after  2 itr(s) | Mean:  0.243 | Std: 1.000 | <class 'torch.nn.modules.linear.Linear'>\n",
      "Module 43 after  2 itr(s) | Mean: -0.059 | Std: 1.000 | <class 'torch.nn.modules.linear.Linear'>\n",
      "Module 44 after  2 itr(s) | Mean:  0.189 | Std: 1.000 | <class 'torch.nn.modules.linear.Linear'>\n",
      "Module 45 after  2 itr(s) | Mean:  0.347 | Std: 1.000 | <class 'torch.nn.modules.linear.Linear'>\n",
      "Module 46 after  2 itr(s) | Mean:  1.195 | Std: 1.000 | <class 'torch.nn.modules.linear.Linear'>\n",
      "Module 47 after  2 itr(s) | Mean: -0.035 | Std: 1.000 | <class 'torch.nn.modules.linear.Linear'>\n",
      "Module 48 after  2 itr(s) | Mean:  0.525 | Std: 1.000 | <class 'torch.nn.modules.linear.Linear'>\n",
      "Module 49 after  2 itr(s) | Mean: -0.974 | Std: 1.000 | <class 'torch.nn.modules.linear.Linear'>\n",
      "Module 50 after  2 itr(s) | Mean: -0.849 | Std: 1.000 | <class 'torch.nn.modules.linear.Linear'>\n",
      "Module 51 after  2 itr(s) | Mean:  0.542 | Std: 1.000 | <class 'torch.nn.modules.linear.Linear'>\n"
     ]
    }
   ],
   "source": [
    "LSUV_(model, data = next(iter(training_dataloader))[1])"
   ]
  },
  {
   "cell_type": "code",
   "execution_count": 26,
   "id": "8769b813",
   "metadata": {},
   "outputs": [
    {
     "name": "stderr",
     "output_type": "stream",
     "text": [
      "/home/kickd/miniconda3/envs/fastai/lib/python3.11/site-packages/lightning/fabric/plugins/environments/slurm.py:191: The `srun` command is available on your system but is not used. HINT: If your intention is to run Lightning on SLURM, prepend your python command with `srun` like so: srun python /home/kickd/miniconda3/envs/fastai/lib/python3.11/si ...\n",
      "GPU available: True (cuda), used: True\n",
      "TPU available: False, using: 0 TPU cores\n",
      "IPU available: False, using: 0 IPUs\n",
      "HPU available: False, using: 0 HPUs\n",
      "You are using a CUDA device ('NVIDIA GeForce RTX 4090') that has Tensor Cores. To properly utilize them, you should set `torch.set_float32_matmul_precision('medium' | 'high')` which will trade-off precision for performance. For more details, read https://pytorch.org/docs/stable/generated/torch.set_float32_matmul_precision.html#torch.set_float32_matmul_precision\n",
      "LOCAL_RANK: 0 - CUDA_VISIBLE_DEVICES: [0]\n",
      "\n",
      "  | Name | Type                 | Params\n",
      "----------------------------------------------\n",
      "0 | mod  | VisableNeuralNetwork | 45.4 K\n",
      "----------------------------------------------\n",
      "45.4 K    Trainable params\n",
      "0         Non-trainable params\n",
      "45.4 K    Total params\n",
      "0.182     Total estimated model params size (MB)\n"
     ]
    },
    {
     "data": {
      "application/vnd.jupyter.widget-view+json": {
       "model_id": "62b31e2944894e688c7aee6f560efd80",
       "version_major": 2,
       "version_minor": 0
      },
      "text/plain": [
       "Sanity Checking: |          | 0/? [00:00<?, ?it/s]"
      ]
     },
     "metadata": {},
     "output_type": "display_data"
    },
    {
     "name": "stderr",
     "output_type": "stream",
     "text": [
      "/home/kickd/miniconda3/envs/fastai/lib/python3.11/site-packages/lightning/pytorch/trainer/connectors/data_connector.py:441: The 'val_dataloader' does not have many workers which may be a bottleneck. Consider increasing the value of the `num_workers` argument` to `num_workers=31` in the `DataLoader` to improve performance.\n",
      "/home/kickd/Documents/EnvDL/EnvDL/dlfn.py:1880: UserWarning: Using a target size (torch.Size([48])) that is different to the input size (torch.Size([48, 1])). This will likely lead to incorrect results due to broadcasting. Please ensure they have the same size.\n",
      "  loss = F.mse_loss(pred, y_i)\n",
      "/home/kickd/miniconda3/envs/fastai/lib/python3.11/site-packages/lightning/pytorch/trainer/connectors/data_connector.py:441: The 'train_dataloader' does not have many workers which may be a bottleneck. Consider increasing the value of the `num_workers` argument` to `num_workers=31` in the `DataLoader` to improve performance.\n"
     ]
    },
    {
     "data": {
      "application/vnd.jupyter.widget-view+json": {
       "model_id": "bd9a51a30b6a499f996bcdd0a9b574ed",
       "version_major": 2,
       "version_minor": 0
      },
      "text/plain": [
       "Training: |          | 0/? [00:00<?, ?it/s]"
      ]
     },
     "metadata": {},
     "output_type": "display_data"
    },
    {
     "name": "stderr",
     "output_type": "stream",
     "text": [
      "/home/kickd/Documents/EnvDL/EnvDL/dlfn.py:1865: UserWarning: Using a target size (torch.Size([48])) that is different to the input size (torch.Size([48, 1])). This will likely lead to incorrect results due to broadcasting. Please ensure they have the same size.\n",
      "  loss = F.mse_loss(pred, y_i)\n",
      "/home/kickd/Documents/EnvDL/EnvDL/dlfn.py:1865: UserWarning: Using a target size (torch.Size([29])) that is different to the input size (torch.Size([29, 1])). This will likely lead to incorrect results due to broadcasting. Please ensure they have the same size.\n",
      "  loss = F.mse_loss(pred, y_i)\n"
     ]
    },
    {
     "data": {
      "application/vnd.jupyter.widget-view+json": {
       "model_id": "21a00527e44941b1ad89d30a4b9a02ce",
       "version_major": 2,
       "version_minor": 0
      },
      "text/plain": [
       "Validation: |          | 0/? [00:00<?, ?it/s]"
      ]
     },
     "metadata": {},
     "output_type": "display_data"
    },
    {
     "name": "stderr",
     "output_type": "stream",
     "text": [
      "/home/kickd/Documents/EnvDL/EnvDL/dlfn.py:1880: UserWarning: Using a target size (torch.Size([40])) that is different to the input size (torch.Size([40, 1])). This will likely lead to incorrect results due to broadcasting. Please ensure they have the same size.\n",
      "  loss = F.mse_loss(pred, y_i)\n",
      "/home/kickd/miniconda3/envs/fastai/lib/python3.11/site-packages/lightning/pytorch/trainer/call.py:54: Detected KeyboardInterrupt, attempting graceful shutdown...\n"
     ]
    }
   ],
   "source": [
    "VNN = plDNN_general(model)  \n",
    "\n",
    "optimizer = VNN.configure_optimizers()\n",
    "\n",
    "logger = TensorBoardLogger(\"tb_vnn_logs\", name=save_prefix)\n",
    "trainer = pl.Trainer(max_epochs=max_epoch, logger=logger)\n",
    "\n",
    "trainer.fit(model=VNN, train_dataloaders=training_dataloader, val_dataloaders=validation_dataloader)\n"
   ]
  },
  {
   "cell_type": "code",
   "execution_count": null,
   "id": "5f695e2f",
   "metadata": {},
   "outputs": [],
   "source": [
    "import time, json\n",
    "save_time = time.strftime(\"%Y-%m-%d-%H-%M-%S\", time.localtime())\n",
    "\n",
    "json_path = cache_path+''.join(['lookup_dict','__'+save_time,'.json'])\n",
    "with open(json_path, 'w', encoding='utf-8') as f: \n",
    "    json.dump(new_lookup_dict, f, ensure_ascii=False, indent=4)    \n",
    "\n",
    "pt_path = cache_path+''.join([save_prefix,'__'+save_time,'.pt'])\n",
    "\n",
    "torch.save(VNN.mod, pt_path)"
   ]
  }
 ],
 "metadata": {
  "kernelspec": {
   "display_name": "python3",
   "language": "python",
   "name": "python3"
  },
  "language_info": {
   "codemirror_mode": {
    "name": "ipython",
    "version": 3
   },
   "file_extension": ".py",
   "mimetype": "text/x-python",
   "name": "python",
   "nbconvert_exporter": "python",
   "pygments_lexer": "ipython3",
   "version": "3.11.5"
  }
 },
 "nbformat": 4,
 "nbformat_minor": 5
}
