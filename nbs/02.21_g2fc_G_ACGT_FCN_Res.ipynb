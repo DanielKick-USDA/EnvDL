{
 "cells": [
  {
   "cell_type": "markdown",
   "id": "7aadccc0",
   "metadata": {},
   "source": [
    "# Y~G ACGT Probabilities (resnet)\n",
    "\n",
    "> "
   ]
  },
  {
   "cell_type": "code",
   "execution_count": 55,
   "id": "9a6fb5c4",
   "metadata": {},
   "outputs": [],
   "source": [
    "import numpy as np\n",
    "import pandas as pd\n",
    "\n",
    "from EnvDL.core import ensure_dir_path_exists \n",
    "from EnvDL.dlfn import g2fc_datawrapper, BigDataset, plDNN_general\n",
    "from EnvDL.dlfn import ResNet2d, BasicBlock2d\n",
    "from EnvDL.dlfn import LSUV_\n",
    "\n",
    "import torch\n",
    "import torch.nn.functional as F # F.mse_loss\n",
    "from torch.utils.data import Dataset\n",
    "from torch.utils.data import DataLoader\n",
    "from torch import nn\n",
    "\n",
    "import lightning.pytorch as pl\n",
    "from lightning.pytorch.loggers import TensorBoardLogger"
   ]
  },
  {
   "cell_type": "code",
   "execution_count": 56,
   "id": "1cd030c3",
   "metadata": {},
   "outputs": [],
   "source": [
    "# Run settings: \n",
    "max_epoch = 2\n",
    "batch_size = 24"
   ]
  },
  {
   "cell_type": "code",
   "execution_count": 57,
   "id": "165d4122",
   "metadata": {},
   "outputs": [
    {
     "name": "stdout",
     "output_type": "stream",
     "text": [
      "Using cuda device\n"
     ]
    }
   ],
   "source": [
    "use_gpu_num = 0\n",
    "\n",
    "device = \"cuda\" if torch.cuda.is_available() else \"cpu\"\n",
    "if use_gpu_num in [0, 1]: \n",
    "    torch.cuda.set_device(use_gpu_num)\n",
    "print(f\"Using {device} device\")"
   ]
  },
  {
   "cell_type": "code",
   "execution_count": 58,
   "id": "f33b2b7b",
   "metadata": {},
   "outputs": [],
   "source": [
    "cache_path = '../nbs_artifacts/02.21_g2fc_G_ACGT_FCN_Res/'\n",
    "ensure_dir_path_exists(dir_path = cache_path)"
   ]
  },
  {
   "cell_type": "markdown",
   "id": "517af1f8",
   "metadata": {},
   "source": [
    "## Load data"
   ]
  },
  {
   "cell_type": "code",
   "execution_count": 59,
   "id": "6a474baf",
   "metadata": {},
   "outputs": [
    {
     "name": "stdout",
     "output_type": "stream",
     "text": [
      "Loading and storing default `phno`.\n"
     ]
    }
   ],
   "source": [
    "X = g2fc_datawrapper()\n",
    "X.set_split()\n",
    "X.load_all(name_list = ['obs_geno_lookup', 'YMat', 'ACGT',], store=True) \n",
    "\n",
    "X.calc_cs('YMat', version = 'np', filter = 'val:train')\n",
    "X.calc_cs('ACGT',                 filter = 'val:train', filter_lookup= 'obs_geno_lookup')"
   ]
  },
  {
   "cell_type": "code",
   "execution_count": 60,
   "id": "3182f61c",
   "metadata": {},
   "outputs": [],
   "source": [
    "training_dataloader = DataLoader(BigDataset(\n",
    "    lookups_are_filtered = False,\n",
    "    lookup_obs  = X.get('val:train',       ops_string='   asarray from_numpy      '),\n",
    "    lookup_geno = X.get('obs_geno_lookup', ops_string='   asarray from_numpy      '),\n",
    "    y =           X.get('YMat',            ops_string='cs asarray from_numpy float')[:, None],\n",
    "    G =           X.get('ACGT',            ops_string='           from_numpy float'),\n",
    "    G_type = 'raw',\n",
    "    send_batch_to_gpu = 'cuda:0'\n",
    "    ),\n",
    "    batch_size = batch_size,\n",
    "    shuffle = True\n",
    ")\n",
    "\n",
    "\n",
    "validation_dataloader = DataLoader(BigDataset(\n",
    "    lookups_are_filtered = False,\n",
    "    lookup_obs = X.get('val:test',         ops_string='   asarray from_numpy      '),\n",
    "    lookup_geno = X.get('obs_geno_lookup', ops_string='   asarray from_numpy      '),\n",
    "    y =          X.get('YMat',             ops_string='cs asarray from_numpy float')[:, None],\n",
    "    G =          X.get('ACGT',             ops_string='           from_numpy float'),\n",
    "    G_type = 'raw',\n",
    "    send_batch_to_gpu = 'cuda:0'\n",
    "    ),\n",
    "    batch_size = batch_size,\n",
    "    shuffle = False\n",
    ")"
   ]
  },
  {
   "cell_type": "markdown",
   "id": "009f9127",
   "metadata": {},
   "source": [
    "## Test Models"
   ]
  },
  {
   "cell_type": "code",
   "execution_count": 61,
   "id": "0fb36f0e",
   "metadata": {},
   "outputs": [],
   "source": [
    "# TODO, move this to a module\n",
    "class Linear_res_block(nn.Module):\n",
    "    def __init__(self, in_size, out_size, drop_pr):\n",
    "        super(Linear_res_block, self).__init__()\n",
    "        self.squish = nn.Linear(in_size, out_size)\n",
    "        self.block1 = nn.Sequential(\n",
    "            nn.Linear(out_size, out_size),\n",
    "            nn.ReLU(),\n",
    "            nn.Dropout(drop_pr)\n",
    "        )\n",
    "        self.block2 = nn.Sequential(\n",
    "            nn.Linear(out_size, out_size),\n",
    "            nn.ReLU(),\n",
    "            nn.Dropout(drop_pr)\n",
    "        )\n",
    "    def forward(self, x):\n",
    "        squish_residual = self.squish(x)\n",
    "        out = self.block1(squish_residual)\n",
    "        out = self.block2(out)\n",
    "        out += squish_residual\n",
    "        return out  "
   ]
  },
  {
   "cell_type": "code",
   "execution_count": 62,
   "id": "45742e9a",
   "metadata": {},
   "outputs": [],
   "source": [
    "# A quirk of this is that to get only a single layer the length of the input tensor must be passed in. for 2+ I'll figure it out.\n",
    "class NeuralNetwork(nn.Module):\n",
    "    def __init__(self, parameterization):\n",
    "        super(NeuralNetwork, self).__init__()            \n",
    "        module_list = []\n",
    "\n",
    "        max_layer = parameterization['num_layers']\n",
    "        for i in range(max_layer):\n",
    "            if i  == 0:\n",
    "                name_in = f\"in_{i+1}_of_{max_layer}\"\n",
    "            else:\n",
    "                name_in = f\"out_{i}_of_{max_layer}\"\n",
    "            name_out = f\"out_{i+1}_of_{max_layer}\"\n",
    "            name_drop= f\"drop_{i+1}_of_{max_layer}\"\n",
    "\n",
    "            if i == 0:\n",
    "                module_list += [nn.Flatten()]\n",
    "            \n",
    "\n",
    "            module_list += [\n",
    "                Linear_res_block(\n",
    "                    in_size  = parameterization[name_in], \n",
    "                    out_size = parameterization[name_out], \n",
    "                    drop_pr  = parameterization[name_drop])]\n",
    "            \n",
    "            if (i+1) == max_layer:\n",
    "                module_list += [nn.Linear(parameterization[name_out], 1)]\n",
    "                \n",
    "        self.x_network = nn.ModuleList(module_list)\n",
    "        \n",
    "    def forward(self, x):\n",
    "        \n",
    "        for mod in self.x_network:\n",
    "            if mod == self.x_network[-1]:\n",
    "                out = x # get the penultimate layer's outputs for later\n",
    "            x = mod(x)\n",
    "        \n",
    "        pred = x\n",
    "        return pred#, out\n",
    "\n",
    "# model = NeuralNetwork(\n",
    "#     parameterization = parameterization).to(device)\n",
    "\n",
    "# model(next(iter(training_dataloader))[0][0:5])"
   ]
  },
  {
   "cell_type": "code",
   "execution_count": 63,
   "id": "03bad64a",
   "metadata": {},
   "outputs": [],
   "source": [
    "# convenince wrapper to fill in for R's seq or x:y notation\n",
    "def linrange(start, stop):\n",
    "    import numpy as np\n",
    "    diff = start - stop\n",
    "    res = np.linspace(start, stop, abs(diff)+1).astype(int)\n",
    "    return res "
   ]
  },
  {
   "cell_type": "code",
   "execution_count": 64,
   "id": "7257b703",
   "metadata": {},
   "outputs": [
    {
     "data": {
      "text/plain": [
       "[2048, 1024, 512, 256, 128, 64, 32, 16]"
      ]
     },
     "execution_count": 64,
     "metadata": {},
     "output_type": "execute_result"
    }
   ],
   "source": [
    "[2**i for i in linrange(11, 4)]"
   ]
  },
  {
   "cell_type": "code",
   "execution_count": 65,
   "id": "a7b27a23",
   "metadata": {},
   "outputs": [],
   "source": [
    "# This one is designed to go from (3x125891) -> ~1258.91  -> ~125.891 -> ~12.5891 -> 1\n",
    "layer_sizes = [1024, 128, 12]\n",
    "layer_drops = [0.1 for e in layer_sizes]\n",
    "\n",
    "num_layers = len(layer_sizes)\n",
    "\n",
    "params = {\n",
    "    'num_layers':num_layers,\n",
    "    f\"in_1_of_{num_layers}\": (4 * 125891)\n",
    "}\n",
    "\n",
    "for i in range(num_layers):\n",
    "    params[f\"out_{ i + 1}_of_{num_layers}\"] = layer_sizes[i]\n",
    "    params[f\"drop_{ i + 1}_of_{num_layers}\"] = layer_drops[i]\n",
    "        "
   ]
  },
  {
   "cell_type": "code",
   "execution_count": 66,
   "id": "4b64ec53",
   "metadata": {},
   "outputs": [],
   "source": [
    "model = NeuralNetwork(parameterization = params).to(device)\n",
    "# model"
   ]
  },
  {
   "cell_type": "code",
   "execution_count": 67,
   "id": "5d11944c",
   "metadata": {},
   "outputs": [
    {
     "name": "stdout",
     "output_type": "stream",
     "text": [
      "Applying orthogonal init (zero init if dim < 2) to params in 13 module(s).\n",
      "Applying LSUV to 13 module(s) (up to 10 iters per module):\n"
     ]
    },
    {
     "ename": "AttributeError",
     "evalue": "'Linear_res_block' object has no attribute 'weight'",
     "output_type": "error",
     "traceback": [
      "\u001b[0;31m---------------------------------------------------------------------------\u001b[0m",
      "\u001b[0;31mAttributeError\u001b[0m                            Traceback (most recent call last)",
      "Cell \u001b[0;32mIn[67], line 1\u001b[0m\n\u001b[0;32m----> 1\u001b[0m LSUV_(model, data \u001b[38;5;241m=\u001b[39m \u001b[38;5;28mnext\u001b[39m(\u001b[38;5;28miter\u001b[39m(training_dataloader))[\u001b[38;5;241m1\u001b[39m] )\n",
      "File \u001b[0;32m~/Documents/EnvDL/EnvDL/dlfn.py:147\u001b[0m, in \u001b[0;36mLSUV_\u001b[0;34m(model, data, apply_only_to, std_tol, max_iters, do_ortho_init, logging_FN)\u001b[0m\n\u001b[1;32m    145\u001b[0m         \u001b[38;5;28;01mif\u001b[39;00m \u001b[38;5;28mabs\u001b[39m(std \u001b[38;5;241m-\u001b[39m \u001b[38;5;241m1.0\u001b[39m) \u001b[38;5;241m<\u001b[39m std_tol:\n\u001b[1;32m    146\u001b[0m             \u001b[38;5;28;01mbreak\u001b[39;00m\n\u001b[0;32m--> 147\u001b[0m         m\u001b[38;5;241m.\u001b[39mweight\u001b[38;5;241m.\u001b[39mdata \u001b[38;5;241m/\u001b[39m\u001b[38;5;241m=\u001b[39m (std \u001b[38;5;241m+\u001b[39m \u001b[38;5;241m1e-6\u001b[39m)\n\u001b[1;32m    148\u001b[0m logging_FN(\u001b[38;5;124mf\u001b[39m\u001b[38;5;124m\"\u001b[39m\u001b[38;5;124mModule \u001b[39m\u001b[38;5;132;01m{\u001b[39;00mi\u001b[38;5;132;01m:\u001b[39;00m\u001b[38;5;124m2\u001b[39m\u001b[38;5;132;01m}\u001b[39;00m\u001b[38;5;124m after \u001b[39m\u001b[38;5;132;01m{\u001b[39;00m(t\u001b[38;5;241m+\u001b[39m\u001b[38;5;241m1\u001b[39m)\u001b[38;5;132;01m:\u001b[39;00m\u001b[38;5;124m2\u001b[39m\u001b[38;5;132;01m}\u001b[39;00m\u001b[38;5;124m itr(s) | Mean:\u001b[39m\u001b[38;5;132;01m{\u001b[39;00mmean\u001b[38;5;132;01m:\u001b[39;00m\u001b[38;5;124m7.3f\u001b[39m\u001b[38;5;132;01m}\u001b[39;00m\u001b[38;5;124m | Std:\u001b[39m\u001b[38;5;132;01m{\u001b[39;00mstd\u001b[38;5;132;01m:\u001b[39;00m\u001b[38;5;124m6.3f\u001b[39m\u001b[38;5;132;01m}\u001b[39;00m\u001b[38;5;124m | \u001b[39m\u001b[38;5;132;01m{\u001b[39;00m\u001b[38;5;28mtype\u001b[39m(m)\u001b[38;5;132;01m}\u001b[39;00m\u001b[38;5;124m\"\u001b[39m)\n\u001b[1;32m    149\u001b[0m \u001b[38;5;28mdelattr\u001b[39m(m, \u001b[38;5;124m'\u001b[39m\u001b[38;5;124m_LSUV_stats\u001b[39m\u001b[38;5;124m'\u001b[39m)\n",
      "File \u001b[0;32m~/miniconda3/envs/fastai/lib/python3.11/site-packages/torch/nn/modules/module.py:1695\u001b[0m, in \u001b[0;36mModule.__getattr__\u001b[0;34m(self, name)\u001b[0m\n\u001b[1;32m   1693\u001b[0m     \u001b[38;5;28;01mif\u001b[39;00m name \u001b[38;5;129;01min\u001b[39;00m modules:\n\u001b[1;32m   1694\u001b[0m         \u001b[38;5;28;01mreturn\u001b[39;00m modules[name]\n\u001b[0;32m-> 1695\u001b[0m \u001b[38;5;28;01mraise\u001b[39;00m \u001b[38;5;167;01mAttributeError\u001b[39;00m(\u001b[38;5;124mf\u001b[39m\u001b[38;5;124m\"\u001b[39m\u001b[38;5;124m'\u001b[39m\u001b[38;5;132;01m{\u001b[39;00m\u001b[38;5;28mtype\u001b[39m(\u001b[38;5;28mself\u001b[39m)\u001b[38;5;241m.\u001b[39m\u001b[38;5;18m__name__\u001b[39m\u001b[38;5;132;01m}\u001b[39;00m\u001b[38;5;124m'\u001b[39m\u001b[38;5;124m object has no attribute \u001b[39m\u001b[38;5;124m'\u001b[39m\u001b[38;5;132;01m{\u001b[39;00mname\u001b[38;5;132;01m}\u001b[39;00m\u001b[38;5;124m'\u001b[39m\u001b[38;5;124m\"\u001b[39m)\n",
      "\u001b[0;31mAttributeError\u001b[0m: 'Linear_res_block' object has no attribute 'weight'"
     ]
    }
   ],
   "source": [
    "# LSUV_(model, data = next(iter(training_dataloader))[1] )"
   ]
  },
  {
   "cell_type": "code",
   "execution_count": null,
   "id": "00df646e",
   "metadata": {},
   "outputs": [],
   "source": [
    "# model(next(iter(training_dataloader))[1])"
   ]
  },
  {
   "cell_type": "code",
   "execution_count": 50,
   "id": "f3f07624",
   "metadata": {},
   "outputs": [
    {
     "name": "stderr",
     "output_type": "stream",
     "text": [
      "/home/kickd/miniconda3/envs/fastai/lib/python3.11/site-packages/lightning/fabric/plugins/environments/slurm.py:191: The `srun` command is available on your system but is not used. HINT: If your intention is to run Lightning on SLURM, prepend your python command with `srun` like so: srun python /home/kickd/miniconda3/envs/fastai/lib/python3.11/si ...\n",
      "GPU available: True (cuda), used: True\n",
      "TPU available: False, using: 0 TPU cores\n",
      "IPU available: False, using: 0 IPUs\n",
      "HPU available: False, using: 0 HPUs\n",
      "LOCAL_RANK: 0 - CUDA_VISIBLE_DEVICES: [0]\n",
      "\n",
      "  | Name | Type          | Params\n",
      "---------------------------------------\n",
      "0 | mod  | NeuralNetwork | 517 M \n",
      "---------------------------------------\n",
      "517 M     Trainable params\n",
      "0         Non-trainable params\n",
      "517 M     Total params\n",
      "2,071.663 Total estimated model params size (MB)\n"
     ]
    },
    {
     "data": {
      "application/vnd.jupyter.widget-view+json": {
       "model_id": "727857f80f0043ebb128f4c775cb3b6c",
       "version_major": 2,
       "version_minor": 0
      },
      "text/plain": [
       "Sanity Checking: |          | 0/? [00:00<?, ?it/s]"
      ]
     },
     "metadata": {},
     "output_type": "display_data"
    },
    {
     "name": "stderr",
     "output_type": "stream",
     "text": [
      "/home/kickd/miniconda3/envs/fastai/lib/python3.11/site-packages/lightning/pytorch/trainer/connectors/data_connector.py:441: The 'val_dataloader' does not have many workers which may be a bottleneck. Consider increasing the value of the `num_workers` argument` to `num_workers=31` in the `DataLoader` to improve performance.\n",
      "/home/kickd/miniconda3/envs/fastai/lib/python3.11/site-packages/lightning/pytorch/trainer/connectors/data_connector.py:441: The 'train_dataloader' does not have many workers which may be a bottleneck. Consider increasing the value of the `num_workers` argument` to `num_workers=31` in the `DataLoader` to improve performance.\n"
     ]
    },
    {
     "data": {
      "application/vnd.jupyter.widget-view+json": {
       "model_id": "d6d65a233e3946e38c5f1243a5d1783e",
       "version_major": 2,
       "version_minor": 0
      },
      "text/plain": [
       "Training: |          | 0/? [00:00<?, ?it/s]"
      ]
     },
     "metadata": {},
     "output_type": "display_data"
    },
    {
     "data": {
      "application/vnd.jupyter.widget-view+json": {
       "model_id": "516f21c92bb041fa8dbac82449eb2d37",
       "version_major": 2,
       "version_minor": 0
      },
      "text/plain": [
       "Validation: |          | 0/? [00:00<?, ?it/s]"
      ]
     },
     "metadata": {},
     "output_type": "display_data"
    },
    {
     "data": {
      "application/vnd.jupyter.widget-view+json": {
       "model_id": "38690130304f4b23b6d8116680abf797",
       "version_major": 2,
       "version_minor": 0
      },
      "text/plain": [
       "Validation: |          | 0/? [00:00<?, ?it/s]"
      ]
     },
     "metadata": {},
     "output_type": "display_data"
    },
    {
     "name": "stderr",
     "output_type": "stream",
     "text": [
      "`Trainer.fit` stopped: `max_epochs=2` reached.\n"
     ]
    }
   ],
   "source": [
    "DNNG = plDNN_general(model)     \n",
    "optimizer = DNNG.configure_optimizers()\n",
    "\n",
    "logger = TensorBoardLogger(\"tb_logs\", name=\"g-acgt-fcn-res\")\n",
    "trainer = pl.Trainer(max_epochs=max_epoch, logger=logger)\n",
    "\n",
    "trainer.fit(model=DNNG, train_dataloaders=training_dataloader, val_dataloaders=validation_dataloader)"
   ]
  },
  {
   "cell_type": "code",
   "execution_count": 53,
   "id": "15ec87ec",
   "metadata": {},
   "outputs": [],
   "source": [
    "# torch.save(DNNG.mod, cache_path+'g-acgt-fcn-res'+'.pt')"
   ]
  },
  {
   "cell_type": "code",
   "execution_count": null,
   "id": "a1c71422",
   "metadata": {},
   "outputs": [],
   "source": []
  }
 ],
 "metadata": {
  "kernelspec": {
   "display_name": "python3",
   "language": "python",
   "name": "python3"
  },
  "language_info": {
   "codemirror_mode": {
    "name": "ipython",
    "version": 3
   },
   "file_extension": ".py",
   "mimetype": "text/x-python",
   "name": "python",
   "nbconvert_exporter": "python",
   "pygments_lexer": "ipython3",
   "version": "3.11.5"
  }
 },
 "nbformat": 4,
 "nbformat_minor": 5
}
