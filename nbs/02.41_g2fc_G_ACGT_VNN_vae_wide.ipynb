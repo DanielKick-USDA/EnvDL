{
 "cells": [
  {
   "cell_type": "markdown",
   "id": "7aadccc0",
   "metadata": {},
   "source": [
    "# G only KEGG based network architecture\n",
    "\n",
    "> "
   ]
  },
  {
   "cell_type": "code",
   "execution_count": null,
   "id": "392ee9d5",
   "metadata": {},
   "outputs": [],
   "source": [
    "import numpy as np\n",
    "import pandas as pd\n",
    "\n",
    "from EnvDL.core import ensure_dir_path_exists \n",
    "from EnvDL.dlfn import g2fc_datawrapper, BigDataset, plDNN_general\n",
    "from EnvDL.dlfn import ResNet2d, BasicBlock2d\n",
    "from EnvDL.dlfn import LSUV_\n",
    "\n",
    "import torch\n",
    "import torch.nn.functional as F # F.mse_loss\n",
    "from torch.utils.data import Dataset\n",
    "from torch.utils.data import DataLoader\n",
    "from torch import nn\n",
    "\n",
    "import lightning.pytorch as pl\n",
    "from lightning.pytorch.loggers import TensorBoardLogger\n",
    "\n",
    "\n",
    "from EnvDL.dlfn import kegg_connections_build, kegg_connections_clean, kegg_connections_append_y_hat, kegg_connections_sanitize_names\n",
    "from EnvDL.dlfn import VNNHelper, VisableNeuralNetwork, Linear_block_reps\n",
    "from EnvDL.dlfn import plDNN_general, BigDataset\n",
    "from EnvDL.dlfn import reverse_edge_dict, reverse_node_props\n",
    "from EnvDL.dlfn import VNNVAEHelper, plVNNVAE"
   ]
  },
  {
   "cell_type": "code",
   "execution_count": null,
   "id": "302bf05a",
   "metadata": {},
   "outputs": [],
   "source": [
    "cache_path = '../nbs_artifacts/02.41_g2fc_G_ACGT_VNN_vae_wide/'\n",
    "save_prefix = \"vnn-02.40-vnnvae-wide\"\n",
    "\n",
    "# Run settings: \n",
    "max_epoch  = 80\n",
    "batch_size = 48\n",
    "\n",
    "# VNN settings:\n",
    "default_out_nodes_inp   = 4\n",
    "default_out_nodes_edge  = 32\n",
    "default_out_nodes_out   = 512\n",
    "\n",
    "default_drop_nodes_inp  = 0.0\n",
    "default_drop_nodes_edge = 0.0\n",
    "default_drop_nodes_out  = 0.0\n",
    "\n",
    "default_reps_nodes_inp  = 1\n",
    "default_reps_nodes_edge = 1\n",
    "default_reps_nodes_out  = 1\n",
    "\n",
    "\n",
    "# VAE settings\n",
    "default_latent_inp_size = default_out_nodes_out\n",
    "default_latent_size     = default_out_nodes_out"
   ]
  },
  {
   "cell_type": "code",
   "execution_count": null,
   "id": "ce01a01c",
   "metadata": {},
   "outputs": [
    {
     "name": "stdout",
     "output_type": "stream",
     "text": [
      "Using cuda device\n"
     ]
    }
   ],
   "source": [
    "use_gpu_num = 0\n",
    "\n",
    "device = \"cuda\" if torch.cuda.is_available() else \"cpu\"\n",
    "if use_gpu_num in [0, 1]: \n",
    "    torch.cuda.set_device(use_gpu_num)\n",
    "print(f\"Using {device} device\")"
   ]
  },
  {
   "cell_type": "code",
   "execution_count": null,
   "id": "b6fba3df",
   "metadata": {},
   "outputs": [],
   "source": [
    "ensure_dir_path_exists(dir_path = cache_path)"
   ]
  },
  {
   "cell_type": "markdown",
   "id": "0452d33b",
   "metadata": {},
   "source": [
    "## Fit Using VNNHelper"
   ]
  },
  {
   "cell_type": "code",
   "execution_count": null,
   "id": "ed8e82fe",
   "metadata": {},
   "outputs": [
    {
     "name": "stdout",
     "output_type": "stream",
     "text": [
      "Loading and storing default `phno`.\n",
      "Retaining 43.53%, 6067/13939 Entries\n"
     ]
    }
   ],
   "source": [
    "\n",
    "# Same setup as above to create kegg_gene_brite\n",
    "X = g2fc_datawrapper()\n",
    "X.set_split()\n",
    "X.load_all(name_list = ['obs_geno_lookup', 'YMat', 'KEGG_slices',], store=True) \n",
    "X.calc_cs('YMat', version = 'np', filter = 'val:train')\n",
    "ACGT_gene_slice_list =     X.get('KEGG_slices', ops_string='')\n",
    "parsed_kegg_gene_entries = X.get('KEGG_entries')\n",
    "\n",
    "\n",
    "# Restrict to only those with pathway\n",
    "kegg_gene_brite = [e for e in parsed_kegg_gene_entries if 'BRITE' in e.keys()]\n",
    "\n",
    "# also require to have a non-empty path\n",
    "kegg_gene_brite = [e for e in kegg_gene_brite if not e['BRITE']['BRITE_PATHS'] == []]\n",
    "\n",
    "print('Retaining '+ str(round(len(kegg_gene_brite)/len(parsed_kegg_gene_entries), 4)*100)+'%, '+str(len(kegg_gene_brite)\n",
    "    )+'/'+str(len(parsed_kegg_gene_entries)\n",
    "    )+' Entries'\n",
    "    )\n",
    "# kegg_gene_brite[1]['BRITE']['BRITE_PATHS']"
   ]
  },
  {
   "cell_type": "code",
   "execution_count": null,
   "id": "af4b1841",
   "metadata": {},
   "outputs": [
    {
     "name": "stderr",
     "output_type": "stream",
     "text": [
      "100%|██████████| 6067/6067 [00:00<00:00, 59925.54it/s]"
     ]
    },
    {
     "name": "stderr",
     "output_type": "stream",
     "text": [
      "\n"
     ]
    },
    {
     "name": "stdout",
     "output_type": "stream",
     "text": [
      "Removed node \"Others\"\n"
     ]
    }
   ],
   "source": [
    "kegg_connections = kegg_connections_build(kegg_gene_brite = kegg_gene_brite, \n",
    "                                          n_genes = 6067)\n",
    "kegg_connections = kegg_connections_clean(         kegg_connections = kegg_connections)\n",
    "kegg_connections = kegg_connections_append_y_hat(  kegg_connections = kegg_connections)\n",
    "kegg_connections = kegg_connections_sanitize_names(kegg_connections = kegg_connections, \n",
    "                                                   replace_chars = {'.':'_'})"
   ]
  },
  {
   "cell_type": "code",
   "execution_count": null,
   "id": "db7ac803",
   "metadata": {},
   "outputs": [],
   "source": [
    "# initialize helper for input nodes\n",
    "myvnn = VNNHelper(edge_dict = kegg_connections)\n",
    "\n",
    "# Get a mapping of brite names to tensor list index\n",
    "find_names = myvnn.nodes_inp # e.g. ['100383860', '100278565', ... ]\n",
    "lookup_dict = {}\n",
    "\n",
    "# the only difference lookup_dict and brite_node_to_list_idx_dict above is that this is made using the full set of genes in the list \n",
    "# whereas that is made using kegg_gene_brite which is a subset\n",
    "for i in range(len(parsed_kegg_gene_entries)):\n",
    "    if 'BRITE' not in parsed_kegg_gene_entries[i].keys():\n",
    "        pass\n",
    "    elif parsed_kegg_gene_entries[i]['BRITE']['BRITE_PATHS'] == []:\n",
    "        pass\n",
    "    else:\n",
    "        name = parsed_kegg_gene_entries[i]['BRITE']['BRITE_PATHS'][0][-1]\n",
    "        if name in find_names:\n",
    "            lookup_dict[name] = i\n",
    "lookup_dict    \n",
    "\n",
    "\n",
    "brite_node_to_list_idx_dict = {}\n",
    "for i in range(len(kegg_gene_brite)):\n",
    "    brite_node_to_list_idx_dict[str(kegg_gene_brite[i]['BRITE']['BRITE_PATHS'][0][-1])] = i        \n",
    "\n",
    "# Get the input sizes for the graph\n",
    "size_in_zip = zip(myvnn.nodes_inp, [np.prod(ACGT_gene_slice_list[lookup_dict[e]].shape[1:]) for e  in myvnn.nodes_inp])\n",
    "\n",
    "\n",
    "# init input node sizes\n",
    "myvnn.set_node_props(key = 'inp', node_val_zip = size_in_zip)\n",
    "\n",
    "# init node output sizes\n",
    "myvnn.set_node_props(key = 'out', node_val_zip = zip(myvnn.nodes_inp, [default_out_nodes_inp  for e in myvnn.nodes_inp]))\n",
    "myvnn.set_node_props(key = 'out', node_val_zip = zip(myvnn.nodes_edge,[default_out_nodes_edge for e in myvnn.nodes_edge]))\n",
    "myvnn.set_node_props(key = 'out', node_val_zip = zip(myvnn.nodes_out, [default_out_nodes_out  for e in myvnn.nodes_out]))\n",
    "\n",
    "\n",
    "# # options should be controlled by node_props\n",
    "myvnn.set_node_props(key = 'flatten', node_val_zip = zip(\n",
    "    myvnn.nodes_inp, \n",
    "    [True for e in myvnn.nodes_inp]))\n",
    "\n",
    "# myvnn.set_node_props(key = 'reps', node_val_zip = zip(\n",
    "#     myvnn.nodes_out+myvnn.nodes_inp+myvnn.nodes_edge, \n",
    "#     [1 for e in myvnn.nodes_out+myvnn.nodes_inp+myvnn.nodes_edge]))\n",
    "\n",
    "# # init dropout \n",
    "# myvnn.set_node_props(key = 'drop', node_val_zip = zip(\n",
    "#     myvnn.nodes_out+myvnn.nodes_inp+myvnn.nodes_edge, \n",
    "#     [0.0 for e in myvnn.nodes_out+myvnn.nodes_inp+myvnn.nodes_edge]))\n",
    "\n",
    "myvnn.set_node_props(key = 'reps', node_val_zip = zip(myvnn.nodes_inp, [default_reps_nodes_inp  for e in myvnn.nodes_inp]))\n",
    "myvnn.set_node_props(key = 'reps', node_val_zip = zip(myvnn.nodes_edge,[default_reps_nodes_edge for e in myvnn.nodes_edge]))\n",
    "myvnn.set_node_props(key = 'reps', node_val_zip = zip(myvnn.nodes_out, [default_reps_nodes_out  for e in myvnn.nodes_out]))\n",
    "\n",
    "myvnn.set_node_props(key = 'drop', node_val_zip = zip(myvnn.nodes_inp, [default_drop_nodes_inp  for e in myvnn.nodes_inp]))\n",
    "myvnn.set_node_props(key = 'drop', node_val_zip = zip(myvnn.nodes_edge,[default_drop_nodes_edge for e in myvnn.nodes_edge]))\n",
    "myvnn.set_node_props(key = 'drop', node_val_zip = zip(myvnn.nodes_out, [default_drop_nodes_out  for e in myvnn.nodes_out]))\n",
    "\n",
    "# init edge node input size (propagate forward input/edge outpus)\n",
    "myvnn.calc_edge_inp()\n",
    "\n",
    "# myvnn.mk_digraph(include = ['node_name', 'inp_size', 'out_size'])\n",
    "# myvnn.mk_digraph(include = [''])"
   ]
  },
  {
   "cell_type": "code",
   "execution_count": null,
   "id": "742569ad",
   "metadata": {},
   "outputs": [],
   "source": [
    "# Setup list with only the tensors required\n",
    "vals = X.get('KEGG_slices', ops_string='asarray from_numpy float')\n",
    "# restrict to the tensors that will be used\n",
    "vals = [vals[lookup_dict[i]] for i in myvnn.nodes_inp]\n",
    "# send to gpu\n",
    "vals = [val.to('cuda') for val in vals]"
   ]
  },
  {
   "cell_type": "code",
   "execution_count": null,
   "id": "b1f2556d",
   "metadata": {},
   "outputs": [],
   "source": [
    "# replace lookup so that it matches the length of the input tensors\n",
    "new_lookup_dict = {}\n",
    "for i in range(len(myvnn.nodes_inp)):\n",
    "    new_lookup_dict[myvnn.nodes_inp[i]] = i\n",
    "    # print((myvnn.nodes_inp[i], i))\n",
    "    # break"
   ]
  },
  {
   "cell_type": "code",
   "execution_count": null,
   "metadata": {},
   "outputs": [],
   "source": [
    "model_vnn = VisableNeuralNetwork(\n",
    "    node_props = myvnn.node_props,\n",
    "    Linear_block = Linear_block_reps,\n",
    "    edge_dict = myvnn.edge_dict,\n",
    "    dependancy_order = myvnn.dependancy_order,\n",
    "    node_to_inp_num_dict = new_lookup_dict\n",
    ")"
   ]
  },
  {
   "cell_type": "code",
   "execution_count": null,
   "id": "c75c596b",
   "metadata": {},
   "outputs": [],
   "source": [
    "# reverse the edges in the edge dict (and deduplicate one to many relationships)\n",
    "kegg_connections_reversed = reverse_edge_dict(edge_dict = kegg_connections)\n",
    "\n",
    "# use existing graph to define properties of new one (switch inputs/outputs)\n",
    "prop_dict_reversed = reverse_node_props(\n",
    "    prop_dict = myvnn.node_props, \n",
    "    conversion_dict = {'out':'inp',\n",
    "                        'inp':'out',\n",
    "                    'flatten':''})\n",
    "\n",
    "# use the VNNHelper class to setup the connections but then pass in all the nodes' properties directly\n",
    "myvnn_rev = VNNHelper(edge_dict = kegg_connections_reversed)\n",
    "myvnn_rev.node_props = prop_dict_reversed\n",
    "myvnn_rev.calc_edge_inp()\n",
    "# myvnn_rev.mk_digraph(include = ['node_name', 'inp_size', 'out_size'])"
   ]
  },
  {
   "cell_type": "code",
   "execution_count": null,
   "id": "f940748b",
   "metadata": {},
   "outputs": [],
   "source": [
    "# now the reversed version\n",
    "model_vnn_reverse = VisableNeuralNetwork(\n",
    "    node_props = myvnn_rev.node_props,\n",
    "    Linear_block = Linear_block_reps,\n",
    "    edge_dict = myvnn_rev.edge_dict,\n",
    "    dependancy_order = myvnn_rev.dependancy_order,\n",
    "    node_to_inp_num_dict = {'y_hat': 0},\n",
    "    return_dict = True # With multiple outputs a dictionary will automatically be returned.\n",
    ")"
   ]
  },
  {
   "cell_type": "code",
   "execution_count": null,
   "metadata": {},
   "outputs": [],
   "source": [
    "training_dataloader = DataLoader(BigDataset(\n",
    "    lookups_are_filtered = True,\n",
    "    lookup_obs =  X.get('val:train',       ops_string='                   asarray from_numpy'), \n",
    "    lookup_geno = X.get('obs_geno_lookup', ops_string='   filter:val:train asarray from_numpy'),\n",
    "    y =           X.get('YMat',            ops_string='cs filter:val:train asarray from_numpy float cuda:0'),\n",
    "    G =           vals,\n",
    "    G_type = 'list',\n",
    "    # send_batch_to_gpu = 'cuda:0'\n",
    "    ),\n",
    "    batch_size = batch_size,\n",
    "    shuffle = True\n",
    ")\n",
    "\n",
    "validation_dataloader = DataLoader(BigDataset(\n",
    "    lookups_are_filtered = True,\n",
    "    lookup_obs =  X.get('val:test',        ops_string='                   asarray from_numpy'), \n",
    "    lookup_geno = X.get('obs_geno_lookup', ops_string='   filter:val:test asarray from_numpy'),\n",
    "    y =           X.get('YMat',            ops_string='cs filter:val:test asarray from_numpy float cuda:0'),\n",
    "    G =           vals,\n",
    "    G_type = 'list',\n",
    "    # send_batch_to_gpu = 'cuda:0'\n",
    "    ),\n",
    "    batch_size = batch_size,\n",
    "    shuffle = False\n",
    ")"
   ]
  },
  {
   "cell_type": "code",
   "execution_count": null,
   "id": "761390f7",
   "metadata": {},
   "outputs": [
    {
     "name": "stderr",
     "output_type": "stream",
     "text": [
      "/home/kickd/miniconda3/envs/fastai/lib/python3.11/site-packages/lightning/fabric/plugins/environments/slurm.py:191: The `srun` command is available on your system but is not used. HINT: If your intention is to run Lightning on SLURM, prepend your python command with `srun` like so: srun python /home/kickd/miniconda3/envs/fastai/lib/python3.11/si ...\n",
      "GPU available: True (cuda), used: True\n",
      "TPU available: False, using: 0 TPU cores\n",
      "IPU available: False, using: 0 IPUs\n",
      "HPU available: False, using: 0 HPUs\n",
      "/home/kickd/miniconda3/envs/fastai/lib/python3.11/site-packages/lightning/pytorch/trainer/configuration_validator.py:72: You passed in a `val_dataloader` but have no `validation_step`. Skipping val loop.\n",
      "You are using a CUDA device ('NVIDIA GeForce RTX 4090') that has Tensor Cores. To properly utilize them, you should set `torch.set_float32_matmul_precision('medium' | 'high')` which will trade-off precision for performance. For more details, read https://pytorch.org/docs/stable/generated/torch.set_float32_matmul_precision.html#torch.set_float32_matmul_precision\n",
      "LOCAL_RANK: 0 - CUDA_VISIBLE_DEVICES: [0]\n",
      "\n",
      "  | Name         | Type         | Params\n",
      "----------------------------------------------\n",
      "0 | VNNVAEHelper | VNNVAEHelper | 313 M \n",
      "----------------------------------------------\n",
      "313 M     Trainable params\n",
      "0         Non-trainable params\n",
      "313 M     Total params\n",
      "1,254.786 Total estimated model params size (MB)\n",
      "/home/kickd/miniconda3/envs/fastai/lib/python3.11/site-packages/lightning/pytorch/trainer/connectors/data_connector.py:441: The 'train_dataloader' does not have many workers which may be a bottleneck. Consider increasing the value of the `num_workers` argument` to `num_workers=31` in the `DataLoader` to improve performance.\n"
     ]
    },
    {
     "data": {
      "application/vnd.jupyter.widget-view+json": {
       "model_id": "564afa2742614f79bf455577fbc2722e",
       "version_major": 2,
       "version_minor": 0
      },
      "text/plain": [
       "Training: |          | 0/? [00:00<?, ?it/s]"
      ]
     },
     "metadata": {},
     "output_type": "display_data"
    },
    {
     "name": "stderr",
     "output_type": "stream",
     "text": [
      "/home/kickd/miniconda3/envs/fastai/lib/python3.11/site-packages/lightning/pytorch/trainer/call.py:54: Detected KeyboardInterrupt, attempting graceful shutdown...\n"
     ]
    },
    {
     "ename": "",
     "evalue": "",
     "output_type": "error",
     "traceback": [
      "\u001b[1;31mThe Kernel crashed while executing code in the the current cell or a previous cell. Please review the code in the cell(s) to identify a possible cause of the failure. Click <a href='https://aka.ms/vscodeJupyterKernelCrash'>here</a> for more info. View Jupyter <a href='command:jupyter.viewOutput'>log</a> for further details."
     ]
    }
   ],
   "source": [
    "VVH = VNNVAEHelper(\n",
    "    encoder = model_vnn, \n",
    "    decoder = model_vnn_reverse, \n",
    "    latent_inp_size = default_latent_inp_size, \n",
    "    latent_size = default_latent_size)\n",
    "\n",
    "# # initializaiton with LSUV seems to cause infs to be predicted\n",
    "# # step through and init the fc components too\n",
    "# LSUV_(VVH.encoder.to('cuda'), data = next(iter(training_dataloader))[1])\n",
    "# x_enc = VVH.encoder.to('cuda')( next(iter(training_dataloader))[1] )\n",
    "# LSUV_(VVH.fc_mu.to('cuda'),      data = x_enc)\n",
    "# LSUV_(VVH.fc_log_var.to('cuda'), data = x_enc)\n",
    "# mu, log_var = VVH.reparam(x_enc)\n",
    "# _, _, z = VVH.sample(mu, log_var)\n",
    "# LSUV_(VVH.fc_reverse.to('cuda'), data = z)\n",
    "# LSUV_(VVH.decoder.to('cuda'), data = [VVH.reparam_rev(z)])\n",
    "\n",
    "# VVH(next(iter(training_dataloader))[1])\n",
    "\n",
    "plVVH = plVNNVAE(VVH, lookup_dict = new_lookup_dict)\n",
    "\n",
    "logger = pl.loggers.TensorBoardLogger(\"tb_vnnvae_logs\", name=save_prefix)\n",
    "trainer = pl.Trainer(max_epochs=max_epoch, logger=logger)\n",
    "\n",
    "trainer.fit(model=plVVH, train_dataloaders=training_dataloader, val_dataloaders=validation_dataloader)"
   ]
  },
  {
   "cell_type": "code",
   "execution_count": null,
   "id": "5c98f018",
   "metadata": {},
   "outputs": [],
   "source": [
    "import time, json\n",
    "save_time = time.strftime(\"%Y-%m-%d-%H-%M-%S\", time.localtime())\n",
    "\n",
    "json_path = cache_path+''.join(['lookup_dict','__'+save_time,'.json'])\n",
    "with open(json_path, 'w', encoding='utf-8') as f: \n",
    "    json.dump(new_lookup_dict, f, ensure_ascii=False, indent=4)    \n",
    "\n",
    "pt_path = cache_path+''.join([save_prefix,'__'+save_time,'.pt'])\n",
    "\n",
    "torch.save(plVVH.VNNVAEHelper, pt_path)"
   ]
  },
  {
   "cell_type": "code",
   "execution_count": null,
   "id": "58075da8",
   "metadata": {},
   "outputs": [],
   "source": [
    "# # Confirm that a re-loaded vnnvae works\n",
    "# VVH2 = torch.load(pt_path)\n",
    "\n",
    "# plVVH = plVNNVAE(VVH2, lookup_dict = new_lookup_dict)\n",
    "\n",
    "# logger = pl.loggers.TensorBoardLogger(\"tb_vnnvae_logs\", name=save_prefix)\n",
    "# trainer = pl.Trainer(max_epochs=4, logger=logger)\n",
    "\n",
    "# trainer.fit(model=plVVH, train_dataloaders=training_dataloader, val_dataloaders=validation_dataloader)"
   ]
  }
 ],
 "metadata": {
  "kernelspec": {
   "display_name": "python3",
   "language": "python",
   "name": "python3"
  }
 },
 "nbformat": 4,
 "nbformat_minor": 5
}
