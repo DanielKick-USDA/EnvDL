{
 "cells": [
  {
   "cell_type": "markdown",
   "id": "7aadccc0",
   "metadata": {},
   "source": [
    "# Y~Weather Hilbert Curve 1d\n",
    "\n",
    "> "
   ]
  },
  {
   "cell_type": "code",
   "execution_count": null,
   "metadata": {},
   "outputs": [],
   "source": [
    "import numpy as np\n",
    "import pandas as pd\n",
    "\n",
    "from EnvDL.core import ensure_dir_path_exists \n",
    "from EnvDL.dlfn import g2fc_datawrapper, BigDataset, plDNN_general\n",
    "from EnvDL.dlfn import ResNet1d, BasicBlock1d\n",
    "\n",
    "import torch\n",
    "import torch.nn.functional as F # F.mse_loss\n",
    "from torch.utils.data import Dataset\n",
    "from torch.utils.data import DataLoader\n",
    "from torch import nn\n",
    "\n",
    "import lightning.pytorch as pl\n",
    "from lightning.pytorch.loggers import TensorBoardLogger"
   ]
  },
  {
   "cell_type": "code",
   "execution_count": null,
   "metadata": {},
   "outputs": [],
   "source": [
    "# Run settings: \n",
    "max_epoch = 10\n",
    "batch_size = 50"
   ]
  },
  {
   "cell_type": "code",
   "execution_count": null,
   "id": "f60ca615",
   "metadata": {},
   "outputs": [],
   "source": [
    "use_gpu_num = 0\n",
    "\n",
    "device = \"cuda\" if torch.cuda.is_available() else \"cpu\"\n",
    "if use_gpu_num in [0, 1]: \n",
    "    torch.cuda.set_device(use_gpu_num)\n",
    "print(f\"Using {device} device\")"
   ]
  },
  {
   "cell_type": "code",
   "execution_count": null,
   "id": "bb4600ed",
   "metadata": {},
   "outputs": [],
   "source": [
    "cache_path = '../nbs_artifacts/03.22_g2fc_W_timeseries_conv1d_resnet.ipynb/'\n",
    "ensure_dir_path_exists(dir_path = cache_path)"
   ]
  },
  {
   "cell_type": "markdown",
   "id": "517af1f8",
   "metadata": {},
   "source": [
    "## Load data"
   ]
  },
  {
   "cell_type": "code",
   "execution_count": null,
   "id": "9a724cba",
   "metadata": {},
   "outputs": [],
   "source": [
    "X = g2fc_datawrapper()\n",
    "X.set_split()\n",
    "X.load_all(name_list = ['obs_env_lookup', 'YMat', 'PlantHarvest', 'WMat',], store=True) \n",
    "\n",
    "X.calc_cs('YMat', version = 'np', filter = 'val:train')\n",
    "X.calc_cs('WMat',                 filter = 'val:train', filter_lookup= 'obs_env_lookup')"
   ]
  },
  {
   "cell_type": "code",
   "execution_count": null,
   "id": "372ccc6f",
   "metadata": {},
   "outputs": [],
   "source": [
    "training_dataloader = DataLoader(BigDataset(\n",
    "    lookups_are_filtered = False,\n",
    "    lookup_obs = X.get('val:train',      ops_string='   asarray from_numpy             '),\n",
    "    lookup_env = X.get('obs_env_lookup', ops_string='   asarray from_numpy             '),\n",
    "    y =          X.get('YMat',           ops_string='cs asarray from_numpy float cuda:0')[:, None],\n",
    "    W =          X.get('WMat',           ops_string='cs         from_numpy float cuda:0'),\n",
    "    P =          X.get('PlantHarvest',   ops_string='           from_numpy             '),\n",
    "    W_type = 'raw'\n",
    "    ),\n",
    "    batch_size = batch_size,\n",
    "    shuffle = True\n",
    ")\n",
    "\n",
    "\n",
    "validation_dataloader = DataLoader(BigDataset(\n",
    "    lookups_are_filtered = False,\n",
    "    lookup_obs = X.get('val:test',       ops_string='   asarray from_numpy             '),\n",
    "    lookup_env = X.get('obs_env_lookup', ops_string='   asarray from_numpy             '),\n",
    "    y =          X.get('YMat',           ops_string='cs asarray from_numpy float cuda:0')[:, None],\n",
    "    W =          X.get('WMat',           ops_string='cs         from_numpy float cuda:0'),\n",
    "    P =          X.get('PlantHarvest',   ops_string='           from_numpy             '),\n",
    "    W_type = 'raw'\n",
    "    ),\n",
    "    batch_size = batch_size,\n",
    "    shuffle = False\n",
    ")"
   ]
  },
  {
   "cell_type": "markdown",
   "id": "8452a9f7",
   "metadata": {},
   "source": [
    "## Test Models"
   ]
  },
  {
   "cell_type": "code",
   "execution_count": null,
   "id": "e415b8f3",
   "metadata": {},
   "outputs": [],
   "source": [
    "model = ResNet1d(\n",
    "        block = BasicBlock1d, #: Type[Union[BasicBlock, Bottleneck]],\n",
    "        layers = [2, 2, 2, 2], #: List[int],\n",
    "        # num_classes: int = 1000,\n",
    "        zero_init_residual = False,\n",
    "        groups = 1,\n",
    "        width_per_group = 64,\n",
    "        replace_stride_with_dilation = None,\n",
    "        norm_layer = None,\n",
    "        input_channels = 17\n",
    "    ).to('cuda')\n",
    "\n",
    "\n",
    "DNNW = plDNN_general(model)     \n",
    "optimizer = DNNW.configure_optimizers()\n",
    "\n",
    "logger = TensorBoardLogger(\"tb_logs\", name=\"w-cnn1-res-4rep2-from-pytorch\")\n",
    "trainer = pl.Trainer(max_epochs=max_epoch, logger=logger)\n",
    "\n",
    "trainer.fit(model=DNNW, train_dataloaders=training_dataloader, val_dataloaders=validation_dataloader)"
   ]
  },
  {
   "cell_type": "code",
   "execution_count": null,
   "id": "792c57cc",
   "metadata": {},
   "outputs": [],
   "source": [
    "model = ResNet1d(\n",
    "        block = BasicBlock1d, #: Type[Union[BasicBlock, Bottleneck]],\n",
    "        layers = [4, 4, 4, 4], #: List[int],\n",
    "        # num_classes: int = 1000,\n",
    "        zero_init_residual = False,\n",
    "        groups = 1,\n",
    "        width_per_group = 64,\n",
    "        replace_stride_with_dilation = None,\n",
    "        norm_layer = None,\n",
    "        input_channels = 17\n",
    "    ).to('cuda')\n",
    "\n",
    "\n",
    "DNNW = plDNN_general(model)     \n",
    "optimizer = DNNW.configure_optimizers()\n",
    "\n",
    "logger = TensorBoardLogger(\"tb_logs\", name=\"w-cnn1-res-4rep4-from-pytorch\")\n",
    "trainer = pl.Trainer(max_epochs=max_epoch, logger=logger)\n",
    "\n",
    "trainer.fit(model=DNNW, train_dataloaders=training_dataloader, val_dataloaders=validation_dataloader)"
   ]
  }
 ],
 "metadata": {
  "kernelspec": {
   "display_name": "python3",
   "language": "python",
   "name": "python3"
  }
 },
 "nbformat": 4,
 "nbformat_minor": 5
}
