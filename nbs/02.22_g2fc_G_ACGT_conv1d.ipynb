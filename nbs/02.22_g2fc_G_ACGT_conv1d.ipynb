{
 "cells": [
  {
   "cell_type": "markdown",
   "id": "7aadccc0",
   "metadata": {},
   "source": [
    "# Y~G ACGT Probabilities 1d\n",
    "> "
   ]
  },
  {
   "cell_type": "code",
   "execution_count": null,
   "id": "961eb958",
   "metadata": {},
   "outputs": [],
   "source": [
    "import numpy as np\n",
    "import pandas as pd\n",
    "\n",
    "from EnvDL.core import ensure_dir_path_exists \n",
    "from EnvDL.dlfn import g2fc_datawrapper, BigDataset, plDNN_general\n",
    "from EnvDL.dlfn import ResNet1d, BasicBlock1d\n",
    "from EnvDL.dlfn import LSUV_\n",
    "\n",
    "import torch\n",
    "import torch.nn.functional as F # F.mse_loss\n",
    "from torch.utils.data import Dataset\n",
    "from torch.utils.data import DataLoader\n",
    "from torch import nn\n",
    "\n",
    "import lightning.pytorch as pl\n",
    "from lightning.pytorch.loggers import TensorBoardLogger"
   ]
  },
  {
   "cell_type": "code",
   "execution_count": null,
   "id": "abcf18e2",
   "metadata": {},
   "outputs": [],
   "source": [
    "# Run settings: \n",
    "max_epoch = 20\n",
    "batch_size = 24"
   ]
  },
  {
   "cell_type": "code",
   "execution_count": null,
   "id": "e106a993",
   "metadata": {},
   "outputs": [
    {
     "name": "stdout",
     "output_type": "stream",
     "text": [
      "Using cuda device\n"
     ]
    }
   ],
   "source": [
    "use_gpu_num = 0\n",
    "\n",
    "device = \"cuda\" if torch.cuda.is_available() else \"cpu\"\n",
    "if use_gpu_num in [0, 1]: \n",
    "    torch.cuda.set_device(use_gpu_num)\n",
    "print(f\"Using {device} device\")"
   ]
  },
  {
   "cell_type": "code",
   "execution_count": null,
   "id": "bb4600ed",
   "metadata": {},
   "outputs": [],
   "source": [
    "cache_path = '../nbs_artifacts/02.22_g2fc_G_ACGT_conv1d/'\n",
    "save_prefix = [e for e in cache_path.split('/') if e != ''][-1]\n",
    "ensure_dir_path_exists(dir_path = cache_path)"
   ]
  },
  {
   "cell_type": "markdown",
   "id": "517af1f8",
   "metadata": {},
   "source": [
    "## Load data"
   ]
  },
  {
   "cell_type": "code",
   "execution_count": null,
   "id": "60140e10",
   "metadata": {},
   "outputs": [
    {
     "name": "stdout",
     "output_type": "stream",
     "text": [
      "Loading and storing default `phno`.\n"
     ]
    }
   ],
   "source": [
    "X = g2fc_datawrapper()\n",
    "X.set_split()\n",
    "X.load_all(name_list = ['obs_geno_lookup', 'YMat', 'ACGT',], store=True) \n",
    "\n",
    "X.calc_cs('YMat', version = 'np', filter = 'val:train')"
   ]
  },
  {
   "cell_type": "code",
   "execution_count": null,
   "id": "8b850419",
   "metadata": {},
   "outputs": [],
   "source": [
    "training_dataloader = DataLoader(BigDataset(\n",
    "    lookups_are_filtered = False,\n",
    "    lookup_obs  = X.get('val:train',       ops_string='   asarray from_numpy      '),\n",
    "    lookup_geno = X.get('obs_geno_lookup', ops_string='   asarray from_numpy      '),\n",
    "    y =           X.get('YMat',            ops_string='cs asarray from_numpy float')[:, None],\n",
    "    G =           X.get('ACGT',            ops_string='           from_numpy float'),\n",
    "    G_type = 'raw',\n",
    "    send_batch_to_gpu = 'cuda:0'\n",
    "    ),\n",
    "    batch_size = batch_size,\n",
    "    shuffle = True\n",
    ")\n",
    "\n",
    "\n",
    "validation_dataloader = DataLoader(BigDataset(\n",
    "    lookups_are_filtered = False,\n",
    "    lookup_obs =  X.get('val:test',        ops_string='   asarray from_numpy      '),\n",
    "    lookup_geno = X.get('obs_geno_lookup', ops_string='   asarray from_numpy      '),\n",
    "    y =           X.get('YMat',            ops_string='cs asarray from_numpy float')[:, None],\n",
    "    G =           X.get('ACGT',            ops_string='           from_numpy float'),\n",
    "    G_type = 'raw',\n",
    "    send_batch_to_gpu = 'cuda:0'\n",
    "    ),\n",
    "    batch_size = batch_size,\n",
    "    shuffle = False\n",
    ")"
   ]
  },
  {
   "cell_type": "markdown",
   "id": "797a0f58",
   "metadata": {},
   "source": [
    "## Test Models"
   ]
  },
  {
   "cell_type": "code",
   "execution_count": null,
   "id": "127d951d",
   "metadata": {},
   "outputs": [],
   "source": [
    "def Conv1D_Max_block(in_channels, out_channels, kernel_size, stride):\n",
    "    block = nn.Sequential(\n",
    "        nn.Conv1d(\n",
    "            in_channels= in_channels, # second channel\n",
    "            out_channels= out_channels,\n",
    "            kernel_size= kernel_size,\n",
    "            stride= stride\n",
    "        ), \n",
    "        nn.MaxPool1d((kernel_size,), stride=stride)\n",
    "    )\n",
    "    return(block)\n"
   ]
  },
  {
   "cell_type": "code",
   "execution_count": null,
   "id": "9a54f02f",
   "metadata": {},
   "outputs": [],
   "source": [
    "from EnvDL.dlfn import Linear_block"
   ]
  },
  {
   "cell_type": "code",
   "execution_count": null,
   "id": "788ba1e2",
   "metadata": {},
   "outputs": [],
   "source": [
    "class NeuralNetwork(nn.Module):\n",
    "    def __init__(self):\n",
    "        super(NeuralNetwork, self).__init__()    \n",
    "\n",
    "#         def Linear_block(in_size, out_size, drop_pr):\n",
    "#             block = nn.Sequential(\n",
    "#                 nn.Linear(in_size, out_size),\n",
    "#                 nn.ReLU(),\n",
    "#                 nn.Dropout(drop_pr)\n",
    "#             )\n",
    "#             return(block)         \n",
    "        \n",
    "        \n",
    "#         def Conv1D_Max_block(in_channels, out_channels, kernel_size, stride):\n",
    "#             block = nn.Sequential(\n",
    "#                 nn.Conv1d(\n",
    "#                     in_channels= in_channels, # second channel\n",
    "#                     out_channels= out_channels,\n",
    "#                     kernel_size= kernel_size,\n",
    "#                     stride= stride\n",
    "#                 ), \n",
    "#                 nn.MaxPool1d((kernel_size,), stride=stride)\n",
    "#             )\n",
    "#             return(block)\n",
    "        \n",
    "        self.x_network = nn.Sequential(\n",
    "            Conv1D_Max_block(4, 4, 3, 2),\n",
    "            Conv1D_Max_block(4, 4, 3, 2),\n",
    "            Conv1D_Max_block(4, 4, 3, 2),\n",
    "            Conv1D_Max_block(4, 4, 3, 2),\n",
    "            Conv1D_Max_block(4, 4, 3, 2),\n",
    "            Conv1D_Max_block(4, 4, 3, 2)\n",
    "        )\n",
    "        \n",
    "    \n",
    "        self.x_pred = nn.Sequential(\n",
    "                nn.Flatten(),           \n",
    "                Linear_block(in_size = (4*29), out_size = 32, drop_pr = 0.3),\n",
    "                nn.Linear(32, 1)\n",
    "            )\n",
    "\n",
    "    def forward(self, x):\n",
    "        out = self.x_network(x)\n",
    "        pred = self.x_pred(out)\n",
    "        return pred#, out\n",
    "\n",
    "#     def forward(self, x):\n",
    "#         x_out = self.x_network(x)\n",
    "#         return x_out\n",
    "\n",
    "model = NeuralNetwork().to(device)\n",
    "\n",
    "# model(next(iter(training_dataloader))[1][0:5]).shape"
   ]
  },
  {
   "cell_type": "code",
   "execution_count": null,
   "id": "2e429e65",
   "metadata": {},
   "outputs": [
    {
     "name": "stdout",
     "output_type": "stream",
     "text": [
      "Applying orthogonal init (zero init if dim < 2) to params in 8 module(s).\n",
      "Applying LSUV to 8 module(s) (up to 10 iters per module):\n",
      "Module  0 after  2 itr(s) | Mean: -0.485 | Std: 1.000 | <class 'torch.nn.modules.conv.Conv1d'>\n",
      "Module  1 after  2 itr(s) | Mean: -0.047 | Std: 1.000 | <class 'torch.nn.modules.conv.Conv1d'>\n",
      "Module  2 after  2 itr(s) | Mean: -0.227 | Std: 1.000 | <class 'torch.nn.modules.conv.Conv1d'>\n",
      "Module  3 after  2 itr(s) | Mean: -0.686 | Std: 1.000 | <class 'torch.nn.modules.conv.Conv1d'>\n",
      "Module  4 after  1 itr(s) | Mean:  0.067 | Std: 0.997 | <class 'torch.nn.modules.conv.Conv1d'>\n",
      "Module  5 after  2 itr(s) | Mean: -0.214 | Std: 1.000 | <class 'torch.nn.modules.conv.Conv1d'>\n",
      "Module  6 after  1 itr(s) | Mean: -0.070 | Std: 0.955 | <class 'torch.nn.modules.linear.Linear'>\n",
      "Module  7 after  6 itr(s) | Mean:  2.065 | Std: 1.092 | <class 'torch.nn.modules.linear.Linear'>\n"
     ]
    }
   ],
   "source": [
    "LSUV_(model, next(iter(training_dataloader))[1])"
   ]
  },
  {
   "cell_type": "code",
   "execution_count": null,
   "id": "8956ace4",
   "metadata": {},
   "outputs": [],
   "source": [
    "DNNG = plDNN_general(model)     \n",
    "optimizer = DNNG.configure_optimizers()\n",
    "\n",
    "logger = TensorBoardLogger(\"tb_ACGT_logs\", name=save_prefix)\n",
    "trainer = pl.Trainer(max_epochs=max_epoch, logger=logger)\n",
    "\n",
    "trainer.fit(model=DNNG, train_dataloaders=training_dataloader, val_dataloaders=validation_dataloader)"
   ]
  },
  {
   "cell_type": "code",
   "execution_count": null,
   "id": "504c448d",
   "metadata": {},
   "outputs": [],
   "source": [
    "save_time = time.strftime(\"%Y-%m-%d-%H-%M-%S\", time.localtime())\n",
    "\n",
    "pt_path = cache_path+''.join([save_prefix,'__'+save_time,'.pt'])\n",
    "\n",
    "torch.save(DNNG.mod, pt_path)"
   ]
  },
  {
   "cell_type": "code",
   "execution_count": null,
   "id": "3cf6a8fc",
   "metadata": {},
   "outputs": [],
   "source": [
    "# torch.save(DNNG.mod, cache_path+'g-acgt-conv1'+'.pt')"
   ]
  }
 ],
 "metadata": {
  "kernelspec": {
   "display_name": "python3",
   "language": "python",
   "name": "python3"
  }
 },
 "nbformat": 4,
 "nbformat_minor": 5
}
