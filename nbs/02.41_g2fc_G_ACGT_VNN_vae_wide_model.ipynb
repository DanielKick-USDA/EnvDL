{
 "cells": [
  {
   "cell_type": "markdown",
   "id": "7aadccc0",
   "metadata": {},
   "source": [
    "# G only KEGG based network architecture\n",
    "\n",
    "> "
   ]
  },
  {
   "cell_type": "code",
   "execution_count": null,
   "id": "392ee9d5",
   "metadata": {},
   "outputs": [],
   "source": [
    "import numpy as np\n",
    "import pandas as pd\n",
    "\n",
    "from EnvDL.core import ensure_dir_path_exists \n",
    "from EnvDL.dlfn import g2fc_datawrapper, BigDataset, plDNN_general\n",
    "from EnvDL.dlfn import ResNet2d, BasicBlock2d\n",
    "from EnvDL.dlfn import LSUV_\n",
    "\n",
    "import torch\n",
    "import torch.nn.functional as F # F.mse_loss\n",
    "from torch.utils.data import Dataset\n",
    "from torch.utils.data import DataLoader\n",
    "from torch import nn\n",
    "\n",
    "import lightning.pytorch as pl\n",
    "from lightning.pytorch.loggers import TensorBoardLogger\n",
    "\n",
    "\n",
    "from EnvDL.dlfn import kegg_connections_build, kegg_connections_clean, kegg_connections_append_y_hat, kegg_connections_sanitize_names\n",
    "from EnvDL.dlfn import VNNHelper, VisableNeuralNetwork, Linear_block_reps\n",
    "from EnvDL.dlfn import plDNN_general, BigDataset\n",
    "from EnvDL.dlfn import reverse_edge_dict, reverse_node_props\n",
    "from EnvDL.dlfn import VNNVAEHelper, plVNNVAE"
   ]
  },
  {
   "cell_type": "code",
   "execution_count": null,
   "id": "302bf05a",
   "metadata": {},
   "outputs": [],
   "source": [
    "cache_path = '../nbs_artifacts/02.41_g2fc_G_ACGT_VNN_vae_wide/'\n",
    "save_prefix = \"vnn-02.40-vnnvae-wide\"\n",
    "\n",
    "# Run settings: \n",
    "max_epoch  = 80\n",
    "batch_size = 512 #48"
   ]
  },
  {
   "cell_type": "code",
   "execution_count": null,
   "id": "ce01a01c",
   "metadata": {},
   "outputs": [],
   "source": [
    "use_gpu_num = 0\n",
    "\n",
    "device = \"cuda\" if torch.cuda.is_available() else \"cpu\"\n",
    "if use_gpu_num in [0, 1]: \n",
    "    torch.cuda.set_device(use_gpu_num)\n",
    "print(f\"Using {device} device\")"
   ]
  },
  {
   "cell_type": "code",
   "execution_count": null,
   "id": "b6fba3df",
   "metadata": {},
   "outputs": [],
   "source": [
    "ensure_dir_path_exists(dir_path = cache_path)"
   ]
  },
  {
   "cell_type": "markdown",
   "id": "0452d33b",
   "metadata": {},
   "source": [
    "## Load data"
   ]
  },
  {
   "cell_type": "code",
   "execution_count": null,
   "id": "cfba3e5d",
   "metadata": {},
   "outputs": [],
   "source": [
    "X = g2fc_datawrapper()\n",
    "X.set_split()\n",
    "X.load(name = 'VNNWideEmb', store=True, \n",
    "       load_from = '../nbs_artifacts/02.41_g2fc_G_ACGT_VNN_vae_wide/',\n",
    "       file_name = 'vnn-02.40-vnnvae-wide__2023-12-28-13-52-53__emb.npy')\n",
    "\n",
    "X.load_all(name_list = ['obs_geno_lookup', 'YMat'], store=True) \n",
    "X.calc_cs('YMat', version = 'np', filter = 'val:train')\n"
   ]
  },
  {
   "cell_type": "code",
   "execution_count": null,
   "id": "ed8e82fe",
   "metadata": {},
   "outputs": [],
   "source": [
    "\n",
    "training_dataloader = DataLoader(BigDataset(\n",
    "    lookups_are_filtered = True,\n",
    "    lookup_obs =  X.get('val:train',       ops_string='                    asarray from_numpy'), \n",
    "    lookup_geno = X.get('obs_geno_lookup', ops_string='   filter:val:train asarray from_numpy'),\n",
    "    y =           X.get('YMat',            ops_string='cs filter:val:train asarray from_numpy float cuda:0')[:, None],\n",
    "    G =           X.get('VNNWideEmb',      ops_string='                    asarray from_numpy float cuda:0'),\n",
    "    G_type = 'raw',\n",
    "    # send_batch_to_gpu = 'cuda:0'\n",
    "    ),\n",
    "    batch_size = batch_size,\n",
    "    shuffle = True\n",
    ")\n",
    "\n",
    "validation_dataloader = DataLoader(BigDataset(\n",
    "    lookups_are_filtered = True,\n",
    "    lookup_obs =  X.get('val:test',        ops_string='                   asarray from_numpy'), \n",
    "    lookup_geno = X.get('obs_geno_lookup', ops_string='   filter:val:test asarray from_numpy'),\n",
    "    y =           X.get('YMat',            ops_string='cs filter:val:test asarray from_numpy float cuda:0')[:, None],\n",
    "    G =           X.get('VNNWideEmb',      ops_string='                   asarray from_numpy float cuda:0'),\n",
    "    G_type = 'raw',\n",
    "    # send_batch_to_gpu = 'cuda:0'\n",
    "    ),\n",
    "    batch_size = batch_size,\n",
    "    shuffle = False\n",
    ")\n"
   ]
  },
  {
   "cell_type": "markdown",
   "id": "0c297ac4",
   "metadata": {},
   "source": [
    "## Test Models"
   ]
  },
  {
   "cell_type": "code",
   "execution_count": null,
   "id": "d16a4fd6",
   "metadata": {},
   "outputs": [],
   "source": [
    "# next(iter(training_dataloader))\n",
    "[e.shape for e in next(iter(training_dataloader))]"
   ]
  },
  {
   "cell_type": "code",
   "execution_count": null,
   "id": "049bafb7",
   "metadata": {},
   "outputs": [],
   "source": [
    "def Linear_block(in_size, out_size, drop_pr):\n",
    "            block = nn.Sequential(\n",
    "                nn.Linear(in_size, out_size),\n",
    "                nn.ReLU(),\n",
    "                nn.Dropout(drop_pr)\n",
    "            )\n",
    "            return(block) \n",
    "\n",
    "# A quirk of this is that to get only a single layer the length of the input tensor must be passed in. for 2+ I'll figure it out.\n",
    "class NeuralNetwork(nn.Module):\n",
    "    def __init__(self, parameterization):\n",
    "        super(NeuralNetwork, self).__init__()            \n",
    "        module_list = []\n",
    "\n",
    "        max_layer = parameterization['num_layers']\n",
    "        for i in range(max_layer):\n",
    "            if i  == 0:\n",
    "                name_in = f\"in_{i+1}_of_{max_layer}\"\n",
    "            else:\n",
    "                name_in = f\"out_{i}_of_{max_layer}\"\n",
    "            name_out = f\"out_{i+1}_of_{max_layer}\"\n",
    "            name_drop= f\"drop_{i+1}_of_{max_layer}\"\n",
    "\n",
    "            # if i == 0:\n",
    "            #     module_list += [nn.Flatten()]\n",
    "            \n",
    "\n",
    "            module_list += [\n",
    "\n",
    "                nn.Linear(parameterization[name_in], \n",
    "                          parameterization[name_out]),\n",
    "                nn.ReLU(),\n",
    "                nn.Dropout(parameterization[name_drop]),\n",
    "            \n",
    "                # Linear_block(\n",
    "                #     in_size  = parameterization[name_in], \n",
    "                #     out_size = parameterization[name_out], \n",
    "                #     drop_pr  = parameterization[name_drop])\n",
    "                    \n",
    "                    ]\n",
    "            \n",
    "            if (i+1) == max_layer:\n",
    "                module_list += [nn.Linear(parameterization[name_out], 1)]\n",
    "                \n",
    "        self.x_network = nn.ModuleList(module_list)\n",
    "\n",
    "        \n",
    "    def forward(self, x):\n",
    "        for mod in self.x_network:\n",
    "            # if mod == self.x_network[-1]:\n",
    "            #     out = x # get the penultimate layer's outputs for later\n",
    "            x = mod(x)\n",
    "        \n",
    "        pred = x\n",
    "        return pred\n",
    "\n"
   ]
  },
  {
   "cell_type": "code",
   "execution_count": null,
   "id": "c694c6e0",
   "metadata": {},
   "outputs": [],
   "source": []
  },
  {
   "cell_type": "code",
   "execution_count": null,
   "id": "4fa4a6cd",
   "metadata": {},
   "outputs": [],
   "source": []
  },
  {
   "cell_type": "code",
   "execution_count": null,
   "id": "08f8966e",
   "metadata": {},
   "outputs": [],
   "source": [
    "from lightning.pytorch.callbacks.early_stopping import EarlyStopping\n",
    "# ??EarlyStopping"
   ]
  },
  {
   "cell_type": "code",
   "execution_count": null,
   "id": "b8b33a41",
   "metadata": {},
   "outputs": [],
   "source": []
  },
  {
   "cell_type": "code",
   "execution_count": null,
   "id": "4d1bdaad",
   "metadata": {},
   "outputs": [],
   "source": [
    "# logger_name = 'no lsuv 1'\n",
    "\n",
    "# layer_sizes = [1]\n",
    "# layer_drops = [0.0 for e in layer_sizes]\n",
    "\n",
    "# num_layers = len(layer_sizes)\n",
    "\n",
    "# params = {\n",
    "#     'num_layers':num_layers,\n",
    "#     f\"in_1_of_{num_layers}\": (512)\n",
    "# }\n",
    "\n",
    "# for i in range(num_layers):\n",
    "#     params[f\"out_{ i + 1}_of_{num_layers}\"] = layer_sizes[i]\n",
    "#     params[f\"drop_{ i + 1}_of_{num_layers}\"] = layer_drops[i]\n",
    "    \n",
    "# params        "
   ]
  },
  {
   "cell_type": "code",
   "execution_count": null,
   "id": "f503b7e2",
   "metadata": {},
   "outputs": [],
   "source": [
    "# model = NeuralNetwork(parameterization = params).to(device)\n",
    "# model(next(iter(training_dataloader))[1])[0:3, ]\n",
    "\n",
    "# # LSUV_(model, data = next(iter(training_dataloader))[1] )\n",
    "\n",
    "# DNNG = plDNN_general(model)     \n",
    "# optimizer = DNNG.configure_optimizers()\n",
    "\n",
    "# logger = TensorBoardLogger(\"tb_vnn_vae_emb\", name=logger_name)\n",
    "# trainer = pl.Trainer(max_epochs=max_epoch, logger=logger,\n",
    "#                      callbacks=[EarlyStopping(monitor=\"val_loss\", mode=\"min\", patience=10)])"
   ]
  },
  {
   "cell_type": "code",
   "execution_count": null,
   "id": "de9bbea9",
   "metadata": {},
   "outputs": [],
   "source": [
    "# trainer.fit(model=DNNG, train_dataloaders=training_dataloader, val_dataloaders=validation_dataloader)"
   ]
  },
  {
   "cell_type": "code",
   "execution_count": null,
   "id": "c9140abc",
   "metadata": {},
   "outputs": [],
   "source": [
    "import re\n",
    "\n",
    "def _run_exp(\n",
    "        logger_name = 'lsuv 1',\n",
    "        layer_sizes = [1],\n",
    "        layer_drops = None,\n",
    "        default_drop = 0.0\n",
    "):\n",
    "    if layer_drops == None:\n",
    "        layer_drops = [default_drop for e in layer_sizes]\n",
    "        layer_drops[-1] = 0.0\n",
    "\n",
    "    num_layers = len(layer_sizes)\n",
    "    params     = {'num_layers':num_layers, \n",
    "                f\"in_1_of_{num_layers}\": (512)}\n",
    "    for i in range(num_layers):\n",
    "        params[f\"out_{ i + 1}_of_{num_layers}\"] = layer_sizes[i]\n",
    "        params[f\"drop_{ i + 1}_of_{num_layers}\"] = layer_drops[i]\n",
    "    \n",
    "    model = NeuralNetwork(parameterization = params).to(device)\n",
    "    # model(next(iter(training_dataloader))[1])[0:3, ]\n",
    "\n",
    "    if re.match(logger_name.lower(), '^lsuv*'):\n",
    "        LSUV_(model, data = next(iter(training_dataloader))[1] )\n",
    "        \n",
    "\n",
    "    DNNG = plDNN_general(model)     \n",
    "    optimizer = DNNG.configure_optimizers()\n",
    "\n",
    "    logger = TensorBoardLogger(\"tb_vnn_vae_emb\", name=logger_name)\n",
    "    trainer = pl.Trainer(max_epochs=max_epoch, logger=logger,\n",
    "                        callbacks=[EarlyStopping(monitor=\"val_loss\", mode=\"min\", patience=20)])\n",
    "    \n",
    "    trainer.fit(model=DNNG, train_dataloaders=training_dataloader, val_dataloaders=validation_dataloader)\n"
   ]
  },
  {
   "cell_type": "code",
   "execution_count": null,
   "id": "fdc90a9f",
   "metadata": {},
   "outputs": [],
   "source": [
    "_run_exp(\n",
    "        logger_name = 'no lsuv b512',\n",
    "        layer_sizes = [1],\n",
    "        layer_drops = None,\n",
    "        default_drop = 0.0\n",
    ")"
   ]
  },
  {
   "cell_type": "code",
   "execution_count": null,
   "metadata": {},
   "outputs": [],
   "source": [
    "for i in [1, 4, 32, 64, 128, 256, 512]:\n",
    "        _run_exp(\n",
    "                logger_name = f'no lsuv {i} 512',\n",
    "                layer_sizes = [i, 1],\n",
    "                layer_drops = None,\n",
    "                default_drop = 0.0\n",
    "        )"
   ]
  },
  {
   "cell_type": "code",
   "execution_count": null,
   "metadata": {},
   "outputs": [],
   "source": []
  },
  {
   "cell_type": "code",
   "execution_count": null,
   "id": "4e0d3fbd",
   "metadata": {},
   "outputs": [],
   "source": []
  },
  {
   "cell_type": "code",
   "execution_count": null,
   "metadata": {},
   "outputs": [],
   "source": [
    "# for reps in [2, 4, 8]:\n",
    "i = 256\n",
    "reps = 4\n",
    "\n",
    "_run_exp(\n",
    "        logger_name = f'no lsuv '+'-'.join([str(i) for ii in range(reps)])+'b512' ,\n",
    "        layer_sizes = [i for ii in range(reps)]+[1],\n",
    "        layer_drops = [0.00 for ii in range(reps)]+[0.0],\n",
    "        default_drop = 0.0\n",
    ")"
   ]
  },
  {
   "cell_type": "markdown",
   "id": "35b89d75",
   "metadata": {},
   "source": []
  },
  {
   "cell_type": "code",
   "execution_count": null,
   "metadata": {},
   "outputs": [],
   "source": [
    "_run_exp(\n",
    "        logger_name = f'no lsuv '+'-'.join([str(i) for ii in range(reps)])+' drop 3 b512' ,\n",
    "        layer_sizes = [i for ii in range(reps)]+[1],\n",
    "        layer_drops = [0.3 for ii in range(reps)]+[0.0],\n",
    "        default_drop = 0.0\n",
    ")"
   ]
  },
  {
   "cell_type": "code",
   "execution_count": null,
   "id": "a20d33e6",
   "metadata": {},
   "outputs": [],
   "source": []
  },
  {
   "cell_type": "code",
   "execution_count": null,
   "metadata": {},
   "outputs": [],
   "source": []
  },
  {
   "cell_type": "code",
   "execution_count": null,
   "id": "5c98f018",
   "metadata": {},
   "outputs": [],
   "source": [
    "# import time, json\n",
    "# save_time = time.strftime(\"%Y-%m-%d-%H-%M-%S\", time.localtime())\n",
    "\n",
    "# json_path = cache_path+''.join(['lookuap_dict','__'+save_time,'.json'])\n",
    "# with open(json_path, 'w', encoding='utf-8') as f: \n",
    "#     json.dump(new_lookup_dict, f, ensure_ascii=False, indent=4)    \n",
    "\n",
    "# pt_path = cache_path+''.join([save_prefix,'__'+save_time,'.pt'])\n",
    "\n",
    "# torch.save(plVVH.VNNVAEHelper, pt_path)"
   ]
  }
 ],
 "metadata": {
  "kernelspec": {
   "display_name": "python3",
   "language": "python",
   "name": "python3"
  },
  "language_info": {
   "codemirror_mode": {
    "name": "ipython",
    "version": 3
   },
   "file_extension": ".py",
   "mimetype": "text/x-python",
   "name": "python",
   "nbconvert_exporter": "python",
   "pygments_lexer": "ipython3",
   "version": "3.11.5"
  }
 },
 "nbformat": 4,
 "nbformat_minor": 5
}
