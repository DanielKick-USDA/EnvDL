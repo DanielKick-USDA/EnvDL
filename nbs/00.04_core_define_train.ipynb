{
 "cells": [
  {
   "cell_type": "markdown",
   "id": "3a7219b3",
   "metadata": {},
   "source": [
    "# Define Training Sets\n",
    "\n",
    "> This notebook contains functions to help create training and test sets on the fly."
   ]
  },
  {
   "cell_type": "code",
   "execution_count": null,
   "id": "32788a30",
   "metadata": {},
   "outputs": [],
   "source": [
    "#| default_exp sets"
   ]
  },
  {
   "cell_type": "code",
   "execution_count": null,
   "id": "ee97ed6a",
   "metadata": {},
   "outputs": [],
   "source": [
    "#| export\n",
    "import pandas as pd"
   ]
  },
  {
   "cell_type": "code",
   "execution_count": null,
   "id": "d2754a8c",
   "metadata": {},
   "outputs": [],
   "source": [
    "# The most flexible way to set up testing sets is as a set of booleans or indices. These can then be combined.\n",
    "\n",
    "# from dataG2F.core import get_data\n",
    "# phno = get_data('phno')\n"
   ]
  },
  {
   "cell_type": "markdown",
   "id": "7427a655",
   "metadata": {},
   "source": [
    "## Create masks for Test Sets"
   ]
  },
  {
   "cell_type": "code",
   "execution_count": null,
   "id": "16a7c46f",
   "metadata": {},
   "outputs": [],
   "source": [
    "#| export\n",
    "def mask_columns(df, # A dataframe containing the column to use for the mask\n",
    "                col_name = 'Hybrid', # Column containing the values in `holdouts`\n",
    "                holdouts = ['M0143/LH185', 'M0003/LH185'] # A list of values to match\n",
    "                ):\n",
    "    \"\"\"Create a dataframe containing one mask or more mask for a list of `holdouts`.\"\"\"\n",
    "    out = [pd.DataFrame(df.loc[:, col_name] == holdout\n",
    "            ).rename(columns = {col_name:holdout})\n",
    "            for holdout in holdouts]\n",
    "    \n",
    "    out = pd.concat(out, axis=1)\n",
    "    return out"
   ]
  },
  {
   "cell_type": "code",
   "execution_count": null,
   "id": "541b85ed",
   "metadata": {},
   "outputs": [],
   "source": [
    "from dataG2F.core import get_data"
   ]
  },
  {
   "cell_type": "code",
   "execution_count": null,
   "id": "21fa1a46",
   "metadata": {},
   "outputs": [
    {
     "data": {
      "text/html": [
       "<div>\n",
       "<style scoped>\n",
       "    .dataframe tbody tr th:only-of-type {\n",
       "        vertical-align: middle;\n",
       "    }\n",
       "\n",
       "    .dataframe tbody tr th {\n",
       "        vertical-align: top;\n",
       "    }\n",
       "\n",
       "    .dataframe thead th {\n",
       "        text-align: right;\n",
       "    }\n",
       "</style>\n",
       "<table border=\"1\" class=\"dataframe\">\n",
       "  <thead>\n",
       "    <tr style=\"text-align: right;\">\n",
       "      <th></th>\n",
       "      <th>Hybrid</th>\n",
       "      <th>Env</th>\n",
       "      <th>Year</th>\n",
       "    </tr>\n",
       "  </thead>\n",
       "  <tbody>\n",
       "    <tr>\n",
       "      <th>0</th>\n",
       "      <td>M0088/LH185</td>\n",
       "      <td>DEH1_2014</td>\n",
       "      <td>2014</td>\n",
       "    </tr>\n",
       "    <tr>\n",
       "      <th>1</th>\n",
       "      <td>M0143/LH185</td>\n",
       "      <td>DEH1_2014</td>\n",
       "      <td>2014</td>\n",
       "    </tr>\n",
       "    <tr>\n",
       "      <th>2</th>\n",
       "      <td>M0003/LH185</td>\n",
       "      <td>DEH1_2014</td>\n",
       "      <td>2014</td>\n",
       "    </tr>\n",
       "    <tr>\n",
       "      <th>3</th>\n",
       "      <td>M0035/LH185</td>\n",
       "      <td>DEH1_2014</td>\n",
       "      <td>2014</td>\n",
       "    </tr>\n",
       "    <tr>\n",
       "      <th>4</th>\n",
       "      <td>M0052/LH185</td>\n",
       "      <td>DEH1_2014</td>\n",
       "      <td>2014</td>\n",
       "    </tr>\n",
       "  </tbody>\n",
       "</table>\n",
       "</div>"
      ],
      "text/plain": [
       "        Hybrid        Env  Year\n",
       "0  M0088/LH185  DEH1_2014  2014\n",
       "1  M0143/LH185  DEH1_2014  2014\n",
       "2  M0003/LH185  DEH1_2014  2014\n",
       "3  M0035/LH185  DEH1_2014  2014\n",
       "4  M0052/LH185  DEH1_2014  2014"
      ]
     },
     "execution_count": null,
     "metadata": {},
     "output_type": "execute_result"
    }
   ],
   "source": [
    "df = get_data('phno').loc[:, ['Hybrid', 'Env', 'Year']]\n",
    "df.head()"
   ]
  },
  {
   "cell_type": "code",
   "execution_count": null,
   "id": "1acf12bf",
   "metadata": {},
   "outputs": [
    {
     "data": {
      "text/html": [
       "<div>\n",
       "<style scoped>\n",
       "    .dataframe tbody tr th:only-of-type {\n",
       "        vertical-align: middle;\n",
       "    }\n",
       "\n",
       "    .dataframe tbody tr th {\n",
       "        vertical-align: top;\n",
       "    }\n",
       "\n",
       "    .dataframe thead th {\n",
       "        text-align: right;\n",
       "    }\n",
       "</style>\n",
       "<table border=\"1\" class=\"dataframe\">\n",
       "  <thead>\n",
       "    <tr style=\"text-align: right;\">\n",
       "      <th></th>\n",
       "      <th>M0143/LH185</th>\n",
       "      <th>M0003/LH185</th>\n",
       "    </tr>\n",
       "  </thead>\n",
       "  <tbody>\n",
       "    <tr>\n",
       "      <th>0</th>\n",
       "      <td>False</td>\n",
       "      <td>False</td>\n",
       "    </tr>\n",
       "    <tr>\n",
       "      <th>1</th>\n",
       "      <td>True</td>\n",
       "      <td>False</td>\n",
       "    </tr>\n",
       "    <tr>\n",
       "      <th>2</th>\n",
       "      <td>False</td>\n",
       "      <td>True</td>\n",
       "    </tr>\n",
       "    <tr>\n",
       "      <th>3</th>\n",
       "      <td>False</td>\n",
       "      <td>False</td>\n",
       "    </tr>\n",
       "    <tr>\n",
       "      <th>4</th>\n",
       "      <td>False</td>\n",
       "      <td>False</td>\n",
       "    </tr>\n",
       "  </tbody>\n",
       "</table>\n",
       "</div>"
      ],
      "text/plain": [
       "   M0143/LH185  M0003/LH185\n",
       "0        False        False\n",
       "1         True        False\n",
       "2        False         True\n",
       "3        False        False\n",
       "4        False        False"
      ]
     },
     "execution_count": null,
     "metadata": {},
     "output_type": "execute_result"
    }
   ],
   "source": [
    "out = mask_columns(df, \n",
    "            col_name = 'Hybrid',\n",
    "            holdouts = ['M0143/LH185', 'M0003/LH185']\n",
    "            )\n",
    "out.head()"
   ]
  },
  {
   "cell_type": "code",
   "execution_count": null,
   "id": "3ecbacf8",
   "metadata": {},
   "outputs": [],
   "source": [
    "#| export\n",
    "def mask_parents(\n",
    "        df, # Dataframe containing a column with a genotype\n",
    "        col_name = 'Hybrid', # The genotype column name\n",
    "        holdout_parents = ['M0143'], # The genotype or genotypes that will be held out\n",
    "        sep = '/' # Separator between parents. If not present (inbred genotype) that's okay.\n",
    "    ):\n",
    "    \"\"\"Create a dataframe containing one mask or more based on a parent's genotype\"\"\"\n",
    "    def  _mask_parent(df_FM, holdout = 'PHZ51'):\n",
    "        holdout=   holdout.upper()\n",
    "        mask_F = df_FM.F.str.upper() == holdout\n",
    "        mask_M = df_FM.M.str.upper() == holdout\n",
    "        mask = (mask_F | mask_M)\n",
    "        return mask\n",
    "\n",
    "    df[['F', 'M']] = df[col_name].str.split(sep, n=1, expand=True)\n",
    "    mask = pd.concat([_mask_parent(df_FM=df, holdout=e) for e in holdout_parents], axis=1\n",
    "            ).rename(columns={i:holdout_parents[i] for i in range(len(holdout_parents))})\n",
    "    return mask"
   ]
  },
  {
   "cell_type": "code",
   "execution_count": null,
   "id": "57c91b1b",
   "metadata": {},
   "outputs": [
    {
     "data": {
      "text/html": [
       "<div>\n",
       "<style scoped>\n",
       "    .dataframe tbody tr th:only-of-type {\n",
       "        vertical-align: middle;\n",
       "    }\n",
       "\n",
       "    .dataframe tbody tr th {\n",
       "        vertical-align: top;\n",
       "    }\n",
       "\n",
       "    .dataframe thead th {\n",
       "        text-align: right;\n",
       "    }\n",
       "</style>\n",
       "<table border=\"1\" class=\"dataframe\">\n",
       "  <thead>\n",
       "    <tr style=\"text-align: right;\">\n",
       "      <th></th>\n",
       "      <th>M0143</th>\n",
       "      <th>LH185</th>\n",
       "    </tr>\n",
       "  </thead>\n",
       "  <tbody>\n",
       "    <tr>\n",
       "      <th>0</th>\n",
       "      <td>False</td>\n",
       "      <td>True</td>\n",
       "    </tr>\n",
       "    <tr>\n",
       "      <th>1</th>\n",
       "      <td>True</td>\n",
       "      <td>True</td>\n",
       "    </tr>\n",
       "    <tr>\n",
       "      <th>2</th>\n",
       "      <td>False</td>\n",
       "      <td>True</td>\n",
       "    </tr>\n",
       "    <tr>\n",
       "      <th>3</th>\n",
       "      <td>False</td>\n",
       "      <td>True</td>\n",
       "    </tr>\n",
       "    <tr>\n",
       "      <th>4</th>\n",
       "      <td>False</td>\n",
       "      <td>True</td>\n",
       "    </tr>\n",
       "  </tbody>\n",
       "</table>\n",
       "</div>"
      ],
      "text/plain": [
       "   M0143  LH185\n",
       "0  False   True\n",
       "1   True   True\n",
       "2  False   True\n",
       "3  False   True\n",
       "4  False   True"
      ]
     },
     "execution_count": null,
     "metadata": {},
     "output_type": "execute_result"
    }
   ],
   "source": [
    "out = mask_parents(\n",
    "        df = df,\n",
    "        col_name = 'Hybrid',\n",
    "        holdout_parents = ['M0143', 'LH185'],\n",
    "        sep = '/'        \n",
    "    )\n",
    "out.head()"
   ]
  },
  {
   "cell_type": "markdown",
   "id": "ed694de5",
   "metadata": {},
   "source": [
    "To use these dataframes there are a few tricks to know.\n",
    "\n",
    "The test set should contain _any_ of the rows that are flagged as true. To do that the steps are\n",
    "1. Use the rowwise sum to get the logical OR of the columns\n",
    "1. Check if the sum is above 0 to get a boolean"
   ]
  },
  {
   "cell_type": "code",
   "execution_count": null,
   "id": "f30a3d0e",
   "metadata": {},
   "outputs": [
    {
     "name": "stdout",
     "output_type": "stream",
     "text": [
      "Testing Set\n"
     ]
    },
    {
     "data": {
      "text/plain": [
       "0    True\n",
       "1    True\n",
       "2    True\n",
       "3    True\n",
       "4    True\n",
       "dtype: bool"
      ]
     },
     "execution_count": null,
     "metadata": {},
     "output_type": "execute_result"
    }
   ],
   "source": [
    "print('Testing Set')\n",
    "(out.sum(axis=1) > 0).head()"
   ]
  },
  {
   "cell_type": "markdown",
   "id": "32592dd8",
   "metadata": {},
   "source": [
    "If the training set should contain _nothing_ that is included in the test set. To do that the steps are\n",
    "1. Invert the mask dataframe\n",
    "1. Use the rowwise product to get the logical AND of the columns. \n",
    "1. Check equivalence to 1 to get a boolean"
   ]
  },
  {
   "cell_type": "code",
   "execution_count": null,
   "id": "59ae84e4",
   "metadata": {},
   "outputs": [
    {
     "name": "stdout",
     "output_type": "stream",
     "text": [
      "Training Set\n"
     ]
    },
    {
     "data": {
      "text/plain": [
       "0    False\n",
       "1    False\n",
       "2    False\n",
       "3    False\n",
       "4    False\n",
       "dtype: bool"
      ]
     },
     "execution_count": null,
     "metadata": {},
     "output_type": "execute_result"
    }
   ],
   "source": [
    "print('Training Set')\n",
    "((~out).prod(axis=1) == 1).head()"
   ]
  },
  {
   "cell_type": "markdown",
   "id": "958a4df5",
   "metadata": {},
   "source": [
    "## More complex validation schemes"
   ]
  },
  {
   "cell_type": "markdown",
   "id": "e5c38973",
   "metadata": {},
   "source": [
    "To get a train, validate, and test sets one option would be to get a mask, filter the dataframe, and get a new mask. This risks the indices changing if one isn't careful. Thus I recommend producing several masks on the original dataframe and then combine them to get the desired sets."
   ]
  },
  {
   "cell_type": "code",
   "execution_count": null,
   "id": "e673c263",
   "metadata": {},
   "outputs": [],
   "source": [
    "mask_2014 = mask_columns(\n",
    "    df, \n",
    "    col_name = 'Year',\n",
    "    holdouts = [2014]\n",
    "    ).sum(axis=1) > 0\n",
    "\n",
    "\n",
    "mask_2015 = mask_columns(\n",
    "    df, \n",
    "    col_name = 'Year',\n",
    "    holdouts = [2015]\n",
    "    ).sum(axis=1) > 0"
   ]
  },
  {
   "cell_type": "code",
   "execution_count": null,
   "id": "47950235",
   "metadata": {},
   "outputs": [],
   "source": [
    "mask_train    = (~mask_2014 & ~mask_2015) # train on all but 2014, 2015\n",
    "mask_validate = (~mask_2014 &  mask_2015) # validate on 2015. Here `~mask_2014` isn't needed, but \n",
    "                                          # for more complex masks this pattern should be used.\n",
    "mask_retrain  = (~mask_2014)              # retrain on all but 2014\n",
    "mask_test     = ( mask_2014)              # test on 2014"
   ]
  },
  {
   "cell_type": "code",
   "execution_count": null,
   "id": "90af387d",
   "metadata": {},
   "outputs": [],
   "source": []
  },
  {
   "cell_type": "code",
   "execution_count": null,
   "id": "c3d78ab1",
   "metadata": {},
   "outputs": [],
   "source": []
  },
  {
   "cell_type": "code",
   "execution_count": null,
   "id": "b659c93b",
   "metadata": {},
   "outputs": [],
   "source": [
    "#| hide\n",
    "import nbdev; nbdev.nbdev_export()"
   ]
  }
 ],
 "metadata": {
  "kernelspec": {
   "display_name": "python3",
   "language": "python",
   "name": "python3"
  }
 },
 "nbformat": 4,
 "nbformat_minor": 5
}
