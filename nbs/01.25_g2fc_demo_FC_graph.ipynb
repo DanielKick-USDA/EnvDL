{
 "cells": [
  {
   "cell_type": "markdown",
   "id": "7aadccc0",
   "metadata": {},
   "source": [
    "# Demonstrate building a FC network with arbitrary graph structure\n",
    "\n",
    "> This is the foundation for building a network based on gene pathways or similar."
   ]
  },
  {
   "cell_type": "code",
   "execution_count": null,
   "id": "0bc2f33b",
   "metadata": {},
   "outputs": [
    {
     "name": "stdout",
     "output_type": "stream",
     "text": [
      "Using cuda device\n"
     ]
    }
   ],
   "source": [
    "import os\n",
    "\n",
    "import numpy as np\n",
    "import pandas as pd\n",
    "\n",
    "import plotly.express as px\n",
    "import plotly.io as pio\n",
    "pio.templates.default = \"plotly_white\"\n",
    "\n",
    "from tqdm import tqdm\n",
    "\n",
    "import torch\n",
    "from torch.utils.data import Dataset\n",
    "from torch.utils.data import DataLoader\n",
    "from torch import nn\n",
    "\n",
    "from graphviz import Digraph\n",
    "import torchviz\n",
    "\n",
    "device = \"cuda\" if torch.cuda.is_available() else \"cpu\"\n",
    "print(f\"Using {device} device\")\n",
    "\n",
    "# Functions pulled from EnvDL.dlfn ----\n",
    "def train_error_yx(dataloader, model, loss_fn, silent = False):\n",
    "    import torch\n",
    "    from torch.utils.data import Dataset\n",
    "    from torch.utils.data import DataLoader\n",
    "    size = len(dataloader.dataset)\n",
    "    num_batches = len(dataloader)\n",
    "    train_loss = 0\n",
    "\n",
    "    with torch.no_grad():\n",
    "        for y_i, xs_i in dataloader:\n",
    "            pred = model(xs_i)\n",
    "            \n",
    "            # ensure both are on cuda\n",
    "            if pred.device.type == 'cpu':\n",
    "                pred = pred.to('cuda')\n",
    "            if y_i.device.type == 'cpu':\n",
    "                y_i = y_i.to('cuda')\n",
    "            \n",
    "            train_loss += loss_fn(pred, y_i).item()\n",
    "            \n",
    "    train_loss /= num_batches\n",
    "    return(train_loss)\n",
    "\n",
    "def train_loop_yx(dataloader, model, loss_fn, optimizer, silent = False):\n",
    "    import torch\n",
    "    from torch.utils.data import Dataset\n",
    "    from torch.utils.data import DataLoader\n",
    "    size = len(dataloader.dataset)\n",
    "    for batch, (y_i, xs_i) in enumerate(dataloader):\n",
    "        # Compute prediction and loss\n",
    "        pred = model(xs_i)\n",
    "        \n",
    "        # ensure both are on cuda\n",
    "        if pred.device.type == 'cpu':\n",
    "            pred = pred.to('cuda')\n",
    "        if y_i.device.type == 'cpu':\n",
    "            y_i = y_i.to('cuda')\n",
    "        \n",
    "        loss = loss_fn(pred, y_i)\n",
    "        \n",
    "        # Backpropagation\n",
    "        optimizer.zero_grad()\n",
    "        loss.backward()\n",
    "        optimizer.step()\n",
    "\n",
    "        if batch % 100 == 0:\n",
    "            loss, current = loss.item(), batch * len(y_i) \n",
    "            if not silent:\n",
    "                print(f\"loss: {loss:>7f}  [{current:>5d}/{size:>5d}]\")\n",
    "\n",
    "def test_loop_yx(dataloader, model, loss_fn, silent = False):\n",
    "    import torch\n",
    "    from torch.utils.data import Dataset\n",
    "    from torch.utils.data import DataLoader\n",
    "    \n",
    "    size = len(dataloader.dataset)\n",
    "    num_batches = len(dataloader)\n",
    "    test_loss = 0\n",
    "\n",
    "    with torch.no_grad():\n",
    "        for y_i, xs_i in dataloader:\n",
    "            pred = model(xs_i)\n",
    "            \n",
    "            # ensure both are on cuda\n",
    "            if pred.device.type == 'cpu':\n",
    "                pred = pred.to('cuda')\n",
    "            if y_i.device.type == 'cpu':\n",
    "                y_i = y_i.to('cuda')\n",
    "                \n",
    "            test_loss += loss_fn(pred, y_i).item() \n",
    "\n",
    "    test_loss /= num_batches\n",
    "    if not silent:\n",
    "        print(f\"Test Error: Avg loss: {test_loss:>8f}\")\n",
    "    return(test_loss)\n",
    "\n",
    "def train_nn_yx(\n",
    "    training_dataloader,\n",
    "    testing_dataloader,\n",
    "    model,\n",
    "    batch_size = 64,\n",
    "    epochs = 500,\n",
    "    model_prefix = 'model',\n",
    "    save_model = False,\n",
    "    **kwargs # can include 'silent' for train loop or 'save_on' for saving frequency\n",
    "):\n",
    "    import numpy as np\n",
    "    import pandas as pd\n",
    "    import torch\n",
    "    from torch import nn\n",
    "    from tqdm import tqdm\n",
    "    \n",
    "    if 'optimizer' not in kwargs:\n",
    "        optimizer = torch.optim.SGD(model.parameters(), lr=kwargs['learning_rate'])\n",
    "    else:\n",
    "        optimizer = kwargs['optimizer']\n",
    "        \n",
    "    if 'save_on' in kwargs:\n",
    "        save_on = kwargs['save_on']\n",
    "    else:\n",
    "        save_on = 5       \n",
    "    \n",
    "    # Initialize the loss function\n",
    "    loss_fn = nn.MSELoss()     \n",
    "\n",
    "    loss_df = pd.DataFrame([i for i in range(epochs)], columns = ['Epoch'])\n",
    "    loss_df['TrainMSE'] = np.nan\n",
    "    loss_df['TestMSE']  = np.nan\n",
    "\n",
    "    for t in tqdm(range(epochs)):        \n",
    "        if 'silent' in kwargs:\n",
    "            train_loop_yx(training_dataloader, model, loss_fn, optimizer, silent = kwargs['silent'])\n",
    "        else:\n",
    "            train_loop_yx(training_dataloader, model, loss_fn, optimizer, silent = True)\n",
    "\n",
    "        loss_df.loc[loss_df.index == t, 'TrainMSE'\n",
    "                   ] = train_error_yx(training_dataloader, model, loss_fn, silent = True)\n",
    "        \n",
    "        loss_df.loc[loss_df.index == t, 'TestMSE'\n",
    "                   ] = test_loop_yx(testing_dataloader, model, loss_fn, silent = True)\n",
    "                \n",
    "    return([model, loss_df])"
   ]
  },
  {
   "cell_type": "markdown",
   "id": "d34a8133",
   "metadata": {},
   "source": [
    "## Example Data"
   ]
  },
  {
   "cell_type": "code",
   "execution_count": null,
   "id": "6daee05c",
   "metadata": {},
   "outputs": [],
   "source": []
  },
  {
   "cell_type": "code",
   "execution_count": null,
   "id": "2d2e0439",
   "metadata": {},
   "outputs": [],
   "source": [
    "n_obs = 100 # 100 obs for each group\n",
    "y_true = torch.from_numpy(np.concatenate([\n",
    "        np.zeros((n_obs, )),\n",
    "        np.ones( (n_obs, ))], 0)) + .1* torch.rand(2*n_obs,)"
   ]
  },
  {
   "cell_type": "code",
   "execution_count": null,
   "id": "88b24fe9",
   "metadata": {},
   "outputs": [],
   "source": [
    "input_tensor_dict = {\n",
    "    'a1_input': torch.from_numpy(np.concatenate([\n",
    "        np.zeros((n_obs, 4, 3)),\n",
    "        np.ones( (n_obs, 4, 3))], 0)),\n",
    "    'a2_input': torch.from_numpy(np.concatenate([\n",
    "        np.zeros((n_obs, 4, 2)),  \n",
    "        np.ones( (n_obs, 4, 2))], 0))}\n",
    "\n",
    "x_list_temp = [input_tensor_dict[key].to(torch.float) for key in input_tensor_dict.keys()]"
   ]
  },
  {
   "cell_type": "code",
   "execution_count": null,
   "id": "615bc40e",
   "metadata": {},
   "outputs": [],
   "source": [
    "class ListDataset(Dataset): \n",
    "    def __init__(self, \n",
    "                 y, \n",
    "                 x_list,\n",
    "                 transform = None, target_transform = None,\n",
    "                 **kwargs \n",
    "                ):\n",
    "        self.device = device\n",
    "        self.y = y \n",
    "        self.x_list = x_list\n",
    "        self.transform = transform\n",
    "        self.target_transform = target_transform    \n",
    "        \n",
    "    def __len__(self):\n",
    "        return len(self.y)\n",
    "    \n",
    "    def __getitem__(self, idx):\n",
    "        y_idx =self.y[idx]\n",
    "        x_idx =[x[idx, ] for x in self.x_list] \n",
    "        if self.target_transform:\n",
    "            y_idx = self.transform(y_idx)\n",
    "            x_idx = [self.transform(x) for x in x_idx]\n",
    "            \n",
    "        return y_idx, x_idx\n",
    "    \n",
    "training_dataloader = DataLoader(ListDataset(\n",
    "        y = y_true[:, None].to(torch.float32),\n",
    "        x_list = [e.to(torch.float32) for e in x_list_temp]\n",
    "    ),\n",
    "    batch_size = 20,\n",
    "    shuffle = True)"
   ]
  },
  {
   "cell_type": "markdown",
   "id": "bc4a4118",
   "metadata": {},
   "source": [
    "## Define example graph"
   ]
  },
  {
   "cell_type": "code",
   "execution_count": null,
   "id": "ac137c79",
   "metadata": {},
   "outputs": [],
   "source": [
    "# kegg_connections = {\n",
    "#     'y_hat':['c1', 'c2'],\n",
    "#     'c1':['b1'],\n",
    "#     'c2':['b2'],\n",
    "#     'b1':['a1_input', 'b2'],\n",
    "#     'b2':['a2_input'],\n",
    "#     'a1_input': [],\n",
    "#     'a2_input': []\n",
    "# }\n",
    "\n",
    "kegg_connections = {\n",
    "    'y_hat':['c1', 'c2', 'b2'],\n",
    "    'c1':['b1'],\n",
    "    'c2':['b2'],\n",
    "    'b1':['a1_input', 'b2'],\n",
    "    'b2':['a2_input'],\n",
    "    'a1_input': [],\n",
    "    'a2_input': []\n",
    "}"
   ]
  },
  {
   "cell_type": "code",
   "execution_count": null,
   "id": "369457ac",
   "metadata": {},
   "outputs": [
    {
     "name": "stderr",
     "output_type": "stream",
     "text": [
      "100%|██████████| 7/7 [00:00<00:00, 73584.28it/s]\n"
     ]
    },
    {
     "data": {
      "image/svg+xml": [
       "<?xml version=\"1.0\" encoding=\"UTF-8\" standalone=\"no\"?>\n",
       "<!DOCTYPE svg PUBLIC \"-//W3C//DTD SVG 1.1//EN\"\n",
       " \"http://www.w3.org/Graphics/SVG/1.1/DTD/svg11.dtd\">\n",
       "<!-- Generated by graphviz version 2.50.0 (0)\n",
       " -->\n",
       "<!-- Pages: 1 -->\n",
       "<svg width=\"205pt\" height=\"332pt\"\n",
       " viewBox=\"0.00 0.00 205.39 332.00\" xmlns=\"http://www.w3.org/2000/svg\" xmlns:xlink=\"http://www.w3.org/1999/xlink\">\n",
       "<g id=\"graph0\" class=\"graph\" transform=\"scale(1 1) rotate(0) translate(4 328)\">\n",
       "<polygon fill=\"white\" stroke=\"transparent\" points=\"-4,4 -4,-328 201.39,-328 201.39,4 -4,4\"/>\n",
       "<!-- y_hat -->\n",
       "<g id=\"node1\" class=\"node\">\n",
       "<title>y_hat</title>\n",
       "<ellipse fill=\"none\" stroke=\"black\" cx=\"66.7\" cy=\"-18\" rx=\"36\" ry=\"18\"/>\n",
       "<text text-anchor=\"middle\" x=\"66.7\" y=\"-14.3\" font-family=\"Times,serif\" font-size=\"14.00\">y_hat</text>\n",
       "</g>\n",
       "<!-- c1 -->\n",
       "<g id=\"node2\" class=\"node\">\n",
       "<title>c1</title>\n",
       "<ellipse fill=\"none\" stroke=\"black\" cx=\"138.7\" cy=\"-90\" rx=\"27\" ry=\"18\"/>\n",
       "<text text-anchor=\"middle\" x=\"138.7\" y=\"-86.3\" font-family=\"Times,serif\" font-size=\"14.00\">c1</text>\n",
       "</g>\n",
       "<!-- c1&#45;&gt;y_hat -->\n",
       "<g id=\"edge1\" class=\"edge\">\n",
       "<title>c1&#45;&gt;y_hat</title>\n",
       "<path fill=\"none\" stroke=\"black\" d=\"M124.13,-74.83C114.31,-65.29 101.15,-52.5 89.91,-41.57\"/>\n",
       "<polygon fill=\"black\" stroke=\"black\" points=\"92.1,-38.82 82.49,-34.36 87.22,-43.84 92.1,-38.82\"/>\n",
       "</g>\n",
       "<!-- c2 -->\n",
       "<g id=\"node3\" class=\"node\">\n",
       "<title>c2</title>\n",
       "<ellipse fill=\"none\" stroke=\"black\" cx=\"66.7\" cy=\"-90\" rx=\"27\" ry=\"18\"/>\n",
       "<text text-anchor=\"middle\" x=\"66.7\" y=\"-86.3\" font-family=\"Times,serif\" font-size=\"14.00\">c2</text>\n",
       "</g>\n",
       "<!-- c2&#45;&gt;y_hat -->\n",
       "<g id=\"edge2\" class=\"edge\">\n",
       "<title>c2&#45;&gt;y_hat</title>\n",
       "<path fill=\"none\" stroke=\"black\" d=\"M66.7,-71.7C66.7,-63.98 66.7,-54.71 66.7,-46.11\"/>\n",
       "<polygon fill=\"black\" stroke=\"black\" points=\"70.2,-46.1 66.7,-36.1 63.2,-46.1 70.2,-46.1\"/>\n",
       "</g>\n",
       "<!-- b2 -->\n",
       "<g id=\"node4\" class=\"node\">\n",
       "<title>b2</title>\n",
       "<ellipse fill=\"none\" stroke=\"black\" cx=\"50.7\" cy=\"-234\" rx=\"27\" ry=\"18\"/>\n",
       "<text text-anchor=\"middle\" x=\"50.7\" y=\"-230.3\" font-family=\"Times,serif\" font-size=\"14.00\">b2</text>\n",
       "</g>\n",
       "<!-- b2&#45;&gt;y_hat -->\n",
       "<g id=\"edge3\" class=\"edge\">\n",
       "<title>b2&#45;&gt;y_hat</title>\n",
       "<path fill=\"none\" stroke=\"black\" d=\"M44.09,-216.14C33.41,-186.39 15.05,-122.88 30.7,-72 33.88,-61.63 39.86,-51.48 46.05,-42.87\"/>\n",
       "<polygon fill=\"black\" stroke=\"black\" points=\"48.9,-44.9 52.21,-34.83 43.35,-40.64 48.9,-44.9\"/>\n",
       "</g>\n",
       "<!-- b2&#45;&gt;c2 -->\n",
       "<g id=\"edge5\" class=\"edge\">\n",
       "<title>b2&#45;&gt;c2</title>\n",
       "<path fill=\"none\" stroke=\"black\" d=\"M52.63,-215.87C55.35,-191.67 60.36,-147.21 63.61,-118.39\"/>\n",
       "<polygon fill=\"black\" stroke=\"black\" points=\"67.12,-118.52 64.76,-108.19 60.16,-117.73 67.12,-118.52\"/>\n",
       "</g>\n",
       "<!-- b1 -->\n",
       "<g id=\"node5\" class=\"node\">\n",
       "<title>b1</title>\n",
       "<ellipse fill=\"none\" stroke=\"black\" cx=\"138.7\" cy=\"-162\" rx=\"27\" ry=\"18\"/>\n",
       "<text text-anchor=\"middle\" x=\"138.7\" y=\"-158.3\" font-family=\"Times,serif\" font-size=\"14.00\">b1</text>\n",
       "</g>\n",
       "<!-- b2&#45;&gt;b1 -->\n",
       "<g id=\"edge7\" class=\"edge\">\n",
       "<title>b2&#45;&gt;b1</title>\n",
       "<path fill=\"none\" stroke=\"black\" d=\"M67.66,-219.5C80.77,-209.08 99.11,-194.49 113.87,-182.75\"/>\n",
       "<polygon fill=\"black\" stroke=\"black\" points=\"116.43,-185.18 122.08,-176.22 112.07,-179.7 116.43,-185.18\"/>\n",
       "</g>\n",
       "<!-- b1&#45;&gt;c1 -->\n",
       "<g id=\"edge4\" class=\"edge\">\n",
       "<title>b1&#45;&gt;c1</title>\n",
       "<path fill=\"none\" stroke=\"black\" d=\"M138.7,-143.7C138.7,-135.98 138.7,-126.71 138.7,-118.11\"/>\n",
       "<polygon fill=\"black\" stroke=\"black\" points=\"142.2,-118.1 138.7,-108.1 135.2,-118.1 142.2,-118.1\"/>\n",
       "</g>\n",
       "<!-- a1_input -->\n",
       "<g id=\"node6\" class=\"node\">\n",
       "<title>a1_input</title>\n",
       "<ellipse fill=\"none\" stroke=\"black\" cx=\"146.7\" cy=\"-234\" rx=\"50.89\" ry=\"18\"/>\n",
       "<text text-anchor=\"middle\" x=\"146.7\" y=\"-230.3\" font-family=\"Times,serif\" font-size=\"14.00\">a1_input</text>\n",
       "</g>\n",
       "<!-- a1_input&#45;&gt;b1 -->\n",
       "<g id=\"edge6\" class=\"edge\">\n",
       "<title>a1_input&#45;&gt;b1</title>\n",
       "<path fill=\"none\" stroke=\"black\" d=\"M144.72,-215.7C143.84,-207.98 142.78,-198.71 141.79,-190.11\"/>\n",
       "<polygon fill=\"black\" stroke=\"black\" points=\"145.26,-189.64 140.65,-180.1 138.31,-190.44 145.26,-189.64\"/>\n",
       "</g>\n",
       "<!-- a2_input -->\n",
       "<g id=\"node7\" class=\"node\">\n",
       "<title>a2_input</title>\n",
       "<ellipse fill=\"none\" stroke=\"black\" cx=\"50.7\" cy=\"-306\" rx=\"50.89\" ry=\"18\"/>\n",
       "<text text-anchor=\"middle\" x=\"50.7\" y=\"-302.3\" font-family=\"Times,serif\" font-size=\"14.00\">a2_input</text>\n",
       "</g>\n",
       "<!-- a2_input&#45;&gt;b2 -->\n",
       "<g id=\"edge8\" class=\"edge\">\n",
       "<title>a2_input&#45;&gt;b2</title>\n",
       "<path fill=\"none\" stroke=\"black\" d=\"M50.7,-287.7C50.7,-279.98 50.7,-270.71 50.7,-262.11\"/>\n",
       "<polygon fill=\"black\" stroke=\"black\" points=\"54.2,-262.1 50.7,-252.1 47.2,-262.1 54.2,-262.1\"/>\n",
       "</g>\n",
       "</g>\n",
       "</svg>\n"
      ],
      "text/plain": [
       "<graphviz.graphs.Digraph>"
      ]
     },
     "execution_count": null,
     "metadata": {},
     "output_type": "execute_result"
    }
   ],
   "source": [
    "dot = Digraph()\n",
    "for key in tqdm(kegg_connections.keys()):\n",
    "    dot.node(key)\n",
    "    for value in kegg_connections[key]:\n",
    "        # edge takes a head/tail whereas edges takes name pairs concatenated (A, B -> AB)in a list\n",
    "        dot.edge(value, key)    \n",
    "\n",
    "dot"
   ]
  },
  {
   "cell_type": "markdown",
   "id": "0eb31376",
   "metadata": {},
   "source": [
    "Version with the node names masked for size "
   ]
  },
  {
   "cell_type": "code",
   "execution_count": null,
   "id": "b0a4526f",
   "metadata": {},
   "outputs": [
    {
     "data": {
      "text/plain": [
       "['a1_input', 'a2_input', 'b1', 'b2', 'c1', 'c2', 'y_hat']"
      ]
     },
     "execution_count": null,
     "metadata": {},
     "output_type": "execute_result"
    }
   ],
   "source": [
    "node_list = list(kegg_connections.keys())\n",
    "for e in kegg_connections.keys():\n",
    "    node_list += kegg_connections[e]\n",
    "    \n",
    "node_list = list(set(node_list))\n",
    "node_list.sort()\n",
    "node_list"
   ]
  },
  {
   "cell_type": "code",
   "execution_count": null,
   "id": "09eea941",
   "metadata": {},
   "outputs": [
    {
     "data": {
      "text/plain": [
       "{'a1_input': 20,\n",
       " 'a2_input': 20,\n",
       " 'b1': 20,\n",
       " 'b2': 20,\n",
       " 'c1': 20,\n",
       " 'c2': 20,\n",
       " 'y_hat': 1}"
      ]
     },
     "execution_count": null,
     "metadata": {},
     "output_type": "execute_result"
    }
   ],
   "source": [
    "default_output_size = 20\n",
    "output_size_dict = dict(zip(node_list, \n",
    "                        [default_output_size for i in range(len(node_list))]))\n",
    "output_size_dict['y_hat'] = 1 \n",
    "output_size_dict"
   ]
  },
  {
   "cell_type": "code",
   "execution_count": null,
   "id": "973bfde8",
   "metadata": {},
   "outputs": [
    {
     "name": "stderr",
     "output_type": "stream",
     "text": [
      "100%|██████████| 7/7 [00:00<00:00, 152917.33it/s]\n",
      "100%|██████████| 7/7 [00:00<00:00, 70239.54it/s]\n"
     ]
    }
   ],
   "source": [
    "input_size_dict = kegg_connections.copy()\n",
    "\n",
    "no_dependants = [e for e in kegg_connections.keys() if kegg_connections[e] == []]\n",
    "\n",
    "# use the expected output sizes from `output_size_dict` to fill in the non-data sizes\n",
    "tensor_ndim = len(input_tensor_dict[list(input_tensor_dict.keys())[0]].shape)\n",
    "for e in tqdm(input_size_dict.keys()):\n",
    "    # overwrite named connections with the output size of those connections\n",
    "    # if the entry is in no_dependants it's data so it's size needs to be grabbed from the input_tensor_dict\n",
    "    input_size_dict[e] = [\n",
    "        (list(input_tensor_dict[ee].shape)[1]*list(input_tensor_dict[ee].shape)[2]) # <- NOTE! THIS ASSUMES ONLY DENSE CONNECTIONS (i.e. only the 1st dim is needed)  \n",
    "        if ee in no_dependants\n",
    "        else output_size_dict[ee] for ee in input_size_dict[e]]\n",
    "\n",
    "# Now walk over entries and overwrite with the sum of the inputs\n",
    "for e in tqdm(input_size_dict.keys()):\n",
    "    input_size_dict[e] = np.sum(input_size_dict[e])"
   ]
  },
  {
   "cell_type": "code",
   "execution_count": null,
   "id": "e72c2983",
   "metadata": {},
   "outputs": [
    {
     "data": {
      "text/plain": [
       "{'y_hat': 60,\n",
       " 'c1': 20,\n",
       " 'c2': 20,\n",
       " 'b1': 32,\n",
       " 'b2': 8,\n",
       " 'a1_input': 0.0,\n",
       " 'a2_input': 0.0}"
      ]
     },
     "execution_count": null,
     "metadata": {},
     "output_type": "execute_result"
    }
   ],
   "source": [
    "input_size_dict"
   ]
  },
  {
   "cell_type": "code",
   "execution_count": null,
   "id": "f1935bd5",
   "metadata": {},
   "outputs": [
    {
     "name": "stderr",
     "output_type": "stream",
     "text": [
      "100%|██████████| 7/7 [00:00<00:00, 46976.20it/s]\n"
     ]
    },
    {
     "data": {
      "image/svg+xml": [
       "<?xml version=\"1.0\" encoding=\"UTF-8\" standalone=\"no\"?>\n",
       "<!DOCTYPE svg PUBLIC \"-//W3C//DTD SVG 1.1//EN\"\n",
       " \"http://www.w3.org/Graphics/SVG/1.1/DTD/svg11.dtd\">\n",
       "<!-- Generated by graphviz version 2.50.0 (0)\n",
       " -->\n",
       "<!-- Pages: 1 -->\n",
       "<svg width=\"244pt\" height=\"527pt\"\n",
       " viewBox=\"0.00 0.00 243.62 526.77\" xmlns=\"http://www.w3.org/2000/svg\" xmlns:xlink=\"http://www.w3.org/1999/xlink\">\n",
       "<g id=\"graph0\" class=\"graph\" transform=\"scale(1 1) rotate(0) translate(4 522.77)\">\n",
       "<polygon fill=\"white\" stroke=\"transparent\" points=\"-4,4 -4,-522.77 239.62,-522.77 239.62,4 -4,4\"/>\n",
       "<!-- y_hat -->\n",
       "<g id=\"node1\" class=\"node\">\n",
       "<title>y_hat</title>\n",
       "<ellipse fill=\"none\" stroke=\"black\" cx=\"65.46\" cy=\"-37.48\" rx=\"41.02\" ry=\"37.45\"/>\n",
       "<text text-anchor=\"middle\" x=\"65.46\" y=\"-48.78\" font-family=\"Times,serif\" font-size=\"14.00\">y_hat</text>\n",
       "<text text-anchor=\"middle\" x=\"65.46\" y=\"-33.78\" font-family=\"Times,serif\" font-size=\"14.00\">in: 60</text>\n",
       "<text text-anchor=\"middle\" x=\"65.46\" y=\"-18.78\" font-family=\"Times,serif\" font-size=\"14.00\">out: 1</text>\n",
       "</g>\n",
       "<!-- c1 -->\n",
       "<g id=\"node2\" class=\"node\">\n",
       "<title>c1</title>\n",
       "<ellipse fill=\"none\" stroke=\"black\" cx=\"178.46\" cy=\"-148.43\" rx=\"47.25\" ry=\"37.45\"/>\n",
       "<text text-anchor=\"middle\" x=\"178.46\" y=\"-159.73\" font-family=\"Times,serif\" font-size=\"14.00\">c1</text>\n",
       "<text text-anchor=\"middle\" x=\"178.46\" y=\"-144.73\" font-family=\"Times,serif\" font-size=\"14.00\">in: 20</text>\n",
       "<text text-anchor=\"middle\" x=\"178.46\" y=\"-129.73\" font-family=\"Times,serif\" font-size=\"14.00\">out: 20</text>\n",
       "</g>\n",
       "<!-- c1&#45;&gt;y_hat -->\n",
       "<g id=\"edge1\" class=\"edge\">\n",
       "<title>c1&#45;&gt;y_hat</title>\n",
       "<path fill=\"none\" stroke=\"black\" d=\"M148.77,-118.8C134.05,-104.61 116.17,-87.36 100.75,-72.5\"/>\n",
       "<polygon fill=\"black\" stroke=\"black\" points=\"103.03,-69.83 93.4,-65.41 98.17,-74.87 103.03,-69.83\"/>\n",
       "</g>\n",
       "<!-- c2 -->\n",
       "<g id=\"node3\" class=\"node\">\n",
       "<title>c2</title>\n",
       "<ellipse fill=\"none\" stroke=\"black\" cx=\"65.46\" cy=\"-148.43\" rx=\"47.25\" ry=\"37.45\"/>\n",
       "<text text-anchor=\"middle\" x=\"65.46\" y=\"-159.73\" font-family=\"Times,serif\" font-size=\"14.00\">c2</text>\n",
       "<text text-anchor=\"middle\" x=\"65.46\" y=\"-144.73\" font-family=\"Times,serif\" font-size=\"14.00\">in: 20</text>\n",
       "<text text-anchor=\"middle\" x=\"65.46\" y=\"-129.73\" font-family=\"Times,serif\" font-size=\"14.00\">out: 20</text>\n",
       "</g>\n",
       "<!-- c2&#45;&gt;y_hat -->\n",
       "<g id=\"edge2\" class=\"edge\">\n",
       "<title>c2&#45;&gt;y_hat</title>\n",
       "<path fill=\"none\" stroke=\"black\" d=\"M65.46,-110.85C65.46,-102.67 65.46,-93.89 65.46,-85.37\"/>\n",
       "<polygon fill=\"black\" stroke=\"black\" points=\"68.96,-85.15 65.46,-75.15 61.96,-85.15 68.96,-85.15\"/>\n",
       "</g>\n",
       "<!-- b2 -->\n",
       "<g id=\"node4\" class=\"node\">\n",
       "<title>b2</title>\n",
       "<ellipse fill=\"none\" stroke=\"black\" cx=\"59.46\" cy=\"-370.34\" rx=\"47.25\" ry=\"37.45\"/>\n",
       "<text text-anchor=\"middle\" x=\"59.46\" y=\"-381.64\" font-family=\"Times,serif\" font-size=\"14.00\">b2</text>\n",
       "<text text-anchor=\"middle\" x=\"59.46\" y=\"-366.64\" font-family=\"Times,serif\" font-size=\"14.00\">in: 8</text>\n",
       "<text text-anchor=\"middle\" x=\"59.46\" y=\"-351.64\" font-family=\"Times,serif\" font-size=\"14.00\">out: 20</text>\n",
       "</g>\n",
       "<!-- b2&#45;&gt;y_hat -->\n",
       "<g id=\"edge3\" class=\"edge\">\n",
       "<title>b2&#45;&gt;y_hat</title>\n",
       "<path fill=\"none\" stroke=\"black\" d=\"M41.84,-335.12C18.41,-284.91 -17.1,-188.79 9.46,-110.95 14.09,-97.39 22.4,-84.39 31.23,-73.25\"/>\n",
       "<polygon fill=\"black\" stroke=\"black\" points=\"33.99,-75.4 37.7,-65.48 28.61,-70.92 33.99,-75.4\"/>\n",
       "</g>\n",
       "<!-- b2&#45;&gt;c2 -->\n",
       "<g id=\"edge5\" class=\"edge\">\n",
       "<title>b2&#45;&gt;c2</title>\n",
       "<path fill=\"none\" stroke=\"black\" d=\"M60.47,-332.53C61.49,-295.07 63.08,-236.89 64.19,-196.2\"/>\n",
       "<polygon fill=\"black\" stroke=\"black\" points=\"67.69,-196.08 64.47,-185.99 60.7,-195.89 67.69,-196.08\"/>\n",
       "</g>\n",
       "<!-- b1 -->\n",
       "<g id=\"node5\" class=\"node\">\n",
       "<title>b1</title>\n",
       "<ellipse fill=\"none\" stroke=\"black\" cx=\"178.46\" cy=\"-259.38\" rx=\"47.25\" ry=\"37.45\"/>\n",
       "<text text-anchor=\"middle\" x=\"178.46\" y=\"-270.68\" font-family=\"Times,serif\" font-size=\"14.00\">b1</text>\n",
       "<text text-anchor=\"middle\" x=\"178.46\" y=\"-255.68\" font-family=\"Times,serif\" font-size=\"14.00\">in: 32</text>\n",
       "<text text-anchor=\"middle\" x=\"178.46\" y=\"-240.68\" font-family=\"Times,serif\" font-size=\"14.00\">out: 20</text>\n",
       "</g>\n",
       "<!-- b2&#45;&gt;b1 -->\n",
       "<g id=\"edge7\" class=\"edge\">\n",
       "<title>b2&#45;&gt;b1</title>\n",
       "<path fill=\"none\" stroke=\"black\" d=\"M90.11,-341.28C105.38,-327.3 123.99,-310.26 140.19,-295.43\"/>\n",
       "<polygon fill=\"black\" stroke=\"black\" points=\"142.91,-297.68 147.92,-288.35 138.18,-292.52 142.91,-297.68\"/>\n",
       "</g>\n",
       "<!-- b1&#45;&gt;c1 -->\n",
       "<g id=\"edge4\" class=\"edge\">\n",
       "<title>b1&#45;&gt;c1</title>\n",
       "<path fill=\"none\" stroke=\"black\" d=\"M178.46,-221.8C178.46,-213.63 178.46,-204.85 178.46,-196.32\"/>\n",
       "<polygon fill=\"black\" stroke=\"black\" points=\"181.96,-196.1 178.46,-186.1 174.96,-196.1 181.96,-196.1\"/>\n",
       "</g>\n",
       "<!-- a1_input -->\n",
       "<g id=\"node6\" class=\"node\">\n",
       "<title>a1_input</title>\n",
       "<ellipse fill=\"none\" stroke=\"black\" cx=\"180.46\" cy=\"-370.34\" rx=\"55.31\" ry=\"37.45\"/>\n",
       "<text text-anchor=\"middle\" x=\"180.46\" y=\"-381.64\" font-family=\"Times,serif\" font-size=\"14.00\">a1_input</text>\n",
       "<text text-anchor=\"middle\" x=\"180.46\" y=\"-366.64\" font-family=\"Times,serif\" font-size=\"14.00\">in: 0.0</text>\n",
       "<text text-anchor=\"middle\" x=\"180.46\" y=\"-351.64\" font-family=\"Times,serif\" font-size=\"14.00\">out: 20</text>\n",
       "</g>\n",
       "<!-- a1_input&#45;&gt;b1 -->\n",
       "<g id=\"edge6\" class=\"edge\">\n",
       "<title>a1_input&#45;&gt;b1</title>\n",
       "<path fill=\"none\" stroke=\"black\" d=\"M179.79,-332.75C179.64,-324.58 179.48,-315.8 179.32,-307.27\"/>\n",
       "<polygon fill=\"black\" stroke=\"black\" points=\"182.82,-306.99 179.14,-297.06 175.82,-307.12 182.82,-306.99\"/>\n",
       "</g>\n",
       "<!-- a2_input -->\n",
       "<g id=\"node7\" class=\"node\">\n",
       "<title>a2_input</title>\n",
       "<ellipse fill=\"none\" stroke=\"black\" cx=\"59.46\" cy=\"-481.29\" rx=\"55.31\" ry=\"37.45\"/>\n",
       "<text text-anchor=\"middle\" x=\"59.46\" y=\"-492.59\" font-family=\"Times,serif\" font-size=\"14.00\">a2_input</text>\n",
       "<text text-anchor=\"middle\" x=\"59.46\" y=\"-477.59\" font-family=\"Times,serif\" font-size=\"14.00\">in: 0.0</text>\n",
       "<text text-anchor=\"middle\" x=\"59.46\" y=\"-462.59\" font-family=\"Times,serif\" font-size=\"14.00\">out: 20</text>\n",
       "</g>\n",
       "<!-- a2_input&#45;&gt;b2 -->\n",
       "<g id=\"edge8\" class=\"edge\">\n",
       "<title>a2_input&#45;&gt;b2</title>\n",
       "<path fill=\"none\" stroke=\"black\" d=\"M59.46,-443.71C59.46,-435.53 59.46,-426.75 59.46,-418.23\"/>\n",
       "<polygon fill=\"black\" stroke=\"black\" points=\"62.96,-418.01 59.46,-408.01 55.96,-418.01 62.96,-418.01\"/>\n",
       "</g>\n",
       "</g>\n",
       "</svg>\n"
      ],
      "text/plain": [
       "<graphviz.graphs.Digraph>"
      ]
     },
     "execution_count": null,
     "metadata": {},
     "output_type": "execute_result"
    }
   ],
   "source": [
    "dot = Digraph()\n",
    "for key in tqdm(kegg_connections.keys()):\n",
    "    key_label = str(key)+'\\nin: '+str(input_size_dict[key])+'\\nout: '+str(output_size_dict[key])\n",
    "    dot.node(key, key_label)\n",
    "    for value in kegg_connections[key]:\n",
    "        # edge takes a head/tail whereas edges takes name pairs concatednated (A, B -> AB)in a list\n",
    "        dot.edge(value, key)    \n",
    "\n",
    "dot"
   ]
  },
  {
   "cell_type": "markdown",
   "id": "bce074f5",
   "metadata": {},
   "source": [
    "## Get order to run"
   ]
  },
  {
   "cell_type": "code",
   "execution_count": null,
   "id": "91cc0de2",
   "metadata": {},
   "outputs": [],
   "source": [
    "# start by finding the top level -- all those keys which are theselves not values\n",
    "# helper function to get all keys and all value from a dict. Useful for when keys don't have unique values.\n",
    "def find_uniq_keys_values(input_dict):\n",
    "    all_keys = list(input_dict.keys())\n",
    "    all_values = []\n",
    "    for e in all_keys:\n",
    "        all_values.extend(input_dict[e])\n",
    "    all_values = list(set(all_values))\n",
    "\n",
    "    return({'all_keys': all_keys,\n",
    "           'all_values': all_values})\n",
    "\n",
    "# find the dependancies for run order from many dependancies to none\n",
    "# wrapper function to find the nodes that aren't any other nodes dependancies.\n",
    "def find_top_nodes(all_key_value_dict):\n",
    "    return([e for e in all_key_value_dict['all_keys'] if e not in all_key_value_dict['all_values']])\n",
    "\n"
   ]
  },
  {
   "cell_type": "code",
   "execution_count": null,
   "id": "b1174a8f",
   "metadata": {},
   "outputs": [
    {
     "data": {
      "text/plain": [
       "['a2_input', 'a1_input', 'b2', 'b1', 'c2', 'c1', 'y_hat']"
      ]
     },
     "execution_count": null,
     "metadata": {},
     "output_type": "execute_result"
    }
   ],
   "source": [
    "# find the dependancies for run order from many dependancies to none\n",
    "temp = kegg_connections.copy()\n",
    "\n",
    "dependancy_order = []\n",
    "# Then iterate\n",
    "for ith in range(100): #TODO <- this should be set as a input parameter\n",
    "    top_nodes = find_top_nodes(all_key_value_dict = find_uniq_keys_values(input_dict = temp))\n",
    "    if top_nodes == []:\n",
    "        break\n",
    "    else:\n",
    "        dependancy_order += top_nodes    \n",
    "        # remove nodes from the graph that are at the 'top' level and haven't already been removed\n",
    "        for key in [e for e in dependancy_order if e in temp.keys()]:\n",
    "             temp.pop(key)\n",
    "\n",
    "                \n",
    "# reverse to get the order that the nodes should be called\n",
    "dependancy_order.reverse()                \n",
    "dependancy_order"
   ]
  },
  {
   "cell_type": "markdown",
   "id": "10f59c22",
   "metadata": {},
   "source": [
    "## Train and Examine"
   ]
  },
  {
   "cell_type": "code",
   "execution_count": null,
   "id": "3a0a4d1f",
   "metadata": {},
   "outputs": [],
   "source": [
    "# Working version ====\n",
    "class NeuralNetwork(nn.Module):\n",
    "    def __init__(self, \n",
    "                 example_dict, # contains the node (excluding input tensors)\n",
    "                 example_dict_input_size, # contains the input sizes (including the tensors)\n",
    "                 example_dict_output_size,\n",
    "                 input_tensor_names,\n",
    "                 dependancy_order\n",
    "                ):\n",
    "        super(NeuralNetwork, self).__init__()\n",
    "        def Linear_block(in_size, out_size, drop_pr):\n",
    "            block = nn.Sequential(\n",
    "                nn.Linear(in_size, out_size),\n",
    "                nn.ReLU(),\n",
    "                nn.Dropout(drop_pr))\n",
    "            return(block)   \n",
    "        \n",
    "        # fill in the list in dependancy order. \n",
    "        layer_list = []\n",
    "        for key in dependancy_order:\n",
    "            if key in input_tensor_names:\n",
    "                layer_list += [\n",
    "                    nn.Flatten()\n",
    "                ]\n",
    "            elif key != 'y_hat':\n",
    "                layer_list += [\n",
    "                    Linear_block(in_size=example_dict_input_size[key], \n",
    "                                 out_size=example_dict_output_size[key], \n",
    "                                 drop_pr=0)\n",
    "                              ]\n",
    "            else:\n",
    "                layer_list += [\n",
    "                    nn.Linear(example_dict_input_size[key], \n",
    "                              example_dict_output_size[key])\n",
    "                              ]\n",
    "                \n",
    "        self.nn_layer_list = nn.ModuleList(layer_list)\n",
    "\n",
    "        # things for get_input_node in forward to work.\n",
    "        self.example_dict = example_dict\n",
    "        self.input_tensor_names = input_tensor_names\n",
    "        self.dependancy_order = dependancy_order\n",
    "        \n",
    "        self.input_tensor_lookup = dict(zip(input_tensor_names, \n",
    "                                            [i for i in range(len(input_tensor_names))]))\n",
    "        self.result_list = []\n",
    "        self.result_list_lookup = {}\n",
    "            \n",
    "    def forward(self, x):\n",
    "        # Note: x will be a list. input_tensor_lookup will contain the name: list index pairs.\n",
    "        # I use a dict instead of a list comprehension here because there could be an arbitrarily\n",
    "        # large number of inputs in the list. \n",
    "        def get_input_node(self, input_node, get_x):  \n",
    "            return(self.result_list[self.result_list_lookup[input_node]])\n",
    "        \n",
    "        # trying reinstantiating to get around inplace replacement issue.\n",
    "        self.result_list = []\n",
    "        self.result_list_lookup = {}\n",
    "        for key in self.dependancy_order:\n",
    "            input_nodes = self.example_dict[key]\n",
    "            nn_layer_list_idx = [i for i in range(len(dependancy_order)) if dependancy_order[i]==key][0]\n",
    "\n",
    "            # I realllllly hope these are being copied by reference...\n",
    "            # must be first before growing result_list\n",
    "            self.result_list_lookup[key] = len(self.result_list_lookup)                \n",
    "            if key in self.input_tensor_names: # If the input node is an input (flatten) layer\n",
    "                self.result_list = self.result_list + [self.nn_layer_list[nn_layer_list_idx](\n",
    "                    x[self.input_tensor_lookup[key]]\n",
    "                ).clone()]\n",
    "\n",
    "            else:\n",
    "                self.result_list = self.result_list + [self.nn_layer_list[nn_layer_list_idx](torch.concat(\n",
    "                    [get_input_node(self, input_node = e, get_x = x) for e in input_nodes], \n",
    "                    -1)).clone()]\n",
    "\n",
    "        return self.result_list[self.result_list_lookup['y_hat']]"
   ]
  },
  {
   "cell_type": "code",
   "execution_count": null,
   "id": "a42cac18",
   "metadata": {},
   "outputs": [],
   "source": []
  },
  {
   "cell_type": "code",
   "execution_count": null,
   "id": "9a323d24",
   "metadata": {},
   "outputs": [],
   "source": [
    "model = NeuralNetwork(example_dict = kegg_connections, \n",
    "                      example_dict_input_size = input_size_dict,\n",
    "                      example_dict_output_size = output_size_dict,\n",
    "                      input_tensor_names = list(input_tensor_dict.keys()),\n",
    "                      dependancy_order = dependancy_order) \n",
    "\n",
    "\n",
    "model, loss_df = train_nn_yx(\n",
    "    training_dataloader,\n",
    "    training_dataloader, # For demo, the training and testing data are the same.\n",
    "    model,\n",
    "    learning_rate = 1e-3,\n",
    "    batch_size = 100,\n",
    "    epochs = 200\n",
    ")\n",
    "\n",
    "px.line(loss_df, x = 'Epoch', y = 'TrainMSE')"
   ]
  },
  {
   "cell_type": "code",
   "execution_count": null,
   "id": "08266764",
   "metadata": {},
   "outputs": [],
   "source": [
    "yhat = model(next(iter(training_dataloader))[1])\n",
    "torchviz.make_dot(yhat.mean(), params=dict(model.named_parameters()))"
   ]
  },
  {
   "cell_type": "markdown",
   "id": "eac51334",
   "metadata": {},
   "source": [
    "# Repeat as a Learner Class"
   ]
  },
  {
   "cell_type": "code",
   "execution_count": null,
   "id": "4e173e52",
   "metadata": {},
   "outputs": [],
   "source": [
    "# https://github.com/glassroom/torch_lsuv_init\n",
    "def LSUV_(model, data, apply_only_to=['Conv', 'Linear', 'Bilinear'],\n",
    "          std_tol=0.1, max_iters=10, do_ortho_init=True, logging_FN=print):\n",
    "    r\"\"\"\n",
    "    Applies layer sequential unit variance (LSUV), as described in\n",
    "    `All you need is a good init` - Mishkin, D. et al (2015):\n",
    "    https://arxiv.org/abs/1511.06422\n",
    "\n",
    "    Args:\n",
    "        model: `torch.nn.Module` object on which to apply LSUV.\n",
    "        data: sample input data drawn from training dataset.\n",
    "        apply_only_to: list of strings indicating target children\n",
    "            modules. For example, ['Conv'] results in LSUV applied\n",
    "            to children of type containing the substring 'Conv'.\n",
    "        std_tol: positive number < 1.0, below which differences between\n",
    "            actual and unit standard deviation are acceptable.\n",
    "        max_iters: number of times to try scaling standard deviation\n",
    "            of each children module's output activations.\n",
    "        do_ortho_init: boolean indicating whether to apply orthogonal\n",
    "            init to parameters of dim >= 2 (zero init if dim < 2).\n",
    "        logging_FN: function for outputting progress information.\n",
    "\n",
    "    Example:\n",
    "        >>> model = nn.Sequential(nn.Linear(8, 2), nn.Softmax(dim=1))                                                                                                                                                                                                                                            \n",
    "        >>> data = torch.randn(100, 8)\n",
    "        >>> LSUV_(model, data)\n",
    "    \"\"\"\n",
    "\n",
    "    matched_modules = [m for m in model.modules() if any(substr in str(type(m)) for substr in apply_only_to)]\n",
    "\n",
    "    if do_ortho_init:\n",
    "        logging_FN(f\"Applying orthogonal init (zero init if dim < 2) to params in {len(matched_modules)} module(s).\")\n",
    "        for m in matched_modules:\n",
    "            for p in m.parameters():                \n",
    "                torch.nn.init.orthogonal_(p) if (p.dim() >= 2) else torch.nn.init.zeros_(p)\n",
    "\n",
    "    logging_FN(f\"Applying LSUV to {len(matched_modules)} module(s) (up to {max_iters} iters per module):\")\n",
    "\n",
    "    def _compute_and_store_LSUV_stats(m, inp, out):\n",
    "        m._LSUV_stats = { 'mean': out.detach().mean(), 'std': out.detach().std() }\n",
    "\n",
    "    was_training = model.training\n",
    "    model.train()  # sets all modules to training behavior\n",
    "    with torch.no_grad():\n",
    "        for i, m in enumerate(matched_modules):\n",
    "            with m.register_forward_hook(_compute_and_store_LSUV_stats):\n",
    "                for t in range(max_iters):\n",
    "                    _ = model(data)  # run data through model to get stats\n",
    "                    mean, std = m._LSUV_stats['mean'], m._LSUV_stats['std']\n",
    "                    if abs(std - 1.0) < std_tol:\n",
    "                        break\n",
    "                    m.weight.data /= (std + 1e-6)\n",
    "            logging_FN(f\"Module {i:2} after {(t+1):2} itr(s) | Mean:{mean:7.3f} | Std:{std:6.3f} | {type(m)}\")\n",
    "            delattr(m, '_LSUV_stats')\n",
    "\n",
    "    if not was_training: model.eval()"
   ]
  },
  {
   "cell_type": "code",
   "execution_count": null,
   "id": "ef707d16",
   "metadata": {},
   "outputs": [],
   "source": []
  },
  {
   "cell_type": "code",
   "execution_count": null,
   "id": "2ea497d7",
   "metadata": {},
   "outputs": [],
   "source": [
    "model = NeuralNetwork(example_dict = kegg_connections, \n",
    "                      example_dict_input_size = input_size_dict,\n",
    "                      example_dict_output_size = output_size_dict,\n",
    "                      input_tensor_names = list(input_tensor_dict.keys()),\n",
    "                      dependancy_order = dependancy_order) \n",
    "\n",
    "\n",
    "LSUV_(model, data = next(iter(training_dataloader))[1])\n",
    "\n",
    "model, loss_df = train_nn_yx(\n",
    "    training_dataloader,\n",
    "    training_dataloader, # For demo, the training and testing data are the same.\n",
    "    model,\n",
    "    learning_rate = 1e-3,\n",
    "    batch_size = 100,\n",
    "    epochs = 200\n",
    ")\n",
    "\n",
    "px.line(loss_df, x = 'Epoch', y = 'TrainMSE')"
   ]
  },
  {
   "cell_type": "markdown",
   "id": "56c7c74c",
   "metadata": {},
   "source": [
    "## Can I get summary stats for the weights over training?"
   ]
  },
  {
   "cell_type": "code",
   "execution_count": null,
   "id": "171c6484",
   "metadata": {},
   "outputs": [],
   "source": [
    "model = NeuralNetwork(example_dict = kegg_connections, \n",
    "                      example_dict_input_size = input_size_dict,\n",
    "                      example_dict_output_size = output_size_dict,\n",
    "                      input_tensor_names = list(input_tensor_dict.keys()),\n",
    "                      dependancy_order = dependancy_order) \n",
    "\n",
    "\n",
    "LSUV_(model, data = next(iter(training_dataloader))[1])\n",
    "\n",
    "training_dataloader\n",
    "testing_dataloader= training_dataloader\n",
    "learning_rate = 1e-3\n",
    "batch_size = 100\n",
    "epochs = 200\n",
    "optimizer = torch.optim.SGD(model.parameters(), lr=learning_rate)\n",
    "#train_nn_yx\n",
    "save_on = 5       \n",
    "\n",
    "# Initialize the loss function\n",
    "loss_fn = nn.MSELoss()     \n",
    "\n",
    "loss_df = pd.DataFrame([i for i in range(epochs)], columns = ['Epoch'])\n",
    "loss_df['TrainMSE'] = np.nan\n",
    "loss_df['TestMSE']  = np.nan\n",
    "\n",
    "\n",
    "training_stat_dict = {}\n",
    "\n",
    "for t in tqdm(range(epochs)):        \n",
    "\n",
    "    train_loop_yx(training_dataloader, model, loss_fn, optimizer, silent = True)\n",
    "\n",
    "    loss_df.loc[loss_df.index == t, 'TrainMSE'\n",
    "               ] = train_error_yx(training_dataloader, model, loss_fn, silent = True)\n",
    "\n",
    "    loss_df.loc[loss_df.index == t, 'TestMSE'\n",
    "               ] = test_loop_yx(testing_dataloader, model, loss_fn, silent = True)\n",
    "    \n",
    "    weight_bias_list=[(name, param) for name, param in model.named_parameters()]; \n",
    "    for e in weight_bias_list: \n",
    "        if e[0].split('.')[-1] == 'weight':\n",
    "            with torch.no_grad():\n",
    "                if e[0] not in training_stat_dict.keys():\n",
    "                    training_stat_dict[e[0]] = {'mean':[e[1].mean()],\n",
    "                                                'std' :[e[1].std()] }\n",
    "                else:\n",
    "                    training_stat_dict[e[0]]['mean'].extend([e[1].mean()])\n",
    "                    training_stat_dict[e[0]]['std'].extend([e[1].std()])\n",
    "\n",
    "\n",
    "# training_stat_dict\n",
    "\n",
    "\n",
    "# model, loss_df"
   ]
  },
  {
   "cell_type": "code",
   "execution_count": null,
   "id": "9b278e1c",
   "metadata": {},
   "outputs": [],
   "source": [
    "for key in training_stat_dict.keys():\n",
    "    training_stat_dict[key]['mean'] = torch.concat([e[None, None] for e in training_stat_dict[key]['mean']])\n",
    "    training_stat_dict[key]['std'] = torch.concat([e[None, None] for e in training_stat_dict[key]['std']])\n",
    "    "
   ]
  },
  {
   "cell_type": "code",
   "execution_count": null,
   "id": "d42b9dd5",
   "metadata": {},
   "outputs": [],
   "source": [
    "from plotly.subplots import make_subplots\n",
    "import plotly.graph_objects as go\n",
    "\n",
    "fig = make_subplots(\n",
    "    rows=1, cols=2,\n",
    "    subplot_titles=(\"Layer Means\", \"Layer Stds\"))\n",
    "\n",
    "for key in training_stat_dict.keys():\n",
    "    fig.add_trace(\n",
    "        go.Scatter(\n",
    "            x = [x for x in range(epochs)], \n",
    "            y = torch.Tensor.numpy(training_stat_dict[key]['mean'])[:, 0],\n",
    "            mode=\"lines\",\n",
    "            # line=go.scatter.Line(color=\"gray\"),\n",
    "            name  = key.replace('nn_layer_list.', ''),\n",
    "            showlegend=False),\n",
    "        row=1, col=1\n",
    "    )\n",
    "    \n",
    "    fig.add_trace(\n",
    "        go.Scatter(\n",
    "            x = [x for x in range(epochs)], \n",
    "            y = torch.Tensor.numpy(training_stat_dict[key]['std'])[:, 0],\n",
    "            mode=\"lines\",\n",
    "            # line=go.scatter.Line(color=\"gray\"),\n",
    "            name  = key.replace('nn_layer_list.', ''),\n",
    "            showlegend=False),\n",
    "        row=1, col=2\n",
    "    )\n",
    "    \n",
    "fig.update_layout(#height=500, width=700,\n",
    "    title_text=\"Layerwise Weight Statistics over Training\")\n",
    "fig.show()"
   ]
  },
  {
   "cell_type": "markdown",
   "id": "c3ba86ae",
   "metadata": {},
   "source": [
    "## Using slices of a tensor instead of a list of tensors"
   ]
  },
  {
   "cell_type": "code",
   "execution_count": null,
   "metadata": {},
   "outputs": [],
   "source": [
    "# length of all the genes -> slice positions\n",
    "# print([e.shape[-1] for e in x_list_temp])\n",
    "\n",
    "slice_pos = np.cumsum([e.shape[-1] for e in x_list_temp])\n",
    "# set up an array with the start/end of each gene slice in each row\n",
    "slice_idx = np.zeros((slice_pos.shape[0], 2))\n",
    "slice_idx[1:, 0] = slice_pos[:-1]\n",
    "slice_idx[ :, 1] = slice_pos\n",
    "\n",
    "slice_idx = slice_idx.astype(int)\n",
    "print(slice_idx)\n",
    "\n",
    "x_list_temp_cat = torch.concat(x_list_temp, axis = 2)\n",
    "\n",
    "# here's how to slice one of these concatenated tensors to get the desired part. \n",
    "x_list_temp_cat[:, :, slice_idx[0, 0]:slice_idx[0, 1]].shape"
   ]
  },
  {
   "cell_type": "code",
   "execution_count": null,
   "metadata": {},
   "outputs": [],
   "source": [
    "# Don't even have to subclass the dataloader, just drop the single tensor into a list.\n",
    "training_dataloader = DataLoader(ListDataset(\n",
    "        y = y_true[:, None].to(torch.float32),\n",
    "        x_list = [e.to(torch.float32) for e in [x_list_temp_cat]]\n",
    "    ),\n",
    "    batch_size = 20,\n",
    "    shuffle = True)"
   ]
  },
  {
   "cell_type": "code",
   "execution_count": null,
   "metadata": {},
   "outputs": [],
   "source": []
  },
  {
   "cell_type": "code",
   "execution_count": null,
   "metadata": {},
   "outputs": [],
   "source": [
    "# Working version ====\n",
    "class NeuralNetworkV2(nn.Module):\n",
    "    def __init__(self, \n",
    "                 example_dict, # contains the node (excluding input tensors)\n",
    "                 example_dict_input_size, # contains the input sizes (including the tensors)\n",
    "                 example_dict_output_size,\n",
    "                 input_tensor_names,\n",
    "                 input_tensor_slice_idxs,\n",
    "                 dependancy_order\n",
    "                ):\n",
    "        super(NeuralNetworkV2, self).__init__()\n",
    "        def Linear_block(in_size, out_size, drop_pr):\n",
    "            block = nn.Sequential(\n",
    "                nn.Linear(in_size, out_size),\n",
    "                nn.ReLU(),\n",
    "                nn.Dropout(drop_pr))\n",
    "            return(block)   \n",
    "        \n",
    "        # fill in the list in dependancy order. \n",
    "        layer_list = []\n",
    "        for key in dependancy_order:\n",
    "            if key in input_tensor_names:\n",
    "                layer_list += [\n",
    "                    nn.Flatten()\n",
    "                ]\n",
    "            elif key != 'y_hat':\n",
    "                layer_list += [\n",
    "                    Linear_block(in_size=example_dict_input_size[key], \n",
    "                                 out_size=example_dict_output_size[key], \n",
    "                                 drop_pr=0)\n",
    "                              ]\n",
    "            else:\n",
    "                layer_list += [\n",
    "                    nn.Linear(example_dict_input_size[key], \n",
    "                              example_dict_output_size[key])\n",
    "                              ]\n",
    "                \n",
    "        self.nn_layer_list = nn.ModuleList(layer_list)\n",
    "\n",
    "        # things for get_input_node in forward to work.\n",
    "        self.example_dict = example_dict\n",
    "        self.input_tensor_names = input_tensor_names\n",
    "        self.dependancy_order = dependancy_order\n",
    "        \n",
    "        self.input_tensor_lookup = dict(zip(input_tensor_names, \n",
    "                                            [i for i in range(len(input_tensor_names))]))\n",
    "        \n",
    "        # I can use the lookup in the original class to get the right slice indexes!\n",
    "        self.input_tensor_slice_idxs = input_tensor_slice_idxs\n",
    "\n",
    "\n",
    "        self.result_list = []\n",
    "        self.result_list_lookup = {}\n",
    "            \n",
    "    def forward(self, x):\n",
    "        # Note: x will be a list. input_tensor_lookup will contain the name: list index pairs.\n",
    "        # I use a dict instead of a list comprehension here because there could be an arbitrarily\n",
    "        # large number of inputs in the list. \n",
    "        def get_input_node(self, input_node, get_x):  \n",
    "            return(self.result_list[self.result_list_lookup[input_node]])\n",
    "        \n",
    "        # trying reinstantiating to get around inplace replacement issue.\n",
    "        self.result_list = []\n",
    "        self.result_list_lookup = {}\n",
    "        for key in self.dependancy_order:\n",
    "            input_nodes = self.example_dict[key]\n",
    "            nn_layer_list_idx = [i for i in range(len(dependancy_order)) if dependancy_order[i]==key][0]\n",
    "\n",
    "            # I realllllly hope these are being copied by reference...\n",
    "            # must be first before growing result_list\n",
    "            self.result_list_lookup[key] = len(self.result_list_lookup)                \n",
    "            if key in self.input_tensor_names: # If the input node is an input (flatten) layer\n",
    "                gene_idx = self.input_tensor_lookup[key]\n",
    "                \n",
    "                self.result_list = self.result_list + [self.nn_layer_list[nn_layer_list_idx](\n",
    "                    # instead of looking up a list index now x is sliced\n",
    "                    x[0][:, :, self.input_tensor_slice_idxs[gene_idx, 0]:self.input_tensor_slice_idxs[gene_idx, 1]]\n",
    "                ).clone()] # clone could be the source of my problems too.\n",
    "\n",
    "            else:\n",
    "                self.result_list = self.result_list + [self.nn_layer_list[nn_layer_list_idx](torch.concat(\n",
    "                    [get_input_node(self, input_node = e, get_x = x) for e in input_nodes], \n",
    "                    -1)).clone()]\n",
    "\n",
    "        return self.result_list[self.result_list_lookup['y_hat']]"
   ]
  },
  {
   "cell_type": "code",
   "execution_count": null,
   "metadata": {},
   "outputs": [],
   "source": []
  },
  {
   "cell_type": "code",
   "execution_count": null,
   "metadata": {},
   "outputs": [],
   "source": [
    "model = NeuralNetworkV2(example_dict = kegg_connections, \n",
    "                      example_dict_input_size = input_size_dict,\n",
    "                      example_dict_output_size = output_size_dict,\n",
    "                      input_tensor_names = list(input_tensor_dict.keys()),\n",
    "                      input_tensor_slice_idxs= slice_idx,\n",
    "                      dependancy_order = dependancy_order) "
   ]
  },
  {
   "cell_type": "code",
   "execution_count": null,
   "metadata": {},
   "outputs": [],
   "source": [
    "model, loss_df = train_nn_yx(\n",
    "    training_dataloader,\n",
    "    training_dataloader, # For demo, the training and testing data are the same.\n",
    "    model,\n",
    "    learning_rate = 1e-3,\n",
    "    batch_size = 100,\n",
    "    epochs = 200\n",
    ")\n",
    "\n",
    "px.line(loss_df, x = 'Epoch', y = 'TrainMSE')\n",
    "# no apparant time savings here."
   ]
  },
  {
   "cell_type": "markdown",
   "id": "ad6a4dd1",
   "metadata": {},
   "source": [
    "# Trying with sparse maticies:"
   ]
  },
  {
   "cell_type": "code",
   "execution_count": null,
   "id": "bd307c73",
   "metadata": {},
   "outputs": [],
   "source": [
    "# input_tensor_dict = {\n",
    "#     'a1_input': torch.from_numpy(np.concatenate([\n",
    "#         np.zeros((n_obs, 4, 3)),\n",
    "#         np.ones( (n_obs, 4, 3))], 0)),\n",
    "#     'a2_input': torch.from_numpy(np.concatenate([\n",
    "#         np.zeros((n_obs, 4, 2)),  \n",
    "#         np.ones( (n_obs, 4, 2))], 0))}\n",
    "\n",
    "# x_list_temp = [input_tensor_dict[key].to(torch.float) for key in input_tensor_dict.keys()]"
   ]
  },
  {
   "cell_type": "code",
   "execution_count": null,
   "id": "9aaf043a",
   "metadata": {},
   "outputs": [],
   "source": [
    "# n_obs = 1\n",
    "# snps = torch.from_numpy(\n",
    "#     np.concatenate([\n",
    "#         # a1_input\n",
    "#         np.concatenate([\n",
    "#             np.ones((n_obs, 4, 3))*1.1,\n",
    "#             np.ones((n_obs, 4, 3))*2.1  \n",
    "#             ], 0),\n",
    "#         # a2_input\n",
    "#         np.concatenate([\n",
    "#             np.ones((n_obs, 4, 2))*1.2,  \n",
    "#             np.ones((n_obs, 4, 2))*2.2\n",
    "#             ], 0),\n",
    "#         ], 2))\n",
    "\n",
    "# snps[0]    "
   ]
  },
  {
   "cell_type": "code",
   "execution_count": null,
   "id": "bf982437",
   "metadata": {},
   "outputs": [],
   "source": [
    "# snp_adj_matrix = torch.tensor([\n",
    "#     [1, 1, 1, 0, 0], # a1_input\n",
    "#     [0, 0, 0, 0, 0],\n",
    "#     [0, 0, 0, 1, 1], # a2_input\n",
    "#     [0, 0, 0, 0, 0]  \n",
    "#     ]).to(float)\n",
    "\n",
    "# snp_w_matrix = torch.randn(4, 5)\n",
    "# snp_b_matrix = torch.randn(4,)\n",
    "\n",
    "# inp = snps[0] @ torch.Tensor.transpose(snp_adj_matrix*snp_w_matrix, 1, 0) + snp_b_matrix\n",
    "# inp"
   ]
  },
  {
   "cell_type": "code",
   "execution_count": null,
   "id": "aa54f198",
   "metadata": {},
   "outputs": [],
   "source": []
  },
  {
   "cell_type": "code",
   "execution_count": null,
   "id": "179ffebf",
   "metadata": {},
   "outputs": [],
   "source": [
    "# import einops\n",
    "\n",
    "# snps = torch.Tensor(\n",
    "#     [[[0,0,0,1],\n",
    "#       [0,0,0,1],\n",
    "#       [1,0,0,0]]]\n",
    "#     )\n",
    "# # set to batch nucleotide gene then flatten.\n",
    "# snps = einops.rearrange(snps, 'b g n -> b n g').flatten()\n",
    "\n",
    "# a1_input_pos = (0,  8) \n",
    "# a2_input_pos = (8, 12) \n",
    "\n",
    "# snp_adj_matrix = torch.tensor([0.0]).repeat(snps.shape[0], snps.shape[0])\n",
    "# snp_adj_matrix[0, 0:4*2] = 1.0\n",
    "# snp_adj_matrix[4*2, 4*2:(4*2+4*1)] = 1.0\n",
    "# snp_adj_matrix\n",
    "\n",
    "# snp_w_matrix = torch.randn(snps.shape[0], snps.shape[0])\n",
    "# snp_b_matrix = torch.randn(1,)\n",
    "\n",
    "# out1 = snps @ (snp_adj_matrix*snp_w_matrix).transpose(0, 1) \n",
    "\n",
    "# out1 = out1[\n",
    "#     [a1_input_pos[0],\n",
    "#      a2_input_pos[0]]\n",
    "#     ] + snp_b_matrix\n",
    "\n",
    "\n",
    "# snp_adj_matrix = torch.tensor([\n",
    "# #a1  a2  b1  b2  c1  c2  yhat\n",
    "# [0., 0., 1., 0., 0., 0., 0.],# a1 \n",
    "# [0., 0., 0., 1., 0., 0., 0.],# a2 \n",
    "# [0., 0., 0., 0., 1., 0., 0.],# b1 \n",
    "# [0., 0., 1., 0., 1., 0., 0.],# b2 \n",
    "# [0., 0., 0., 0., 0., 0., 1.],# c1 \n",
    "# [0., 0., 0., 0., 0., 0., 1.],# c2 \n",
    "# [0., 0., 0., 0., 0., 0., 0.] # yhat\n",
    "# ])\n",
    "\n",
    "# out1\n",
    "\n",
    "# # nn.ReLU()(out1)\n",
    "\n",
    "\n",
    "# snp_adj_matrix\n",
    "\n",
    "\n",
    "# # torch.flatten(snp_adj_matrix)\n",
    "\n"
   ]
  },
  {
   "cell_type": "code",
   "execution_count": null,
   "id": "acb47ae1",
   "metadata": {},
   "outputs": [
    {
     "data": {
      "text/plain": [
       "{'y_hat': ['c1', 'c2', 'b2'],\n",
       " 'c1': ['b1'],\n",
       " 'c2': ['b2'],\n",
       " 'b1': ['a1_input', 'b2'],\n",
       " 'b2': ['a2_input'],\n",
       " 'a1_input': [],\n",
       " 'a2_input': []}"
      ]
     },
     "execution_count": null,
     "metadata": {},
     "output_type": "execute_result"
    }
   ],
   "source": [
    "temp = kegg_connections.copy()\n",
    "# temp['y_hat'] = ['c1', 'c2', 'b1']\n",
    "\n",
    "temp"
   ]
  },
  {
   "cell_type": "code",
   "execution_count": null,
   "id": "75377855",
   "metadata": {},
   "outputs": [
    {
     "data": {
      "image/svg+xml": [
       "<?xml version=\"1.0\" encoding=\"UTF-8\" standalone=\"no\"?>\n",
       "<!DOCTYPE svg PUBLIC \"-//W3C//DTD SVG 1.1//EN\"\n",
       " \"http://www.w3.org/Graphics/SVG/1.1/DTD/svg11.dtd\">\n",
       "<!-- Generated by graphviz version 2.50.0 (0)\n",
       " -->\n",
       "<!-- Pages: 1 -->\n",
       "<svg width=\"217pt\" height=\"332pt\"\n",
       " viewBox=\"0.00 0.00 216.70 332.00\" xmlns=\"http://www.w3.org/2000/svg\" xmlns:xlink=\"http://www.w3.org/1999/xlink\">\n",
       "<g id=\"graph0\" class=\"graph\" transform=\"scale(1 1) rotate(0) translate(4 328)\">\n",
       "<polygon fill=\"white\" stroke=\"transparent\" points=\"-4,4 -4,-328 212.7,-328 212.7,4 -4,4\"/>\n",
       "<!-- c1 -->\n",
       "<g id=\"node1\" class=\"node\">\n",
       "<title>c1</title>\n",
       "<ellipse fill=\"none\" stroke=\"black\" cx=\"71.7\" cy=\"-90\" rx=\"27\" ry=\"18\"/>\n",
       "<text text-anchor=\"middle\" x=\"71.7\" y=\"-86.3\" font-family=\"Times,serif\" font-size=\"14.00\">c1</text>\n",
       "</g>\n",
       "<!-- y_hat -->\n",
       "<g id=\"node2\" class=\"node\">\n",
       "<title>y_hat</title>\n",
       "<ellipse fill=\"none\" stroke=\"black\" cx=\"126.7\" cy=\"-18\" rx=\"36\" ry=\"18\"/>\n",
       "<text text-anchor=\"middle\" x=\"126.7\" y=\"-14.3\" font-family=\"Times,serif\" font-size=\"14.00\">y_hat</text>\n",
       "</g>\n",
       "<!-- c1&#45;&gt;y_hat -->\n",
       "<g id=\"edge1\" class=\"edge\">\n",
       "<title>c1&#45;&gt;y_hat</title>\n",
       "<path fill=\"none\" stroke=\"black\" d=\"M83.63,-73.81C90.64,-64.89 99.66,-53.41 107.63,-43.26\"/>\n",
       "<polygon fill=\"black\" stroke=\"black\" points=\"110.59,-45.16 114.02,-35.13 105.09,-40.83 110.59,-45.16\"/>\n",
       "</g>\n",
       "<!-- c2 -->\n",
       "<g id=\"node3\" class=\"node\">\n",
       "<title>c2</title>\n",
       "<ellipse fill=\"none\" stroke=\"black\" cx=\"181.7\" cy=\"-90\" rx=\"27\" ry=\"18\"/>\n",
       "<text text-anchor=\"middle\" x=\"181.7\" y=\"-86.3\" font-family=\"Times,serif\" font-size=\"14.00\">c2</text>\n",
       "</g>\n",
       "<!-- c2&#45;&gt;y_hat -->\n",
       "<g id=\"edge2\" class=\"edge\">\n",
       "<title>c2&#45;&gt;y_hat</title>\n",
       "<path fill=\"none\" stroke=\"black\" d=\"M169.76,-73.81C162.75,-64.89 153.73,-53.41 145.76,-43.26\"/>\n",
       "<polygon fill=\"black\" stroke=\"black\" points=\"148.3,-40.83 139.37,-35.13 142.8,-45.16 148.3,-40.83\"/>\n",
       "</g>\n",
       "<!-- b2 -->\n",
       "<g id=\"node4\" class=\"node\">\n",
       "<title>b2</title>\n",
       "<ellipse fill=\"none\" stroke=\"black\" cx=\"146.7\" cy=\"-234\" rx=\"27\" ry=\"18\"/>\n",
       "<text text-anchor=\"middle\" x=\"146.7\" y=\"-230.3\" font-family=\"Times,serif\" font-size=\"14.00\">b2</text>\n",
       "</g>\n",
       "<!-- b2&#45;&gt;y_hat -->\n",
       "<g id=\"edge3\" class=\"edge\">\n",
       "<title>b2&#45;&gt;y_hat</title>\n",
       "<path fill=\"none\" stroke=\"black\" d=\"M145.09,-215.85C141.63,-178.83 133.44,-91.18 129.25,-46.39\"/>\n",
       "<polygon fill=\"black\" stroke=\"black\" points=\"132.72,-45.86 128.31,-36.23 125.75,-46.51 132.72,-45.86\"/>\n",
       "</g>\n",
       "<!-- b2&#45;&gt;c2 -->\n",
       "<g id=\"edge5\" class=\"edge\">\n",
       "<title>b2&#45;&gt;c2</title>\n",
       "<path fill=\"none\" stroke=\"black\" d=\"M150.85,-216.15C156.85,-191.81 168,-146.57 175.12,-117.67\"/>\n",
       "<polygon fill=\"black\" stroke=\"black\" points=\"178.55,-118.37 177.55,-107.82 171.76,-116.7 178.55,-118.37\"/>\n",
       "</g>\n",
       "<!-- b1 -->\n",
       "<g id=\"node5\" class=\"node\">\n",
       "<title>b1</title>\n",
       "<ellipse fill=\"none\" stroke=\"black\" cx=\"71.7\" cy=\"-162\" rx=\"27\" ry=\"18\"/>\n",
       "<text text-anchor=\"middle\" x=\"71.7\" y=\"-158.3\" font-family=\"Times,serif\" font-size=\"14.00\">b1</text>\n",
       "</g>\n",
       "<!-- b2&#45;&gt;b1 -->\n",
       "<g id=\"edge7\" class=\"edge\">\n",
       "<title>b2&#45;&gt;b1</title>\n",
       "<path fill=\"none\" stroke=\"black\" d=\"M131.52,-218.83C120.84,-208.87 106.38,-195.37 94.34,-184.14\"/>\n",
       "<polygon fill=\"black\" stroke=\"black\" points=\"96.55,-181.41 86.85,-177.14 91.77,-186.53 96.55,-181.41\"/>\n",
       "</g>\n",
       "<!-- b1&#45;&gt;c1 -->\n",
       "<g id=\"edge4\" class=\"edge\">\n",
       "<title>b1&#45;&gt;c1</title>\n",
       "<path fill=\"none\" stroke=\"black\" d=\"M71.7,-143.7C71.7,-135.98 71.7,-126.71 71.7,-118.11\"/>\n",
       "<polygon fill=\"black\" stroke=\"black\" points=\"75.2,-118.1 71.7,-108.1 68.2,-118.1 75.2,-118.1\"/>\n",
       "</g>\n",
       "<!-- a1_input -->\n",
       "<g id=\"node6\" class=\"node\">\n",
       "<title>a1_input</title>\n",
       "<ellipse fill=\"none\" stroke=\"black\" cx=\"50.7\" cy=\"-234\" rx=\"50.89\" ry=\"18\"/>\n",
       "<text text-anchor=\"middle\" x=\"50.7\" y=\"-230.3\" font-family=\"Times,serif\" font-size=\"14.00\">a1_input</text>\n",
       "</g>\n",
       "<!-- a1_input&#45;&gt;b1 -->\n",
       "<g id=\"edge6\" class=\"edge\">\n",
       "<title>a1_input&#45;&gt;b1</title>\n",
       "<path fill=\"none\" stroke=\"black\" d=\"M55.78,-216.05C58.18,-208.06 61.1,-198.33 63.78,-189.4\"/>\n",
       "<polygon fill=\"black\" stroke=\"black\" points=\"67.14,-190.37 66.66,-179.79 60.43,-188.36 67.14,-190.37\"/>\n",
       "</g>\n",
       "<!-- a2_input -->\n",
       "<g id=\"node7\" class=\"node\">\n",
       "<title>a2_input</title>\n",
       "<ellipse fill=\"none\" stroke=\"black\" cx=\"146.7\" cy=\"-306\" rx=\"50.89\" ry=\"18\"/>\n",
       "<text text-anchor=\"middle\" x=\"146.7\" y=\"-302.3\" font-family=\"Times,serif\" font-size=\"14.00\">a2_input</text>\n",
       "</g>\n",
       "<!-- a2_input&#45;&gt;b2 -->\n",
       "<g id=\"edge8\" class=\"edge\">\n",
       "<title>a2_input&#45;&gt;b2</title>\n",
       "<path fill=\"none\" stroke=\"black\" d=\"M146.7,-287.7C146.7,-279.98 146.7,-270.71 146.7,-262.11\"/>\n",
       "<polygon fill=\"black\" stroke=\"black\" points=\"150.2,-262.1 146.7,-252.1 143.2,-262.1 150.2,-262.1\"/>\n",
       "</g>\n",
       "</g>\n",
       "</svg>\n"
      ],
      "text/plain": [
       "<graphviz.graphs.Digraph>"
      ]
     },
     "execution_count": null,
     "metadata": {},
     "output_type": "execute_result"
    }
   ],
   "source": [
    "dot = Digraph()\n",
    "for key in temp.keys():\n",
    "    for value in temp[key]: \n",
    "        dot.edge(value, key)\n",
    "dot"
   ]
  },
  {
   "cell_type": "code",
   "execution_count": null,
   "id": "c478afed",
   "metadata": {},
   "outputs": [],
   "source": []
  },
  {
   "cell_type": "code",
   "execution_count": null,
   "id": "85119321",
   "metadata": {},
   "outputs": [
    {
     "data": {
      "text/plain": [
       "['a2_input', 'a1_input', 'b2', 'b1', 'c2', 'c1', 'y_hat']"
      ]
     },
     "execution_count": null,
     "metadata": {},
     "output_type": "execute_result"
    }
   ],
   "source": [
    "dependancy_order"
   ]
  },
  {
   "cell_type": "code",
   "execution_count": null,
   "id": "085e8300",
   "metadata": {},
   "outputs": [
    {
     "name": "stdout",
     "output_type": "stream",
     "text": [
      "[['a2_input', 'a1_input']]\n",
      "[['a2_input', 'a1_input'], ['b2']]\n",
      "[['a2_input', 'a1_input'], ['b2'], ['b1', 'c2']]\n",
      "[['a2_input', 'a1_input'], ['b2'], ['b1', 'c2'], ['c1']]\n",
      "[['a2_input', 'a1_input'], ['b2'], ['b1', 'c2'], ['c1'], ['y_hat']]\n"
     ]
    }
   ],
   "source": [
    "# propose chunk\n",
    "\n",
    "def get_current_window(available_nodes:list, # ordered list of nodes\n",
    "                       connection_dict: dict, # dict of connections with parent->[children]\n",
    "                       node_list_is_ordered:bool = True # If the node list isn't ordered then all will be searched\n",
    "                       ):\n",
    "    current_window = []\n",
    "    for j in range(len(available_nodes)):\n",
    "        prop_node = available_nodes[j]\n",
    "        # does proposed node need any nodes in the current window?\n",
    "        if True not in [True if e in current_window else False for e in connection_dict[prop_node]]:\n",
    "            current_window += [prop_node]\n",
    "        else:\n",
    "            if node_list_is_ordered:\n",
    "                break\n",
    "            else: # If the node list isn't ordered then all will be searched\n",
    "                pass\n",
    "    return current_window\n",
    "\n",
    "\n",
    "# get_current_window(available_nodes = dependancy_order,\n",
    "#                    connection_dict = temp,\n",
    "#                    node_list_is_ordered = True)\n",
    "\n",
    "\n",
    "# These are the nodes that can be in each matrix without being needed for the next output. \n",
    "# This is _not_ including the nodes that need to be kept around as input for future nodes.\n",
    "temp_nodes = dependancy_order.copy()\n",
    "nodes_in_matrices = []\n",
    "\n",
    "for _ in range(len(temp_nodes)):\n",
    "    if temp_nodes == []:\n",
    "        break\n",
    "    else:\n",
    "        nodes_in_matrices += [\n",
    "            get_current_window(available_nodes = temp_nodes,\n",
    "                        connection_dict = temp,\n",
    "                        node_list_is_ordered = True)]\n",
    "\n",
    "        temp_nodes = [e for e in temp_nodes if e not in nodes_in_matrices[-1]]\n",
    "        print(nodes_in_matrices)\n"
   ]
  },
  {
   "cell_type": "code",
   "execution_count": null,
   "id": "bacb16df",
   "metadata": {},
   "outputs": [
    {
     "data": {
      "text/plain": [
       "{0: ['a2_input', 'a1_input'],\n",
       " 1: ['b2'],\n",
       " 2: ['b1', 'c2'],\n",
       " 3: ['c1'],\n",
       " 4: ['y_hat']}"
      ]
     },
     "execution_count": null,
     "metadata": {},
     "output_type": "execute_result"
    }
   ],
   "source": [
    "nodes_as_matricies = dict(zip([i for i in range(len(nodes_in_matrices))], \n",
    "                              nodes_in_matrices))\n",
    "nodes_as_matricies"
   ]
  },
  {
   "cell_type": "code",
   "execution_count": null,
   "id": "79493d15",
   "metadata": {},
   "outputs": [
    {
     "data": {
      "text/plain": [
       "{3: ['b2', 'c2'], 2: ['b2'], 1: ['a1_input'], 0: []}"
      ]
     },
     "execution_count": null,
     "metadata": {},
     "output_type": "execute_result"
    }
   ],
   "source": [
    "identity_nodes = {}\n",
    "connection_dict = temp.copy()\n",
    "\n",
    "for matrix_level in range(max(nodes_as_matricies.keys()), 0, -1):\n",
    "    # print(matrix_level)\n",
    "    if matrix_level == max(nodes_as_matricies.keys()):\n",
    "        for_higher_level = []\n",
    "    else:\n",
    "        for_higher_level = identity_nodes[matrix_level]\n",
    "\n",
    "    needed_inputs = list(set(sum([connection_dict[node] for node in nodes_as_matricies[matrix_level]], [])))\n",
    "    identity_nodes[matrix_level-1] = [e for e in needed_inputs+for_higher_level\n",
    "                                       if e not in nodes_as_matricies[matrix_level-1]]\n",
    "    # print(identity_nodes)\n",
    "\n",
    "identity_nodes"
   ]
  },
  {
   "cell_type": "code",
   "execution_count": null,
   "id": "8609a9d6",
   "metadata": {},
   "outputs": [
    {
     "data": {
      "text/plain": [
       "{0: {'calc': ['a2_input', 'a1_input'], 'identity': []},\n",
       " 1: {'calc': ['b2'], 'identity': ['a1_input']},\n",
       " 2: {'calc': ['b1', 'c2'], 'identity': ['b2']},\n",
       " 3: {'calc': ['c1'], 'identity': ['b2', 'c2']},\n",
       " 4: {'calc': ['y_hat'], 'identity': []}}"
      ]
     },
     "execution_count": null,
     "metadata": {},
     "output_type": "execute_result"
    }
   ],
   "source": [
    "node_matrix_summary = {}\n",
    "for key in nodes_as_matricies.keys():\n",
    "    node_matrix_summary[key] = {'calc':nodes_as_matricies[key]}\n",
    "    if key in identity_nodes.keys():\n",
    "        node_matrix_summary[key]['identity'] = identity_nodes[key]\n",
    "    else:\n",
    "        node_matrix_summary[key]['identity'] = []\n",
    "\n",
    "node_matrix_summary"
   ]
  },
  {
   "cell_type": "code",
   "execution_count": null,
   "id": "86f52637",
   "metadata": {},
   "outputs": [
    {
     "data": {
      "text/plain": [
       "[('a1_input', torch.Size([200, 4, 3])), ('a2_input', torch.Size([200, 4, 2]))]"
      ]
     },
     "execution_count": null,
     "metadata": {},
     "output_type": "execute_result"
    }
   ],
   "source": [
    "[(e, input_tensor_dict[e].shape) for e  in input_tensor_dict.keys()]"
   ]
  },
  {
   "cell_type": "code",
   "execution_count": null,
   "id": "df52122d",
   "metadata": {},
   "outputs": [
    {
     "data": {
      "text/plain": [
       "torch.Size([200, 8])"
      ]
     },
     "execution_count": null,
     "metadata": {},
     "output_type": "execute_result"
    }
   ],
   "source": [
    "snps = torch.concatenate([input_tensor_dict[e].reshape(200, -1) for e in input_tensor_dict.keys()], axis=1)\n",
    "\n",
    "snps.shape\n",
    "# a1_input 0:12\n",
    "# a2_input 12:20\n",
    "snps[:, 12:20].shape"
   ]
  },
  {
   "cell_type": "code",
   "execution_count": null,
   "id": "a651cc7b",
   "metadata": {},
   "outputs": [
    {
     "data": {
      "application/vnd.plotly.v1+json": {
       "config": {
        "plotlyServerURL": "https://plot.ly"
       },
       "data": [
        {
         "coloraxis": "coloraxis",
         "hovertemplate": "x: %{x}<br>y: %{y}<br>color: %{z}<extra></extra>",
         "name": "0",
         "type": "heatmap",
         "xaxis": "x",
         "yaxis": "y",
         "z": [
          [
           1,
           0,
           0,
           0,
           0,
           0,
           0,
           0,
           0,
           0,
           0,
           0,
           0,
           0,
           0,
           0,
           0,
           0,
           0,
           0,
           0,
           0,
           0,
           0,
           0,
           0,
           0,
           0,
           0,
           0,
           0,
           0
          ],
          [
           0,
           1,
           0,
           0,
           0,
           0,
           0,
           0,
           0,
           0,
           0,
           0,
           0,
           0,
           0,
           0,
           0,
           0,
           0,
           0,
           0,
           0,
           0,
           0,
           0,
           0,
           0,
           0,
           0,
           0,
           0,
           0
          ],
          [
           0,
           0,
           1,
           0,
           0,
           0,
           0,
           0,
           0,
           0,
           0,
           0,
           0,
           0,
           0,
           0,
           0,
           0,
           0,
           0,
           0,
           0,
           0,
           0,
           0,
           0,
           0,
           0,
           0,
           0,
           0,
           0
          ],
          [
           0,
           0,
           0,
           1,
           0,
           0,
           0,
           0,
           0,
           0,
           0,
           0,
           0,
           0,
           0,
           0,
           0,
           0,
           0,
           0,
           0,
           0,
           0,
           0,
           0,
           0,
           0,
           0,
           0,
           0,
           0,
           0
          ],
          [
           0,
           0,
           0,
           0,
           1,
           0,
           0,
           0,
           0,
           0,
           0,
           0,
           0,
           0,
           0,
           0,
           0,
           0,
           0,
           0,
           0,
           0,
           0,
           0,
           0,
           0,
           0,
           0,
           0,
           0,
           0,
           0
          ],
          [
           0,
           0,
           0,
           0,
           0,
           1,
           0,
           0,
           0,
           0,
           0,
           0,
           0,
           0,
           0,
           0,
           0,
           0,
           0,
           0,
           0,
           0,
           0,
           0,
           0,
           0,
           0,
           0,
           0,
           0,
           0,
           0
          ],
          [
           0,
           0,
           0,
           0,
           0,
           0,
           1,
           0,
           0,
           0,
           0,
           0,
           0,
           0,
           0,
           0,
           0,
           0,
           0,
           0,
           0,
           0,
           0,
           0,
           0,
           0,
           0,
           0,
           0,
           0,
           0,
           0
          ],
          [
           0,
           0,
           0,
           0,
           0,
           0,
           0,
           1,
           0,
           0,
           0,
           0,
           0,
           0,
           0,
           0,
           0,
           0,
           0,
           0,
           0,
           0,
           0,
           0,
           0,
           0,
           0,
           0,
           0,
           0,
           0,
           0
          ],
          [
           0,
           0,
           0,
           0,
           0,
           0,
           0,
           0,
           1,
           0,
           0,
           0,
           0,
           0,
           0,
           0,
           0,
           0,
           0,
           0,
           0,
           0,
           0,
           0,
           0,
           0,
           0,
           0,
           0,
           0,
           0,
           0
          ],
          [
           0,
           0,
           0,
           0,
           0,
           0,
           0,
           0,
           0,
           1,
           0,
           0,
           0,
           0,
           0,
           0,
           0,
           0,
           0,
           0,
           0,
           0,
           0,
           0,
           0,
           0,
           0,
           0,
           0,
           0,
           0,
           0
          ],
          [
           0,
           0,
           0,
           0,
           0,
           0,
           0,
           0,
           0,
           0,
           1,
           0,
           0,
           0,
           0,
           0,
           0,
           0,
           0,
           0,
           0,
           0,
           0,
           0,
           0,
           0,
           0,
           0,
           0,
           0,
           0,
           0
          ],
          [
           0,
           0,
           0,
           0,
           0,
           0,
           0,
           0,
           0,
           0,
           0,
           1,
           0,
           0,
           0,
           0,
           0,
           0,
           0,
           0,
           0,
           0,
           0,
           0,
           0,
           0,
           0,
           0,
           0,
           0,
           0,
           0
          ],
          [
           0,
           0,
           0,
           0,
           0,
           0,
           0,
           0,
           0,
           0,
           0,
           0,
           0.39709216356277466,
           1.0397154092788696,
           -0.21737995743751526,
           1.6164846420288086,
           -0.2464478611946106,
           -0.031806498765945435,
           -1.0038926601409912,
           -1.206995964050293,
           -1.087457537651062,
           -1.4331388473510742,
           -0.44429200887680054,
           -0.29853302240371704,
           0.032917678356170654,
           -1.590912103652954,
           0.0996544361114502,
           1.1376891136169434,
           0.037639643996953964,
           2.249809503555298,
           0.8173206448554993,
           1.1491761207580566
          ],
          [
           0,
           0,
           0,
           0,
           0,
           0,
           0,
           0,
           0,
           0,
           0,
           0,
           -1.4628340005874634,
           -0.6322699785232544,
           -0.14019887149333954,
           0.8672552108764648,
           -1.8860050439834595,
           -1.2821955680847168,
           -0.959369421005249,
           -0.061318736523389816,
           0.5090212225914001,
           -0.20334456861019135,
           -0.14679701626300812,
           0.0947895422577858,
           -1.3432772159576416,
           1.7064183950424194,
           1.036045789718628,
           0.8980980515480042,
           -0.6487311124801636,
           -1.7961820363998413,
           0.14941702783107758,
           0.5244243741035461
          ],
          [
           0,
           0,
           0,
           0,
           0,
           0,
           0,
           0,
           0,
           0,
           0,
           0,
           -0.3148239850997925,
           0.28357937932014465,
           0.7571784853935242,
           0.5077870488166809,
           0.2470322698354721,
           1.1895499229431152,
           1.5719283819198608,
           -0.8037933707237244,
           1.5680872201919556,
           -1.5543214082717896,
           0.04130643233656883,
           0.534670352935791,
           1.0293288230895996,
           0.8694348335266113,
           -1.2077140808105469,
           -1.6979271173477173,
           -0.03379377722740173,
           -0.0317954383790493,
           0.6197529435157776,
           -0.11028435826301575
          ],
          [
           0,
           0,
           0,
           0,
           0,
           0,
           0,
           0,
           0,
           0,
           0,
           0,
           -0.15369465947151184,
           0.324008047580719,
           -0.33297380805015564,
           -0.26437515020370483,
           -2.0405330657958984,
           1.3968313932418823,
           0.019890177994966507,
           1.2590330839157104,
           1.607176423072815,
           -1.6401588916778564,
           -0.8779945373535156,
           1.3669118881225586,
           -1.4421738386154175,
           0.001718983636237681,
           0.17512615025043488,
           -0.8843002319335938,
           1.7184110879898071,
           -1.3947535753250122,
           -0.4503675401210785,
           -0.09034518897533417
          ],
          [
           0,
           0,
           0,
           0,
           0,
           0,
           0,
           0,
           0,
           0,
           0,
           0,
           -0.46512407064437866,
           -1.694758415222168,
           -0.01990332640707493,
           1.0114388465881348,
           0.1917092353105545,
           -0.3471981883049011,
           1.1443129777908325,
           0.3166522979736328,
           2.380573034286499,
           -0.3168018162250519,
           0.7604129910469055,
           -0.04892638698220253,
           0.2327679544687271,
           1.7907414436340332,
           -0.2774927020072937,
           -0.3810931444168091,
           0.5820092558860779,
           1.8408002853393555,
           -2.529585361480713,
           -0.27746137976646423
          ],
          [
           0,
           0,
           0,
           0,
           0,
           0,
           0,
           0,
           0,
           0,
           0,
           0,
           1.477162480354309,
           0.4834665060043335,
           -1.8244619369506836,
           0.07768785208463669,
           -1.3221359252929688,
           -1.159552812576294,
           1.7443782091140747,
           1.160530686378479,
           0.18177390098571777,
           0.3371654152870178,
           0.6508535146713257,
           1.3190034627914429,
           -0.5189488530158997,
           -1.0045506954193115,
           0.27651143074035645,
           -0.28922995924949646,
           -1.033265471458435,
           1.6118324995040894,
           0.17015443742275238,
           0.03306577727198601
          ],
          [
           0,
           0,
           0,
           0,
           0,
           0,
           0,
           0,
           0,
           0,
           0,
           0,
           -2.6207635402679443,
           -0.8586827516555786,
           1.2798311710357666,
           -0.7257931232452393,
           -0.3815324306488037,
           1.9417978525161743,
           -0.3767322599887848,
           0.23686695098876953,
           -1.3566293716430664,
           0.09706711024045944,
           1.0124289989471436,
           -1.5595643520355225,
           -0.695813775062561,
           0.8785431385040283,
           0.012138287536799908,
           -0.6807709336280823,
           -1.7840020656585693,
           0.5495091676712036,
           0.027899716049432755,
           1.2774372100830078
          ],
          [
           0,
           0,
           0,
           0,
           0,
           0,
           0,
           0,
           0,
           0,
           0,
           0,
           -0.9879198670387268,
           1.3013968467712402,
           1.9270731210708618,
           -1.0015941858291626,
           0.22252757847309113,
           0.3556210994720459,
           -0.4877939522266388,
           0.34670305252075195,
           -0.6235702037811279,
           2.2450060844421387,
           1.644887924194336,
           -0.7901501059532166,
           -0.6740387678146362,
           -0.7377541661262512,
           -0.9695442914962769,
           -0.9989045262336731,
           -0.1769881546497345,
           -0.5544558763504028,
           1.8765016794204712,
           1.0545207262039185
          ]
         ]
        }
       ],
       "layout": {
        "coloraxis": {
         "colorscale": [
          [
           0,
           "#0d0887"
          ],
          [
           0.1111111111111111,
           "#46039f"
          ],
          [
           0.2222222222222222,
           "#7201a8"
          ],
          [
           0.3333333333333333,
           "#9c179e"
          ],
          [
           0.4444444444444444,
           "#bd3786"
          ],
          [
           0.5555555555555556,
           "#d8576b"
          ],
          [
           0.6666666666666666,
           "#ed7953"
          ],
          [
           0.7777777777777778,
           "#fb9f3a"
          ],
          [
           0.8888888888888888,
           "#fdca26"
          ],
          [
           1,
           "#f0f921"
          ]
         ]
        },
        "margin": {
         "t": 60
        },
        "template": {
         "data": {
          "bar": [
           {
            "error_x": {
             "color": "#2a3f5f"
            },
            "error_y": {
             "color": "#2a3f5f"
            },
            "marker": {
             "line": {
              "color": "white",
              "width": 0.5
             },
             "pattern": {
              "fillmode": "overlay",
              "size": 10,
              "solidity": 0.2
             }
            },
            "type": "bar"
           }
          ],
          "barpolar": [
           {
            "marker": {
             "line": {
              "color": "white",
              "width": 0.5
             },
             "pattern": {
              "fillmode": "overlay",
              "size": 10,
              "solidity": 0.2
             }
            },
            "type": "barpolar"
           }
          ],
          "carpet": [
           {
            "aaxis": {
             "endlinecolor": "#2a3f5f",
             "gridcolor": "#C8D4E3",
             "linecolor": "#C8D4E3",
             "minorgridcolor": "#C8D4E3",
             "startlinecolor": "#2a3f5f"
            },
            "baxis": {
             "endlinecolor": "#2a3f5f",
             "gridcolor": "#C8D4E3",
             "linecolor": "#C8D4E3",
             "minorgridcolor": "#C8D4E3",
             "startlinecolor": "#2a3f5f"
            },
            "type": "carpet"
           }
          ],
          "choropleth": [
           {
            "colorbar": {
             "outlinewidth": 0,
             "ticks": ""
            },
            "type": "choropleth"
           }
          ],
          "contour": [
           {
            "colorbar": {
             "outlinewidth": 0,
             "ticks": ""
            },
            "colorscale": [
             [
              0,
              "#0d0887"
             ],
             [
              0.1111111111111111,
              "#46039f"
             ],
             [
              0.2222222222222222,
              "#7201a8"
             ],
             [
              0.3333333333333333,
              "#9c179e"
             ],
             [
              0.4444444444444444,
              "#bd3786"
             ],
             [
              0.5555555555555556,
              "#d8576b"
             ],
             [
              0.6666666666666666,
              "#ed7953"
             ],
             [
              0.7777777777777778,
              "#fb9f3a"
             ],
             [
              0.8888888888888888,
              "#fdca26"
             ],
             [
              1,
              "#f0f921"
             ]
            ],
            "type": "contour"
           }
          ],
          "contourcarpet": [
           {
            "colorbar": {
             "outlinewidth": 0,
             "ticks": ""
            },
            "type": "contourcarpet"
           }
          ],
          "heatmap": [
           {
            "colorbar": {
             "outlinewidth": 0,
             "ticks": ""
            },
            "colorscale": [
             [
              0,
              "#0d0887"
             ],
             [
              0.1111111111111111,
              "#46039f"
             ],
             [
              0.2222222222222222,
              "#7201a8"
             ],
             [
              0.3333333333333333,
              "#9c179e"
             ],
             [
              0.4444444444444444,
              "#bd3786"
             ],
             [
              0.5555555555555556,
              "#d8576b"
             ],
             [
              0.6666666666666666,
              "#ed7953"
             ],
             [
              0.7777777777777778,
              "#fb9f3a"
             ],
             [
              0.8888888888888888,
              "#fdca26"
             ],
             [
              1,
              "#f0f921"
             ]
            ],
            "type": "heatmap"
           }
          ],
          "heatmapgl": [
           {
            "colorbar": {
             "outlinewidth": 0,
             "ticks": ""
            },
            "colorscale": [
             [
              0,
              "#0d0887"
             ],
             [
              0.1111111111111111,
              "#46039f"
             ],
             [
              0.2222222222222222,
              "#7201a8"
             ],
             [
              0.3333333333333333,
              "#9c179e"
             ],
             [
              0.4444444444444444,
              "#bd3786"
             ],
             [
              0.5555555555555556,
              "#d8576b"
             ],
             [
              0.6666666666666666,
              "#ed7953"
             ],
             [
              0.7777777777777778,
              "#fb9f3a"
             ],
             [
              0.8888888888888888,
              "#fdca26"
             ],
             [
              1,
              "#f0f921"
             ]
            ],
            "type": "heatmapgl"
           }
          ],
          "histogram": [
           {
            "marker": {
             "pattern": {
              "fillmode": "overlay",
              "size": 10,
              "solidity": 0.2
             }
            },
            "type": "histogram"
           }
          ],
          "histogram2d": [
           {
            "colorbar": {
             "outlinewidth": 0,
             "ticks": ""
            },
            "colorscale": [
             [
              0,
              "#0d0887"
             ],
             [
              0.1111111111111111,
              "#46039f"
             ],
             [
              0.2222222222222222,
              "#7201a8"
             ],
             [
              0.3333333333333333,
              "#9c179e"
             ],
             [
              0.4444444444444444,
              "#bd3786"
             ],
             [
              0.5555555555555556,
              "#d8576b"
             ],
             [
              0.6666666666666666,
              "#ed7953"
             ],
             [
              0.7777777777777778,
              "#fb9f3a"
             ],
             [
              0.8888888888888888,
              "#fdca26"
             ],
             [
              1,
              "#f0f921"
             ]
            ],
            "type": "histogram2d"
           }
          ],
          "histogram2dcontour": [
           {
            "colorbar": {
             "outlinewidth": 0,
             "ticks": ""
            },
            "colorscale": [
             [
              0,
              "#0d0887"
             ],
             [
              0.1111111111111111,
              "#46039f"
             ],
             [
              0.2222222222222222,
              "#7201a8"
             ],
             [
              0.3333333333333333,
              "#9c179e"
             ],
             [
              0.4444444444444444,
              "#bd3786"
             ],
             [
              0.5555555555555556,
              "#d8576b"
             ],
             [
              0.6666666666666666,
              "#ed7953"
             ],
             [
              0.7777777777777778,
              "#fb9f3a"
             ],
             [
              0.8888888888888888,
              "#fdca26"
             ],
             [
              1,
              "#f0f921"
             ]
            ],
            "type": "histogram2dcontour"
           }
          ],
          "mesh3d": [
           {
            "colorbar": {
             "outlinewidth": 0,
             "ticks": ""
            },
            "type": "mesh3d"
           }
          ],
          "parcoords": [
           {
            "line": {
             "colorbar": {
              "outlinewidth": 0,
              "ticks": ""
             }
            },
            "type": "parcoords"
           }
          ],
          "pie": [
           {
            "automargin": true,
            "type": "pie"
           }
          ],
          "scatter": [
           {
            "fillpattern": {
             "fillmode": "overlay",
             "size": 10,
             "solidity": 0.2
            },
            "type": "scatter"
           }
          ],
          "scatter3d": [
           {
            "line": {
             "colorbar": {
              "outlinewidth": 0,
              "ticks": ""
             }
            },
            "marker": {
             "colorbar": {
              "outlinewidth": 0,
              "ticks": ""
             }
            },
            "type": "scatter3d"
           }
          ],
          "scattercarpet": [
           {
            "marker": {
             "colorbar": {
              "outlinewidth": 0,
              "ticks": ""
             }
            },
            "type": "scattercarpet"
           }
          ],
          "scattergeo": [
           {
            "marker": {
             "colorbar": {
              "outlinewidth": 0,
              "ticks": ""
             }
            },
            "type": "scattergeo"
           }
          ],
          "scattergl": [
           {
            "marker": {
             "colorbar": {
              "outlinewidth": 0,
              "ticks": ""
             }
            },
            "type": "scattergl"
           }
          ],
          "scattermapbox": [
           {
            "marker": {
             "colorbar": {
              "outlinewidth": 0,
              "ticks": ""
             }
            },
            "type": "scattermapbox"
           }
          ],
          "scatterpolar": [
           {
            "marker": {
             "colorbar": {
              "outlinewidth": 0,
              "ticks": ""
             }
            },
            "type": "scatterpolar"
           }
          ],
          "scatterpolargl": [
           {
            "marker": {
             "colorbar": {
              "outlinewidth": 0,
              "ticks": ""
             }
            },
            "type": "scatterpolargl"
           }
          ],
          "scatterternary": [
           {
            "marker": {
             "colorbar": {
              "outlinewidth": 0,
              "ticks": ""
             }
            },
            "type": "scatterternary"
           }
          ],
          "surface": [
           {
            "colorbar": {
             "outlinewidth": 0,
             "ticks": ""
            },
            "colorscale": [
             [
              0,
              "#0d0887"
             ],
             [
              0.1111111111111111,
              "#46039f"
             ],
             [
              0.2222222222222222,
              "#7201a8"
             ],
             [
              0.3333333333333333,
              "#9c179e"
             ],
             [
              0.4444444444444444,
              "#bd3786"
             ],
             [
              0.5555555555555556,
              "#d8576b"
             ],
             [
              0.6666666666666666,
              "#ed7953"
             ],
             [
              0.7777777777777778,
              "#fb9f3a"
             ],
             [
              0.8888888888888888,
              "#fdca26"
             ],
             [
              1,
              "#f0f921"
             ]
            ],
            "type": "surface"
           }
          ],
          "table": [
           {
            "cells": {
             "fill": {
              "color": "#EBF0F8"
             },
             "line": {
              "color": "white"
             }
            },
            "header": {
             "fill": {
              "color": "#C8D4E3"
             },
             "line": {
              "color": "white"
             }
            },
            "type": "table"
           }
          ]
         },
         "layout": {
          "annotationdefaults": {
           "arrowcolor": "#2a3f5f",
           "arrowhead": 0,
           "arrowwidth": 1
          },
          "autotypenumbers": "strict",
          "coloraxis": {
           "colorbar": {
            "outlinewidth": 0,
            "ticks": ""
           }
          },
          "colorscale": {
           "diverging": [
            [
             0,
             "#8e0152"
            ],
            [
             0.1,
             "#c51b7d"
            ],
            [
             0.2,
             "#de77ae"
            ],
            [
             0.3,
             "#f1b6da"
            ],
            [
             0.4,
             "#fde0ef"
            ],
            [
             0.5,
             "#f7f7f7"
            ],
            [
             0.6,
             "#e6f5d0"
            ],
            [
             0.7,
             "#b8e186"
            ],
            [
             0.8,
             "#7fbc41"
            ],
            [
             0.9,
             "#4d9221"
            ],
            [
             1,
             "#276419"
            ]
           ],
           "sequential": [
            [
             0,
             "#0d0887"
            ],
            [
             0.1111111111111111,
             "#46039f"
            ],
            [
             0.2222222222222222,
             "#7201a8"
            ],
            [
             0.3333333333333333,
             "#9c179e"
            ],
            [
             0.4444444444444444,
             "#bd3786"
            ],
            [
             0.5555555555555556,
             "#d8576b"
            ],
            [
             0.6666666666666666,
             "#ed7953"
            ],
            [
             0.7777777777777778,
             "#fb9f3a"
            ],
            [
             0.8888888888888888,
             "#fdca26"
            ],
            [
             1,
             "#f0f921"
            ]
           ],
           "sequentialminus": [
            [
             0,
             "#0d0887"
            ],
            [
             0.1111111111111111,
             "#46039f"
            ],
            [
             0.2222222222222222,
             "#7201a8"
            ],
            [
             0.3333333333333333,
             "#9c179e"
            ],
            [
             0.4444444444444444,
             "#bd3786"
            ],
            [
             0.5555555555555556,
             "#d8576b"
            ],
            [
             0.6666666666666666,
             "#ed7953"
            ],
            [
             0.7777777777777778,
             "#fb9f3a"
            ],
            [
             0.8888888888888888,
             "#fdca26"
            ],
            [
             1,
             "#f0f921"
            ]
           ]
          },
          "colorway": [
           "#636efa",
           "#EF553B",
           "#00cc96",
           "#ab63fa",
           "#FFA15A",
           "#19d3f3",
           "#FF6692",
           "#B6E880",
           "#FF97FF",
           "#FECB52"
          ],
          "font": {
           "color": "#2a3f5f"
          },
          "geo": {
           "bgcolor": "white",
           "lakecolor": "white",
           "landcolor": "white",
           "showlakes": true,
           "showland": true,
           "subunitcolor": "#C8D4E3"
          },
          "hoverlabel": {
           "align": "left"
          },
          "hovermode": "closest",
          "mapbox": {
           "style": "light"
          },
          "paper_bgcolor": "white",
          "plot_bgcolor": "white",
          "polar": {
           "angularaxis": {
            "gridcolor": "#EBF0F8",
            "linecolor": "#EBF0F8",
            "ticks": ""
           },
           "bgcolor": "white",
           "radialaxis": {
            "gridcolor": "#EBF0F8",
            "linecolor": "#EBF0F8",
            "ticks": ""
           }
          },
          "scene": {
           "xaxis": {
            "backgroundcolor": "white",
            "gridcolor": "#DFE8F3",
            "gridwidth": 2,
            "linecolor": "#EBF0F8",
            "showbackground": true,
            "ticks": "",
            "zerolinecolor": "#EBF0F8"
           },
           "yaxis": {
            "backgroundcolor": "white",
            "gridcolor": "#DFE8F3",
            "gridwidth": 2,
            "linecolor": "#EBF0F8",
            "showbackground": true,
            "ticks": "",
            "zerolinecolor": "#EBF0F8"
           },
           "zaxis": {
            "backgroundcolor": "white",
            "gridcolor": "#DFE8F3",
            "gridwidth": 2,
            "linecolor": "#EBF0F8",
            "showbackground": true,
            "ticks": "",
            "zerolinecolor": "#EBF0F8"
           }
          },
          "shapedefaults": {
           "line": {
            "color": "#2a3f5f"
           }
          },
          "ternary": {
           "aaxis": {
            "gridcolor": "#DFE8F3",
            "linecolor": "#A2B1C6",
            "ticks": ""
           },
           "baxis": {
            "gridcolor": "#DFE8F3",
            "linecolor": "#A2B1C6",
            "ticks": ""
           },
           "bgcolor": "white",
           "caxis": {
            "gridcolor": "#DFE8F3",
            "linecolor": "#A2B1C6",
            "ticks": ""
           }
          },
          "title": {
           "x": 0.05
          },
          "xaxis": {
           "automargin": true,
           "gridcolor": "#EBF0F8",
           "linecolor": "#EBF0F8",
           "ticks": "",
           "title": {
            "standoff": 15
           },
           "zerolinecolor": "#EBF0F8",
           "zerolinewidth": 2
          },
          "yaxis": {
           "automargin": true,
           "gridcolor": "#EBF0F8",
           "linecolor": "#EBF0F8",
           "ticks": "",
           "title": {
            "standoff": 15
           },
           "zerolinecolor": "#EBF0F8",
           "zerolinewidth": 2
          }
         }
        },
        "xaxis": {
         "anchor": "y",
         "constrain": "domain",
         "domain": [
          0,
          1
         ],
         "scaleanchor": "y"
        },
        "yaxis": {
         "anchor": "x",
         "autorange": "reversed",
         "constrain": "domain",
         "domain": [
          0,
          1
         ]
        }
       }
      },
      "text/html": [
       "<div>                            <div id=\"57d04b20-c24c-4e76-948e-c49eebf5b17f\" class=\"plotly-graph-div\" style=\"height:525px; width:100%;\"></div>            <script type=\"text/javascript\">                require([\"plotly\"], function(Plotly) {                    window.PLOTLYENV=window.PLOTLYENV || {};                                    if (document.getElementById(\"57d04b20-c24c-4e76-948e-c49eebf5b17f\")) {                    Plotly.newPlot(                        \"57d04b20-c24c-4e76-948e-c49eebf5b17f\",                        [{\"coloraxis\":\"coloraxis\",\"name\":\"0\",\"z\":[[1.0,0.0,0.0,0.0,0.0,0.0,0.0,0.0,0.0,0.0,0.0,0.0,0.0,0.0,0.0,0.0,0.0,0.0,0.0,0.0,0.0,0.0,0.0,0.0,0.0,0.0,0.0,0.0,0.0,0.0,0.0,0.0],[0.0,1.0,0.0,0.0,0.0,0.0,0.0,0.0,0.0,0.0,0.0,0.0,0.0,0.0,0.0,0.0,0.0,0.0,0.0,0.0,0.0,0.0,0.0,0.0,0.0,0.0,0.0,0.0,0.0,0.0,0.0,0.0],[0.0,0.0,1.0,0.0,0.0,0.0,0.0,0.0,0.0,0.0,0.0,0.0,0.0,0.0,0.0,0.0,0.0,0.0,0.0,0.0,0.0,0.0,0.0,0.0,0.0,0.0,0.0,0.0,0.0,0.0,0.0,0.0],[0.0,0.0,0.0,1.0,0.0,0.0,0.0,0.0,0.0,0.0,0.0,0.0,0.0,0.0,0.0,0.0,0.0,0.0,0.0,0.0,0.0,0.0,0.0,0.0,0.0,0.0,0.0,0.0,0.0,0.0,0.0,0.0],[0.0,0.0,0.0,0.0,1.0,0.0,0.0,0.0,0.0,0.0,0.0,0.0,0.0,0.0,0.0,0.0,0.0,0.0,0.0,0.0,0.0,0.0,0.0,0.0,0.0,0.0,0.0,0.0,0.0,0.0,0.0,0.0],[0.0,0.0,0.0,0.0,0.0,1.0,0.0,0.0,0.0,0.0,0.0,0.0,0.0,0.0,0.0,0.0,0.0,0.0,0.0,0.0,0.0,0.0,0.0,0.0,0.0,0.0,0.0,0.0,0.0,0.0,0.0,0.0],[0.0,0.0,0.0,0.0,0.0,0.0,1.0,0.0,0.0,0.0,0.0,0.0,0.0,0.0,0.0,0.0,0.0,0.0,0.0,0.0,0.0,0.0,0.0,0.0,0.0,0.0,0.0,0.0,0.0,0.0,0.0,0.0],[0.0,0.0,0.0,0.0,0.0,0.0,0.0,1.0,0.0,0.0,0.0,0.0,0.0,0.0,0.0,0.0,0.0,0.0,0.0,0.0,0.0,0.0,0.0,0.0,0.0,0.0,0.0,0.0,0.0,0.0,0.0,0.0],[0.0,0.0,0.0,0.0,0.0,0.0,0.0,0.0,1.0,0.0,0.0,0.0,0.0,0.0,0.0,0.0,0.0,0.0,0.0,0.0,0.0,0.0,0.0,0.0,0.0,0.0,0.0,0.0,0.0,0.0,0.0,0.0],[0.0,0.0,0.0,0.0,0.0,0.0,0.0,0.0,0.0,1.0,0.0,0.0,0.0,0.0,0.0,0.0,0.0,0.0,0.0,0.0,0.0,0.0,0.0,0.0,0.0,0.0,0.0,0.0,0.0,0.0,0.0,0.0],[0.0,0.0,0.0,0.0,0.0,0.0,0.0,0.0,0.0,0.0,1.0,0.0,0.0,0.0,0.0,0.0,0.0,0.0,0.0,0.0,0.0,0.0,0.0,0.0,0.0,0.0,0.0,0.0,0.0,0.0,0.0,0.0],[0.0,0.0,0.0,0.0,0.0,0.0,0.0,0.0,0.0,0.0,0.0,1.0,0.0,0.0,0.0,0.0,0.0,0.0,0.0,0.0,0.0,0.0,0.0,0.0,0.0,0.0,0.0,0.0,0.0,0.0,0.0,0.0],[0.0,0.0,0.0,0.0,0.0,0.0,0.0,0.0,0.0,0.0,0.0,0.0,0.39709216356277466,1.0397154092788696,-0.21737995743751526,1.6164846420288086,-0.2464478611946106,-0.031806498765945435,-1.0038926601409912,-1.206995964050293,-1.087457537651062,-1.4331388473510742,-0.44429200887680054,-0.29853302240371704,0.032917678356170654,-1.590912103652954,0.0996544361114502,1.1376891136169434,0.037639643996953964,2.249809503555298,0.8173206448554993,1.1491761207580566],[0.0,0.0,0.0,0.0,0.0,0.0,0.0,0.0,0.0,0.0,0.0,0.0,-1.4628340005874634,-0.6322699785232544,-0.14019887149333954,0.8672552108764648,-1.8860050439834595,-1.2821955680847168,-0.959369421005249,-0.061318736523389816,0.5090212225914001,-0.20334456861019135,-0.14679701626300812,0.0947895422577858,-1.3432772159576416,1.7064183950424194,1.036045789718628,0.8980980515480042,-0.6487311124801636,-1.7961820363998413,0.14941702783107758,0.5244243741035461],[0.0,0.0,0.0,0.0,0.0,0.0,0.0,0.0,0.0,0.0,0.0,0.0,-0.3148239850997925,0.28357937932014465,0.7571784853935242,0.5077870488166809,0.2470322698354721,1.1895499229431152,1.5719283819198608,-0.8037933707237244,1.5680872201919556,-1.5543214082717896,0.04130643233656883,0.534670352935791,1.0293288230895996,0.8694348335266113,-1.2077140808105469,-1.6979271173477173,-0.03379377722740173,-0.0317954383790493,0.6197529435157776,-0.11028435826301575],[0.0,0.0,0.0,0.0,0.0,0.0,0.0,0.0,0.0,0.0,0.0,0.0,-0.15369465947151184,0.324008047580719,-0.33297380805015564,-0.26437515020370483,-2.0405330657958984,1.3968313932418823,0.019890177994966507,1.2590330839157104,1.607176423072815,-1.6401588916778564,-0.8779945373535156,1.3669118881225586,-1.4421738386154175,0.001718983636237681,0.17512615025043488,-0.8843002319335938,1.7184110879898071,-1.3947535753250122,-0.4503675401210785,-0.09034518897533417],[0.0,0.0,0.0,0.0,0.0,0.0,0.0,0.0,0.0,0.0,0.0,0.0,-0.46512407064437866,-1.694758415222168,-0.01990332640707493,1.0114388465881348,0.1917092353105545,-0.3471981883049011,1.1443129777908325,0.3166522979736328,2.380573034286499,-0.3168018162250519,0.7604129910469055,-0.04892638698220253,0.2327679544687271,1.7907414436340332,-0.2774927020072937,-0.3810931444168091,0.5820092558860779,1.8408002853393555,-2.529585361480713,-0.27746137976646423],[0.0,0.0,0.0,0.0,0.0,0.0,0.0,0.0,0.0,0.0,0.0,0.0,1.477162480354309,0.4834665060043335,-1.8244619369506836,0.07768785208463669,-1.3221359252929688,-1.159552812576294,1.7443782091140747,1.160530686378479,0.18177390098571777,0.3371654152870178,0.6508535146713257,1.3190034627914429,-0.5189488530158997,-1.0045506954193115,0.27651143074035645,-0.28922995924949646,-1.033265471458435,1.6118324995040894,0.17015443742275238,0.03306577727198601],[0.0,0.0,0.0,0.0,0.0,0.0,0.0,0.0,0.0,0.0,0.0,0.0,-2.6207635402679443,-0.8586827516555786,1.2798311710357666,-0.7257931232452393,-0.3815324306488037,1.9417978525161743,-0.3767322599887848,0.23686695098876953,-1.3566293716430664,0.09706711024045944,1.0124289989471436,-1.5595643520355225,-0.695813775062561,0.8785431385040283,0.012138287536799908,-0.6807709336280823,-1.7840020656585693,0.5495091676712036,0.027899716049432755,1.2774372100830078],[0.0,0.0,0.0,0.0,0.0,0.0,0.0,0.0,0.0,0.0,0.0,0.0,-0.9879198670387268,1.3013968467712402,1.9270731210708618,-1.0015941858291626,0.22252757847309113,0.3556210994720459,-0.4877939522266388,0.34670305252075195,-0.6235702037811279,2.2450060844421387,1.644887924194336,-0.7901501059532166,-0.6740387678146362,-0.7377541661262512,-0.9695442914962769,-0.9989045262336731,-0.1769881546497345,-0.5544558763504028,1.8765016794204712,1.0545207262039185]],\"type\":\"heatmap\",\"xaxis\":\"x\",\"yaxis\":\"y\",\"hovertemplate\":\"x: %{x}<br>y: %{y}<br>color: %{z}<extra></extra>\"}],                        {\"template\":{\"data\":{\"histogram2dcontour\":[{\"type\":\"histogram2dcontour\",\"colorbar\":{\"outlinewidth\":0,\"ticks\":\"\"},\"colorscale\":[[0.0,\"#0d0887\"],[0.1111111111111111,\"#46039f\"],[0.2222222222222222,\"#7201a8\"],[0.3333333333333333,\"#9c179e\"],[0.4444444444444444,\"#bd3786\"],[0.5555555555555556,\"#d8576b\"],[0.6666666666666666,\"#ed7953\"],[0.7777777777777778,\"#fb9f3a\"],[0.8888888888888888,\"#fdca26\"],[1.0,\"#f0f921\"]]}],\"choropleth\":[{\"type\":\"choropleth\",\"colorbar\":{\"outlinewidth\":0,\"ticks\":\"\"}}],\"histogram2d\":[{\"type\":\"histogram2d\",\"colorbar\":{\"outlinewidth\":0,\"ticks\":\"\"},\"colorscale\":[[0.0,\"#0d0887\"],[0.1111111111111111,\"#46039f\"],[0.2222222222222222,\"#7201a8\"],[0.3333333333333333,\"#9c179e\"],[0.4444444444444444,\"#bd3786\"],[0.5555555555555556,\"#d8576b\"],[0.6666666666666666,\"#ed7953\"],[0.7777777777777778,\"#fb9f3a\"],[0.8888888888888888,\"#fdca26\"],[1.0,\"#f0f921\"]]}],\"heatmap\":[{\"type\":\"heatmap\",\"colorbar\":{\"outlinewidth\":0,\"ticks\":\"\"},\"colorscale\":[[0.0,\"#0d0887\"],[0.1111111111111111,\"#46039f\"],[0.2222222222222222,\"#7201a8\"],[0.3333333333333333,\"#9c179e\"],[0.4444444444444444,\"#bd3786\"],[0.5555555555555556,\"#d8576b\"],[0.6666666666666666,\"#ed7953\"],[0.7777777777777778,\"#fb9f3a\"],[0.8888888888888888,\"#fdca26\"],[1.0,\"#f0f921\"]]}],\"heatmapgl\":[{\"type\":\"heatmapgl\",\"colorbar\":{\"outlinewidth\":0,\"ticks\":\"\"},\"colorscale\":[[0.0,\"#0d0887\"],[0.1111111111111111,\"#46039f\"],[0.2222222222222222,\"#7201a8\"],[0.3333333333333333,\"#9c179e\"],[0.4444444444444444,\"#bd3786\"],[0.5555555555555556,\"#d8576b\"],[0.6666666666666666,\"#ed7953\"],[0.7777777777777778,\"#fb9f3a\"],[0.8888888888888888,\"#fdca26\"],[1.0,\"#f0f921\"]]}],\"contourcarpet\":[{\"type\":\"contourcarpet\",\"colorbar\":{\"outlinewidth\":0,\"ticks\":\"\"}}],\"contour\":[{\"type\":\"contour\",\"colorbar\":{\"outlinewidth\":0,\"ticks\":\"\"},\"colorscale\":[[0.0,\"#0d0887\"],[0.1111111111111111,\"#46039f\"],[0.2222222222222222,\"#7201a8\"],[0.3333333333333333,\"#9c179e\"],[0.4444444444444444,\"#bd3786\"],[0.5555555555555556,\"#d8576b\"],[0.6666666666666666,\"#ed7953\"],[0.7777777777777778,\"#fb9f3a\"],[0.8888888888888888,\"#fdca26\"],[1.0,\"#f0f921\"]]}],\"surface\":[{\"type\":\"surface\",\"colorbar\":{\"outlinewidth\":0,\"ticks\":\"\"},\"colorscale\":[[0.0,\"#0d0887\"],[0.1111111111111111,\"#46039f\"],[0.2222222222222222,\"#7201a8\"],[0.3333333333333333,\"#9c179e\"],[0.4444444444444444,\"#bd3786\"],[0.5555555555555556,\"#d8576b\"],[0.6666666666666666,\"#ed7953\"],[0.7777777777777778,\"#fb9f3a\"],[0.8888888888888888,\"#fdca26\"],[1.0,\"#f0f921\"]]}],\"mesh3d\":[{\"type\":\"mesh3d\",\"colorbar\":{\"outlinewidth\":0,\"ticks\":\"\"}}],\"scatter\":[{\"fillpattern\":{\"fillmode\":\"overlay\",\"size\":10,\"solidity\":0.2},\"type\":\"scatter\"}],\"parcoords\":[{\"type\":\"parcoords\",\"line\":{\"colorbar\":{\"outlinewidth\":0,\"ticks\":\"\"}}}],\"scatterpolargl\":[{\"type\":\"scatterpolargl\",\"marker\":{\"colorbar\":{\"outlinewidth\":0,\"ticks\":\"\"}}}],\"bar\":[{\"error_x\":{\"color\":\"#2a3f5f\"},\"error_y\":{\"color\":\"#2a3f5f\"},\"marker\":{\"line\":{\"color\":\"white\",\"width\":0.5},\"pattern\":{\"fillmode\":\"overlay\",\"size\":10,\"solidity\":0.2}},\"type\":\"bar\"}],\"scattergeo\":[{\"type\":\"scattergeo\",\"marker\":{\"colorbar\":{\"outlinewidth\":0,\"ticks\":\"\"}}}],\"scatterpolar\":[{\"type\":\"scatterpolar\",\"marker\":{\"colorbar\":{\"outlinewidth\":0,\"ticks\":\"\"}}}],\"histogram\":[{\"marker\":{\"pattern\":{\"fillmode\":\"overlay\",\"size\":10,\"solidity\":0.2}},\"type\":\"histogram\"}],\"scattergl\":[{\"type\":\"scattergl\",\"marker\":{\"colorbar\":{\"outlinewidth\":0,\"ticks\":\"\"}}}],\"scatter3d\":[{\"type\":\"scatter3d\",\"line\":{\"colorbar\":{\"outlinewidth\":0,\"ticks\":\"\"}},\"marker\":{\"colorbar\":{\"outlinewidth\":0,\"ticks\":\"\"}}}],\"scattermapbox\":[{\"type\":\"scattermapbox\",\"marker\":{\"colorbar\":{\"outlinewidth\":0,\"ticks\":\"\"}}}],\"scatterternary\":[{\"type\":\"scatterternary\",\"marker\":{\"colorbar\":{\"outlinewidth\":0,\"ticks\":\"\"}}}],\"scattercarpet\":[{\"type\":\"scattercarpet\",\"marker\":{\"colorbar\":{\"outlinewidth\":0,\"ticks\":\"\"}}}],\"carpet\":[{\"aaxis\":{\"endlinecolor\":\"#2a3f5f\",\"gridcolor\":\"#C8D4E3\",\"linecolor\":\"#C8D4E3\",\"minorgridcolor\":\"#C8D4E3\",\"startlinecolor\":\"#2a3f5f\"},\"baxis\":{\"endlinecolor\":\"#2a3f5f\",\"gridcolor\":\"#C8D4E3\",\"linecolor\":\"#C8D4E3\",\"minorgridcolor\":\"#C8D4E3\",\"startlinecolor\":\"#2a3f5f\"},\"type\":\"carpet\"}],\"table\":[{\"cells\":{\"fill\":{\"color\":\"#EBF0F8\"},\"line\":{\"color\":\"white\"}},\"header\":{\"fill\":{\"color\":\"#C8D4E3\"},\"line\":{\"color\":\"white\"}},\"type\":\"table\"}],\"barpolar\":[{\"marker\":{\"line\":{\"color\":\"white\",\"width\":0.5},\"pattern\":{\"fillmode\":\"overlay\",\"size\":10,\"solidity\":0.2}},\"type\":\"barpolar\"}],\"pie\":[{\"automargin\":true,\"type\":\"pie\"}]},\"layout\":{\"autotypenumbers\":\"strict\",\"colorway\":[\"#636efa\",\"#EF553B\",\"#00cc96\",\"#ab63fa\",\"#FFA15A\",\"#19d3f3\",\"#FF6692\",\"#B6E880\",\"#FF97FF\",\"#FECB52\"],\"font\":{\"color\":\"#2a3f5f\"},\"hovermode\":\"closest\",\"hoverlabel\":{\"align\":\"left\"},\"paper_bgcolor\":\"white\",\"plot_bgcolor\":\"white\",\"polar\":{\"bgcolor\":\"white\",\"angularaxis\":{\"gridcolor\":\"#EBF0F8\",\"linecolor\":\"#EBF0F8\",\"ticks\":\"\"},\"radialaxis\":{\"gridcolor\":\"#EBF0F8\",\"linecolor\":\"#EBF0F8\",\"ticks\":\"\"}},\"ternary\":{\"bgcolor\":\"white\",\"aaxis\":{\"gridcolor\":\"#DFE8F3\",\"linecolor\":\"#A2B1C6\",\"ticks\":\"\"},\"baxis\":{\"gridcolor\":\"#DFE8F3\",\"linecolor\":\"#A2B1C6\",\"ticks\":\"\"},\"caxis\":{\"gridcolor\":\"#DFE8F3\",\"linecolor\":\"#A2B1C6\",\"ticks\":\"\"}},\"coloraxis\":{\"colorbar\":{\"outlinewidth\":0,\"ticks\":\"\"}},\"colorscale\":{\"sequential\":[[0.0,\"#0d0887\"],[0.1111111111111111,\"#46039f\"],[0.2222222222222222,\"#7201a8\"],[0.3333333333333333,\"#9c179e\"],[0.4444444444444444,\"#bd3786\"],[0.5555555555555556,\"#d8576b\"],[0.6666666666666666,\"#ed7953\"],[0.7777777777777778,\"#fb9f3a\"],[0.8888888888888888,\"#fdca26\"],[1.0,\"#f0f921\"]],\"sequentialminus\":[[0.0,\"#0d0887\"],[0.1111111111111111,\"#46039f\"],[0.2222222222222222,\"#7201a8\"],[0.3333333333333333,\"#9c179e\"],[0.4444444444444444,\"#bd3786\"],[0.5555555555555556,\"#d8576b\"],[0.6666666666666666,\"#ed7953\"],[0.7777777777777778,\"#fb9f3a\"],[0.8888888888888888,\"#fdca26\"],[1.0,\"#f0f921\"]],\"diverging\":[[0,\"#8e0152\"],[0.1,\"#c51b7d\"],[0.2,\"#de77ae\"],[0.3,\"#f1b6da\"],[0.4,\"#fde0ef\"],[0.5,\"#f7f7f7\"],[0.6,\"#e6f5d0\"],[0.7,\"#b8e186\"],[0.8,\"#7fbc41\"],[0.9,\"#4d9221\"],[1,\"#276419\"]]},\"xaxis\":{\"gridcolor\":\"#EBF0F8\",\"linecolor\":\"#EBF0F8\",\"ticks\":\"\",\"title\":{\"standoff\":15},\"zerolinecolor\":\"#EBF0F8\",\"automargin\":true,\"zerolinewidth\":2},\"yaxis\":{\"gridcolor\":\"#EBF0F8\",\"linecolor\":\"#EBF0F8\",\"ticks\":\"\",\"title\":{\"standoff\":15},\"zerolinecolor\":\"#EBF0F8\",\"automargin\":true,\"zerolinewidth\":2},\"scene\":{\"xaxis\":{\"backgroundcolor\":\"white\",\"gridcolor\":\"#DFE8F3\",\"linecolor\":\"#EBF0F8\",\"showbackground\":true,\"ticks\":\"\",\"zerolinecolor\":\"#EBF0F8\",\"gridwidth\":2},\"yaxis\":{\"backgroundcolor\":\"white\",\"gridcolor\":\"#DFE8F3\",\"linecolor\":\"#EBF0F8\",\"showbackground\":true,\"ticks\":\"\",\"zerolinecolor\":\"#EBF0F8\",\"gridwidth\":2},\"zaxis\":{\"backgroundcolor\":\"white\",\"gridcolor\":\"#DFE8F3\",\"linecolor\":\"#EBF0F8\",\"showbackground\":true,\"ticks\":\"\",\"zerolinecolor\":\"#EBF0F8\",\"gridwidth\":2}},\"shapedefaults\":{\"line\":{\"color\":\"#2a3f5f\"}},\"annotationdefaults\":{\"arrowcolor\":\"#2a3f5f\",\"arrowhead\":0,\"arrowwidth\":1},\"geo\":{\"bgcolor\":\"white\",\"landcolor\":\"white\",\"subunitcolor\":\"#C8D4E3\",\"showland\":true,\"showlakes\":true,\"lakecolor\":\"white\"},\"title\":{\"x\":0.05},\"mapbox\":{\"style\":\"light\"}}},\"xaxis\":{\"anchor\":\"y\",\"domain\":[0.0,1.0],\"scaleanchor\":\"y\",\"constrain\":\"domain\"},\"yaxis\":{\"anchor\":\"x\",\"domain\":[0.0,1.0],\"autorange\":\"reversed\",\"constrain\":\"domain\"},\"coloraxis\":{\"colorscale\":[[0.0,\"#0d0887\"],[0.1111111111111111,\"#46039f\"],[0.2222222222222222,\"#7201a8\"],[0.3333333333333333,\"#9c179e\"],[0.4444444444444444,\"#bd3786\"],[0.5555555555555556,\"#d8576b\"],[0.6666666666666666,\"#ed7953\"],[0.7777777777777778,\"#fb9f3a\"],[0.8888888888888888,\"#fdca26\"],[1.0,\"#f0f921\"]]},\"margin\":{\"t\":60}},                        {\"responsive\": true}                    ).then(function(){\n",
       "                            \n",
       "var gd = document.getElementById('57d04b20-c24c-4e76-948e-c49eebf5b17f');\n",
       "var x = new MutationObserver(function (mutations, observer) {{\n",
       "        var display = window.getComputedStyle(gd).display;\n",
       "        if (!display || display === 'none') {{\n",
       "            console.log([gd, 'removed!']);\n",
       "            Plotly.purge(gd);\n",
       "            observer.disconnect();\n",
       "        }}\n",
       "}});\n",
       "\n",
       "// Listen for the removal of the full notebook cells\n",
       "var notebookContainer = gd.closest('#notebook-container');\n",
       "if (notebookContainer) {{\n",
       "    x.observe(notebookContainer, {childList: true});\n",
       "}}\n",
       "\n",
       "// Listen for the clearing of the current output cell\n",
       "var outputEl = gd.closest('.output');\n",
       "if (outputEl) {{\n",
       "    x.observe(outputEl, {childList: true});\n",
       "}}\n",
       "\n",
       "                        })                };                });            </script>        </div>"
      ]
     },
     "metadata": {},
     "output_type": "display_data"
    }
   ],
   "source": [
    "# m 0 -> 1 \n",
    "m1 = torch.zeros(12+8, 12+20)\n",
    "\n",
    "# id part to pass through a1_input\n",
    "m1[0:12, 0:12] = torch.eye(12)\n",
    "m1[12:20, 12:12+20] = torch.randn(20-12, 20)\n",
    "\n",
    "px.imshow(m1)"
   ]
  },
  {
   "cell_type": "code",
   "execution_count": null,
   "id": "f61c53a7",
   "metadata": {},
   "outputs": [],
   "source": []
  },
  {
   "cell_type": "code",
   "execution_count": null,
   "id": "607e2054",
   "metadata": {},
   "outputs": [],
   "source": []
  },
  {
   "cell_type": "code",
   "execution_count": null,
   "id": "9ac82582",
   "metadata": {},
   "outputs": [],
   "source": []
  },
  {
   "cell_type": "code",
   "execution_count": null,
   "id": "a40519dc",
   "metadata": {},
   "outputs": [],
   "source": []
  },
  {
   "cell_type": "code",
   "execution_count": null,
   "id": "de83e740",
   "metadata": {},
   "outputs": [
    {
     "name": "stderr",
     "output_type": "stream",
     "text": [
      "100%|██████████| 7/7 [00:00<00:00, 32550.03it/s]\n"
     ]
    },
    {
     "data": {
      "image/svg+xml": [
       "<?xml version=\"1.0\" encoding=\"UTF-8\" standalone=\"no\"?>\n",
       "<!DOCTYPE svg PUBLIC \"-//W3C//DTD SVG 1.1//EN\"\n",
       " \"http://www.w3.org/Graphics/SVG/1.1/DTD/svg11.dtd\">\n",
       "<!-- Generated by graphviz version 2.50.0 (0)\n",
       " -->\n",
       "<!-- Pages: 1 -->\n",
       "<svg width=\"244pt\" height=\"527pt\"\n",
       " viewBox=\"0.00 0.00 243.62 526.77\" xmlns=\"http://www.w3.org/2000/svg\" xmlns:xlink=\"http://www.w3.org/1999/xlink\">\n",
       "<g id=\"graph0\" class=\"graph\" transform=\"scale(1 1) rotate(0) translate(4 522.77)\">\n",
       "<polygon fill=\"white\" stroke=\"transparent\" points=\"-4,4 -4,-522.77 239.62,-522.77 239.62,4 -4,4\"/>\n",
       "<!-- y_hat -->\n",
       "<g id=\"node1\" class=\"node\">\n",
       "<title>y_hat</title>\n",
       "<ellipse fill=\"none\" stroke=\"black\" cx=\"65.46\" cy=\"-37.48\" rx=\"41.02\" ry=\"37.45\"/>\n",
       "<text text-anchor=\"middle\" x=\"65.46\" y=\"-48.78\" font-family=\"Times,serif\" font-size=\"14.00\">y_hat</text>\n",
       "<text text-anchor=\"middle\" x=\"65.46\" y=\"-33.78\" font-family=\"Times,serif\" font-size=\"14.00\">in: 60</text>\n",
       "<text text-anchor=\"middle\" x=\"65.46\" y=\"-18.78\" font-family=\"Times,serif\" font-size=\"14.00\">out: 1</text>\n",
       "</g>\n",
       "<!-- c1 -->\n",
       "<g id=\"node2\" class=\"node\">\n",
       "<title>c1</title>\n",
       "<ellipse fill=\"none\" stroke=\"black\" cx=\"178.46\" cy=\"-148.43\" rx=\"47.25\" ry=\"37.45\"/>\n",
       "<text text-anchor=\"middle\" x=\"178.46\" y=\"-159.73\" font-family=\"Times,serif\" font-size=\"14.00\">c1</text>\n",
       "<text text-anchor=\"middle\" x=\"178.46\" y=\"-144.73\" font-family=\"Times,serif\" font-size=\"14.00\">in: 20</text>\n",
       "<text text-anchor=\"middle\" x=\"178.46\" y=\"-129.73\" font-family=\"Times,serif\" font-size=\"14.00\">out: 20</text>\n",
       "</g>\n",
       "<!-- c1&#45;&gt;y_hat -->\n",
       "<g id=\"edge1\" class=\"edge\">\n",
       "<title>c1&#45;&gt;y_hat</title>\n",
       "<path fill=\"none\" stroke=\"black\" d=\"M148.77,-118.8C134.05,-104.61 116.17,-87.36 100.75,-72.5\"/>\n",
       "<polygon fill=\"black\" stroke=\"black\" points=\"103.03,-69.83 93.4,-65.41 98.17,-74.87 103.03,-69.83\"/>\n",
       "</g>\n",
       "<!-- c2 -->\n",
       "<g id=\"node3\" class=\"node\">\n",
       "<title>c2</title>\n",
       "<ellipse fill=\"none\" stroke=\"black\" cx=\"65.46\" cy=\"-148.43\" rx=\"47.25\" ry=\"37.45\"/>\n",
       "<text text-anchor=\"middle\" x=\"65.46\" y=\"-159.73\" font-family=\"Times,serif\" font-size=\"14.00\">c2</text>\n",
       "<text text-anchor=\"middle\" x=\"65.46\" y=\"-144.73\" font-family=\"Times,serif\" font-size=\"14.00\">in: 20</text>\n",
       "<text text-anchor=\"middle\" x=\"65.46\" y=\"-129.73\" font-family=\"Times,serif\" font-size=\"14.00\">out: 20</text>\n",
       "</g>\n",
       "<!-- c2&#45;&gt;y_hat -->\n",
       "<g id=\"edge2\" class=\"edge\">\n",
       "<title>c2&#45;&gt;y_hat</title>\n",
       "<path fill=\"none\" stroke=\"black\" d=\"M65.46,-110.85C65.46,-102.67 65.46,-93.89 65.46,-85.37\"/>\n",
       "<polygon fill=\"black\" stroke=\"black\" points=\"68.96,-85.15 65.46,-75.15 61.96,-85.15 68.96,-85.15\"/>\n",
       "</g>\n",
       "<!-- b2 -->\n",
       "<g id=\"node4\" class=\"node\">\n",
       "<title>b2</title>\n",
       "<ellipse fill=\"none\" stroke=\"black\" cx=\"59.46\" cy=\"-370.34\" rx=\"47.25\" ry=\"37.45\"/>\n",
       "<text text-anchor=\"middle\" x=\"59.46\" y=\"-381.64\" font-family=\"Times,serif\" font-size=\"14.00\">b2</text>\n",
       "<text text-anchor=\"middle\" x=\"59.46\" y=\"-366.64\" font-family=\"Times,serif\" font-size=\"14.00\">in: 8</text>\n",
       "<text text-anchor=\"middle\" x=\"59.46\" y=\"-351.64\" font-family=\"Times,serif\" font-size=\"14.00\">out: 20</text>\n",
       "</g>\n",
       "<!-- b2&#45;&gt;y_hat -->\n",
       "<g id=\"edge3\" class=\"edge\">\n",
       "<title>b2&#45;&gt;y_hat</title>\n",
       "<path fill=\"none\" stroke=\"black\" d=\"M41.84,-335.12C18.41,-284.91 -17.1,-188.79 9.46,-110.95 14.09,-97.39 22.4,-84.39 31.23,-73.25\"/>\n",
       "<polygon fill=\"black\" stroke=\"black\" points=\"33.99,-75.4 37.7,-65.48 28.61,-70.92 33.99,-75.4\"/>\n",
       "</g>\n",
       "<!-- b2&#45;&gt;c2 -->\n",
       "<g id=\"edge5\" class=\"edge\">\n",
       "<title>b2&#45;&gt;c2</title>\n",
       "<path fill=\"none\" stroke=\"black\" d=\"M60.47,-332.53C61.49,-295.07 63.08,-236.89 64.19,-196.2\"/>\n",
       "<polygon fill=\"black\" stroke=\"black\" points=\"67.69,-196.08 64.47,-185.99 60.7,-195.89 67.69,-196.08\"/>\n",
       "</g>\n",
       "<!-- b1 -->\n",
       "<g id=\"node5\" class=\"node\">\n",
       "<title>b1</title>\n",
       "<ellipse fill=\"none\" stroke=\"black\" cx=\"178.46\" cy=\"-259.38\" rx=\"47.25\" ry=\"37.45\"/>\n",
       "<text text-anchor=\"middle\" x=\"178.46\" y=\"-270.68\" font-family=\"Times,serif\" font-size=\"14.00\">b1</text>\n",
       "<text text-anchor=\"middle\" x=\"178.46\" y=\"-255.68\" font-family=\"Times,serif\" font-size=\"14.00\">in: 32</text>\n",
       "<text text-anchor=\"middle\" x=\"178.46\" y=\"-240.68\" font-family=\"Times,serif\" font-size=\"14.00\">out: 20</text>\n",
       "</g>\n",
       "<!-- b2&#45;&gt;b1 -->\n",
       "<g id=\"edge7\" class=\"edge\">\n",
       "<title>b2&#45;&gt;b1</title>\n",
       "<path fill=\"none\" stroke=\"black\" d=\"M90.11,-341.28C105.38,-327.3 123.99,-310.26 140.19,-295.43\"/>\n",
       "<polygon fill=\"black\" stroke=\"black\" points=\"142.91,-297.68 147.92,-288.35 138.18,-292.52 142.91,-297.68\"/>\n",
       "</g>\n",
       "<!-- b1&#45;&gt;c1 -->\n",
       "<g id=\"edge4\" class=\"edge\">\n",
       "<title>b1&#45;&gt;c1</title>\n",
       "<path fill=\"none\" stroke=\"black\" d=\"M178.46,-221.8C178.46,-213.63 178.46,-204.85 178.46,-196.32\"/>\n",
       "<polygon fill=\"black\" stroke=\"black\" points=\"181.96,-196.1 178.46,-186.1 174.96,-196.1 181.96,-196.1\"/>\n",
       "</g>\n",
       "<!-- a1_input -->\n",
       "<g id=\"node6\" class=\"node\">\n",
       "<title>a1_input</title>\n",
       "<ellipse fill=\"none\" stroke=\"black\" cx=\"180.46\" cy=\"-370.34\" rx=\"55.31\" ry=\"37.45\"/>\n",
       "<text text-anchor=\"middle\" x=\"180.46\" y=\"-381.64\" font-family=\"Times,serif\" font-size=\"14.00\">a1_input</text>\n",
       "<text text-anchor=\"middle\" x=\"180.46\" y=\"-366.64\" font-family=\"Times,serif\" font-size=\"14.00\">in: 0.0</text>\n",
       "<text text-anchor=\"middle\" x=\"180.46\" y=\"-351.64\" font-family=\"Times,serif\" font-size=\"14.00\">out: 20</text>\n",
       "</g>\n",
       "<!-- a1_input&#45;&gt;b1 -->\n",
       "<g id=\"edge6\" class=\"edge\">\n",
       "<title>a1_input&#45;&gt;b1</title>\n",
       "<path fill=\"none\" stroke=\"black\" d=\"M179.79,-332.75C179.64,-324.58 179.48,-315.8 179.32,-307.27\"/>\n",
       "<polygon fill=\"black\" stroke=\"black\" points=\"182.82,-306.99 179.14,-297.06 175.82,-307.12 182.82,-306.99\"/>\n",
       "</g>\n",
       "<!-- a2_input -->\n",
       "<g id=\"node7\" class=\"node\">\n",
       "<title>a2_input</title>\n",
       "<ellipse fill=\"none\" stroke=\"black\" cx=\"59.46\" cy=\"-481.29\" rx=\"55.31\" ry=\"37.45\"/>\n",
       "<text text-anchor=\"middle\" x=\"59.46\" y=\"-492.59\" font-family=\"Times,serif\" font-size=\"14.00\">a2_input</text>\n",
       "<text text-anchor=\"middle\" x=\"59.46\" y=\"-477.59\" font-family=\"Times,serif\" font-size=\"14.00\">in: 0.0</text>\n",
       "<text text-anchor=\"middle\" x=\"59.46\" y=\"-462.59\" font-family=\"Times,serif\" font-size=\"14.00\">out: 20</text>\n",
       "</g>\n",
       "<!-- a2_input&#45;&gt;b2 -->\n",
       "<g id=\"edge8\" class=\"edge\">\n",
       "<title>a2_input&#45;&gt;b2</title>\n",
       "<path fill=\"none\" stroke=\"black\" d=\"M59.46,-443.71C59.46,-435.53 59.46,-426.75 59.46,-418.23\"/>\n",
       "<polygon fill=\"black\" stroke=\"black\" points=\"62.96,-418.01 59.46,-408.01 55.96,-418.01 62.96,-418.01\"/>\n",
       "</g>\n",
       "</g>\n",
       "</svg>\n"
      ],
      "text/plain": [
       "<graphviz.graphs.Digraph>"
      ]
     },
     "execution_count": null,
     "metadata": {},
     "output_type": "execute_result"
    }
   ],
   "source": [
    "dot = Digraph()\n",
    "for key in tqdm(kegg_connections.keys()):\n",
    "    key_label = str(key)+'\\nin: '+str(input_size_dict[key])+'\\nout: '+str(output_size_dict[key])\n",
    "    dot.node(key, key_label)\n",
    "    for value in kegg_connections[key]:\n",
    "        # edge takes a head/tail whereas edges takes name pairs concatednated (A, B -> AB)in a list\n",
    "        dot.edge(value, key)    \n",
    "\n",
    "dot"
   ]
  },
  {
   "cell_type": "code",
   "execution_count": null,
   "id": "8a84fd9e",
   "metadata": {},
   "outputs": [],
   "source": [
    "str(input_size_dict[key])+'\\nout: '+str(output_size_dict[key])"
   ]
  },
  {
   "cell_type": "code",
   "execution_count": null,
   "id": "db987c7e",
   "metadata": {},
   "outputs": [],
   "source": []
  },
  {
   "cell_type": "code",
   "execution_count": null,
   "id": "df87f7ca",
   "metadata": {},
   "outputs": [],
   "source": []
  },
  {
   "cell_type": "code",
   "execution_count": null,
   "id": "605f4c0c",
   "metadata": {},
   "outputs": [],
   "source": []
  },
  {
   "cell_type": "code",
   "execution_count": null,
   "id": "87fbc591",
   "metadata": {},
   "outputs": [],
   "source": []
  },
  {
   "cell_type": "code",
   "execution_count": null,
   "id": "508170e6",
   "metadata": {},
   "outputs": [],
   "source": []
  },
  {
   "cell_type": "code",
   "execution_count": null,
   "id": "43b58601",
   "metadata": {},
   "outputs": [],
   "source": []
  },
  {
   "cell_type": "code",
   "execution_count": null,
   "id": "c91e45d5",
   "metadata": {},
   "outputs": [],
   "source": []
  },
  {
   "cell_type": "code",
   "execution_count": null,
   "id": "5561269b",
   "metadata": {},
   "outputs": [],
   "source": []
  },
  {
   "cell_type": "code",
   "execution_count": null,
   "id": "80fce8df",
   "metadata": {},
   "outputs": [],
   "source": [
    "# simple case where there is a single value for everything\n",
    "\n",
    "# connection matrix\n",
    "key_order = list(temp.keys()); key_order.reverse(); key_order = tuple(key_order)\n",
    "key_order = dict(zip(key_order, [i for i in range(len(key_order))]))\n",
    "\n",
    "\n",
    "# connection matrix will be of size num_nodes x num_nodes\n",
    "num_nodes = len(key_order.keys())\n",
    "\n",
    "i_s = []\n",
    "j_s = []\n",
    "for key in key_order.keys():\n",
    "    i  = key_order[key]\n",
    "    jj = [key_order[e] for e in temp[key]]\n",
    "    if jj == []:\n",
    "        pass\n",
    "    else:\n",
    "        ii = [i for ii in range(len(jj))]\n",
    "        i_s += ii\n",
    "        j_s += jj\n",
    "\n",
    "\n",
    "ijs = [i_s, j_s]\n",
    "vs  = [1.0 for i in range(len(i_s))]\n",
    "\n",
    "connection_matrix = torch.sparse_coo_tensor(ijs, vs, (num_nodes, num_nodes))\n",
    "\n",
    "connection_matrix, connection_matrix.to_dense()\n",
    "\n"
   ]
  },
  {
   "cell_type": "code",
   "execution_count": null,
   "id": "8f605210",
   "metadata": {},
   "outputs": [],
   "source": [
    "# \"data\"\n",
    "dat = torch.zeros(num_nodes)\n",
    "dat[key_order['a1_input']] = 1\n",
    "dat[key_order['a2_input']] = 1\n",
    "dat"
   ]
  },
  {
   "cell_type": "code",
   "execution_count": null,
   "id": "723d4681",
   "metadata": {},
   "outputs": [],
   "source": [
    "# weight_1 = torch.zeros((num_nodes, num_nodes))+2\n",
    "weight_1 = torch.randn((2, num_nodes))\n",
    "weight_1"
   ]
  },
  {
   "cell_type": "code",
   "execution_count": null,
   "id": "5f519a7e",
   "metadata": {},
   "outputs": [],
   "source": [
    "weight_1[0, :] = 0.0 \n",
    "torch.nn.functional.linear(dat,  weight_1)"
   ]
  },
  {
   "cell_type": "code",
   "execution_count": null,
   "id": "a3cfc473",
   "metadata": {},
   "outputs": [],
   "source": []
  },
  {
   "cell_type": "code",
   "execution_count": null,
   "id": "1efcfd31",
   "metadata": {},
   "outputs": [],
   "source": [
    "dat @ (connection_matrix * weight_1).T\n",
    "\n",
    "# (weight_1 @ connection_matrix).to_dense()"
   ]
  },
  {
   "cell_type": "code",
   "execution_count": null,
   "id": "9f80acc0",
   "metadata": {},
   "outputs": [],
   "source": [
    "x = torch.randn(3, 3)\n",
    "x[:, 1] = 0.0\n",
    "x[1, :] = 0.0\n",
    "x.to_sparse()"
   ]
  },
  {
   "cell_type": "code",
   "execution_count": null,
   "id": "f589b19e",
   "metadata": {},
   "outputs": [],
   "source": [
    "in_features_list = [1, 1]\n",
    "out_features_list= [2, 3]\n",
    "\n",
    "\n"
   ]
  },
  {
   "cell_type": "code",
   "execution_count": null,
   "id": "22017333",
   "metadata": {},
   "outputs": [],
   "source": [
    "xlin = nn.Linear(2, 3)"
   ]
  },
  {
   "cell_type": "code",
   "execution_count": null,
   "id": "0bde7086",
   "metadata": {},
   "outputs": [],
   "source": [
    "xlin.weight[:, 1] = 0.0"
   ]
  },
  {
   "cell_type": "code",
   "execution_count": null,
   "id": "9ed8c1cb",
   "metadata": {},
   "outputs": [],
   "source": [
    "xlin.get_parameter('weight')\n",
    "xlin.get_parameter('bias')"
   ]
  },
  {
   "cell_type": "code",
   "execution_count": null,
   "id": "440d4a26",
   "metadata": {},
   "outputs": [],
   "source": []
  },
  {
   "cell_type": "code",
   "execution_count": null,
   "id": "a9cead30",
   "metadata": {},
   "outputs": [],
   "source": [
    "\n",
    "# input        mask    \n",
    "# [[a, b], -> [[1, 0],\n",
    "#  [c, d]]     [0, 0]]\n",
    "\n",
    "# init with the input, output sizes and mask for input. \n",
    "# returned tensor will be \n",
    "\n",
    "class SparseLinearUpdate(nn.Module):\n",
    "    def __init__(self, in_features: int, out_features: int, bias: bool = True,\n",
    "                 device=None, dtype=None) -> None:\n",
    "        factory_kwargs = {'device': device, 'dtype': dtype}\n",
    "        super().__init__()\n",
    "        self.in_features = in_features\n",
    "        self.out_features = out_features\n",
    "        self.weight = Parameter(torch.empty((out_features, in_features), **factory_kwargs))\n",
    "        if bias:\n",
    "            self.bias = Parameter(torch.empty(out_features, **factory_kwargs))\n",
    "        else:\n",
    "            self.register_parameter('bias', None)\n",
    "        self.reset_parameters()\n",
    "\n",
    "    def forward(self, input):\n",
    "        return F.linear(input, self.weight, self.bias)\n",
    "    \n",
    "\n"
   ]
  },
  {
   "cell_type": "code",
   "execution_count": null,
   "id": "44f94c19",
   "metadata": {},
   "outputs": [],
   "source": [
    "??nn.Linear"
   ]
  },
  {
   "cell_type": "code",
   "execution_count": null,
   "id": "900cd61e",
   "metadata": {},
   "outputs": [],
   "source": [
    "\n",
    "nodes_to_add = list(temp.keys())\n",
    "nodes_added = []\n",
    "layer_dict = {}\n",
    "\n",
    "for i in range(10):\n",
    "    if nodes_to_add == []:\n",
    "        pass\n",
    "    else:\n",
    "        if i == 0:\n",
    "            nodes_at_level = [e for e in nodes_to_add if temp[e] == []]\n",
    "        else:\n",
    "            nodes_at_level = [e for e in nodes_to_add if False not in [ee in nodes_added for ee in temp[e]]]\n",
    "        \n",
    "        layer_dict[i] = nodes_at_level\n",
    "        nodes_added = nodes_added+nodes_at_level\n",
    "\n",
    "        nodes_to_add = [e for e in nodes_to_add if e not in nodes_added]\n",
    "\n",
    "\n",
    "layer_dict\n",
    "# print(nodes_added)"
   ]
  },
  {
   "cell_type": "code",
   "execution_count": null,
   "id": "474b3109",
   "metadata": {},
   "outputs": [],
   "source": [
    "# levelwise inputs\n",
    "layer_dict_dependencies = {}\n",
    "layer_dependencies = []\n",
    "\n",
    "layer_num = max(list(layer_dict.keys()))\n",
    "\n",
    "for i in range(layer_num+1): \n",
    "    i = layer_num - i\n",
    "    # print(i)\n",
    "   \n",
    "    layer_dependencies = sum([temp[e] for e in layer_dict[i]], []) # sum flattens the list\n",
    "    \n",
    "    if i+1 < layer_num:  # below highest layer\n",
    "        # find the values that are needed by a later layer \n",
    "        layer_passthroughs = layer_dict_dependencies[i+1]\n",
    "        layer_passthroughs = [e for e in layer_passthroughs.keys() if layer_passthroughs[e] ]\n",
    "        layer_dependencies = layer_dependencies + layer_passthroughs\n",
    "\n",
    "    if i > 0: # above lowerst layer\n",
    "        layer_dict_dependencies[i] = dict(zip(\n",
    "                layer_dependencies,\n",
    "                # if depend is in the n-1 layer then it is a float. Otherwise it needs to be passed from a previous layer so the weight will always be 1\n",
    "                [True if e in layer_dict[i-1] else False for e in layer_dependencies]\n",
    "            ))\n",
    "    else:\n",
    "        layer_dict_dependencies[i] = dict(zip(\n",
    "            layer_dependencies,\n",
    "            # if depend is in the n-1 layer then it is a float. Otherwise it needs to be passed from a previous layer so the weight will always be 1\n",
    "            [True for e in layer_dependencies]\n",
    "        ))\n",
    "\n",
    "layer_dict_dependencies # True is "
   ]
  },
  {
   "cell_type": "code",
   "execution_count": null,
   "id": "9a4280cb",
   "metadata": {},
   "outputs": [],
   "source": []
  },
  {
   "cell_type": "code",
   "execution_count": null,
   "id": "bab54321",
   "metadata": {},
   "outputs": [],
   "source": []
  },
  {
   "cell_type": "code",
   "execution_count": null,
   "id": "42aa7dbb",
   "metadata": {},
   "outputs": [],
   "source": [
    "# temp\n",
    "layer_dict, layer_dict_dependencies"
   ]
  },
  {
   "cell_type": "code",
   "execution_count": null,
   "id": "422c5d81",
   "metadata": {},
   "outputs": [],
   "source": [
    "inp = torch.concat([\n",
    "    input_tensor_dict['a1_input'].reshape(-1, 4*3),\n",
    "    input_tensor_dict['a2_input'].reshape(-1, 4*2)\n",
    "], axis = 1)\n",
    "\n",
    "inp_slices = {\n",
    "    'a1_input': [0, 12],\n",
    "    'a2_input': [12, 20]\n",
    "}"
   ]
  },
  {
   "cell_type": "code",
   "execution_count": null,
   "id": "8202f7f9",
   "metadata": {},
   "outputs": [],
   "source": []
  },
  {
   "cell_type": "code",
   "execution_count": null,
   "id": "a3216e80",
   "metadata": {},
   "outputs": [],
   "source": []
  },
  {
   "cell_type": "code",
   "execution_count": null,
   "id": "0ffc8f4b",
   "metadata": {},
   "outputs": [],
   "source": [
    "px.imshow(inp[:, inp_slices['a2_input'][0]:inp_slices['a2_input'][1]])\n",
    "\n"
   ]
  },
  {
   "cell_type": "code",
   "execution_count": null,
   "id": "daa6f000",
   "metadata": {},
   "outputs": [],
   "source": []
  },
  {
   "cell_type": "code",
   "execution_count": null,
   "id": "76526d1b",
   "metadata": {},
   "outputs": [],
   "source": [
    "i = 2\n",
    "layer_dependencies = sum([temp[e] for e in layer_dict[i]], [])  \n",
    "layer_dependencies"
   ]
  },
  {
   "cell_type": "code",
   "execution_count": null,
   "id": "4fdeea98",
   "metadata": {},
   "outputs": [],
   "source": [
    "layer_dict[i-1]"
   ]
  },
  {
   "cell_type": "code",
   "execution_count": null,
   "id": "1314494e",
   "metadata": {},
   "outputs": [],
   "source": []
  },
  {
   "cell_type": "code",
   "execution_count": null,
   "id": "ca8b1b22",
   "metadata": {},
   "outputs": [],
   "source": []
  },
  {
   "cell_type": "code",
   "execution_count": null,
   "id": "e770a01c",
   "metadata": {},
   "outputs": [],
   "source": []
  }
 ],
 "metadata": {
  "kernelspec": {
   "display_name": "python3",
   "language": "python",
   "name": "python3"
  }
 },
 "nbformat": 4,
 "nbformat_minor": 5
}
