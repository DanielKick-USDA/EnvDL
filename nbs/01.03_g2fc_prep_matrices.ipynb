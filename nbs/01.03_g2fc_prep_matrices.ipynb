{
 "cells": [
  {
   "cell_type": "code",
   "execution_count": null,
   "id": "82dc81c1",
   "metadata": {},
   "outputs": [],
   "source": [
    "import tqdm\n",
    "\n",
    "import numpy as np\n",
    "import pandas as pd\n",
    "pd.set_option('display.max_columns', None)\n",
    "\n",
    "from sklearn import preprocessing # LabelEncoder\n",
    "from sklearn.metrics import mean_squared_error # if squared=False; RMSE\n",
    "\n",
    "from EnvDL.core import *\n",
    "from EnvDL.dna import *\n"
   ]
  },
  {
   "cell_type": "code",
   "execution_count": null,
   "id": "ef56ce07",
   "metadata": {},
   "outputs": [],
   "source": [
    "cache_path = '../nbs_artifacts/01.03_g2fc_prep_matrices/'\n",
    "ensure_dir_path_exists(dir_path = cache_path)"
   ]
  },
  {
   "cell_type": "code",
   "execution_count": null,
   "id": "0fb8bee0",
   "metadata": {},
   "outputs": [],
   "source": [
    "load_from = '../nbs_artifacts/01.02_g2fc_imputation/'\n",
    "\n",
    "meta = pd.read_csv(load_from+'meta0.csv')\n",
    "# meta['Date_Planted'] = meta['Date_Planted'].astype(int)\n",
    "# meta['Date_Harvested'] = meta['Date_Harvested'].astype(int)\n",
    "phno = pd.read_csv(load_from+'phno0.csv')\n",
    "soil = pd.read_csv(load_from+'soil0.csv')\n",
    "wthr = pd.read_csv(load_from+'wthr0.csv')\n",
    "# wthrWide = pd.read_csv(load_from+'wthrWide0.csv')\n",
    "cgmv = pd.read_csv(load_from+'cgmv0.csv')"
   ]
  },
  {
   "cell_type": "code",
   "execution_count": null,
   "id": "6087d405",
   "metadata": {},
   "outputs": [],
   "source": []
  },
  {
   "cell_type": "code",
   "execution_count": null,
   "id": "5191eb37",
   "metadata": {},
   "outputs": [],
   "source": [
    "mask = ((phno.Yield_Mg_ha.notna())) # This used to allow for missing yield so long as they were in \n",
    "# 2022. Now that the 2022 data is available they should be excluded.\n",
    "phno = phno.loc[mask, :].reset_index().drop(columns = 'index')\n",
    "phno = phno.loc[:, ['Env', 'Year', 'Hybrid', 'Yield_Mg_ha']]"
   ]
  },
  {
   "cell_type": "markdown",
   "id": "79ec008a",
   "metadata": {},
   "source": [
    "# Data Prep"
   ]
  },
  {
   "cell_type": "markdown",
   "id": "21b5b519",
   "metadata": {},
   "source": [
    "## Prep CVs"
   ]
  },
  {
   "cell_type": "code",
   "execution_count": null,
   "id": "a52bb0ce",
   "metadata": {},
   "outputs": [],
   "source": [
    "# YMat[phno.Year == 2021]"
   ]
  },
  {
   "cell_type": "markdown",
   "id": "e7f443f0",
   "metadata": {},
   "source": [
    "## Prep y"
   ]
  },
  {
   "cell_type": "code",
   "execution_count": null,
   "id": "920cca51",
   "metadata": {},
   "outputs": [],
   "source": [
    "YMat = np.array(phno.Yield_Mg_ha)"
   ]
  },
  {
   "cell_type": "markdown",
   "id": "85189bcb",
   "metadata": {},
   "source": [
    "## Genomic data"
   ]
  },
  {
   "cell_type": "markdown",
   "id": "39b1becb",
   "metadata": {},
   "source": [
    "### Unique Genotypes (many to one lookup)\n",
    "There are huge data savings to be had from keeping only deduplciated genomic data in memory in the GPU. "
   ]
  },
  {
   "cell_type": "code",
   "execution_count": null,
   "id": "fcb28457",
   "metadata": {},
   "outputs": [
    {
     "data": {
      "text/plain": [
       "['GEMN-0192_PHK76_0008/LH244',\n",
       " 'GEMN-0192_PHK76_0011/LH244',\n",
       " 'B73_PHG39-24/PHZ51']"
      ]
     },
     "execution_count": null,
     "metadata": {},
     "output_type": "execute_result"
    }
   ],
   "source": [
    "uniq_hybrids = list(set(phno.Hybrid))\n",
    "uniq_hybrids[0:3]"
   ]
  },
  {
   "cell_type": "code",
   "execution_count": null,
   "id": "85e1faa6",
   "metadata": {},
   "outputs": [],
   "source": [
    "# check snp records and only keep phenotypes with snp data\n",
    "snps_found = [exists_geno((taxa_to_filename(taxa = ith_hybrid))) for ith_hybrid in  uniq_hybrids]"
   ]
  },
  {
   "cell_type": "code",
   "execution_count": null,
   "id": "f150a80d",
   "metadata": {},
   "outputs": [
    {
     "data": {
      "text/html": [
       "<div>\n",
       "<style scoped>\n",
       "    .dataframe tbody tr th:only-of-type {\n",
       "        vertical-align: middle;\n",
       "    }\n",
       "\n",
       "    .dataframe tbody tr th {\n",
       "        vertical-align: top;\n",
       "    }\n",
       "\n",
       "    .dataframe thead th {\n",
       "        text-align: right;\n",
       "    }\n",
       "</style>\n",
       "<table border=\"1\" class=\"dataframe\">\n",
       "  <thead>\n",
       "    <tr style=\"text-align: right;\">\n",
       "      <th></th>\n",
       "      <th>Hybrid</th>\n",
       "      <th>SNPS</th>\n",
       "    </tr>\n",
       "  </thead>\n",
       "  <tbody>\n",
       "    <tr>\n",
       "      <th>8</th>\n",
       "      <td>PHW65_MOG_0115/PHT69</td>\n",
       "      <td>False</td>\n",
       "    </tr>\n",
       "    <tr>\n",
       "      <th>87</th>\n",
       "      <td>GT603/TX777</td>\n",
       "      <td>False</td>\n",
       "    </tr>\n",
       "    <tr>\n",
       "      <th>106</th>\n",
       "      <td>BGEM-0120-N/LH195</td>\n",
       "      <td>False</td>\n",
       "    </tr>\n",
       "    <tr>\n",
       "      <th>153</th>\n",
       "      <td>PHB47/PHN37</td>\n",
       "      <td>False</td>\n",
       "    </tr>\n",
       "    <tr>\n",
       "      <th>353</th>\n",
       "      <td>MBS3785/MBS5618</td>\n",
       "      <td>False</td>\n",
       "    </tr>\n",
       "    <tr>\n",
       "      <th>...</th>\n",
       "      <td>...</td>\n",
       "      <td>...</td>\n",
       "    </tr>\n",
       "    <tr>\n",
       "      <th>4703</th>\n",
       "      <td>PHW65_MOG_0119/LH195</td>\n",
       "      <td>False</td>\n",
       "    </tr>\n",
       "    <tr>\n",
       "      <th>4810</th>\n",
       "      <td>TX149/LH195</td>\n",
       "      <td>False</td>\n",
       "    </tr>\n",
       "    <tr>\n",
       "      <th>4845</th>\n",
       "      <td>PHN11_PHW65_0109/LH195</td>\n",
       "      <td>False</td>\n",
       "    </tr>\n",
       "    <tr>\n",
       "      <th>4949</th>\n",
       "      <td>TX739/PB80</td>\n",
       "      <td>False</td>\n",
       "    </tr>\n",
       "    <tr>\n",
       "      <th>4958</th>\n",
       "      <td>TX110/DK87916W</td>\n",
       "      <td>False</td>\n",
       "    </tr>\n",
       "  </tbody>\n",
       "</table>\n",
       "<p>92 rows × 2 columns</p>\n",
       "</div>"
      ],
      "text/plain": [
       "                      Hybrid   SNPS\n",
       "8       PHW65_MOG_0115/PHT69  False\n",
       "87               GT603/TX777  False\n",
       "106        BGEM-0120-N/LH195  False\n",
       "153              PHB47/PHN37  False\n",
       "353          MBS3785/MBS5618  False\n",
       "...                      ...    ...\n",
       "4703    PHW65_MOG_0119/LH195  False\n",
       "4810             TX149/LH195  False\n",
       "4845  PHN11_PHW65_0109/LH195  False\n",
       "4949              TX739/PB80  False\n",
       "4958          TX110/DK87916W  False\n",
       "\n",
       "[92 rows x 2 columns]"
      ]
     },
     "execution_count": null,
     "metadata": {},
     "output_type": "execute_result"
    }
   ],
   "source": [
    "temp = pd.DataFrame(zip(uniq_hybrids, snps_found), columns=['Hybrid', 'SNPS'])\n",
    "temp.loc[(temp.SNPS != True)]"
   ]
  },
  {
   "cell_type": "code",
   "execution_count": null,
   "id": "2a0e0428",
   "metadata": {},
   "outputs": [],
   "source": [
    "import os"
   ]
  },
  {
   "cell_type": "code",
   "execution_count": null,
   "id": "1c8165e7",
   "metadata": {},
   "outputs": [
    {
     "name": "stdout",
     "output_type": "stream",
     "text": [
      "Genotypes flagged as missing that exist with different capitalization:\n",
      "[]\n"
     ]
    }
   ],
   "source": [
    "print('Genotypes flagged as missing that exist with different capitalization:')\n",
    "missing_hybrids = temp.loc[(temp.SNPS != True), ['Hybrid']]\n",
    "# quick check that some of these aren't just differing in capitalization\n",
    "missing_hybrids_list = [e.replace('/', '__').lower() for e in list(missing_hybrids.Hybrid)]\n",
    "print(\n",
    "    [e for e in [e.lower for e in os.listdir('../data/zma/g2fc/genotypes/snps/')] if e in missing_hybrids_list]\n",
    ")"
   ]
  },
  {
   "cell_type": "code",
   "execution_count": null,
   "id": "fd50f3d4",
   "metadata": {},
   "outputs": [
    {
     "name": "stdout",
     "output_type": "stream",
     "text": [
      "2736 observations (2.015%) missing genotype.\n"
     ]
    }
   ],
   "source": [
    "print(\n",
    "    str(missing_hybrids.merge(phno, how = 'left').shape[0]\n",
    "       )+' observations ('+str(round(100 * (missing_hybrids.merge(phno, how = 'left').shape[0]/phno.shape[0]), 3)\n",
    "       )+'%) missing genotype.'\n",
    ")"
   ]
  },
  {
   "cell_type": "code",
   "execution_count": null,
   "id": "c5b9638b",
   "metadata": {},
   "outputs": [
    {
     "data": {
      "text/html": [
       "<div>\n",
       "<style scoped>\n",
       "    .dataframe tbody tr th:only-of-type {\n",
       "        vertical-align: middle;\n",
       "    }\n",
       "\n",
       "    .dataframe tbody tr th {\n",
       "        vertical-align: top;\n",
       "    }\n",
       "\n",
       "    .dataframe thead th {\n",
       "        text-align: right;\n",
       "    }\n",
       "</style>\n",
       "<table border=\"1\" class=\"dataframe\">\n",
       "  <thead>\n",
       "    <tr style=\"text-align: right;\">\n",
       "      <th></th>\n",
       "      <th>Hybrid</th>\n",
       "      <th>SNPS</th>\n",
       "      <th>Env</th>\n",
       "      <th>Year</th>\n",
       "      <th>Yield_Mg_ha</th>\n",
       "    </tr>\n",
       "  </thead>\n",
       "  <tbody>\n",
       "    <tr>\n",
       "      <th>0</th>\n",
       "      <td>GEMN-0192_PHK76_0008/LH244</td>\n",
       "      <td>True</td>\n",
       "      <td>DEH1_2022</td>\n",
       "      <td>2022</td>\n",
       "      <td>12.545943</td>\n",
       "    </tr>\n",
       "    <tr>\n",
       "      <th>1</th>\n",
       "      <td>GEMN-0192_PHK76_0008/LH244</td>\n",
       "      <td>True</td>\n",
       "      <td>GAH1_2022</td>\n",
       "      <td>2022</td>\n",
       "      <td>3.010474</td>\n",
       "    </tr>\n",
       "    <tr>\n",
       "      <th>2</th>\n",
       "      <td>GEMN-0192_PHK76_0008/LH244</td>\n",
       "      <td>True</td>\n",
       "      <td>GAH2_2022</td>\n",
       "      <td>2022</td>\n",
       "      <td>9.881560</td>\n",
       "    </tr>\n",
       "    <tr>\n",
       "      <th>3</th>\n",
       "      <td>GEMN-0192_PHK76_0008/LH244</td>\n",
       "      <td>True</td>\n",
       "      <td>IAH1_2022</td>\n",
       "      <td>2022</td>\n",
       "      <td>9.081722</td>\n",
       "    </tr>\n",
       "    <tr>\n",
       "      <th>4</th>\n",
       "      <td>GEMN-0192_PHK76_0008/LH244</td>\n",
       "      <td>True</td>\n",
       "      <td>IAH2_2022</td>\n",
       "      <td>2022</td>\n",
       "      <td>12.958411</td>\n",
       "    </tr>\n",
       "    <tr>\n",
       "      <th>...</th>\n",
       "      <td>...</td>\n",
       "      <td>...</td>\n",
       "      <td>...</td>\n",
       "      <td>...</td>\n",
       "      <td>...</td>\n",
       "    </tr>\n",
       "    <tr>\n",
       "      <th>133052</th>\n",
       "      <td>W10004_0781/PHZ51</td>\n",
       "      <td>True</td>\n",
       "      <td>TXH2_2021</td>\n",
       "      <td>2021</td>\n",
       "      <td>9.363053</td>\n",
       "    </tr>\n",
       "    <tr>\n",
       "      <th>133053</th>\n",
       "      <td>W10004_0781/PHZ51</td>\n",
       "      <td>True</td>\n",
       "      <td>TXH2_2021</td>\n",
       "      <td>2021</td>\n",
       "      <td>12.904405</td>\n",
       "    </tr>\n",
       "    <tr>\n",
       "      <th>133054</th>\n",
       "      <td>W10004_0781/PHZ51</td>\n",
       "      <td>True</td>\n",
       "      <td>TXH3_2021</td>\n",
       "      <td>2021</td>\n",
       "      <td>4.506091</td>\n",
       "    </tr>\n",
       "    <tr>\n",
       "      <th>133055</th>\n",
       "      <td>W10004_0781/PHZ51</td>\n",
       "      <td>True</td>\n",
       "      <td>TXH3_2021</td>\n",
       "      <td>2021</td>\n",
       "      <td>2.649423</td>\n",
       "    </tr>\n",
       "    <tr>\n",
       "      <th>133056</th>\n",
       "      <td>W10004_0781/PHZ51</td>\n",
       "      <td>True</td>\n",
       "      <td>WIH2_2021</td>\n",
       "      <td>2021</td>\n",
       "      <td>11.093558</td>\n",
       "    </tr>\n",
       "  </tbody>\n",
       "</table>\n",
       "<p>133057 rows × 5 columns</p>\n",
       "</div>"
      ],
      "text/plain": [
       "                            Hybrid  SNPS        Env  Year  Yield_Mg_ha\n",
       "0       GEMN-0192_PHK76_0008/LH244  True  DEH1_2022  2022    12.545943\n",
       "1       GEMN-0192_PHK76_0008/LH244  True  GAH1_2022  2022     3.010474\n",
       "2       GEMN-0192_PHK76_0008/LH244  True  GAH2_2022  2022     9.881560\n",
       "3       GEMN-0192_PHK76_0008/LH244  True  IAH1_2022  2022     9.081722\n",
       "4       GEMN-0192_PHK76_0008/LH244  True  IAH2_2022  2022    12.958411\n",
       "...                            ...   ...        ...   ...          ...\n",
       "133052           W10004_0781/PHZ51  True  TXH2_2021  2021     9.363053\n",
       "133053           W10004_0781/PHZ51  True  TXH2_2021  2021    12.904405\n",
       "133054           W10004_0781/PHZ51  True  TXH3_2021  2021     4.506091\n",
       "133055           W10004_0781/PHZ51  True  TXH3_2021  2021     2.649423\n",
       "133056           W10004_0781/PHZ51  True  WIH2_2021  2021    11.093558\n",
       "\n",
       "[133057 rows x 5 columns]"
      ]
     },
     "execution_count": null,
     "metadata": {},
     "output_type": "execute_result"
    }
   ],
   "source": [
    "# limit to phno with snp data\n",
    "phno_geno = temp.loc[(temp.SNPS == True)].merge(phno, how = 'left')\n",
    "phno_geno.to_csv(cache_path+'phno_geno_filter.csv', index=False)\n",
    "phno_geno"
   ]
  },
  {
   "cell_type": "code",
   "execution_count": null,
   "id": "16112e06",
   "metadata": {},
   "outputs": [
    {
     "data": {
      "text/html": [
       "<div>\n",
       "<style scoped>\n",
       "    .dataframe tbody tr th:only-of-type {\n",
       "        vertical-align: middle;\n",
       "    }\n",
       "\n",
       "    .dataframe tbody tr th {\n",
       "        vertical-align: top;\n",
       "    }\n",
       "\n",
       "    .dataframe thead th {\n",
       "        text-align: right;\n",
       "    }\n",
       "</style>\n",
       "<table border=\"1\" class=\"dataframe\">\n",
       "  <thead>\n",
       "    <tr style=\"text-align: right;\">\n",
       "      <th></th>\n",
       "      <th>Env</th>\n",
       "      <th>Year</th>\n",
       "      <th>Hybrid</th>\n",
       "      <th>Yield_Mg_ha</th>\n",
       "      <th>SNPS</th>\n",
       "    </tr>\n",
       "  </thead>\n",
       "  <tbody>\n",
       "    <tr>\n",
       "      <th>0</th>\n",
       "      <td>DEH1_2014</td>\n",
       "      <td>2014</td>\n",
       "      <td>M0088/LH185</td>\n",
       "      <td>5.721725</td>\n",
       "      <td>True</td>\n",
       "    </tr>\n",
       "    <tr>\n",
       "      <th>1</th>\n",
       "      <td>DEH1_2014</td>\n",
       "      <td>2014</td>\n",
       "      <td>M0143/LH185</td>\n",
       "      <td>11.338246</td>\n",
       "      <td>True</td>\n",
       "    </tr>\n",
       "    <tr>\n",
       "      <th>2</th>\n",
       "      <td>DEH1_2014</td>\n",
       "      <td>2014</td>\n",
       "      <td>M0003/LH185</td>\n",
       "      <td>6.540810</td>\n",
       "      <td>True</td>\n",
       "    </tr>\n",
       "    <tr>\n",
       "      <th>3</th>\n",
       "      <td>DEH1_2014</td>\n",
       "      <td>2014</td>\n",
       "      <td>M0035/LH185</td>\n",
       "      <td>10.366857</td>\n",
       "      <td>True</td>\n",
       "    </tr>\n",
       "    <tr>\n",
       "      <th>4</th>\n",
       "      <td>DEH1_2014</td>\n",
       "      <td>2014</td>\n",
       "      <td>M0052/LH185</td>\n",
       "      <td>10.908814</td>\n",
       "      <td>True</td>\n",
       "    </tr>\n",
       "    <tr>\n",
       "      <th>...</th>\n",
       "      <td>...</td>\n",
       "      <td>...</td>\n",
       "      <td>...</td>\n",
       "      <td>...</td>\n",
       "      <td>...</td>\n",
       "    </tr>\n",
       "    <tr>\n",
       "      <th>135788</th>\n",
       "      <td>WIH3_2022</td>\n",
       "      <td>2022</td>\n",
       "      <td>W10010_0337/LH244</td>\n",
       "      <td>11.975018</td>\n",
       "      <td>True</td>\n",
       "    </tr>\n",
       "    <tr>\n",
       "      <th>135789</th>\n",
       "      <td>WIH3_2022</td>\n",
       "      <td>2022</td>\n",
       "      <td>W10010_0346/LH244</td>\n",
       "      <td>12.971193</td>\n",
       "      <td>True</td>\n",
       "    </tr>\n",
       "    <tr>\n",
       "      <th>135790</th>\n",
       "      <td>WIH3_2022</td>\n",
       "      <td>2022</td>\n",
       "      <td>W10010_0358/LH244</td>\n",
       "      <td>13.499769</td>\n",
       "      <td>True</td>\n",
       "    </tr>\n",
       "    <tr>\n",
       "      <th>135791</th>\n",
       "      <td>WIH3_2022</td>\n",
       "      <td>2022</td>\n",
       "      <td>W10010_0381/LH244</td>\n",
       "      <td>10.831640</td>\n",
       "      <td>True</td>\n",
       "    </tr>\n",
       "    <tr>\n",
       "      <th>135792</th>\n",
       "      <td>WIH3_2022</td>\n",
       "      <td>2022</td>\n",
       "      <td>W10010_0452/LH244</td>\n",
       "      <td>9.526524</td>\n",
       "      <td>True</td>\n",
       "    </tr>\n",
       "  </tbody>\n",
       "</table>\n",
       "<p>133057 rows × 5 columns</p>\n",
       "</div>"
      ],
      "text/plain": [
       "              Env  Year             Hybrid  Yield_Mg_ha  SNPS\n",
       "0       DEH1_2014  2014        M0088/LH185     5.721725  True\n",
       "1       DEH1_2014  2014        M0143/LH185    11.338246  True\n",
       "2       DEH1_2014  2014        M0003/LH185     6.540810  True\n",
       "3       DEH1_2014  2014        M0035/LH185    10.366857  True\n",
       "4       DEH1_2014  2014        M0052/LH185    10.908814  True\n",
       "...           ...   ...                ...          ...   ...\n",
       "135788  WIH3_2022  2022  W10010_0337/LH244    11.975018  True\n",
       "135789  WIH3_2022  2022  W10010_0346/LH244    12.971193  True\n",
       "135790  WIH3_2022  2022  W10010_0358/LH244    13.499769  True\n",
       "135791  WIH3_2022  2022  W10010_0381/LH244    10.831640  True\n",
       "135792  WIH3_2022  2022  W10010_0452/LH244     9.526524  True\n",
       "\n",
       "[133057 rows x 5 columns]"
      ]
     },
     "execution_count": null,
     "metadata": {},
     "output_type": "execute_result"
    }
   ],
   "source": [
    "# restrict to observations with snp data\n",
    "phno_geno = phno.merge(phno_geno.loc[:, ['Hybrid', 'SNPS']].drop_duplicates(), how  = 'left')\n",
    "phno_geno = phno_geno.loc[(phno_geno.SNPS == True)].copy()\n",
    "phno_geno"
   ]
  },
  {
   "cell_type": "code",
   "execution_count": null,
   "id": "2a146327",
   "metadata": {},
   "outputs": [],
   "source": [
    "assert phno_geno.Yield_Mg_ha.isna().sum() == 0"
   ]
  },
  {
   "cell_type": "code",
   "execution_count": null,
   "id": "ecd9d2a4",
   "metadata": {},
   "outputs": [],
   "source": [
    "# produce the final lookup table"
   ]
  },
  {
   "cell_type": "code",
   "execution_count": null,
   "id": "78a1d9ab",
   "metadata": {},
   "outputs": [
    {
     "data": {
      "text/html": [
       "<div>\n",
       "<style scoped>\n",
       "    .dataframe tbody tr th:only-of-type {\n",
       "        vertical-align: middle;\n",
       "    }\n",
       "\n",
       "    .dataframe tbody tr th {\n",
       "        vertical-align: top;\n",
       "    }\n",
       "\n",
       "    .dataframe thead th {\n",
       "        text-align: right;\n",
       "    }\n",
       "</style>\n",
       "<table border=\"1\" class=\"dataframe\">\n",
       "  <thead>\n",
       "    <tr style=\"text-align: right;\">\n",
       "      <th></th>\n",
       "      <th>Phno_Idx</th>\n",
       "      <th>Geno_Idx</th>\n",
       "      <th>Is_Phno_Idx</th>\n",
       "    </tr>\n",
       "  </thead>\n",
       "  <tbody>\n",
       "    <tr>\n",
       "      <th>0</th>\n",
       "      <td>0</td>\n",
       "      <td>0</td>\n",
       "      <td>0</td>\n",
       "    </tr>\n",
       "    <tr>\n",
       "      <th>1</th>\n",
       "      <td>1</td>\n",
       "      <td>0</td>\n",
       "      <td>0</td>\n",
       "    </tr>\n",
       "    <tr>\n",
       "      <th>2</th>\n",
       "      <td>2</td>\n",
       "      <td>0</td>\n",
       "      <td>0</td>\n",
       "    </tr>\n",
       "    <tr>\n",
       "      <th>3</th>\n",
       "      <td>3</td>\n",
       "      <td>0</td>\n",
       "      <td>0</td>\n",
       "    </tr>\n",
       "    <tr>\n",
       "      <th>4</th>\n",
       "      <td>4</td>\n",
       "      <td>0</td>\n",
       "      <td>0</td>\n",
       "    </tr>\n",
       "    <tr>\n",
       "      <th>...</th>\n",
       "      <td>...</td>\n",
       "      <td>...</td>\n",
       "      <td>...</td>\n",
       "    </tr>\n",
       "    <tr>\n",
       "      <th>133052</th>\n",
       "      <td>133052</td>\n",
       "      <td>4922</td>\n",
       "      <td>127772</td>\n",
       "    </tr>\n",
       "    <tr>\n",
       "      <th>133053</th>\n",
       "      <td>133053</td>\n",
       "      <td>4923</td>\n",
       "      <td>128009</td>\n",
       "    </tr>\n",
       "    <tr>\n",
       "      <th>133054</th>\n",
       "      <td>133054</td>\n",
       "      <td>4923</td>\n",
       "      <td>128009</td>\n",
       "    </tr>\n",
       "    <tr>\n",
       "      <th>133055</th>\n",
       "      <td>133055</td>\n",
       "      <td>4924</td>\n",
       "      <td>128745</td>\n",
       "    </tr>\n",
       "    <tr>\n",
       "      <th>133056</th>\n",
       "      <td>133056</td>\n",
       "      <td>4925</td>\n",
       "      <td>130015</td>\n",
       "    </tr>\n",
       "  </tbody>\n",
       "</table>\n",
       "<p>133057 rows × 3 columns</p>\n",
       "</div>"
      ],
      "text/plain": [
       "        Phno_Idx  Geno_Idx  Is_Phno_Idx\n",
       "0              0         0            0\n",
       "1              1         0            0\n",
       "2              2         0            0\n",
       "3              3         0            0\n",
       "4              4         0            0\n",
       "...          ...       ...          ...\n",
       "133052    133052      4922       127772\n",
       "133053    133053      4923       128009\n",
       "133054    133054      4923       128009\n",
       "133055    133055      4924       128745\n",
       "133056    133056      4925       130015\n",
       "\n",
       "[133057 rows x 3 columns]"
      ]
     },
     "execution_count": null,
     "metadata": {},
     "output_type": "execute_result"
    }
   ],
   "source": [
    "obs_lookup = phno_geno.loc[:, ['Hybrid']\n",
    "                             ].drop_duplicates(\n",
    "                             ).reset_index(\n",
    "                             ).rename(columns = {'index':'Is_Phno_Idx'}\n",
    "                             ).reset_index().rename(columns = {'index':'Geno_Idx'})\n",
    "# add in obs idx in phno\n",
    "obs_lookup = phno_geno.merge(obs_lookup).reset_index().rename(columns = {'index':'Phno_Idx'})\n",
    "obs_geno_lookup = obs_lookup.loc[: ,  ['Phno_Idx', 'Geno_Idx', 'Is_Phno_Idx']]\n",
    "obs_geno_lookup"
   ]
  },
  {
   "cell_type": "code",
   "execution_count": null,
   "id": "f3367ca5",
   "metadata": {},
   "outputs": [
    {
     "data": {
      "text/html": [
       "<div>\n",
       "<style scoped>\n",
       "    .dataframe tbody tr th:only-of-type {\n",
       "        vertical-align: middle;\n",
       "    }\n",
       "\n",
       "    .dataframe tbody tr th {\n",
       "        vertical-align: top;\n",
       "    }\n",
       "\n",
       "    .dataframe thead th {\n",
       "        text-align: right;\n",
       "    }\n",
       "</style>\n",
       "<table border=\"1\" class=\"dataframe\">\n",
       "  <thead>\n",
       "    <tr style=\"text-align: right;\">\n",
       "      <th></th>\n",
       "      <th>Phno_Idx</th>\n",
       "      <th>Geno_Idx</th>\n",
       "      <th>Is_Phno_Idx</th>\n",
       "    </tr>\n",
       "  </thead>\n",
       "  <tbody>\n",
       "    <tr>\n",
       "      <th>0</th>\n",
       "      <td>0</td>\n",
       "      <td>0</td>\n",
       "      <td>0</td>\n",
       "    </tr>\n",
       "    <tr>\n",
       "      <th>1</th>\n",
       "      <td>1</td>\n",
       "      <td>0</td>\n",
       "      <td>0</td>\n",
       "    </tr>\n",
       "    <tr>\n",
       "      <th>2</th>\n",
       "      <td>2</td>\n",
       "      <td>0</td>\n",
       "      <td>0</td>\n",
       "    </tr>\n",
       "    <tr>\n",
       "      <th>3</th>\n",
       "      <td>3</td>\n",
       "      <td>0</td>\n",
       "      <td>0</td>\n",
       "    </tr>\n",
       "    <tr>\n",
       "      <th>4</th>\n",
       "      <td>4</td>\n",
       "      <td>0</td>\n",
       "      <td>0</td>\n",
       "    </tr>\n",
       "    <tr>\n",
       "      <th>...</th>\n",
       "      <td>...</td>\n",
       "      <td>...</td>\n",
       "      <td>...</td>\n",
       "    </tr>\n",
       "    <tr>\n",
       "      <th>133052</th>\n",
       "      <td>133052</td>\n",
       "      <td>4922</td>\n",
       "      <td>127772</td>\n",
       "    </tr>\n",
       "    <tr>\n",
       "      <th>133053</th>\n",
       "      <td>133053</td>\n",
       "      <td>4923</td>\n",
       "      <td>128009</td>\n",
       "    </tr>\n",
       "    <tr>\n",
       "      <th>133054</th>\n",
       "      <td>133054</td>\n",
       "      <td>4923</td>\n",
       "      <td>128009</td>\n",
       "    </tr>\n",
       "    <tr>\n",
       "      <th>133055</th>\n",
       "      <td>133055</td>\n",
       "      <td>4924</td>\n",
       "      <td>128745</td>\n",
       "    </tr>\n",
       "    <tr>\n",
       "      <th>133056</th>\n",
       "      <td>133056</td>\n",
       "      <td>4925</td>\n",
       "      <td>130015</td>\n",
       "    </tr>\n",
       "  </tbody>\n",
       "</table>\n",
       "<p>133057 rows × 3 columns</p>\n",
       "</div>"
      ],
      "text/plain": [
       "        Phno_Idx  Geno_Idx  Is_Phno_Idx\n",
       "0              0         0            0\n",
       "1              1         0            0\n",
       "2              2         0            0\n",
       "3              3         0            0\n",
       "4              4         0            0\n",
       "...          ...       ...          ...\n",
       "133052    133052      4922       127772\n",
       "133053    133053      4923       128009\n",
       "133054    133054      4923       128009\n",
       "133055    133055      4924       128745\n",
       "133056    133056      4925       130015\n",
       "\n",
       "[133057 rows x 3 columns]"
      ]
     },
     "execution_count": null,
     "metadata": {},
     "output_type": "execute_result"
    }
   ],
   "source": [
    "obs_geno_lookup"
   ]
  },
  {
   "cell_type": "code",
   "execution_count": null,
   "id": "53a1143e",
   "metadata": {},
   "outputs": [],
   "source": [
    "# save out obs_geno_lookup\n",
    "np.save(cache_path+'obs_geno_lookup.npy', np.asarray(obs_geno_lookup))\n",
    "obs_geno_lookup.to_csv(cache_path+'obs_geno_lookup.csv', index=False)"
   ]
  },
  {
   "cell_type": "markdown",
   "id": "aabb9cab",
   "metadata": {},
   "source": [
    "### One Hot Encode G (Deduplicated)"
   ]
  },
  {
   "cell_type": "code",
   "execution_count": null,
   "id": "e9fd8ee8",
   "metadata": {},
   "outputs": [],
   "source": [
    "# If phno and GMat observations are 1:1, then GMat is 135793, 2250. After deduplicating this will become 4926, 2250. That's only 3.6%!\n",
    "# Doing this removes several hybrids so it's actually a little smaller 4926, 2203"
   ]
  },
  {
   "cell_type": "code",
   "execution_count": null,
   "id": "978cc79f",
   "metadata": {},
   "outputs": [
    {
     "data": {
      "text/html": [
       "<div>\n",
       "<style scoped>\n",
       "    .dataframe tbody tr th:only-of-type {\n",
       "        vertical-align: middle;\n",
       "    }\n",
       "\n",
       "    .dataframe tbody tr th {\n",
       "        vertical-align: top;\n",
       "    }\n",
       "\n",
       "    .dataframe thead th {\n",
       "        text-align: right;\n",
       "    }\n",
       "</style>\n",
       "<table border=\"1\" class=\"dataframe\">\n",
       "  <thead>\n",
       "    <tr style=\"text-align: right;\">\n",
       "      <th></th>\n",
       "      <th>Phno_Idx</th>\n",
       "      <th>Geno_Idx</th>\n",
       "      <th>Is_Phno_Idx</th>\n",
       "    </tr>\n",
       "  </thead>\n",
       "  <tbody>\n",
       "    <tr>\n",
       "      <th>0</th>\n",
       "      <td>0</td>\n",
       "      <td>0</td>\n",
       "      <td>0</td>\n",
       "    </tr>\n",
       "    <tr>\n",
       "      <th>1</th>\n",
       "      <td>1</td>\n",
       "      <td>0</td>\n",
       "      <td>0</td>\n",
       "    </tr>\n",
       "    <tr>\n",
       "      <th>2</th>\n",
       "      <td>2</td>\n",
       "      <td>0</td>\n",
       "      <td>0</td>\n",
       "    </tr>\n",
       "    <tr>\n",
       "      <th>3</th>\n",
       "      <td>3</td>\n",
       "      <td>0</td>\n",
       "      <td>0</td>\n",
       "    </tr>\n",
       "    <tr>\n",
       "      <th>4</th>\n",
       "      <td>4</td>\n",
       "      <td>0</td>\n",
       "      <td>0</td>\n",
       "    </tr>\n",
       "  </tbody>\n",
       "</table>\n",
       "</div>"
      ],
      "text/plain": [
       "   Phno_Idx  Geno_Idx  Is_Phno_Idx\n",
       "0         0         0            0\n",
       "1         1         0            0\n",
       "2         2         0            0\n",
       "3         3         0            0\n",
       "4         4         0            0"
      ]
     },
     "execution_count": null,
     "metadata": {},
     "output_type": "execute_result"
    }
   ],
   "source": [
    "obs_geno_lookup.head()"
   ]
  },
  {
   "cell_type": "code",
   "execution_count": null,
   "id": "3bc5250c",
   "metadata": {},
   "outputs": [
    {
     "data": {
      "text/html": [
       "<div>\n",
       "<style scoped>\n",
       "    .dataframe tbody tr th:only-of-type {\n",
       "        vertical-align: middle;\n",
       "    }\n",
       "\n",
       "    .dataframe tbody tr th {\n",
       "        vertical-align: top;\n",
       "    }\n",
       "\n",
       "    .dataframe thead th {\n",
       "        text-align: right;\n",
       "    }\n",
       "</style>\n",
       "<table border=\"1\" class=\"dataframe\">\n",
       "  <thead>\n",
       "    <tr style=\"text-align: right;\">\n",
       "      <th></th>\n",
       "      <th>Env</th>\n",
       "      <th>Year</th>\n",
       "      <th>Hybrid</th>\n",
       "      <th>Yield_Mg_ha</th>\n",
       "      <th>SNPS</th>\n",
       "    </tr>\n",
       "  </thead>\n",
       "  <tbody>\n",
       "    <tr>\n",
       "      <th>0</th>\n",
       "      <td>DEH1_2014</td>\n",
       "      <td>2014</td>\n",
       "      <td>M0088/LH185</td>\n",
       "      <td>5.721725</td>\n",
       "      <td>True</td>\n",
       "    </tr>\n",
       "    <tr>\n",
       "      <th>1</th>\n",
       "      <td>DEH1_2014</td>\n",
       "      <td>2014</td>\n",
       "      <td>M0143/LH185</td>\n",
       "      <td>11.338246</td>\n",
       "      <td>True</td>\n",
       "    </tr>\n",
       "    <tr>\n",
       "      <th>2</th>\n",
       "      <td>DEH1_2014</td>\n",
       "      <td>2014</td>\n",
       "      <td>M0003/LH185</td>\n",
       "      <td>6.540810</td>\n",
       "      <td>True</td>\n",
       "    </tr>\n",
       "    <tr>\n",
       "      <th>3</th>\n",
       "      <td>DEH1_2014</td>\n",
       "      <td>2014</td>\n",
       "      <td>M0035/LH185</td>\n",
       "      <td>10.366857</td>\n",
       "      <td>True</td>\n",
       "    </tr>\n",
       "    <tr>\n",
       "      <th>4</th>\n",
       "      <td>DEH1_2014</td>\n",
       "      <td>2014</td>\n",
       "      <td>M0052/LH185</td>\n",
       "      <td>10.908814</td>\n",
       "      <td>True</td>\n",
       "    </tr>\n",
       "    <tr>\n",
       "      <th>...</th>\n",
       "      <td>...</td>\n",
       "      <td>...</td>\n",
       "      <td>...</td>\n",
       "      <td>...</td>\n",
       "      <td>...</td>\n",
       "    </tr>\n",
       "    <tr>\n",
       "      <th>4921</th>\n",
       "      <td>IAH2_2022</td>\n",
       "      <td>2022</td>\n",
       "      <td>GEMN-0096_LH212HT_0014/LH244</td>\n",
       "      <td>10.929844</td>\n",
       "      <td>True</td>\n",
       "    </tr>\n",
       "    <tr>\n",
       "      <th>4922</th>\n",
       "      <td>IAH2_2022</td>\n",
       "      <td>2022</td>\n",
       "      <td>NC370/LH244</td>\n",
       "      <td>5.306059</td>\n",
       "      <td>True</td>\n",
       "    </tr>\n",
       "    <tr>\n",
       "      <th>4923</th>\n",
       "      <td>IAH3_2022</td>\n",
       "      <td>2022</td>\n",
       "      <td>GEMN-0097_LH212HT_0046/LH244</td>\n",
       "      <td>13.179435</td>\n",
       "      <td>True</td>\n",
       "    </tr>\n",
       "    <tr>\n",
       "      <th>4924</th>\n",
       "      <td>IAH4_2022</td>\n",
       "      <td>2022</td>\n",
       "      <td>GEMN-0225_PHK76_0025/LH244</td>\n",
       "      <td>11.453161</td>\n",
       "      <td>True</td>\n",
       "    </tr>\n",
       "    <tr>\n",
       "      <th>4925</th>\n",
       "      <td>MIH1_2022</td>\n",
       "      <td>2022</td>\n",
       "      <td>GEMN-0097_PHN46_0012/LH244</td>\n",
       "      <td>6.012986</td>\n",
       "      <td>True</td>\n",
       "    </tr>\n",
       "  </tbody>\n",
       "</table>\n",
       "<p>4926 rows × 5 columns</p>\n",
       "</div>"
      ],
      "text/plain": [
       "            Env  Year                        Hybrid  Yield_Mg_ha  SNPS\n",
       "0     DEH1_2014  2014                   M0088/LH185     5.721725  True\n",
       "1     DEH1_2014  2014                   M0143/LH185    11.338246  True\n",
       "2     DEH1_2014  2014                   M0003/LH185     6.540810  True\n",
       "3     DEH1_2014  2014                   M0035/LH185    10.366857  True\n",
       "4     DEH1_2014  2014                   M0052/LH185    10.908814  True\n",
       "...         ...   ...                           ...          ...   ...\n",
       "4921  IAH2_2022  2022  GEMN-0096_LH212HT_0014/LH244    10.929844  True\n",
       "4922  IAH2_2022  2022                   NC370/LH244     5.306059  True\n",
       "4923  IAH3_2022  2022  GEMN-0097_LH212HT_0046/LH244    13.179435  True\n",
       "4924  IAH4_2022  2022    GEMN-0225_PHK76_0025/LH244    11.453161  True\n",
       "4925  MIH1_2022  2022    GEMN-0097_PHN46_0012/LH244     6.012986  True\n",
       "\n",
       "[4926 rows x 5 columns]"
      ]
     },
     "execution_count": null,
     "metadata": {},
     "output_type": "execute_result"
    }
   ],
   "source": [
    "temp = obs_geno_lookup.drop(columns = 'Phno_Idx').drop_duplicates().reset_index(drop=True)\n",
    "\n",
    "mask = phno_geno.index.isin(list(obs_geno_lookup['Is_Phno_Idx'].drop_duplicates()))\n",
    "temp = phno_geno.loc[mask, ]#'Hybrid']\n",
    "temp = temp.reset_index(drop = True) # drop so that the index in the DataFrame and ndarray match\n",
    "temp"
   ]
  },
  {
   "cell_type": "code",
   "execution_count": null,
   "id": "ef52cff1",
   "metadata": {},
   "outputs": [],
   "source": [
    "temp = pd.concat([temp, temp.Hybrid.str.split('/', expand=True)], axis=1\n",
    "        ).rename(columns = {0:'P0', 1:'P1'})\n",
    "\n",
    "uniq_parents = list(set(pd.concat([temp['P0'], temp['P1']])))"
   ]
  },
  {
   "cell_type": "code",
   "execution_count": null,
   "id": "874b0f1f",
   "metadata": {},
   "outputs": [],
   "source": [
    "if os.path.exists(cache_path+'GMat.npy'):\n",
    "    GMat = np.load(cache_path+'GMat.npy')\n",
    "else:\n",
    "    GMat = np.zeros([temp.shape[0], len(uniq_parents)])\n",
    "\n",
    "    for j in tqdm.tqdm(range(len(uniq_parents))):\n",
    "        for parent in ['P0', 'P1']:\n",
    "            mask = (temp[parent] == uniq_parents[j]) \n",
    "            GMat[temp.loc[mask, ].index, j] += 1\n",
    "            \n",
    "    np.save(cache_path+'GMat.npy', GMat)"
   ]
  },
  {
   "cell_type": "code",
   "execution_count": null,
   "id": "b28dac93",
   "metadata": {},
   "outputs": [],
   "source": [
    "np.save(cache_path+'GMatNames.npy', uniq_parents)"
   ]
  },
  {
   "cell_type": "code",
   "execution_count": null,
   "id": "ab8f5120",
   "metadata": {},
   "outputs": [],
   "source": [
    "# confirm there are two parents encoded for each observation\n",
    "assert 2 == np.min(np.sum(GMat, axis = 1))"
   ]
  },
  {
   "cell_type": "markdown",
   "id": "be0fbd9f",
   "metadata": {},
   "source": [
    "### Nucleotides"
   ]
  },
  {
   "cell_type": "code",
   "execution_count": null,
   "id": "7a23cb81",
   "metadata": {},
   "outputs": [
    {
     "data": {
      "text/plain": [
       "{'unk': 0,\n",
       " 'A': 1,\n",
       " 'C': 2,\n",
       " 'G': 3,\n",
       " 'T': 4,\n",
       " 'K': 5,\n",
       " 'M': 6,\n",
       " 'N': 7,\n",
       " 'R': 8,\n",
       " 'S': 9,\n",
       " 'W': 10,\n",
       " 'Y': 11}"
      ]
     },
     "execution_count": null,
     "metadata": {},
     "output_type": "execute_result"
    }
   ],
   "source": [
    "# Convert IUPAC codes into one hot\n",
    "# https://www.bioinformatics.org/sms/iupac.html\n",
    "IUPAC = ['unk', 'A', 'C', 'G', 'T', 'K', 'M', 'N', 'R', 'S', 'W', 'Y']\n",
    "IUPAC = dict(zip(IUPAC, [i for i in range(len(IUPAC))])) # begin with unk.\n",
    "IUPAC"
   ]
  },
  {
   "cell_type": "code",
   "execution_count": null,
   "id": "5b692b85",
   "metadata": {},
   "outputs": [],
   "source": [
    "put_cached_result(cache_path+'ACGT_OneHot_dict.pkl', IUPAC)"
   ]
  },
  {
   "cell_type": "code",
   "execution_count": null,
   "id": "6ae820a8",
   "metadata": {},
   "outputs": [],
   "source": [
    "if os.path.exists(cache_path+'ACGT_OneHot.npy'):\n",
    "#     ACGT = np.load(cache_path+'ACGT_OneHot.npy')\n",
    "    pass\n",
    "else:\n",
    "    temp = obs_geno_lookup.drop(columns = 'Phno_Idx').drop_duplicates().reset_index(drop=True)\n",
    "\n",
    "    # use the first Hybrid to figure out what the length of the sequence is.\n",
    "    i = 0\n",
    "    phno_idx = temp.loc[i, 'Is_Phno_Idx']\n",
    "    ith_hybrid = phno.loc[phno_idx, 'Hybrid']\n",
    "    geno_seq_len = len(get_geno(taxa_to_filename(taxa = ith_hybrid))[1:])    \n",
    "\n",
    "    # setup ndarray to hold data\n",
    "    ACGT = np.ndarray(shape = (temp.shape[0],        # obs\n",
    "                               geno_seq_len,         # values\n",
    "                               len(IUPAC.keys())+1)) # channels\n",
    "\n",
    "    # This is inefficient but needs only to be run once.\n",
    "    # go over observations, channels, fill in values\n",
    "\n",
    "    for i in tqdm.tqdm(temp.index): \n",
    "        phno_idx = temp.loc[i, 'Is_Phno_Idx']\n",
    "        ith_hybrid = phno.loc[phno_idx, 'Hybrid']\n",
    "        res = get_geno(taxa_to_filename(taxa = ith_hybrid)) \n",
    "        res = res[1:] # drop taxa\n",
    "\n",
    "        res = [e.strip('\\n') for e in res] # remove end of line\n",
    "\n",
    "        for key in IUPAC.keys():\n",
    "            IUPAC_mask = [True if e == key else False for e in res]\n",
    "            ACGT[i, \n",
    "                 IUPAC_mask, \n",
    "                 IUPAC[key]] = 1  \n",
    "\n",
    "    # Swap axes to match pytorch convention\n",
    "    ACGT = np.swapaxes(ACGT, 1, 2)\n",
    "\n",
    "    np.save(cache_path+'ACGT_OneHot.npy', ACGT)"
   ]
  },
  {
   "cell_type": "markdown",
   "id": "2a83c761",
   "metadata": {},
   "source": [
    "### Nucleotide percents"
   ]
  },
  {
   "cell_type": "code",
   "execution_count": null,
   "id": "55f9b600",
   "metadata": {},
   "outputs": [],
   "source": [
    "if os.path.exists(cache_path+'ACGT.npy'):\n",
    "#     ACGT = np.load(cache_path+'ACGT.npy')\n",
    "    pass\n",
    "else:\n",
    "    temp = obs_geno_lookup.drop(columns = 'Phno_Idx').drop_duplicates().reset_index(drop=True)\n",
    "\n",
    "    \n",
    "    # use the first Hybrid to figure out what the length of the sequence is.\n",
    "    i = 0\n",
    "    phno_idx = temp.loc[i, 'Is_Phno_Idx']\n",
    "    ith_hybrid = phno.loc[phno_idx, 'Hybrid']\n",
    "    geno_seq_len = len(get_geno(taxa_to_filename(taxa = ith_hybrid))[1:])    \n",
    "    \n",
    "    # setup ndarray to hold data\n",
    "    ACGT = np.ndarray(shape = (temp.shape[0], geno_seq_len, 4))\n",
    "\n",
    "    for i in tqdm.tqdm(temp.index):\n",
    "        phno_idx = temp.loc[i, 'Is_Phno_Idx']\n",
    "        ith_hybrid = phno.loc[phno_idx, 'Hybrid']\n",
    "        res = get_geno(taxa_to_filename(taxa = ith_hybrid)) \n",
    "        res = res[1:] # drop taxa\n",
    "        res = list_to_ACGT(in_seq = res)\n",
    "        ACGT[i, :, :] = res[None, :, :]\n",
    "        \n",
    "    # Swap axes to match pytorch convention\n",
    "    # (4926, 125891, 4)\n",
    "    ACGT = np.swapaxes(ACGT, 1, 2)\n",
    "\n",
    "    # set missings to 0 \n",
    "    ACGT[np.isnan(ACGT)] = 0\n",
    "\n",
    "    np.save(cache_path+'ACGT.npy', ACGT)"
   ]
  },
  {
   "cell_type": "markdown",
   "id": "e924a0d7",
   "metadata": {},
   "source": [
    "### Hilbert Nucleotide percents"
   ]
  },
  {
   "cell_type": "code",
   "execution_count": null,
   "id": "e4508fb5",
   "metadata": {},
   "outputs": [],
   "source": [
    "if os.path.exists(cache_path+'ACGT_hilb.npy'):\n",
    "#     ACGT_hilb = np.load(cache_path+'ACGT_hilb.npy')\n",
    "    pass\n",
    "else:\n",
    "    ACGT_hilb = np_3d_to_hilbert( np.swapaxes(ACGT, 1, 2) ) # swap channels back to dim 2 before running\n",
    "\n",
    "    # ACGT_hilb.shape\n",
    "    # (4926, 256, 512, 4)\n",
    "    # Pytorch standard has channels second\n",
    "    ACGT_hilb = np.swapaxes(ACGT_hilb, 1, 3)\n",
    "    ACGT_hilb = np.swapaxes(ACGT_hilb, 2, 3)\n",
    "\n",
    "    # set missings to 0\n",
    "    ACGT_hilb[np.isnan(ACGT_hilb)] = 0\n",
    "\n",
    "    np.save(cache_path+'ACGT_hilb.npy', ACGT_hilb)"
   ]
  },
  {
   "cell_type": "markdown",
   "id": "04fd878c",
   "metadata": {},
   "source": [
    "## Make S Matrix"
   ]
  },
  {
   "cell_type": "code",
   "execution_count": null,
   "id": "9313151b",
   "metadata": {},
   "outputs": [],
   "source": [
    "SMat = phno.loc[:, ['Env']].merge(soil.drop(columns = ['Unnamed: 0', 'Year'])).drop(columns = ['Env'])\n",
    "SMatNames = list(SMat)\n",
    "SMat = np.array(SMat)"
   ]
  },
  {
   "cell_type": "markdown",
   "id": "5168fe87",
   "metadata": {},
   "source": [
    "## Prep W"
   ]
  },
  {
   "cell_type": "code",
   "execution_count": null,
   "id": "f1dae4c1",
   "metadata": {},
   "outputs": [],
   "source": [
    "# Input: (N,Cin,Lin)(N,Cin,Lin) or (Cin,Lin)(Cin,Lin)"
   ]
  },
  {
   "cell_type": "code",
   "execution_count": null,
   "id": "f40b738b",
   "metadata": {},
   "outputs": [],
   "source": [
    "WMatNames = list(wthr.drop(columns = ['Unnamed: 0', 'Env', 'Year', 'Date', 'DOY']))\n",
    "WMat = np.zeros([   # Pytorch uses\n",
    "    phno.shape[0],  # N\n",
    "    len(WMatNames), # Cin\n",
    "    np.max(wthr.DOY)# Lin\n",
    "])"
   ]
  },
  {
   "cell_type": "code",
   "execution_count": null,
   "id": "9fa41a24",
   "metadata": {},
   "outputs": [
    {
     "name": "stderr",
     "output_type": "stream",
     "text": [
      "100%|█████████████████████████████████████████████████████████████████████████████████████████████████████████████| 135793/135793 [00:03<00:00, 37117.30it/s]\n"
     ]
    }
   ],
   "source": [
    "# loop through all obs, but only add each env once (add to all relevant obs)\n",
    "added_envs = []\n",
    "for i in tqdm.tqdm(phno.index):\n",
    "    env = phno.loc[i, 'Env']\n",
    "\n",
    "    if env in added_envs:\n",
    "        pass\n",
    "    else:\n",
    "        mask = (phno.Env == env)\n",
    "        WMat_idxs = phno.loc[mask, ].index\n",
    "\n",
    "        # selected data is transposed to match correct shape\n",
    "        wthr_mask = (wthr.Env == env)\n",
    "        WMat[WMat_idxs, :, :] = wthr.loc[wthr_mask, \n",
    "                                   ].sort_values('DOY'\n",
    "                                   ).drop(columns = ['Unnamed: 0', 'Env', \n",
    "                                                     'Year', 'Date', 'DOY']).T\n",
    "\n",
    "        added_envs += [env]"
   ]
  },
  {
   "cell_type": "markdown",
   "id": "a11f0094",
   "metadata": {},
   "source": [
    "## Prep CGMV?"
   ]
  },
  {
   "cell_type": "code",
   "execution_count": null,
   "id": "430668e2",
   "metadata": {},
   "outputs": [],
   "source": [
    "MMatNames = list(cgmv.drop(columns = ['Unnamed: 0', 'Env', 'Year']))"
   ]
  },
  {
   "cell_type": "code",
   "execution_count": null,
   "id": "1cdc1c8d",
   "metadata": {},
   "outputs": [],
   "source": [
    "MMat = np.zeros([   \n",
    "    phno.shape[0],  \n",
    "    len(MMatNames)\n",
    "])"
   ]
  },
  {
   "cell_type": "code",
   "execution_count": null,
   "id": "f7273cbf",
   "metadata": {},
   "outputs": [
    {
     "name": "stderr",
     "output_type": "stream",
     "text": [
      "100%|█████████████████████████████████████████████████████████████████████████████████████████████████████████████| 135793/135793 [00:02<00:00, 65191.00it/s]\n"
     ]
    }
   ],
   "source": [
    "# loop through all obs, but only add each env once (add to all relevant obs)\n",
    "added_envs = []\n",
    "for i in tqdm.tqdm(phno.index):\n",
    "    env = phno.loc[i, 'Env']\n",
    "\n",
    "    if env in added_envs:\n",
    "        pass\n",
    "    else:\n",
    "        mask = (phno.Env == env)\n",
    "        MMat_idxs = phno.loc[mask, ].index\n",
    "\n",
    "        # selected data is transposed to match correct shape\n",
    "        cgmv_mask = (cgmv.Env == env)\n",
    "        MMat[MMat_idxs, :] = cgmv.loc[cgmv_mask, \n",
    "                                ].drop(columns = ['Unnamed: 0', 'Env', 'Year'])\n",
    "\n",
    "        added_envs += [env]"
   ]
  },
  {
   "cell_type": "markdown",
   "id": "0b3405c8",
   "metadata": {},
   "source": [
    "# Save data\n",
    "This will streamline model generation. I'll just need to load these files in and can directly begin modeling."
   ]
  },
  {
   "cell_type": "code",
   "execution_count": null,
   "id": "b7defc79",
   "metadata": {},
   "outputs": [],
   "source": [
    "np.save(cache_path+'SMatNames.npy', SMatNames)\n",
    "np.save(cache_path+'WMatNames.npy', WMatNames)\n",
    "np.save(cache_path+'MMatNames.npy', MMatNames)"
   ]
  },
  {
   "cell_type": "code",
   "execution_count": null,
   "id": "aa8588fb",
   "metadata": {},
   "outputs": [],
   "source": [
    "phno.to_csv(cache_path+'phno.csv', index=False)"
   ]
  },
  {
   "cell_type": "code",
   "execution_count": null,
   "id": "51ce6d71",
   "metadata": {},
   "outputs": [],
   "source": [
    "np.save(cache_path+'YMat.npy', YMat)\n",
    "np.save(cache_path+'SMat.npy', SMat)\n",
    "np.save(cache_path+'WMat.npy', WMat)\n",
    "np.save(cache_path+'MMat.npy', MMat)"
   ]
  }
 ],
 "metadata": {
  "kernelspec": {
   "display_name": "python3",
   "language": "python",
   "name": "python3"
  }
 },
 "nbformat": 4,
 "nbformat_minor": 5
}
