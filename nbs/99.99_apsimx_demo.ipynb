{
 "cells": [
  {
   "cell_type": "code",
   "execution_count": null,
   "id": "d47758a4",
   "metadata": {},
   "outputs": [],
   "source": [
    "import sqlalchemy"
   ]
  },
  {
   "cell_type": "code",
   "execution_count": null,
   "id": "40e9a925",
   "metadata": {},
   "outputs": [],
   "source": [
    "import numpy as np\n",
    "import torch \n",
    "from torch.utils.data import Dataset, DataLoader\n",
    "from torch import optim\n",
    "from torch import nn\n",
    "from torch.nn import init # for init.kaiming_normal_\n",
    "import torch.nn.functional as F\n",
    "\n",
    "# import torcheval\n",
    "from torcheval.metrics import MeanSquaredError, Mean\n",
    "\n",
    "\n",
    "from torch.optim.lr_scheduler import ExponentialLR"
   ]
  },
  {
   "cell_type": "code",
   "execution_count": null,
   "id": "d743a3d7",
   "metadata": {},
   "outputs": [],
   "source": [
    "import fastcore.all as fc\n",
    "from fastprogress import progress_bar,master_bar"
   ]
  },
  {
   "cell_type": "code",
   "execution_count": null,
   "id": "0f5da0f7",
   "metadata": {},
   "outputs": [],
   "source": [
    "from fastai.vision.all import *"
   ]
  },
  {
   "cell_type": "code",
   "execution_count": null,
   "id": "b51062ab",
   "metadata": {},
   "outputs": [],
   "source": [
    "import plotly.express as px\n",
    "from captum.attr import IntegratedGradients"
   ]
  },
  {
   "cell_type": "code",
   "execution_count": null,
   "id": "2f859a52",
   "metadata": {},
   "outputs": [],
   "source": [
    "def_device = 'cuda'\n",
    "# def_device = 'cpu'"
   ]
  },
  {
   "cell_type": "markdown",
   "id": "1ec57fb3",
   "metadata": {},
   "source": [
    "# Reused Objects"
   ]
  },
  {
   "cell_type": "markdown",
   "id": "f99d1043",
   "metadata": {},
   "source": [
    "## Callbacks"
   ]
  },
  {
   "cell_type": "code",
   "execution_count": null,
   "id": "5a649f2e",
   "metadata": {},
   "outputs": [],
   "source": [
    "class CancelFitException(Exception): pass\n",
    "class CancelBatchException(Exception): pass\n",
    "class CancelEpochException(Exception): pass\n",
    "\n",
    "class Callback(): order = 0\n",
    "\n",
    "def run_cbs(cbs, method_nm, learn=None):\n",
    "    for cb in sorted(cbs, key=attrgetter('order')):\n",
    "        method = getattr(cb, method_nm, None)\n",
    "        if method is not None: method(learn)\n",
    "            \n",
    "# class CompletionCB(Callback):\n",
    "#     def before_fit(self, learn): self.count = 0\n",
    "#     def after_batch(self, learn): self.count += 1\n",
    "#     def after_fit(self, learn): print(f'Completed {self.count} batches')"
   ]
  },
  {
   "cell_type": "code",
   "execution_count": null,
   "id": "ce2d695d",
   "metadata": {},
   "outputs": [],
   "source": [
    "# cbs = [CompletionCB()]\n",
    "# run_cbs(cbs, 'before_fit')\n",
    "# run_cbs(cbs, 'after_batch')\n",
    "# run_cbs(cbs, 'after_fit')"
   ]
  },
  {
   "cell_type": "code",
   "execution_count": null,
   "id": "27a597ef",
   "metadata": {},
   "outputs": [],
   "source": [
    "# uses exception to exit fitting after only one batch\n",
    "#     \n",
    "class SingleBatchCB(Callback):\n",
    "    order = 1\n",
    "    def after_batch(self, learn): raise CancelFitException()"
   ]
  },
  {
   "cell_type": "code",
   "execution_count": null,
   "id": "78b850b6",
   "metadata": {},
   "outputs": [],
   "source": [
    "class MetricsCB(Callback):\n",
    "    def __init__(self, *ms, **metrics):\n",
    "        for o in ms: metrics[type(o).__name__] = o\n",
    "        self.metrics = metrics\n",
    "        self.all_metrics = copy(metrics)\n",
    "        self.all_metrics['loss'] = self.loss = Mean()\n",
    "\n",
    "    def _log(self, d): print(d)\n",
    "    def before_fit(self, learn): learn.metrics = self\n",
    "    def before_epoch(self, learn): [o.reset() for o in self.all_metrics.values()]\n",
    "\n",
    "    def after_epoch(self, learn):\n",
    "        log = {k:f'{v.compute():.3f}' for k,v in self.all_metrics.items()}\n",
    "        log['epoch'] = learn.epoch\n",
    "        log['train'] = 'train' if learn.model.training else 'eval'\n",
    "        self._log(log)\n",
    "\n",
    "    def after_batch(self, learn):\n",
    "        x,y,*_ = to_cpu(learn.batch)\n",
    "        for m in self.metrics.values(): m.update(to_cpu(learn.preds), y)\n",
    "        self.loss.update(to_cpu(learn.loss), weight=len(x))"
   ]
  },
  {
   "cell_type": "code",
   "execution_count": null,
   "id": "a91abdfa",
   "metadata": {},
   "outputs": [],
   "source": [
    "class DeviceCB(Callback):\n",
    "    def __init__(self, device=def_device): fc.store_attr()\n",
    "    def before_fit(self, learn):\n",
    "        if hasattr(learn.model, 'to'): learn.model.to(self.device)\n",
    "    def before_batch(self, learn): learn.batch = to_device(learn.batch, device=self.device)"
   ]
  },
  {
   "cell_type": "code",
   "execution_count": null,
   "id": "30a211ae",
   "metadata": {},
   "outputs": [],
   "source": [
    "class TrainCB(Callback):\n",
    "    def __init__(self, n_inp=1): self.n_inp = n_inp # NB: I added self.n_inp after the lesson. This allows us to train models with more than one input or output.\n",
    "    def predict(self, learn): learn.preds = learn.model(*learn.batch[:self.n_inp])\n",
    "    def get_loss(self, learn): learn.loss = learn.loss_func(learn.preds, *learn.batch[self.n_inp:])\n",
    "    def backward(self, learn): learn.loss.backward()\n",
    "    def step(self, learn): learn.opt.step()\n",
    "    def zero_grad(self, learn): learn.opt.zero_grad()"
   ]
  },
  {
   "cell_type": "code",
   "execution_count": null,
   "id": "bf1bb1fc",
   "metadata": {},
   "outputs": [],
   "source": [
    "class ProgressCB(Callback):\n",
    "    order = MetricsCB.order+1\n",
    "    def __init__(self, plot=False): self.plot = plot\n",
    "    def before_fit(self, learn):\n",
    "        learn.epochs = self.mbar = master_bar(learn.epochs)\n",
    "        self.first = True\n",
    "        if hasattr(learn, 'metrics'): learn.metrics._log = self._log\n",
    "        self.losses = []\n",
    "        self.val_losses = []\n",
    "\n",
    "    def _log(self, d):\n",
    "        if self.first:\n",
    "            self.mbar.write(list(d), table=True)\n",
    "            self.first = False\n",
    "        self.mbar.write(list(d.values()), table=True)\n",
    "\n",
    "    def before_epoch(self, learn): learn.dl = progress_bar(learn.dl, leave=False, parent=self.mbar)\n",
    "    def after_batch(self, learn):\n",
    "        learn.dl.comment = f'{learn.loss:.3f}'\n",
    "        if self.plot and hasattr(learn, 'metrics') and learn.training:\n",
    "            self.losses.append(learn.loss.item())\n",
    "            if self.val_losses: self.mbar.update_graph([[fc.L.range(self.losses), self.losses],[fc.L.range(learn.epoch).map(lambda x: (x+1)*len(learn.dls.train)), self.val_losses]])\n",
    "    \n",
    "    def after_epoch(self, learn): \n",
    "        if not learn.training:\n",
    "            if self.plot and hasattr(learn, 'metrics'): \n",
    "                self.val_losses.append(learn.metrics.all_metrics['loss'].compute())\n",
    "                self.mbar.update_graph([[fc.L.range(self.losses), self.losses],[fc.L.range(learn.epoch+1).map(lambda x: (x+1)*len(learn.dls.train)), self.val_losses]])"
   ]
  },
  {
   "cell_type": "code",
   "execution_count": null,
   "id": "6745fac0",
   "metadata": {},
   "outputs": [],
   "source": [
    "# class LRFinderCB(Callback):\n",
    "#     def __init__(self, lr_mult=1.3): fc.store_attr()\n",
    "    \n",
    "#     def before_fit(self, learn):\n",
    "#         self.lrs,self.losses = [],[]\n",
    "#         self.min = math.inf\n",
    "\n",
    "#     def after_batch(self, learn):\n",
    "#         if not learn.training: raise CancelEpochException()\n",
    "#         self.lrs.append(learn.opt.param_groups[0]['lr'])\n",
    "#         loss = to_cpu(learn.loss)\n",
    "#         self.losses.append(loss)\n",
    "#         if loss < self.min: self.min = loss\n",
    "#         if loss > self.min*3: raise CancelFitException()\n",
    "#         for g in learn.opt.param_groups: g['lr'] *= self.lr_mult"
   ]
  },
  {
   "cell_type": "code",
   "execution_count": null,
   "id": "9056d4b1",
   "metadata": {},
   "outputs": [],
   "source": [
    "# Updated version\n",
    "\n",
    "class LRFinderCB(Callback):\n",
    "    def __init__(self, gamma=1.3, max_mult=3): fc.store_attr()\n",
    "    \n",
    "    def before_fit(self, learn):\n",
    "        self.sched = ExponentialLR(learn.opt, self.gamma)\n",
    "        self.lrs,self.losses = [],[]\n",
    "        self.min = math.inf\n",
    "\n",
    "    def after_batch(self, learn):\n",
    "        if not learn.training: raise CancelEpochException()\n",
    "        self.lrs.append(learn.opt.param_groups[0]['lr'])\n",
    "        loss = to_cpu(learn.loss)\n",
    "        self.losses.append(loss)\n",
    "        if loss < self.min: self.min = loss\n",
    "        if math.isnan(loss) or (loss > self.min*self.max_mult):\n",
    "            raise CancelFitException()\n",
    "        self.sched.step()\n",
    "\n",
    "    def cleanup_fit(self, learn):\n",
    "        plt.plot(self.lrs, self.losses)\n",
    "        plt.xscale('log')"
   ]
  },
  {
   "cell_type": "code",
   "execution_count": null,
   "id": "17109d4e",
   "metadata": {},
   "outputs": [],
   "source": []
  },
  {
   "cell_type": "code",
   "execution_count": null,
   "id": "5d2dbb5d",
   "metadata": {},
   "outputs": [],
   "source": []
  },
  {
   "cell_type": "markdown",
   "id": "f0f1150e",
   "metadata": {},
   "source": [
    "## Metrics"
   ]
  },
  {
   "cell_type": "code",
   "execution_count": null,
   "id": "15933a96",
   "metadata": {},
   "outputs": [],
   "source": [
    "class Metric:\n",
    "    def __init__(self): self.reset()\n",
    "    def reset(self): self.vals,self.ns = [],[]\n",
    "    def add(self, inp, targ=None, n=1):\n",
    "        self.last = self.calc(inp, targ)\n",
    "        self.vals.append(self.last)\n",
    "        self.ns.append(n)\n",
    "    @property\n",
    "    def value(self):\n",
    "        ns = tensor(self.ns)\n",
    "        return (tensor(self.vals)*ns).sum()/ns.sum()\n",
    "    def calc(self, inps, targs): return inps"
   ]
  },
  {
   "cell_type": "code",
   "execution_count": null,
   "id": "22846b7c",
   "metadata": {},
   "outputs": [],
   "source": [
    "class Accuracy(Metric):\n",
    "    def calc(self, inps, targs): return (inps==targs).float().mean()"
   ]
  },
  {
   "cell_type": "markdown",
   "id": "77585452",
   "metadata": {},
   "source": [
    "## Misc"
   ]
  },
  {
   "cell_type": "code",
   "execution_count": null,
   "id": "a60f24ce",
   "metadata": {},
   "outputs": [],
   "source": [
    "def to_cpu(x):\n",
    "    # not sure what Mapping is-- not a keyword as far as I can tell\n",
    "#     if isinstance(x, Mapping): return {k:to_cpu(v) for k,v in x.items()}\n",
    "    if isinstance(x, dict): return {k:to_cpu(v) for k,v in x.items()}\n",
    "    if isinstance(x, list): return [to_cpu(o) for o in x]\n",
    "    if isinstance(x, tuple): return tuple(to_cpu(list(x)))\n",
    "    res = x.detach().cpu()\n",
    "    return res.float() if res.dtype==torch.float16 else res"
   ]
  },
  {
   "cell_type": "code",
   "execution_count": null,
   "id": "262f55eb",
   "metadata": {},
   "outputs": [],
   "source": [
    "class with_cbs:\n",
    "    def __init__(self, nm): self.nm = nm\n",
    "    def __call__(self, f):\n",
    "        def _f(o, *args, **kwargs):\n",
    "            try:\n",
    "                o.callback(f'before_{self.nm}')\n",
    "                f(o, *args, **kwargs)\n",
    "                o.callback(f'after_{self.nm}')\n",
    "            except globals()[f'Cancel{self.nm.title()}Exception']: pass\n",
    "            finally: o.callback(f'cleanup_{self.nm}')\n",
    "        return _f"
   ]
  },
  {
   "cell_type": "markdown",
   "id": "487a14ea",
   "metadata": {},
   "source": [
    "## Learner Class"
   ]
  },
  {
   "cell_type": "code",
   "execution_count": null,
   "id": "d73005f6",
   "metadata": {},
   "outputs": [],
   "source": [
    "class Learner():\n",
    "    def __init__(self, model, dls=(0,), loss_func=F.mse_loss, lr=0.1, cbs=None, opt_func=optim.SGD):\n",
    "        cbs = fc.L(cbs)\n",
    "        fc.store_attr()\n",
    "\n",
    "    @with_cbs('batch')\n",
    "    def _one_batch(self):\n",
    "        self.predict()\n",
    "        self.callback('after_predict')\n",
    "        self.get_loss()\n",
    "        self.callback('after_loss')\n",
    "        if self.training:\n",
    "            self.backward()\n",
    "            self.callback('after_backward')\n",
    "            self.step()\n",
    "            self.callback('after_step')\n",
    "            self.zero_grad()\n",
    "\n",
    "    @with_cbs('epoch')\n",
    "    def _one_epoch(self):\n",
    "        for self.iter,self.batch in enumerate(self.dl): self._one_batch()\n",
    "\n",
    "    def one_epoch(self, training):\n",
    "        self.model.train(training)\n",
    "        self.dl = self.dls.train if training else self.dls.valid\n",
    "        self._one_epoch()\n",
    "\n",
    "    @with_cbs('fit')\n",
    "    def _fit(self, train, valid):\n",
    "        for self.epoch in self.epochs:\n",
    "            if train: self.one_epoch(True)\n",
    "            if valid: torch.no_grad()(self.one_epoch)(False)\n",
    "\n",
    "    def fit(self, n_epochs=1, train=True, valid=True, cbs=None, lr=None):\n",
    "        cbs = fc.L(cbs)\n",
    "        # `add_cb` and `rm_cb` were added in lesson 18\n",
    "        for cb in cbs: self.cbs.append(cb)\n",
    "        try:\n",
    "            self.n_epochs = n_epochs\n",
    "            self.epochs = range(n_epochs)\n",
    "            if lr is None: lr = self.lr\n",
    "            if self.opt_func: self.opt = self.opt_func(self.model.parameters(), lr)\n",
    "            self._fit(train, valid)\n",
    "        finally:\n",
    "            for cb in cbs: self.cbs.remove(cb)\n",
    "\n",
    "    def __getattr__(self, name):\n",
    "        if name in ('predict','get_loss','backward','step','zero_grad'): return partial(self.callback, name)\n",
    "        raise AttributeError(name)\n",
    "\n",
    "    def callback(self, method_nm): run_cbs(self.cbs, method_nm, self)\n",
    "    \n",
    "    @property\n",
    "    def training(self): return self.model.training"
   ]
  },
  {
   "cell_type": "code",
   "execution_count": null,
   "id": "24cbaf45",
   "metadata": {},
   "outputs": [],
   "source": [
    "class TrainLearner(Learner):\n",
    "    def predict(self): self.preds = self.model(self.batch[0])\n",
    "    def get_loss(self): self.loss = self.loss_func(self.preds, self.batch[1])\n",
    "    def backward(self): self.loss.backward()\n",
    "    def step(self): self.opt.step()\n",
    "    def zero_grad(self): self.opt.zero_grad()"
   ]
  },
  {
   "cell_type": "code",
   "execution_count": null,
   "id": "f0e1a460",
   "metadata": {},
   "outputs": [],
   "source": [
    "class MomentumLearner(TrainLearner):\n",
    "    def __init__(self, model, dls, loss_func, lr=None, cbs=None, opt_func=optim.SGD, mom=0.85):\n",
    "        self.mom = mom\n",
    "        super().__init__(model, dls, loss_func, lr, cbs, opt_func)\n",
    "\n",
    "    def zero_grad(self):\n",
    "        with torch.no_grad():\n",
    "            for p in self.model.parameters(): p.grad *= self.mom"
   ]
  },
  {
   "cell_type": "code",
   "execution_count": null,
   "id": "97927584",
   "metadata": {},
   "outputs": [],
   "source": []
  },
  {
   "cell_type": "markdown",
   "id": "1b5bcba5",
   "metadata": {},
   "source": [
    "# Example Usage on Simple Data"
   ]
  },
  {
   "cell_type": "code",
   "execution_count": null,
   "id": "97dcc6c9",
   "metadata": {},
   "outputs": [],
   "source": [
    "class simpleDS(Dataset):\n",
    "    def __init__(self,  x, y):\n",
    "        self.y = y\n",
    "        self.x = x\n",
    "    def __len__(self):\n",
    "        return self.x.shape[0]\n",
    "    def __getitem__(self, idx):\n",
    "        return self.x[idx, ], self.y[idx]"
   ]
  },
  {
   "cell_type": "markdown",
   "id": "de2adf02",
   "metadata": {},
   "source": [
    "## Linear response"
   ]
  },
  {
   "cell_type": "code",
   "execution_count": null,
   "id": "574772c6",
   "metadata": {},
   "outputs": [
    {
     "data": {
      "application/vnd.plotly.v1+json": {
       "config": {
        "plotlyServerURL": "https://plot.ly"
       },
       "data": [
        {
         "hovertemplate": "x=%{x}<br>y=%{y}<extra></extra>",
         "legendgroup": "",
         "marker": {
          "color": "#636efa",
          "symbol": "circle"
         },
         "mode": "markers",
         "name": "",
         "orientation": "v",
         "showlegend": false,
         "type": "scatter",
         "x": [
          -0.033020980656147,
          1.3614484071731567,
          0.45839306712150574,
          0.7004206776618958,
          -0.7394183874130249,
          -0.4856266677379608,
          -2.514974355697632,
          0.39460599422454834,
          -1.3336910009384155,
          0.5597421526908875,
          0.5719822645187378,
          1.9138027429580688,
          -0.702769935131073,
          0.40733733773231506,
          0.583482563495636,
          1.9809459447860718,
          0.7652884721755981,
          1.436374306678772,
          -0.13389597833156586,
          0.6245588064193726,
          0.16266174614429474,
          1.0107661485671997,
          -2.7412772178649902,
          -0.49569258093833923,
          0.980631947517395,
          -0.4278430640697479,
          1.3365874290466309,
          0.32758793234825134,
          0.2748250365257263,
          -0.07330558449029922,
          -0.8485945463180542,
          0.16809532046318054,
          -1.1060349941253662,
          -0.8201093673706055,
          0.8527229428291321,
          0.8532876968383789,
          1.1095865964889526,
          -0.3610234260559082,
          0.4191318154335022,
          0.14311866462230682,
          0.6513765454292297,
          1.8922127485275269,
          0.09202795475721359,
          0.7171152830123901,
          1.780761957168579,
          1.4968974590301514,
          1.0586466789245605,
          -0.8805769085884094,
          -1.1090935468673706,
          -0.9341303110122681,
          -0.6823367476463318,
          1.5070734024047852,
          -2.816049098968506,
          0.8655027747154236,
          0.16334295272827148,
          -1.1494094133377075,
          0.21514281630516052,
          2.1716244220733643,
          1.8284136056900024,
          0.25118228793144226,
          2.2277281284332275,
          0.9772262573242188,
          0.3254646062850952,
          -0.7672909498214722,
          1.9272487163543701,
          0.6588988900184631,
          -0.29564476013183594,
          -0.19459550082683563,
          0.22277797758579254,
          -1.1666977405548096,
          1.3871549367904663,
          -0.42105236649513245,
          0.027052927762269974,
          -1.510816216468811,
          -0.9249885678291321,
          -0.5696143507957458,
          0.619272768497467,
          -1.53095281124115,
          0.8013346791267395,
          -1.0860795974731445,
          0.6528439521789551,
          -0.9356327056884766,
          -0.4990684390068054,
          -0.18065980076789856,
          -1.5135278701782227,
          -3.067018985748291,
          0.22904208302497864,
          1.3308478593826294,
          -0.5118159055709839,
          -0.8972257375717163,
          -0.4063337743282318,
          -0.04937199875712395,
          -0.47546976804733276,
          0.5005976557731628,
          1.5724009275436401,
          -2.093611478805542,
          -0.583543598651886,
          -1.113295078277588,
          1.0462185144424438,
          -0.7359885573387146,
          0.8009033799171448,
          0.04401097446680069,
          -0.5702015161514282,
          -0.8752239942550659,
          -0.7923211455345154,
          -0.3889826834201813,
          -1.230762243270874,
          0.2251206785440445,
          0.3407091796398163,
          0.5857365727424622,
          -0.8654964566230774,
          -2.7420287132263184,
          -0.9004023671150208,
          -1.4346866607666016,
          1.5906234979629517,
          0.6967858076095581,
          -1.1137628555297852,
          0.48086607456207275,
          0.47425827383995056,
          0.20964506268501282,
          1.423804759979248,
          1.1561046838760376,
          -0.2250683307647705,
          -0.05590605363249779,
          -1.704315185546875,
          0.6216517090797424,
          0.2522408366203308,
          -1.3215008974075317,
          0.22507494688034058,
          0.7160251140594482,
          0.36547616124153137,
          -1.0479830503463745,
          -0.4746335744857788,
          -0.6789866089820862,
          1.166075587272644,
          -0.36598169803619385,
          0.08501031249761581,
          -0.4735107719898224,
          0.5385770797729492,
          -0.2796612083911896,
          -0.7296513915061951,
          -0.1404333859682083,
          0.3971952795982361,
          0.6559481024742126,
          0.27382558584213257,
          -1.6971083879470825,
          0.2989494502544403,
          1.0528717041015625,
          -0.40770381689071655,
          0.9543582201004028,
          1.003875732421875,
          0.582121729850769,
          0.03453134000301361,
          1.4978649616241455,
          -0.618047833442688,
          0.3613021671772003,
          -1.0641629695892334,
          -0.10202331095933914,
          0.8353318572044373,
          -1.2022740840911865,
          -0.38889774680137634,
          1.22279953956604,
          0.36524009704589844,
          -0.631718635559082,
          0.07752826064825058,
          0.1958457976579666,
          -0.0209487471729517,
          0.23057648539543152,
          -0.5574191808700562,
          -0.40825673937797546,
          -1.9032282829284668,
          0.4029901921749115,
          0.8173346519470215,
          0.10046451538801193,
          1.6394606828689575,
          0.2098531424999237,
          -0.39037227630615234,
          -0.4611653983592987,
          -0.03410882502794266,
          0.362154096364975,
          -1.4544326066970825,
          0.6233304738998413,
          0.8576759696006775,
          0.813148021697998,
          0.6230373978614807,
          0.4717300832271576,
          0.7437381744384766,
          -0.1514551192522049,
          -0.43832963705062866,
          0.9995831251144409,
          0.4295046329498291,
          -0.6695598363876343,
          -0.40045401453971863,
          -0.06874410808086395,
          1.4157530069351196,
          -0.1480168104171753,
          -1.6324092149734497,
          0.7250690460205078,
          -1.4141052961349487,
          0.8514384627342224,
          1.758082389831543,
          0.5420190095901489,
          1.8804861307144165,
          1.247659683227539,
          1.6445330381393433,
          0.4915967583656311,
          -1.6603795289993286,
          0.5283423066139221,
          0.022839225828647614,
          -0.11834785342216492,
          -0.5823615789413452,
          0.12216334044933319,
          -0.5153871178627014,
          0.24539820849895477,
          0.03321635350584984,
          0.009641310200095177,
          -0.9497644901275635,
          0.6281293034553528,
          -0.32099366188049316,
          -0.0006307954317890108,
          -1.4123696088790894,
          2.3760197162628174,
          0.5408449769020081,
          -0.3526376485824585,
          -0.49616914987564087,
          0.8949980735778809,
          -1.4210889339447021,
          0.35258859395980835,
          -0.18121838569641113,
          -0.572516918182373,
          0.4486171007156372,
          0.6610032320022583,
          0.2648453414440155,
          -0.02549889124929905,
          -0.27725040912628174,
          -1.2163751125335693,
          0.8962488174438477,
          -1.652787685394287,
          0.3684661388397217,
          0.4864630103111267,
          -1.5249098539352417,
          -0.5044457316398621,
          0.3103616535663605,
          -1.7698588371276855,
          1.1999354362487793,
          -0.12748625874519348,
          -0.433271586894989,
          1.6361267566680908,
          -0.5585340261459351,
          -1.2672605514526367,
          -1.601737380027771,
          -0.3171251714229584,
          -0.8500223755836487,
          0.7027870416641235,
          -0.004635285586118698,
          0.0184001624584198,
          1.8229938745498657,
          0.9283159375190735,
          -0.09822092205286026,
          0.8075032830238342,
          0.38338541984558105,
          0.19690139591693878,
          -0.9148393869400024,
          0.13252650201320648,
          0.058863747864961624,
          1.6797150373458862,
          -1.6903369426727295,
          0.6893928050994873,
          1.0979965925216675,
          2.875040054321289,
          0.6643857955932617,
          -0.8911756873130798,
          -1.025439977645874,
          0.09523235261440277,
          0.021631160750985146,
          -1.1264770030975342,
          -0.047871511429548264,
          0.061428170651197433,
          0.5366818904876709,
          1.7885135412216187,
          0.28120043873786926,
          -0.3675442039966583,
          -0.5880044102668762,
          -1.5618016719818115,
          -0.06990434974431992,
          -0.3538239002227783,
          0.4668744206428528,
          1.8638007640838623,
          -0.013748369179666042,
          0.9702394604682922,
          0.7481205463409424,
          -0.6716529726982117,
          -0.8526571989059448,
          2.771389961242676,
          -0.14797866344451904,
          -0.2421945184469223,
          0.9132643938064575,
          -0.3807517886161804,
          0.8127285838127136,
          -1.3357869386672974,
          0.5511904954910278,
          0.3293251693248749,
          -1.8651121854782104,
          0.9430999755859375,
          1.1163431406021118,
          -0.6600448489189148,
          0.5084816217422485,
          -1.2241544723510742,
          -0.21181875467300415,
          -0.6381608843803406,
          -1.6468874216079712,
          -2.002023935317993,
          -1.1500924825668335,
          0.27610334753990173,
          -0.05020451173186302,
          -0.7778927087783813,
          -1.4104740619659424,
          -1.6736780405044556,
          0.5593809485435486,
          -1.1056323051452637,
          -0.5226467847824097,
          -0.366606205701828,
          2.047774314880371,
          1.5826668739318848,
          1.087499976158142,
          -0.8062292337417603,
          0.1867915242910385,
          -0.34496402740478516,
          -0.6070312857627869,
          1.351832628250122,
          0.8806777596473694,
          0.8528247475624084,
          0.699374794960022,
          -0.7897436022758484,
          -0.3999060094356537,
          0.8162622451782227,
          -0.9652708172798157,
          0.8108682632446289,
          -0.2448272556066513,
          0.49793294072151184,
          0.5273529887199402,
          -1.5722812414169312,
          0.9298493266105652,
          0.8637090921401978,
          0.25682657957077026,
          1.0537117719650269,
          0.32040902972221375,
          1.4908684492111206,
          0.5300105214118958,
          -0.19836503267288208,
          -0.8152211308479309,
          -0.7841333150863647,
          -1.7222858667373657,
          -0.8888543248176575,
          -0.2552953362464905,
          -0.3222324848175049,
          1.3438127040863037,
          0.1765034794807434,
          0.5510479807853699,
          -2.5492570400238037,
          -1.076490879058838,
          -1.0565097332000732,
          0.26392966508865356,
          0.5800652503967285,
          1.5599690675735474,
          0.5416772961616516,
          0.8145910501480103,
          -0.412296861410141,
          0.5658279657363892,
          -0.350290447473526,
          0.05911945924162865,
          -0.5809253454208374,
          -1.439455270767212,
          2.2158381938934326,
          0.48944905400276184,
          -0.695494532585144,
          1.7827391624450684,
          1.093400001525879,
          -0.8184381723403931,
          -1.0126745700836182,
          0.285358726978302,
          -0.9706331491470337,
          0.47022199630737305,
          0.6053044199943542,
          -0.08414468169212341,
          0.7226356267929077,
          -1.6234254837036133,
          0.33184540271759033,
          1.5911165475845337,
          -1.1740906238555908,
          -0.6500532627105713,
          1.7125927209854126,
          -0.7164776921272278,
          -0.15737903118133545,
          0.10540053993463516,
          0.21368816494941711,
          -0.9192299246788025,
          0.5010639429092407,
          -0.31175893545150757,
          0.003092728089541197,
          0.9367292523384094,
          -1.5436007976531982,
          -1.1515915393829346,
          0.5986908674240112,
          -0.31883880496025085,
          -1.316593885421753,
          -1.461874008178711,
          -1.5159786939620972,
          -0.3645686209201813,
          0.9645628929138184,
          1.4346516132354736,
          1.4075928926467896,
          -0.8008618354797363,
          -0.6432390213012695,
          -1.0351145267486572,
          -0.46986061334609985,
          -0.314831018447876,
          -1.5401257276535034,
          0.18129658699035645,
          -0.13758070766925812,
          1.891013503074646,
          0.25767335295677185,
          -0.17614074051380157,
          0.9731519222259521,
          0.26483339071273804,
          -1.3042845726013184,
          -0.5514593720436096,
          -1.2558908462524414,
          0.02486555092036724,
          -0.3347088694572449,
          -0.8960881233215332,
          -0.42258062958717346,
          1.0639970302581787,
          0.8146776556968689,
          -0.6405361294746399,
          -0.32528063654899597,
          1.1975713968276978,
          -0.615427553653717,
          1.0684444904327393,
          1.0608681440353394,
          -1.270680546760559,
          -0.4616055190563202,
          1.6991559267044067,
          1.2669463157653809,
          0.5106161236763,
          0.31139498949050903,
          0.42585453391075134,
          -1.1153552532196045,
          0.6119751334190369,
          0.7930443286895752,
          -1.0716303586959839,
          1.177738904953003,
          -0.10592486709356308,
          0.42816540598869324,
          0.8775892853736877,
          0.5052441954612732,
          0.3584223687648773,
          -0.275928258895874,
          0.5954165458679199,
          -0.2881612777709961,
          0.20876626670360565,
          1.4852999448776245,
          1.277577519416809,
          1.4843628406524658,
          0.3772082030773163,
          0.898140549659729,
          -1.3340959548950195,
          0.8660411238670349,
          -0.21914733946323395,
          0.0535241924226284,
          -0.6862434148788452,
          -0.2733036279678345,
          -0.28694233298301697,
          -0.14921684563159943,
          0.4724544584751129,
          -0.5492212772369385,
          -1.4129738807678223,
          0.9598068594932556,
          -0.9886224865913391,
          1.7076327800750732,
          0.03782500699162483,
          -0.6323322653770447,
          0.48476526141166687,
          1.2408429384231567,
          1.5654019117355347,
          -0.46987658739089966,
          -0.15429237484931946,
          0.4694133996963501,
          -1.554928183555603,
          0.3575007915496826,
          -0.023544572293758392,
          -1.415675401687622,
          -0.5940636396408081,
          0.27583423256874084,
          -0.583433210849762,
          -0.6053842306137085,
          1.5297183990478516,
          -0.383333295583725,
          0.4577701687812805,
          -0.8650970458984375,
          0.927962601184845,
          -0.5114195942878723,
          -1.3738456964492798,
          -0.03349848836660385,
          -1.0068882703781128,
          0.4478236734867096,
          -0.30999335646629333,
          -0.12130174040794373,
          -1.4267135858535767,
          0.4708940088748932,
          1.4925464391708374,
          -0.9114251732826233,
          1.5118147134780884,
          0.6932757496833801,
          1.4083778858184814,
          -0.4543432891368866,
          0.4486026465892792,
          0.18238486349582672,
          -0.16724519431591034,
          -0.4111553728580475,
          -0.24497397243976593,
          -0.7764085531234741,
          0.0637829378247261,
          0.5015131831169128,
          0.29882583022117615,
          1.494193196296692,
          0.755106508731842,
          0.15712901949882507,
          1.500864028930664,
          -0.7251105904579163,
          -1.5413116216659546,
          -0.8413196206092834,
          0.34168633818626404,
          -1.040717363357544,
          0.22464127838611603,
          -0.4962276220321655,
          2.1872429847717285,
          -1.119482159614563,
          0.3399461507797241,
          1.3284014463424683,
          0.17428021132946014,
          -0.8695595264434814,
          0.3420898914337158,
          -1.371224045753479,
          -0.644720196723938,
          -0.01391251478344202,
          -1.5127778053283691,
          0.8772690296173096,
          -1.34638249874115,
          -0.40551432967185974,
          -0.32074856758117676,
          -0.8204859495162964,
          -0.6990023851394653,
          1.787602424621582,
          0.11896230280399323,
          -0.05752881243824959,
          -0.5974054932594299,
          -0.16887232661247253,
          0.8646187782287598,
          0.3991524577140808,
          0.9982989430427551,
          -0.436551570892334,
          0.8206853866577148,
          -0.11835809797048569,
          0.35504427552223206,
          1.4305260181427002,
          2.4079928398132324,
          -0.14458821713924408,
          -1.0212814807891846,
          0.27385005354881287,
          -0.37264081835746765,
          0.5964665412902832,
          -0.143107607960701,
          0.0632345899939537,
          -1.4344974756240845,
          -0.0613083578646183,
          -0.853080153465271,
          -0.5080334544181824,
          -0.9135907888412476,
          -0.6317905783653259,
          0.2639996409416199,
          -0.5195347666740417,
          -0.2865592837333679,
          -0.35534825921058655,
          -1.0121358633041382,
          -0.5835065245628357,
          -0.25153595209121704,
          0.9988701343536377,
          -0.7381678819656372,
          -1.666221022605896,
          2.290018320083618,
          0.5855014324188232,
          1.2307476997375488,
          1.1102910041809082,
          -0.8624603152275085,
          0.4397852122783661,
          -0.22542791068553925,
          0.8298060894012451,
          -1.7717584371566772,
          -1.3568638563156128,
          -1.0022400617599487,
          -0.39799702167510986,
          2.014702320098877,
          1.5855426788330078,
          -0.30473998188972473,
          -0.5225034356117249,
          -0.9428913593292236,
          -0.3230445086956024,
          -0.5153910517692566,
          -1.3768447637557983,
          1.5047858953475952,
          1.1084097623825073,
          -0.7253886461257935,
          0.002676545875146985,
          -0.12535947561264038,
          0.49519819021224976,
          0.6905681490898132,
          0.08979682624340057,
          0.6356090307235718,
          1.227286458015442,
          -0.867175281047821,
          -0.0442170649766922,
          -1.8607213497161865,
          1.2758876085281372,
          1.4759471416473389,
          1.3398830890655518,
          -1.1831245422363281,
          1.005431890487671,
          -0.18018405139446259,
          0.5076699256896973,
          -1.178756594657898,
          -1.1521611213684082,
          -0.07594116777181625,
          0.4489506185054779,
          -2.26845121383667,
          -0.630063533782959,
          -1.1174569129943848,
          1.8189181089401245,
          0.13818290829658508,
          -0.43762141466140747,
          0.4101928770542145,
          1.0039600133895874,
          -1.8408485651016235,
          0.25991934537887573,
          0.9475088715553284,
          0.6644971966743469,
          0.8702954649925232,
          0.5270994901657104,
          -0.6053878664970398,
          0.16207127273082733,
          0.2128722369670868,
          1.2889310121536255,
          0.19670763611793518,
          1.1471680402755737,
          -1.7815327644348145,
          -0.03338528051972389,
          1.6448420286178589,
          -0.4829733967781067,
          0.6677398681640625,
          0.8137619495391846,
          -0.9829844832420349,
          -0.35220929980278015,
          0.9059916734695435,
          1.330796480178833,
          -0.9104190468788147,
          0.37906044721603394,
          0.6412532925605774,
          -0.14744026958942413,
          -1.215659260749817,
          -1.126295566558838,
          0.3517250418663025,
          -0.07232080399990082,
          -0.44922366738319397,
          -0.2756325602531433,
          0.13345906138420105,
          0.31918251514434814,
          -0.6992725133895874,
          0.18276360630989075,
          -1.2696506977081299,
          1.3770498037338257,
          0.4797384440898895,
          -0.09903382509946823,
          -0.5862242579460144,
          0.3493642807006836,
          0.7625666856765747,
          -1.4157917499542236,
          0.8823578953742981,
          0.6299854516983032,
          -0.13209319114685059,
          -0.9360789060592651,
          2.2925426959991455,
          0.0484318807721138,
          0.09540092945098877,
          -1.3333313465118408,
          -0.4434070587158203,
          -1.7007402181625366,
          -0.38924336433410645,
          -0.39508524537086487,
          0.10152475535869598,
          -0.060800109058618546,
          -0.6195670366287231,
          -1.9144433736801147,
          -0.4883183240890503,
          -0.2395225614309311,
          -0.5199931263923645,
          -0.19639183580875397,
          -0.4172608256340027,
          -0.3481859266757965,
          -0.012532788328826427,
          0.007432352285832167,
          0.23230169713497162,
          0.6928889751434326,
          1.0369240045547485,
          -0.9241058826446533,
          -0.5767156481742859,
          0.5989373922348022,
          -0.4445157051086426,
          1.7020370960235596,
          -0.5333244204521179,
          0.1267923265695572,
          0.3592488765716553,
          0.8208711743354797,
          0.942541778087616,
          -0.44633811712265015,
          -0.39099380373954773,
          -1.2035080194473267,
          0.003756840480491519,
          -1.5269583463668823,
          0.9647797346115112,
          -0.37594980001449585,
          -1.1788480281829834,
          0.7131485342979431,
          -0.5328314900398254,
          1.18171226978302,
          -0.536611020565033,
          0.10107852518558502,
          0.6249423623085022,
          1.6927374601364136,
          2.6547296047210693,
          0.8998698592185974,
          -0.17060159146785736,
          0.7815033793449402,
          -0.16994988918304443,
          0.0397690124809742,
          -0.19653654098510742,
          -0.04059553146362305,
          -0.8625653386116028,
          -0.3438301980495453,
          1.1982721090316772,
          2.059053659439087,
          -1.681826114654541,
          -0.19025340676307678,
          -0.2824408710002899,
          1.7323960065841675,
          -0.14721447229385376,
          -0.5365757942199707,
          -0.5409680008888245,
          0.8581825494766235,
          -0.8371397852897644,
          0.2489159256219864,
          -0.4323417842388153,
          -0.8315777778625488,
          -0.8032582998275757,
          0.8413195610046387,
          -0.40788060426712036,
          0.31073981523513794,
          0.8604171872138977,
          -0.3033639192581177,
          -0.552559494972229,
          2.473037004470825,
          -1.23545241355896,
          0.5087878704071045,
          1.1587707996368408,
          -1.0842633247375488,
          -1.4660382270812988,
          -1.213287115097046,
          -0.3650340139865875,
          -1.3430744409561157,
          -0.8301244378089905,
          -0.943641185760498,
          0.043440114706754684,
          -1.7138289213180542,
          1.7997989654541016,
          0.8173812031745911,
          1.6336835622787476,
          0.2856084108352661,
          0.8988504409790039,
          -1.112720012664795,
          0.9370846152305603,
          -0.495253324508667,
          -0.10388091951608658,
          -0.17441362142562866,
          0.06657104939222336,
          -1.7569140195846558,
          -0.21971304714679718,
          -2.3122975826263428,
          2.0633397102355957,
          0.05287449434399605,
          1.243709683418274,
          0.5496231913566589,
          -0.7695160508155823,
          -0.16343197226524353,
          -2.2216784954071045,
          0.9085627794265747,
          -0.2645217478275299,
          -1.0470998287200928,
          -0.1363551914691925,
          0.3568519353866577,
          1.5611695051193237,
          1.7267223596572876,
          -0.5501033067703247,
          0.07662064582109451,
          0.3411458730697632,
          -0.4083421528339386,
          -1.4412399530410767,
          -1.182276725769043,
          0.632796585559845,
          -0.8557859063148499,
          0.7145993113517761,
          0.2715522348880768,
          0.1384340524673462,
          0.7693503499031067,
          -0.5376991629600525,
          0.8076241612434387,
          0.1468002200126648,
          0.6844022274017334,
          0.22675512731075287,
          0.29183244705200195,
          0.8082011342048645,
          0.15998733043670654,
          -1.1059424877166748,
          0.9612895250320435,
          0.4248957931995392,
          -1.622435212135315,
          -0.2425682246685028,
          -1.1344621181488037,
          0.30313360691070557,
          0.7724502086639404,
          0.32116663455963135,
          -0.7500561475753784,
          -0.3130992352962494,
          -2.045696496963501,
          -0.0006644635577686131,
          0.13858167827129364,
          -0.33163800835609436,
          0.33145296573638916,
          0.9400655031204224,
          0.11955735087394714,
          0.9226906895637512,
          0.9947219491004944,
          0.3077106773853302,
          0.45681047439575195,
          0.2783467471599579,
          0.3478294909000397,
          1.018342137336731,
          -0.43942418694496155,
          0.7261049747467041,
          -0.2236746996641159,
          0.5079754590988159,
          -0.7376739978790283,
          -0.912805438041687,
          1.0225375890731812,
          -1.2819722890853882,
          0.7640367746353149,
          -1.094119668006897,
          1.9127800464630127,
          0.4467979371547699,
          1.1884738206863403,
          2.506167411804199,
          0.2557982802391052,
          0.34517902135849,
          -0.4030590057373047,
          0.9310092329978943,
          -0.25931891798973083,
          -0.6040022373199463,
          0.04829542711377144,
          -0.9700796008110046,
          0.8677235245704651,
          0.2934412360191345,
          -0.17436833679676056,
          -0.03409596160054207,
          -0.12205781042575836,
          0.9533652067184448,
          -0.5728707313537598,
          0.5263546109199524,
          1.245237946510315,
          0.6940094232559204,
          -0.24192631244659424,
          -0.38540884852409363,
          0.7697774171829224,
          -1.0138226747512817,
          -1.2184233665466309,
          -0.5157954692840576,
          2.8008298873901367,
          1.3277515172958374,
          -0.37917253375053406,
          2.309511661529541,
          -0.5032938122749329,
          -2.008028268814087,
          -0.27454674243927,
          -1.868984580039978,
          1.6819851398468018,
          0.4855882525444031,
          1.690147876739502,
          -1.2253880500793457,
          0.6831464767456055,
          0.11514528095722198,
          1.353403091430664,
          0.1040586605668068,
          1.313647985458374,
          -0.4327004849910736,
          0.38753750920295715,
          0.985945463180542,
          -0.43291807174682617,
          1.7658413648605347,
          2.0346412658691406,
          0.3658295273780823,
          -0.13125824928283691,
          0.6808750033378601,
          1.9585803747177124,
          0.009945171885192394,
          2.1456222534179688,
          -0.12313342839479446,
          -0.766339898109436,
          0.41204074025154114,
          0.7004925012588501,
          -2.0785470008850098,
          -2.5132944583892822,
          0.9068192839622498,
          -0.49089035391807556,
          -0.48946458101272583,
          -0.7414658069610596,
          -0.5152021646499634,
          -0.667100727558136,
          0.9507005214691162,
          -0.4355481266975403,
          0.7000409364700317,
          1.0072904825210571,
          0.7854458689689636,
          -0.7932433485984802,
          -0.37737032771110535,
          0.7723153233528137,
          -0.8236673474311829,
          1.4735785722732544,
          -0.7320504784584045,
          -0.48723334074020386,
          -0.054206330329179764,
          0.34104835987091064,
          -0.5180624127388,
          0.33501753211021423,
          -0.45524361729621887,
          -0.43630126118659973,
          0.9433822631835938,
          0.04705503210425377,
          -0.54840487241745,
          2.775611162185669,
          -0.46410104632377625,
          0.6898970007896423,
          0.26974064111709595,
          0.4804595112800598,
          -1.7824039459228516,
          2.622689962387085,
          -0.0703253373503685,
          -0.04413706436753273,
          0.38256749510765076,
          1.2024341821670532,
          -0.5410500764846802,
          0.953516960144043,
          -1.3509032726287842,
          1.3109692335128784,
          0.28313586115837097,
          -0.5847126245498657,
          1.3438249826431274,
          0.7362411022186279,
          -0.33417898416519165,
          -0.8519540429115295,
          1.0192582607269287,
          -0.5745017528533936,
          0.19088609516620636,
          -0.22406762838363647,
          0.48662856221199036,
          1.1981669664382935,
          -0.7963577508926392,
          0.1478753387928009,
          0.4186054766178131,
          1.1974684000015259,
          -0.7585915327072144,
          -0.7072575092315674,
          1.3702638149261475,
          0.6271235942840576,
          0.9578267335891724,
          1.018101692199707,
          -0.075068898499012,
          0.702695906162262,
          0.44903889298439026,
          0.6258270740509033,
          -1.5367668867111206,
          -0.4209551513195038,
          0.6881167888641357,
          0.200179785490036
         ],
         "xaxis": "x",
         "y": [
          2.900937080383301,
          7.08434534072876,
          4.375179290771484,
          5.101262092590332,
          0.7817449569702148,
          1.54312002658844,
          -4.544922828674316,
          4.1838178634643555,
          -1.001072883605957,
          4.679226398468018,
          4.715946674346924,
          8.741408348083496,
          0.8916902542114258,
          4.222012042999268,
          4.750447750091553,
          8.942837715148926,
          5.295865535736084,
          7.3091230392456055,
          2.5983121395111084,
          4.873676300048828,
          3.487985134124756,
          6.032298564910889,
          -5.2238311767578125,
          1.5129222869873047,
          5.941895961761475,
          1.7164708375930786,
          7.009762287139893,
          3.9827637672424316,
          3.824475049972534,
          2.780083179473877,
          0.45421648025512695,
          3.5042858123779297,
          -0.31810498237609863,
          0.5396718978881836,
          5.558168888092041,
          5.559863090515137,
          6.328759670257568,
          1.9169297218322754,
          4.2573957443237305,
          3.429356098175049,
          4.954129695892334,
          8.676637649536133,
          3.2760839462280273,
          5.151345729827881,
          8.342286109924316,
          7.490692138671875,
          6.175940036773682,
          0.35826921463012695,
          -0.32728052139282227,
          0.19760894775390625,
          0.9529898166656494,
          7.5212202072143555,
          -5.448146820068359,
          5.596508026123047,
          3.4900288581848145,
          -0.4482283592224121,
          3.645428419113159,
          9.514873504638672,
          8.485240936279297,
          3.753546714782715,
          9.683184623718262,
          5.931678771972656,
          3.976393699645996,
          0.698127269744873,
          8.781745910644531,
          4.976696968078613,
          2.113065719604492,
          2.4162135124206543,
          3.6683340072631836,
          -0.5000932216644287,
          7.161464691162109,
          1.7368428707122803,
          3.0811588764190674,
          -1.5324487686157227,
          0.22503423690795898,
          1.2911570072174072,
          4.857818603515625,
          -1.5928583145141602,
          5.404004096984863,
          -0.2582387924194336,
          4.958531856536865,
          0.1931018829345703,
          1.5027947425842285,
          2.4580206871032715,
          -1.540583610534668,
          -6.201057434082031,
          3.6871261596679688,
          6.992543697357178,
          1.4645522832870483,
          0.3083229064941406,
          1.780998706817627,
          2.851883888244629,
          1.5735907554626465,
          4.501792907714844,
          7.717202663421631,
          -3.280834197998047,
          1.2493691444396973,
          -0.33988523483276367,
          6.138655662536621,
          0.792034387588501,
          5.4027099609375,
          3.132032871246338,
          1.2893954515457153,
          0.3743281364440918,
          0.6230366230010986,
          1.8330519199371338,
          -0.6922867298126221,
          3.6753621101379395,
          4.022127628326416,
          4.757209777832031,
          0.40351057052612305,
          -5.226085662841797,
          0.29879283905029297,
          -1.3040599822998047,
          7.7718706130981445,
          5.090357303619385,
          -0.34128856658935547,
          4.442598342895508,
          4.422774791717529,
          3.6289353370666504,
          7.271414279937744,
          6.468314170837402,
          2.3247950077056885,
          2.8322818279266357,
          -2.112945556640625,
          4.864954948425293,
          3.7567224502563477,
          -0.9645028114318848,
          3.675224781036377,
          5.148075103759766,
          4.096428394317627,
          -0.14394903182983398,
          1.5760992765426636,
          0.9630401134490967,
          6.498226642608643,
          1.9020549058914185,
          3.255030870437622,
          1.5794676542282104,
          4.615731239318848,
          2.1610164642333984,
          0.8110458850860596,
          2.578699827194214,
          4.191585540771484,
          4.967844009399414,
          3.821476697921753,
          -2.091325283050537,
          3.896848201751709,
          6.1586151123046875,
          1.7768886089324951,
          5.863074779510498,
          6.011627197265625,
          4.746365070343018,
          3.1035940647125244,
          7.493595123291016,
          1.145856499671936,
          4.083906650543213,
          -0.1924889087677002,
          2.693930149078369,
          5.505995750427246,
          -0.6068222522735596,
          1.8333067893981934,
          6.668398857116699,
          4.095720291137695,
          1.104844093322754,
          3.2325847148895264,
          3.5875372886657715,
          2.9371538162231445,
          3.6917295455932617,
          1.3277424573898315,
          1.775229811668396,
          -2.7096848487854004,
          4.208970546722412,
          5.4520039558410645,
          3.301393508911133,
          7.918382167816162,
          3.6295595169067383,
          1.828883171081543,
          1.6165038347244263,
          2.8976736068725586,
          4.086462020874023,
          -1.363297939300537,
          4.869991302490234,
          5.573027610778809,
          5.439444065093994,
          4.869112014770508,
          4.41519021987915,
          5.23121452331543,
          2.5456347465515137,
          1.6850111484527588,
          5.998749256134033,
          4.288514137268066,
          0.9913206100463867,
          1.7986379861831665,
          2.7937676906585693,
          7.247259140014648,
          2.5559496879577637,
          -1.8972277641296387,
          5.175207138061523,
          -1.2423157691955566,
          5.554315567016602,
          8.274247169494629,
          4.626057147979736,
          8.641458511352539,
          6.742979049682617,
          7.93359899520874,
          4.474790573120117,
          -1.9811387062072754,
          4.585026741027832,
          3.0685176849365234,
          2.644956350326538,
          1.2529152631759644,
          3.366489887237549,
          1.453838586807251,
          3.736194610595703,
          3.099648952484131,
          3.028923988342285,
          0.15070652961730957,
          4.884387969970703,
          2.0370190143585205,
          2.998107671737671,
          -1.2371087074279785,
          10.128059387207031,
          4.62253475189209,
          1.9420870542526245,
          1.5114924907684326,
          5.684994220733643,
          -1.2632665634155273,
          4.057765960693359,
          2.4563448429107666,
          1.2824492454528809,
          4.345851421356201,
          4.9830098152160645,
          3.7945361137390137,
          2.9235033988952637,
          2.1682486534118652,
          -0.649125337600708,
          5.688746452331543,
          -1.9583630561828613,
          4.105398178100586,
          4.459388732910156,
          -1.5747294425964355,
          1.4866628646850586,
          3.9310851097106934,
          -2.3095765113830566,
          6.599806308746338,
          2.6175413131713867,
          1.7001852989196777,
          7.908380508422852,
          1.3243979215621948,
          -0.8017816543579102,
          -1.8052120208740234,
          2.0486245155334473,
          0.4499328136444092,
          5.10836124420166,
          2.9860942363739014,
          3.0552005767822266,
          8.468981742858887,
          5.784947872161865,
          2.7053372859954834,
          5.422510147094727,
          4.150156021118164,
          3.5907042026519775,
          0.2554817199707031,
          3.3975794315338135,
          3.176591157913208,
          8.039144515991211,
          -2.0710105895996094,
          5.068178176879883,
          6.293989658355713,
          11.625120162963867,
          4.993157386779785,
          0.3264729976654053,
          -0.07631993293762207,
          3.2856969833374023,
          3.0648934841156006,
          -0.37943100929260254,
          2.8563854694366455,
          3.1842844486236572,
          4.610045433044434,
          8.365540504455566,
          3.8436012268066406,
          1.8973673582077026,
          1.2359867095947266,
          -1.6854047775268555,
          2.7902870178222656,
          1.938528299331665,
          4.400623321533203,
          8.591402053833008,
          2.958754777908325,
          5.9107184410095215,
          5.244361877441406,
          0.9850411415100098,
          0.4420285224914551,
          11.314169883728027,
          2.5560641288757324,
          2.273416519165039,
          5.739793300628662,
          1.8577446937561035,
          5.438185691833496,
          -1.0073609352111816,
          4.653571605682373,
          3.987975597381592,
          -2.595336437225342,
          5.8292999267578125,
          6.349029541015625,
          1.0198655128479004,
          4.525444984436035,
          -0.6724634170532227,
          2.3645436763763428,
          1.085517406463623,
          -1.9406623840332031,
          -3.0060720443725586,
          -0.45027732849121094,
          3.828310012817383,
          2.84938645362854,
          0.6663217544555664,
          -1.2314224243164062,
          -2.0210342407226562,
          4.678142547607422,
          -0.316896915435791,
          1.432059645652771,
          1.9001814126968384,
          9.143322944641113,
          7.748000621795654,
          6.262499809265137,
          0.5813121795654297,
          3.5603744983673096,
          1.9651079177856445,
          1.1789062023162842,
          7.055498123168945,
          5.642033576965332,
          5.558474540710449,
          5.0981245040893555,
          0.6307692527770996,
          1.8002820014953613,
          5.448786735534668,
          0.1041874885559082,
          5.432604789733887,
          2.2655181884765625,
          4.493798732757568,
          4.582058906555176,
          -1.716843605041504,
          5.789547920227051,
          5.591127395629883,
          3.770479679107666,
          6.161135196685791,
          3.9612269401550293,
          7.472605228424072,
          4.590031623840332,
          2.404904842376709,
          0.5543365478515625,
          0.6476001739501953,
          -2.1668577194213867,
          0.3334369659423828,
          2.234113931655884,
          2.0333025455474854,
          7.031437873840332,
          3.529510498046875,
          4.653143882751465,
          -4.647770881652832,
          -0.22947263717651367,
          -0.16952919960021973,
          3.7917890548706055,
          4.7401957511901855,
          7.679907321929932,
          4.6250319480896,
          5.44377326965332,
          1.7631094455718994,
          4.697484016418457,
          1.9491286277770996,
          3.177358388900757,
          1.2572239637374878,
          -1.3183660507202148,
          9.647514343261719,
          4.468347072601318,
          0.9135165214538574,
          8.348217010498047,
          6.280200004577637,
          0.5446853637695312,
          -0.03802371025085449,
          3.856076240539551,
          0.08810043334960938,
          4.410665988922119,
          4.815913200378418,
          2.747565984725952,
          5.167906761169434,
          -1.8702764511108398,
          3.9955363273620605,
          7.773349761962891,
          -0.5222718715667725,
          1.0498402118682861,
          8.137778282165527,
          0.8505668640136719,
          2.527863025665283,
          3.316201686859131,
          3.6410646438598633,
          0.2423102855682373,
          4.503191947937012,
          2.064723253250122,
          3.0092782974243164,
          5.810187816619873,
          -1.6308021545410156,
          -0.4547746181488037,
          4.796072483062744,
          2.0434837341308594,
          -0.9497816562652588,
          -1.3856220245361328,
          -1.547935962677002,
          1.9062941074371338,
          5.893688678741455,
          7.303955078125,
          7.222778797149658,
          0.597414493560791,
          1.0702829360961914,
          -0.10534358024597168,
          1.5904181003570557,
          2.055506944656372,
          -1.6203770637512207,
          3.5438897609710693,
          2.5872578620910645,
          8.673040390014648,
          3.773020029067993,
          2.4715776443481445,
          5.919455528259277,
          3.7945001125335693,
          -0.9128537178039551,
          1.3456218242645264,
          -0.7676725387573242,
          3.074596643447876,
          1.9958734512329102,
          0.3117356300354004,
          1.7322580814361572,
          6.191990852355957,
          5.444032669067383,
          1.0783915519714355,
          2.024158000946045,
          6.592714309692383,
          1.153717279434204,
          6.205333709716797,
          6.1826043128967285,
          -0.8120417594909668,
          1.6151834726333618,
          8.097467422485352,
          6.800838947296143,
          4.531848430633545,
          3.934185028076172,
          4.277563571929932,
          -0.3460657596588135,
          4.835925102233887,
          5.379133224487305,
          -0.2148909568786621,
          6.53321647644043,
          2.682225465774536,
          4.284496307373047,
          5.632767677307129,
          4.515732765197754,
          4.0752668380737305,
          2.172215223312378,
          4.78624963760376,
          2.1355161666870117,
          3.6262989044189453,
          7.455899715423584,
          6.832732677459717,
          7.453088760375977,
          4.131624698638916,
          5.694421768188477,
          -1.0022878646850586,
          5.598123550415039,
          2.342557907104492,
          3.1605725288391113,
          0.9412698745727539,
          2.180088996887207,
          2.1391730308532715,
          2.55234956741333,
          4.417363166809082,
          1.3523361682891846,
          -1.2389216423034668,
          5.879420280456543,
          0.03413248062133789,
          8.12289810180664,
          3.1134750843048096,
          1.1030032634735107,
          4.454295635223389,
          6.72252893447876,
          7.6962056159973145,
          1.5903701782226562,
          2.537122964859009,
          4.40824031829834,
          -1.6647844314575195,
          4.072502136230469,
          2.92936635017395,
          -1.2470264434814453,
          1.2178090810775757,
          3.827502727508545,
          1.2497003078460693,
          1.1838473081588745,
          7.589155197143555,
          1.8500001430511475,
          4.373310565948486,
          0.4047088623046875,
          5.78388786315918,
          1.4657411575317383,
          -1.121537208557129,
          2.8995044231414795,
          -0.020664691925048828,
          4.343471050262451,
          2.0700199604034424,
          2.636094808578491,
          -1.2801408767700195,
          4.412682056427002,
          7.477639198303223,
          0.26572442054748535,
          7.535444259643555,
          5.079827308654785,
          7.225133895874023,
          1.6369701623916626,
          4.345808029174805,
          3.547154664993286,
          2.4982643127441406,
          1.7665338516235352,
          2.265078067779541,
          0.6707744598388672,
          3.1913487911224365,
          4.504539489746094,
          3.896477460861206,
          7.482579708099365,
          5.26531982421875,
          3.4713871479034424,
          7.502592086791992,
          0.8246681690216064,
          -1.6239347457885742,
          0.4760410785675049,
          4.025058746337891,
          -0.12215209007263184,
          3.673923969268799,
          1.5113171339035034,
          9.561729431152344,
          -0.3584465980529785,
          4.019838333129883,
          6.985204219818115,
          3.5228404998779297,
          0.39132142066955566,
          4.026269912719727,
          -1.1136722564697266,
          1.065839409828186,
          2.9582624435424805,
          -1.5383334159851074,
          5.631807327270508,
          -1.0391473770141602,
          1.7834570407867432,
          2.0377542972564697,
          0.5385422706604004,
          0.9029927253723145,
          8.362807273864746,
          3.356886863708496,
          2.827413558959961,
          1.2077834606170654,
          2.4933829307556152,
          5.593856334686279,
          4.197457313537598,
          5.99489688873291,
          1.690345287322998,
          5.4620561599731445,
          2.644925594329834,
          4.065133094787598,
          7.29157829284668,
          10.223978042602539,
          2.566235303878784,
          -0.06384444236755371,
          3.821550130844116,
          1.8820775747299194,
          4.78939962387085,
          2.5706772804260254,
          3.1897037029266357,
          -1.303492546081543,
          2.816074848175049,
          0.44075965881347656,
          1.4758996963500977,
          0.2592277526855469,
          1.104628324508667,
          3.791998863220215,
          1.4413957595825195,
          2.140322208404541,
          1.933955192565918,
          -0.036407470703125,
          1.2494804859161377,
          2.245392084121704,
          5.996610641479492,
          0.7854962348937988,
          -1.9986629486083984,
          9.870055198669434,
          4.756504058837891,
          6.6922430992126465,
          6.330873012542725,
          0.41261911392211914,
          4.319355487823486,
          2.323716163635254,
          5.489418029785156,
          -2.315275192260742,
          -1.0705914497375488,
          -0.006720066070556641,
          1.8060089349746704,
          9.044107437133789,
          7.756628036499023,
          2.085780143737793,
          1.4324896335601807,
          0.1713259220123291,
          2.0308666229248047,
          1.453826904296875,
          -1.1305341720581055,
          7.514357566833496,
          6.325229167938232,
          0.8238339424133301,
          3.0080296993255615,
          2.6239216327667236,
          4.485594749450684,
          5.071704387664795,
          3.26939058303833,
          4.906826972961426,
          6.681859493255615,
          0.39847421646118164,
          2.8673489093780518,
          -2.5821638107299805,
          6.827662944793701,
          7.4278411865234375,
          7.019649505615234,
          -0.5493736267089844,
          6.016295433044434,
          2.4594478607177734,
          4.523009777069092,
          -0.5362696647644043,
          -0.4564833641052246,
          2.772176504135132,
          4.346851825714111,
          -3.8053536415100098,
          1.109809398651123,
          -0.3523707389831543,
          8.456754684448242,
          3.414548635482788,
          1.6871356964111328,
          4.230578422546387,
          6.011879920959473,
          -2.52254581451416,
          3.7797579765319824,
          5.842526435852051,
          4.9934916496276855,
          5.610886573791504,
          4.581298351287842,
          1.1838364601135254,
          3.4862136840820312,
          3.6386165618896484,
          6.866793155670166,
          3.590122938156128,
          6.441504001617432,
          -2.3445982933044434,
          2.899844169616699,
          7.934525966644287,
          1.5510797500610352,
          5.0032196044921875,
          5.441286087036133,
          0.05104660987854004,
          1.943372130393982,
          5.71797513961792,
          6.992389678955078,
          0.26874279975891113,
          4.137181282043457,
          4.923759937286377,
          2.5576791763305664,
          -0.6469779014587402,
          -0.37888669967651367,
          4.055174827575684,
          2.7830376625061035,
          1.6523289680480957,
          2.173102378845215,
          3.4003772735595703,
          3.957547664642334,
          0.9021825790405273,
          3.548290729522705,
          -0.8089520931243896,
          7.1311492919921875,
          4.439215183258057,
          2.7028985023498535,
          1.2413272857666016,
          4.048092842102051,
          5.287700176239014,
          -1.24737548828125,
          5.647073745727539,
          4.889956474304199,
          2.6037204265594482,
          0.19176340103149414,
          9.877628326416016,
          3.1452956199645996,
          3.286202907562256,
          -0.9999940395355225,
          1.669778823852539,
          -2.1022205352783203,
          1.8322699069976807,
          1.814744234085083,
          3.3045742511749268,
          2.8175997734069824,
          1.1412988901138306,
          -2.7433300018310547,
          1.5350450277328491,
          2.2814323902130127,
          1.4400205612182617,
          2.4108245372772217,
          1.7482175827026367,
          1.955442190170288,
          2.9624016284942627,
          3.0222971439361572,
          3.6969051361083984,
          5.078666687011719,
          6.110772132873535,
          0.22768235206604004,
          1.269853115081787,
          4.796812057495117,
          1.6664528846740723,
          8.106111526489258,
          1.400026798248291,
          3.3803770542144775,
          4.077746391296387,
          5.462613582611084,
          5.827625274658203,
          1.6609857082366943,
          1.8270186185836792,
          -0.6105241775512695,
          3.011270523071289,
          -1.5808749198913574,
          5.894339084625244,
          1.8721506595611572,
          -0.5365440845489502,
          5.1394453048706055,
          1.401505470275879,
          6.54513692855835,
          1.390166997909546,
          3.3032355308532715,
          4.8748273849487305,
          8.07821273803711,
          10.964188575744629,
          5.699609756469727,
          2.4881951808929443,
          5.344510078430176,
          2.4901504516601562,
          3.119307041168213,
          2.4103903770446777,
          2.878213405609131,
          0.4123039245605469,
          1.9685094356536865,
          6.594816207885742,
          9.17716121673584,
          -2.045478343963623,
          2.4292397499084473,
          2.152677536010742,
          8.197187423706055,
          2.558356523513794,
          1.390272617340088,
          1.3770959377288818,
          5.57454776763916,
          0.48858070373535156,
          3.7467477321624756,
          1.7029746770858765,
          0.5052666664123535,
          0.5902252197265625,
          5.523958683013916,
          1.7763581275939941,
          3.9322195053100586,
          5.581251621246338,
          2.0899081230163574,
          1.342321515083313,
          10.419111251831055,
          -0.7063572406768799,
          4.526363372802734,
          6.476312637329102,
          -0.2527899742126465,
          -1.3981146812438965,
          -0.6398613452911377,
          1.904897928237915,
          -1.0292234420776367,
          0.5096266269683838,
          0.16907644271850586,
          3.1303203105926514,
          -2.141486644744873,
          8.399396896362305,
          5.452143669128418,
          7.901050567626953,
          3.856825351715088,
          5.696551322937012,
          -0.33816003799438477,
          5.811253547668457,
          1.514240026473999,
          2.688357353210449,
          2.476759195327759,
          3.1997132301330566,
          -2.2707419395446777,
          2.3408608436584473,
          -3.936892509460449,
          9.190019607543945,
          3.158623456954956,
          6.731129169464111,
          4.648869514465332,
          0.6914517879486084,
          2.509704113006592,
          -3.6650352478027344,
          5.725688457489014,
          2.206434726715088,
          -0.14129948616027832,
          2.5909345149993896,
          4.070555686950684,
          7.683508396148682,
          8.180167198181152,
          1.3496900796890259,
          3.2298619747161865,
          4.0234375,
          1.7749735116958618,
          -1.3237199783325195,
          -0.5468301773071289,
          4.89838981628418,
          0.43264222145080566,
          5.143797874450684,
          3.8146567344665527,
          3.415302276611328,
          5.308051109313965,
          1.3869025707244873,
          5.422872543334961,
          3.4404006004333496,
          5.053206443786621,
          3.680265426635742,
          3.875497341156006,
          5.424603462219238,
          3.47996187210083,
          -0.3178274631500244,
          5.88386869430542,
          4.27468729019165,
          -1.8673057556152344,
          2.2722954750061035,
          -0.40338635444641113,
          3.9094009399414062,
          5.317350387573242,
          3.9635000228881836,
          0.7498316764831543,
          2.060702323913574,
          -3.137089729309082,
          2.998006582260132,
          3.4157450199127197,
          2.0050859451293945,
          3.994359016418457,
          5.820196628570557,
          3.3586721420288086,
          5.768072128295898,
          5.984166145324707,
          3.9231319427490234,
          4.370431423187256,
          3.8350400924682617,
          4.043488502502441,
          6.055026531219482,
          1.681727409362793,
          5.178315162658691,
          2.3289759159088135,
          4.523926258087158,
          0.786978006362915,
          0.2615838050842285,
          6.067612648010254,
          -0.845916748046875,
          5.292110443115234,
          -0.28235912322998047,
          8.738340377807617,
          4.340394020080566,
          6.5654215812683105,
          10.518502235412598,
          3.767394781112671,
          4.035536766052246,
          1.790822982788086,
          5.793027877807617,
          2.22204327583313,
          1.1879932880401611,
          3.1448862552642822,
          0.08976125717163086,
          5.603170394897461,
          3.880323648452759,
          2.4768948554992676,
          2.897712230682373,
          2.633826494216919,
          5.860095500946045,
          1.2813878059387207,
          4.579063892364502,
          6.735713958740234,
          5.082028388977051,
          2.2742209434509277,
          1.8437734842300415,
          5.309332370758057,
          -0.041468143463134766,
          -0.6552700996398926,
          1.4526135921478271,
          11.40248966217041,
          6.983254432678223,
          1.8624824285507202,
          9.928535461425781,
          1.4901185035705566,
          -3.02408504486084,
          2.1763596534729004,
          -2.6069536209106445,
          8.045955657958984,
          4.4567646980285645,
          8.070444107055664,
          -0.6761641502380371,
          5.049439430236816,
          3.345435857772827,
          7.060209274291992,
          3.312175989151001,
          6.940943717956543,
          1.7018985748291016,
          4.162612438201904,
          5.957836151123047,
          1.7012457847595215,
          8.297523498535156,
          9.103923797607422,
          4.0974884033203125,
          2.6062252521514893,
          5.0426249504089355,
          8.875741004943848,
          3.0298354625701904,
          9.436866760253906,
          2.6305997371673584,
          0.7009801864624023,
          4.236122131347656,
          5.10147762298584,
          -3.2356410026550293,
          -4.539883613586426,
          5.720458030700684,
          1.5273289680480957,
          1.5316061973571777,
          0.7756025791168213,
          1.4543935060501099,
          0.9986977577209473,
          5.8521013259887695,
          1.6933555603027344,
          5.100122928619385,
          6.021871566772461,
          5.356337547302246,
          0.6202700138092041,
          1.8678890466690063,
          5.316946029663086,
          0.5289978981018066,
          7.420735836029053,
          0.8038485050201416,
          1.5383000373840332,
          2.837380886077881,
          4.0231451988220215,
          1.445812702178955,
          4.00505256652832,
          1.634269118309021,
          1.6910961866378784,
          5.830146789550781,
          3.141165018081665,
          1.354785442352295,
          11.326833724975586,
          1.6076968908309937,
          5.069690704345703,
          3.8092219829559326,
          4.441378593444824,
          -2.3472118377685547,
          10.868069648742676,
          2.7890238761901855,
          2.867588758468628,
          4.147702217102051,
          6.607302665710449,
          1.3768497705459595,
          5.860550880432129,
          -1.0527095794677734,
          6.932907581329346,
          3.84940767288208,
          1.2458621263504028,
          7.031475067138672,
          5.208723068237305,
          1.9974629878997803,
          0.4441378116607666,
          6.057774543762207,
          1.2764947414398193,
          3.5726583003997803,
          2.3277971744537354,
          4.459885597229004,
          6.59450101852417,
          0.610926628112793,
          3.4436259269714355,
          4.255816459655762,
          6.592405319213867,
          0.7242255210876465,
          0.8782274723052979,
          7.110791206359863,
          4.881370544433594,
          5.873480319976807,
          6.054305076599121,
          2.7747933864593506,
          5.108087539672852,
          4.347116470336914,
          4.877481460571289,
          -1.6103005409240723,
          1.737134575843811,
          5.064350128173828,
          3.600539207458496
         ],
         "yaxis": "y"
        }
       ],
       "layout": {
        "legend": {
         "tracegroupgap": 0
        },
        "margin": {
         "t": 60
        },
        "template": {
         "data": {
          "bar": [
           {
            "error_x": {
             "color": "#2a3f5f"
            },
            "error_y": {
             "color": "#2a3f5f"
            },
            "marker": {
             "line": {
              "color": "#E5ECF6",
              "width": 0.5
             },
             "pattern": {
              "fillmode": "overlay",
              "size": 10,
              "solidity": 0.2
             }
            },
            "type": "bar"
           }
          ],
          "barpolar": [
           {
            "marker": {
             "line": {
              "color": "#E5ECF6",
              "width": 0.5
             },
             "pattern": {
              "fillmode": "overlay",
              "size": 10,
              "solidity": 0.2
             }
            },
            "type": "barpolar"
           }
          ],
          "carpet": [
           {
            "aaxis": {
             "endlinecolor": "#2a3f5f",
             "gridcolor": "white",
             "linecolor": "white",
             "minorgridcolor": "white",
             "startlinecolor": "#2a3f5f"
            },
            "baxis": {
             "endlinecolor": "#2a3f5f",
             "gridcolor": "white",
             "linecolor": "white",
             "minorgridcolor": "white",
             "startlinecolor": "#2a3f5f"
            },
            "type": "carpet"
           }
          ],
          "choropleth": [
           {
            "colorbar": {
             "outlinewidth": 0,
             "ticks": ""
            },
            "type": "choropleth"
           }
          ],
          "contour": [
           {
            "colorbar": {
             "outlinewidth": 0,
             "ticks": ""
            },
            "colorscale": [
             [
              0,
              "#0d0887"
             ],
             [
              0.1111111111111111,
              "#46039f"
             ],
             [
              0.2222222222222222,
              "#7201a8"
             ],
             [
              0.3333333333333333,
              "#9c179e"
             ],
             [
              0.4444444444444444,
              "#bd3786"
             ],
             [
              0.5555555555555556,
              "#d8576b"
             ],
             [
              0.6666666666666666,
              "#ed7953"
             ],
             [
              0.7777777777777778,
              "#fb9f3a"
             ],
             [
              0.8888888888888888,
              "#fdca26"
             ],
             [
              1,
              "#f0f921"
             ]
            ],
            "type": "contour"
           }
          ],
          "contourcarpet": [
           {
            "colorbar": {
             "outlinewidth": 0,
             "ticks": ""
            },
            "type": "contourcarpet"
           }
          ],
          "heatmap": [
           {
            "colorbar": {
             "outlinewidth": 0,
             "ticks": ""
            },
            "colorscale": [
             [
              0,
              "#0d0887"
             ],
             [
              0.1111111111111111,
              "#46039f"
             ],
             [
              0.2222222222222222,
              "#7201a8"
             ],
             [
              0.3333333333333333,
              "#9c179e"
             ],
             [
              0.4444444444444444,
              "#bd3786"
             ],
             [
              0.5555555555555556,
              "#d8576b"
             ],
             [
              0.6666666666666666,
              "#ed7953"
             ],
             [
              0.7777777777777778,
              "#fb9f3a"
             ],
             [
              0.8888888888888888,
              "#fdca26"
             ],
             [
              1,
              "#f0f921"
             ]
            ],
            "type": "heatmap"
           }
          ],
          "heatmapgl": [
           {
            "colorbar": {
             "outlinewidth": 0,
             "ticks": ""
            },
            "colorscale": [
             [
              0,
              "#0d0887"
             ],
             [
              0.1111111111111111,
              "#46039f"
             ],
             [
              0.2222222222222222,
              "#7201a8"
             ],
             [
              0.3333333333333333,
              "#9c179e"
             ],
             [
              0.4444444444444444,
              "#bd3786"
             ],
             [
              0.5555555555555556,
              "#d8576b"
             ],
             [
              0.6666666666666666,
              "#ed7953"
             ],
             [
              0.7777777777777778,
              "#fb9f3a"
             ],
             [
              0.8888888888888888,
              "#fdca26"
             ],
             [
              1,
              "#f0f921"
             ]
            ],
            "type": "heatmapgl"
           }
          ],
          "histogram": [
           {
            "marker": {
             "pattern": {
              "fillmode": "overlay",
              "size": 10,
              "solidity": 0.2
             }
            },
            "type": "histogram"
           }
          ],
          "histogram2d": [
           {
            "colorbar": {
             "outlinewidth": 0,
             "ticks": ""
            },
            "colorscale": [
             [
              0,
              "#0d0887"
             ],
             [
              0.1111111111111111,
              "#46039f"
             ],
             [
              0.2222222222222222,
              "#7201a8"
             ],
             [
              0.3333333333333333,
              "#9c179e"
             ],
             [
              0.4444444444444444,
              "#bd3786"
             ],
             [
              0.5555555555555556,
              "#d8576b"
             ],
             [
              0.6666666666666666,
              "#ed7953"
             ],
             [
              0.7777777777777778,
              "#fb9f3a"
             ],
             [
              0.8888888888888888,
              "#fdca26"
             ],
             [
              1,
              "#f0f921"
             ]
            ],
            "type": "histogram2d"
           }
          ],
          "histogram2dcontour": [
           {
            "colorbar": {
             "outlinewidth": 0,
             "ticks": ""
            },
            "colorscale": [
             [
              0,
              "#0d0887"
             ],
             [
              0.1111111111111111,
              "#46039f"
             ],
             [
              0.2222222222222222,
              "#7201a8"
             ],
             [
              0.3333333333333333,
              "#9c179e"
             ],
             [
              0.4444444444444444,
              "#bd3786"
             ],
             [
              0.5555555555555556,
              "#d8576b"
             ],
             [
              0.6666666666666666,
              "#ed7953"
             ],
             [
              0.7777777777777778,
              "#fb9f3a"
             ],
             [
              0.8888888888888888,
              "#fdca26"
             ],
             [
              1,
              "#f0f921"
             ]
            ],
            "type": "histogram2dcontour"
           }
          ],
          "mesh3d": [
           {
            "colorbar": {
             "outlinewidth": 0,
             "ticks": ""
            },
            "type": "mesh3d"
           }
          ],
          "parcoords": [
           {
            "line": {
             "colorbar": {
              "outlinewidth": 0,
              "ticks": ""
             }
            },
            "type": "parcoords"
           }
          ],
          "pie": [
           {
            "automargin": true,
            "type": "pie"
           }
          ],
          "scatter": [
           {
            "fillpattern": {
             "fillmode": "overlay",
             "size": 10,
             "solidity": 0.2
            },
            "type": "scatter"
           }
          ],
          "scatter3d": [
           {
            "line": {
             "colorbar": {
              "outlinewidth": 0,
              "ticks": ""
             }
            },
            "marker": {
             "colorbar": {
              "outlinewidth": 0,
              "ticks": ""
             }
            },
            "type": "scatter3d"
           }
          ],
          "scattercarpet": [
           {
            "marker": {
             "colorbar": {
              "outlinewidth": 0,
              "ticks": ""
             }
            },
            "type": "scattercarpet"
           }
          ],
          "scattergeo": [
           {
            "marker": {
             "colorbar": {
              "outlinewidth": 0,
              "ticks": ""
             }
            },
            "type": "scattergeo"
           }
          ],
          "scattergl": [
           {
            "marker": {
             "colorbar": {
              "outlinewidth": 0,
              "ticks": ""
             }
            },
            "type": "scattergl"
           }
          ],
          "scattermapbox": [
           {
            "marker": {
             "colorbar": {
              "outlinewidth": 0,
              "ticks": ""
             }
            },
            "type": "scattermapbox"
           }
          ],
          "scatterpolar": [
           {
            "marker": {
             "colorbar": {
              "outlinewidth": 0,
              "ticks": ""
             }
            },
            "type": "scatterpolar"
           }
          ],
          "scatterpolargl": [
           {
            "marker": {
             "colorbar": {
              "outlinewidth": 0,
              "ticks": ""
             }
            },
            "type": "scatterpolargl"
           }
          ],
          "scatterternary": [
           {
            "marker": {
             "colorbar": {
              "outlinewidth": 0,
              "ticks": ""
             }
            },
            "type": "scatterternary"
           }
          ],
          "surface": [
           {
            "colorbar": {
             "outlinewidth": 0,
             "ticks": ""
            },
            "colorscale": [
             [
              0,
              "#0d0887"
             ],
             [
              0.1111111111111111,
              "#46039f"
             ],
             [
              0.2222222222222222,
              "#7201a8"
             ],
             [
              0.3333333333333333,
              "#9c179e"
             ],
             [
              0.4444444444444444,
              "#bd3786"
             ],
             [
              0.5555555555555556,
              "#d8576b"
             ],
             [
              0.6666666666666666,
              "#ed7953"
             ],
             [
              0.7777777777777778,
              "#fb9f3a"
             ],
             [
              0.8888888888888888,
              "#fdca26"
             ],
             [
              1,
              "#f0f921"
             ]
            ],
            "type": "surface"
           }
          ],
          "table": [
           {
            "cells": {
             "fill": {
              "color": "#EBF0F8"
             },
             "line": {
              "color": "white"
             }
            },
            "header": {
             "fill": {
              "color": "#C8D4E3"
             },
             "line": {
              "color": "white"
             }
            },
            "type": "table"
           }
          ]
         },
         "layout": {
          "annotationdefaults": {
           "arrowcolor": "#2a3f5f",
           "arrowhead": 0,
           "arrowwidth": 1
          },
          "autotypenumbers": "strict",
          "coloraxis": {
           "colorbar": {
            "outlinewidth": 0,
            "ticks": ""
           }
          },
          "colorscale": {
           "diverging": [
            [
             0,
             "#8e0152"
            ],
            [
             0.1,
             "#c51b7d"
            ],
            [
             0.2,
             "#de77ae"
            ],
            [
             0.3,
             "#f1b6da"
            ],
            [
             0.4,
             "#fde0ef"
            ],
            [
             0.5,
             "#f7f7f7"
            ],
            [
             0.6,
             "#e6f5d0"
            ],
            [
             0.7,
             "#b8e186"
            ],
            [
             0.8,
             "#7fbc41"
            ],
            [
             0.9,
             "#4d9221"
            ],
            [
             1,
             "#276419"
            ]
           ],
           "sequential": [
            [
             0,
             "#0d0887"
            ],
            [
             0.1111111111111111,
             "#46039f"
            ],
            [
             0.2222222222222222,
             "#7201a8"
            ],
            [
             0.3333333333333333,
             "#9c179e"
            ],
            [
             0.4444444444444444,
             "#bd3786"
            ],
            [
             0.5555555555555556,
             "#d8576b"
            ],
            [
             0.6666666666666666,
             "#ed7953"
            ],
            [
             0.7777777777777778,
             "#fb9f3a"
            ],
            [
             0.8888888888888888,
             "#fdca26"
            ],
            [
             1,
             "#f0f921"
            ]
           ],
           "sequentialminus": [
            [
             0,
             "#0d0887"
            ],
            [
             0.1111111111111111,
             "#46039f"
            ],
            [
             0.2222222222222222,
             "#7201a8"
            ],
            [
             0.3333333333333333,
             "#9c179e"
            ],
            [
             0.4444444444444444,
             "#bd3786"
            ],
            [
             0.5555555555555556,
             "#d8576b"
            ],
            [
             0.6666666666666666,
             "#ed7953"
            ],
            [
             0.7777777777777778,
             "#fb9f3a"
            ],
            [
             0.8888888888888888,
             "#fdca26"
            ],
            [
             1,
             "#f0f921"
            ]
           ]
          },
          "colorway": [
           "#636efa",
           "#EF553B",
           "#00cc96",
           "#ab63fa",
           "#FFA15A",
           "#19d3f3",
           "#FF6692",
           "#B6E880",
           "#FF97FF",
           "#FECB52"
          ],
          "font": {
           "color": "#2a3f5f"
          },
          "geo": {
           "bgcolor": "white",
           "lakecolor": "white",
           "landcolor": "#E5ECF6",
           "showlakes": true,
           "showland": true,
           "subunitcolor": "white"
          },
          "hoverlabel": {
           "align": "left"
          },
          "hovermode": "closest",
          "mapbox": {
           "style": "light"
          },
          "paper_bgcolor": "white",
          "plot_bgcolor": "#E5ECF6",
          "polar": {
           "angularaxis": {
            "gridcolor": "white",
            "linecolor": "white",
            "ticks": ""
           },
           "bgcolor": "#E5ECF6",
           "radialaxis": {
            "gridcolor": "white",
            "linecolor": "white",
            "ticks": ""
           }
          },
          "scene": {
           "xaxis": {
            "backgroundcolor": "#E5ECF6",
            "gridcolor": "white",
            "gridwidth": 2,
            "linecolor": "white",
            "showbackground": true,
            "ticks": "",
            "zerolinecolor": "white"
           },
           "yaxis": {
            "backgroundcolor": "#E5ECF6",
            "gridcolor": "white",
            "gridwidth": 2,
            "linecolor": "white",
            "showbackground": true,
            "ticks": "",
            "zerolinecolor": "white"
           },
           "zaxis": {
            "backgroundcolor": "#E5ECF6",
            "gridcolor": "white",
            "gridwidth": 2,
            "linecolor": "white",
            "showbackground": true,
            "ticks": "",
            "zerolinecolor": "white"
           }
          },
          "shapedefaults": {
           "line": {
            "color": "#2a3f5f"
           }
          },
          "ternary": {
           "aaxis": {
            "gridcolor": "white",
            "linecolor": "white",
            "ticks": ""
           },
           "baxis": {
            "gridcolor": "white",
            "linecolor": "white",
            "ticks": ""
           },
           "bgcolor": "#E5ECF6",
           "caxis": {
            "gridcolor": "white",
            "linecolor": "white",
            "ticks": ""
           }
          },
          "title": {
           "x": 0.05
          },
          "xaxis": {
           "automargin": true,
           "gridcolor": "white",
           "linecolor": "white",
           "ticks": "",
           "title": {
            "standoff": 15
           },
           "zerolinecolor": "white",
           "zerolinewidth": 2
          },
          "yaxis": {
           "automargin": true,
           "gridcolor": "white",
           "linecolor": "white",
           "ticks": "",
           "title": {
            "standoff": 15
           },
           "zerolinecolor": "white",
           "zerolinewidth": 2
          }
         }
        },
        "xaxis": {
         "anchor": "y",
         "domain": [
          0,
          1
         ],
         "title": {
          "text": "x"
         }
        },
        "yaxis": {
         "anchor": "x",
         "domain": [
          0,
          1
         ],
         "title": {
          "text": "y"
         }
        }
       }
      },
      "text/html": [
       "<div>                            <div id=\"72253a34-752e-4abb-bd9b-0723ae08b5cd\" class=\"plotly-graph-div\" style=\"height:525px; width:100%;\"></div>            <script type=\"text/javascript\">                require([\"plotly\"], function(Plotly) {                    window.PLOTLYENV=window.PLOTLYENV || {};                                    if (document.getElementById(\"72253a34-752e-4abb-bd9b-0723ae08b5cd\")) {                    Plotly.newPlot(                        \"72253a34-752e-4abb-bd9b-0723ae08b5cd\",                        [{\"hovertemplate\":\"x=%{x}<br>y=%{y}<extra></extra>\",\"legendgroup\":\"\",\"marker\":{\"color\":\"#636efa\",\"symbol\":\"circle\"},\"mode\":\"markers\",\"name\":\"\",\"orientation\":\"v\",\"showlegend\":false,\"x\":[-0.033020980656147,1.3614484071731567,0.45839306712150574,0.7004206776618958,-0.7394183874130249,-0.4856266677379608,-2.514974355697632,0.39460599422454834,-1.3336910009384155,0.5597421526908875,0.5719822645187378,1.9138027429580688,-0.702769935131073,0.40733733773231506,0.583482563495636,1.9809459447860718,0.7652884721755981,1.436374306678772,-0.13389597833156586,0.6245588064193726,0.16266174614429474,1.0107661485671997,-2.7412772178649902,-0.49569258093833923,0.980631947517395,-0.4278430640697479,1.3365874290466309,0.32758793234825134,0.2748250365257263,-0.07330558449029922,-0.8485945463180542,0.16809532046318054,-1.1060349941253662,-0.8201093673706055,0.8527229428291321,0.8532876968383789,1.1095865964889526,-0.3610234260559082,0.4191318154335022,0.14311866462230682,0.6513765454292297,1.8922127485275269,0.09202795475721359,0.7171152830123901,1.780761957168579,1.4968974590301514,1.0586466789245605,-0.8805769085884094,-1.1090935468673706,-0.9341303110122681,-0.6823367476463318,1.5070734024047852,-2.816049098968506,0.8655027747154236,0.16334295272827148,-1.1494094133377075,0.21514281630516052,2.1716244220733643,1.8284136056900024,0.25118228793144226,2.2277281284332275,0.9772262573242188,0.3254646062850952,-0.7672909498214722,1.9272487163543701,0.6588988900184631,-0.29564476013183594,-0.19459550082683563,0.22277797758579254,-1.1666977405548096,1.3871549367904663,-0.42105236649513245,0.027052927762269974,-1.510816216468811,-0.9249885678291321,-0.5696143507957458,0.619272768497467,-1.53095281124115,0.8013346791267395,-1.0860795974731445,0.6528439521789551,-0.9356327056884766,-0.4990684390068054,-0.18065980076789856,-1.5135278701782227,-3.067018985748291,0.22904208302497864,1.3308478593826294,-0.5118159055709839,-0.8972257375717163,-0.4063337743282318,-0.04937199875712395,-0.47546976804733276,0.5005976557731628,1.5724009275436401,-2.093611478805542,-0.583543598651886,-1.113295078277588,1.0462185144424438,-0.7359885573387146,0.8009033799171448,0.04401097446680069,-0.5702015161514282,-0.8752239942550659,-0.7923211455345154,-0.3889826834201813,-1.230762243270874,0.2251206785440445,0.3407091796398163,0.5857365727424622,-0.8654964566230774,-2.7420287132263184,-0.9004023671150208,-1.4346866607666016,1.5906234979629517,0.6967858076095581,-1.1137628555297852,0.48086607456207275,0.47425827383995056,0.20964506268501282,1.423804759979248,1.1561046838760376,-0.2250683307647705,-0.05590605363249779,-1.704315185546875,0.6216517090797424,0.2522408366203308,-1.3215008974075317,0.22507494688034058,0.7160251140594482,0.36547616124153137,-1.0479830503463745,-0.4746335744857788,-0.6789866089820862,1.166075587272644,-0.36598169803619385,0.08501031249761581,-0.4735107719898224,0.5385770797729492,-0.2796612083911896,-0.7296513915061951,-0.1404333859682083,0.3971952795982361,0.6559481024742126,0.27382558584213257,-1.6971083879470825,0.2989494502544403,1.0528717041015625,-0.40770381689071655,0.9543582201004028,1.003875732421875,0.582121729850769,0.03453134000301361,1.4978649616241455,-0.618047833442688,0.3613021671772003,-1.0641629695892334,-0.10202331095933914,0.8353318572044373,-1.2022740840911865,-0.38889774680137634,1.22279953956604,0.36524009704589844,-0.631718635559082,0.07752826064825058,0.1958457976579666,-0.0209487471729517,0.23057648539543152,-0.5574191808700562,-0.40825673937797546,-1.9032282829284668,0.4029901921749115,0.8173346519470215,0.10046451538801193,1.6394606828689575,0.2098531424999237,-0.39037227630615234,-0.4611653983592987,-0.03410882502794266,0.362154096364975,-1.4544326066970825,0.6233304738998413,0.8576759696006775,0.813148021697998,0.6230373978614807,0.4717300832271576,0.7437381744384766,-0.1514551192522049,-0.43832963705062866,0.9995831251144409,0.4295046329498291,-0.6695598363876343,-0.40045401453971863,-0.06874410808086395,1.4157530069351196,-0.1480168104171753,-1.6324092149734497,0.7250690460205078,-1.4141052961349487,0.8514384627342224,1.758082389831543,0.5420190095901489,1.8804861307144165,1.247659683227539,1.6445330381393433,0.4915967583656311,-1.6603795289993286,0.5283423066139221,0.022839225828647614,-0.11834785342216492,-0.5823615789413452,0.12216334044933319,-0.5153871178627014,0.24539820849895477,0.03321635350584984,0.009641310200095177,-0.9497644901275635,0.6281293034553528,-0.32099366188049316,-0.0006307954317890108,-1.4123696088790894,2.3760197162628174,0.5408449769020081,-0.3526376485824585,-0.49616914987564087,0.8949980735778809,-1.4210889339447021,0.35258859395980835,-0.18121838569641113,-0.572516918182373,0.4486171007156372,0.6610032320022583,0.2648453414440155,-0.02549889124929905,-0.27725040912628174,-1.2163751125335693,0.8962488174438477,-1.652787685394287,0.3684661388397217,0.4864630103111267,-1.5249098539352417,-0.5044457316398621,0.3103616535663605,-1.7698588371276855,1.1999354362487793,-0.12748625874519348,-0.433271586894989,1.6361267566680908,-0.5585340261459351,-1.2672605514526367,-1.601737380027771,-0.3171251714229584,-0.8500223755836487,0.7027870416641235,-0.004635285586118698,0.0184001624584198,1.8229938745498657,0.9283159375190735,-0.09822092205286026,0.8075032830238342,0.38338541984558105,0.19690139591693878,-0.9148393869400024,0.13252650201320648,0.058863747864961624,1.6797150373458862,-1.6903369426727295,0.6893928050994873,1.0979965925216675,2.875040054321289,0.6643857955932617,-0.8911756873130798,-1.025439977645874,0.09523235261440277,0.021631160750985146,-1.1264770030975342,-0.047871511429548264,0.061428170651197433,0.5366818904876709,1.7885135412216187,0.28120043873786926,-0.3675442039966583,-0.5880044102668762,-1.5618016719818115,-0.06990434974431992,-0.3538239002227783,0.4668744206428528,1.8638007640838623,-0.013748369179666042,0.9702394604682922,0.7481205463409424,-0.6716529726982117,-0.8526571989059448,2.771389961242676,-0.14797866344451904,-0.2421945184469223,0.9132643938064575,-0.3807517886161804,0.8127285838127136,-1.3357869386672974,0.5511904954910278,0.3293251693248749,-1.8651121854782104,0.9430999755859375,1.1163431406021118,-0.6600448489189148,0.5084816217422485,-1.2241544723510742,-0.21181875467300415,-0.6381608843803406,-1.6468874216079712,-2.002023935317993,-1.1500924825668335,0.27610334753990173,-0.05020451173186302,-0.7778927087783813,-1.4104740619659424,-1.6736780405044556,0.5593809485435486,-1.1056323051452637,-0.5226467847824097,-0.366606205701828,2.047774314880371,1.5826668739318848,1.087499976158142,-0.8062292337417603,0.1867915242910385,-0.34496402740478516,-0.6070312857627869,1.351832628250122,0.8806777596473694,0.8528247475624084,0.699374794960022,-0.7897436022758484,-0.3999060094356537,0.8162622451782227,-0.9652708172798157,0.8108682632446289,-0.2448272556066513,0.49793294072151184,0.5273529887199402,-1.5722812414169312,0.9298493266105652,0.8637090921401978,0.25682657957077026,1.0537117719650269,0.32040902972221375,1.4908684492111206,0.5300105214118958,-0.19836503267288208,-0.8152211308479309,-0.7841333150863647,-1.7222858667373657,-0.8888543248176575,-0.2552953362464905,-0.3222324848175049,1.3438127040863037,0.1765034794807434,0.5510479807853699,-2.5492570400238037,-1.076490879058838,-1.0565097332000732,0.26392966508865356,0.5800652503967285,1.5599690675735474,0.5416772961616516,0.8145910501480103,-0.412296861410141,0.5658279657363892,-0.350290447473526,0.05911945924162865,-0.5809253454208374,-1.439455270767212,2.2158381938934326,0.48944905400276184,-0.695494532585144,1.7827391624450684,1.093400001525879,-0.8184381723403931,-1.0126745700836182,0.285358726978302,-0.9706331491470337,0.47022199630737305,0.6053044199943542,-0.08414468169212341,0.7226356267929077,-1.6234254837036133,0.33184540271759033,1.5911165475845337,-1.1740906238555908,-0.6500532627105713,1.7125927209854126,-0.7164776921272278,-0.15737903118133545,0.10540053993463516,0.21368816494941711,-0.9192299246788025,0.5010639429092407,-0.31175893545150757,0.003092728089541197,0.9367292523384094,-1.5436007976531982,-1.1515915393829346,0.5986908674240112,-0.31883880496025085,-1.316593885421753,-1.461874008178711,-1.5159786939620972,-0.3645686209201813,0.9645628929138184,1.4346516132354736,1.4075928926467896,-0.8008618354797363,-0.6432390213012695,-1.0351145267486572,-0.46986061334609985,-0.314831018447876,-1.5401257276535034,0.18129658699035645,-0.13758070766925812,1.891013503074646,0.25767335295677185,-0.17614074051380157,0.9731519222259521,0.26483339071273804,-1.3042845726013184,-0.5514593720436096,-1.2558908462524414,0.02486555092036724,-0.3347088694572449,-0.8960881233215332,-0.42258062958717346,1.0639970302581787,0.8146776556968689,-0.6405361294746399,-0.32528063654899597,1.1975713968276978,-0.615427553653717,1.0684444904327393,1.0608681440353394,-1.270680546760559,-0.4616055190563202,1.6991559267044067,1.2669463157653809,0.5106161236763,0.31139498949050903,0.42585453391075134,-1.1153552532196045,0.6119751334190369,0.7930443286895752,-1.0716303586959839,1.177738904953003,-0.10592486709356308,0.42816540598869324,0.8775892853736877,0.5052441954612732,0.3584223687648773,-0.275928258895874,0.5954165458679199,-0.2881612777709961,0.20876626670360565,1.4852999448776245,1.277577519416809,1.4843628406524658,0.3772082030773163,0.898140549659729,-1.3340959548950195,0.8660411238670349,-0.21914733946323395,0.0535241924226284,-0.6862434148788452,-0.2733036279678345,-0.28694233298301697,-0.14921684563159943,0.4724544584751129,-0.5492212772369385,-1.4129738807678223,0.9598068594932556,-0.9886224865913391,1.7076327800750732,0.03782500699162483,-0.6323322653770447,0.48476526141166687,1.2408429384231567,1.5654019117355347,-0.46987658739089966,-0.15429237484931946,0.4694133996963501,-1.554928183555603,0.3575007915496826,-0.023544572293758392,-1.415675401687622,-0.5940636396408081,0.27583423256874084,-0.583433210849762,-0.6053842306137085,1.5297183990478516,-0.383333295583725,0.4577701687812805,-0.8650970458984375,0.927962601184845,-0.5114195942878723,-1.3738456964492798,-0.03349848836660385,-1.0068882703781128,0.4478236734867096,-0.30999335646629333,-0.12130174040794373,-1.4267135858535767,0.4708940088748932,1.4925464391708374,-0.9114251732826233,1.5118147134780884,0.6932757496833801,1.4083778858184814,-0.4543432891368866,0.4486026465892792,0.18238486349582672,-0.16724519431591034,-0.4111553728580475,-0.24497397243976593,-0.7764085531234741,0.0637829378247261,0.5015131831169128,0.29882583022117615,1.494193196296692,0.755106508731842,0.15712901949882507,1.500864028930664,-0.7251105904579163,-1.5413116216659546,-0.8413196206092834,0.34168633818626404,-1.040717363357544,0.22464127838611603,-0.4962276220321655,2.1872429847717285,-1.119482159614563,0.3399461507797241,1.3284014463424683,0.17428021132946014,-0.8695595264434814,0.3420898914337158,-1.371224045753479,-0.644720196723938,-0.01391251478344202,-1.5127778053283691,0.8772690296173096,-1.34638249874115,-0.40551432967185974,-0.32074856758117676,-0.8204859495162964,-0.6990023851394653,1.787602424621582,0.11896230280399323,-0.05752881243824959,-0.5974054932594299,-0.16887232661247253,0.8646187782287598,0.3991524577140808,0.9982989430427551,-0.436551570892334,0.8206853866577148,-0.11835809797048569,0.35504427552223206,1.4305260181427002,2.4079928398132324,-0.14458821713924408,-1.0212814807891846,0.27385005354881287,-0.37264081835746765,0.5964665412902832,-0.143107607960701,0.0632345899939537,-1.4344974756240845,-0.0613083578646183,-0.853080153465271,-0.5080334544181824,-0.9135907888412476,-0.6317905783653259,0.2639996409416199,-0.5195347666740417,-0.2865592837333679,-0.35534825921058655,-1.0121358633041382,-0.5835065245628357,-0.25153595209121704,0.9988701343536377,-0.7381678819656372,-1.666221022605896,2.290018320083618,0.5855014324188232,1.2307476997375488,1.1102910041809082,-0.8624603152275085,0.4397852122783661,-0.22542791068553925,0.8298060894012451,-1.7717584371566772,-1.3568638563156128,-1.0022400617599487,-0.39799702167510986,2.014702320098877,1.5855426788330078,-0.30473998188972473,-0.5225034356117249,-0.9428913593292236,-0.3230445086956024,-0.5153910517692566,-1.3768447637557983,1.5047858953475952,1.1084097623825073,-0.7253886461257935,0.002676545875146985,-0.12535947561264038,0.49519819021224976,0.6905681490898132,0.08979682624340057,0.6356090307235718,1.227286458015442,-0.867175281047821,-0.0442170649766922,-1.8607213497161865,1.2758876085281372,1.4759471416473389,1.3398830890655518,-1.1831245422363281,1.005431890487671,-0.18018405139446259,0.5076699256896973,-1.178756594657898,-1.1521611213684082,-0.07594116777181625,0.4489506185054779,-2.26845121383667,-0.630063533782959,-1.1174569129943848,1.8189181089401245,0.13818290829658508,-0.43762141466140747,0.4101928770542145,1.0039600133895874,-1.8408485651016235,0.25991934537887573,0.9475088715553284,0.6644971966743469,0.8702954649925232,0.5270994901657104,-0.6053878664970398,0.16207127273082733,0.2128722369670868,1.2889310121536255,0.19670763611793518,1.1471680402755737,-1.7815327644348145,-0.03338528051972389,1.6448420286178589,-0.4829733967781067,0.6677398681640625,0.8137619495391846,-0.9829844832420349,-0.35220929980278015,0.9059916734695435,1.330796480178833,-0.9104190468788147,0.37906044721603394,0.6412532925605774,-0.14744026958942413,-1.215659260749817,-1.126295566558838,0.3517250418663025,-0.07232080399990082,-0.44922366738319397,-0.2756325602531433,0.13345906138420105,0.31918251514434814,-0.6992725133895874,0.18276360630989075,-1.2696506977081299,1.3770498037338257,0.4797384440898895,-0.09903382509946823,-0.5862242579460144,0.3493642807006836,0.7625666856765747,-1.4157917499542236,0.8823578953742981,0.6299854516983032,-0.13209319114685059,-0.9360789060592651,2.2925426959991455,0.0484318807721138,0.09540092945098877,-1.3333313465118408,-0.4434070587158203,-1.7007402181625366,-0.38924336433410645,-0.39508524537086487,0.10152475535869598,-0.060800109058618546,-0.6195670366287231,-1.9144433736801147,-0.4883183240890503,-0.2395225614309311,-0.5199931263923645,-0.19639183580875397,-0.4172608256340027,-0.3481859266757965,-0.012532788328826427,0.007432352285832167,0.23230169713497162,0.6928889751434326,1.0369240045547485,-0.9241058826446533,-0.5767156481742859,0.5989373922348022,-0.4445157051086426,1.7020370960235596,-0.5333244204521179,0.1267923265695572,0.3592488765716553,0.8208711743354797,0.942541778087616,-0.44633811712265015,-0.39099380373954773,-1.2035080194473267,0.003756840480491519,-1.5269583463668823,0.9647797346115112,-0.37594980001449585,-1.1788480281829834,0.7131485342979431,-0.5328314900398254,1.18171226978302,-0.536611020565033,0.10107852518558502,0.6249423623085022,1.6927374601364136,2.6547296047210693,0.8998698592185974,-0.17060159146785736,0.7815033793449402,-0.16994988918304443,0.0397690124809742,-0.19653654098510742,-0.04059553146362305,-0.8625653386116028,-0.3438301980495453,1.1982721090316772,2.059053659439087,-1.681826114654541,-0.19025340676307678,-0.2824408710002899,1.7323960065841675,-0.14721447229385376,-0.5365757942199707,-0.5409680008888245,0.8581825494766235,-0.8371397852897644,0.2489159256219864,-0.4323417842388153,-0.8315777778625488,-0.8032582998275757,0.8413195610046387,-0.40788060426712036,0.31073981523513794,0.8604171872138977,-0.3033639192581177,-0.552559494972229,2.473037004470825,-1.23545241355896,0.5087878704071045,1.1587707996368408,-1.0842633247375488,-1.4660382270812988,-1.213287115097046,-0.3650340139865875,-1.3430744409561157,-0.8301244378089905,-0.943641185760498,0.043440114706754684,-1.7138289213180542,1.7997989654541016,0.8173812031745911,1.6336835622787476,0.2856084108352661,0.8988504409790039,-1.112720012664795,0.9370846152305603,-0.495253324508667,-0.10388091951608658,-0.17441362142562866,0.06657104939222336,-1.7569140195846558,-0.21971304714679718,-2.3122975826263428,2.0633397102355957,0.05287449434399605,1.243709683418274,0.5496231913566589,-0.7695160508155823,-0.16343197226524353,-2.2216784954071045,0.9085627794265747,-0.2645217478275299,-1.0470998287200928,-0.1363551914691925,0.3568519353866577,1.5611695051193237,1.7267223596572876,-0.5501033067703247,0.07662064582109451,0.3411458730697632,-0.4083421528339386,-1.4412399530410767,-1.182276725769043,0.632796585559845,-0.8557859063148499,0.7145993113517761,0.2715522348880768,0.1384340524673462,0.7693503499031067,-0.5376991629600525,0.8076241612434387,0.1468002200126648,0.6844022274017334,0.22675512731075287,0.29183244705200195,0.8082011342048645,0.15998733043670654,-1.1059424877166748,0.9612895250320435,0.4248957931995392,-1.622435212135315,-0.2425682246685028,-1.1344621181488037,0.30313360691070557,0.7724502086639404,0.32116663455963135,-0.7500561475753784,-0.3130992352962494,-2.045696496963501,-0.0006644635577686131,0.13858167827129364,-0.33163800835609436,0.33145296573638916,0.9400655031204224,0.11955735087394714,0.9226906895637512,0.9947219491004944,0.3077106773853302,0.45681047439575195,0.2783467471599579,0.3478294909000397,1.018342137336731,-0.43942418694496155,0.7261049747467041,-0.2236746996641159,0.5079754590988159,-0.7376739978790283,-0.912805438041687,1.0225375890731812,-1.2819722890853882,0.7640367746353149,-1.094119668006897,1.9127800464630127,0.4467979371547699,1.1884738206863403,2.506167411804199,0.2557982802391052,0.34517902135849,-0.4030590057373047,0.9310092329978943,-0.25931891798973083,-0.6040022373199463,0.04829542711377144,-0.9700796008110046,0.8677235245704651,0.2934412360191345,-0.17436833679676056,-0.03409596160054207,-0.12205781042575836,0.9533652067184448,-0.5728707313537598,0.5263546109199524,1.245237946510315,0.6940094232559204,-0.24192631244659424,-0.38540884852409363,0.7697774171829224,-1.0138226747512817,-1.2184233665466309,-0.5157954692840576,2.8008298873901367,1.3277515172958374,-0.37917253375053406,2.309511661529541,-0.5032938122749329,-2.008028268814087,-0.27454674243927,-1.868984580039978,1.6819851398468018,0.4855882525444031,1.690147876739502,-1.2253880500793457,0.6831464767456055,0.11514528095722198,1.353403091430664,0.1040586605668068,1.313647985458374,-0.4327004849910736,0.38753750920295715,0.985945463180542,-0.43291807174682617,1.7658413648605347,2.0346412658691406,0.3658295273780823,-0.13125824928283691,0.6808750033378601,1.9585803747177124,0.009945171885192394,2.1456222534179688,-0.12313342839479446,-0.766339898109436,0.41204074025154114,0.7004925012588501,-2.0785470008850098,-2.5132944583892822,0.9068192839622498,-0.49089035391807556,-0.48946458101272583,-0.7414658069610596,-0.5152021646499634,-0.667100727558136,0.9507005214691162,-0.4355481266975403,0.7000409364700317,1.0072904825210571,0.7854458689689636,-0.7932433485984802,-0.37737032771110535,0.7723153233528137,-0.8236673474311829,1.4735785722732544,-0.7320504784584045,-0.48723334074020386,-0.054206330329179764,0.34104835987091064,-0.5180624127388,0.33501753211021423,-0.45524361729621887,-0.43630126118659973,0.9433822631835938,0.04705503210425377,-0.54840487241745,2.775611162185669,-0.46410104632377625,0.6898970007896423,0.26974064111709595,0.4804595112800598,-1.7824039459228516,2.622689962387085,-0.0703253373503685,-0.04413706436753273,0.38256749510765076,1.2024341821670532,-0.5410500764846802,0.953516960144043,-1.3509032726287842,1.3109692335128784,0.28313586115837097,-0.5847126245498657,1.3438249826431274,0.7362411022186279,-0.33417898416519165,-0.8519540429115295,1.0192582607269287,-0.5745017528533936,0.19088609516620636,-0.22406762838363647,0.48662856221199036,1.1981669664382935,-0.7963577508926392,0.1478753387928009,0.4186054766178131,1.1974684000015259,-0.7585915327072144,-0.7072575092315674,1.3702638149261475,0.6271235942840576,0.9578267335891724,1.018101692199707,-0.075068898499012,0.702695906162262,0.44903889298439026,0.6258270740509033,-1.5367668867111206,-0.4209551513195038,0.6881167888641357,0.200179785490036],\"xaxis\":\"x\",\"y\":[2.900937080383301,7.08434534072876,4.375179290771484,5.101262092590332,0.7817449569702148,1.54312002658844,-4.544922828674316,4.1838178634643555,-1.001072883605957,4.679226398468018,4.715946674346924,8.741408348083496,0.8916902542114258,4.222012042999268,4.750447750091553,8.942837715148926,5.295865535736084,7.3091230392456055,2.5983121395111084,4.873676300048828,3.487985134124756,6.032298564910889,-5.2238311767578125,1.5129222869873047,5.941895961761475,1.7164708375930786,7.009762287139893,3.9827637672424316,3.824475049972534,2.780083179473877,0.45421648025512695,3.5042858123779297,-0.31810498237609863,0.5396718978881836,5.558168888092041,5.559863090515137,6.328759670257568,1.9169297218322754,4.2573957443237305,3.429356098175049,4.954129695892334,8.676637649536133,3.2760839462280273,5.151345729827881,8.342286109924316,7.490692138671875,6.175940036773682,0.35826921463012695,-0.32728052139282227,0.19760894775390625,0.9529898166656494,7.5212202072143555,-5.448146820068359,5.596508026123047,3.4900288581848145,-0.4482283592224121,3.645428419113159,9.514873504638672,8.485240936279297,3.753546714782715,9.683184623718262,5.931678771972656,3.976393699645996,0.698127269744873,8.781745910644531,4.976696968078613,2.113065719604492,2.4162135124206543,3.6683340072631836,-0.5000932216644287,7.161464691162109,1.7368428707122803,3.0811588764190674,-1.5324487686157227,0.22503423690795898,1.2911570072174072,4.857818603515625,-1.5928583145141602,5.404004096984863,-0.2582387924194336,4.958531856536865,0.1931018829345703,1.5027947425842285,2.4580206871032715,-1.540583610534668,-6.201057434082031,3.6871261596679688,6.992543697357178,1.4645522832870483,0.3083229064941406,1.780998706817627,2.851883888244629,1.5735907554626465,4.501792907714844,7.717202663421631,-3.280834197998047,1.2493691444396973,-0.33988523483276367,6.138655662536621,0.792034387588501,5.4027099609375,3.132032871246338,1.2893954515457153,0.3743281364440918,0.6230366230010986,1.8330519199371338,-0.6922867298126221,3.6753621101379395,4.022127628326416,4.757209777832031,0.40351057052612305,-5.226085662841797,0.29879283905029297,-1.3040599822998047,7.7718706130981445,5.090357303619385,-0.34128856658935547,4.442598342895508,4.422774791717529,3.6289353370666504,7.271414279937744,6.468314170837402,2.3247950077056885,2.8322818279266357,-2.112945556640625,4.864954948425293,3.7567224502563477,-0.9645028114318848,3.675224781036377,5.148075103759766,4.096428394317627,-0.14394903182983398,1.5760992765426636,0.9630401134490967,6.498226642608643,1.9020549058914185,3.255030870437622,1.5794676542282104,4.615731239318848,2.1610164642333984,0.8110458850860596,2.578699827194214,4.191585540771484,4.967844009399414,3.821476697921753,-2.091325283050537,3.896848201751709,6.1586151123046875,1.7768886089324951,5.863074779510498,6.011627197265625,4.746365070343018,3.1035940647125244,7.493595123291016,1.145856499671936,4.083906650543213,-0.1924889087677002,2.693930149078369,5.505995750427246,-0.6068222522735596,1.8333067893981934,6.668398857116699,4.095720291137695,1.104844093322754,3.2325847148895264,3.5875372886657715,2.9371538162231445,3.6917295455932617,1.3277424573898315,1.775229811668396,-2.7096848487854004,4.208970546722412,5.4520039558410645,3.301393508911133,7.918382167816162,3.6295595169067383,1.828883171081543,1.6165038347244263,2.8976736068725586,4.086462020874023,-1.363297939300537,4.869991302490234,5.573027610778809,5.439444065093994,4.869112014770508,4.41519021987915,5.23121452331543,2.5456347465515137,1.6850111484527588,5.998749256134033,4.288514137268066,0.9913206100463867,1.7986379861831665,2.7937676906585693,7.247259140014648,2.5559496879577637,-1.8972277641296387,5.175207138061523,-1.2423157691955566,5.554315567016602,8.274247169494629,4.626057147979736,8.641458511352539,6.742979049682617,7.93359899520874,4.474790573120117,-1.9811387062072754,4.585026741027832,3.0685176849365234,2.644956350326538,1.2529152631759644,3.366489887237549,1.453838586807251,3.736194610595703,3.099648952484131,3.028923988342285,0.15070652961730957,4.884387969970703,2.0370190143585205,2.998107671737671,-1.2371087074279785,10.128059387207031,4.62253475189209,1.9420870542526245,1.5114924907684326,5.684994220733643,-1.2632665634155273,4.057765960693359,2.4563448429107666,1.2824492454528809,4.345851421356201,4.9830098152160645,3.7945361137390137,2.9235033988952637,2.1682486534118652,-0.649125337600708,5.688746452331543,-1.9583630561828613,4.105398178100586,4.459388732910156,-1.5747294425964355,1.4866628646850586,3.9310851097106934,-2.3095765113830566,6.599806308746338,2.6175413131713867,1.7001852989196777,7.908380508422852,1.3243979215621948,-0.8017816543579102,-1.8052120208740234,2.0486245155334473,0.4499328136444092,5.10836124420166,2.9860942363739014,3.0552005767822266,8.468981742858887,5.784947872161865,2.7053372859954834,5.422510147094727,4.150156021118164,3.5907042026519775,0.2554817199707031,3.3975794315338135,3.176591157913208,8.039144515991211,-2.0710105895996094,5.068178176879883,6.293989658355713,11.625120162963867,4.993157386779785,0.3264729976654053,-0.07631993293762207,3.2856969833374023,3.0648934841156006,-0.37943100929260254,2.8563854694366455,3.1842844486236572,4.610045433044434,8.365540504455566,3.8436012268066406,1.8973673582077026,1.2359867095947266,-1.6854047775268555,2.7902870178222656,1.938528299331665,4.400623321533203,8.591402053833008,2.958754777908325,5.9107184410095215,5.244361877441406,0.9850411415100098,0.4420285224914551,11.314169883728027,2.5560641288757324,2.273416519165039,5.739793300628662,1.8577446937561035,5.438185691833496,-1.0073609352111816,4.653571605682373,3.987975597381592,-2.595336437225342,5.8292999267578125,6.349029541015625,1.0198655128479004,4.525444984436035,-0.6724634170532227,2.3645436763763428,1.085517406463623,-1.9406623840332031,-3.0060720443725586,-0.45027732849121094,3.828310012817383,2.84938645362854,0.6663217544555664,-1.2314224243164062,-2.0210342407226562,4.678142547607422,-0.316896915435791,1.432059645652771,1.9001814126968384,9.143322944641113,7.748000621795654,6.262499809265137,0.5813121795654297,3.5603744983673096,1.9651079177856445,1.1789062023162842,7.055498123168945,5.642033576965332,5.558474540710449,5.0981245040893555,0.6307692527770996,1.8002820014953613,5.448786735534668,0.1041874885559082,5.432604789733887,2.2655181884765625,4.493798732757568,4.582058906555176,-1.716843605041504,5.789547920227051,5.591127395629883,3.770479679107666,6.161135196685791,3.9612269401550293,7.472605228424072,4.590031623840332,2.404904842376709,0.5543365478515625,0.6476001739501953,-2.1668577194213867,0.3334369659423828,2.234113931655884,2.0333025455474854,7.031437873840332,3.529510498046875,4.653143882751465,-4.647770881652832,-0.22947263717651367,-0.16952919960021973,3.7917890548706055,4.7401957511901855,7.679907321929932,4.6250319480896,5.44377326965332,1.7631094455718994,4.697484016418457,1.9491286277770996,3.177358388900757,1.2572239637374878,-1.3183660507202148,9.647514343261719,4.468347072601318,0.9135165214538574,8.348217010498047,6.280200004577637,0.5446853637695312,-0.03802371025085449,3.856076240539551,0.08810043334960938,4.410665988922119,4.815913200378418,2.747565984725952,5.167906761169434,-1.8702764511108398,3.9955363273620605,7.773349761962891,-0.5222718715667725,1.0498402118682861,8.137778282165527,0.8505668640136719,2.527863025665283,3.316201686859131,3.6410646438598633,0.2423102855682373,4.503191947937012,2.064723253250122,3.0092782974243164,5.810187816619873,-1.6308021545410156,-0.4547746181488037,4.796072483062744,2.0434837341308594,-0.9497816562652588,-1.3856220245361328,-1.547935962677002,1.9062941074371338,5.893688678741455,7.303955078125,7.222778797149658,0.597414493560791,1.0702829360961914,-0.10534358024597168,1.5904181003570557,2.055506944656372,-1.6203770637512207,3.5438897609710693,2.5872578620910645,8.673040390014648,3.773020029067993,2.4715776443481445,5.919455528259277,3.7945001125335693,-0.9128537178039551,1.3456218242645264,-0.7676725387573242,3.074596643447876,1.9958734512329102,0.3117356300354004,1.7322580814361572,6.191990852355957,5.444032669067383,1.0783915519714355,2.024158000946045,6.592714309692383,1.153717279434204,6.205333709716797,6.1826043128967285,-0.8120417594909668,1.6151834726333618,8.097467422485352,6.800838947296143,4.531848430633545,3.934185028076172,4.277563571929932,-0.3460657596588135,4.835925102233887,5.379133224487305,-0.2148909568786621,6.53321647644043,2.682225465774536,4.284496307373047,5.632767677307129,4.515732765197754,4.0752668380737305,2.172215223312378,4.78624963760376,2.1355161666870117,3.6262989044189453,7.455899715423584,6.832732677459717,7.453088760375977,4.131624698638916,5.694421768188477,-1.0022878646850586,5.598123550415039,2.342557907104492,3.1605725288391113,0.9412698745727539,2.180088996887207,2.1391730308532715,2.55234956741333,4.417363166809082,1.3523361682891846,-1.2389216423034668,5.879420280456543,0.03413248062133789,8.12289810180664,3.1134750843048096,1.1030032634735107,4.454295635223389,6.72252893447876,7.6962056159973145,1.5903701782226562,2.537122964859009,4.40824031829834,-1.6647844314575195,4.072502136230469,2.92936635017395,-1.2470264434814453,1.2178090810775757,3.827502727508545,1.2497003078460693,1.1838473081588745,7.589155197143555,1.8500001430511475,4.373310565948486,0.4047088623046875,5.78388786315918,1.4657411575317383,-1.121537208557129,2.8995044231414795,-0.020664691925048828,4.343471050262451,2.0700199604034424,2.636094808578491,-1.2801408767700195,4.412682056427002,7.477639198303223,0.26572442054748535,7.535444259643555,5.079827308654785,7.225133895874023,1.6369701623916626,4.345808029174805,3.547154664993286,2.4982643127441406,1.7665338516235352,2.265078067779541,0.6707744598388672,3.1913487911224365,4.504539489746094,3.896477460861206,7.482579708099365,5.26531982421875,3.4713871479034424,7.502592086791992,0.8246681690216064,-1.6239347457885742,0.4760410785675049,4.025058746337891,-0.12215209007263184,3.673923969268799,1.5113171339035034,9.561729431152344,-0.3584465980529785,4.019838333129883,6.985204219818115,3.5228404998779297,0.39132142066955566,4.026269912719727,-1.1136722564697266,1.065839409828186,2.9582624435424805,-1.5383334159851074,5.631807327270508,-1.0391473770141602,1.7834570407867432,2.0377542972564697,0.5385422706604004,0.9029927253723145,8.362807273864746,3.356886863708496,2.827413558959961,1.2077834606170654,2.4933829307556152,5.593856334686279,4.197457313537598,5.99489688873291,1.690345287322998,5.4620561599731445,2.644925594329834,4.065133094787598,7.29157829284668,10.223978042602539,2.566235303878784,-0.06384444236755371,3.821550130844116,1.8820775747299194,4.78939962387085,2.5706772804260254,3.1897037029266357,-1.303492546081543,2.816074848175049,0.44075965881347656,1.4758996963500977,0.2592277526855469,1.104628324508667,3.791998863220215,1.4413957595825195,2.140322208404541,1.933955192565918,-0.036407470703125,1.2494804859161377,2.245392084121704,5.996610641479492,0.7854962348937988,-1.9986629486083984,9.870055198669434,4.756504058837891,6.6922430992126465,6.330873012542725,0.41261911392211914,4.319355487823486,2.323716163635254,5.489418029785156,-2.315275192260742,-1.0705914497375488,-0.006720066070556641,1.8060089349746704,9.044107437133789,7.756628036499023,2.085780143737793,1.4324896335601807,0.1713259220123291,2.0308666229248047,1.453826904296875,-1.1305341720581055,7.514357566833496,6.325229167938232,0.8238339424133301,3.0080296993255615,2.6239216327667236,4.485594749450684,5.071704387664795,3.26939058303833,4.906826972961426,6.681859493255615,0.39847421646118164,2.8673489093780518,-2.5821638107299805,6.827662944793701,7.4278411865234375,7.019649505615234,-0.5493736267089844,6.016295433044434,2.4594478607177734,4.523009777069092,-0.5362696647644043,-0.4564833641052246,2.772176504135132,4.346851825714111,-3.8053536415100098,1.109809398651123,-0.3523707389831543,8.456754684448242,3.414548635482788,1.6871356964111328,4.230578422546387,6.011879920959473,-2.52254581451416,3.7797579765319824,5.842526435852051,4.9934916496276855,5.610886573791504,4.581298351287842,1.1838364601135254,3.4862136840820312,3.6386165618896484,6.866793155670166,3.590122938156128,6.441504001617432,-2.3445982933044434,2.899844169616699,7.934525966644287,1.5510797500610352,5.0032196044921875,5.441286087036133,0.05104660987854004,1.943372130393982,5.71797513961792,6.992389678955078,0.26874279975891113,4.137181282043457,4.923759937286377,2.5576791763305664,-0.6469779014587402,-0.37888669967651367,4.055174827575684,2.7830376625061035,1.6523289680480957,2.173102378845215,3.4003772735595703,3.957547664642334,0.9021825790405273,3.548290729522705,-0.8089520931243896,7.1311492919921875,4.439215183258057,2.7028985023498535,1.2413272857666016,4.048092842102051,5.287700176239014,-1.24737548828125,5.647073745727539,4.889956474304199,2.6037204265594482,0.19176340103149414,9.877628326416016,3.1452956199645996,3.286202907562256,-0.9999940395355225,1.669778823852539,-2.1022205352783203,1.8322699069976807,1.814744234085083,3.3045742511749268,2.8175997734069824,1.1412988901138306,-2.7433300018310547,1.5350450277328491,2.2814323902130127,1.4400205612182617,2.4108245372772217,1.7482175827026367,1.955442190170288,2.9624016284942627,3.0222971439361572,3.6969051361083984,5.078666687011719,6.110772132873535,0.22768235206604004,1.269853115081787,4.796812057495117,1.6664528846740723,8.106111526489258,1.400026798248291,3.3803770542144775,4.077746391296387,5.462613582611084,5.827625274658203,1.6609857082366943,1.8270186185836792,-0.6105241775512695,3.011270523071289,-1.5808749198913574,5.894339084625244,1.8721506595611572,-0.5365440845489502,5.1394453048706055,1.401505470275879,6.54513692855835,1.390166997909546,3.3032355308532715,4.8748273849487305,8.07821273803711,10.964188575744629,5.699609756469727,2.4881951808929443,5.344510078430176,2.4901504516601562,3.119307041168213,2.4103903770446777,2.878213405609131,0.4123039245605469,1.9685094356536865,6.594816207885742,9.17716121673584,-2.045478343963623,2.4292397499084473,2.152677536010742,8.197187423706055,2.558356523513794,1.390272617340088,1.3770959377288818,5.57454776763916,0.48858070373535156,3.7467477321624756,1.7029746770858765,0.5052666664123535,0.5902252197265625,5.523958683013916,1.7763581275939941,3.9322195053100586,5.581251621246338,2.0899081230163574,1.342321515083313,10.419111251831055,-0.7063572406768799,4.526363372802734,6.476312637329102,-0.2527899742126465,-1.3981146812438965,-0.6398613452911377,1.904897928237915,-1.0292234420776367,0.5096266269683838,0.16907644271850586,3.1303203105926514,-2.141486644744873,8.399396896362305,5.452143669128418,7.901050567626953,3.856825351715088,5.696551322937012,-0.33816003799438477,5.811253547668457,1.514240026473999,2.688357353210449,2.476759195327759,3.1997132301330566,-2.2707419395446777,2.3408608436584473,-3.936892509460449,9.190019607543945,3.158623456954956,6.731129169464111,4.648869514465332,0.6914517879486084,2.509704113006592,-3.6650352478027344,5.725688457489014,2.206434726715088,-0.14129948616027832,2.5909345149993896,4.070555686950684,7.683508396148682,8.180167198181152,1.3496900796890259,3.2298619747161865,4.0234375,1.7749735116958618,-1.3237199783325195,-0.5468301773071289,4.89838981628418,0.43264222145080566,5.143797874450684,3.8146567344665527,3.415302276611328,5.308051109313965,1.3869025707244873,5.422872543334961,3.4404006004333496,5.053206443786621,3.680265426635742,3.875497341156006,5.424603462219238,3.47996187210083,-0.3178274631500244,5.88386869430542,4.27468729019165,-1.8673057556152344,2.2722954750061035,-0.40338635444641113,3.9094009399414062,5.317350387573242,3.9635000228881836,0.7498316764831543,2.060702323913574,-3.137089729309082,2.998006582260132,3.4157450199127197,2.0050859451293945,3.994359016418457,5.820196628570557,3.3586721420288086,5.768072128295898,5.984166145324707,3.9231319427490234,4.370431423187256,3.8350400924682617,4.043488502502441,6.055026531219482,1.681727409362793,5.178315162658691,2.3289759159088135,4.523926258087158,0.786978006362915,0.2615838050842285,6.067612648010254,-0.845916748046875,5.292110443115234,-0.28235912322998047,8.738340377807617,4.340394020080566,6.5654215812683105,10.518502235412598,3.767394781112671,4.035536766052246,1.790822982788086,5.793027877807617,2.22204327583313,1.1879932880401611,3.1448862552642822,0.08976125717163086,5.603170394897461,3.880323648452759,2.4768948554992676,2.897712230682373,2.633826494216919,5.860095500946045,1.2813878059387207,4.579063892364502,6.735713958740234,5.082028388977051,2.2742209434509277,1.8437734842300415,5.309332370758057,-0.041468143463134766,-0.6552700996398926,1.4526135921478271,11.40248966217041,6.983254432678223,1.8624824285507202,9.928535461425781,1.4901185035705566,-3.02408504486084,2.1763596534729004,-2.6069536209106445,8.045955657958984,4.4567646980285645,8.070444107055664,-0.6761641502380371,5.049439430236816,3.345435857772827,7.060209274291992,3.312175989151001,6.940943717956543,1.7018985748291016,4.162612438201904,5.957836151123047,1.7012457847595215,8.297523498535156,9.103923797607422,4.0974884033203125,2.6062252521514893,5.0426249504089355,8.875741004943848,3.0298354625701904,9.436866760253906,2.6305997371673584,0.7009801864624023,4.236122131347656,5.10147762298584,-3.2356410026550293,-4.539883613586426,5.720458030700684,1.5273289680480957,1.5316061973571777,0.7756025791168213,1.4543935060501099,0.9986977577209473,5.8521013259887695,1.6933555603027344,5.100122928619385,6.021871566772461,5.356337547302246,0.6202700138092041,1.8678890466690063,5.316946029663086,0.5289978981018066,7.420735836029053,0.8038485050201416,1.5383000373840332,2.837380886077881,4.0231451988220215,1.445812702178955,4.00505256652832,1.634269118309021,1.6910961866378784,5.830146789550781,3.141165018081665,1.354785442352295,11.326833724975586,1.6076968908309937,5.069690704345703,3.8092219829559326,4.441378593444824,-2.3472118377685547,10.868069648742676,2.7890238761901855,2.867588758468628,4.147702217102051,6.607302665710449,1.3768497705459595,5.860550880432129,-1.0527095794677734,6.932907581329346,3.84940767288208,1.2458621263504028,7.031475067138672,5.208723068237305,1.9974629878997803,0.4441378116607666,6.057774543762207,1.2764947414398193,3.5726583003997803,2.3277971744537354,4.459885597229004,6.59450101852417,0.610926628112793,3.4436259269714355,4.255816459655762,6.592405319213867,0.7242255210876465,0.8782274723052979,7.110791206359863,4.881370544433594,5.873480319976807,6.054305076599121,2.7747933864593506,5.108087539672852,4.347116470336914,4.877481460571289,-1.6103005409240723,1.737134575843811,5.064350128173828,3.600539207458496],\"yaxis\":\"y\",\"type\":\"scatter\"}],                        {\"template\":{\"data\":{\"histogram2dcontour\":[{\"type\":\"histogram2dcontour\",\"colorbar\":{\"outlinewidth\":0,\"ticks\":\"\"},\"colorscale\":[[0.0,\"#0d0887\"],[0.1111111111111111,\"#46039f\"],[0.2222222222222222,\"#7201a8\"],[0.3333333333333333,\"#9c179e\"],[0.4444444444444444,\"#bd3786\"],[0.5555555555555556,\"#d8576b\"],[0.6666666666666666,\"#ed7953\"],[0.7777777777777778,\"#fb9f3a\"],[0.8888888888888888,\"#fdca26\"],[1.0,\"#f0f921\"]]}],\"choropleth\":[{\"type\":\"choropleth\",\"colorbar\":{\"outlinewidth\":0,\"ticks\":\"\"}}],\"histogram2d\":[{\"type\":\"histogram2d\",\"colorbar\":{\"outlinewidth\":0,\"ticks\":\"\"},\"colorscale\":[[0.0,\"#0d0887\"],[0.1111111111111111,\"#46039f\"],[0.2222222222222222,\"#7201a8\"],[0.3333333333333333,\"#9c179e\"],[0.4444444444444444,\"#bd3786\"],[0.5555555555555556,\"#d8576b\"],[0.6666666666666666,\"#ed7953\"],[0.7777777777777778,\"#fb9f3a\"],[0.8888888888888888,\"#fdca26\"],[1.0,\"#f0f921\"]]}],\"heatmap\":[{\"type\":\"heatmap\",\"colorbar\":{\"outlinewidth\":0,\"ticks\":\"\"},\"colorscale\":[[0.0,\"#0d0887\"],[0.1111111111111111,\"#46039f\"],[0.2222222222222222,\"#7201a8\"],[0.3333333333333333,\"#9c179e\"],[0.4444444444444444,\"#bd3786\"],[0.5555555555555556,\"#d8576b\"],[0.6666666666666666,\"#ed7953\"],[0.7777777777777778,\"#fb9f3a\"],[0.8888888888888888,\"#fdca26\"],[1.0,\"#f0f921\"]]}],\"heatmapgl\":[{\"type\":\"heatmapgl\",\"colorbar\":{\"outlinewidth\":0,\"ticks\":\"\"},\"colorscale\":[[0.0,\"#0d0887\"],[0.1111111111111111,\"#46039f\"],[0.2222222222222222,\"#7201a8\"],[0.3333333333333333,\"#9c179e\"],[0.4444444444444444,\"#bd3786\"],[0.5555555555555556,\"#d8576b\"],[0.6666666666666666,\"#ed7953\"],[0.7777777777777778,\"#fb9f3a\"],[0.8888888888888888,\"#fdca26\"],[1.0,\"#f0f921\"]]}],\"contourcarpet\":[{\"type\":\"contourcarpet\",\"colorbar\":{\"outlinewidth\":0,\"ticks\":\"\"}}],\"contour\":[{\"type\":\"contour\",\"colorbar\":{\"outlinewidth\":0,\"ticks\":\"\"},\"colorscale\":[[0.0,\"#0d0887\"],[0.1111111111111111,\"#46039f\"],[0.2222222222222222,\"#7201a8\"],[0.3333333333333333,\"#9c179e\"],[0.4444444444444444,\"#bd3786\"],[0.5555555555555556,\"#d8576b\"],[0.6666666666666666,\"#ed7953\"],[0.7777777777777778,\"#fb9f3a\"],[0.8888888888888888,\"#fdca26\"],[1.0,\"#f0f921\"]]}],\"surface\":[{\"type\":\"surface\",\"colorbar\":{\"outlinewidth\":0,\"ticks\":\"\"},\"colorscale\":[[0.0,\"#0d0887\"],[0.1111111111111111,\"#46039f\"],[0.2222222222222222,\"#7201a8\"],[0.3333333333333333,\"#9c179e\"],[0.4444444444444444,\"#bd3786\"],[0.5555555555555556,\"#d8576b\"],[0.6666666666666666,\"#ed7953\"],[0.7777777777777778,\"#fb9f3a\"],[0.8888888888888888,\"#fdca26\"],[1.0,\"#f0f921\"]]}],\"mesh3d\":[{\"type\":\"mesh3d\",\"colorbar\":{\"outlinewidth\":0,\"ticks\":\"\"}}],\"scatter\":[{\"fillpattern\":{\"fillmode\":\"overlay\",\"size\":10,\"solidity\":0.2},\"type\":\"scatter\"}],\"parcoords\":[{\"type\":\"parcoords\",\"line\":{\"colorbar\":{\"outlinewidth\":0,\"ticks\":\"\"}}}],\"scatterpolargl\":[{\"type\":\"scatterpolargl\",\"marker\":{\"colorbar\":{\"outlinewidth\":0,\"ticks\":\"\"}}}],\"bar\":[{\"error_x\":{\"color\":\"#2a3f5f\"},\"error_y\":{\"color\":\"#2a3f5f\"},\"marker\":{\"line\":{\"color\":\"#E5ECF6\",\"width\":0.5},\"pattern\":{\"fillmode\":\"overlay\",\"size\":10,\"solidity\":0.2}},\"type\":\"bar\"}],\"scattergeo\":[{\"type\":\"scattergeo\",\"marker\":{\"colorbar\":{\"outlinewidth\":0,\"ticks\":\"\"}}}],\"scatterpolar\":[{\"type\":\"scatterpolar\",\"marker\":{\"colorbar\":{\"outlinewidth\":0,\"ticks\":\"\"}}}],\"histogram\":[{\"marker\":{\"pattern\":{\"fillmode\":\"overlay\",\"size\":10,\"solidity\":0.2}},\"type\":\"histogram\"}],\"scattergl\":[{\"type\":\"scattergl\",\"marker\":{\"colorbar\":{\"outlinewidth\":0,\"ticks\":\"\"}}}],\"scatter3d\":[{\"type\":\"scatter3d\",\"line\":{\"colorbar\":{\"outlinewidth\":0,\"ticks\":\"\"}},\"marker\":{\"colorbar\":{\"outlinewidth\":0,\"ticks\":\"\"}}}],\"scattermapbox\":[{\"type\":\"scattermapbox\",\"marker\":{\"colorbar\":{\"outlinewidth\":0,\"ticks\":\"\"}}}],\"scatterternary\":[{\"type\":\"scatterternary\",\"marker\":{\"colorbar\":{\"outlinewidth\":0,\"ticks\":\"\"}}}],\"scattercarpet\":[{\"type\":\"scattercarpet\",\"marker\":{\"colorbar\":{\"outlinewidth\":0,\"ticks\":\"\"}}}],\"carpet\":[{\"aaxis\":{\"endlinecolor\":\"#2a3f5f\",\"gridcolor\":\"white\",\"linecolor\":\"white\",\"minorgridcolor\":\"white\",\"startlinecolor\":\"#2a3f5f\"},\"baxis\":{\"endlinecolor\":\"#2a3f5f\",\"gridcolor\":\"white\",\"linecolor\":\"white\",\"minorgridcolor\":\"white\",\"startlinecolor\":\"#2a3f5f\"},\"type\":\"carpet\"}],\"table\":[{\"cells\":{\"fill\":{\"color\":\"#EBF0F8\"},\"line\":{\"color\":\"white\"}},\"header\":{\"fill\":{\"color\":\"#C8D4E3\"},\"line\":{\"color\":\"white\"}},\"type\":\"table\"}],\"barpolar\":[{\"marker\":{\"line\":{\"color\":\"#E5ECF6\",\"width\":0.5},\"pattern\":{\"fillmode\":\"overlay\",\"size\":10,\"solidity\":0.2}},\"type\":\"barpolar\"}],\"pie\":[{\"automargin\":true,\"type\":\"pie\"}]},\"layout\":{\"autotypenumbers\":\"strict\",\"colorway\":[\"#636efa\",\"#EF553B\",\"#00cc96\",\"#ab63fa\",\"#FFA15A\",\"#19d3f3\",\"#FF6692\",\"#B6E880\",\"#FF97FF\",\"#FECB52\"],\"font\":{\"color\":\"#2a3f5f\"},\"hovermode\":\"closest\",\"hoverlabel\":{\"align\":\"left\"},\"paper_bgcolor\":\"white\",\"plot_bgcolor\":\"#E5ECF6\",\"polar\":{\"bgcolor\":\"#E5ECF6\",\"angularaxis\":{\"gridcolor\":\"white\",\"linecolor\":\"white\",\"ticks\":\"\"},\"radialaxis\":{\"gridcolor\":\"white\",\"linecolor\":\"white\",\"ticks\":\"\"}},\"ternary\":{\"bgcolor\":\"#E5ECF6\",\"aaxis\":{\"gridcolor\":\"white\",\"linecolor\":\"white\",\"ticks\":\"\"},\"baxis\":{\"gridcolor\":\"white\",\"linecolor\":\"white\",\"ticks\":\"\"},\"caxis\":{\"gridcolor\":\"white\",\"linecolor\":\"white\",\"ticks\":\"\"}},\"coloraxis\":{\"colorbar\":{\"outlinewidth\":0,\"ticks\":\"\"}},\"colorscale\":{\"sequential\":[[0.0,\"#0d0887\"],[0.1111111111111111,\"#46039f\"],[0.2222222222222222,\"#7201a8\"],[0.3333333333333333,\"#9c179e\"],[0.4444444444444444,\"#bd3786\"],[0.5555555555555556,\"#d8576b\"],[0.6666666666666666,\"#ed7953\"],[0.7777777777777778,\"#fb9f3a\"],[0.8888888888888888,\"#fdca26\"],[1.0,\"#f0f921\"]],\"sequentialminus\":[[0.0,\"#0d0887\"],[0.1111111111111111,\"#46039f\"],[0.2222222222222222,\"#7201a8\"],[0.3333333333333333,\"#9c179e\"],[0.4444444444444444,\"#bd3786\"],[0.5555555555555556,\"#d8576b\"],[0.6666666666666666,\"#ed7953\"],[0.7777777777777778,\"#fb9f3a\"],[0.8888888888888888,\"#fdca26\"],[1.0,\"#f0f921\"]],\"diverging\":[[0,\"#8e0152\"],[0.1,\"#c51b7d\"],[0.2,\"#de77ae\"],[0.3,\"#f1b6da\"],[0.4,\"#fde0ef\"],[0.5,\"#f7f7f7\"],[0.6,\"#e6f5d0\"],[0.7,\"#b8e186\"],[0.8,\"#7fbc41\"],[0.9,\"#4d9221\"],[1,\"#276419\"]]},\"xaxis\":{\"gridcolor\":\"white\",\"linecolor\":\"white\",\"ticks\":\"\",\"title\":{\"standoff\":15},\"zerolinecolor\":\"white\",\"automargin\":true,\"zerolinewidth\":2},\"yaxis\":{\"gridcolor\":\"white\",\"linecolor\":\"white\",\"ticks\":\"\",\"title\":{\"standoff\":15},\"zerolinecolor\":\"white\",\"automargin\":true,\"zerolinewidth\":2},\"scene\":{\"xaxis\":{\"backgroundcolor\":\"#E5ECF6\",\"gridcolor\":\"white\",\"linecolor\":\"white\",\"showbackground\":true,\"ticks\":\"\",\"zerolinecolor\":\"white\",\"gridwidth\":2},\"yaxis\":{\"backgroundcolor\":\"#E5ECF6\",\"gridcolor\":\"white\",\"linecolor\":\"white\",\"showbackground\":true,\"ticks\":\"\",\"zerolinecolor\":\"white\",\"gridwidth\":2},\"zaxis\":{\"backgroundcolor\":\"#E5ECF6\",\"gridcolor\":\"white\",\"linecolor\":\"white\",\"showbackground\":true,\"ticks\":\"\",\"zerolinecolor\":\"white\",\"gridwidth\":2}},\"shapedefaults\":{\"line\":{\"color\":\"#2a3f5f\"}},\"annotationdefaults\":{\"arrowcolor\":\"#2a3f5f\",\"arrowhead\":0,\"arrowwidth\":1},\"geo\":{\"bgcolor\":\"white\",\"landcolor\":\"#E5ECF6\",\"subunitcolor\":\"white\",\"showland\":true,\"showlakes\":true,\"lakecolor\":\"white\"},\"title\":{\"x\":0.05},\"mapbox\":{\"style\":\"light\"}}},\"xaxis\":{\"anchor\":\"y\",\"domain\":[0.0,1.0],\"title\":{\"text\":\"x\"}},\"yaxis\":{\"anchor\":\"x\",\"domain\":[0.0,1.0],\"title\":{\"text\":\"y\"}},\"legend\":{\"tracegroupgap\":0},\"margin\":{\"t\":60}},                        {\"responsive\": true}                    ).then(function(){\n",
       "                            \n",
       "var gd = document.getElementById('72253a34-752e-4abb-bd9b-0723ae08b5cd');\n",
       "var x = new MutationObserver(function (mutations, observer) {{\n",
       "        var display = window.getComputedStyle(gd).display;\n",
       "        if (!display || display === 'none') {{\n",
       "            console.log([gd, 'removed!']);\n",
       "            Plotly.purge(gd);\n",
       "            observer.disconnect();\n",
       "        }}\n",
       "}});\n",
       "\n",
       "// Listen for the removal of the full notebook cells\n",
       "var notebookContainer = gd.closest('#notebook-container');\n",
       "if (notebookContainer) {{\n",
       "    x.observe(notebookContainer, {childList: true});\n",
       "}}\n",
       "\n",
       "// Listen for the clearing of the current output cell\n",
       "var outputEl = gd.closest('.output');\n",
       "if (outputEl) {{\n",
       "    x.observe(outputEl, {childList: true});\n",
       "}}\n",
       "\n",
       "                        })                };                });            </script>        </div>"
      ]
     },
     "metadata": {},
     "output_type": "display_data"
    }
   ],
   "source": [
    "# Make up some data\n",
    "a0=3\n",
    "a1=3\n",
    "\n",
    "n_obs=1000\n",
    "x_important = torch.randn(n_obs)\n",
    "xs=torch.concat([x_important[:,None], torch.randn(n_obs,9)],axis=1)\n",
    "ys=a0+a1*x_important\n",
    "ys=ys[:, None]\n",
    "px.scatter(x=x_important, y=ys[:, 0])"
   ]
  },
  {
   "cell_type": "code",
   "execution_count": null,
   "id": "869ab457",
   "metadata": {},
   "outputs": [
    {
     "data": {
      "image/png": "[encoded data removed]",
      "text/plain": [
       "<Figure size 640x480 with 1 Axes>"
      ]
     },
     "metadata": {},
     "output_type": "display_data"
    }
   ],
   "source": [
    "bs = 10\n",
    "train_dl = DataLoader(simpleDS(xs, ys), batch_size = bs, shuffle = True)\n",
    "valid_dl = DataLoader(simpleDS(xs, ys), batch_size = bs, shuffle = True)\n",
    "dls = DataLoaders(train_dl, valid_dl, device=def_device)\n",
    "model=nn.Sequential(*[nn.Linear(10,1)])\n",
    "cbs = [DeviceCB()]\n",
    "learn = MomentumLearner(model, dls, F.mse_loss, lr=1e-5, cbs=cbs)\n",
    "learn.fit(1, cbs=LRFinderCB())"
   ]
  },
  {
   "cell_type": "code",
   "execution_count": null,
   "id": "b0b074b9",
   "metadata": {},
   "outputs": [
    {
     "data": {
      "text/plain": [
       "[('0.weight',\n",
       "  Parameter containing:\n",
       "  tensor([[ 3.0000e+00,  1.3226e-06, -2.5991e-06,  1.0460e-06, -2.6241e-06,\n",
       "           -4.4876e-07,  8.7803e-07,  8.3817e-07,  7.5352e-07,  3.1135e-06]],\n",
       "         device='cuda:0', requires_grad=True)),\n",
       " ('0.bias',\n",
       "  Parameter containing:\n",
       "  tensor([3.0000], device='cuda:0', requires_grad=True))]"
      ]
     },
     "execution_count": null,
     "metadata": {},
     "output_type": "execute_result"
    }
   ],
   "source": [
    "learn = MomentumLearner(model, dls, F.mse_loss, lr=0.002, cbs=[DeviceCB(), \n",
    "#                                                                metrics\n",
    "#                                                                , ProgressCB(plot=True)\n",
    "                                                              ]\n",
    "                       )\n",
    "learn.fit(5)\n",
    "\n",
    "weight_bias_list=[(name, param) for name, param in model.named_parameters()]\n",
    "weight_bias_list"
   ]
  },
  {
   "cell_type": "code",
   "execution_count": null,
   "id": "29aa69f1",
   "metadata": {},
   "outputs": [
    {
     "data": {
      "application/vnd.plotly.v1+json": {
       "config": {
        "plotlyServerURL": "https://plot.ly"
       },
       "data": [
        {
         "coloraxis": "coloraxis",
         "hovertemplate": "x: %{x}<br>y: %{y}<br>color: %{z}<extra></extra>",
         "name": "0",
         "type": "heatmap",
         "xaxis": "x",
         "yaxis": "y",
         "z": [
          [
           2.9999961853027344,
           1.3226269857113948e-06,
           -2.599125082269893e-06,
           1.0460132671141764e-06,
           -2.624106627990841e-06,
           -4.487644957862358e-07,
           8.780288567322714e-07,
           8.381661587009148e-07,
           7.535165309491276e-07,
           3.113504362772801e-06
          ]
         ]
        }
       ],
       "layout": {
        "coloraxis": {
         "colorscale": [
          [
           0,
           "#0d0887"
          ],
          [
           0.1111111111111111,
           "#46039f"
          ],
          [
           0.2222222222222222,
           "#7201a8"
          ],
          [
           0.3333333333333333,
           "#9c179e"
          ],
          [
           0.4444444444444444,
           "#bd3786"
          ],
          [
           0.5555555555555556,
           "#d8576b"
          ],
          [
           0.6666666666666666,
           "#ed7953"
          ],
          [
           0.7777777777777778,
           "#fb9f3a"
          ],
          [
           0.8888888888888888,
           "#fdca26"
          ],
          [
           1,
           "#f0f921"
          ]
         ]
        },
        "margin": {
         "t": 60
        },
        "template": {
         "data": {
          "bar": [
           {
            "error_x": {
             "color": "#2a3f5f"
            },
            "error_y": {
             "color": "#2a3f5f"
            },
            "marker": {
             "line": {
              "color": "#E5ECF6",
              "width": 0.5
             },
             "pattern": {
              "fillmode": "overlay",
              "size": 10,
              "solidity": 0.2
             }
            },
            "type": "bar"
           }
          ],
          "barpolar": [
           {
            "marker": {
             "line": {
              "color": "#E5ECF6",
              "width": 0.5
             },
             "pattern": {
              "fillmode": "overlay",
              "size": 10,
              "solidity": 0.2
             }
            },
            "type": "barpolar"
           }
          ],
          "carpet": [
           {
            "aaxis": {
             "endlinecolor": "#2a3f5f",
             "gridcolor": "white",
             "linecolor": "white",
             "minorgridcolor": "white",
             "startlinecolor": "#2a3f5f"
            },
            "baxis": {
             "endlinecolor": "#2a3f5f",
             "gridcolor": "white",
             "linecolor": "white",
             "minorgridcolor": "white",
             "startlinecolor": "#2a3f5f"
            },
            "type": "carpet"
           }
          ],
          "choropleth": [
           {
            "colorbar": {
             "outlinewidth": 0,
             "ticks": ""
            },
            "type": "choropleth"
           }
          ],
          "contour": [
           {
            "colorbar": {
             "outlinewidth": 0,
             "ticks": ""
            },
            "colorscale": [
             [
              0,
              "#0d0887"
             ],
             [
              0.1111111111111111,
              "#46039f"
             ],
             [
              0.2222222222222222,
              "#7201a8"
             ],
             [
              0.3333333333333333,
              "#9c179e"
             ],
             [
              0.4444444444444444,
              "#bd3786"
             ],
             [
              0.5555555555555556,
              "#d8576b"
             ],
             [
              0.6666666666666666,
              "#ed7953"
             ],
             [
              0.7777777777777778,
              "#fb9f3a"
             ],
             [
              0.8888888888888888,
              "#fdca26"
             ],
             [
              1,
              "#f0f921"
             ]
            ],
            "type": "contour"
           }
          ],
          "contourcarpet": [
           {
            "colorbar": {
             "outlinewidth": 0,
             "ticks": ""
            },
            "type": "contourcarpet"
           }
          ],
          "heatmap": [
           {
            "colorbar": {
             "outlinewidth": 0,
             "ticks": ""
            },
            "colorscale": [
             [
              0,
              "#0d0887"
             ],
             [
              0.1111111111111111,
              "#46039f"
             ],
             [
              0.2222222222222222,
              "#7201a8"
             ],
             [
              0.3333333333333333,
              "#9c179e"
             ],
             [
              0.4444444444444444,
              "#bd3786"
             ],
             [
              0.5555555555555556,
              "#d8576b"
             ],
             [
              0.6666666666666666,
              "#ed7953"
             ],
             [
              0.7777777777777778,
              "#fb9f3a"
             ],
             [
              0.8888888888888888,
              "#fdca26"
             ],
             [
              1,
              "#f0f921"
             ]
            ],
            "type": "heatmap"
           }
          ],
          "heatmapgl": [
           {
            "colorbar": {
             "outlinewidth": 0,
             "ticks": ""
            },
            "colorscale": [
             [
              0,
              "#0d0887"
             ],
             [
              0.1111111111111111,
              "#46039f"
             ],
             [
              0.2222222222222222,
              "#7201a8"
             ],
             [
              0.3333333333333333,
              "#9c179e"
             ],
             [
              0.4444444444444444,
              "#bd3786"
             ],
             [
              0.5555555555555556,
              "#d8576b"
             ],
             [
              0.6666666666666666,
              "#ed7953"
             ],
             [
              0.7777777777777778,
              "#fb9f3a"
             ],
             [
              0.8888888888888888,
              "#fdca26"
             ],
             [
              1,
              "#f0f921"
             ]
            ],
            "type": "heatmapgl"
           }
          ],
          "histogram": [
           {
            "marker": {
             "pattern": {
              "fillmode": "overlay",
              "size": 10,
              "solidity": 0.2
             }
            },
            "type": "histogram"
           }
          ],
          "histogram2d": [
           {
            "colorbar": {
             "outlinewidth": 0,
             "ticks": ""
            },
            "colorscale": [
             [
              0,
              "#0d0887"
             ],
             [
              0.1111111111111111,
              "#46039f"
             ],
             [
              0.2222222222222222,
              "#7201a8"
             ],
             [
              0.3333333333333333,
              "#9c179e"
             ],
             [
              0.4444444444444444,
              "#bd3786"
             ],
             [
              0.5555555555555556,
              "#d8576b"
             ],
             [
              0.6666666666666666,
              "#ed7953"
             ],
             [
              0.7777777777777778,
              "#fb9f3a"
             ],
             [
              0.8888888888888888,
              "#fdca26"
             ],
             [
              1,
              "#f0f921"
             ]
            ],
            "type": "histogram2d"
           }
          ],
          "histogram2dcontour": [
           {
            "colorbar": {
             "outlinewidth": 0,
             "ticks": ""
            },
            "colorscale": [
             [
              0,
              "#0d0887"
             ],
             [
              0.1111111111111111,
              "#46039f"
             ],
             [
              0.2222222222222222,
              "#7201a8"
             ],
             [
              0.3333333333333333,
              "#9c179e"
             ],
             [
              0.4444444444444444,
              "#bd3786"
             ],
             [
              0.5555555555555556,
              "#d8576b"
             ],
             [
              0.6666666666666666,
              "#ed7953"
             ],
             [
              0.7777777777777778,
              "#fb9f3a"
             ],
             [
              0.8888888888888888,
              "#fdca26"
             ],
             [
              1,
              "#f0f921"
             ]
            ],
            "type": "histogram2dcontour"
           }
          ],
          "mesh3d": [
           {
            "colorbar": {
             "outlinewidth": 0,
             "ticks": ""
            },
            "type": "mesh3d"
           }
          ],
          "parcoords": [
           {
            "line": {
             "colorbar": {
              "outlinewidth": 0,
              "ticks": ""
             }
            },
            "type": "parcoords"
           }
          ],
          "pie": [
           {
            "automargin": true,
            "type": "pie"
           }
          ],
          "scatter": [
           {
            "fillpattern": {
             "fillmode": "overlay",
             "size": 10,
             "solidity": 0.2
            },
            "type": "scatter"
           }
          ],
          "scatter3d": [
           {
            "line": {
             "colorbar": {
              "outlinewidth": 0,
              "ticks": ""
             }
            },
            "marker": {
             "colorbar": {
              "outlinewidth": 0,
              "ticks": ""
             }
            },
            "type": "scatter3d"
           }
          ],
          "scattercarpet": [
           {
            "marker": {
             "colorbar": {
              "outlinewidth": 0,
              "ticks": ""
             }
            },
            "type": "scattercarpet"
           }
          ],
          "scattergeo": [
           {
            "marker": {
             "colorbar": {
              "outlinewidth": 0,
              "ticks": ""
             }
            },
            "type": "scattergeo"
           }
          ],
          "scattergl": [
           {
            "marker": {
             "colorbar": {
              "outlinewidth": 0,
              "ticks": ""
             }
            },
            "type": "scattergl"
           }
          ],
          "scattermapbox": [
           {
            "marker": {
             "colorbar": {
              "outlinewidth": 0,
              "ticks": ""
             }
            },
            "type": "scattermapbox"
           }
          ],
          "scatterpolar": [
           {
            "marker": {
             "colorbar": {
              "outlinewidth": 0,
              "ticks": ""
             }
            },
            "type": "scatterpolar"
           }
          ],
          "scatterpolargl": [
           {
            "marker": {
             "colorbar": {
              "outlinewidth": 0,
              "ticks": ""
             }
            },
            "type": "scatterpolargl"
           }
          ],
          "scatterternary": [
           {
            "marker": {
             "colorbar": {
              "outlinewidth": 0,
              "ticks": ""
             }
            },
            "type": "scatterternary"
           }
          ],
          "surface": [
           {
            "colorbar": {
             "outlinewidth": 0,
             "ticks": ""
            },
            "colorscale": [
             [
              0,
              "#0d0887"
             ],
             [
              0.1111111111111111,
              "#46039f"
             ],
             [
              0.2222222222222222,
              "#7201a8"
             ],
             [
              0.3333333333333333,
              "#9c179e"
             ],
             [
              0.4444444444444444,
              "#bd3786"
             ],
             [
              0.5555555555555556,
              "#d8576b"
             ],
             [
              0.6666666666666666,
              "#ed7953"
             ],
             [
              0.7777777777777778,
              "#fb9f3a"
             ],
             [
              0.8888888888888888,
              "#fdca26"
             ],
             [
              1,
              "#f0f921"
             ]
            ],
            "type": "surface"
           }
          ],
          "table": [
           {
            "cells": {
             "fill": {
              "color": "#EBF0F8"
             },
             "line": {
              "color": "white"
             }
            },
            "header": {
             "fill": {
              "color": "#C8D4E3"
             },
             "line": {
              "color": "white"
             }
            },
            "type": "table"
           }
          ]
         },
         "layout": {
          "annotationdefaults": {
           "arrowcolor": "#2a3f5f",
           "arrowhead": 0,
           "arrowwidth": 1
          },
          "autotypenumbers": "strict",
          "coloraxis": {
           "colorbar": {
            "outlinewidth": 0,
            "ticks": ""
           }
          },
          "colorscale": {
           "diverging": [
            [
             0,
             "#8e0152"
            ],
            [
             0.1,
             "#c51b7d"
            ],
            [
             0.2,
             "#de77ae"
            ],
            [
             0.3,
             "#f1b6da"
            ],
            [
             0.4,
             "#fde0ef"
            ],
            [
             0.5,
             "#f7f7f7"
            ],
            [
             0.6,
             "#e6f5d0"
            ],
            [
             0.7,
             "#b8e186"
            ],
            [
             0.8,
             "#7fbc41"
            ],
            [
             0.9,
             "#4d9221"
            ],
            [
             1,
             "#276419"
            ]
           ],
           "sequential": [
            [
             0,
             "#0d0887"
            ],
            [
             0.1111111111111111,
             "#46039f"
            ],
            [
             0.2222222222222222,
             "#7201a8"
            ],
            [
             0.3333333333333333,
             "#9c179e"
            ],
            [
             0.4444444444444444,
             "#bd3786"
            ],
            [
             0.5555555555555556,
             "#d8576b"
            ],
            [
             0.6666666666666666,
             "#ed7953"
            ],
            [
             0.7777777777777778,
             "#fb9f3a"
            ],
            [
             0.8888888888888888,
             "#fdca26"
            ],
            [
             1,
             "#f0f921"
            ]
           ],
           "sequentialminus": [
            [
             0,
             "#0d0887"
            ],
            [
             0.1111111111111111,
             "#46039f"
            ],
            [
             0.2222222222222222,
             "#7201a8"
            ],
            [
             0.3333333333333333,
             "#9c179e"
            ],
            [
             0.4444444444444444,
             "#bd3786"
            ],
            [
             0.5555555555555556,
             "#d8576b"
            ],
            [
             0.6666666666666666,
             "#ed7953"
            ],
            [
             0.7777777777777778,
             "#fb9f3a"
            ],
            [
             0.8888888888888888,
             "#fdca26"
            ],
            [
             1,
             "#f0f921"
            ]
           ]
          },
          "colorway": [
           "#636efa",
           "#EF553B",
           "#00cc96",
           "#ab63fa",
           "#FFA15A",
           "#19d3f3",
           "#FF6692",
           "#B6E880",
           "#FF97FF",
           "#FECB52"
          ],
          "font": {
           "color": "#2a3f5f"
          },
          "geo": {
           "bgcolor": "white",
           "lakecolor": "white",
           "landcolor": "#E5ECF6",
           "showlakes": true,
           "showland": true,
           "subunitcolor": "white"
          },
          "hoverlabel": {
           "align": "left"
          },
          "hovermode": "closest",
          "mapbox": {
           "style": "light"
          },
          "paper_bgcolor": "white",
          "plot_bgcolor": "#E5ECF6",
          "polar": {
           "angularaxis": {
            "gridcolor": "white",
            "linecolor": "white",
            "ticks": ""
           },
           "bgcolor": "#E5ECF6",
           "radialaxis": {
            "gridcolor": "white",
            "linecolor": "white",
            "ticks": ""
           }
          },
          "scene": {
           "xaxis": {
            "backgroundcolor": "#E5ECF6",
            "gridcolor": "white",
            "gridwidth": 2,
            "linecolor": "white",
            "showbackground": true,
            "ticks": "",
            "zerolinecolor": "white"
           },
           "yaxis": {
            "backgroundcolor": "#E5ECF6",
            "gridcolor": "white",
            "gridwidth": 2,
            "linecolor": "white",
            "showbackground": true,
            "ticks": "",
            "zerolinecolor": "white"
           },
           "zaxis": {
            "backgroundcolor": "#E5ECF6",
            "gridcolor": "white",
            "gridwidth": 2,
            "linecolor": "white",
            "showbackground": true,
            "ticks": "",
            "zerolinecolor": "white"
           }
          },
          "shapedefaults": {
           "line": {
            "color": "#2a3f5f"
           }
          },
          "ternary": {
           "aaxis": {
            "gridcolor": "white",
            "linecolor": "white",
            "ticks": ""
           },
           "baxis": {
            "gridcolor": "white",
            "linecolor": "white",
            "ticks": ""
           },
           "bgcolor": "#E5ECF6",
           "caxis": {
            "gridcolor": "white",
            "linecolor": "white",
            "ticks": ""
           }
          },
          "title": {
           "x": 0.05
          },
          "xaxis": {
           "automargin": true,
           "gridcolor": "white",
           "linecolor": "white",
           "ticks": "",
           "title": {
            "standoff": 15
           },
           "zerolinecolor": "white",
           "zerolinewidth": 2
          },
          "yaxis": {
           "automargin": true,
           "gridcolor": "white",
           "linecolor": "white",
           "ticks": "",
           "title": {
            "standoff": 15
           },
           "zerolinecolor": "white",
           "zerolinewidth": 2
          }
         }
        },
        "xaxis": {
         "anchor": "y",
         "constrain": "domain",
         "domain": [
          0,
          1
         ],
         "scaleanchor": "y"
        },
        "yaxis": {
         "anchor": "x",
         "autorange": "reversed",
         "constrain": "domain",
         "domain": [
          0,
          1
         ]
        }
       }
      },
      "text/html": [
       "<div>                            <div id=\"8a16671f-1f31-4e02-82a5-4aab649b8cc9\" class=\"plotly-graph-div\" style=\"height:525px; width:100%;\"></div>            <script type=\"text/javascript\">                require([\"plotly\"], function(Plotly) {                    window.PLOTLYENV=window.PLOTLYENV || {};                                    if (document.getElementById(\"8a16671f-1f31-4e02-82a5-4aab649b8cc9\")) {                    Plotly.newPlot(                        \"8a16671f-1f31-4e02-82a5-4aab649b8cc9\",                        [{\"coloraxis\":\"coloraxis\",\"name\":\"0\",\"z\":[[2.9999961853027344,1.3226269857113948e-06,-2.599125082269893e-06,1.0460132671141764e-06,-2.624106627990841e-06,-4.487644957862358e-07,8.780288567322714e-07,8.381661587009148e-07,7.535165309491276e-07,3.113504362772801e-06]],\"type\":\"heatmap\",\"xaxis\":\"x\",\"yaxis\":\"y\",\"hovertemplate\":\"x: %{x}<br>y: %{y}<br>color: %{z}<extra></extra>\"}],                        {\"template\":{\"data\":{\"histogram2dcontour\":[{\"type\":\"histogram2dcontour\",\"colorbar\":{\"outlinewidth\":0,\"ticks\":\"\"},\"colorscale\":[[0.0,\"#0d0887\"],[0.1111111111111111,\"#46039f\"],[0.2222222222222222,\"#7201a8\"],[0.3333333333333333,\"#9c179e\"],[0.4444444444444444,\"#bd3786\"],[0.5555555555555556,\"#d8576b\"],[0.6666666666666666,\"#ed7953\"],[0.7777777777777778,\"#fb9f3a\"],[0.8888888888888888,\"#fdca26\"],[1.0,\"#f0f921\"]]}],\"choropleth\":[{\"type\":\"choropleth\",\"colorbar\":{\"outlinewidth\":0,\"ticks\":\"\"}}],\"histogram2d\":[{\"type\":\"histogram2d\",\"colorbar\":{\"outlinewidth\":0,\"ticks\":\"\"},\"colorscale\":[[0.0,\"#0d0887\"],[0.1111111111111111,\"#46039f\"],[0.2222222222222222,\"#7201a8\"],[0.3333333333333333,\"#9c179e\"],[0.4444444444444444,\"#bd3786\"],[0.5555555555555556,\"#d8576b\"],[0.6666666666666666,\"#ed7953\"],[0.7777777777777778,\"#fb9f3a\"],[0.8888888888888888,\"#fdca26\"],[1.0,\"#f0f921\"]]}],\"heatmap\":[{\"type\":\"heatmap\",\"colorbar\":{\"outlinewidth\":0,\"ticks\":\"\"},\"colorscale\":[[0.0,\"#0d0887\"],[0.1111111111111111,\"#46039f\"],[0.2222222222222222,\"#7201a8\"],[0.3333333333333333,\"#9c179e\"],[0.4444444444444444,\"#bd3786\"],[0.5555555555555556,\"#d8576b\"],[0.6666666666666666,\"#ed7953\"],[0.7777777777777778,\"#fb9f3a\"],[0.8888888888888888,\"#fdca26\"],[1.0,\"#f0f921\"]]}],\"heatmapgl\":[{\"type\":\"heatmapgl\",\"colorbar\":{\"outlinewidth\":0,\"ticks\":\"\"},\"colorscale\":[[0.0,\"#0d0887\"],[0.1111111111111111,\"#46039f\"],[0.2222222222222222,\"#7201a8\"],[0.3333333333333333,\"#9c179e\"],[0.4444444444444444,\"#bd3786\"],[0.5555555555555556,\"#d8576b\"],[0.6666666666666666,\"#ed7953\"],[0.7777777777777778,\"#fb9f3a\"],[0.8888888888888888,\"#fdca26\"],[1.0,\"#f0f921\"]]}],\"contourcarpet\":[{\"type\":\"contourcarpet\",\"colorbar\":{\"outlinewidth\":0,\"ticks\":\"\"}}],\"contour\":[{\"type\":\"contour\",\"colorbar\":{\"outlinewidth\":0,\"ticks\":\"\"},\"colorscale\":[[0.0,\"#0d0887\"],[0.1111111111111111,\"#46039f\"],[0.2222222222222222,\"#7201a8\"],[0.3333333333333333,\"#9c179e\"],[0.4444444444444444,\"#bd3786\"],[0.5555555555555556,\"#d8576b\"],[0.6666666666666666,\"#ed7953\"],[0.7777777777777778,\"#fb9f3a\"],[0.8888888888888888,\"#fdca26\"],[1.0,\"#f0f921\"]]}],\"surface\":[{\"type\":\"surface\",\"colorbar\":{\"outlinewidth\":0,\"ticks\":\"\"},\"colorscale\":[[0.0,\"#0d0887\"],[0.1111111111111111,\"#46039f\"],[0.2222222222222222,\"#7201a8\"],[0.3333333333333333,\"#9c179e\"],[0.4444444444444444,\"#bd3786\"],[0.5555555555555556,\"#d8576b\"],[0.6666666666666666,\"#ed7953\"],[0.7777777777777778,\"#fb9f3a\"],[0.8888888888888888,\"#fdca26\"],[1.0,\"#f0f921\"]]}],\"mesh3d\":[{\"type\":\"mesh3d\",\"colorbar\":{\"outlinewidth\":0,\"ticks\":\"\"}}],\"scatter\":[{\"fillpattern\":{\"fillmode\":\"overlay\",\"size\":10,\"solidity\":0.2},\"type\":\"scatter\"}],\"parcoords\":[{\"type\":\"parcoords\",\"line\":{\"colorbar\":{\"outlinewidth\":0,\"ticks\":\"\"}}}],\"scatterpolargl\":[{\"type\":\"scatterpolargl\",\"marker\":{\"colorbar\":{\"outlinewidth\":0,\"ticks\":\"\"}}}],\"bar\":[{\"error_x\":{\"color\":\"#2a3f5f\"},\"error_y\":{\"color\":\"#2a3f5f\"},\"marker\":{\"line\":{\"color\":\"#E5ECF6\",\"width\":0.5},\"pattern\":{\"fillmode\":\"overlay\",\"size\":10,\"solidity\":0.2}},\"type\":\"bar\"}],\"scattergeo\":[{\"type\":\"scattergeo\",\"marker\":{\"colorbar\":{\"outlinewidth\":0,\"ticks\":\"\"}}}],\"scatterpolar\":[{\"type\":\"scatterpolar\",\"marker\":{\"colorbar\":{\"outlinewidth\":0,\"ticks\":\"\"}}}],\"histogram\":[{\"marker\":{\"pattern\":{\"fillmode\":\"overlay\",\"size\":10,\"solidity\":0.2}},\"type\":\"histogram\"}],\"scattergl\":[{\"type\":\"scattergl\",\"marker\":{\"colorbar\":{\"outlinewidth\":0,\"ticks\":\"\"}}}],\"scatter3d\":[{\"type\":\"scatter3d\",\"line\":{\"colorbar\":{\"outlinewidth\":0,\"ticks\":\"\"}},\"marker\":{\"colorbar\":{\"outlinewidth\":0,\"ticks\":\"\"}}}],\"scattermapbox\":[{\"type\":\"scattermapbox\",\"marker\":{\"colorbar\":{\"outlinewidth\":0,\"ticks\":\"\"}}}],\"scatterternary\":[{\"type\":\"scatterternary\",\"marker\":{\"colorbar\":{\"outlinewidth\":0,\"ticks\":\"\"}}}],\"scattercarpet\":[{\"type\":\"scattercarpet\",\"marker\":{\"colorbar\":{\"outlinewidth\":0,\"ticks\":\"\"}}}],\"carpet\":[{\"aaxis\":{\"endlinecolor\":\"#2a3f5f\",\"gridcolor\":\"white\",\"linecolor\":\"white\",\"minorgridcolor\":\"white\",\"startlinecolor\":\"#2a3f5f\"},\"baxis\":{\"endlinecolor\":\"#2a3f5f\",\"gridcolor\":\"white\",\"linecolor\":\"white\",\"minorgridcolor\":\"white\",\"startlinecolor\":\"#2a3f5f\"},\"type\":\"carpet\"}],\"table\":[{\"cells\":{\"fill\":{\"color\":\"#EBF0F8\"},\"line\":{\"color\":\"white\"}},\"header\":{\"fill\":{\"color\":\"#C8D4E3\"},\"line\":{\"color\":\"white\"}},\"type\":\"table\"}],\"barpolar\":[{\"marker\":{\"line\":{\"color\":\"#E5ECF6\",\"width\":0.5},\"pattern\":{\"fillmode\":\"overlay\",\"size\":10,\"solidity\":0.2}},\"type\":\"barpolar\"}],\"pie\":[{\"automargin\":true,\"type\":\"pie\"}]},\"layout\":{\"autotypenumbers\":\"strict\",\"colorway\":[\"#636efa\",\"#EF553B\",\"#00cc96\",\"#ab63fa\",\"#FFA15A\",\"#19d3f3\",\"#FF6692\",\"#B6E880\",\"#FF97FF\",\"#FECB52\"],\"font\":{\"color\":\"#2a3f5f\"},\"hovermode\":\"closest\",\"hoverlabel\":{\"align\":\"left\"},\"paper_bgcolor\":\"white\",\"plot_bgcolor\":\"#E5ECF6\",\"polar\":{\"bgcolor\":\"#E5ECF6\",\"angularaxis\":{\"gridcolor\":\"white\",\"linecolor\":\"white\",\"ticks\":\"\"},\"radialaxis\":{\"gridcolor\":\"white\",\"linecolor\":\"white\",\"ticks\":\"\"}},\"ternary\":{\"bgcolor\":\"#E5ECF6\",\"aaxis\":{\"gridcolor\":\"white\",\"linecolor\":\"white\",\"ticks\":\"\"},\"baxis\":{\"gridcolor\":\"white\",\"linecolor\":\"white\",\"ticks\":\"\"},\"caxis\":{\"gridcolor\":\"white\",\"linecolor\":\"white\",\"ticks\":\"\"}},\"coloraxis\":{\"colorbar\":{\"outlinewidth\":0,\"ticks\":\"\"}},\"colorscale\":{\"sequential\":[[0.0,\"#0d0887\"],[0.1111111111111111,\"#46039f\"],[0.2222222222222222,\"#7201a8\"],[0.3333333333333333,\"#9c179e\"],[0.4444444444444444,\"#bd3786\"],[0.5555555555555556,\"#d8576b\"],[0.6666666666666666,\"#ed7953\"],[0.7777777777777778,\"#fb9f3a\"],[0.8888888888888888,\"#fdca26\"],[1.0,\"#f0f921\"]],\"sequentialminus\":[[0.0,\"#0d0887\"],[0.1111111111111111,\"#46039f\"],[0.2222222222222222,\"#7201a8\"],[0.3333333333333333,\"#9c179e\"],[0.4444444444444444,\"#bd3786\"],[0.5555555555555556,\"#d8576b\"],[0.6666666666666666,\"#ed7953\"],[0.7777777777777778,\"#fb9f3a\"],[0.8888888888888888,\"#fdca26\"],[1.0,\"#f0f921\"]],\"diverging\":[[0,\"#8e0152\"],[0.1,\"#c51b7d\"],[0.2,\"#de77ae\"],[0.3,\"#f1b6da\"],[0.4,\"#fde0ef\"],[0.5,\"#f7f7f7\"],[0.6,\"#e6f5d0\"],[0.7,\"#b8e186\"],[0.8,\"#7fbc41\"],[0.9,\"#4d9221\"],[1,\"#276419\"]]},\"xaxis\":{\"gridcolor\":\"white\",\"linecolor\":\"white\",\"ticks\":\"\",\"title\":{\"standoff\":15},\"zerolinecolor\":\"white\",\"automargin\":true,\"zerolinewidth\":2},\"yaxis\":{\"gridcolor\":\"white\",\"linecolor\":\"white\",\"ticks\":\"\",\"title\":{\"standoff\":15},\"zerolinecolor\":\"white\",\"automargin\":true,\"zerolinewidth\":2},\"scene\":{\"xaxis\":{\"backgroundcolor\":\"#E5ECF6\",\"gridcolor\":\"white\",\"linecolor\":\"white\",\"showbackground\":true,\"ticks\":\"\",\"zerolinecolor\":\"white\",\"gridwidth\":2},\"yaxis\":{\"backgroundcolor\":\"#E5ECF6\",\"gridcolor\":\"white\",\"linecolor\":\"white\",\"showbackground\":true,\"ticks\":\"\",\"zerolinecolor\":\"white\",\"gridwidth\":2},\"zaxis\":{\"backgroundcolor\":\"#E5ECF6\",\"gridcolor\":\"white\",\"linecolor\":\"white\",\"showbackground\":true,\"ticks\":\"\",\"zerolinecolor\":\"white\",\"gridwidth\":2}},\"shapedefaults\":{\"line\":{\"color\":\"#2a3f5f\"}},\"annotationdefaults\":{\"arrowcolor\":\"#2a3f5f\",\"arrowhead\":0,\"arrowwidth\":1},\"geo\":{\"bgcolor\":\"white\",\"landcolor\":\"#E5ECF6\",\"subunitcolor\":\"white\",\"showland\":true,\"showlakes\":true,\"lakecolor\":\"white\"},\"title\":{\"x\":0.05},\"mapbox\":{\"style\":\"light\"}}},\"xaxis\":{\"anchor\":\"y\",\"domain\":[0.0,1.0],\"scaleanchor\":\"y\",\"constrain\":\"domain\"},\"yaxis\":{\"anchor\":\"x\",\"domain\":[0.0,1.0],\"autorange\":\"reversed\",\"constrain\":\"domain\"},\"coloraxis\":{\"colorscale\":[[0.0,\"#0d0887\"],[0.1111111111111111,\"#46039f\"],[0.2222222222222222,\"#7201a8\"],[0.3333333333333333,\"#9c179e\"],[0.4444444444444444,\"#bd3786\"],[0.5555555555555556,\"#d8576b\"],[0.6666666666666666,\"#ed7953\"],[0.7777777777777778,\"#fb9f3a\"],[0.8888888888888888,\"#fdca26\"],[1.0,\"#f0f921\"]]},\"margin\":{\"t\":60}},                        {\"responsive\": true}                    ).then(function(){\n",
       "                            \n",
       "var gd = document.getElementById('8a16671f-1f31-4e02-82a5-4aab649b8cc9');\n",
       "var x = new MutationObserver(function (mutations, observer) {{\n",
       "        var display = window.getComputedStyle(gd).display;\n",
       "        if (!display || display === 'none') {{\n",
       "            console.log([gd, 'removed!']);\n",
       "            Plotly.purge(gd);\n",
       "            observer.disconnect();\n",
       "        }}\n",
       "}});\n",
       "\n",
       "// Listen for the removal of the full notebook cells\n",
       "var notebookContainer = gd.closest('#notebook-container');\n",
       "if (notebookContainer) {{\n",
       "    x.observe(notebookContainer, {childList: true});\n",
       "}}\n",
       "\n",
       "// Listen for the clearing of the current output cell\n",
       "var outputEl = gd.closest('.output');\n",
       "if (outputEl) {{\n",
       "    x.observe(outputEl, {childList: true});\n",
       "}}\n",
       "\n",
       "                        })                };                });            </script>        </div>"
      ]
     },
     "metadata": {},
     "output_type": "display_data"
    }
   ],
   "source": [
    "layer0w=torch.Tensor.numpy(weight_bias_list[0][1].detach().cpu())\n",
    "layer0b=torch.Tensor.numpy(weight_bias_list[1][1].detach().cpu())\n",
    "px.imshow(layer0w)"
   ]
  },
  {
   "cell_type": "code",
   "execution_count": null,
   "id": "439232a2",
   "metadata": {},
   "outputs": [],
   "source": [
    "ig = IntegratedGradients(model)\n",
    "attributions, delta = ig.attribute(xs.to('cuda'), torch.zeros(xs.shape).to('cuda'), target=0, return_convergence_delta=True)"
   ]
  },
  {
   "cell_type": "code",
   "execution_count": null,
   "id": "4c61d2b4",
   "metadata": {},
   "outputs": [
    {
     "data": {
      "application/vnd.plotly.v1+json": {
       "config": {
        "plotlyServerURL": "https://plot.ly"
       },
       "data": [
        {
         "coloraxis": "coloraxis",
         "hovertemplate": "x: %{x}<br>y: %{y}<br>color: %{z}<extra></extra>",
         "name": "0",
         "type": "heatmap",
         "xaxis": "x",
         "yaxis": "y",
         "z": [
          [
           -0.09906281600339639,
           -1.0720862515057268e-06,
           1.1804114562037563e-06,
           -1.1000170827461873e-06,
           1.786003225102124e-07,
           -7.732936832925501e-07,
           -9.568647532995014e-07,
           4.5431697878989507e-07,
           -7.491174739100848e-07,
           2.3490786408391353e-06
          ],
          [
           4.084340028005954,
           -5.582319831122621e-07,
           1.8286845038194337e-07,
           1.8869811143318622e-07,
           -1.5150058051549694e-06,
           9.139020645429337e-08,
           7.121996174561091e-07,
           5.964011746317792e-07,
           -8.047099026327733e-07,
           1.0231988269578212e-06
          ],
          [
           1.3751774527337375,
           2.9600762930067285e-06,
           3.208011519960022e-06,
           2.717568518638465e-07,
           1.5476951179195817e-06,
           -2.3217653175738618e-07,
           1.108552922493873e-06,
           1.6405626619772566e-06,
           -5.987139266332316e-07,
           -6.8243915308832375e-06
          ],
          [
           2.1012593610928434,
           2.4056981447736563e-06,
           2.298968033052207e-06,
           -1.7658019096774495e-07,
           1.1154704988519407e-06,
           2.1361409076572712e-09,
           8.368461334658544e-07,
           -1.0925279529968272e-06,
           2.536540590979341e-07,
           1.9926869155140847e-06
          ],
          [
           -2.218252341581774,
           4.1239387624311956e-07,
           -2.2906674233498573e-06,
           -6.359483326032447e-08,
           -1.6851180880217473e-07,
           4.2267716207673467e-07,
           1.5881047623644542e-07,
           1.3599640118229422e-06,
           -2.4352469871917496e-07,
           -1.16713414875177e-06
          ]
         ]
        }
       ],
       "layout": {
        "coloraxis": {
         "colorscale": [
          [
           0,
           "#0d0887"
          ],
          [
           0.1111111111111111,
           "#46039f"
          ],
          [
           0.2222222222222222,
           "#7201a8"
          ],
          [
           0.3333333333333333,
           "#9c179e"
          ],
          [
           0.4444444444444444,
           "#bd3786"
          ],
          [
           0.5555555555555556,
           "#d8576b"
          ],
          [
           0.6666666666666666,
           "#ed7953"
          ],
          [
           0.7777777777777778,
           "#fb9f3a"
          ],
          [
           0.8888888888888888,
           "#fdca26"
          ],
          [
           1,
           "#f0f921"
          ]
         ]
        },
        "margin": {
         "t": 60
        },
        "template": {
         "data": {
          "bar": [
           {
            "error_x": {
             "color": "#2a3f5f"
            },
            "error_y": {
             "color": "#2a3f5f"
            },
            "marker": {
             "line": {
              "color": "#E5ECF6",
              "width": 0.5
             },
             "pattern": {
              "fillmode": "overlay",
              "size": 10,
              "solidity": 0.2
             }
            },
            "type": "bar"
           }
          ],
          "barpolar": [
           {
            "marker": {
             "line": {
              "color": "#E5ECF6",
              "width": 0.5
             },
             "pattern": {
              "fillmode": "overlay",
              "size": 10,
              "solidity": 0.2
             }
            },
            "type": "barpolar"
           }
          ],
          "carpet": [
           {
            "aaxis": {
             "endlinecolor": "#2a3f5f",
             "gridcolor": "white",
             "linecolor": "white",
             "minorgridcolor": "white",
             "startlinecolor": "#2a3f5f"
            },
            "baxis": {
             "endlinecolor": "#2a3f5f",
             "gridcolor": "white",
             "linecolor": "white",
             "minorgridcolor": "white",
             "startlinecolor": "#2a3f5f"
            },
            "type": "carpet"
           }
          ],
          "choropleth": [
           {
            "colorbar": {
             "outlinewidth": 0,
             "ticks": ""
            },
            "type": "choropleth"
           }
          ],
          "contour": [
           {
            "colorbar": {
             "outlinewidth": 0,
             "ticks": ""
            },
            "colorscale": [
             [
              0,
              "#0d0887"
             ],
             [
              0.1111111111111111,
              "#46039f"
             ],
             [
              0.2222222222222222,
              "#7201a8"
             ],
             [
              0.3333333333333333,
              "#9c179e"
             ],
             [
              0.4444444444444444,
              "#bd3786"
             ],
             [
              0.5555555555555556,
              "#d8576b"
             ],
             [
              0.6666666666666666,
              "#ed7953"
             ],
             [
              0.7777777777777778,
              "#fb9f3a"
             ],
             [
              0.8888888888888888,
              "#fdca26"
             ],
             [
              1,
              "#f0f921"
             ]
            ],
            "type": "contour"
           }
          ],
          "contourcarpet": [
           {
            "colorbar": {
             "outlinewidth": 0,
             "ticks": ""
            },
            "type": "contourcarpet"
           }
          ],
          "heatmap": [
           {
            "colorbar": {
             "outlinewidth": 0,
             "ticks": ""
            },
            "colorscale": [
             [
              0,
              "#0d0887"
             ],
             [
              0.1111111111111111,
              "#46039f"
             ],
             [
              0.2222222222222222,
              "#7201a8"
             ],
             [
              0.3333333333333333,
              "#9c179e"
             ],
             [
              0.4444444444444444,
              "#bd3786"
             ],
             [
              0.5555555555555556,
              "#d8576b"
             ],
             [
              0.6666666666666666,
              "#ed7953"
             ],
             [
              0.7777777777777778,
              "#fb9f3a"
             ],
             [
              0.8888888888888888,
              "#fdca26"
             ],
             [
              1,
              "#f0f921"
             ]
            ],
            "type": "heatmap"
           }
          ],
          "heatmapgl": [
           {
            "colorbar": {
             "outlinewidth": 0,
             "ticks": ""
            },
            "colorscale": [
             [
              0,
              "#0d0887"
             ],
             [
              0.1111111111111111,
              "#46039f"
             ],
             [
              0.2222222222222222,
              "#7201a8"
             ],
             [
              0.3333333333333333,
              "#9c179e"
             ],
             [
              0.4444444444444444,
              "#bd3786"
             ],
             [
              0.5555555555555556,
              "#d8576b"
             ],
             [
              0.6666666666666666,
              "#ed7953"
             ],
             [
              0.7777777777777778,
              "#fb9f3a"
             ],
             [
              0.8888888888888888,
              "#fdca26"
             ],
             [
              1,
              "#f0f921"
             ]
            ],
            "type": "heatmapgl"
           }
          ],
          "histogram": [
           {
            "marker": {
             "pattern": {
              "fillmode": "overlay",
              "size": 10,
              "solidity": 0.2
             }
            },
            "type": "histogram"
           }
          ],
          "histogram2d": [
           {
            "colorbar": {
             "outlinewidth": 0,
             "ticks": ""
            },
            "colorscale": [
             [
              0,
              "#0d0887"
             ],
             [
              0.1111111111111111,
              "#46039f"
             ],
             [
              0.2222222222222222,
              "#7201a8"
             ],
             [
              0.3333333333333333,
              "#9c179e"
             ],
             [
              0.4444444444444444,
              "#bd3786"
             ],
             [
              0.5555555555555556,
              "#d8576b"
             ],
             [
              0.6666666666666666,
              "#ed7953"
             ],
             [
              0.7777777777777778,
              "#fb9f3a"
             ],
             [
              0.8888888888888888,
              "#fdca26"
             ],
             [
              1,
              "#f0f921"
             ]
            ],
            "type": "histogram2d"
           }
          ],
          "histogram2dcontour": [
           {
            "colorbar": {
             "outlinewidth": 0,
             "ticks": ""
            },
            "colorscale": [
             [
              0,
              "#0d0887"
             ],
             [
              0.1111111111111111,
              "#46039f"
             ],
             [
              0.2222222222222222,
              "#7201a8"
             ],
             [
              0.3333333333333333,
              "#9c179e"
             ],
             [
              0.4444444444444444,
              "#bd3786"
             ],
             [
              0.5555555555555556,
              "#d8576b"
             ],
             [
              0.6666666666666666,
              "#ed7953"
             ],
             [
              0.7777777777777778,
              "#fb9f3a"
             ],
             [
              0.8888888888888888,
              "#fdca26"
             ],
             [
              1,
              "#f0f921"
             ]
            ],
            "type": "histogram2dcontour"
           }
          ],
          "mesh3d": [
           {
            "colorbar": {
             "outlinewidth": 0,
             "ticks": ""
            },
            "type": "mesh3d"
           }
          ],
          "parcoords": [
           {
            "line": {
             "colorbar": {
              "outlinewidth": 0,
              "ticks": ""
             }
            },
            "type": "parcoords"
           }
          ],
          "pie": [
           {
            "automargin": true,
            "type": "pie"
           }
          ],
          "scatter": [
           {
            "fillpattern": {
             "fillmode": "overlay",
             "size": 10,
             "solidity": 0.2
            },
            "type": "scatter"
           }
          ],
          "scatter3d": [
           {
            "line": {
             "colorbar": {
              "outlinewidth": 0,
              "ticks": ""
             }
            },
            "marker": {
             "colorbar": {
              "outlinewidth": 0,
              "ticks": ""
             }
            },
            "type": "scatter3d"
           }
          ],
          "scattercarpet": [
           {
            "marker": {
             "colorbar": {
              "outlinewidth": 0,
              "ticks": ""
             }
            },
            "type": "scattercarpet"
           }
          ],
          "scattergeo": [
           {
            "marker": {
             "colorbar": {
              "outlinewidth": 0,
              "ticks": ""
             }
            },
            "type": "scattergeo"
           }
          ],
          "scattergl": [
           {
            "marker": {
             "colorbar": {
              "outlinewidth": 0,
              "ticks": ""
             }
            },
            "type": "scattergl"
           }
          ],
          "scattermapbox": [
           {
            "marker": {
             "colorbar": {
              "outlinewidth": 0,
              "ticks": ""
             }
            },
            "type": "scattermapbox"
           }
          ],
          "scatterpolar": [
           {
            "marker": {
             "colorbar": {
              "outlinewidth": 0,
              "ticks": ""
             }
            },
            "type": "scatterpolar"
           }
          ],
          "scatterpolargl": [
           {
            "marker": {
             "colorbar": {
              "outlinewidth": 0,
              "ticks": ""
             }
            },
            "type": "scatterpolargl"
           }
          ],
          "scatterternary": [
           {
            "marker": {
             "colorbar": {
              "outlinewidth": 0,
              "ticks": ""
             }
            },
            "type": "scatterternary"
           }
          ],
          "surface": [
           {
            "colorbar": {
             "outlinewidth": 0,
             "ticks": ""
            },
            "colorscale": [
             [
              0,
              "#0d0887"
             ],
             [
              0.1111111111111111,
              "#46039f"
             ],
             [
              0.2222222222222222,
              "#7201a8"
             ],
             [
              0.3333333333333333,
              "#9c179e"
             ],
             [
              0.4444444444444444,
              "#bd3786"
             ],
             [
              0.5555555555555556,
              "#d8576b"
             ],
             [
              0.6666666666666666,
              "#ed7953"
             ],
             [
              0.7777777777777778,
              "#fb9f3a"
             ],
             [
              0.8888888888888888,
              "#fdca26"
             ],
             [
              1,
              "#f0f921"
             ]
            ],
            "type": "surface"
           }
          ],
          "table": [
           {
            "cells": {
             "fill": {
              "color": "#EBF0F8"
             },
             "line": {
              "color": "white"
             }
            },
            "header": {
             "fill": {
              "color": "#C8D4E3"
             },
             "line": {
              "color": "white"
             }
            },
            "type": "table"
           }
          ]
         },
         "layout": {
          "annotationdefaults": {
           "arrowcolor": "#2a3f5f",
           "arrowhead": 0,
           "arrowwidth": 1
          },
          "autotypenumbers": "strict",
          "coloraxis": {
           "colorbar": {
            "outlinewidth": 0,
            "ticks": ""
           }
          },
          "colorscale": {
           "diverging": [
            [
             0,
             "#8e0152"
            ],
            [
             0.1,
             "#c51b7d"
            ],
            [
             0.2,
             "#de77ae"
            ],
            [
             0.3,
             "#f1b6da"
            ],
            [
             0.4,
             "#fde0ef"
            ],
            [
             0.5,
             "#f7f7f7"
            ],
            [
             0.6,
             "#e6f5d0"
            ],
            [
             0.7,
             "#b8e186"
            ],
            [
             0.8,
             "#7fbc41"
            ],
            [
             0.9,
             "#4d9221"
            ],
            [
             1,
             "#276419"
            ]
           ],
           "sequential": [
            [
             0,
             "#0d0887"
            ],
            [
             0.1111111111111111,
             "#46039f"
            ],
            [
             0.2222222222222222,
             "#7201a8"
            ],
            [
             0.3333333333333333,
             "#9c179e"
            ],
            [
             0.4444444444444444,
             "#bd3786"
            ],
            [
             0.5555555555555556,
             "#d8576b"
            ],
            [
             0.6666666666666666,
             "#ed7953"
            ],
            [
             0.7777777777777778,
             "#fb9f3a"
            ],
            [
             0.8888888888888888,
             "#fdca26"
            ],
            [
             1,
             "#f0f921"
            ]
           ],
           "sequentialminus": [
            [
             0,
             "#0d0887"
            ],
            [
             0.1111111111111111,
             "#46039f"
            ],
            [
             0.2222222222222222,
             "#7201a8"
            ],
            [
             0.3333333333333333,
             "#9c179e"
            ],
            [
             0.4444444444444444,
             "#bd3786"
            ],
            [
             0.5555555555555556,
             "#d8576b"
            ],
            [
             0.6666666666666666,
             "#ed7953"
            ],
            [
             0.7777777777777778,
             "#fb9f3a"
            ],
            [
             0.8888888888888888,
             "#fdca26"
            ],
            [
             1,
             "#f0f921"
            ]
           ]
          },
          "colorway": [
           "#636efa",
           "#EF553B",
           "#00cc96",
           "#ab63fa",
           "#FFA15A",
           "#19d3f3",
           "#FF6692",
           "#B6E880",
           "#FF97FF",
           "#FECB52"
          ],
          "font": {
           "color": "#2a3f5f"
          },
          "geo": {
           "bgcolor": "white",
           "lakecolor": "white",
           "landcolor": "#E5ECF6",
           "showlakes": true,
           "showland": true,
           "subunitcolor": "white"
          },
          "hoverlabel": {
           "align": "left"
          },
          "hovermode": "closest",
          "mapbox": {
           "style": "light"
          },
          "paper_bgcolor": "white",
          "plot_bgcolor": "#E5ECF6",
          "polar": {
           "angularaxis": {
            "gridcolor": "white",
            "linecolor": "white",
            "ticks": ""
           },
           "bgcolor": "#E5ECF6",
           "radialaxis": {
            "gridcolor": "white",
            "linecolor": "white",
            "ticks": ""
           }
          },
          "scene": {
           "xaxis": {
            "backgroundcolor": "#E5ECF6",
            "gridcolor": "white",
            "gridwidth": 2,
            "linecolor": "white",
            "showbackground": true,
            "ticks": "",
            "zerolinecolor": "white"
           },
           "yaxis": {
            "backgroundcolor": "#E5ECF6",
            "gridcolor": "white",
            "gridwidth": 2,
            "linecolor": "white",
            "showbackground": true,
            "ticks": "",
            "zerolinecolor": "white"
           },
           "zaxis": {
            "backgroundcolor": "#E5ECF6",
            "gridcolor": "white",
            "gridwidth": 2,
            "linecolor": "white",
            "showbackground": true,
            "ticks": "",
            "zerolinecolor": "white"
           }
          },
          "shapedefaults": {
           "line": {
            "color": "#2a3f5f"
           }
          },
          "ternary": {
           "aaxis": {
            "gridcolor": "white",
            "linecolor": "white",
            "ticks": ""
           },
           "baxis": {
            "gridcolor": "white",
            "linecolor": "white",
            "ticks": ""
           },
           "bgcolor": "#E5ECF6",
           "caxis": {
            "gridcolor": "white",
            "linecolor": "white",
            "ticks": ""
           }
          },
          "title": {
           "x": 0.05
          },
          "xaxis": {
           "automargin": true,
           "gridcolor": "white",
           "linecolor": "white",
           "ticks": "",
           "title": {
            "standoff": 15
           },
           "zerolinecolor": "white",
           "zerolinewidth": 2
          },
          "yaxis": {
           "automargin": true,
           "gridcolor": "white",
           "linecolor": "white",
           "ticks": "",
           "title": {
            "standoff": 15
           },
           "zerolinecolor": "white",
           "zerolinewidth": 2
          }
         }
        },
        "xaxis": {
         "anchor": "y",
         "constrain": "domain",
         "domain": [
          0,
          1
         ],
         "scaleanchor": "y"
        },
        "yaxis": {
         "anchor": "x",
         "autorange": "reversed",
         "constrain": "domain",
         "domain": [
          0,
          1
         ]
        }
       }
      },
      "text/html": [
       "<div>                            <div id=\"a947bf5c-31ef-4efd-a6ca-9de4262f6b88\" class=\"plotly-graph-div\" style=\"height:525px; width:100%;\"></div>            <script type=\"text/javascript\">                require([\"plotly\"], function(Plotly) {                    window.PLOTLYENV=window.PLOTLYENV || {};                                    if (document.getElementById(\"a947bf5c-31ef-4efd-a6ca-9de4262f6b88\")) {                    Plotly.newPlot(                        \"a947bf5c-31ef-4efd-a6ca-9de4262f6b88\",                        [{\"coloraxis\":\"coloraxis\",\"name\":\"0\",\"z\":[[-0.09906281600339639,-1.0720862515057268e-06,1.1804114562037563e-06,-1.1000170827461873e-06,1.786003225102124e-07,-7.732936832925501e-07,-9.568647532995014e-07,4.5431697878989507e-07,-7.491174739100848e-07,2.3490786408391353e-06],[4.084340028005954,-5.582319831122621e-07,1.8286845038194337e-07,1.8869811143318622e-07,-1.5150058051549694e-06,9.139020645429337e-08,7.121996174561091e-07,5.964011746317792e-07,-8.047099026327733e-07,1.0231988269578212e-06],[1.3751774527337375,2.9600762930067285e-06,3.208011519960022e-06,2.717568518638465e-07,1.5476951179195817e-06,-2.3217653175738618e-07,1.108552922493873e-06,1.6405626619772566e-06,-5.987139266332316e-07,-6.8243915308832375e-06],[2.1012593610928434,2.4056981447736563e-06,2.298968033052207e-06,-1.7658019096774495e-07,1.1154704988519407e-06,2.1361409076572712e-09,8.368461334658544e-07,-1.0925279529968272e-06,2.536540590979341e-07,1.9926869155140847e-06],[-2.218252341581774,4.1239387624311956e-07,-2.2906674233498573e-06,-6.359483326032447e-08,-1.6851180880217473e-07,4.2267716207673467e-07,1.5881047623644542e-07,1.3599640118229422e-06,-2.4352469871917496e-07,-1.16713414875177e-06]],\"type\":\"heatmap\",\"xaxis\":\"x\",\"yaxis\":\"y\",\"hovertemplate\":\"x: %{x}<br>y: %{y}<br>color: %{z}<extra></extra>\"}],                        {\"template\":{\"data\":{\"histogram2dcontour\":[{\"type\":\"histogram2dcontour\",\"colorbar\":{\"outlinewidth\":0,\"ticks\":\"\"},\"colorscale\":[[0.0,\"#0d0887\"],[0.1111111111111111,\"#46039f\"],[0.2222222222222222,\"#7201a8\"],[0.3333333333333333,\"#9c179e\"],[0.4444444444444444,\"#bd3786\"],[0.5555555555555556,\"#d8576b\"],[0.6666666666666666,\"#ed7953\"],[0.7777777777777778,\"#fb9f3a\"],[0.8888888888888888,\"#fdca26\"],[1.0,\"#f0f921\"]]}],\"choropleth\":[{\"type\":\"choropleth\",\"colorbar\":{\"outlinewidth\":0,\"ticks\":\"\"}}],\"histogram2d\":[{\"type\":\"histogram2d\",\"colorbar\":{\"outlinewidth\":0,\"ticks\":\"\"},\"colorscale\":[[0.0,\"#0d0887\"],[0.1111111111111111,\"#46039f\"],[0.2222222222222222,\"#7201a8\"],[0.3333333333333333,\"#9c179e\"],[0.4444444444444444,\"#bd3786\"],[0.5555555555555556,\"#d8576b\"],[0.6666666666666666,\"#ed7953\"],[0.7777777777777778,\"#fb9f3a\"],[0.8888888888888888,\"#fdca26\"],[1.0,\"#f0f921\"]]}],\"heatmap\":[{\"type\":\"heatmap\",\"colorbar\":{\"outlinewidth\":0,\"ticks\":\"\"},\"colorscale\":[[0.0,\"#0d0887\"],[0.1111111111111111,\"#46039f\"],[0.2222222222222222,\"#7201a8\"],[0.3333333333333333,\"#9c179e\"],[0.4444444444444444,\"#bd3786\"],[0.5555555555555556,\"#d8576b\"],[0.6666666666666666,\"#ed7953\"],[0.7777777777777778,\"#fb9f3a\"],[0.8888888888888888,\"#fdca26\"],[1.0,\"#f0f921\"]]}],\"heatmapgl\":[{\"type\":\"heatmapgl\",\"colorbar\":{\"outlinewidth\":0,\"ticks\":\"\"},\"colorscale\":[[0.0,\"#0d0887\"],[0.1111111111111111,\"#46039f\"],[0.2222222222222222,\"#7201a8\"],[0.3333333333333333,\"#9c179e\"],[0.4444444444444444,\"#bd3786\"],[0.5555555555555556,\"#d8576b\"],[0.6666666666666666,\"#ed7953\"],[0.7777777777777778,\"#fb9f3a\"],[0.8888888888888888,\"#fdca26\"],[1.0,\"#f0f921\"]]}],\"contourcarpet\":[{\"type\":\"contourcarpet\",\"colorbar\":{\"outlinewidth\":0,\"ticks\":\"\"}}],\"contour\":[{\"type\":\"contour\",\"colorbar\":{\"outlinewidth\":0,\"ticks\":\"\"},\"colorscale\":[[0.0,\"#0d0887\"],[0.1111111111111111,\"#46039f\"],[0.2222222222222222,\"#7201a8\"],[0.3333333333333333,\"#9c179e\"],[0.4444444444444444,\"#bd3786\"],[0.5555555555555556,\"#d8576b\"],[0.6666666666666666,\"#ed7953\"],[0.7777777777777778,\"#fb9f3a\"],[0.8888888888888888,\"#fdca26\"],[1.0,\"#f0f921\"]]}],\"surface\":[{\"type\":\"surface\",\"colorbar\":{\"outlinewidth\":0,\"ticks\":\"\"},\"colorscale\":[[0.0,\"#0d0887\"],[0.1111111111111111,\"#46039f\"],[0.2222222222222222,\"#7201a8\"],[0.3333333333333333,\"#9c179e\"],[0.4444444444444444,\"#bd3786\"],[0.5555555555555556,\"#d8576b\"],[0.6666666666666666,\"#ed7953\"],[0.7777777777777778,\"#fb9f3a\"],[0.8888888888888888,\"#fdca26\"],[1.0,\"#f0f921\"]]}],\"mesh3d\":[{\"type\":\"mesh3d\",\"colorbar\":{\"outlinewidth\":0,\"ticks\":\"\"}}],\"scatter\":[{\"fillpattern\":{\"fillmode\":\"overlay\",\"size\":10,\"solidity\":0.2},\"type\":\"scatter\"}],\"parcoords\":[{\"type\":\"parcoords\",\"line\":{\"colorbar\":{\"outlinewidth\":0,\"ticks\":\"\"}}}],\"scatterpolargl\":[{\"type\":\"scatterpolargl\",\"marker\":{\"colorbar\":{\"outlinewidth\":0,\"ticks\":\"\"}}}],\"bar\":[{\"error_x\":{\"color\":\"#2a3f5f\"},\"error_y\":{\"color\":\"#2a3f5f\"},\"marker\":{\"line\":{\"color\":\"#E5ECF6\",\"width\":0.5},\"pattern\":{\"fillmode\":\"overlay\",\"size\":10,\"solidity\":0.2}},\"type\":\"bar\"}],\"scattergeo\":[{\"type\":\"scattergeo\",\"marker\":{\"colorbar\":{\"outlinewidth\":0,\"ticks\":\"\"}}}],\"scatterpolar\":[{\"type\":\"scatterpolar\",\"marker\":{\"colorbar\":{\"outlinewidth\":0,\"ticks\":\"\"}}}],\"histogram\":[{\"marker\":{\"pattern\":{\"fillmode\":\"overlay\",\"size\":10,\"solidity\":0.2}},\"type\":\"histogram\"}],\"scattergl\":[{\"type\":\"scattergl\",\"marker\":{\"colorbar\":{\"outlinewidth\":0,\"ticks\":\"\"}}}],\"scatter3d\":[{\"type\":\"scatter3d\",\"line\":{\"colorbar\":{\"outlinewidth\":0,\"ticks\":\"\"}},\"marker\":{\"colorbar\":{\"outlinewidth\":0,\"ticks\":\"\"}}}],\"scattermapbox\":[{\"type\":\"scattermapbox\",\"marker\":{\"colorbar\":{\"outlinewidth\":0,\"ticks\":\"\"}}}],\"scatterternary\":[{\"type\":\"scatterternary\",\"marker\":{\"colorbar\":{\"outlinewidth\":0,\"ticks\":\"\"}}}],\"scattercarpet\":[{\"type\":\"scattercarpet\",\"marker\":{\"colorbar\":{\"outlinewidth\":0,\"ticks\":\"\"}}}],\"carpet\":[{\"aaxis\":{\"endlinecolor\":\"#2a3f5f\",\"gridcolor\":\"white\",\"linecolor\":\"white\",\"minorgridcolor\":\"white\",\"startlinecolor\":\"#2a3f5f\"},\"baxis\":{\"endlinecolor\":\"#2a3f5f\",\"gridcolor\":\"white\",\"linecolor\":\"white\",\"minorgridcolor\":\"white\",\"startlinecolor\":\"#2a3f5f\"},\"type\":\"carpet\"}],\"table\":[{\"cells\":{\"fill\":{\"color\":\"#EBF0F8\"},\"line\":{\"color\":\"white\"}},\"header\":{\"fill\":{\"color\":\"#C8D4E3\"},\"line\":{\"color\":\"white\"}},\"type\":\"table\"}],\"barpolar\":[{\"marker\":{\"line\":{\"color\":\"#E5ECF6\",\"width\":0.5},\"pattern\":{\"fillmode\":\"overlay\",\"size\":10,\"solidity\":0.2}},\"type\":\"barpolar\"}],\"pie\":[{\"automargin\":true,\"type\":\"pie\"}]},\"layout\":{\"autotypenumbers\":\"strict\",\"colorway\":[\"#636efa\",\"#EF553B\",\"#00cc96\",\"#ab63fa\",\"#FFA15A\",\"#19d3f3\",\"#FF6692\",\"#B6E880\",\"#FF97FF\",\"#FECB52\"],\"font\":{\"color\":\"#2a3f5f\"},\"hovermode\":\"closest\",\"hoverlabel\":{\"align\":\"left\"},\"paper_bgcolor\":\"white\",\"plot_bgcolor\":\"#E5ECF6\",\"polar\":{\"bgcolor\":\"#E5ECF6\",\"angularaxis\":{\"gridcolor\":\"white\",\"linecolor\":\"white\",\"ticks\":\"\"},\"radialaxis\":{\"gridcolor\":\"white\",\"linecolor\":\"white\",\"ticks\":\"\"}},\"ternary\":{\"bgcolor\":\"#E5ECF6\",\"aaxis\":{\"gridcolor\":\"white\",\"linecolor\":\"white\",\"ticks\":\"\"},\"baxis\":{\"gridcolor\":\"white\",\"linecolor\":\"white\",\"ticks\":\"\"},\"caxis\":{\"gridcolor\":\"white\",\"linecolor\":\"white\",\"ticks\":\"\"}},\"coloraxis\":{\"colorbar\":{\"outlinewidth\":0,\"ticks\":\"\"}},\"colorscale\":{\"sequential\":[[0.0,\"#0d0887\"],[0.1111111111111111,\"#46039f\"],[0.2222222222222222,\"#7201a8\"],[0.3333333333333333,\"#9c179e\"],[0.4444444444444444,\"#bd3786\"],[0.5555555555555556,\"#d8576b\"],[0.6666666666666666,\"#ed7953\"],[0.7777777777777778,\"#fb9f3a\"],[0.8888888888888888,\"#fdca26\"],[1.0,\"#f0f921\"]],\"sequentialminus\":[[0.0,\"#0d0887\"],[0.1111111111111111,\"#46039f\"],[0.2222222222222222,\"#7201a8\"],[0.3333333333333333,\"#9c179e\"],[0.4444444444444444,\"#bd3786\"],[0.5555555555555556,\"#d8576b\"],[0.6666666666666666,\"#ed7953\"],[0.7777777777777778,\"#fb9f3a\"],[0.8888888888888888,\"#fdca26\"],[1.0,\"#f0f921\"]],\"diverging\":[[0,\"#8e0152\"],[0.1,\"#c51b7d\"],[0.2,\"#de77ae\"],[0.3,\"#f1b6da\"],[0.4,\"#fde0ef\"],[0.5,\"#f7f7f7\"],[0.6,\"#e6f5d0\"],[0.7,\"#b8e186\"],[0.8,\"#7fbc41\"],[0.9,\"#4d9221\"],[1,\"#276419\"]]},\"xaxis\":{\"gridcolor\":\"white\",\"linecolor\":\"white\",\"ticks\":\"\",\"title\":{\"standoff\":15},\"zerolinecolor\":\"white\",\"automargin\":true,\"zerolinewidth\":2},\"yaxis\":{\"gridcolor\":\"white\",\"linecolor\":\"white\",\"ticks\":\"\",\"title\":{\"standoff\":15},\"zerolinecolor\":\"white\",\"automargin\":true,\"zerolinewidth\":2},\"scene\":{\"xaxis\":{\"backgroundcolor\":\"#E5ECF6\",\"gridcolor\":\"white\",\"linecolor\":\"white\",\"showbackground\":true,\"ticks\":\"\",\"zerolinecolor\":\"white\",\"gridwidth\":2},\"yaxis\":{\"backgroundcolor\":\"#E5ECF6\",\"gridcolor\":\"white\",\"linecolor\":\"white\",\"showbackground\":true,\"ticks\":\"\",\"zerolinecolor\":\"white\",\"gridwidth\":2},\"zaxis\":{\"backgroundcolor\":\"#E5ECF6\",\"gridcolor\":\"white\",\"linecolor\":\"white\",\"showbackground\":true,\"ticks\":\"\",\"zerolinecolor\":\"white\",\"gridwidth\":2}},\"shapedefaults\":{\"line\":{\"color\":\"#2a3f5f\"}},\"annotationdefaults\":{\"arrowcolor\":\"#2a3f5f\",\"arrowhead\":0,\"arrowwidth\":1},\"geo\":{\"bgcolor\":\"white\",\"landcolor\":\"#E5ECF6\",\"subunitcolor\":\"white\",\"showland\":true,\"showlakes\":true,\"lakecolor\":\"white\"},\"title\":{\"x\":0.05},\"mapbox\":{\"style\":\"light\"}}},\"xaxis\":{\"anchor\":\"y\",\"domain\":[0.0,1.0],\"scaleanchor\":\"y\",\"constrain\":\"domain\"},\"yaxis\":{\"anchor\":\"x\",\"domain\":[0.0,1.0],\"autorange\":\"reversed\",\"constrain\":\"domain\"},\"coloraxis\":{\"colorscale\":[[0.0,\"#0d0887\"],[0.1111111111111111,\"#46039f\"],[0.2222222222222222,\"#7201a8\"],[0.3333333333333333,\"#9c179e\"],[0.4444444444444444,\"#bd3786\"],[0.5555555555555556,\"#d8576b\"],[0.6666666666666666,\"#ed7953\"],[0.7777777777777778,\"#fb9f3a\"],[0.8888888888888888,\"#fdca26\"],[1.0,\"#f0f921\"]]},\"margin\":{\"t\":60}},                        {\"responsive\": true}                    ).then(function(){\n",
       "                            \n",
       "var gd = document.getElementById('a947bf5c-31ef-4efd-a6ca-9de4262f6b88');\n",
       "var x = new MutationObserver(function (mutations, observer) {{\n",
       "        var display = window.getComputedStyle(gd).display;\n",
       "        if (!display || display === 'none') {{\n",
       "            console.log([gd, 'removed!']);\n",
       "            Plotly.purge(gd);\n",
       "            observer.disconnect();\n",
       "        }}\n",
       "}});\n",
       "\n",
       "// Listen for the removal of the full notebook cells\n",
       "var notebookContainer = gd.closest('#notebook-container');\n",
       "if (notebookContainer) {{\n",
       "    x.observe(notebookContainer, {childList: true});\n",
       "}}\n",
       "\n",
       "// Listen for the clearing of the current output cell\n",
       "var outputEl = gd.closest('.output');\n",
       "if (outputEl) {{\n",
       "    x.observe(outputEl, {childList: true});\n",
       "}}\n",
       "\n",
       "                        })                };                });            </script>        </div>"
      ]
     },
     "metadata": {},
     "output_type": "display_data"
    }
   ],
   "source": [
    "attr = torch.Tensor.numpy(attributions.detach().cpu())\n",
    "px.imshow(attr[0:5, ])"
   ]
  },
  {
   "cell_type": "code",
   "execution_count": null,
   "id": "f95b02b9",
   "metadata": {},
   "outputs": [
    {
     "data": {
      "application/vnd.plotly.v1+json": {
       "config": {
        "plotlyServerURL": "https://plot.ly"
       },
       "data": [
        {
         "coloraxis": "coloraxis",
         "hovertemplate": "x: %{x}<br>y: %{y}<br>color: %{z}<extra></extra>",
         "name": "0",
         "type": "heatmap",
         "xaxis": "x",
         "yaxis": "y",
         "z": [
          [
           0.09906281600339639,
           1.0720862515057268e-06,
           1.1804114562037563e-06,
           1.1000170827461873e-06,
           1.786003225102124e-07,
           7.732936832925501e-07,
           9.568647532995014e-07,
           4.5431697878989507e-07,
           7.491174739100848e-07,
           2.3490786408391353e-06
          ],
          [
           4.084340028005954,
           5.582319831122621e-07,
           1.8286845038194337e-07,
           1.8869811143318622e-07,
           1.5150058051549694e-06,
           9.139020645429337e-08,
           7.121996174561091e-07,
           5.964011746317792e-07,
           8.047099026327733e-07,
           1.0231988269578212e-06
          ],
          [
           1.3751774527337375,
           2.9600762930067285e-06,
           3.208011519960022e-06,
           2.717568518638465e-07,
           1.5476951179195817e-06,
           2.3217653175738618e-07,
           1.108552922493873e-06,
           1.6405626619772566e-06,
           5.987139266332316e-07,
           6.8243915308832375e-06
          ],
          [
           2.1012593610928434,
           2.4056981447736563e-06,
           2.298968033052207e-06,
           1.7658019096774495e-07,
           1.1154704988519407e-06,
           2.1361409076572712e-09,
           8.368461334658544e-07,
           1.0925279529968272e-06,
           2.536540590979341e-07,
           1.9926869155140847e-06
          ],
          [
           2.218252341581774,
           4.1239387624311956e-07,
           2.2906674233498573e-06,
           6.359483326032447e-08,
           1.6851180880217473e-07,
           4.2267716207673467e-07,
           1.5881047623644542e-07,
           1.3599640118229422e-06,
           2.4352469871917496e-07,
           1.16713414875177e-06
          ]
         ]
        }
       ],
       "layout": {
        "coloraxis": {
         "colorscale": [
          [
           0,
           "#0d0887"
          ],
          [
           0.1111111111111111,
           "#46039f"
          ],
          [
           0.2222222222222222,
           "#7201a8"
          ],
          [
           0.3333333333333333,
           "#9c179e"
          ],
          [
           0.4444444444444444,
           "#bd3786"
          ],
          [
           0.5555555555555556,
           "#d8576b"
          ],
          [
           0.6666666666666666,
           "#ed7953"
          ],
          [
           0.7777777777777778,
           "#fb9f3a"
          ],
          [
           0.8888888888888888,
           "#fdca26"
          ],
          [
           1,
           "#f0f921"
          ]
         ]
        },
        "margin": {
         "t": 60
        },
        "template": {
         "data": {
          "bar": [
           {
            "error_x": {
             "color": "#2a3f5f"
            },
            "error_y": {
             "color": "#2a3f5f"
            },
            "marker": {
             "line": {
              "color": "#E5ECF6",
              "width": 0.5
             },
             "pattern": {
              "fillmode": "overlay",
              "size": 10,
              "solidity": 0.2
             }
            },
            "type": "bar"
           }
          ],
          "barpolar": [
           {
            "marker": {
             "line": {
              "color": "#E5ECF6",
              "width": 0.5
             },
             "pattern": {
              "fillmode": "overlay",
              "size": 10,
              "solidity": 0.2
             }
            },
            "type": "barpolar"
           }
          ],
          "carpet": [
           {
            "aaxis": {
             "endlinecolor": "#2a3f5f",
             "gridcolor": "white",
             "linecolor": "white",
             "minorgridcolor": "white",
             "startlinecolor": "#2a3f5f"
            },
            "baxis": {
             "endlinecolor": "#2a3f5f",
             "gridcolor": "white",
             "linecolor": "white",
             "minorgridcolor": "white",
             "startlinecolor": "#2a3f5f"
            },
            "type": "carpet"
           }
          ],
          "choropleth": [
           {
            "colorbar": {
             "outlinewidth": 0,
             "ticks": ""
            },
            "type": "choropleth"
           }
          ],
          "contour": [
           {
            "colorbar": {
             "outlinewidth": 0,
             "ticks": ""
            },
            "colorscale": [
             [
              0,
              "#0d0887"
             ],
             [
              0.1111111111111111,
              "#46039f"
             ],
             [
              0.2222222222222222,
              "#7201a8"
             ],
             [
              0.3333333333333333,
              "#9c179e"
             ],
             [
              0.4444444444444444,
              "#bd3786"
             ],
             [
              0.5555555555555556,
              "#d8576b"
             ],
             [
              0.6666666666666666,
              "#ed7953"
             ],
             [
              0.7777777777777778,
              "#fb9f3a"
             ],
             [
              0.8888888888888888,
              "#fdca26"
             ],
             [
              1,
              "#f0f921"
             ]
            ],
            "type": "contour"
           }
          ],
          "contourcarpet": [
           {
            "colorbar": {
             "outlinewidth": 0,
             "ticks": ""
            },
            "type": "contourcarpet"
           }
          ],
          "heatmap": [
           {
            "colorbar": {
             "outlinewidth": 0,
             "ticks": ""
            },
            "colorscale": [
             [
              0,
              "#0d0887"
             ],
             [
              0.1111111111111111,
              "#46039f"
             ],
             [
              0.2222222222222222,
              "#7201a8"
             ],
             [
              0.3333333333333333,
              "#9c179e"
             ],
             [
              0.4444444444444444,
              "#bd3786"
             ],
             [
              0.5555555555555556,
              "#d8576b"
             ],
             [
              0.6666666666666666,
              "#ed7953"
             ],
             [
              0.7777777777777778,
              "#fb9f3a"
             ],
             [
              0.8888888888888888,
              "#fdca26"
             ],
             [
              1,
              "#f0f921"
             ]
            ],
            "type": "heatmap"
           }
          ],
          "heatmapgl": [
           {
            "colorbar": {
             "outlinewidth": 0,
             "ticks": ""
            },
            "colorscale": [
             [
              0,
              "#0d0887"
             ],
             [
              0.1111111111111111,
              "#46039f"
             ],
             [
              0.2222222222222222,
              "#7201a8"
             ],
             [
              0.3333333333333333,
              "#9c179e"
             ],
             [
              0.4444444444444444,
              "#bd3786"
             ],
             [
              0.5555555555555556,
              "#d8576b"
             ],
             [
              0.6666666666666666,
              "#ed7953"
             ],
             [
              0.7777777777777778,
              "#fb9f3a"
             ],
             [
              0.8888888888888888,
              "#fdca26"
             ],
             [
              1,
              "#f0f921"
             ]
            ],
            "type": "heatmapgl"
           }
          ],
          "histogram": [
           {
            "marker": {
             "pattern": {
              "fillmode": "overlay",
              "size": 10,
              "solidity": 0.2
             }
            },
            "type": "histogram"
           }
          ],
          "histogram2d": [
           {
            "colorbar": {
             "outlinewidth": 0,
             "ticks": ""
            },
            "colorscale": [
             [
              0,
              "#0d0887"
             ],
             [
              0.1111111111111111,
              "#46039f"
             ],
             [
              0.2222222222222222,
              "#7201a8"
             ],
             [
              0.3333333333333333,
              "#9c179e"
             ],
             [
              0.4444444444444444,
              "#bd3786"
             ],
             [
              0.5555555555555556,
              "#d8576b"
             ],
             [
              0.6666666666666666,
              "#ed7953"
             ],
             [
              0.7777777777777778,
              "#fb9f3a"
             ],
             [
              0.8888888888888888,
              "#fdca26"
             ],
             [
              1,
              "#f0f921"
             ]
            ],
            "type": "histogram2d"
           }
          ],
          "histogram2dcontour": [
           {
            "colorbar": {
             "outlinewidth": 0,
             "ticks": ""
            },
            "colorscale": [
             [
              0,
              "#0d0887"
             ],
             [
              0.1111111111111111,
              "#46039f"
             ],
             [
              0.2222222222222222,
              "#7201a8"
             ],
             [
              0.3333333333333333,
              "#9c179e"
             ],
             [
              0.4444444444444444,
              "#bd3786"
             ],
             [
              0.5555555555555556,
              "#d8576b"
             ],
             [
              0.6666666666666666,
              "#ed7953"
             ],
             [
              0.7777777777777778,
              "#fb9f3a"
             ],
             [
              0.8888888888888888,
              "#fdca26"
             ],
             [
              1,
              "#f0f921"
             ]
            ],
            "type": "histogram2dcontour"
           }
          ],
          "mesh3d": [
           {
            "colorbar": {
             "outlinewidth": 0,
             "ticks": ""
            },
            "type": "mesh3d"
           }
          ],
          "parcoords": [
           {
            "line": {
             "colorbar": {
              "outlinewidth": 0,
              "ticks": ""
             }
            },
            "type": "parcoords"
           }
          ],
          "pie": [
           {
            "automargin": true,
            "type": "pie"
           }
          ],
          "scatter": [
           {
            "fillpattern": {
             "fillmode": "overlay",
             "size": 10,
             "solidity": 0.2
            },
            "type": "scatter"
           }
          ],
          "scatter3d": [
           {
            "line": {
             "colorbar": {
              "outlinewidth": 0,
              "ticks": ""
             }
            },
            "marker": {
             "colorbar": {
              "outlinewidth": 0,
              "ticks": ""
             }
            },
            "type": "scatter3d"
           }
          ],
          "scattercarpet": [
           {
            "marker": {
             "colorbar": {
              "outlinewidth": 0,
              "ticks": ""
             }
            },
            "type": "scattercarpet"
           }
          ],
          "scattergeo": [
           {
            "marker": {
             "colorbar": {
              "outlinewidth": 0,
              "ticks": ""
             }
            },
            "type": "scattergeo"
           }
          ],
          "scattergl": [
           {
            "marker": {
             "colorbar": {
              "outlinewidth": 0,
              "ticks": ""
             }
            },
            "type": "scattergl"
           }
          ],
          "scattermapbox": [
           {
            "marker": {
             "colorbar": {
              "outlinewidth": 0,
              "ticks": ""
             }
            },
            "type": "scattermapbox"
           }
          ],
          "scatterpolar": [
           {
            "marker": {
             "colorbar": {
              "outlinewidth": 0,
              "ticks": ""
             }
            },
            "type": "scatterpolar"
           }
          ],
          "scatterpolargl": [
           {
            "marker": {
             "colorbar": {
              "outlinewidth": 0,
              "ticks": ""
             }
            },
            "type": "scatterpolargl"
           }
          ],
          "scatterternary": [
           {
            "marker": {
             "colorbar": {
              "outlinewidth": 0,
              "ticks": ""
             }
            },
            "type": "scatterternary"
           }
          ],
          "surface": [
           {
            "colorbar": {
             "outlinewidth": 0,
             "ticks": ""
            },
            "colorscale": [
             [
              0,
              "#0d0887"
             ],
             [
              0.1111111111111111,
              "#46039f"
             ],
             [
              0.2222222222222222,
              "#7201a8"
             ],
             [
              0.3333333333333333,
              "#9c179e"
             ],
             [
              0.4444444444444444,
              "#bd3786"
             ],
             [
              0.5555555555555556,
              "#d8576b"
             ],
             [
              0.6666666666666666,
              "#ed7953"
             ],
             [
              0.7777777777777778,
              "#fb9f3a"
             ],
             [
              0.8888888888888888,
              "#fdca26"
             ],
             [
              1,
              "#f0f921"
             ]
            ],
            "type": "surface"
           }
          ],
          "table": [
           {
            "cells": {
             "fill": {
              "color": "#EBF0F8"
             },
             "line": {
              "color": "white"
             }
            },
            "header": {
             "fill": {
              "color": "#C8D4E3"
             },
             "line": {
              "color": "white"
             }
            },
            "type": "table"
           }
          ]
         },
         "layout": {
          "annotationdefaults": {
           "arrowcolor": "#2a3f5f",
           "arrowhead": 0,
           "arrowwidth": 1
          },
          "autotypenumbers": "strict",
          "coloraxis": {
           "colorbar": {
            "outlinewidth": 0,
            "ticks": ""
           }
          },
          "colorscale": {
           "diverging": [
            [
             0,
             "#8e0152"
            ],
            [
             0.1,
             "#c51b7d"
            ],
            [
             0.2,
             "#de77ae"
            ],
            [
             0.3,
             "#f1b6da"
            ],
            [
             0.4,
             "#fde0ef"
            ],
            [
             0.5,
             "#f7f7f7"
            ],
            [
             0.6,
             "#e6f5d0"
            ],
            [
             0.7,
             "#b8e186"
            ],
            [
             0.8,
             "#7fbc41"
            ],
            [
             0.9,
             "#4d9221"
            ],
            [
             1,
             "#276419"
            ]
           ],
           "sequential": [
            [
             0,
             "#0d0887"
            ],
            [
             0.1111111111111111,
             "#46039f"
            ],
            [
             0.2222222222222222,
             "#7201a8"
            ],
            [
             0.3333333333333333,
             "#9c179e"
            ],
            [
             0.4444444444444444,
             "#bd3786"
            ],
            [
             0.5555555555555556,
             "#d8576b"
            ],
            [
             0.6666666666666666,
             "#ed7953"
            ],
            [
             0.7777777777777778,
             "#fb9f3a"
            ],
            [
             0.8888888888888888,
             "#fdca26"
            ],
            [
             1,
             "#f0f921"
            ]
           ],
           "sequentialminus": [
            [
             0,
             "#0d0887"
            ],
            [
             0.1111111111111111,
             "#46039f"
            ],
            [
             0.2222222222222222,
             "#7201a8"
            ],
            [
             0.3333333333333333,
             "#9c179e"
            ],
            [
             0.4444444444444444,
             "#bd3786"
            ],
            [
             0.5555555555555556,
             "#d8576b"
            ],
            [
             0.6666666666666666,
             "#ed7953"
            ],
            [
             0.7777777777777778,
             "#fb9f3a"
            ],
            [
             0.8888888888888888,
             "#fdca26"
            ],
            [
             1,
             "#f0f921"
            ]
           ]
          },
          "colorway": [
           "#636efa",
           "#EF553B",
           "#00cc96",
           "#ab63fa",
           "#FFA15A",
           "#19d3f3",
           "#FF6692",
           "#B6E880",
           "#FF97FF",
           "#FECB52"
          ],
          "font": {
           "color": "#2a3f5f"
          },
          "geo": {
           "bgcolor": "white",
           "lakecolor": "white",
           "landcolor": "#E5ECF6",
           "showlakes": true,
           "showland": true,
           "subunitcolor": "white"
          },
          "hoverlabel": {
           "align": "left"
          },
          "hovermode": "closest",
          "mapbox": {
           "style": "light"
          },
          "paper_bgcolor": "white",
          "plot_bgcolor": "#E5ECF6",
          "polar": {
           "angularaxis": {
            "gridcolor": "white",
            "linecolor": "white",
            "ticks": ""
           },
           "bgcolor": "#E5ECF6",
           "radialaxis": {
            "gridcolor": "white",
            "linecolor": "white",
            "ticks": ""
           }
          },
          "scene": {
           "xaxis": {
            "backgroundcolor": "#E5ECF6",
            "gridcolor": "white",
            "gridwidth": 2,
            "linecolor": "white",
            "showbackground": true,
            "ticks": "",
            "zerolinecolor": "white"
           },
           "yaxis": {
            "backgroundcolor": "#E5ECF6",
            "gridcolor": "white",
            "gridwidth": 2,
            "linecolor": "white",
            "showbackground": true,
            "ticks": "",
            "zerolinecolor": "white"
           },
           "zaxis": {
            "backgroundcolor": "#E5ECF6",
            "gridcolor": "white",
            "gridwidth": 2,
            "linecolor": "white",
            "showbackground": true,
            "ticks": "",
            "zerolinecolor": "white"
           }
          },
          "shapedefaults": {
           "line": {
            "color": "#2a3f5f"
           }
          },
          "ternary": {
           "aaxis": {
            "gridcolor": "white",
            "linecolor": "white",
            "ticks": ""
           },
           "baxis": {
            "gridcolor": "white",
            "linecolor": "white",
            "ticks": ""
           },
           "bgcolor": "#E5ECF6",
           "caxis": {
            "gridcolor": "white",
            "linecolor": "white",
            "ticks": ""
           }
          },
          "title": {
           "x": 0.05
          },
          "xaxis": {
           "automargin": true,
           "gridcolor": "white",
           "linecolor": "white",
           "ticks": "",
           "title": {
            "standoff": 15
           },
           "zerolinecolor": "white",
           "zerolinewidth": 2
          },
          "yaxis": {
           "automargin": true,
           "gridcolor": "white",
           "linecolor": "white",
           "ticks": "",
           "title": {
            "standoff": 15
           },
           "zerolinecolor": "white",
           "zerolinewidth": 2
          }
         }
        },
        "xaxis": {
         "anchor": "y",
         "constrain": "domain",
         "domain": [
          0,
          1
         ],
         "scaleanchor": "y"
        },
        "yaxis": {
         "anchor": "x",
         "autorange": "reversed",
         "constrain": "domain",
         "domain": [
          0,
          1
         ]
        }
       }
      },
      "text/html": [
       "<div>                            <div id=\"fbabaf56-51d5-4ff9-8fb8-22809c8006b8\" class=\"plotly-graph-div\" style=\"height:525px; width:100%;\"></div>            <script type=\"text/javascript\">                require([\"plotly\"], function(Plotly) {                    window.PLOTLYENV=window.PLOTLYENV || {};                                    if (document.getElementById(\"fbabaf56-51d5-4ff9-8fb8-22809c8006b8\")) {                    Plotly.newPlot(                        \"fbabaf56-51d5-4ff9-8fb8-22809c8006b8\",                        [{\"coloraxis\":\"coloraxis\",\"name\":\"0\",\"z\":[[0.09906281600339639,1.0720862515057268e-06,1.1804114562037563e-06,1.1000170827461873e-06,1.786003225102124e-07,7.732936832925501e-07,9.568647532995014e-07,4.5431697878989507e-07,7.491174739100848e-07,2.3490786408391353e-06],[4.084340028005954,5.582319831122621e-07,1.8286845038194337e-07,1.8869811143318622e-07,1.5150058051549694e-06,9.139020645429337e-08,7.121996174561091e-07,5.964011746317792e-07,8.047099026327733e-07,1.0231988269578212e-06],[1.3751774527337375,2.9600762930067285e-06,3.208011519960022e-06,2.717568518638465e-07,1.5476951179195817e-06,2.3217653175738618e-07,1.108552922493873e-06,1.6405626619772566e-06,5.987139266332316e-07,6.8243915308832375e-06],[2.1012593610928434,2.4056981447736563e-06,2.298968033052207e-06,1.7658019096774495e-07,1.1154704988519407e-06,2.1361409076572712e-09,8.368461334658544e-07,1.0925279529968272e-06,2.536540590979341e-07,1.9926869155140847e-06],[2.218252341581774,4.1239387624311956e-07,2.2906674233498573e-06,6.359483326032447e-08,1.6851180880217473e-07,4.2267716207673467e-07,1.5881047623644542e-07,1.3599640118229422e-06,2.4352469871917496e-07,1.16713414875177e-06]],\"type\":\"heatmap\",\"xaxis\":\"x\",\"yaxis\":\"y\",\"hovertemplate\":\"x: %{x}<br>y: %{y}<br>color: %{z}<extra></extra>\"}],                        {\"template\":{\"data\":{\"histogram2dcontour\":[{\"type\":\"histogram2dcontour\",\"colorbar\":{\"outlinewidth\":0,\"ticks\":\"\"},\"colorscale\":[[0.0,\"#0d0887\"],[0.1111111111111111,\"#46039f\"],[0.2222222222222222,\"#7201a8\"],[0.3333333333333333,\"#9c179e\"],[0.4444444444444444,\"#bd3786\"],[0.5555555555555556,\"#d8576b\"],[0.6666666666666666,\"#ed7953\"],[0.7777777777777778,\"#fb9f3a\"],[0.8888888888888888,\"#fdca26\"],[1.0,\"#f0f921\"]]}],\"choropleth\":[{\"type\":\"choropleth\",\"colorbar\":{\"outlinewidth\":0,\"ticks\":\"\"}}],\"histogram2d\":[{\"type\":\"histogram2d\",\"colorbar\":{\"outlinewidth\":0,\"ticks\":\"\"},\"colorscale\":[[0.0,\"#0d0887\"],[0.1111111111111111,\"#46039f\"],[0.2222222222222222,\"#7201a8\"],[0.3333333333333333,\"#9c179e\"],[0.4444444444444444,\"#bd3786\"],[0.5555555555555556,\"#d8576b\"],[0.6666666666666666,\"#ed7953\"],[0.7777777777777778,\"#fb9f3a\"],[0.8888888888888888,\"#fdca26\"],[1.0,\"#f0f921\"]]}],\"heatmap\":[{\"type\":\"heatmap\",\"colorbar\":{\"outlinewidth\":0,\"ticks\":\"\"},\"colorscale\":[[0.0,\"#0d0887\"],[0.1111111111111111,\"#46039f\"],[0.2222222222222222,\"#7201a8\"],[0.3333333333333333,\"#9c179e\"],[0.4444444444444444,\"#bd3786\"],[0.5555555555555556,\"#d8576b\"],[0.6666666666666666,\"#ed7953\"],[0.7777777777777778,\"#fb9f3a\"],[0.8888888888888888,\"#fdca26\"],[1.0,\"#f0f921\"]]}],\"heatmapgl\":[{\"type\":\"heatmapgl\",\"colorbar\":{\"outlinewidth\":0,\"ticks\":\"\"},\"colorscale\":[[0.0,\"#0d0887\"],[0.1111111111111111,\"#46039f\"],[0.2222222222222222,\"#7201a8\"],[0.3333333333333333,\"#9c179e\"],[0.4444444444444444,\"#bd3786\"],[0.5555555555555556,\"#d8576b\"],[0.6666666666666666,\"#ed7953\"],[0.7777777777777778,\"#fb9f3a\"],[0.8888888888888888,\"#fdca26\"],[1.0,\"#f0f921\"]]}],\"contourcarpet\":[{\"type\":\"contourcarpet\",\"colorbar\":{\"outlinewidth\":0,\"ticks\":\"\"}}],\"contour\":[{\"type\":\"contour\",\"colorbar\":{\"outlinewidth\":0,\"ticks\":\"\"},\"colorscale\":[[0.0,\"#0d0887\"],[0.1111111111111111,\"#46039f\"],[0.2222222222222222,\"#7201a8\"],[0.3333333333333333,\"#9c179e\"],[0.4444444444444444,\"#bd3786\"],[0.5555555555555556,\"#d8576b\"],[0.6666666666666666,\"#ed7953\"],[0.7777777777777778,\"#fb9f3a\"],[0.8888888888888888,\"#fdca26\"],[1.0,\"#f0f921\"]]}],\"surface\":[{\"type\":\"surface\",\"colorbar\":{\"outlinewidth\":0,\"ticks\":\"\"},\"colorscale\":[[0.0,\"#0d0887\"],[0.1111111111111111,\"#46039f\"],[0.2222222222222222,\"#7201a8\"],[0.3333333333333333,\"#9c179e\"],[0.4444444444444444,\"#bd3786\"],[0.5555555555555556,\"#d8576b\"],[0.6666666666666666,\"#ed7953\"],[0.7777777777777778,\"#fb9f3a\"],[0.8888888888888888,\"#fdca26\"],[1.0,\"#f0f921\"]]}],\"mesh3d\":[{\"type\":\"mesh3d\",\"colorbar\":{\"outlinewidth\":0,\"ticks\":\"\"}}],\"scatter\":[{\"fillpattern\":{\"fillmode\":\"overlay\",\"size\":10,\"solidity\":0.2},\"type\":\"scatter\"}],\"parcoords\":[{\"type\":\"parcoords\",\"line\":{\"colorbar\":{\"outlinewidth\":0,\"ticks\":\"\"}}}],\"scatterpolargl\":[{\"type\":\"scatterpolargl\",\"marker\":{\"colorbar\":{\"outlinewidth\":0,\"ticks\":\"\"}}}],\"bar\":[{\"error_x\":{\"color\":\"#2a3f5f\"},\"error_y\":{\"color\":\"#2a3f5f\"},\"marker\":{\"line\":{\"color\":\"#E5ECF6\",\"width\":0.5},\"pattern\":{\"fillmode\":\"overlay\",\"size\":10,\"solidity\":0.2}},\"type\":\"bar\"}],\"scattergeo\":[{\"type\":\"scattergeo\",\"marker\":{\"colorbar\":{\"outlinewidth\":0,\"ticks\":\"\"}}}],\"scatterpolar\":[{\"type\":\"scatterpolar\",\"marker\":{\"colorbar\":{\"outlinewidth\":0,\"ticks\":\"\"}}}],\"histogram\":[{\"marker\":{\"pattern\":{\"fillmode\":\"overlay\",\"size\":10,\"solidity\":0.2}},\"type\":\"histogram\"}],\"scattergl\":[{\"type\":\"scattergl\",\"marker\":{\"colorbar\":{\"outlinewidth\":0,\"ticks\":\"\"}}}],\"scatter3d\":[{\"type\":\"scatter3d\",\"line\":{\"colorbar\":{\"outlinewidth\":0,\"ticks\":\"\"}},\"marker\":{\"colorbar\":{\"outlinewidth\":0,\"ticks\":\"\"}}}],\"scattermapbox\":[{\"type\":\"scattermapbox\",\"marker\":{\"colorbar\":{\"outlinewidth\":0,\"ticks\":\"\"}}}],\"scatterternary\":[{\"type\":\"scatterternary\",\"marker\":{\"colorbar\":{\"outlinewidth\":0,\"ticks\":\"\"}}}],\"scattercarpet\":[{\"type\":\"scattercarpet\",\"marker\":{\"colorbar\":{\"outlinewidth\":0,\"ticks\":\"\"}}}],\"carpet\":[{\"aaxis\":{\"endlinecolor\":\"#2a3f5f\",\"gridcolor\":\"white\",\"linecolor\":\"white\",\"minorgridcolor\":\"white\",\"startlinecolor\":\"#2a3f5f\"},\"baxis\":{\"endlinecolor\":\"#2a3f5f\",\"gridcolor\":\"white\",\"linecolor\":\"white\",\"minorgridcolor\":\"white\",\"startlinecolor\":\"#2a3f5f\"},\"type\":\"carpet\"}],\"table\":[{\"cells\":{\"fill\":{\"color\":\"#EBF0F8\"},\"line\":{\"color\":\"white\"}},\"header\":{\"fill\":{\"color\":\"#C8D4E3\"},\"line\":{\"color\":\"white\"}},\"type\":\"table\"}],\"barpolar\":[{\"marker\":{\"line\":{\"color\":\"#E5ECF6\",\"width\":0.5},\"pattern\":{\"fillmode\":\"overlay\",\"size\":10,\"solidity\":0.2}},\"type\":\"barpolar\"}],\"pie\":[{\"automargin\":true,\"type\":\"pie\"}]},\"layout\":{\"autotypenumbers\":\"strict\",\"colorway\":[\"#636efa\",\"#EF553B\",\"#00cc96\",\"#ab63fa\",\"#FFA15A\",\"#19d3f3\",\"#FF6692\",\"#B6E880\",\"#FF97FF\",\"#FECB52\"],\"font\":{\"color\":\"#2a3f5f\"},\"hovermode\":\"closest\",\"hoverlabel\":{\"align\":\"left\"},\"paper_bgcolor\":\"white\",\"plot_bgcolor\":\"#E5ECF6\",\"polar\":{\"bgcolor\":\"#E5ECF6\",\"angularaxis\":{\"gridcolor\":\"white\",\"linecolor\":\"white\",\"ticks\":\"\"},\"radialaxis\":{\"gridcolor\":\"white\",\"linecolor\":\"white\",\"ticks\":\"\"}},\"ternary\":{\"bgcolor\":\"#E5ECF6\",\"aaxis\":{\"gridcolor\":\"white\",\"linecolor\":\"white\",\"ticks\":\"\"},\"baxis\":{\"gridcolor\":\"white\",\"linecolor\":\"white\",\"ticks\":\"\"},\"caxis\":{\"gridcolor\":\"white\",\"linecolor\":\"white\",\"ticks\":\"\"}},\"coloraxis\":{\"colorbar\":{\"outlinewidth\":0,\"ticks\":\"\"}},\"colorscale\":{\"sequential\":[[0.0,\"#0d0887\"],[0.1111111111111111,\"#46039f\"],[0.2222222222222222,\"#7201a8\"],[0.3333333333333333,\"#9c179e\"],[0.4444444444444444,\"#bd3786\"],[0.5555555555555556,\"#d8576b\"],[0.6666666666666666,\"#ed7953\"],[0.7777777777777778,\"#fb9f3a\"],[0.8888888888888888,\"#fdca26\"],[1.0,\"#f0f921\"]],\"sequentialminus\":[[0.0,\"#0d0887\"],[0.1111111111111111,\"#46039f\"],[0.2222222222222222,\"#7201a8\"],[0.3333333333333333,\"#9c179e\"],[0.4444444444444444,\"#bd3786\"],[0.5555555555555556,\"#d8576b\"],[0.6666666666666666,\"#ed7953\"],[0.7777777777777778,\"#fb9f3a\"],[0.8888888888888888,\"#fdca26\"],[1.0,\"#f0f921\"]],\"diverging\":[[0,\"#8e0152\"],[0.1,\"#c51b7d\"],[0.2,\"#de77ae\"],[0.3,\"#f1b6da\"],[0.4,\"#fde0ef\"],[0.5,\"#f7f7f7\"],[0.6,\"#e6f5d0\"],[0.7,\"#b8e186\"],[0.8,\"#7fbc41\"],[0.9,\"#4d9221\"],[1,\"#276419\"]]},\"xaxis\":{\"gridcolor\":\"white\",\"linecolor\":\"white\",\"ticks\":\"\",\"title\":{\"standoff\":15},\"zerolinecolor\":\"white\",\"automargin\":true,\"zerolinewidth\":2},\"yaxis\":{\"gridcolor\":\"white\",\"linecolor\":\"white\",\"ticks\":\"\",\"title\":{\"standoff\":15},\"zerolinecolor\":\"white\",\"automargin\":true,\"zerolinewidth\":2},\"scene\":{\"xaxis\":{\"backgroundcolor\":\"#E5ECF6\",\"gridcolor\":\"white\",\"linecolor\":\"white\",\"showbackground\":true,\"ticks\":\"\",\"zerolinecolor\":\"white\",\"gridwidth\":2},\"yaxis\":{\"backgroundcolor\":\"#E5ECF6\",\"gridcolor\":\"white\",\"linecolor\":\"white\",\"showbackground\":true,\"ticks\":\"\",\"zerolinecolor\":\"white\",\"gridwidth\":2},\"zaxis\":{\"backgroundcolor\":\"#E5ECF6\",\"gridcolor\":\"white\",\"linecolor\":\"white\",\"showbackground\":true,\"ticks\":\"\",\"zerolinecolor\":\"white\",\"gridwidth\":2}},\"shapedefaults\":{\"line\":{\"color\":\"#2a3f5f\"}},\"annotationdefaults\":{\"arrowcolor\":\"#2a3f5f\",\"arrowhead\":0,\"arrowwidth\":1},\"geo\":{\"bgcolor\":\"white\",\"landcolor\":\"#E5ECF6\",\"subunitcolor\":\"white\",\"showland\":true,\"showlakes\":true,\"lakecolor\":\"white\"},\"title\":{\"x\":0.05},\"mapbox\":{\"style\":\"light\"}}},\"xaxis\":{\"anchor\":\"y\",\"domain\":[0.0,1.0],\"scaleanchor\":\"y\",\"constrain\":\"domain\"},\"yaxis\":{\"anchor\":\"x\",\"domain\":[0.0,1.0],\"autorange\":\"reversed\",\"constrain\":\"domain\"},\"coloraxis\":{\"colorscale\":[[0.0,\"#0d0887\"],[0.1111111111111111,\"#46039f\"],[0.2222222222222222,\"#7201a8\"],[0.3333333333333333,\"#9c179e\"],[0.4444444444444444,\"#bd3786\"],[0.5555555555555556,\"#d8576b\"],[0.6666666666666666,\"#ed7953\"],[0.7777777777777778,\"#fb9f3a\"],[0.8888888888888888,\"#fdca26\"],[1.0,\"#f0f921\"]]},\"margin\":{\"t\":60}},                        {\"responsive\": true}                    ).then(function(){\n",
       "                            \n",
       "var gd = document.getElementById('fbabaf56-51d5-4ff9-8fb8-22809c8006b8');\n",
       "var x = new MutationObserver(function (mutations, observer) {{\n",
       "        var display = window.getComputedStyle(gd).display;\n",
       "        if (!display || display === 'none') {{\n",
       "            console.log([gd, 'removed!']);\n",
       "            Plotly.purge(gd);\n",
       "            observer.disconnect();\n",
       "        }}\n",
       "}});\n",
       "\n",
       "// Listen for the removal of the full notebook cells\n",
       "var notebookContainer = gd.closest('#notebook-container');\n",
       "if (notebookContainer) {{\n",
       "    x.observe(notebookContainer, {childList: true});\n",
       "}}\n",
       "\n",
       "// Listen for the clearing of the current output cell\n",
       "var outputEl = gd.closest('.output');\n",
       "if (outputEl) {{\n",
       "    x.observe(outputEl, {childList: true});\n",
       "}}\n",
       "\n",
       "                        })                };                });            </script>        </div>"
      ]
     },
     "metadata": {},
     "output_type": "display_data"
    }
   ],
   "source": [
    "px.imshow(np.abs(attr[0:5, ]))"
   ]
  },
  {
   "cell_type": "markdown",
   "id": "299a5a6a",
   "metadata": {},
   "source": [
    "## Non-linear Response"
   ]
  },
  {
   "cell_type": "code",
   "execution_count": null,
   "id": "64ab9e2d",
   "metadata": {},
   "outputs": [],
   "source": [
    "# harder version with nonlinear response\n",
    "a0 =  10\n",
    "a1s = torch.randn(2, 1)\n",
    "a2s = torch.randn(2, 1)\n",
    "xs = torch.randn(n_obs, 2)\n",
    "ys = a0 + ((xs@a1s)**1+(xs@a1s)**2)"
   ]
  },
  {
   "cell_type": "code",
   "execution_count": null,
   "id": "219d8a72",
   "metadata": {},
   "outputs": [],
   "source": [
    "x1x2y = torch.concat([xs, ys], axis = 1)\n",
    "# px.scatter_3d(x = x1x2y[:, 0], y = x1x2y[:, 1], z = x1x2y[:, 2], color = x1x2y[:, 2])"
   ]
  },
  {
   "cell_type": "code",
   "execution_count": null,
   "id": "6e271185",
   "metadata": {},
   "outputs": [],
   "source": [
    "train_dl = DataLoader(simpleDS(xs, ys), batch_size = 10, shuffle = True)\n",
    "valid_dl = DataLoader(simpleDS(xs, ys), batch_size = 10, shuffle = True)\n",
    "dls = DataLoaders(train_dl, valid_dl, device='cpu')"
   ]
  },
  {
   "cell_type": "code",
   "execution_count": null,
   "id": "e012eb26",
   "metadata": {},
   "outputs": [],
   "source": [
    "# underpowered linear model\n",
    "# model=nn.Sequential(*[nn.Linear(2,1)])\n",
    "# learn = MomentumLearner(model, dls, F.mse_loss, lr=0.002, cbs=[DeviceCB()])\n",
    "# learn.fit(2)\n",
    "\n",
    "# with torch.no_grad():\n",
    "#     yhats = (learn.model(torch.Tensor(x1x2y[:, 0:2]).to('cuda'))).detach().cpu()\n",
    "# px.scatter_3d(x = x1x2y[:, 0], y = x1x2y[:, 1], z = yhats[:, 0], color = yhats[:, 0])"
   ]
  },
  {
   "cell_type": "code",
   "execution_count": null,
   "id": "44000fe3",
   "metadata": {},
   "outputs": [],
   "source": [
    "# Higher capacity  model\n",
    "model=nn.Sequential(*[nn.Linear(2,10), nn.ReLU(), nn.Linear(10, 1)])\n",
    "learn = MomentumLearner(model, dls, F.mse_loss, lr=0.002, cbs=[DeviceCB()])\n",
    "learn.fit(5)\n",
    "\n",
    "with torch.no_grad():\n",
    "    yhats = (learn.model(torch.Tensor(x1x2y[:, 0:2]).to('cuda'))).detach().cpu()\n",
    "\n",
    "# px.scatter_3d(x = x1x2y[:, 0], y = x1x2y[:, 1], z = yhats[:, 0], color = yhats[:, 0])"
   ]
  },
  {
   "cell_type": "code",
   "execution_count": null,
   "id": "0bc1a908",
   "metadata": {},
   "outputs": [],
   "source": [
    "# Initialize with kaiming_normal weights"
   ]
  },
  {
   "cell_type": "code",
   "execution_count": null,
   "id": "2a25b04f",
   "metadata": {},
   "outputs": [],
   "source": [
    "model=nn.Sequential(*[nn.Linear(2,10), nn.ReLU(), nn.Linear(10, 1)])\n",
    "learn = MomentumLearner(model, dls, F.mse_loss, lr=0.002#, cbs=[DeviceCB(), metrics, ProgressCB(plot=True)]\n",
    "                       )\n",
    "learn.fit(2)"
   ]
  },
  {
   "cell_type": "code",
   "execution_count": null,
   "id": "84ff1b47",
   "metadata": {},
   "outputs": [
    {
     "name": "stdout",
     "output_type": "stream",
     "text": [
      "Linear\n",
      "ReLU\n",
      "Linear\n",
      "Sequential\n"
     ]
    }
   ],
   "source": [
    "model.apply(lambda m: print(type(m).__name__));"
   ]
  },
  {
   "cell_type": "code",
   "execution_count": null,
   "id": "3bace064",
   "metadata": {},
   "outputs": [],
   "source": [
    "def init_weights(m):\n",
    "    if isinstance(m, (nn.Linear,nn.Linear)): init.kaiming_normal_(m.weight)"
   ]
  },
  {
   "cell_type": "code",
   "execution_count": null,
   "id": "2d9e9267",
   "metadata": {},
   "outputs": [],
   "source": [
    "model=nn.Sequential(*[nn.Linear(2,10), nn.ReLU(), nn.Linear(10, 1)])\n",
    "model.apply(init_weights);\n",
    "learn = MomentumLearner(model, dls, F.mse_loss, lr=0.002, cbs=[DeviceCB()])"
   ]
  },
  {
   "cell_type": "code",
   "execution_count": null,
   "id": "ba775aa4",
   "metadata": {},
   "outputs": [],
   "source": [
    "with torch.no_grad():\n",
    "    yhats = Tensor.numpy(learn.model(train_dl.dataset.x).detach().cpu())"
   ]
  },
  {
   "cell_type": "code",
   "execution_count": null,
   "id": "4b16cd13",
   "metadata": {},
   "outputs": [],
   "source": [
    "learn.fit(20)\n",
    "\n",
    "with torch.no_grad():\n",
    "    yhats2 = Tensor.numpy(learn.model(train_dl.dataset.x.to('cuda')).detach().cpu())"
   ]
  },
  {
   "cell_type": "code",
   "execution_count": null,
   "id": "7cc8fe4b",
   "metadata": {},
   "outputs": [
    {
     "data": {
      "application/vnd.plotly.v1+json": {
       "config": {
        "plotlyServerURL": "https://plot.ly"
       },
       "data": [
        {
         "alignmentgroup": "True",
         "bingroup": "x",
         "hovertemplate": "variable=0<br>value=%{x}<br>count=%{y}<extra></extra>",
         "legendgroup": "0",
         "marker": {
          "color": "#636efa",
          "pattern": {
           "shape": ""
          }
         },
         "name": "0",
         "offsetgroup": "0",
         "orientation": "v",
         "showlegend": true,
         "type": "histogram",
         "x": [
          -9.874220848083496,
          -10.03675365447998,
          -8.431260108947754,
          -13.57555103302002,
          -13.15067195892334,
          -8.662864685058594,
          -13.032207489013672,
          -12.878705024719238,
          -11.236931800842285,
          -9.784782409667969,
          -10.388219833374023,
          -10.984174728393555,
          -9.980887413024902,
          -11.878314018249512,
          -9.273907661437988,
          -12.590250015258789,
          -10.215079307556152,
          -11.94443130493164,
          -12.085346221923828,
          -9.644450187683105,
          -8.228109359741211,
          -13.663601875305176,
          -8.664916038513184,
          -8.930434226989746,
          -9.581069946289062,
          -8.954354286193848,
          -10.621939659118652,
          -9.171009063720703,
          -9.213151931762695,
          -9.26407527923584,
          -10.150351524353027,
          -11.526089668273926,
          -13.106826782226562,
          -10.2271728515625,
          -9.224187850952148,
          -12.537656784057617,
          -14.317173957824707,
          -9.595553398132324,
          -9.992252349853516,
          -9.983880043029785,
          -8.587528228759766,
          -9.45647144317627,
          -13.08043098449707,
          -8.989256858825684,
          -13.637042045593262,
          -9.763959884643555,
          -11.241317749023438,
          -9.713435173034668,
          -11.210630416870117,
          -10.198502540588379,
          -9.882850646972656,
          -11.577160835266113,
          -8.578317642211914,
          -11.428226470947266,
          -11.697277069091797,
          -10.603141784667969,
          -9.583429336547852,
          -10.51815128326416,
          -9.467181205749512,
          -8.62282657623291,
          -14.058479309082031,
          -8.452552795410156,
          -9.82783031463623,
          -11.213318824768066,
          -9.906206130981445,
          -8.869943618774414,
          -9.720559120178223,
          -11.149127006530762,
          -9.024543762207031,
          -9.82925796508789,
          -14.253889083862305,
          -9.82582950592041,
          -11.439837455749512,
          -8.591934204101562,
          -8.190176963806152,
          -9.158019065856934,
          -10.65173053741455,
          -11.008235931396484,
          -9.355704307556152,
          -13.965596199035645,
          -10.515592575073242,
          -9.727368354797363,
          -9.154194831848145,
          -9.644633293151855,
          -10.800370216369629,
          -10.250484466552734,
          -10.628984451293945,
          -9.67698860168457,
          -9.612518310546875,
          -14.384900093078613,
          -10.055548667907715,
          -11.394593238830566,
          -9.924493789672852,
          -9.219308853149414,
          -10.22413444519043,
          -9.696844100952148,
          -8.922178268432617,
          -8.162290573120117,
          -10.434743881225586,
          -9.714021682739258,
          -14.156673431396484,
          -9.314153671264648,
          -10.247151374816895,
          -9.43114948272705,
          -9.415703773498535,
          -11.154480934143066,
          -9.7550048828125,
          -10.745402336120605,
          -11.70778751373291,
          -11.170000076293945,
          -8.300718307495117,
          -10.364213943481445,
          -10.559061050415039,
          -12.538348197937012,
          -15.039877891540527,
          -9.760831832885742,
          -14.599664688110352,
          -9.58681869506836,
          -16.482824325561523,
          -8.201033592224121,
          -9.299561500549316,
          -9.772624969482422,
          -8.482781410217285,
          -12.359047889709473,
          -9.592544555664062,
          -9.84372329711914,
          -14.93906307220459,
          -8.523014068603516,
          -10.21928596496582,
          -10.725020408630371,
          -9.764936447143555,
          -13.25743579864502,
          -11.464006423950195,
          -12.166804313659668,
          -11.106201171875,
          -12.46298599243164,
          -9.309656143188477,
          -9.635409355163574,
          -8.754290580749512,
          -10.202736854553223,
          -9.595752716064453,
          -11.819684982299805,
          -10.398377418518066,
          -10.560112953186035,
          -11.456450462341309,
          -9.915672302246094,
          -14.302966117858887,
          -8.295944213867188,
          -10.338419914245605,
          -10.765223503112793,
          -10.162528991699219,
          -9.330248832702637,
          -10.170577049255371,
          -10.306957244873047,
          -9.379652976989746,
          -9.715752601623535,
          -10.818648338317871,
          -9.660100936889648,
          -9.887056350708008,
          -10.967451095581055,
          -8.867962837219238,
          -8.738249778747559,
          -11.94701862335205,
          -10.48175048828125,
          -8.07147216796875,
          -7.600218296051025,
          -10.022274017333984,
          -10.08895206451416,
          -9.606867790222168,
          -11.358949661254883,
          -8.71792984008789,
          -8.934348106384277,
          -10.419891357421875,
          -9.553499221801758,
          -13.92390251159668,
          -10.443702697753906,
          -10.673351287841797,
          -10.200316429138184,
          -8.994038581848145,
          -8.705850601196289,
          -11.113502502441406,
          -8.033320426940918,
          -10.533771514892578,
          -9.110124588012695,
          -11.16011905670166,
          -10.1434326171875,
          -9.7769775390625,
          -11.950472831726074,
          -8.867895126342773,
          -8.851253509521484,
          -9.765378952026367,
          -8.13636589050293,
          -9.88199234008789,
          -9.590333938598633,
          -11.461437225341797,
          -8.406852722167969,
          -13.743103981018066,
          -9.179350852966309,
          -9.232584953308105,
          -9.538121223449707,
          -8.221606254577637,
          -10.338942527770996,
          -10.204985618591309,
          -10.628572463989258,
          -8.203390121459961,
          -9.944742202758789,
          -8.533848762512207,
          -11.267975807189941,
          -8.310111045837402,
          -9.799738883972168,
          -10.435811042785645,
          -8.831822395324707,
          -11.085186958312988,
          -15.381999969482422,
          -13.231762886047363,
          -9.398713111877441,
          -12.661580085754395,
          -13.386098861694336,
          -9.935277938842773,
          -10.498392105102539,
          -8.154796600341797,
          -11.765239715576172,
          -9.947739601135254,
          -14.019194602966309,
          -8.367919921875,
          -11.597854614257812,
          -9.990921974182129,
          -9.7968168258667,
          -9.632364273071289,
          -9.159273147583008,
          -10.104499816894531,
          -10.70394515991211,
          -9.977720260620117,
          -8.245741844177246,
          -9.527546882629395,
          -9.627470970153809,
          -16.69898223876953,
          -9.630534172058105,
          -8.524677276611328,
          -8.136290550231934,
          -9.950225830078125,
          -13.985448837280273,
          -9.78111457824707,
          -9.759140968322754,
          -10.410414695739746,
          -9.423993110656738,
          -8.91431713104248,
          -9.695226669311523,
          -9.537104606628418,
          -10.307433128356934,
          -9.62704849243164,
          -10.814895629882812,
          -9.772636413574219,
          -11.16488265991211,
          -9.68676471710205,
          -10.427423477172852,
          -9.885869979858398,
          -11.659994125366211,
          -13.618795394897461,
          -9.129049301147461,
          -9.06275749206543,
          -8.681742668151855,
          -11.935145378112793,
          -10.263566017150879,
          -11.201384544372559,
          -10.22314739227295,
          -8.32425594329834,
          -9.301223754882812,
          -8.604597091674805,
          -11.891435623168945,
          -8.4757661819458,
          -12.178634643554688,
          -8.5621976852417,
          -12.083802223205566,
          -8.747171401977539,
          -11.401365280151367,
          -9.72980785369873,
          -11.131509780883789,
          -9.571751594543457,
          -8.788453102111816,
          -10.966641426086426,
          -10.807732582092285,
          -11.732949256896973,
          -12.437932968139648,
          -10.359101295471191,
          -9.538192749023438,
          -12.616844177246094,
          -9.7776517868042,
          -12.646209716796875,
          -9.987480163574219,
          -12.062246322631836,
          -9.56762981414795,
          -9.988361358642578,
          -9.658867835998535,
          -13.376134872436523,
          -10.82769775390625,
          -9.81722354888916,
          -10.086701393127441,
          -11.922097206115723,
          -17.794971466064453,
          -8.94698715209961,
          -11.558256149291992,
          -8.893144607543945,
          -9.705729484558105,
          -12.388092994689941,
          -9.210966110229492,
          -9.260512351989746,
          -9.216952323913574,
          -10.135736465454102,
          -8.838513374328613,
          -9.432501792907715,
          -8.346118927001953,
          -8.252970695495605,
          -9.817898750305176,
          -9.728232383728027,
          -8.627972602844238,
          -9.90556526184082,
          -9.88632869720459,
          -10.372340202331543,
          -8.002711296081543,
          -9.249523162841797,
          -9.478568077087402,
          -10.743328094482422,
          -11.077367782592773,
          -9.609293937683105,
          -7.864681243896484,
          -10.339164733886719,
          -10.914724349975586,
          -8.484415054321289,
          -10.229275703430176,
          -11.74892807006836,
          -10.069690704345703,
          -9.764681816101074,
          -9.614590644836426,
          -12.414244651794434,
          -9.75846004486084,
          -9.669343948364258,
          -8.00167179107666,
          -11.496569633483887,
          -9.935173988342285,
          -9.917750358581543,
          -8.429021835327148,
          -10.026063919067383,
          -9.279058456420898,
          -8.229602813720703,
          -9.628975868225098,
          -12.10679817199707,
          -9.573165893554688,
          -8.803500175476074,
          -10.311420440673828,
          -11.177836418151855,
          -9.509176254272461,
          -11.169633865356445,
          -9.291693687438965,
          -9.548941612243652,
          -9.867144584655762,
          -10.792757987976074,
          -9.5370454788208,
          -9.577946662902832,
          -13.958626747131348,
          -13.990400314331055,
          -10.039648056030273,
          -9.294004440307617,
          -9.932826042175293,
          -10.796588897705078,
          -10.223580360412598,
          -7.664910316467285,
          -9.912479400634766,
          -8.585369110107422,
          -9.718121528625488,
          -13.417054176330566,
          -10.3136625289917,
          -10.532756805419922,
          -9.882482528686523,
          -9.455398559570312,
          -9.631630897521973,
          -10.947393417358398,
          -9.617330551147461,
          -9.519857406616211,
          -9.583948135375977,
          -10.635432243347168,
          -15.493645668029785,
          -8.433209419250488,
          -11.395635604858398,
          -14.643795013427734,
          -8.314481735229492,
          -9.52538013458252,
          -9.000869750976562,
          -11.89403247833252,
          -10.18639850616455,
          -9.559366226196289,
          -10.023996353149414,
          -10.346141815185547,
          -10.59627628326416,
          -8.240998268127441,
          -11.878668785095215,
          -10.137840270996094,
          -8.583670616149902,
          -8.703851699829102,
          -10.98403263092041,
          -10.906354904174805,
          -9.436339378356934,
          -13.53950023651123,
          -10.826451301574707,
          -9.974505424499512,
          -10.363496780395508,
          -14.538966178894043,
          -9.39600944519043,
          -12.043625831604004,
          -10.168209075927734,
          -9.563504219055176,
          -9.121573448181152,
          -13.439204216003418,
          -8.721000671386719,
          -8.926685333251953,
          -10.231069564819336,
          -10.930099487304688,
          -10.532894134521484,
          -11.031766891479492,
          -8.425249099731445,
          -9.724023818969727,
          -7.934806823730469,
          -9.79082202911377,
          -8.453895568847656,
          -10.184091567993164,
          -8.226572036743164,
          -9.34228229522705,
          -10.180659294128418,
          -14.630838394165039,
          -11.021169662475586,
          -15.167205810546875,
          -9.077160835266113,
          -8.250054359436035,
          -12.581790924072266,
          -8.536937713623047,
          -9.708638191223145,
          -10.73864459991455,
          -8.59350872039795,
          -11.882451057434082,
          -8.530267715454102,
          -10.566023826599121,
          -9.437602996826172,
          -19.18917465209961,
          -11.239456176757812,
          -9.193072319030762,
          -10.06464958190918,
          -8.094380378723145,
          -10.998039245605469,
          -11.238227844238281,
          -9.468369483947754,
          -7.739763259887695,
          -9.817394256591797,
          -8.198484420776367,
          -9.904661178588867,
          -10.162455558776855,
          -9.1595458984375,
          -11.237382888793945,
          -9.825970649719238,
          -9.1929931640625,
          -9.882209777832031,
          -10.601314544677734,
          -9.060028076171875,
          -8.01458740234375,
          -11.07490348815918,
          -9.028426170349121,
          -9.935543060302734,
          -10.819681167602539,
          -8.577486038208008,
          -9.831567764282227,
          -10.65899658203125,
          -10.321730613708496,
          -13.988641738891602,
          -8.35946273803711,
          -8.743975639343262,
          -12.397199630737305,
          -8.81020736694336,
          -8.751267433166504,
          -9.534049987792969,
          -9.358724594116211,
          -9.159846305847168,
          -9.155649185180664,
          -9.52790641784668,
          -9.407561302185059,
          -10.082479476928711,
          -15.820706367492676,
          -8.882076263427734,
          -9.662139892578125,
          -12.059113502502441,
          -13.290687561035156,
          -10.230354309082031,
          -10.039979934692383,
          -12.941878318786621,
          -11.634854316711426,
          -10.676193237304688,
          -13.830764770507812,
          -8.598191261291504,
          -9.725495338439941,
          -15.163322448730469,
          -12.628071784973145,
          -12.455991744995117,
          -14.063167572021484,
          -10.2481689453125,
          -9.765437126159668,
          -9.157051086425781,
          -9.328059196472168,
          -9.02734375,
          -9.757221221923828,
          -10.399225234985352,
          -11.984704971313477,
          -11.687609672546387,
          -13.61552619934082,
          -9.15266227722168,
          -8.549864768981934,
          -9.03587532043457,
          -13.506728172302246,
          -10.284666061401367,
          -8.630812644958496,
          -9.084342002868652,
          -10.601374626159668,
          -10.544050216674805,
          -10.28651237487793,
          -11.152822494506836,
          -12.850727081298828,
          -13.232791900634766,
          -8.776141166687012,
          -10.46634292602539,
          -12.222074508666992,
          -9.67733383178711,
          -8.322206497192383,
          -9.174938201904297,
          -9.270787239074707,
          -11.065023422241211,
          -8.183998107910156,
          -9.755684852600098,
          -14.562744140625,
          -9.532912254333496,
          -9.387697219848633,
          -12.7963285446167,
          -10.216720581054688,
          -9.498560905456543,
          -9.909832000732422,
          -11.19089412689209,
          -9.547393798828125,
          -8.318312644958496,
          -10.092170715332031,
          -9.784875869750977,
          -8.366559028625488,
          -10.531547546386719,
          -13.102306365966797,
          -10.194396018981934,
          -10.273507118225098,
          -8.588075637817383,
          -15.93112564086914,
          -9.865827560424805,
          -9.931941032409668,
          -10.643575668334961,
          -9.735763549804688,
          -9.756918907165527,
          -9.832681655883789,
          -8.926358222961426,
          -10.67353630065918,
          -13.7307767868042,
          -10.545839309692383,
          -9.962172508239746,
          -8.844236373901367,
          -9.896064758300781,
          -8.277521133422852,
          -14.461298942565918,
          -7.945286750793457,
          -8.456854820251465,
          -8.461614608764648,
          -10.075746536254883,
          -8.218538284301758,
          -9.721435546875,
          -8.34807014465332,
          -11.338180541992188,
          -11.779084205627441,
          -8.85265064239502,
          -13.615279197692871,
          -12.502492904663086,
          -9.9921293258667,
          -9.733842849731445,
          -9.752362251281738,
          -11.365074157714844,
          -9.719342231750488,
          -8.617070198059082,
          -8.267557144165039,
          -10.14479923248291,
          -10.51704216003418,
          -12.007498741149902,
          -9.932145118713379,
          -9.698506355285645,
          -10.609832763671875,
          -13.782958984375,
          -8.845539093017578,
          -13.806150436401367,
          -9.718064308166504,
          -8.708317756652832,
          -10.144621849060059,
          -9.196381568908691,
          -12.707947731018066,
          -9.819234848022461,
          -14.158243179321289,
          -12.035409927368164,
          -11.888652801513672,
          -8.459308624267578,
          -12.42386531829834,
          -9.84450912475586,
          -9.42489242553711,
          -10.785325050354004,
          -12.126481056213379,
          -8.331098556518555,
          -8.169803619384766,
          -10.150721549987793,
          -9.726346969604492,
          -9.758477210998535,
          -11.195976257324219,
          -10.049721717834473,
          -9.079751968383789,
          -9.55810546875,
          -9.460274696350098,
          -10.20481014251709,
          -9.946256637573242,
          -13.568882942199707,
          -12.943076133728027,
          -10.00259017944336,
          -9.745672225952148,
          -9.733945846557617,
          -11.038063049316406,
          -9.328205108642578,
          -8.779203414916992,
          -11.55832576751709,
          -9.571789741516113,
          -8.429810523986816,
          -8.390047073364258,
          -10.361400604248047,
          -8.452878952026367,
          -10.226541519165039,
          -9.355542182922363,
          -13.76225757598877,
          -10.104188919067383,
          -9.730547904968262,
          -10.66598129272461,
          -11.020523071289062,
          -10.52480411529541,
          -11.33447265625,
          -9.353191375732422,
          -8.885719299316406,
          -8.115960121154785,
          -9.350008010864258,
          -8.181937217712402,
          -10.44863510131836,
          -10.333736419677734,
          -13.776947021484375,
          -9.741185188293457,
          -9.802984237670898,
          -9.44127082824707,
          -12.160066604614258,
          -11.029462814331055,
          -10.616073608398438,
          -12.015750885009766,
          -9.880155563354492,
          -10.630879402160645,
          -13.038820266723633,
          -8.276664733886719,
          -15.397562980651855,
          -8.200562477111816,
          -10.39392375946045,
          -10.351324081420898,
          -9.855278968811035,
          -12.527059555053711,
          -11.625184059143066,
          -9.070535659790039,
          -11.125677108764648,
          -9.74353313446045,
          -10.202494621276855,
          -10.211644172668457,
          -8.88411808013916,
          -9.88207721710205,
          -13.61555004119873,
          -10.120060920715332,
          -8.713887214660645,
          -11.692720413208008,
          -10.87489128112793,
          -12.716553688049316,
          -7.534395217895508,
          -9.975735664367676,
          -9.660016059875488,
          -13.753098487854004,
          -9.971426963806152,
          -8.060135841369629,
          -9.793780326843262,
          -7.842832565307617,
          -8.498289108276367,
          -13.016372680664062,
          -9.157869338989258,
          -15.158337593078613,
          -9.643423080444336,
          -9.890766143798828,
          -8.300739288330078,
          -12.02571964263916,
          -9.00001049041748,
          -9.877779006958008,
          -14.213281631469727,
          -10.708267211914062,
          -10.068648338317871,
          -10.079083442687988,
          -10.957050323486328,
          -9.565715789794922,
          -8.318697929382324,
          -9.357090950012207,
          -8.804750442504883,
          -9.776128768920898,
          -12.504190444946289,
          -9.729877471923828,
          -9.90567684173584,
          -9.387588500976562,
          -10.257898330688477,
          -8.861137390136719,
          -9.552666664123535,
          -8.4019193649292,
          -10.636300086975098,
          -11.10632038116455,
          -9.671087265014648,
          -8.701297760009766,
          -11.138051986694336,
          -9.641341209411621,
          -11.944269180297852,
          -12.199299812316895,
          -9.864542961120605,
          -10.163559913635254,
          -9.730149269104004,
          -9.711441040039062,
          -11.082331657409668,
          -11.000316619873047,
          -12.753918647766113,
          -12.95350456237793,
          -8.956356048583984,
          -12.587226867675781,
          -11.43636417388916,
          -10.915366172790527,
          -9.881322860717773,
          -9.439309120178223,
          -9.685880661010742,
          -9.552481651306152,
          -9.132678985595703,
          -10.703327178955078,
          -9.036375045776367,
          -8.445293426513672,
          -12.092354774475098,
          -10.715615272521973,
          -8.607007026672363,
          -10.654699325561523,
          -9.291158676147461,
          -9.846419334411621,
          -12.527246475219727,
          -8.141214370727539,
          -13.641348838806152,
          -11.902318954467773,
          -15.611821174621582,
          -9.964234352111816,
          -11.28015422821045,
          -9.55067253112793,
          -9.448014259338379,
          -11.737524032592773,
          -9.54806137084961,
          -9.968523025512695,
          -9.432341575622559,
          -8.656777381896973,
          -11.839350700378418,
          -8.820365905761719,
          -10.603893280029297,
          -9.774843215942383,
          -8.947291374206543,
          -10.1829833984375,
          -8.841962814331055,
          -11.49578857421875,
          -9.821264266967773,
          -8.408477783203125,
          -9.442024230957031,
          -12.644713401794434,
          -11.020707130432129,
          -13.904250144958496,
          -8.662496566772461,
          -9.196569442749023,
          -7.879677772521973,
          -9.117040634155273,
          -10.854426383972168,
          -9.695419311523438,
          -9.408082962036133,
          -11.899312973022461,
          -9.67858600616455,
          -8.655396461486816,
          -8.742384910583496,
          -9.693290710449219,
          -9.909152030944824,
          -8.905824661254883,
          -10.291526794433594,
          -9.784648895263672,
          -12.604230880737305,
          -9.220527648925781,
          -11.986427307128906,
          -8.261863708496094,
          -13.077741622924805,
          -10.611618995666504,
          -8.724956512451172,
          -10.069114685058594,
          -11.158263206481934,
          -12.527992248535156,
          -10.70062255859375,
          -9.15234088897705,
          -11.32152271270752,
          -8.73314094543457,
          -8.87226390838623,
          -9.727863311767578,
          -9.874526977539062,
          -13.788660049438477,
          -8.620137214660645,
          -9.791509628295898,
          -9.189885139465332,
          -17.589599609375,
          -9.98564624786377,
          -14.041099548339844,
          -11.286794662475586,
          -9.097350120544434,
          -11.875361442565918,
          -8.092376708984375,
          -9.29830265045166,
          -9.321106910705566,
          -9.63247299194336,
          -9.613239288330078,
          -9.563010215759277,
          -8.685894966125488,
          -9.312719345092773,
          -11.186607360839844,
          -17.370756149291992,
          -10.416635513305664,
          -9.491924285888672,
          -8.61080551147461,
          -9.309231758117676,
          -10.730871200561523,
          -10.006441116333008,
          -13.216206550598145,
          -10.763093948364258,
          -7.966335773468018,
          -10.342642784118652,
          -8.96920394897461,
          -8.535396575927734,
          -8.775187492370605,
          -9.830632209777832,
          -14.93588924407959,
          -10.521629333496094,
          -10.507227897644043,
          -15.316803932189941,
          -8.065142631530762,
          -9.927532196044922,
          -10.872865676879883,
          -9.811479568481445,
          -8.872674942016602,
          -13.57056999206543,
          -8.453282356262207,
          -9.488716125488281,
          -8.380610466003418,
          -9.991453170776367,
          -8.318634033203125,
          -11.571434020996094,
          -11.496880531311035,
          -12.778074264526367,
          -8.740821838378906,
          -10.59142780303955,
          -10.823505401611328,
          -8.8875093460083,
          -11.288743019104004,
          -8.599608421325684,
          -8.964757919311523,
          -9.925531387329102,
          -9.65703296661377,
          -10.663827896118164,
          -9.100676536560059,
          -9.756311416625977,
          -9.551681518554688,
          -10.04185962677002,
          -12.56247615814209,
          -8.222609519958496,
          -9.645524978637695,
          -9.508798599243164,
          -9.734216690063477,
          -8.466365814208984,
          -8.396735191345215,
          -9.615833282470703,
          -10.975923538208008,
          -7.793002605438232,
          -9.144704818725586,
          -8.160789489746094,
          -10.32800579071045,
          -9.196380615234375,
          -9.86557674407959,
          -9.95862865447998,
          -10.92788314819336,
          -10.98142147064209,
          -9.476109504699707,
          -10.702592849731445,
          -7.853298664093018,
          -9.72213363647461,
          -8.416971206665039,
          -10.107800483703613,
          -9.307311058044434,
          -8.793509483337402,
          -9.878203392028809,
          -13.232120513916016,
          -8.581596374511719,
          -13.13338565826416,
          -11.621306419372559,
          -12.962645530700684,
          -9.574197769165039,
          -14.560226440429688,
          -9.842387199401855,
          -9.827488899230957,
          -9.987607955932617,
          -9.992334365844727,
          -9.109857559204102,
          -10.913252830505371,
          -11.213153839111328,
          -9.563043594360352,
          -9.71448802947998,
          -9.813486099243164,
          -14.156121253967285,
          -9.243504524230957,
          -10.10949420928955,
          -10.03757095336914,
          -9.68890380859375,
          -10.190614700317383,
          -8.862310409545898,
          -13.26919174194336,
          -9.345617294311523,
          -8.599645614624023,
          -11.441215515136719,
          -10.748196601867676,
          -9.715593338012695,
          -9.872631072998047,
          -10.373967170715332,
          -8.90577507019043,
          -9.387548446655273,
          -14.005215644836426,
          -10.345544815063477,
          -8.945292472839355,
          -10.045670509338379,
          -10.118430137634277,
          -8.72231674194336,
          -8.751712799072266,
          -10.491464614868164,
          -8.881818771362305,
          -9.626154899597168,
          -9.657438278198242,
          -8.025297164916992,
          -8.567501068115234,
          -9.65674114227295,
          -8.790517807006836,
          -9.578653335571289,
          -8.280116081237793,
          -10.325408935546875,
          -9.848514556884766,
          -9.539875984191895,
          -11.394420623779297,
          -11.466157913208008,
          -9.692171096801758,
          -11.909653663635254,
          -9.687935829162598,
          -8.667305946350098,
          -9.047365188598633,
          -10.32281494140625,
          -13.209476470947266,
          -12.702757835388184,
          -12.507878303527832,
          -13.810846328735352,
          -9.215909004211426,
          -9.044329643249512,
          -11.855034828186035,
          -9.235013008117676,
          -10.869050025939941,
          -14.817533493041992,
          -9.10118579864502,
          -8.941797256469727,
          -8.991382598876953,
          -9.482872009277344,
          -10.612455368041992,
          -9.348289489746094,
          -10.376694679260254,
          -9.54823112487793,
          -13.574258804321289,
          -10.327080726623535,
          -9.614201545715332,
          -12.074182510375977,
          -9.880311012268066,
          -11.596597671508789,
          -8.626684188842773,
          -10.728608131408691,
          -13.884693145751953,
          -9.56027603149414,
          -13.966595649719238
         ],
         "xaxis": "x",
         "yaxis": "y"
        }
       ],
       "layout": {
        "barmode": "relative",
        "legend": {
         "title": {
          "text": "variable"
         },
         "tracegroupgap": 0
        },
        "margin": {
         "t": 60
        },
        "template": {
         "data": {
          "bar": [
           {
            "error_x": {
             "color": "#2a3f5f"
            },
            "error_y": {
             "color": "#2a3f5f"
            },
            "marker": {
             "line": {
              "color": "#E5ECF6",
              "width": 0.5
             },
             "pattern": {
              "fillmode": "overlay",
              "size": 10,
              "solidity": 0.2
             }
            },
            "type": "bar"
           }
          ],
          "barpolar": [
           {
            "marker": {
             "line": {
              "color": "#E5ECF6",
              "width": 0.5
             },
             "pattern": {
              "fillmode": "overlay",
              "size": 10,
              "solidity": 0.2
             }
            },
            "type": "barpolar"
           }
          ],
          "carpet": [
           {
            "aaxis": {
             "endlinecolor": "#2a3f5f",
             "gridcolor": "white",
             "linecolor": "white",
             "minorgridcolor": "white",
             "startlinecolor": "#2a3f5f"
            },
            "baxis": {
             "endlinecolor": "#2a3f5f",
             "gridcolor": "white",
             "linecolor": "white",
             "minorgridcolor": "white",
             "startlinecolor": "#2a3f5f"
            },
            "type": "carpet"
           }
          ],
          "choropleth": [
           {
            "colorbar": {
             "outlinewidth": 0,
             "ticks": ""
            },
            "type": "choropleth"
           }
          ],
          "contour": [
           {
            "colorbar": {
             "outlinewidth": 0,
             "ticks": ""
            },
            "colorscale": [
             [
              0,
              "#0d0887"
             ],
             [
              0.1111111111111111,
              "#46039f"
             ],
             [
              0.2222222222222222,
              "#7201a8"
             ],
             [
              0.3333333333333333,
              "#9c179e"
             ],
             [
              0.4444444444444444,
              "#bd3786"
             ],
             [
              0.5555555555555556,
              "#d8576b"
             ],
             [
              0.6666666666666666,
              "#ed7953"
             ],
             [
              0.7777777777777778,
              "#fb9f3a"
             ],
             [
              0.8888888888888888,
              "#fdca26"
             ],
             [
              1,
              "#f0f921"
             ]
            ],
            "type": "contour"
           }
          ],
          "contourcarpet": [
           {
            "colorbar": {
             "outlinewidth": 0,
             "ticks": ""
            },
            "type": "contourcarpet"
           }
          ],
          "heatmap": [
           {
            "colorbar": {
             "outlinewidth": 0,
             "ticks": ""
            },
            "colorscale": [
             [
              0,
              "#0d0887"
             ],
             [
              0.1111111111111111,
              "#46039f"
             ],
             [
              0.2222222222222222,
              "#7201a8"
             ],
             [
              0.3333333333333333,
              "#9c179e"
             ],
             [
              0.4444444444444444,
              "#bd3786"
             ],
             [
              0.5555555555555556,
              "#d8576b"
             ],
             [
              0.6666666666666666,
              "#ed7953"
             ],
             [
              0.7777777777777778,
              "#fb9f3a"
             ],
             [
              0.8888888888888888,
              "#fdca26"
             ],
             [
              1,
              "#f0f921"
             ]
            ],
            "type": "heatmap"
           }
          ],
          "heatmapgl": [
           {
            "colorbar": {
             "outlinewidth": 0,
             "ticks": ""
            },
            "colorscale": [
             [
              0,
              "#0d0887"
             ],
             [
              0.1111111111111111,
              "#46039f"
             ],
             [
              0.2222222222222222,
              "#7201a8"
             ],
             [
              0.3333333333333333,
              "#9c179e"
             ],
             [
              0.4444444444444444,
              "#bd3786"
             ],
             [
              0.5555555555555556,
              "#d8576b"
             ],
             [
              0.6666666666666666,
              "#ed7953"
             ],
             [
              0.7777777777777778,
              "#fb9f3a"
             ],
             [
              0.8888888888888888,
              "#fdca26"
             ],
             [
              1,
              "#f0f921"
             ]
            ],
            "type": "heatmapgl"
           }
          ],
          "histogram": [
           {
            "marker": {
             "pattern": {
              "fillmode": "overlay",
              "size": 10,
              "solidity": 0.2
             }
            },
            "type": "histogram"
           }
          ],
          "histogram2d": [
           {
            "colorbar": {
             "outlinewidth": 0,
             "ticks": ""
            },
            "colorscale": [
             [
              0,
              "#0d0887"
             ],
             [
              0.1111111111111111,
              "#46039f"
             ],
             [
              0.2222222222222222,
              "#7201a8"
             ],
             [
              0.3333333333333333,
              "#9c179e"
             ],
             [
              0.4444444444444444,
              "#bd3786"
             ],
             [
              0.5555555555555556,
              "#d8576b"
             ],
             [
              0.6666666666666666,
              "#ed7953"
             ],
             [
              0.7777777777777778,
              "#fb9f3a"
             ],
             [
              0.8888888888888888,
              "#fdca26"
             ],
             [
              1,
              "#f0f921"
             ]
            ],
            "type": "histogram2d"
           }
          ],
          "histogram2dcontour": [
           {
            "colorbar": {
             "outlinewidth": 0,
             "ticks": ""
            },
            "colorscale": [
             [
              0,
              "#0d0887"
             ],
             [
              0.1111111111111111,
              "#46039f"
             ],
             [
              0.2222222222222222,
              "#7201a8"
             ],
             [
              0.3333333333333333,
              "#9c179e"
             ],
             [
              0.4444444444444444,
              "#bd3786"
             ],
             [
              0.5555555555555556,
              "#d8576b"
             ],
             [
              0.6666666666666666,
              "#ed7953"
             ],
             [
              0.7777777777777778,
              "#fb9f3a"
             ],
             [
              0.8888888888888888,
              "#fdca26"
             ],
             [
              1,
              "#f0f921"
             ]
            ],
            "type": "histogram2dcontour"
           }
          ],
          "mesh3d": [
           {
            "colorbar": {
             "outlinewidth": 0,
             "ticks": ""
            },
            "type": "mesh3d"
           }
          ],
          "parcoords": [
           {
            "line": {
             "colorbar": {
              "outlinewidth": 0,
              "ticks": ""
             }
            },
            "type": "parcoords"
           }
          ],
          "pie": [
           {
            "automargin": true,
            "type": "pie"
           }
          ],
          "scatter": [
           {
            "fillpattern": {
             "fillmode": "overlay",
             "size": 10,
             "solidity": 0.2
            },
            "type": "scatter"
           }
          ],
          "scatter3d": [
           {
            "line": {
             "colorbar": {
              "outlinewidth": 0,
              "ticks": ""
             }
            },
            "marker": {
             "colorbar": {
              "outlinewidth": 0,
              "ticks": ""
             }
            },
            "type": "scatter3d"
           }
          ],
          "scattercarpet": [
           {
            "marker": {
             "colorbar": {
              "outlinewidth": 0,
              "ticks": ""
             }
            },
            "type": "scattercarpet"
           }
          ],
          "scattergeo": [
           {
            "marker": {
             "colorbar": {
              "outlinewidth": 0,
              "ticks": ""
             }
            },
            "type": "scattergeo"
           }
          ],
          "scattergl": [
           {
            "marker": {
             "colorbar": {
              "outlinewidth": 0,
              "ticks": ""
             }
            },
            "type": "scattergl"
           }
          ],
          "scattermapbox": [
           {
            "marker": {
             "colorbar": {
              "outlinewidth": 0,
              "ticks": ""
             }
            },
            "type": "scattermapbox"
           }
          ],
          "scatterpolar": [
           {
            "marker": {
             "colorbar": {
              "outlinewidth": 0,
              "ticks": ""
             }
            },
            "type": "scatterpolar"
           }
          ],
          "scatterpolargl": [
           {
            "marker": {
             "colorbar": {
              "outlinewidth": 0,
              "ticks": ""
             }
            },
            "type": "scatterpolargl"
           }
          ],
          "scatterternary": [
           {
            "marker": {
             "colorbar": {
              "outlinewidth": 0,
              "ticks": ""
             }
            },
            "type": "scatterternary"
           }
          ],
          "surface": [
           {
            "colorbar": {
             "outlinewidth": 0,
             "ticks": ""
            },
            "colorscale": [
             [
              0,
              "#0d0887"
             ],
             [
              0.1111111111111111,
              "#46039f"
             ],
             [
              0.2222222222222222,
              "#7201a8"
             ],
             [
              0.3333333333333333,
              "#9c179e"
             ],
             [
              0.4444444444444444,
              "#bd3786"
             ],
             [
              0.5555555555555556,
              "#d8576b"
             ],
             [
              0.6666666666666666,
              "#ed7953"
             ],
             [
              0.7777777777777778,
              "#fb9f3a"
             ],
             [
              0.8888888888888888,
              "#fdca26"
             ],
             [
              1,
              "#f0f921"
             ]
            ],
            "type": "surface"
           }
          ],
          "table": [
           {
            "cells": {
             "fill": {
              "color": "#EBF0F8"
             },
             "line": {
              "color": "white"
             }
            },
            "header": {
             "fill": {
              "color": "#C8D4E3"
             },
             "line": {
              "color": "white"
             }
            },
            "type": "table"
           }
          ]
         },
         "layout": {
          "annotationdefaults": {
           "arrowcolor": "#2a3f5f",
           "arrowhead": 0,
           "arrowwidth": 1
          },
          "autotypenumbers": "strict",
          "coloraxis": {
           "colorbar": {
            "outlinewidth": 0,
            "ticks": ""
           }
          },
          "colorscale": {
           "diverging": [
            [
             0,
             "#8e0152"
            ],
            [
             0.1,
             "#c51b7d"
            ],
            [
             0.2,
             "#de77ae"
            ],
            [
             0.3,
             "#f1b6da"
            ],
            [
             0.4,
             "#fde0ef"
            ],
            [
             0.5,
             "#f7f7f7"
            ],
            [
             0.6,
             "#e6f5d0"
            ],
            [
             0.7,
             "#b8e186"
            ],
            [
             0.8,
             "#7fbc41"
            ],
            [
             0.9,
             "#4d9221"
            ],
            [
             1,
             "#276419"
            ]
           ],
           "sequential": [
            [
             0,
             "#0d0887"
            ],
            [
             0.1111111111111111,
             "#46039f"
            ],
            [
             0.2222222222222222,
             "#7201a8"
            ],
            [
             0.3333333333333333,
             "#9c179e"
            ],
            [
             0.4444444444444444,
             "#bd3786"
            ],
            [
             0.5555555555555556,
             "#d8576b"
            ],
            [
             0.6666666666666666,
             "#ed7953"
            ],
            [
             0.7777777777777778,
             "#fb9f3a"
            ],
            [
             0.8888888888888888,
             "#fdca26"
            ],
            [
             1,
             "#f0f921"
            ]
           ],
           "sequentialminus": [
            [
             0,
             "#0d0887"
            ],
            [
             0.1111111111111111,
             "#46039f"
            ],
            [
             0.2222222222222222,
             "#7201a8"
            ],
            [
             0.3333333333333333,
             "#9c179e"
            ],
            [
             0.4444444444444444,
             "#bd3786"
            ],
            [
             0.5555555555555556,
             "#d8576b"
            ],
            [
             0.6666666666666666,
             "#ed7953"
            ],
            [
             0.7777777777777778,
             "#fb9f3a"
            ],
            [
             0.8888888888888888,
             "#fdca26"
            ],
            [
             1,
             "#f0f921"
            ]
           ]
          },
          "colorway": [
           "#636efa",
           "#EF553B",
           "#00cc96",
           "#ab63fa",
           "#FFA15A",
           "#19d3f3",
           "#FF6692",
           "#B6E880",
           "#FF97FF",
           "#FECB52"
          ],
          "font": {
           "color": "#2a3f5f"
          },
          "geo": {
           "bgcolor": "white",
           "lakecolor": "white",
           "landcolor": "#E5ECF6",
           "showlakes": true,
           "showland": true,
           "subunitcolor": "white"
          },
          "hoverlabel": {
           "align": "left"
          },
          "hovermode": "closest",
          "mapbox": {
           "style": "light"
          },
          "paper_bgcolor": "white",
          "plot_bgcolor": "#E5ECF6",
          "polar": {
           "angularaxis": {
            "gridcolor": "white",
            "linecolor": "white",
            "ticks": ""
           },
           "bgcolor": "#E5ECF6",
           "radialaxis": {
            "gridcolor": "white",
            "linecolor": "white",
            "ticks": ""
           }
          },
          "scene": {
           "xaxis": {
            "backgroundcolor": "#E5ECF6",
            "gridcolor": "white",
            "gridwidth": 2,
            "linecolor": "white",
            "showbackground": true,
            "ticks": "",
            "zerolinecolor": "white"
           },
           "yaxis": {
            "backgroundcolor": "#E5ECF6",
            "gridcolor": "white",
            "gridwidth": 2,
            "linecolor": "white",
            "showbackground": true,
            "ticks": "",
            "zerolinecolor": "white"
           },
           "zaxis": {
            "backgroundcolor": "#E5ECF6",
            "gridcolor": "white",
            "gridwidth": 2,
            "linecolor": "white",
            "showbackground": true,
            "ticks": "",
            "zerolinecolor": "white"
           }
          },
          "shapedefaults": {
           "line": {
            "color": "#2a3f5f"
           }
          },
          "ternary": {
           "aaxis": {
            "gridcolor": "white",
            "linecolor": "white",
            "ticks": ""
           },
           "baxis": {
            "gridcolor": "white",
            "linecolor": "white",
            "ticks": ""
           },
           "bgcolor": "#E5ECF6",
           "caxis": {
            "gridcolor": "white",
            "linecolor": "white",
            "ticks": ""
           }
          },
          "title": {
           "x": 0.05
          },
          "xaxis": {
           "automargin": true,
           "gridcolor": "white",
           "linecolor": "white",
           "ticks": "",
           "title": {
            "standoff": 15
           },
           "zerolinecolor": "white",
           "zerolinewidth": 2
          },
          "yaxis": {
           "automargin": true,
           "gridcolor": "white",
           "linecolor": "white",
           "ticks": "",
           "title": {
            "standoff": 15
           },
           "zerolinecolor": "white",
           "zerolinewidth": 2
          }
         }
        },
        "xaxis": {
         "anchor": "y",
         "domain": [
          0,
          1
         ],
         "title": {
          "text": "value"
         }
        },
        "yaxis": {
         "anchor": "x",
         "domain": [
          0,
          1
         ],
         "title": {
          "text": "count"
         }
        }
       }
      },
      "text/html": [
       "<div>                            <div id=\"119ecbee-3887-4003-a0b3-4492aefd9a05\" class=\"plotly-graph-div\" style=\"height:525px; width:100%;\"></div>            <script type=\"text/javascript\">                require([\"plotly\"], function(Plotly) {                    window.PLOTLYENV=window.PLOTLYENV || {};                                    if (document.getElementById(\"119ecbee-3887-4003-a0b3-4492aefd9a05\")) {                    Plotly.newPlot(                        \"119ecbee-3887-4003-a0b3-4492aefd9a05\",                        [{\"alignmentgroup\":\"True\",\"bingroup\":\"x\",\"hovertemplate\":\"variable=0<br>value=%{x}<br>count=%{y}<extra></extra>\",\"legendgroup\":\"0\",\"marker\":{\"color\":\"#636efa\",\"pattern\":{\"shape\":\"\"}},\"name\":\"0\",\"offsetgroup\":\"0\",\"orientation\":\"v\",\"showlegend\":true,\"x\":[-9.874220848083496,-10.03675365447998,-8.431260108947754,-13.57555103302002,-13.15067195892334,-8.662864685058594,-13.032207489013672,-12.878705024719238,-11.236931800842285,-9.784782409667969,-10.388219833374023,-10.984174728393555,-9.980887413024902,-11.878314018249512,-9.273907661437988,-12.590250015258789,-10.215079307556152,-11.94443130493164,-12.085346221923828,-9.644450187683105,-8.228109359741211,-13.663601875305176,-8.664916038513184,-8.930434226989746,-9.581069946289062,-8.954354286193848,-10.621939659118652,-9.171009063720703,-9.213151931762695,-9.26407527923584,-10.150351524353027,-11.526089668273926,-13.106826782226562,-10.2271728515625,-9.224187850952148,-12.537656784057617,-14.317173957824707,-9.595553398132324,-9.992252349853516,-9.983880043029785,-8.587528228759766,-9.45647144317627,-13.08043098449707,-8.989256858825684,-13.637042045593262,-9.763959884643555,-11.241317749023438,-9.713435173034668,-11.210630416870117,-10.198502540588379,-9.882850646972656,-11.577160835266113,-8.578317642211914,-11.428226470947266,-11.697277069091797,-10.603141784667969,-9.583429336547852,-10.51815128326416,-9.467181205749512,-8.62282657623291,-14.058479309082031,-8.452552795410156,-9.82783031463623,-11.213318824768066,-9.906206130981445,-8.869943618774414,-9.720559120178223,-11.149127006530762,-9.024543762207031,-9.82925796508789,-14.253889083862305,-9.82582950592041,-11.439837455749512,-8.591934204101562,-8.190176963806152,-9.158019065856934,-10.65173053741455,-11.008235931396484,-9.355704307556152,-13.965596199035645,-10.515592575073242,-9.727368354797363,-9.154194831848145,-9.644633293151855,-10.800370216369629,-10.250484466552734,-10.628984451293945,-9.67698860168457,-9.612518310546875,-14.384900093078613,-10.055548667907715,-11.394593238830566,-9.924493789672852,-9.219308853149414,-10.22413444519043,-9.696844100952148,-8.922178268432617,-8.162290573120117,-10.434743881225586,-9.714021682739258,-14.156673431396484,-9.314153671264648,-10.247151374816895,-9.43114948272705,-9.415703773498535,-11.154480934143066,-9.7550048828125,-10.745402336120605,-11.70778751373291,-11.170000076293945,-8.300718307495117,-10.364213943481445,-10.559061050415039,-12.538348197937012,-15.039877891540527,-9.760831832885742,-14.599664688110352,-9.58681869506836,-16.482824325561523,-8.201033592224121,-9.299561500549316,-9.772624969482422,-8.482781410217285,-12.359047889709473,-9.592544555664062,-9.84372329711914,-14.93906307220459,-8.523014068603516,-10.21928596496582,-10.725020408630371,-9.764936447143555,-13.25743579864502,-11.464006423950195,-12.166804313659668,-11.106201171875,-12.46298599243164,-9.309656143188477,-9.635409355163574,-8.754290580749512,-10.202736854553223,-9.595752716064453,-11.819684982299805,-10.398377418518066,-10.560112953186035,-11.456450462341309,-9.915672302246094,-14.302966117858887,-8.295944213867188,-10.338419914245605,-10.765223503112793,-10.162528991699219,-9.330248832702637,-10.170577049255371,-10.306957244873047,-9.379652976989746,-9.715752601623535,-10.818648338317871,-9.660100936889648,-9.887056350708008,-10.967451095581055,-8.867962837219238,-8.738249778747559,-11.94701862335205,-10.48175048828125,-8.07147216796875,-7.600218296051025,-10.022274017333984,-10.08895206451416,-9.606867790222168,-11.358949661254883,-8.71792984008789,-8.934348106384277,-10.419891357421875,-9.553499221801758,-13.92390251159668,-10.443702697753906,-10.673351287841797,-10.200316429138184,-8.994038581848145,-8.705850601196289,-11.113502502441406,-8.033320426940918,-10.533771514892578,-9.110124588012695,-11.16011905670166,-10.1434326171875,-9.7769775390625,-11.950472831726074,-8.867895126342773,-8.851253509521484,-9.765378952026367,-8.13636589050293,-9.88199234008789,-9.590333938598633,-11.461437225341797,-8.406852722167969,-13.743103981018066,-9.179350852966309,-9.232584953308105,-9.538121223449707,-8.221606254577637,-10.338942527770996,-10.204985618591309,-10.628572463989258,-8.203390121459961,-9.944742202758789,-8.533848762512207,-11.267975807189941,-8.310111045837402,-9.799738883972168,-10.435811042785645,-8.831822395324707,-11.085186958312988,-15.381999969482422,-13.231762886047363,-9.398713111877441,-12.661580085754395,-13.386098861694336,-9.935277938842773,-10.498392105102539,-8.154796600341797,-11.765239715576172,-9.947739601135254,-14.019194602966309,-8.367919921875,-11.597854614257812,-9.990921974182129,-9.7968168258667,-9.632364273071289,-9.159273147583008,-10.104499816894531,-10.70394515991211,-9.977720260620117,-8.245741844177246,-9.527546882629395,-9.627470970153809,-16.69898223876953,-9.630534172058105,-8.524677276611328,-8.136290550231934,-9.950225830078125,-13.985448837280273,-9.78111457824707,-9.759140968322754,-10.410414695739746,-9.423993110656738,-8.91431713104248,-9.695226669311523,-9.537104606628418,-10.307433128356934,-9.62704849243164,-10.814895629882812,-9.772636413574219,-11.16488265991211,-9.68676471710205,-10.427423477172852,-9.885869979858398,-11.659994125366211,-13.618795394897461,-9.129049301147461,-9.06275749206543,-8.681742668151855,-11.935145378112793,-10.263566017150879,-11.201384544372559,-10.22314739227295,-8.32425594329834,-9.301223754882812,-8.604597091674805,-11.891435623168945,-8.4757661819458,-12.178634643554688,-8.5621976852417,-12.083802223205566,-8.747171401977539,-11.401365280151367,-9.72980785369873,-11.131509780883789,-9.571751594543457,-8.788453102111816,-10.966641426086426,-10.807732582092285,-11.732949256896973,-12.437932968139648,-10.359101295471191,-9.538192749023438,-12.616844177246094,-9.7776517868042,-12.646209716796875,-9.987480163574219,-12.062246322631836,-9.56762981414795,-9.988361358642578,-9.658867835998535,-13.376134872436523,-10.82769775390625,-9.81722354888916,-10.086701393127441,-11.922097206115723,-17.794971466064453,-8.94698715209961,-11.558256149291992,-8.893144607543945,-9.705729484558105,-12.388092994689941,-9.210966110229492,-9.260512351989746,-9.216952323913574,-10.135736465454102,-8.838513374328613,-9.432501792907715,-8.346118927001953,-8.252970695495605,-9.817898750305176,-9.728232383728027,-8.627972602844238,-9.90556526184082,-9.88632869720459,-10.372340202331543,-8.002711296081543,-9.249523162841797,-9.478568077087402,-10.743328094482422,-11.077367782592773,-9.609293937683105,-7.864681243896484,-10.339164733886719,-10.914724349975586,-8.484415054321289,-10.229275703430176,-11.74892807006836,-10.069690704345703,-9.764681816101074,-9.614590644836426,-12.414244651794434,-9.75846004486084,-9.669343948364258,-8.00167179107666,-11.496569633483887,-9.935173988342285,-9.917750358581543,-8.429021835327148,-10.026063919067383,-9.279058456420898,-8.229602813720703,-9.628975868225098,-12.10679817199707,-9.573165893554688,-8.803500175476074,-10.311420440673828,-11.177836418151855,-9.509176254272461,-11.169633865356445,-9.291693687438965,-9.548941612243652,-9.867144584655762,-10.792757987976074,-9.5370454788208,-9.577946662902832,-13.958626747131348,-13.990400314331055,-10.039648056030273,-9.294004440307617,-9.932826042175293,-10.796588897705078,-10.223580360412598,-7.664910316467285,-9.912479400634766,-8.585369110107422,-9.718121528625488,-13.417054176330566,-10.3136625289917,-10.532756805419922,-9.882482528686523,-9.455398559570312,-9.631630897521973,-10.947393417358398,-9.617330551147461,-9.519857406616211,-9.583948135375977,-10.635432243347168,-15.493645668029785,-8.433209419250488,-11.395635604858398,-14.643795013427734,-8.314481735229492,-9.52538013458252,-9.000869750976562,-11.89403247833252,-10.18639850616455,-9.559366226196289,-10.023996353149414,-10.346141815185547,-10.59627628326416,-8.240998268127441,-11.878668785095215,-10.137840270996094,-8.583670616149902,-8.703851699829102,-10.98403263092041,-10.906354904174805,-9.436339378356934,-13.53950023651123,-10.826451301574707,-9.974505424499512,-10.363496780395508,-14.538966178894043,-9.39600944519043,-12.043625831604004,-10.168209075927734,-9.563504219055176,-9.121573448181152,-13.439204216003418,-8.721000671386719,-8.926685333251953,-10.231069564819336,-10.930099487304688,-10.532894134521484,-11.031766891479492,-8.425249099731445,-9.724023818969727,-7.934806823730469,-9.79082202911377,-8.453895568847656,-10.184091567993164,-8.226572036743164,-9.34228229522705,-10.180659294128418,-14.630838394165039,-11.021169662475586,-15.167205810546875,-9.077160835266113,-8.250054359436035,-12.581790924072266,-8.536937713623047,-9.708638191223145,-10.73864459991455,-8.59350872039795,-11.882451057434082,-8.530267715454102,-10.566023826599121,-9.437602996826172,-19.18917465209961,-11.239456176757812,-9.193072319030762,-10.06464958190918,-8.094380378723145,-10.998039245605469,-11.238227844238281,-9.468369483947754,-7.739763259887695,-9.817394256591797,-8.198484420776367,-9.904661178588867,-10.162455558776855,-9.1595458984375,-11.237382888793945,-9.825970649719238,-9.1929931640625,-9.882209777832031,-10.601314544677734,-9.060028076171875,-8.01458740234375,-11.07490348815918,-9.028426170349121,-9.935543060302734,-10.819681167602539,-8.577486038208008,-9.831567764282227,-10.65899658203125,-10.321730613708496,-13.988641738891602,-8.35946273803711,-8.743975639343262,-12.397199630737305,-8.81020736694336,-8.751267433166504,-9.534049987792969,-9.358724594116211,-9.159846305847168,-9.155649185180664,-9.52790641784668,-9.407561302185059,-10.082479476928711,-15.820706367492676,-8.882076263427734,-9.662139892578125,-12.059113502502441,-13.290687561035156,-10.230354309082031,-10.039979934692383,-12.941878318786621,-11.634854316711426,-10.676193237304688,-13.830764770507812,-8.598191261291504,-9.725495338439941,-15.163322448730469,-12.628071784973145,-12.455991744995117,-14.063167572021484,-10.2481689453125,-9.765437126159668,-9.157051086425781,-9.328059196472168,-9.02734375,-9.757221221923828,-10.399225234985352,-11.984704971313477,-11.687609672546387,-13.61552619934082,-9.15266227722168,-8.549864768981934,-9.03587532043457,-13.506728172302246,-10.284666061401367,-8.630812644958496,-9.084342002868652,-10.601374626159668,-10.544050216674805,-10.28651237487793,-11.152822494506836,-12.850727081298828,-13.232791900634766,-8.776141166687012,-10.46634292602539,-12.222074508666992,-9.67733383178711,-8.322206497192383,-9.174938201904297,-9.270787239074707,-11.065023422241211,-8.183998107910156,-9.755684852600098,-14.562744140625,-9.532912254333496,-9.387697219848633,-12.7963285446167,-10.216720581054688,-9.498560905456543,-9.909832000732422,-11.19089412689209,-9.547393798828125,-8.318312644958496,-10.092170715332031,-9.784875869750977,-8.366559028625488,-10.531547546386719,-13.102306365966797,-10.194396018981934,-10.273507118225098,-8.588075637817383,-15.93112564086914,-9.865827560424805,-9.931941032409668,-10.643575668334961,-9.735763549804688,-9.756918907165527,-9.832681655883789,-8.926358222961426,-10.67353630065918,-13.7307767868042,-10.545839309692383,-9.962172508239746,-8.844236373901367,-9.896064758300781,-8.277521133422852,-14.461298942565918,-7.945286750793457,-8.456854820251465,-8.461614608764648,-10.075746536254883,-8.218538284301758,-9.721435546875,-8.34807014465332,-11.338180541992188,-11.779084205627441,-8.85265064239502,-13.615279197692871,-12.502492904663086,-9.9921293258667,-9.733842849731445,-9.752362251281738,-11.365074157714844,-9.719342231750488,-8.617070198059082,-8.267557144165039,-10.14479923248291,-10.51704216003418,-12.007498741149902,-9.932145118713379,-9.698506355285645,-10.609832763671875,-13.782958984375,-8.845539093017578,-13.806150436401367,-9.718064308166504,-8.708317756652832,-10.144621849060059,-9.196381568908691,-12.707947731018066,-9.819234848022461,-14.158243179321289,-12.035409927368164,-11.888652801513672,-8.459308624267578,-12.42386531829834,-9.84450912475586,-9.42489242553711,-10.785325050354004,-12.126481056213379,-8.331098556518555,-8.169803619384766,-10.150721549987793,-9.726346969604492,-9.758477210998535,-11.195976257324219,-10.049721717834473,-9.079751968383789,-9.55810546875,-9.460274696350098,-10.20481014251709,-9.946256637573242,-13.568882942199707,-12.943076133728027,-10.00259017944336,-9.745672225952148,-9.733945846557617,-11.038063049316406,-9.328205108642578,-8.779203414916992,-11.55832576751709,-9.571789741516113,-8.429810523986816,-8.390047073364258,-10.361400604248047,-8.452878952026367,-10.226541519165039,-9.355542182922363,-13.76225757598877,-10.104188919067383,-9.730547904968262,-10.66598129272461,-11.020523071289062,-10.52480411529541,-11.33447265625,-9.353191375732422,-8.885719299316406,-8.115960121154785,-9.350008010864258,-8.181937217712402,-10.44863510131836,-10.333736419677734,-13.776947021484375,-9.741185188293457,-9.802984237670898,-9.44127082824707,-12.160066604614258,-11.029462814331055,-10.616073608398438,-12.015750885009766,-9.880155563354492,-10.630879402160645,-13.038820266723633,-8.276664733886719,-15.397562980651855,-8.200562477111816,-10.39392375946045,-10.351324081420898,-9.855278968811035,-12.527059555053711,-11.625184059143066,-9.070535659790039,-11.125677108764648,-9.74353313446045,-10.202494621276855,-10.211644172668457,-8.88411808013916,-9.88207721710205,-13.61555004119873,-10.120060920715332,-8.713887214660645,-11.692720413208008,-10.87489128112793,-12.716553688049316,-7.534395217895508,-9.975735664367676,-9.660016059875488,-13.753098487854004,-9.971426963806152,-8.060135841369629,-9.793780326843262,-7.842832565307617,-8.498289108276367,-13.016372680664062,-9.157869338989258,-15.158337593078613,-9.643423080444336,-9.890766143798828,-8.300739288330078,-12.02571964263916,-9.00001049041748,-9.877779006958008,-14.213281631469727,-10.708267211914062,-10.068648338317871,-10.079083442687988,-10.957050323486328,-9.565715789794922,-8.318697929382324,-9.357090950012207,-8.804750442504883,-9.776128768920898,-12.504190444946289,-9.729877471923828,-9.90567684173584,-9.387588500976562,-10.257898330688477,-8.861137390136719,-9.552666664123535,-8.4019193649292,-10.636300086975098,-11.10632038116455,-9.671087265014648,-8.701297760009766,-11.138051986694336,-9.641341209411621,-11.944269180297852,-12.199299812316895,-9.864542961120605,-10.163559913635254,-9.730149269104004,-9.711441040039062,-11.082331657409668,-11.000316619873047,-12.753918647766113,-12.95350456237793,-8.956356048583984,-12.587226867675781,-11.43636417388916,-10.915366172790527,-9.881322860717773,-9.439309120178223,-9.685880661010742,-9.552481651306152,-9.132678985595703,-10.703327178955078,-9.036375045776367,-8.445293426513672,-12.092354774475098,-10.715615272521973,-8.607007026672363,-10.654699325561523,-9.291158676147461,-9.846419334411621,-12.527246475219727,-8.141214370727539,-13.641348838806152,-11.902318954467773,-15.611821174621582,-9.964234352111816,-11.28015422821045,-9.55067253112793,-9.448014259338379,-11.737524032592773,-9.54806137084961,-9.968523025512695,-9.432341575622559,-8.656777381896973,-11.839350700378418,-8.820365905761719,-10.603893280029297,-9.774843215942383,-8.947291374206543,-10.1829833984375,-8.841962814331055,-11.49578857421875,-9.821264266967773,-8.408477783203125,-9.442024230957031,-12.644713401794434,-11.020707130432129,-13.904250144958496,-8.662496566772461,-9.196569442749023,-7.879677772521973,-9.117040634155273,-10.854426383972168,-9.695419311523438,-9.408082962036133,-11.899312973022461,-9.67858600616455,-8.655396461486816,-8.742384910583496,-9.693290710449219,-9.909152030944824,-8.905824661254883,-10.291526794433594,-9.784648895263672,-12.604230880737305,-9.220527648925781,-11.986427307128906,-8.261863708496094,-13.077741622924805,-10.611618995666504,-8.724956512451172,-10.069114685058594,-11.158263206481934,-12.527992248535156,-10.70062255859375,-9.15234088897705,-11.32152271270752,-8.73314094543457,-8.87226390838623,-9.727863311767578,-9.874526977539062,-13.788660049438477,-8.620137214660645,-9.791509628295898,-9.189885139465332,-17.589599609375,-9.98564624786377,-14.041099548339844,-11.286794662475586,-9.097350120544434,-11.875361442565918,-8.092376708984375,-9.29830265045166,-9.321106910705566,-9.63247299194336,-9.613239288330078,-9.563010215759277,-8.685894966125488,-9.312719345092773,-11.186607360839844,-17.370756149291992,-10.416635513305664,-9.491924285888672,-8.61080551147461,-9.309231758117676,-10.730871200561523,-10.006441116333008,-13.216206550598145,-10.763093948364258,-7.966335773468018,-10.342642784118652,-8.96920394897461,-8.535396575927734,-8.775187492370605,-9.830632209777832,-14.93588924407959,-10.521629333496094,-10.507227897644043,-15.316803932189941,-8.065142631530762,-9.927532196044922,-10.872865676879883,-9.811479568481445,-8.872674942016602,-13.57056999206543,-8.453282356262207,-9.488716125488281,-8.380610466003418,-9.991453170776367,-8.318634033203125,-11.571434020996094,-11.496880531311035,-12.778074264526367,-8.740821838378906,-10.59142780303955,-10.823505401611328,-8.8875093460083,-11.288743019104004,-8.599608421325684,-8.964757919311523,-9.925531387329102,-9.65703296661377,-10.663827896118164,-9.100676536560059,-9.756311416625977,-9.551681518554688,-10.04185962677002,-12.56247615814209,-8.222609519958496,-9.645524978637695,-9.508798599243164,-9.734216690063477,-8.466365814208984,-8.396735191345215,-9.615833282470703,-10.975923538208008,-7.793002605438232,-9.144704818725586,-8.160789489746094,-10.32800579071045,-9.196380615234375,-9.86557674407959,-9.95862865447998,-10.92788314819336,-10.98142147064209,-9.476109504699707,-10.702592849731445,-7.853298664093018,-9.72213363647461,-8.416971206665039,-10.107800483703613,-9.307311058044434,-8.793509483337402,-9.878203392028809,-13.232120513916016,-8.581596374511719,-13.13338565826416,-11.621306419372559,-12.962645530700684,-9.574197769165039,-14.560226440429688,-9.842387199401855,-9.827488899230957,-9.987607955932617,-9.992334365844727,-9.109857559204102,-10.913252830505371,-11.213153839111328,-9.563043594360352,-9.71448802947998,-9.813486099243164,-14.156121253967285,-9.243504524230957,-10.10949420928955,-10.03757095336914,-9.68890380859375,-10.190614700317383,-8.862310409545898,-13.26919174194336,-9.345617294311523,-8.599645614624023,-11.441215515136719,-10.748196601867676,-9.715593338012695,-9.872631072998047,-10.373967170715332,-8.90577507019043,-9.387548446655273,-14.005215644836426,-10.345544815063477,-8.945292472839355,-10.045670509338379,-10.118430137634277,-8.72231674194336,-8.751712799072266,-10.491464614868164,-8.881818771362305,-9.626154899597168,-9.657438278198242,-8.025297164916992,-8.567501068115234,-9.65674114227295,-8.790517807006836,-9.578653335571289,-8.280116081237793,-10.325408935546875,-9.848514556884766,-9.539875984191895,-11.394420623779297,-11.466157913208008,-9.692171096801758,-11.909653663635254,-9.687935829162598,-8.667305946350098,-9.047365188598633,-10.32281494140625,-13.209476470947266,-12.702757835388184,-12.507878303527832,-13.810846328735352,-9.215909004211426,-9.044329643249512,-11.855034828186035,-9.235013008117676,-10.869050025939941,-14.817533493041992,-9.10118579864502,-8.941797256469727,-8.991382598876953,-9.482872009277344,-10.612455368041992,-9.348289489746094,-10.376694679260254,-9.54823112487793,-13.574258804321289,-10.327080726623535,-9.614201545715332,-12.074182510375977,-9.880311012268066,-11.596597671508789,-8.626684188842773,-10.728608131408691,-13.884693145751953,-9.56027603149414,-13.966595649719238],\"xaxis\":\"x\",\"yaxis\":\"y\",\"type\":\"histogram\"}],                        {\"template\":{\"data\":{\"histogram2dcontour\":[{\"type\":\"histogram2dcontour\",\"colorbar\":{\"outlinewidth\":0,\"ticks\":\"\"},\"colorscale\":[[0.0,\"#0d0887\"],[0.1111111111111111,\"#46039f\"],[0.2222222222222222,\"#7201a8\"],[0.3333333333333333,\"#9c179e\"],[0.4444444444444444,\"#bd3786\"],[0.5555555555555556,\"#d8576b\"],[0.6666666666666666,\"#ed7953\"],[0.7777777777777778,\"#fb9f3a\"],[0.8888888888888888,\"#fdca26\"],[1.0,\"#f0f921\"]]}],\"choropleth\":[{\"type\":\"choropleth\",\"colorbar\":{\"outlinewidth\":0,\"ticks\":\"\"}}],\"histogram2d\":[{\"type\":\"histogram2d\",\"colorbar\":{\"outlinewidth\":0,\"ticks\":\"\"},\"colorscale\":[[0.0,\"#0d0887\"],[0.1111111111111111,\"#46039f\"],[0.2222222222222222,\"#7201a8\"],[0.3333333333333333,\"#9c179e\"],[0.4444444444444444,\"#bd3786\"],[0.5555555555555556,\"#d8576b\"],[0.6666666666666666,\"#ed7953\"],[0.7777777777777778,\"#fb9f3a\"],[0.8888888888888888,\"#fdca26\"],[1.0,\"#f0f921\"]]}],\"heatmap\":[{\"type\":\"heatmap\",\"colorbar\":{\"outlinewidth\":0,\"ticks\":\"\"},\"colorscale\":[[0.0,\"#0d0887\"],[0.1111111111111111,\"#46039f\"],[0.2222222222222222,\"#7201a8\"],[0.3333333333333333,\"#9c179e\"],[0.4444444444444444,\"#bd3786\"],[0.5555555555555556,\"#d8576b\"],[0.6666666666666666,\"#ed7953\"],[0.7777777777777778,\"#fb9f3a\"],[0.8888888888888888,\"#fdca26\"],[1.0,\"#f0f921\"]]}],\"heatmapgl\":[{\"type\":\"heatmapgl\",\"colorbar\":{\"outlinewidth\":0,\"ticks\":\"\"},\"colorscale\":[[0.0,\"#0d0887\"],[0.1111111111111111,\"#46039f\"],[0.2222222222222222,\"#7201a8\"],[0.3333333333333333,\"#9c179e\"],[0.4444444444444444,\"#bd3786\"],[0.5555555555555556,\"#d8576b\"],[0.6666666666666666,\"#ed7953\"],[0.7777777777777778,\"#fb9f3a\"],[0.8888888888888888,\"#fdca26\"],[1.0,\"#f0f921\"]]}],\"contourcarpet\":[{\"type\":\"contourcarpet\",\"colorbar\":{\"outlinewidth\":0,\"ticks\":\"\"}}],\"contour\":[{\"type\":\"contour\",\"colorbar\":{\"outlinewidth\":0,\"ticks\":\"\"},\"colorscale\":[[0.0,\"#0d0887\"],[0.1111111111111111,\"#46039f\"],[0.2222222222222222,\"#7201a8\"],[0.3333333333333333,\"#9c179e\"],[0.4444444444444444,\"#bd3786\"],[0.5555555555555556,\"#d8576b\"],[0.6666666666666666,\"#ed7953\"],[0.7777777777777778,\"#fb9f3a\"],[0.8888888888888888,\"#fdca26\"],[1.0,\"#f0f921\"]]}],\"surface\":[{\"type\":\"surface\",\"colorbar\":{\"outlinewidth\":0,\"ticks\":\"\"},\"colorscale\":[[0.0,\"#0d0887\"],[0.1111111111111111,\"#46039f\"],[0.2222222222222222,\"#7201a8\"],[0.3333333333333333,\"#9c179e\"],[0.4444444444444444,\"#bd3786\"],[0.5555555555555556,\"#d8576b\"],[0.6666666666666666,\"#ed7953\"],[0.7777777777777778,\"#fb9f3a\"],[0.8888888888888888,\"#fdca26\"],[1.0,\"#f0f921\"]]}],\"mesh3d\":[{\"type\":\"mesh3d\",\"colorbar\":{\"outlinewidth\":0,\"ticks\":\"\"}}],\"scatter\":[{\"fillpattern\":{\"fillmode\":\"overlay\",\"size\":10,\"solidity\":0.2},\"type\":\"scatter\"}],\"parcoords\":[{\"type\":\"parcoords\",\"line\":{\"colorbar\":{\"outlinewidth\":0,\"ticks\":\"\"}}}],\"scatterpolargl\":[{\"type\":\"scatterpolargl\",\"marker\":{\"colorbar\":{\"outlinewidth\":0,\"ticks\":\"\"}}}],\"bar\":[{\"error_x\":{\"color\":\"#2a3f5f\"},\"error_y\":{\"color\":\"#2a3f5f\"},\"marker\":{\"line\":{\"color\":\"#E5ECF6\",\"width\":0.5},\"pattern\":{\"fillmode\":\"overlay\",\"size\":10,\"solidity\":0.2}},\"type\":\"bar\"}],\"scattergeo\":[{\"type\":\"scattergeo\",\"marker\":{\"colorbar\":{\"outlinewidth\":0,\"ticks\":\"\"}}}],\"scatterpolar\":[{\"type\":\"scatterpolar\",\"marker\":{\"colorbar\":{\"outlinewidth\":0,\"ticks\":\"\"}}}],\"histogram\":[{\"marker\":{\"pattern\":{\"fillmode\":\"overlay\",\"size\":10,\"solidity\":0.2}},\"type\":\"histogram\"}],\"scattergl\":[{\"type\":\"scattergl\",\"marker\":{\"colorbar\":{\"outlinewidth\":0,\"ticks\":\"\"}}}],\"scatter3d\":[{\"type\":\"scatter3d\",\"line\":{\"colorbar\":{\"outlinewidth\":0,\"ticks\":\"\"}},\"marker\":{\"colorbar\":{\"outlinewidth\":0,\"ticks\":\"\"}}}],\"scattermapbox\":[{\"type\":\"scattermapbox\",\"marker\":{\"colorbar\":{\"outlinewidth\":0,\"ticks\":\"\"}}}],\"scatterternary\":[{\"type\":\"scatterternary\",\"marker\":{\"colorbar\":{\"outlinewidth\":0,\"ticks\":\"\"}}}],\"scattercarpet\":[{\"type\":\"scattercarpet\",\"marker\":{\"colorbar\":{\"outlinewidth\":0,\"ticks\":\"\"}}}],\"carpet\":[{\"aaxis\":{\"endlinecolor\":\"#2a3f5f\",\"gridcolor\":\"white\",\"linecolor\":\"white\",\"minorgridcolor\":\"white\",\"startlinecolor\":\"#2a3f5f\"},\"baxis\":{\"endlinecolor\":\"#2a3f5f\",\"gridcolor\":\"white\",\"linecolor\":\"white\",\"minorgridcolor\":\"white\",\"startlinecolor\":\"#2a3f5f\"},\"type\":\"carpet\"}],\"table\":[{\"cells\":{\"fill\":{\"color\":\"#EBF0F8\"},\"line\":{\"color\":\"white\"}},\"header\":{\"fill\":{\"color\":\"#C8D4E3\"},\"line\":{\"color\":\"white\"}},\"type\":\"table\"}],\"barpolar\":[{\"marker\":{\"line\":{\"color\":\"#E5ECF6\",\"width\":0.5},\"pattern\":{\"fillmode\":\"overlay\",\"size\":10,\"solidity\":0.2}},\"type\":\"barpolar\"}],\"pie\":[{\"automargin\":true,\"type\":\"pie\"}]},\"layout\":{\"autotypenumbers\":\"strict\",\"colorway\":[\"#636efa\",\"#EF553B\",\"#00cc96\",\"#ab63fa\",\"#FFA15A\",\"#19d3f3\",\"#FF6692\",\"#B6E880\",\"#FF97FF\",\"#FECB52\"],\"font\":{\"color\":\"#2a3f5f\"},\"hovermode\":\"closest\",\"hoverlabel\":{\"align\":\"left\"},\"paper_bgcolor\":\"white\",\"plot_bgcolor\":\"#E5ECF6\",\"polar\":{\"bgcolor\":\"#E5ECF6\",\"angularaxis\":{\"gridcolor\":\"white\",\"linecolor\":\"white\",\"ticks\":\"\"},\"radialaxis\":{\"gridcolor\":\"white\",\"linecolor\":\"white\",\"ticks\":\"\"}},\"ternary\":{\"bgcolor\":\"#E5ECF6\",\"aaxis\":{\"gridcolor\":\"white\",\"linecolor\":\"white\",\"ticks\":\"\"},\"baxis\":{\"gridcolor\":\"white\",\"linecolor\":\"white\",\"ticks\":\"\"},\"caxis\":{\"gridcolor\":\"white\",\"linecolor\":\"white\",\"ticks\":\"\"}},\"coloraxis\":{\"colorbar\":{\"outlinewidth\":0,\"ticks\":\"\"}},\"colorscale\":{\"sequential\":[[0.0,\"#0d0887\"],[0.1111111111111111,\"#46039f\"],[0.2222222222222222,\"#7201a8\"],[0.3333333333333333,\"#9c179e\"],[0.4444444444444444,\"#bd3786\"],[0.5555555555555556,\"#d8576b\"],[0.6666666666666666,\"#ed7953\"],[0.7777777777777778,\"#fb9f3a\"],[0.8888888888888888,\"#fdca26\"],[1.0,\"#f0f921\"]],\"sequentialminus\":[[0.0,\"#0d0887\"],[0.1111111111111111,\"#46039f\"],[0.2222222222222222,\"#7201a8\"],[0.3333333333333333,\"#9c179e\"],[0.4444444444444444,\"#bd3786\"],[0.5555555555555556,\"#d8576b\"],[0.6666666666666666,\"#ed7953\"],[0.7777777777777778,\"#fb9f3a\"],[0.8888888888888888,\"#fdca26\"],[1.0,\"#f0f921\"]],\"diverging\":[[0,\"#8e0152\"],[0.1,\"#c51b7d\"],[0.2,\"#de77ae\"],[0.3,\"#f1b6da\"],[0.4,\"#fde0ef\"],[0.5,\"#f7f7f7\"],[0.6,\"#e6f5d0\"],[0.7,\"#b8e186\"],[0.8,\"#7fbc41\"],[0.9,\"#4d9221\"],[1,\"#276419\"]]},\"xaxis\":{\"gridcolor\":\"white\",\"linecolor\":\"white\",\"ticks\":\"\",\"title\":{\"standoff\":15},\"zerolinecolor\":\"white\",\"automargin\":true,\"zerolinewidth\":2},\"yaxis\":{\"gridcolor\":\"white\",\"linecolor\":\"white\",\"ticks\":\"\",\"title\":{\"standoff\":15},\"zerolinecolor\":\"white\",\"automargin\":true,\"zerolinewidth\":2},\"scene\":{\"xaxis\":{\"backgroundcolor\":\"#E5ECF6\",\"gridcolor\":\"white\",\"linecolor\":\"white\",\"showbackground\":true,\"ticks\":\"\",\"zerolinecolor\":\"white\",\"gridwidth\":2},\"yaxis\":{\"backgroundcolor\":\"#E5ECF6\",\"gridcolor\":\"white\",\"linecolor\":\"white\",\"showbackground\":true,\"ticks\":\"\",\"zerolinecolor\":\"white\",\"gridwidth\":2},\"zaxis\":{\"backgroundcolor\":\"#E5ECF6\",\"gridcolor\":\"white\",\"linecolor\":\"white\",\"showbackground\":true,\"ticks\":\"\",\"zerolinecolor\":\"white\",\"gridwidth\":2}},\"shapedefaults\":{\"line\":{\"color\":\"#2a3f5f\"}},\"annotationdefaults\":{\"arrowcolor\":\"#2a3f5f\",\"arrowhead\":0,\"arrowwidth\":1},\"geo\":{\"bgcolor\":\"white\",\"landcolor\":\"#E5ECF6\",\"subunitcolor\":\"white\",\"showland\":true,\"showlakes\":true,\"lakecolor\":\"white\"},\"title\":{\"x\":0.05},\"mapbox\":{\"style\":\"light\"}}},\"xaxis\":{\"anchor\":\"y\",\"domain\":[0.0,1.0],\"title\":{\"text\":\"value\"}},\"yaxis\":{\"anchor\":\"x\",\"domain\":[0.0,1.0],\"title\":{\"text\":\"count\"}},\"legend\":{\"title\":{\"text\":\"variable\"},\"tracegroupgap\":0},\"margin\":{\"t\":60},\"barmode\":\"relative\"},                        {\"responsive\": true}                    ).then(function(){\n",
       "                            \n",
       "var gd = document.getElementById('119ecbee-3887-4003-a0b3-4492aefd9a05');\n",
       "var x = new MutationObserver(function (mutations, observer) {{\n",
       "        var display = window.getComputedStyle(gd).display;\n",
       "        if (!display || display === 'none') {{\n",
       "            console.log([gd, 'removed!']);\n",
       "            Plotly.purge(gd);\n",
       "            observer.disconnect();\n",
       "        }}\n",
       "}});\n",
       "\n",
       "// Listen for the removal of the full notebook cells\n",
       "var notebookContainer = gd.closest('#notebook-container');\n",
       "if (notebookContainer) {{\n",
       "    x.observe(notebookContainer, {childList: true});\n",
       "}}\n",
       "\n",
       "// Listen for the clearing of the current output cell\n",
       "var outputEl = gd.closest('.output');\n",
       "if (outputEl) {{\n",
       "    x.observe(outputEl, {childList: true});\n",
       "}}\n",
       "\n",
       "                        })                };                });            </script>        </div>"
      ]
     },
     "metadata": {},
     "output_type": "display_data"
    }
   ],
   "source": [
    "px.histogram(yhats-yhats2)"
   ]
  },
  {
   "cell_type": "code",
   "execution_count": null,
   "id": "a7de3e37",
   "metadata": {},
   "outputs": [],
   "source": []
  },
  {
   "cell_type": "markdown",
   "id": "3ab0e55f",
   "metadata": {},
   "source": [
    "# ApsimX Data"
   ]
  },
  {
   "cell_type": "markdown",
   "id": "5dbe1d1e",
   "metadata": {},
   "source": [
    "## Loading Data"
   ]
  },
  {
   "cell_type": "code",
   "execution_count": null,
   "id": "c911a9b9",
   "metadata": {},
   "outputs": [],
   "source": [
    "load_from = '../nbs_artifacts/99.99_apsimx_agg/'\n",
    "met_np = np.load(load_from+'met_np.npy')\n",
    "met_np_lonlatyear = np.load(load_from+'met_np_lonlatyear.npy')"
   ]
  },
  {
   "cell_type": "code",
   "execution_count": null,
   "id": "1b847c8f",
   "metadata": {},
   "outputs": [],
   "source": [
    "soils_i = np.load(load_from+'soils_np_i.npy')\n",
    "soils_i.shape"
   ]
  },
  {
   "cell_type": "code",
   "execution_count": null,
   "id": "ff5deebd",
   "metadata": {},
   "outputs": [],
   "source": [
    "cult_i = np.load(load_from+'SimCult.np.npy')\n",
    "cult_i.shape"
   ]
  },
  {
   "cell_type": "code",
   "execution_count": null,
   "id": "ec17f027",
   "metadata": {},
   "outputs": [],
   "source": [
    "cult_i_Names = np.load(load_from+'SimCultNames.np.npy')\n",
    "cult_i_Names"
   ]
  },
  {
   "cell_type": "code",
   "execution_count": null,
   "id": "4763963d",
   "metadata": {},
   "outputs": [],
   "source": [
    "engine=sqlalchemy.create_engine(f'sqlite:///'+load_from+'res.db')\n",
    "results = pd.read_sql('select * from Results', engine)\n",
    "engine.dispose()\n",
    "results.shape"
   ]
  },
  {
   "cell_type": "code",
   "execution_count": null,
   "id": "38b5e13e",
   "metadata": {},
   "outputs": [],
   "source": [
    "# to start look only at one location\n",
    "mask = (results.Soils_Idx == 309\n",
    "   ) & (results.Met_Idx == 63993.0)\n",
    "\n",
    "ys = np.array(results.loc[mask, 'yield_Kgha'])\n",
    "xs = cult_i[list(results.loc[mask, 'Cult_Idx']), ]"
   ]
  },
  {
   "cell_type": "code",
   "execution_count": null,
   "id": "fa7e13d1",
   "metadata": {},
   "outputs": [],
   "source": [
    "ys = (ys - np.mean(ys))/np.std(ys)\n",
    "xs = (xs - np.mean(xs, axis = 0))/np.std(xs, axis = 0)"
   ]
  },
  {
   "cell_type": "code",
   "execution_count": null,
   "id": "d0952fbf",
   "metadata": {},
   "outputs": [],
   "source": []
  },
  {
   "cell_type": "code",
   "execution_count": null,
   "id": "fd4813ef",
   "metadata": {},
   "outputs": [],
   "source": [
    "# Not much of an effect _except_ for index 4\n",
    "px.scatter(x = xs[:, 1], y = ys)"
   ]
  },
  {
   "cell_type": "code",
   "execution_count": null,
   "id": "e711cd25",
   "metadata": {},
   "outputs": [],
   "source": [
    "# 'Phenology.GrainFilling.Target.FixedValue', makes sense why it would be the primary driver.\n",
    "px.scatter(x = xs[:, 4], y = ys)"
   ]
  },
  {
   "cell_type": "code",
   "execution_count": null,
   "id": "948537ad",
   "metadata": {},
   "outputs": [],
   "source": [
    "ys = torch.from_numpy(ys[:, None]).to(torch.float)\n",
    "xs = torch.from_numpy(xs).to(torch.float)"
   ]
  },
  {
   "cell_type": "code",
   "execution_count": null,
   "id": "1717b250",
   "metadata": {},
   "outputs": [],
   "source": [
    "xs = xs[:, 4:5]"
   ]
  },
  {
   "cell_type": "code",
   "execution_count": null,
   "id": "e1135a94",
   "metadata": {},
   "outputs": [],
   "source": [
    "px.scatter(x = xs, y = ys)"
   ]
  },
  {
   "cell_type": "code",
   "execution_count": null,
   "id": "44fb5df6",
   "metadata": {},
   "outputs": [],
   "source": [
    "bs=100"
   ]
  },
  {
   "cell_type": "code",
   "execution_count": null,
   "id": "f0936e69",
   "metadata": {},
   "outputs": [],
   "source": [
    "train_dl = DataLoader(\n",
    "    simpleDS(\n",
    "        xs[1000:, ], ys[1000:]\n",
    "    ), #.to(device),\n",
    "    batch_size = bs, shuffle = True)\n",
    "\n",
    "valid_dl = DataLoader(\n",
    "    simpleDS(\n",
    "        xs[0:1000:, ], ys[0:1000:]\n",
    "    ), #.to(device),\n",
    "    batch_size = bs, shuffle = True)"
   ]
  },
  {
   "cell_type": "code",
   "execution_count": null,
   "id": "e7dbd29d",
   "metadata": {},
   "outputs": [],
   "source": [
    "[e.shape for e in next(iter(train_dl))]"
   ]
  },
  {
   "cell_type": "code",
   "execution_count": null,
   "id": "403990a3",
   "metadata": {},
   "outputs": [],
   "source": [
    "# dls = DataLoaders(train_dl, valid_dl, device='cpu')\n",
    "dls = DataLoaders(train_dl, valid_dl, device=def_device)"
   ]
  },
  {
   "cell_type": "markdown",
   "id": "2670bd9e",
   "metadata": {},
   "source": [
    "## Testing Learners"
   ]
  },
  {
   "cell_type": "code",
   "execution_count": null,
   "id": "1152165d",
   "metadata": {},
   "outputs": [],
   "source": [
    "def get_model(): return nn.Sequential(nn.Linear(10, 10), nn.ReLU(), nn.Linear(10, 1))        "
   ]
  },
  {
   "cell_type": "code",
   "execution_count": null,
   "id": "7b094fc0",
   "metadata": {},
   "outputs": [],
   "source": [
    "learn = Learner(nn.Sequential(nn.Linear(1, 16), nn.ReLU(), \n",
    "#                               nn.Linear(16, 32), nn.ReLU(), \n",
    "#                               nn.Linear(32, 16), nn.ReLU(), \n",
    "                              nn.Linear(16, 1)), \n",
    "                dls, F.mse_loss, lr=0.02)\n",
    "# learn.fit(1)"
   ]
  },
  {
   "cell_type": "code",
   "execution_count": null,
   "id": "a65fed8b",
   "metadata": {},
   "outputs": [],
   "source": [
    "with torch.no_grad():\n",
    "    yhat = learn.model(dls.train_ds.x)\n",
    "    \n",
    "px.scatter(x = torch.Tensor.numpy(dls.train_ds.y)[:, 0], \n",
    "           y = torch.Tensor.numpy(yhat)[:, 0])"
   ]
  },
  {
   "cell_type": "code",
   "execution_count": null,
   "id": "3a767ad9",
   "metadata": {},
   "outputs": [],
   "source": [
    "learn.fit(50) # learn.fit isn't updating the predicitons?\n",
    "\n",
    "with torch.no_grad():\n",
    "    yhat2 = learn.model(dls.train_ds.x)\n",
    "    \n",
    "px.scatter(x = torch.Tensor.numpy(dls.train_ds.y)[:, 0], \n",
    "           y = torch.Tensor.numpy(yhat2)[:, 0])"
   ]
  },
  {
   "cell_type": "code",
   "execution_count": null,
   "id": "529847c6",
   "metadata": {},
   "outputs": [],
   "source": []
  },
  {
   "cell_type": "code",
   "execution_count": null,
   "id": "3ee759da",
   "metadata": {},
   "outputs": [],
   "source": []
  },
  {
   "cell_type": "code",
   "execution_count": null,
   "id": "22123263",
   "metadata": {},
   "outputs": [],
   "source": []
  },
  {
   "cell_type": "code",
   "execution_count": null,
   "id": "72e148ef",
   "metadata": {},
   "outputs": [],
   "source": []
  },
  {
   "cell_type": "code",
   "execution_count": null,
   "id": "d56d16f3",
   "metadata": {},
   "outputs": [],
   "source": []
  },
  {
   "cell_type": "code",
   "execution_count": null,
   "id": "d5bae361",
   "metadata": {},
   "outputs": [],
   "source": []
  },
  {
   "cell_type": "code",
   "execution_count": null,
   "id": "72aadd72",
   "metadata": {},
   "outputs": [],
   "source": []
  },
  {
   "cell_type": "markdown",
   "id": "14fd2b59",
   "metadata": {},
   "source": [
    "## TrainLearner + MomentumLearner"
   ]
  },
  {
   "cell_type": "code",
   "execution_count": null,
   "id": "e0d4ca16",
   "metadata": {},
   "outputs": [],
   "source": [
    "model =  get_model()\n",
    "model = model.to(def_device)\n",
    "\n",
    "metrics = MetricsCB(accuracy = MeanSquaredError())\n",
    "cbs = [#TrainCB(), # <- # NB: No TrainCB\n",
    "    DeviceCB(), metrics, ProgressCB(plot=True)]\n",
    "learn = MomentumLearner(model, dls, F.mse_loss, lr=0.2, cbs = cbs)\n",
    "learn.fit(2)"
   ]
  },
  {
   "cell_type": "markdown",
   "id": "452c6a4c",
   "metadata": {},
   "source": [
    "## LRFinderCB"
   ]
  },
  {
   "cell_type": "code",
   "execution_count": null,
   "id": "f4840026",
   "metadata": {},
   "outputs": [],
   "source": []
  },
  {
   "cell_type": "code",
   "execution_count": null,
   "id": "df31dd9c",
   "metadata": {},
   "outputs": [],
   "source": [
    "lrfind = LRFinderCB()\n",
    "\n",
    "cbs = [DeviceCB(), lrfind]\n",
    "learn = MomentumLearner(model, dls, F.mse_loss, lr=0.2, cbs = cbs)\n",
    "learn.fit(1)"
   ]
  },
  {
   "cell_type": "code",
   "execution_count": null,
   "id": "9cd31aee",
   "metadata": {},
   "outputs": [],
   "source": [
    "plt.plot(lrfind.lrs, lrfind.losses)\n",
    "plt.xscale('log')"
   ]
  },
  {
   "cell_type": "markdown",
   "id": "d6788d97",
   "metadata": {},
   "source": [
    "## Adding Schedulers"
   ]
  },
  {
   "cell_type": "code",
   "execution_count": null,
   "id": "0b8e06ca",
   "metadata": {},
   "outputs": [],
   "source": []
  },
  {
   "cell_type": "code",
   "execution_count": null,
   "id": "d9d3fd39",
   "metadata": {},
   "outputs": [],
   "source": [
    "model =get_model().to(def_device)"
   ]
  },
  {
   "cell_type": "code",
   "execution_count": null,
   "id": "69084fb6",
   "metadata": {},
   "outputs": [],
   "source": [
    "# I don't have a clue as to why but this produces a linear response the first time it's run\n",
    "# the second time it behaves normally.\n",
    "\n",
    "cbs = [DeviceCB()]\n",
    "learn = MomentumLearner(model, dls, F.mse_loss, lr=1e-5, cbs=cbs)\n",
    "learn.fit(3, cbs=LRFinderCB())"
   ]
  },
  {
   "cell_type": "code",
   "execution_count": null,
   "id": "bbb01da6",
   "metadata": {},
   "outputs": [],
   "source": [
    "# lr_find was added in lesson 18. It's just a shorter way of using LRFinderCB.\n",
    "@fc.patch\n",
    "def lr_find(self:Learner, gamma=1.3, max_mult=3, start_lr=1e-5, max_epochs=10):\n",
    "    self.fit(max_epochs, lr=start_lr, cbs=LRFinderCB(gamma=gamma, max_mult=max_mult))"
   ]
  },
  {
   "cell_type": "code",
   "execution_count": null,
   "id": "7eb81b2c",
   "metadata": {},
   "outputs": [],
   "source": [
    "model = get_model()\n",
    "MomentumLearner(model, dls, F.mse_loss, cbs=cbs).lr_find()"
   ]
  },
  {
   "cell_type": "code",
   "execution_count": null,
   "id": "e00347d4",
   "metadata": {},
   "outputs": [],
   "source": [
    "MomentumLearner(model, dls, F.mse_loss, cbs=cbs).lr_find()"
   ]
  },
  {
   "cell_type": "markdown",
   "id": "b1e73af0",
   "metadata": {},
   "source": [
    "# Activations"
   ]
  },
  {
   "cell_type": "code",
   "execution_count": null,
   "id": "92dbca65",
   "metadata": {},
   "outputs": [],
   "source": [
    "def lin_layers(): return [nn.Linear(10, 10), nn.ReLU(), nn.Linear(10, 1)]"
   ]
  },
  {
   "cell_type": "code",
   "execution_count": null,
   "id": "4cf2d416",
   "metadata": {},
   "outputs": [],
   "source": [
    "def fit(model, epochs = 1, xtra_cbs = None):\n",
    "    # fc.L is a Fastcore list. List that you can index with masks or a list of indices\n",
    "    learn = Learner(model, dls, F.mse_loss, lr=0.2, cbs = cbs+fc.L(xtra_cbs))\n",
    "    learn.fit(epochs)\n",
    "    return learn"
   ]
  },
  {
   "cell_type": "code",
   "execution_count": null,
   "id": "c163a194",
   "metadata": {},
   "outputs": [],
   "source": [
    "metrics = MetricsCB(accuracy=MeanSquaredError())\n",
    "cbs = [TrainCB(), DeviceCB(), metrics, ProgressCB(plot=True)]\n",
    "\n",
    "# model = get_model()\n",
    "\n",
    "learn = fit(nn.Sequential(*lin_layers()), 4)"
   ]
  },
  {
   "cell_type": "code",
   "execution_count": null,
   "id": "b3364073",
   "metadata": {},
   "outputs": [],
   "source": [
    "# aside: what do the parameters look like?"
   ]
  },
  {
   "cell_type": "code",
   "execution_count": null,
   "id": "c8d6f67e",
   "metadata": {},
   "outputs": [],
   "source": [
    "# for name, param in model.named_parameters():\n",
    "#     print(name, param)"
   ]
  },
  {
   "cell_type": "code",
   "execution_count": null,
   "id": "2a8901cc",
   "metadata": {},
   "outputs": [],
   "source": [
    "weight_bias_list=[(name, param) for name, param in model.named_parameters()]\n",
    "import plotly.express as px\n",
    "px.imshow(torch.Tensor.numpy(weight_bias_list[0][1].detach().cpu()))"
   ]
  },
  {
   "cell_type": "code",
   "execution_count": null,
   "id": "ed42cbad",
   "metadata": {},
   "outputs": [],
   "source": [
    "import plotly.express as px\n",
    "px.imshow(torch.Tensor.numpy(weight_bias_list[0][1].detach().cpu()))"
   ]
  },
  {
   "cell_type": "code",
   "execution_count": null,
   "id": "6e0d3526",
   "metadata": {},
   "outputs": [],
   "source": [
    "np.std(torch.Tensor.numpy(weight_bias_list[0][1].detach().cpu()))"
   ]
  },
  {
   "cell_type": "code",
   "execution_count": null,
   "id": "ee431b85",
   "metadata": {},
   "outputs": [],
   "source": [
    "px.imshow(np.std(torch.Tensor.numpy(weight_bias_list[0][1].detach().cpu()), axis=0)[None,:])"
   ]
  },
  {
   "cell_type": "code",
   "execution_count": null,
   "id": "ee24bc53",
   "metadata": {},
   "outputs": [],
   "source": []
  },
  {
   "cell_type": "markdown",
   "id": "6e1d3a58",
   "metadata": {},
   "source": [
    "## Hooks"
   ]
  },
  {
   "cell_type": "markdown",
   "id": "17bc9942",
   "metadata": {},
   "source": [
    "### Hooks, Manual"
   ]
  },
  {
   "cell_type": "code",
   "execution_count": null,
   "id": "646e99a7",
   "metadata": {},
   "outputs": [],
   "source": [
    "class SequentialModel(nn.Module):\n",
    "    def __init__(self, *layers):\n",
    "        super().__init__()\n",
    "        self.layers = nn.ModuleList(layers)\n",
    "        self.act_means = [[] for _ in layers]\n",
    "        self.act_stds  = [[] for _ in layers]\n",
    "        \n",
    "    def __call__(self, x):                              # This is the big difference\n",
    "        for i,l in enumerate(self.layers):              # same sort of idea as in forward\n",
    "            x = l(x)                                    # but activation mean and std \n",
    "            self.act_means[i].append(to_cpu(x).mean())  # is tracked\n",
    "            self.act_stds [i].append(to_cpu(x).std ())  #\n",
    "        return x                                        #\n",
    "    \n",
    "    def __iter__(self): return iter(self.layers)"
   ]
  },
  {
   "cell_type": "code",
   "execution_count": null,
   "id": "22686efe",
   "metadata": {},
   "outputs": [],
   "source": [
    "model = SequentialModel(*lin_layers())\n",
    "learn = fit(model, 1)"
   ]
  },
  {
   "cell_type": "code",
   "execution_count": null,
   "id": "279fb941",
   "metadata": {},
   "outputs": [],
   "source": [
    "for l in model.act_means: plt.plot(l)\n",
    "plt.legend(range(5));"
   ]
  },
  {
   "cell_type": "code",
   "execution_count": null,
   "id": "8752bc7a",
   "metadata": {},
   "outputs": [],
   "source": [
    "for l in model.act_stds: plt.plot(l)\n",
    "plt.legend(range(5));"
   ]
  },
  {
   "cell_type": "markdown",
   "id": "61c38f90",
   "metadata": {},
   "source": [
    "### Hooks, Pytorch"
   ]
  },
  {
   "cell_type": "code",
   "execution_count": null,
   "id": "c7b4b022",
   "metadata": {},
   "outputs": [],
   "source": [
    "# A hook attaches to a layer and needs\n",
    "# 1. module\n",
    "# 2. input\n",
    "# 3. output\n",
    "def append_stats(i, mod, inp, outp):\n",
    "    act_means[i].append(to_cpu(outp).mean())\n",
    "    act_stds [i].append(to_cpu(outp).std())"
   ]
  },
  {
   "cell_type": "code",
   "execution_count": null,
   "id": "d56d00fd",
   "metadata": {},
   "outputs": [],
   "source": [
    "model = SequentialModel(*lin_layers())\n",
    "\n",
    "act_means = [[] for _ in model]\n",
    "act_stds  = [[] for _ in model]"
   ]
  },
  {
   "cell_type": "code",
   "execution_count": null,
   "id": "89d92ac4",
   "metadata": {},
   "outputs": [],
   "source": [
    "# for each layer, register a hook.\n",
    "for i,m in enumerate(model): m.register_forward_hook(partial(append_stats, i))"
   ]
  },
  {
   "cell_type": "code",
   "execution_count": null,
   "id": "6770d182",
   "metadata": {},
   "outputs": [],
   "source": [
    "fit(model, 1)"
   ]
  },
  {
   "cell_type": "code",
   "execution_count": null,
   "id": "f15a87f0",
   "metadata": {},
   "outputs": [],
   "source": [
    "for o in act_means: plt.plot(o)\n",
    "plt.legend(range(5));"
   ]
  },
  {
   "cell_type": "markdown",
   "id": "50b57ef9",
   "metadata": {},
   "source": [
    "### Hook, class"
   ]
  },
  {
   "cell_type": "code",
   "execution_count": null,
   "id": "ed0b64ae",
   "metadata": {},
   "outputs": [],
   "source": [
    "class Hook():\n",
    "    def __init__(self, m, f): self.hook = m.register_forward_hook(partial(f, self))\n",
    "    def remove(self): self.hook.remove()\n",
    "    def __del__(self): self.remove() # Important to remove hooks when deleted to free up memory when the model is deleted."
   ]
  },
  {
   "cell_type": "code",
   "execution_count": null,
   "id": "f273ce54",
   "metadata": {},
   "outputs": [],
   "source": [
    "def append_stats(hook, mod, inp, outp):\n",
    "    if not hasattr(hook,'stats'): hook.stats = ([],[])\n",
    "    acts = to_cpu(outp)\n",
    "    hook.stats[0].append(acts.mean())\n",
    "    hook.stats[1].append(acts.std())"
   ]
  },
  {
   "cell_type": "code",
   "execution_count": null,
   "id": "5237e023",
   "metadata": {},
   "outputs": [],
   "source": [
    "model = nn.Sequential(*lin_layers())"
   ]
  },
  {
   "cell_type": "code",
   "execution_count": null,
   "id": "dd87b399",
   "metadata": {},
   "outputs": [],
   "source": [
    "hooks = [Hook(l, append_stats) for l in model[:5].children()]"
   ]
  },
  {
   "cell_type": "code",
   "execution_count": null,
   "id": "51a1c07e",
   "metadata": {},
   "outputs": [],
   "source": [
    "learn = fit(model)"
   ]
  },
  {
   "cell_type": "code",
   "execution_count": null,
   "id": "85295f1a",
   "metadata": {},
   "outputs": [],
   "source": [
    "for h in hooks:\n",
    "    plt.plot(h.stats[0])\n",
    "    h.remove()\n",
    "plt.legend(range(5));"
   ]
  },
  {
   "cell_type": "markdown",
   "id": "f4c7da4c",
   "metadata": {},
   "source": [
    "### Hook_s_, class"
   ]
  },
  {
   "cell_type": "code",
   "execution_count": null,
   "id": "3042d86b",
   "metadata": {},
   "outputs": [],
   "source": [
    "class DummyCtxMgr:\n",
    "    def __enter__(self, *args):\n",
    "        print(\"let's go!\")\n",
    "        return self\n",
    "    def __exit__ (self, *args): print(\"all done!\")\n",
    "    def hello(self): print(\"hello.\")\n",
    "\n",
    "with DummyCtxMgr() as dcm: dcm.hello()"
   ]
  },
  {
   "cell_type": "code",
   "execution_count": null,
   "id": "37f91be6",
   "metadata": {},
   "outputs": [],
   "source": [
    "class DummyList(list):\n",
    "    def __delitem__(self, i):\n",
    "        print(f\"Say bye to item {i}\")\n",
    "        super().__delitem__(i)\n",
    "        \n",
    "dml = DummyList([1,3,2])\n",
    "print(dml)\n",
    "del(dml[2])\n",
    "dml"
   ]
  },
  {
   "cell_type": "code",
   "execution_count": null,
   "id": "b17ce1e5",
   "metadata": {},
   "outputs": [],
   "source": [
    "# updated version, previous wasn't based on list.\n",
    "class Hooks(list):\n",
    "    def __init__(self, ms, f): super().__init__([Hook(m, f) for m in ms])\n",
    "    def __enter__(self, *args): return self\n",
    "    def __exit__ (self, *args): self.remove()\n",
    "    def __del__(self): self.remove()\n",
    "    def __delitem__(self, i):\n",
    "        self[i].remove()\n",
    "        super().__delitem__(i)\n",
    "    def remove(self):\n",
    "        for h in self: h.remove()"
   ]
  },
  {
   "cell_type": "code",
   "execution_count": null,
   "id": "6bdd6e7a",
   "metadata": {},
   "outputs": [],
   "source": [
    "model = nn.Sequential(*lin_layers())"
   ]
  },
  {
   "cell_type": "code",
   "execution_count": null,
   "id": "9a28d8c3",
   "metadata": {},
   "outputs": [],
   "source": [
    "with Hooks(model, append_stats) as hooks:\n",
    "    fit(model)\n",
    "    fig,axs = plt.subplots(1,2, figsize=(10,4))\n",
    "    for h in hooks:\n",
    "        for i in 0,1: axs[i].plot(h.stats[i])\n",
    "    plt.legend(range(6));"
   ]
  },
  {
   "cell_type": "markdown",
   "id": "732efbfa",
   "metadata": {},
   "source": [
    "### HooksCallback (allows filtering)"
   ]
  },
  {
   "cell_type": "code",
   "execution_count": null,
   "id": "21dcf685",
   "metadata": {},
   "outputs": [],
   "source": [
    "class HooksCallback(Callback):\n",
    "    def __init__(self, hookfunc, mod_filter=fc.noop, on_train=True, on_valid=False, mods=None):\n",
    "        fc.store_attr()\n",
    "        super().__init__()\n",
    "    \n",
    "    def before_fit(self, learn):\n",
    "        if self.mods: mods=self.mods\n",
    "        else: mods = fc.filter_ex(learn.model.modules(), self.mod_filter)\n",
    "        self.hooks = Hooks(mods, partial(self._hookfunc, learn))\n",
    "\n",
    "    def _hookfunc(self, learn, *args, **kwargs):\n",
    "        if (self.on_train and learn.training) or (self.on_valid and not learn.training): self.hookfunc(*args, **kwargs)\n",
    "\n",
    "    def after_fit(self, learn): self.hooks.remove()\n",
    "    def __iter__(self): return iter(self.hooks)\n",
    "    def __len__(self): return len(self.hooks)"
   ]
  },
  {
   "cell_type": "code",
   "execution_count": null,
   "id": "6b13aa14",
   "metadata": {},
   "outputs": [],
   "source": [
    "hc = HooksCallback(append_stats, mod_filter=fc.risinstance(nn.Linear))"
   ]
  },
  {
   "cell_type": "code",
   "execution_count": null,
   "id": "6aacab25",
   "metadata": {},
   "outputs": [],
   "source": [
    "model = nn.Sequential(*lin_layers())\n",
    "fit(model, xtra_cbs=[hc]);"
   ]
  },
  {
   "cell_type": "code",
   "execution_count": null,
   "id": "3ec607ea",
   "metadata": {},
   "outputs": [],
   "source": [
    "fig,axs = plt.subplots(1,2, figsize=(10,4))\n",
    "for h in hc:\n",
    "    for i in 0,1: axs[i].plot(h.stats[i])\n",
    "plt.legend(range(6));"
   ]
  },
  {
   "cell_type": "markdown",
   "id": "a8e2151a",
   "metadata": {},
   "source": [
    "### Histograms"
   ]
  },
  {
   "cell_type": "code",
   "execution_count": null,
   "id": "28eb0a30",
   "metadata": {},
   "outputs": [],
   "source": [
    "def append_stats(hook, mod, inp, outp):\n",
    "    if not hasattr(hook,'stats'): hook.stats = ([],[],[])\n",
    "    acts = to_cpu(outp)\n",
    "    hook.stats[0].append(acts.mean())\n",
    "    hook.stats[1].append(acts.std())\n",
    "    hook.stats[2].append(acts.abs().histc(40,0,10))"
   ]
  },
  {
   "cell_type": "code",
   "execution_count": null,
   "id": "b424e4b9",
   "metadata": {},
   "outputs": [],
   "source": [
    "model = nn.Sequential(*lin_layers())\n",
    "hc = HooksCallback(append_stats, mod_filter=fc.risinstance(nn.Linear))\n",
    "fit(model, xtra_cbs=[hc]);"
   ]
  },
  {
   "cell_type": "code",
   "execution_count": null,
   "id": "9eff11db",
   "metadata": {},
   "outputs": [],
   "source": []
  },
  {
   "cell_type": "code",
   "execution_count": null,
   "id": "8d445c6f",
   "metadata": {},
   "outputs": [],
   "source": [
    "model[0].parameters"
   ]
  },
  {
   "cell_type": "code",
   "execution_count": null,
   "id": "9514c6bb",
   "metadata": {},
   "outputs": [],
   "source": [
    "import matplotlib.pyplot as plt"
   ]
  },
  {
   "cell_type": "code",
   "execution_count": null,
   "id": "a77f25d4",
   "metadata": {},
   "outputs": [],
   "source": [
    "def get_hist(h): return torch.stack(h.stats[2]).t().float().log1p()"
   ]
  },
  {
   "cell_type": "code",
   "execution_count": null,
   "id": "06a94cef",
   "metadata": {},
   "outputs": [],
   "source": [
    "fig, axes = get_grid(len(hc), figsize=(11,5))"
   ]
  },
  {
   "cell_type": "code",
   "execution_count": null,
   "id": "06c3b970",
   "metadata": {},
   "outputs": [],
   "source": [
    "h, _ = hc\n",
    "\n",
    "[len(e) for e in h.stats]"
   ]
  },
  {
   "cell_type": "code",
   "execution_count": null,
   "id": "81ba1745",
   "metadata": {},
   "outputs": [],
   "source": [
    "h_concat = [\n",
    "    torch.concat([e.reshape(1) for e in h.stats[0]]),\n",
    "    torch.concat([e.reshape(1) for e in h.stats[1]]),\n",
    "    torch.concat([e[:, None] for e in h.stats[2]], axis = 1)\n",
    "]\n",
    "[e.shape for e in h_concat]"
   ]
  },
  {
   "cell_type": "code",
   "execution_count": null,
   "id": "8fe6d85e",
   "metadata": {},
   "outputs": [],
   "source": [
    "plt.imshow(torch.Tensor.numpy(h_concat[0])[:, None])"
   ]
  },
  {
   "cell_type": "code",
   "execution_count": null,
   "id": "cabf6634",
   "metadata": {},
   "outputs": [],
   "source": [
    "plt.imshow(torch.Tensor.numpy(h_concat[1])[:, None])"
   ]
  },
  {
   "cell_type": "code",
   "execution_count": null,
   "id": "3b14db12",
   "metadata": {},
   "outputs": [],
   "source": [
    "plt.imshow(torch.Tensor.numpy(h_concat[2]))"
   ]
  },
  {
   "cell_type": "markdown",
   "id": "8ccd9f67",
   "metadata": {},
   "source": [
    "## Initalizations\n"
   ]
  },
  {
   "cell_type": "code",
   "execution_count": null,
   "id": "c1128c92",
   "metadata": {},
   "outputs": [],
   "source": []
  },
  {
   "cell_type": "markdown",
   "id": "4c87cfd9",
   "metadata": {},
   "source": [
    "## Init with LSUV"
   ]
  },
  {
   "cell_type": "code",
   "execution_count": null,
   "id": "c56add34",
   "metadata": {},
   "outputs": [],
   "source": [
    "def _lsuv_stats(hook, mod, inp, outp):\n",
    "#     acts = to_cpu(outp)\n",
    "    acts = outp\n",
    "    hook.mean = acts.mean()\n",
    "    hook.std = acts.std()\n",
    "    # added safety to not fully normalize instead of crashing\n",
    "    # in test case the linear weight matrix is becoming inf/-inf\n",
    "    if (torch.isnan(hook.std) or\n",
    "        hook.std == 0):\n",
    "        hook.std = 1\n",
    "    \n",
    "#     print(acts.std())\n",
    "\n",
    "def lsuv_init(model, m, m_in, xb):\n",
    "    print(m)\n",
    "    h = Hook(m, _lsuv_stats)\n",
    "    with torch.no_grad():\n",
    "        while model(xb) is not None and (abs(h.std-1)>1e-3 or abs(h.mean)>1e-3):\n",
    "            m_in.bias -= h.mean\n",
    "            m_in.weight.data /= h.std\n",
    "    h.remove()"
   ]
  },
  {
   "cell_type": "code",
   "execution_count": null,
   "id": "8fdcb9d1",
   "metadata": {},
   "outputs": [],
   "source": [
    "model=nn.Sequential(*[nn.Linear(2,10), nn.ReLU(), nn.Linear(10, 1)])\n",
    "relus = [o for o in model.modules() if isinstance(o, nn.ReLU)]\n",
    "lins = [o for o in model.modules() if isinstance(o, nn.Linear)]"
   ]
  },
  {
   "cell_type": "code",
   "execution_count": null,
   "id": "cb355296",
   "metadata": {},
   "outputs": [],
   "source": [
    "# weight_bias_list=[(name, param) for name, param in model.named_parameters()]; weight_bias_list"
   ]
  },
  {
   "cell_type": "code",
   "execution_count": null,
   "id": "0a180170",
   "metadata": {},
   "outputs": [],
   "source": [
    "model"
   ]
  },
  {
   "cell_type": "code",
   "execution_count": null,
   "id": "3cb3e2d4",
   "metadata": {},
   "outputs": [],
   "source": [
    "xb,yb = next(iter(dls.train))\n",
    "xb\n",
    "for ms in zip(relus,lins): lsuv_init(model, *ms, xb) #.to(def_device))"
   ]
  },
  {
   "cell_type": "code",
   "execution_count": null,
   "id": "cf4d7475",
   "metadata": {},
   "outputs": [],
   "source": [
    "weight_bias_list=[(name, param) for name, param in model.named_parameters()]; weight_bias_list"
   ]
  },
  {
   "cell_type": "code",
   "execution_count": null,
   "id": "f04988ff",
   "metadata": {},
   "outputs": [],
   "source": []
  },
  {
   "cell_type": "code",
   "execution_count": null,
   "id": "34eb3be8",
   "metadata": {},
   "outputs": [],
   "source": [
    "learn = MomentumLearner(model, dls, F.mse_loss, lr=0.002, \n",
    "                        cbs=[DeviceCB(), metrics, ProgressCB(plot=True)]\n",
    "                       )\n",
    "learn.fit(2)"
   ]
  },
  {
   "cell_type": "code",
   "execution_count": null,
   "id": "69943cfb",
   "metadata": {},
   "outputs": [],
   "source": [
    "weight_bias_list=[(name, param) for name, param in model.named_parameters()]; weight_bias_list"
   ]
  },
  {
   "cell_type": "code",
   "execution_count": null,
   "id": "d833c986",
   "metadata": {},
   "outputs": [],
   "source": [
    "weight_list = [#torch.Tensor.numpy(\n",
    "    e[1].detach().cpu() for e in weight_bias_list if e[0].split('.')[1] == 'weight']\n",
    "weight_list[0]"
   ]
  },
  {
   "cell_type": "code",
   "execution_count": null,
   "id": "c41ec099",
   "metadata": {},
   "outputs": [],
   "source": []
  },
  {
   "cell_type": "code",
   "execution_count": null,
   "id": "56b55014",
   "metadata": {},
   "outputs": [],
   "source": [
    "px.imshow(torch.Tensor.numpy(\n",
    "    torch.concat(\n",
    "        [e.histc(20,0,10)[None, :] for e in weight_list], \n",
    "        axis = 0)))"
   ]
  },
  {
   "cell_type": "code",
   "execution_count": null,
   "id": "3e4af4a2",
   "metadata": {},
   "outputs": [],
   "source": [
    "np.histogram([1, 2, 1], bins=[0, 1, 2, 3])"
   ]
  },
  {
   "cell_type": "code",
   "execution_count": null,
   "id": "664b1d97",
   "metadata": {},
   "outputs": [],
   "source": [
    "np.histogram(weight_list[0], \n",
    "             bins=[0, 1, 10],\n",
    "             density=True)"
   ]
  },
  {
   "cell_type": "code",
   "execution_count": null,
   "id": "ffeb53e5",
   "metadata": {},
   "outputs": [],
   "source": []
  },
  {
   "cell_type": "code",
   "execution_count": null,
   "id": "ba2ee7f6",
   "metadata": {},
   "outputs": [],
   "source": []
  },
  {
   "cell_type": "code",
   "execution_count": null,
   "id": "312d3f60",
   "metadata": {},
   "outputs": [],
   "source": []
  },
  {
   "cell_type": "code",
   "execution_count": null,
   "id": "98d5d581",
   "metadata": {},
   "outputs": [],
   "source": []
  },
  {
   "cell_type": "code",
   "execution_count": null,
   "id": "486c11d8",
   "metadata": {},
   "outputs": [],
   "source": []
  },
  {
   "cell_type": "code",
   "execution_count": null,
   "id": "26f37a51",
   "metadata": {},
   "outputs": [],
   "source": []
  },
  {
   "cell_type": "markdown",
   "id": "9a08be37",
   "metadata": {},
   "source": [
    "#"
   ]
  },
  {
   "cell_type": "code",
   "execution_count": null,
   "id": "2d5d19c0",
   "metadata": {},
   "outputs": [],
   "source": [
    "# class apsimxDataset(Dataset):\n",
    "#     def __init__(self, lookup_smc, ph, ys, soil, met, cult, device):\n",
    "#         self.lookup_smc = lookup_smc\n",
    "#         self.ph = ph\n",
    "#         self.ys = ys\n",
    "#         self.soil = soil\n",
    "#         self.met = met\n",
    "#         self.cult = cult\n",
    "#         self.device = device\n",
    "        \n",
    "#     def __len__(self):\n",
    "#         return self.ys.shape[0]\n",
    "    \n",
    "#     def __getitem__(self, idx):\n",
    "#         s_i, m_i, c_i = self.lookup_smc[idx, ]\n",
    "        \n",
    "#         met_plant = torch.tensor(\n",
    "#             [0.0 if ((i < int(self.ph[idx, 0])) or (i > int(self.ph[idx, 1]))) else 1.0\n",
    "#             for i in range(365)])\n",
    "#         if self.device == 'cuda':\n",
    "#             met_plant = met_plant.to('cuda')\n",
    "        \n",
    "#         return self.ys[idx, ], self.soil[s_i, ], torch.concat([self.met[m_i, ], met_plant[:, None]], axis = 1), self.cult[c_i, ]\n",
    "\n",
    "# device = 'cuda'"
   ]
  },
  {
   "cell_type": "code",
   "execution_count": null,
   "id": "de0ae8a6",
   "metadata": {},
   "outputs": [],
   "source": [
    "class apsimxMet(Dataset):\n",
    "    def __init__(self, met):\n",
    "        self.met = met\n",
    "    def __len__(self):\n",
    "        return self.met.shape[0]\n",
    "    def __getitem__(self, idx):\n",
    "        return self.met[idx, ]\n",
    "\n",
    "    "
   ]
  },
  {
   "cell_type": "code",
   "execution_count": null,
   "id": "4489e73d",
   "metadata": {},
   "outputs": [],
   "source": [
    "# training_dataloader = DataLoader(apsimxMet(\n",
    "#     met = torch.from_numpy(met_np).to(torch.float), #.to(device),\n",
    "# ), \n",
    "#                                  batch_size = 25,\n",
    "#                                  shuffle = True)"
   ]
  },
  {
   "cell_type": "code",
   "execution_count": null,
   "id": "a516b1ca",
   "metadata": {},
   "outputs": [],
   "source": [
    "data = DataLoaders(DataLoader(apsimxMet(\n",
    "                met = torch.from_numpy(met_np[0:38, ]).to(torch.float), #.to(device),\n",
    "            ), batch_size = 25, shuffle = True),\n",
    "                   \n",
    "            DataLoader(apsimxMet(\n",
    "                met = torch.from_numpy(met_np[38:76, ]).to(torch.float), #.to(device),\n",
    "            ), batch_size = 25, shuffle = True)\n",
    "           )"
   ]
  },
  {
   "cell_type": "code",
   "execution_count": null,
   "id": "38952033",
   "metadata": {},
   "outputs": [],
   "source": [
    "mod"
   ]
  },
  {
   "cell_type": "code",
   "execution_count": null,
   "id": "3f8f6ff0",
   "metadata": {},
   "outputs": [],
   "source": [
    "learn = Learner(data, Net(), loss_func=F.nll_loss, opt_func=Adam, metrics=accuracy)"
   ]
  },
  {
   "cell_type": "code",
   "execution_count": null,
   "id": "d64e7da8",
   "metadata": {},
   "outputs": [],
   "source": [
    "from torch import nn\n",
    "mod = \n",
    "\n",
    "nn.Sequential(\n",
    "    nn.Flatten(),\n",
    "    nn.Linear(365*8, 1024),\n",
    "    nn.ReLU(), \n",
    "    nn.Linear(1024, 365*8)\n",
    ")\n",
    "\n",
    "\n",
    "# mod(next(iter(training_dataloader)))"
   ]
  },
  {
   "cell_type": "code",
   "execution_count": null,
   "id": "63be8383",
   "metadata": {},
   "outputs": [],
   "source": [
    "# restrict to one location\n",
    "met_np = met_np[0:38, ]"
   ]
  },
  {
   "cell_type": "code",
   "execution_count": null,
   "id": "2235dfa1",
   "metadata": {},
   "outputs": [],
   "source": []
  },
  {
   "cell_type": "code",
   "execution_count": null,
   "id": "19ba2c6c",
   "metadata": {},
   "outputs": [],
   "source": [
    "import plotly.express as px\n",
    "px.imshow(met_np[0].T[:, 0:30])"
   ]
  },
  {
   "cell_type": "code",
   "execution_count": null,
   "id": "ef4a670c",
   "metadata": {},
   "outputs": [],
   "source": [
    "cs = [met_np.mean(axis = 0), met_np.std(axis = 0)]\n",
    "met_np = (met_np - cs[0])/cs[1]"
   ]
  },
  {
   "cell_type": "code",
   "execution_count": null,
   "id": "5cb484b2",
   "metadata": {},
   "outputs": [],
   "source": [
    "[e.shape for e in cs]"
   ]
  },
  {
   "cell_type": "code",
   "execution_count": null,
   "id": "c1bafaff",
   "metadata": {},
   "outputs": [],
   "source": []
  },
  {
   "cell_type": "code",
   "execution_count": null,
   "id": "7db5d682",
   "metadata": {},
   "outputs": [],
   "source": [
    "px.imshow(next(iter(training_dataloader))[0].detach().cpu().T[:, 0:30])"
   ]
  },
  {
   "cell_type": "code",
   "execution_count": null,
   "id": "2d2a20df",
   "metadata": {},
   "outputs": [],
   "source": [
    "next(iter(training_dataloader)).shape"
   ]
  },
  {
   "cell_type": "code",
   "execution_count": null,
   "id": "d405d3bf",
   "metadata": {},
   "outputs": [],
   "source": []
  },
  {
   "cell_type": "code",
   "execution_count": null,
   "id": "3c1df962",
   "metadata": {},
   "outputs": [],
   "source": [
    "from torch import nn\n",
    "mod = nn.Sequential(\n",
    "    nn.Flatten(),\n",
    "    nn.Linear(365*8, 512),\n",
    "    nn.ReLU(), \n",
    "    nn.Linear(512, 10),\n",
    "    nn.ReLU(), \n",
    "    nn.Linear(10, 1)\n",
    ")\n",
    "\n",
    "mod(next(iter(training_dataloader)))"
   ]
  },
  {
   "cell_type": "code",
   "execution_count": null,
   "id": "387b106c",
   "metadata": {},
   "outputs": [],
   "source": []
  },
  {
   "cell_type": "code",
   "execution_count": null,
   "id": "37e5ccc3",
   "metadata": {},
   "outputs": [],
   "source": []
  },
  {
   "cell_type": "code",
   "execution_count": null,
   "id": "922d68da",
   "metadata": {},
   "outputs": [],
   "source": [
    "class myLearn:\n",
    "    def __init__(\n",
    "        self, \n",
    "        model, \n",
    "        dl, # this is the basic dataloader\n",
    "        loss_func,\n",
    "        lr, \n",
    "        opt_func= torch.optim.SGD):\n",
    "        self.model = model\n",
    "        self.dl = dl\n",
    "        self.loss_func = loss_func\n",
    "        self.lr = lr\n",
    "        self.opt_fun = opt_fun\n",
    "    \n",
    "    def one_batch():"
   ]
  },
  {
   "cell_type": "code",
   "execution_count": null,
   "id": "5475735b",
   "metadata": {},
   "outputs": [],
   "source": [
    "class Learner:\n",
    "    def __init__(self, model, dls, loss_func, lr, opt_func=optim.SGD): fc.store_attr()\n",
    "\n",
    "    def one_batch(self):\n",
    "        self.xb,self.yb = to_device(self.batch)\n",
    "        self.preds = self.model(self.xb)\n",
    "        self.loss = self.loss_func(self.preds, self.yb)\n",
    "        if self.model.training:\n",
    "            self.loss.backward()\n",
    "            self.opt.step()\n",
    "            self.opt.zero_grad()\n",
    "        with torch.no_grad(): self.calc_stats()\n",
    "\n",
    "    def calc_stats(self):\n",
    "        acc = (self.preds.argmax(dim=1)==self.yb).float().sum()\n",
    "        self.accs.append(acc)\n",
    "        n = len(self.xb)\n",
    "        self.losses.append(self.loss*n)\n",
    "        self.ns.append(n)\n",
    "\n",
    "    def one_epoch(self, train):\n",
    "        self.model.training = train\n",
    "        dl = self.dls.train if train else self.dls.valid\n",
    "        for self.num,self.batch in enumerate(dl): self.one_batch()\n",
    "        n = sum(self.ns)\n",
    "        print(self.epoch, self.model.training, sum(self.losses).item()/n, sum(self.accs).item()/n)\n",
    "    \n",
    "    def fit(self, n_epochs):\n",
    "        self.accs,self.losses,self.ns = [],[],[]\n",
    "        self.model.to(def_device)\n",
    "        self.opt = self.opt_func(self.model.parameters(), self.lr)\n",
    "        self.n_epochs = n_epochs\n",
    "        for self.epoch in range(n_epochs):\n",
    "            self.one_epoch(True)\n",
    "            with torch.no_grad(): self.one_epoch(False)"
   ]
  },
  {
   "cell_type": "code",
   "execution_count": null,
   "id": "6a78cbab",
   "metadata": {},
   "outputs": [],
   "source": []
  },
  {
   "cell_type": "code",
   "execution_count": null,
   "id": "24092d7a",
   "metadata": {},
   "outputs": [],
   "source": []
  },
  {
   "cell_type": "code",
   "execution_count": null,
   "id": "3abe3f30",
   "metadata": {},
   "outputs": [],
   "source": [
    "# import torch\n",
    "# from torch.utils.data import Dataset\n",
    "# from torch.utils.data import DataLoader\n",
    "# from torch import nn\n",
    "\n",
    "# import torch.nn.functional as F # used in VAE\n",
    "\n",
    "\n",
    "\n",
    "# lookup_smc = torch.from_numpy(np.array(res_lookup).astype(int))\n",
    "# ph   = torch.from_numpy(np.array(res_plantharvest))\n",
    "# ys   = torch.from_numpy(np.array(res_ys.loc[:, 'yield_Kgha']))\n",
    "# soil = torch.from_numpy(np.array(soils_np_i)).swapaxes(1,2)\n",
    "# met  = torch.from_numpy(np.array(met_np))\n",
    "# cult = torch.from_numpy(np.array(cult_np))\n",
    "\n",
    "\n",
    "# def cs_tensor(M):\n",
    "#     mu_std = [M.mean(axis = 0), M.std(axis = 0)]\n",
    "#     mu_std[1][mu_std[1] == 0] = 1\n",
    "#     M_new = (M-mu_std[0])/mu_std[1]\n",
    "#     return(mu_std, M_new)\n",
    "\n",
    "# ys_cs,   ys   = cs_tensor(M = ys) \n",
    "# soil_cs, soil = cs_tensor(M = soil) \n",
    "# met_cs,  met  = cs_tensor(M = met) \n",
    "# cult_cs, cult = cs_tensor(M = cult) \n",
    "\n",
    "\n",
    "\n",
    "\n",
    "\n",
    "# training_dataloader = DataLoader(\n",
    "#     apsimxDataset(\n",
    "# #         lookup_smc = lookup_smc,\n",
    "# #         ph = ph,\n",
    "# #         ys = ys.to(torch.float),\n",
    "# #         soil = soil.to(torch.float),\n",
    "# #         met = met.to(torch.float),\n",
    "# #         cult = cult.to(torch.float),\n",
    "# #         device = 'cpu'\n",
    "#         lookup_smc = lookup_smc.to(device),\n",
    "#         ph = ph.to(device),\n",
    "#         ys = ys.to(device).to(torch.float),\n",
    "#         soil = soil.to(device).to(torch.float),\n",
    "#         met = met.to(device).to(torch.float),\n",
    "#         cult = cult.to(device).to(torch.float),\n",
    "#         device = 'cuda'\n",
    "#     ),\n",
    "#     batch_size = 500,\n",
    "#     shuffle = True\n",
    "# )\n",
    "\n",
    "\n",
    "\n",
    "# ys, soil, met, cult = next(iter(training_dataloader))\n",
    "# [e.shape for e in [ys, soil, met, cult]]\n",
    "\n",
    "# class invApsimxNet(nn.Module):\n",
    "#     def __init__(self):\n",
    "#         super(invApsimxNet, self).__init__()\n",
    "# #         self.ynet = nn.Sequential(nn.Flatten())\n",
    "#         self.snet = nn.Sequential(\n",
    "#             nn.Conv1d(24, out_channels=36,\n",
    "#                       kernel_size= 3, stride= 2, padding  = 1),\n",
    "#             nn.BatchNorm1d(36),\n",
    "#             nn.LeakyReLU(), \n",
    "#             nn.Conv1d(36, out_channels=64,\n",
    "#                       kernel_size= 3, stride= 2, padding  = 1),\n",
    "#             nn.BatchNorm1d(64),\n",
    "#             nn.LeakyReLU(), \n",
    "#             nn.Conv1d(64, out_channels=128,\n",
    "#                       kernel_size= 3, stride= 2, padding  = 1),\n",
    "#             nn.BatchNorm1d(128),\n",
    "#             nn.LeakyReLU(), \n",
    "#             nn.Conv1d(128, out_channels=256,\n",
    "#                       kernel_size= 3, stride= 2, padding  = 1),\n",
    "#             nn.BatchNorm1d(256),\n",
    "#             nn.LeakyReLU(),  \n",
    "#             nn.Conv1d(256, out_channels=512,\n",
    "#                       kernel_size= 3, stride= 2, padding  = 1),\n",
    "#             nn.BatchNorm1d(512),\n",
    "#             nn.LeakyReLU(), \n",
    "#             nn.Flatten() # 3584 out\n",
    "# )\n",
    "#         self.mnet = nn.Sequential(\n",
    "#             nn.LSTM(\n",
    "#                 input_size = 9,\n",
    "#                 hidden_size= 1, # hidden state features\n",
    "#                 num_layers = 1, # number of lstms stacked\n",
    "#                 bias = True,\n",
    "#                 batch_first = True, \n",
    "#                 dropout = 0, # dropouts between layers\n",
    "#                 bidirectional = False\n",
    "#             )\n",
    "#         )\n",
    "#         self.mnet_f = nn.Flatten()\n",
    "        \n",
    "#         self.xnet = nn.Sequential(\n",
    "#             nn.Linear(3950, 512),\n",
    "#             nn.ReLU(),\n",
    "#             nn.Linear(512, 64),\n",
    "#             nn.ReLU(),\n",
    "#             nn.Linear(64, 10)\n",
    "#         )\n",
    "\n",
    "#     def forward(self, ys, soil, met):\n",
    "# #         y_out = self.ynet(ys)\n",
    "#         y_out = ys\n",
    "#         s_out = self.snet(soil)\n",
    "#         m_out, _ = self.mnet(met)\n",
    "#         m_out = self.mnet_f(m_out)\n",
    "#         x_out = self.xnet(torch.concat([y_out[:, None], s_out, m_out], axis = 1))\n",
    "#         return(x_out)\n",
    "# # net = invApsimxNet()\n",
    "# # net = invApsimxNet().to(device)\n",
    "# # net(ys, soil, met).shape\n",
    "\n",
    "# def train_loop(dataloader, model, loss_fn, optimizer, silent = False):\n",
    "#     import torch\n",
    "#     from torch.utils.data import Dataset\n",
    "#     from torch.utils.data import DataLoader\n",
    "#     size = len(dataloader.dataset)\n",
    "#     for batch, (ys, soil, met, cult) in enumerate(dataloader):\n",
    "#         # Compute prediction and loss\n",
    "#         pred = model(ys, soil, met)\n",
    "#         loss = loss_fn(pred, cult)\n",
    "\n",
    "#         # Backpropagation\n",
    "# #         torch.autograd.set_detect_anomaly(True)\n",
    "#         optimizer.zero_grad()\n",
    "# #         loss.backward(retain_graph=True)\n",
    "#         loss.backward()\n",
    "#         optimizer.step()\n",
    "\n",
    "#         if batch % 100 == 0:\n",
    "#             loss, current = loss.item(), batch * len(ys)\n",
    "#             if not silent:\n",
    "#                 print(f\"loss: {loss:>7f}  [{current:>5d}/{size:>5d}]\")\n",
    "\n",
    "# def train_error(dataloader, model, loss_fn, silent = False):\n",
    "#     import torch\n",
    "#     from torch.utils.data import Dataset\n",
    "#     from torch.utils.data import DataLoader\n",
    "    \n",
    "#     size = len(dataloader.dataset)\n",
    "#     num_batches = len(dataloader)\n",
    "#     train_loss = 0\n",
    "\n",
    "#     with torch.no_grad():\n",
    "#         for ys, soil, met, cult in dataloader:\n",
    "#             pred = model(ys, soil, met)\n",
    "#             train_loss += loss_fn(pred, cult).item() # <----------------------\n",
    "            \n",
    "#     train_loss /= num_batches\n",
    "#     return(train_loss)\n",
    "\n",
    "\n",
    "# def test_loop(dataloader, model, loss_fn, silent = False):\n",
    "#     import torch\n",
    "#     from torch.utils.data import Dataset\n",
    "#     from torch.utils.data import DataLoader\n",
    "    \n",
    "#     size = len(dataloader.dataset)\n",
    "#     num_batches = len(dataloader)\n",
    "#     test_loss = 0\n",
    "\n",
    "#     with torch.no_grad():\n",
    "#         for ys, soil, met, cult in dataloader:\n",
    "#             pred = model(ys, soil, met)                \n",
    "#             test_loss += loss_fn(pred, cult).item() # <-----------------------\n",
    "\n",
    "#     test_loss /= num_batches\n",
    "#     if not silent:\n",
    "#         print(f\"Test Error: Avg loss: {test_loss:>8f}\")\n",
    "#     return(test_loss)\n",
    "\n",
    "\n",
    "# def train_nn(\n",
    "#     cache_path,\n",
    "#     training_dataloader,\n",
    "#     testing_dataloader,\n",
    "#     model,\n",
    "#     learning_rate = 1e-3,\n",
    "#     batch_size = 64,\n",
    "#     epochs = 500,\n",
    "#     model_prefix = 'model',\n",
    "#     save_pt = False\n",
    "# ):\n",
    "#     import numpy as np\n",
    "#     import pandas as pd\n",
    "#     import torch\n",
    "#     from torch import nn\n",
    "#     from tqdm import tqdm\n",
    "    \n",
    "#     # Initialize the loss function\n",
    "#     loss_fn = nn.MSELoss()\n",
    "\n",
    "# #     optimizer = torch.optim.SGD(model.parameters(), lr=learning_rate)\n",
    "#     optimizer = torch.optim.Adam(model.parameters(), lr=learning_rate, betas= [0.98752, 0.972311])\n",
    "\n",
    "#     loss_df = pd.DataFrame([i for i in range(epochs)], columns = ['Epoch'])\n",
    "#     loss_df['TrainMSE'] = np.nan\n",
    "#     loss_df['TestMSE']  = np.nan\n",
    "\n",
    "#     for t in tqdm(range(epochs)):        \n",
    "# #         print(f\"Epoch {t+1}\\n-------------------------------\")\n",
    "#         train_loop(training_dataloader, model, loss_fn, optimizer, silent = True)\n",
    "\n",
    "#         loss_df.loc[loss_df.index == t, 'TrainMSE'\n",
    "#                    ] = train_error(training_dataloader, model, loss_fn, silent = True)\n",
    "        \n",
    "#         loss_df.loc[loss_df.index == t, 'TestMSE'\n",
    "#                    ] = test_loop(testing_dataloader, model, loss_fn, silent = True)\n",
    "        \n",
    "#         if (t+1)%5 == 0: # Cache in case training is interupted. \n",
    "#             # print(loss_df.loc[loss_df.index == t, ['TrainMSE', 'TestMSE']])\n",
    "#             if save_pt:\n",
    "#                 torch.save(model.state_dict(), \n",
    "#                            cache_path+'/'+model_prefix+'_'+str(t)+'_'+str(epochs)+'.pt') # convention is to use .pt or .pth\n",
    "        \n",
    "#     return([model, loss_df])\n",
    "\n",
    "\n",
    "# def yhat_loop(dataloader, model):\n",
    "#     import numpy as np\n",
    "#     import pandas as pd\n",
    "#     import torch\n",
    "    \n",
    "#     size = len(dataloader.dataset)\n",
    "#     num_batches = len(dataloader)\n",
    "    \n",
    "#     y_true = np.array([])\n",
    "#     y_pred = np.array([])\n",
    "    \n",
    "#     with torch.no_grad():\n",
    "#         for ys, soil, met, cult in dataloader:\n",
    "#             yhat_i = model(ys, soil, met)\n",
    "#             y_pred = np.append(y_pred, np.array(yhat_i.cpu()))\n",
    "#             y_true = np.append(y_true, np.array(cult.cpu()))\n",
    "    \n",
    "#     out = np.concatenate([y_true[:, None], y_pred[:, None]], axis = 1) \n",
    "#     out = pd.DataFrame(out, columns = ['y_true', 'y_pred'])\n",
    "#     return(out)\n",
    "\n",
    "# model = invApsimxNet().to(device)\n",
    "\n",
    "# model, loss_df = train_nn(\n",
    "#         cache_path,\n",
    "#         training_dataloader,\n",
    "#         training_dataloader,\n",
    "#         model,\n",
    "#         learning_rate = 1e-3,\n",
    "#         batch_size = 500,\n",
    "#         epochs = 1\n",
    "#     )"
   ]
  },
  {
   "cell_type": "code",
   "execution_count": null,
   "id": "7bccb84e",
   "metadata": {},
   "outputs": [],
   "source": []
  },
  {
   "cell_type": "code",
   "execution_count": null,
   "id": "51eac885",
   "metadata": {},
   "outputs": [],
   "source": []
  },
  {
   "cell_type": "code",
   "execution_count": null,
   "id": "a6ee4fed",
   "metadata": {},
   "outputs": [],
   "source": []
  },
  {
   "cell_type": "code",
   "execution_count": null,
   "id": "ed4c8061",
   "metadata": {},
   "outputs": [],
   "source": []
  },
  {
   "cell_type": "code",
   "execution_count": null,
   "id": "87656688",
   "metadata": {},
   "outputs": [],
   "source": []
  },
  {
   "cell_type": "code",
   "execution_count": null,
   "id": "aec9457b",
   "metadata": {},
   "outputs": [],
   "source": []
  },
  {
   "cell_type": "code",
   "execution_count": null,
   "id": "d939f783",
   "metadata": {},
   "outputs": [],
   "source": []
  },
  {
   "cell_type": "code",
   "execution_count": null,
   "id": "c102843a",
   "metadata": {},
   "outputs": [],
   "source": []
  },
  {
   "cell_type": "code",
   "execution_count": null,
   "id": "8b200dc8",
   "metadata": {},
   "outputs": [],
   "source": []
  },
  {
   "cell_type": "code",
   "execution_count": null,
   "id": "e244df2e",
   "metadata": {},
   "outputs": [],
   "source": []
  }
 ],
 "metadata": {
  "kernelspec": {
   "display_name": "python3",
   "language": "python",
   "name": "python3"
  }
 },
 "nbformat": 4,
 "nbformat_minor": 5
}
