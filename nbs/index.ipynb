{
 "cells": [
  {
   "cell_type": "code",
   "execution_count": null,
   "metadata": {},
   "outputs": [],
   "source": [
    "#| hide\n",
    "from EnvDL.core import *"
   ]
  },
  {
   "cell_type": "markdown",
   "metadata": {},
   "source": [
    "# EnvDL\n",
    "\n",
    ">  This project aims to prototype approaches to be used in fulfilling the aims proposed in the grant \"Environmentally Aware Deep Learning Based Genomic Selection And Management Optimization For Maize Yield\""
   ]
  },
  {
   "cell_type": "markdown",
   "metadata": {},
   "source": [
    "Ultimately this project will be installable via pip with the following command. Note that this is not yet implemented."
   ]
  },
  {
   "cell_type": "markdown",
   "metadata": {},
   "source": [
    "## Install"
   ]
  },
  {
   "cell_type": "markdown",
   "metadata": {},
   "source": [
    "```sh\n",
    "# not implemented\n",
    "pip install EnvDL\n",
    "```"
   ]
  },
  {
   "cell_type": "markdown",
   "metadata": {},
   "source": [
    "## How to use"
   ]
  },
  {
   "cell_type": "markdown",
   "metadata": {},
   "source": [
    "This project is currently pre-release. Instructions on use will be added in the future."
   ]
  },
  {
   "cell_type": "markdown",
   "metadata": {},
   "source": [
    "## Project Structure"
   ]
  },
  {
   "cell_type": "markdown",
   "metadata": {},
   "source": [
    "\n",
    "The files of primary interest in this project are notebooks, external data, processed data, models, and artifacts from modeling. Additional files are produced by `nbdev` for building documentation, testing, and other tasks. This project is intended to applicable to multiple organisms. This long term goal motivates encapsulating data relevant to a species in a species subfolder even though only *Zea mays* is considered at present.\n",
    "\n",
    "Below is an outline to illustrate the project's target structure."
   ]
  },
  {
   "cell_type": "markdown",
   "metadata": {},
   "source": []
  },
  {
   "cell_type": "markdown",
   "metadata": {},
   "source": [
    "External Data (`data_ext`)\n",
    " - Subfolders for different species (Arabidopsis `ath`, Wheat `taes`, and Maize `zma` shown here)\n",
    " - Subfolders may contain data from public databases (cyverse, panzea, kegg, etc.) or data from specific studies or projects (g2fc being the Genomes to Fields 2023 competition). \n",
    " - Study data should be named according to the citation (e.g. `buckler_et_al_2009`) rather than the repository that the data is stored in (e.g. figshare, zenodo, etc.). \n",
    "\n",
    "Notebooks (`nbs`)\n",
    " - Where possible, analysis will be done in jupyter notebooks. \n",
    " - Notebooks follow a naming convention inspired by the [Johnny.Decimal](https://johnnydecimal.com/) system.\n",
    " - $\\color{red}{\\text{01}}\\color{black}{\\text{.}}\\color{black}{\\text{01}}\\color{black}{\\text{_g2fc_aggregation.ipynb}}$\n",
    "     - **Categories** group notebooks that are all related to the same dataset. This could be as broad as _all zma_ but is expected to be more narrowly defined as say all processing of data from _Tian et al. 2011_ or a unique combinations of studies.\n",
    "     - **Categories** should aim to be orthogonal (to the extent that is practical). Some functions may be shared, but it would be preferable for these to end up in a notebook in a mutually required category (e.g. `00.00_core.ipynb`). \n",
    " - $\\color{black}{\\text{01}}\\color{black}{\\text{.}}\\color{red}{\\text{01}}\\color{black}{\\text{_g2fc_aggregation.ipynb}}$\n",
    "     - **Areas** are ordinal and state a safe run order. Notebooks with higher area numbers may not require all those with lower area numbers to be run, but they should not depend on any higher ones.\n",
    "     - Running all notebooks below an area number should be _sufficient but not necessary_ to reproduce results.\n",
    " - $\\color{black}{\\text{01}}\\color{black}{\\text{.}}\\color{black}{\\text{01}}\\color{red}{\\text{_g2fc_aggregation.ipynb}}$\n",
    "     - A **description** makes this system navigable by summarizing what the notebook does. It contains some of the same information as the area (that the data scope is g2fc) but in a human friendly format.\n",
    "     \n",
    "Notebook Artifacts (`nbs_artifacts`)\n",
    " - Cleaned or otherwise transformed data from `ext_data` should be kept here. \n",
    " - Computational artifacts (e.g. pickled objects, figures, models) that are expensive to recompute should also be stored here. \n",
    " - To make the source of the objects clear, directory names match notebook names in `nbs`.\n",
    " - Notebooks of a higher category are allowed to draw from notebook artifacts of a lower category.\n"
   ]
  },
  {
   "cell_type": "markdown",
   "metadata": {},
   "source": [
    "Illustrative Directory Structure:\n",
    "```\n",
    ".\n",
    "\n",
    "├── data_ext\n",
    "│   ├── ath\n",
    "│   ├── taes\n",
    "│   └── zma\n",
    "│       ├── g2fc\n",
    "│       └── kegg\n",
    "├── nbs\n",
    "│   ├── 01.00_g2fc_core.ipynb\n",
    "│   ├── 01.01_g2fc_aggregation.ipynb\n",
    "│   ├── ...\n",
    "│   └── index.ipynb\n",
    "└── nbs_artifacts\n",
    "    ├── 01.01_g2fc_aggregation\n",
    "    │   ├── phno.csv\n",
    "    │   ├── phno_Envs_miss.csv\n",
    "    │   └── ...\n",
    "    └── ...    \n",
    "```"
   ]
  },
  {
   "cell_type": "code",
   "execution_count": null,
   "metadata": {},
   "outputs": [],
   "source": []
  }
 ],
 "metadata": {
  "kernelspec": {
   "display_name": "python3",
   "language": "python",
   "name": "python3"
  }
 },
 "nbformat": 4,
 "nbformat_minor": 4
}
